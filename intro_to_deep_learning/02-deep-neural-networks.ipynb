{
 "cells": [
  {
   "cell_type": "markdown",
   "id": "933a302d",
   "metadata": {
    "papermill": {
     "duration": 0.004918,
     "end_time": "2025-08-14T16:09:13.959882",
     "exception": false,
     "start_time": "2025-08-14T16:09:13.954964",
     "status": "completed"
    },
    "tags": []
   },
   "source": [
    "**This notebook is an exercise in the [Intro to Deep Learning](https://www.kaggle.com/learn/intro-to-deep-learning) course.  You can reference the tutorial at [this link](https://www.kaggle.com/ryanholbrook/deep-neural-networks).**\n",
    "\n",
    "---\n"
   ]
  },
  {
   "cell_type": "markdown",
   "id": "f8ce117e",
   "metadata": {
    "papermill": {
     "duration": 0.003916,
     "end_time": "2025-08-14T16:09:13.968497",
     "exception": false,
     "start_time": "2025-08-14T16:09:13.964581",
     "status": "completed"
    },
    "tags": []
   },
   "source": [
    "# Introduction #\n",
    "\n",
    "In the tutorial, we saw how to build deep neural networks by stacking layers inside a `Sequential` model. By adding an *activation function* after the hidden layers, we gave the network the ability to learn more complex (non-linear) relationships in the data.\n",
    "\n",
    "In these exercises, you'll build a neural network with several hidden layers and then explore some activation functions beyond ReLU. Run this next cell to set everything up!"
   ]
  },
  {
   "cell_type": "code",
   "execution_count": 1,
   "id": "46f4be45",
   "metadata": {
    "execution": {
     "iopub.execute_input": "2025-08-14T16:09:13.979150Z",
     "iopub.status.busy": "2025-08-14T16:09:13.978733Z",
     "iopub.status.idle": "2025-08-14T16:09:33.469207Z",
     "shell.execute_reply": "2025-08-14T16:09:33.467834Z"
    },
    "papermill": {
     "duration": 19.498906,
     "end_time": "2025-08-14T16:09:33.471759",
     "exception": false,
     "start_time": "2025-08-14T16:09:13.972853",
     "status": "completed"
    },
    "tags": []
   },
   "outputs": [
    {
     "name": "stderr",
     "output_type": "stream",
     "text": [
      "2025-08-14 16:09:16.908203: E external/local_xla/xla/stream_executor/cuda/cuda_dnn.cc:9261] Unable to register cuDNN factory: Attempting to register factory for plugin cuDNN when one has already been registered\n",
      "2025-08-14 16:09:16.908464: E external/local_xla/xla/stream_executor/cuda/cuda_fft.cc:607] Unable to register cuFFT factory: Attempting to register factory for plugin cuFFT when one has already been registered\n",
      "2025-08-14 16:09:17.098705: E external/local_xla/xla/stream_executor/cuda/cuda_blas.cc:1515] Unable to register cuBLAS factory: Attempting to register factory for plugin cuBLAS when one has already been registered\n"
     ]
    }
   ],
   "source": [
    "import tensorflow as tf\n",
    "\n",
    "# Setup plotting\n",
    "import matplotlib.pyplot as plt\n",
    "import seaborn as sns\n",
    "\n",
    "sns.set_theme(style=\"whitegrid\")\n",
    "# Set Matplotlib defaults\n",
    "plt.rc('figure', autolayout=True)\n",
    "plt.rc('axes', labelweight='bold', labelsize='large',\n",
    "       titleweight='bold', titlesize=18, titlepad=10)\n",
    "\n",
    "# Setup feedback system\n",
    "from learntools.core import binder\n",
    "binder.bind(globals())\n",
    "from learntools.deep_learning_intro.ex2 import *"
   ]
  },
  {
   "cell_type": "markdown",
   "id": "b0e9d051",
   "metadata": {
    "papermill": {
     "duration": 0.004253,
     "end_time": "2025-08-14T16:09:33.480808",
     "exception": false,
     "start_time": "2025-08-14T16:09:33.476555",
     "status": "completed"
    },
    "tags": []
   },
   "source": [
    "In the *Concrete* dataset, your task is to predict the compressive strength of concrete manufactured according to various recipes.\n",
    "\n",
    "Run the next code cell without changes to load the dataset."
   ]
  },
  {
   "cell_type": "code",
   "execution_count": 2,
   "id": "bc9b9408",
   "metadata": {
    "execution": {
     "iopub.execute_input": "2025-08-14T16:09:33.492383Z",
     "iopub.status.busy": "2025-08-14T16:09:33.490930Z",
     "iopub.status.idle": "2025-08-14T16:09:33.531436Z",
     "shell.execute_reply": "2025-08-14T16:09:33.530183Z"
    },
    "papermill": {
     "duration": 0.048749,
     "end_time": "2025-08-14T16:09:33.533952",
     "exception": false,
     "start_time": "2025-08-14T16:09:33.485203",
     "status": "completed"
    },
    "tags": []
   },
   "outputs": [
    {
     "data": {
      "text/html": [
       "<div>\n",
       "<style scoped>\n",
       "    .dataframe tbody tr th:only-of-type {\n",
       "        vertical-align: middle;\n",
       "    }\n",
       "\n",
       "    .dataframe tbody tr th {\n",
       "        vertical-align: top;\n",
       "    }\n",
       "\n",
       "    .dataframe thead th {\n",
       "        text-align: right;\n",
       "    }\n",
       "</style>\n",
       "<table border=\"1\" class=\"dataframe\">\n",
       "  <thead>\n",
       "    <tr style=\"text-align: right;\">\n",
       "      <th></th>\n",
       "      <th>Cement</th>\n",
       "      <th>BlastFurnaceSlag</th>\n",
       "      <th>FlyAsh</th>\n",
       "      <th>Water</th>\n",
       "      <th>Superplasticizer</th>\n",
       "      <th>CoarseAggregate</th>\n",
       "      <th>FineAggregate</th>\n",
       "      <th>Age</th>\n",
       "      <th>CompressiveStrength</th>\n",
       "    </tr>\n",
       "  </thead>\n",
       "  <tbody>\n",
       "    <tr>\n",
       "      <th>0</th>\n",
       "      <td>540.0</td>\n",
       "      <td>0.0</td>\n",
       "      <td>0.0</td>\n",
       "      <td>162.0</td>\n",
       "      <td>2.5</td>\n",
       "      <td>1040.0</td>\n",
       "      <td>676.0</td>\n",
       "      <td>28</td>\n",
       "      <td>79.99</td>\n",
       "    </tr>\n",
       "    <tr>\n",
       "      <th>1</th>\n",
       "      <td>540.0</td>\n",
       "      <td>0.0</td>\n",
       "      <td>0.0</td>\n",
       "      <td>162.0</td>\n",
       "      <td>2.5</td>\n",
       "      <td>1055.0</td>\n",
       "      <td>676.0</td>\n",
       "      <td>28</td>\n",
       "      <td>61.89</td>\n",
       "    </tr>\n",
       "    <tr>\n",
       "      <th>2</th>\n",
       "      <td>332.5</td>\n",
       "      <td>142.5</td>\n",
       "      <td>0.0</td>\n",
       "      <td>228.0</td>\n",
       "      <td>0.0</td>\n",
       "      <td>932.0</td>\n",
       "      <td>594.0</td>\n",
       "      <td>270</td>\n",
       "      <td>40.27</td>\n",
       "    </tr>\n",
       "    <tr>\n",
       "      <th>3</th>\n",
       "      <td>332.5</td>\n",
       "      <td>142.5</td>\n",
       "      <td>0.0</td>\n",
       "      <td>228.0</td>\n",
       "      <td>0.0</td>\n",
       "      <td>932.0</td>\n",
       "      <td>594.0</td>\n",
       "      <td>365</td>\n",
       "      <td>41.05</td>\n",
       "    </tr>\n",
       "    <tr>\n",
       "      <th>4</th>\n",
       "      <td>198.6</td>\n",
       "      <td>132.4</td>\n",
       "      <td>0.0</td>\n",
       "      <td>192.0</td>\n",
       "      <td>0.0</td>\n",
       "      <td>978.4</td>\n",
       "      <td>825.5</td>\n",
       "      <td>360</td>\n",
       "      <td>44.30</td>\n",
       "    </tr>\n",
       "  </tbody>\n",
       "</table>\n",
       "</div>"
      ],
      "text/plain": [
       "   Cement  BlastFurnaceSlag  FlyAsh  Water  Superplasticizer  CoarseAggregate  \\\n",
       "0   540.0               0.0     0.0  162.0               2.5           1040.0   \n",
       "1   540.0               0.0     0.0  162.0               2.5           1055.0   \n",
       "2   332.5             142.5     0.0  228.0               0.0            932.0   \n",
       "3   332.5             142.5     0.0  228.0               0.0            932.0   \n",
       "4   198.6             132.4     0.0  192.0               0.0            978.4   \n",
       "\n",
       "   FineAggregate  Age  CompressiveStrength  \n",
       "0          676.0   28                79.99  \n",
       "1          676.0   28                61.89  \n",
       "2          594.0  270                40.27  \n",
       "3          594.0  365                41.05  \n",
       "4          825.5  360                44.30  "
      ]
     },
     "execution_count": 2,
     "metadata": {},
     "output_type": "execute_result"
    }
   ],
   "source": [
    "import pandas as pd\n",
    "\n",
    "concrete = pd.read_csv('../input/dl-course-data/concrete.csv')\n",
    "concrete.head()"
   ]
  },
  {
   "cell_type": "markdown",
   "id": "0c6f2aa4",
   "metadata": {
    "papermill": {
     "duration": 0.004429,
     "end_time": "2025-08-14T16:09:33.543254",
     "exception": false,
     "start_time": "2025-08-14T16:09:33.538825",
     "status": "completed"
    },
    "tags": []
   },
   "source": [
    "# 1) Input Shape #\n",
    "\n",
    "The target for this task is the column `'CompressiveStrength'`. The remaining columns are the features we'll use as inputs.\n",
    "\n",
    "What would be the input shape for this dataset?"
   ]
  },
  {
   "cell_type": "code",
   "execution_count": 3,
   "id": "477508b9",
   "metadata": {
    "execution": {
     "iopub.execute_input": "2025-08-14T16:09:33.556139Z",
     "iopub.status.busy": "2025-08-14T16:09:33.555743Z",
     "iopub.status.idle": "2025-08-14T16:09:33.566443Z",
     "shell.execute_reply": "2025-08-14T16:09:33.565071Z"
    },
    "lines_to_next_cell": 2,
    "papermill": {
     "duration": 0.02058,
     "end_time": "2025-08-14T16:09:33.569067",
     "exception": false,
     "start_time": "2025-08-14T16:09:33.548487",
     "status": "completed"
    },
    "tags": []
   },
   "outputs": [
    {
     "data": {
      "application/javascript": [
       "parent.postMessage({\"jupyterEvent\": \"custom.exercise_interaction\", \"data\": {\"outcomeType\": 1, \"valueTowardsCompletion\": 0.3333333333333333, \"interactionType\": 1, \"questionType\": 2, \"questionId\": \"1_Q1\", \"learnToolsVersion\": \"0.3.4\", \"failureMessage\": \"\", \"exceptionClass\": \"\", \"trace\": \"\"}}, \"*\")"
      ],
      "text/plain": [
       "<IPython.core.display.Javascript object>"
      ]
     },
     "metadata": {},
     "output_type": "display_data"
    },
    {
     "data": {
      "text/markdown": [
       "<span style=\"color:#33cc33\">Correct</span>"
      ],
      "text/plain": [
       "Correct"
      ]
     },
     "metadata": {},
     "output_type": "display_data"
    }
   ],
   "source": [
    "# YOUR CODE HERE\n",
    "input_shape = [concrete.shape[1] - 1]\n",
    "\n",
    "# Check your answer\n",
    "q_1.check()"
   ]
  },
  {
   "cell_type": "code",
   "execution_count": 4,
   "id": "118d606b",
   "metadata": {
    "execution": {
     "iopub.execute_input": "2025-08-14T16:09:33.581134Z",
     "iopub.status.busy": "2025-08-14T16:09:33.580724Z",
     "iopub.status.idle": "2025-08-14T16:09:33.592689Z",
     "shell.execute_reply": "2025-08-14T16:09:33.591684Z"
    },
    "papermill": {
     "duration": 0.020762,
     "end_time": "2025-08-14T16:09:33.595061",
     "exception": false,
     "start_time": "2025-08-14T16:09:33.574299",
     "status": "completed"
    },
    "tags": []
   },
   "outputs": [
    {
     "data": {
      "application/javascript": [
       "parent.postMessage({\"jupyterEvent\": \"custom.exercise_interaction\", \"data\": {\"interactionType\": 2, \"questionType\": 2, \"questionId\": \"1_Q1\", \"learnToolsVersion\": \"0.3.4\", \"valueTowardsCompletion\": 0.0, \"failureMessage\": \"\", \"exceptionClass\": \"\", \"trace\": \"\", \"outcomeType\": 4}}, \"*\")"
      ],
      "text/plain": [
       "<IPython.core.display.Javascript object>"
      ]
     },
     "metadata": {},
     "output_type": "display_data"
    },
    {
     "data": {
      "text/markdown": [
       "<span style=\"color:#3366cc\">Hint:</span> Remember to *only* count the input features when determining `input_shape`. You should not count the target (the `CompressiveStrength` column)."
      ],
      "text/plain": [
       "Hint: Remember to *only* count the input features when determining `input_shape`. You should not count the target (the `CompressiveStrength` column)."
      ]
     },
     "metadata": {},
     "output_type": "display_data"
    },
    {
     "data": {
      "application/javascript": [
       "parent.postMessage({\"jupyterEvent\": \"custom.exercise_interaction\", \"data\": {\"interactionType\": 3, \"questionType\": 2, \"questionId\": \"1_Q1\", \"learnToolsVersion\": \"0.3.4\", \"valueTowardsCompletion\": 0.0, \"failureMessage\": \"\", \"exceptionClass\": \"\", \"trace\": \"\", \"outcomeType\": 4}}, \"*\")"
      ],
      "text/plain": [
       "<IPython.core.display.Javascript object>"
      ]
     },
     "metadata": {},
     "output_type": "display_data"
    },
    {
     "data": {
      "text/markdown": [
       "<span style=\"color:#33cc99\">Solution:</span> \n",
       "```python\n",
       "\n",
       "input_shape = [8]\n",
       "# you could also use a 1-tuple, like input_shape = (8,)\n",
       "\n",
       "```"
      ],
      "text/plain": [
       "Solution: \n",
       "```python\n",
       "\n",
       "input_shape = [8]\n",
       "# you could also use a 1-tuple, like input_shape = (8,)\n",
       "\n",
       "```"
      ]
     },
     "metadata": {},
     "output_type": "display_data"
    }
   ],
   "source": [
    "# Lines below will give you a hint or solution code\n",
    "q_1.hint()\n",
    "q_1.solution()"
   ]
  },
  {
   "cell_type": "markdown",
   "id": "cde948f5",
   "metadata": {
    "papermill": {
     "duration": 0.005346,
     "end_time": "2025-08-14T16:09:33.605865",
     "exception": false,
     "start_time": "2025-08-14T16:09:33.600519",
     "status": "completed"
    },
    "tags": []
   },
   "source": [
    "# 2) Define a Model with Hidden Layers #\n",
    "\n",
    "Now create a model with three hidden layers, each having 512 units and the ReLU activation.  Be sure to include an output layer of one unit and no activation, and also `input_shape` as an argument to the first layer."
   ]
  },
  {
   "cell_type": "code",
   "execution_count": 5,
   "id": "c7f2c213",
   "metadata": {
    "execution": {
     "iopub.execute_input": "2025-08-14T16:09:33.618086Z",
     "iopub.status.busy": "2025-08-14T16:09:33.617716Z",
     "iopub.status.idle": "2025-08-14T16:09:34.177692Z",
     "shell.execute_reply": "2025-08-14T16:09:34.176160Z"
    },
    "lines_to_next_cell": 0,
    "papermill": {
     "duration": 0.568844,
     "end_time": "2025-08-14T16:09:34.179945",
     "exception": false,
     "start_time": "2025-08-14T16:09:33.611101",
     "status": "completed"
    },
    "tags": []
   },
   "outputs": [
    {
     "data": {
      "application/javascript": [
       "parent.postMessage({\"jupyterEvent\": \"custom.exercise_interaction\", \"data\": {\"outcomeType\": 1, \"valueTowardsCompletion\": 0.3333333333333333, \"interactionType\": 1, \"questionType\": 2, \"questionId\": \"2_Q2\", \"learnToolsVersion\": \"0.3.4\", \"failureMessage\": \"\", \"exceptionClass\": \"\", \"trace\": \"\"}}, \"*\")"
      ],
      "text/plain": [
       "<IPython.core.display.Javascript object>"
      ]
     },
     "metadata": {},
     "output_type": "display_data"
    },
    {
     "data": {
      "text/markdown": [
       "<span style=\"color:#33cc33\">Correct</span>"
      ],
      "text/plain": [
       "Correct"
      ]
     },
     "metadata": {},
     "output_type": "display_data"
    }
   ],
   "source": [
    "from tensorflow import keras\n",
    "from tensorflow.keras import layers\n",
    "\n",
    "# YOUR CODE HERE\n",
    "model = keras.Sequential([\n",
    "    layers.Dense(units = 512, input_shape = input_shape, activation = \"relu\"),\n",
    "    layers.Dense(units = 512, activation = \"relu\"),\n",
    "    layers.Dense(units = 512, activation = \"relu\"),\n",
    "    layers.Dense(units = 1)\n",
    "])\n",
    "\n",
    "# Check your answer\n",
    "q_2.check()"
   ]
  },
  {
   "cell_type": "code",
   "execution_count": 6,
   "id": "dc1db28d",
   "metadata": {
    "execution": {
     "iopub.execute_input": "2025-08-14T16:09:34.199353Z",
     "iopub.status.busy": "2025-08-14T16:09:34.198881Z",
     "iopub.status.idle": "2025-08-14T16:09:34.213183Z",
     "shell.execute_reply": "2025-08-14T16:09:34.212023Z"
    },
    "papermill": {
     "duration": 0.024403,
     "end_time": "2025-08-14T16:09:34.215905",
     "exception": false,
     "start_time": "2025-08-14T16:09:34.191502",
     "status": "completed"
    },
    "tags": []
   },
   "outputs": [
    {
     "data": {
      "application/javascript": [
       "parent.postMessage({\"jupyterEvent\": \"custom.exercise_interaction\", \"data\": {\"interactionType\": 2, \"questionType\": 2, \"questionId\": \"2_Q2\", \"learnToolsVersion\": \"0.3.4\", \"valueTowardsCompletion\": 0.0, \"failureMessage\": \"\", \"exceptionClass\": \"\", \"trace\": \"\", \"outcomeType\": 4}}, \"*\")"
      ],
      "text/plain": [
       "<IPython.core.display.Javascript object>"
      ]
     },
     "metadata": {},
     "output_type": "display_data"
    },
    {
     "data": {
      "text/markdown": [
       "<span style=\"color:#3366cc\">Hint:</span> Your answer should look something like:\n",
       "```python\n",
       "model = keras.Sequential([\n",
       "    ____\n",
       "])\n",
       "```\n"
      ],
      "text/plain": [
       "Hint: Your answer should look something like:\n",
       "```python\n",
       "model = keras.Sequential([\n",
       "    ____\n",
       "])\n",
       "```"
      ]
     },
     "metadata": {},
     "output_type": "display_data"
    },
    {
     "data": {
      "application/javascript": [
       "parent.postMessage({\"jupyterEvent\": \"custom.exercise_interaction\", \"data\": {\"interactionType\": 3, \"questionType\": 2, \"questionId\": \"2_Q2\", \"learnToolsVersion\": \"0.3.4\", \"valueTowardsCompletion\": 0.0, \"failureMessage\": \"\", \"exceptionClass\": \"\", \"trace\": \"\", \"outcomeType\": 4}}, \"*\")"
      ],
      "text/plain": [
       "<IPython.core.display.Javascript object>"
      ]
     },
     "metadata": {},
     "output_type": "display_data"
    },
    {
     "data": {
      "text/markdown": [
       "<span style=\"color:#33cc99\">Solution:</span> \n",
       "```python\n",
       "\n",
       "from tensorflow import keras\n",
       "from tensorflow.keras import layers\n",
       "\n",
       "model = keras.Sequential([\n",
       "    layers.Dense(512, activation='relu', input_shape=input_shape),\n",
       "    layers.Dense(512, activation='relu'),\n",
       "    layers.Dense(512, activation='relu'),    \n",
       "    layers.Dense(1),\n",
       "])\n",
       "\n",
       "```"
      ],
      "text/plain": [
       "Solution: \n",
       "```python\n",
       "\n",
       "from tensorflow import keras\n",
       "from tensorflow.keras import layers\n",
       "\n",
       "model = keras.Sequential([\n",
       "    layers.Dense(512, activation='relu', input_shape=input_shape),\n",
       "    layers.Dense(512, activation='relu'),\n",
       "    layers.Dense(512, activation='relu'),    \n",
       "    layers.Dense(1),\n",
       "])\n",
       "\n",
       "```"
      ]
     },
     "metadata": {},
     "output_type": "display_data"
    }
   ],
   "source": [
    "# Lines below will give you a hint or solution code\n",
    "q_2.hint()\n",
    "q_2.solution()"
   ]
  },
  {
   "cell_type": "markdown",
   "id": "bb7b2d1a",
   "metadata": {
    "papermill": {
     "duration": 0.006848,
     "end_time": "2025-08-14T16:09:34.229556",
     "exception": false,
     "start_time": "2025-08-14T16:09:34.222708",
     "status": "completed"
    },
    "tags": []
   },
   "source": [
    "# 3) Activation Layers #\n",
    "\n",
    "Let's explore activations functions some.\n",
    "\n",
    "The usual way of attaching an activation function to a `Dense` layer is to include it as part of the definition with the `activation` argument. Sometimes though you'll want to put some other layer between the `Dense` layer and its activation function. (We'll see an example of this in Lesson 5 with *batch normalization*.) In this case, we can define the activation in its own `Activation` layer, like so:\n",
    "\n",
    "```\n",
    "layers.Dense(units=8),\n",
    "layers.Activation('relu')\n",
    "```\n",
    "\n",
    "This is completely equivalent to the ordinary way: `layers.Dense(units=8, activation='relu')`.\n",
    "\n",
    "Rewrite the following model so that each activation is in its own `Activation` layer."
   ]
  },
  {
   "cell_type": "code",
   "execution_count": 7,
   "id": "cdf2c56e",
   "metadata": {
    "execution": {
     "iopub.execute_input": "2025-08-14T16:09:34.244808Z",
     "iopub.status.busy": "2025-08-14T16:09:34.244449Z",
     "iopub.status.idle": "2025-08-14T16:09:34.309849Z",
     "shell.execute_reply": "2025-08-14T16:09:34.308744Z"
    },
    "lines_to_next_cell": 0,
    "papermill": {
     "duration": 0.075925,
     "end_time": "2025-08-14T16:09:34.312460",
     "exception": false,
     "start_time": "2025-08-14T16:09:34.236535",
     "status": "completed"
    },
    "tags": []
   },
   "outputs": [
    {
     "data": {
      "application/javascript": [
       "parent.postMessage({\"jupyterEvent\": \"custom.exercise_interaction\", \"data\": {\"outcomeType\": 1, \"valueTowardsCompletion\": 0.3333333333333333, \"interactionType\": 1, \"questionType\": 2, \"questionId\": \"3_Q3\", \"learnToolsVersion\": \"0.3.4\", \"failureMessage\": \"\", \"exceptionClass\": \"\", \"trace\": \"\"}}, \"*\")"
      ],
      "text/plain": [
       "<IPython.core.display.Javascript object>"
      ]
     },
     "metadata": {},
     "output_type": "display_data"
    },
    {
     "data": {
      "text/markdown": [
       "<span style=\"color:#33cc33\">Correct</span>"
      ],
      "text/plain": [
       "Correct"
      ]
     },
     "metadata": {},
     "output_type": "display_data"
    }
   ],
   "source": [
    "### YOUR CODE HERE: rewrite this to use activation layers\n",
    "model = keras.Sequential([\n",
    "    layers.Dense(32, input_shape=[8]),\n",
    "    layers.Activation(\"relu\"),\n",
    "    layers.Dense(32),\n",
    "    layers.Activation(\"relu\"),\n",
    "    layers.Dense(1),\n",
    "])\n",
    "\n",
    "# Check your answer\n",
    "q_3.check()"
   ]
  },
  {
   "cell_type": "code",
   "execution_count": 8,
   "id": "0023dc78",
   "metadata": {
    "execution": {
     "iopub.execute_input": "2025-08-14T16:09:34.327330Z",
     "iopub.status.busy": "2025-08-14T16:09:34.326231Z",
     "iopub.status.idle": "2025-08-14T16:09:34.338743Z",
     "shell.execute_reply": "2025-08-14T16:09:34.337660Z"
    },
    "papermill": {
     "duration": 0.022474,
     "end_time": "2025-08-14T16:09:34.341165",
     "exception": false,
     "start_time": "2025-08-14T16:09:34.318691",
     "status": "completed"
    },
    "tags": []
   },
   "outputs": [
    {
     "data": {
      "application/javascript": [
       "parent.postMessage({\"jupyterEvent\": \"custom.exercise_interaction\", \"data\": {\"interactionType\": 2, \"questionType\": 2, \"questionId\": \"3_Q3\", \"learnToolsVersion\": \"0.3.4\", \"valueTowardsCompletion\": 0.0, \"failureMessage\": \"\", \"exceptionClass\": \"\", \"trace\": \"\", \"outcomeType\": 4}}, \"*\")"
      ],
      "text/plain": [
       "<IPython.core.display.Javascript object>"
      ]
     },
     "metadata": {},
     "output_type": "display_data"
    },
    {
     "data": {
      "text/markdown": [
       "<span style=\"color:#3366cc\">Hint:</span> Your model should look something like:\n",
       "```python\n",
       "model = keras.Sequential([\n",
       "    layers.Dense(____),\n",
       "    layers.Activation(____),\n",
       "    layers.Dense(____),\n",
       "    layers.Activation(____),\n",
       "    layers.Dense(1),\n",
       "])\n",
       "```\n"
      ],
      "text/plain": [
       "Hint: Your model should look something like:\n",
       "```python\n",
       "model = keras.Sequential([\n",
       "    layers.Dense(____),\n",
       "    layers.Activation(____),\n",
       "    layers.Dense(____),\n",
       "    layers.Activation(____),\n",
       "    layers.Dense(1),\n",
       "])\n",
       "```"
      ]
     },
     "metadata": {},
     "output_type": "display_data"
    },
    {
     "data": {
      "application/javascript": [
       "parent.postMessage({\"jupyterEvent\": \"custom.exercise_interaction\", \"data\": {\"interactionType\": 3, \"questionType\": 2, \"questionId\": \"3_Q3\", \"learnToolsVersion\": \"0.3.4\", \"valueTowardsCompletion\": 0.0, \"failureMessage\": \"\", \"exceptionClass\": \"\", \"trace\": \"\", \"outcomeType\": 4}}, \"*\")"
      ],
      "text/plain": [
       "<IPython.core.display.Javascript object>"
      ]
     },
     "metadata": {},
     "output_type": "display_data"
    },
    {
     "data": {
      "text/markdown": [
       "<span style=\"color:#33cc99\">Solution:</span> \n",
       "```python\n",
       "\n",
       "model = keras.Sequential([\n",
       "    layers.Dense(32, input_shape=[8]),\n",
       "    layers.Activation('relu'),\n",
       "    layers.Dense(32),\n",
       "    layers.Activation('relu'),\n",
       "    layers.Dense(1),\n",
       "])\n",
       "\n",
       "```"
      ],
      "text/plain": [
       "Solution: \n",
       "```python\n",
       "\n",
       "model = keras.Sequential([\n",
       "    layers.Dense(32, input_shape=[8]),\n",
       "    layers.Activation('relu'),\n",
       "    layers.Dense(32),\n",
       "    layers.Activation('relu'),\n",
       "    layers.Dense(1),\n",
       "])\n",
       "\n",
       "```"
      ]
     },
     "metadata": {},
     "output_type": "display_data"
    }
   ],
   "source": [
    "# Lines below will give you a hint or solution code\n",
    "q_3.hint()\n",
    "q_3.solution()"
   ]
  },
  {
   "cell_type": "markdown",
   "id": "6484aac7",
   "metadata": {
    "papermill": {
     "duration": 0.006135,
     "end_time": "2025-08-14T16:09:34.353801",
     "exception": false,
     "start_time": "2025-08-14T16:09:34.347666",
     "status": "completed"
    },
    "tags": []
   },
   "source": [
    "# Optional: Alternatives to ReLU #\n",
    "\n",
    "There is a whole family of variants of the `'relu'` activation -- `'elu'`, `'selu'`, and `'swish'`, among others -- all of which you can use in Keras. Sometimes one activation will perform better than another on a given task, so you could consider experimenting with activations as you develop a model. The ReLU activation tends to do well on most problems, so it's a good one to start with.\n",
    "\n",
    "Let's look at the graphs of some of these. Change the activation from `'relu'` to one of the others named above. Then run the cell to see the graph. (Check out the [documentation](https://www.tensorflow.org/api_docs/python/tf/keras/activations) for more ideas.)"
   ]
  },
  {
   "cell_type": "code",
   "execution_count": 9,
   "id": "1d6d0201",
   "metadata": {
    "execution": {
     "iopub.execute_input": "2025-08-14T16:09:34.368482Z",
     "iopub.status.busy": "2025-08-14T16:09:34.368059Z",
     "iopub.status.idle": "2025-08-14T16:09:34.828388Z",
     "shell.execute_reply": "2025-08-14T16:09:34.827103Z"
    },
    "lines_to_next_cell": 0,
    "papermill": {
     "duration": 0.470647,
     "end_time": "2025-08-14T16:09:34.830883",
     "exception": false,
     "start_time": "2025-08-14T16:09:34.360236",
     "status": "completed"
    },
    "tags": []
   },
   "outputs": [
    {
     "data": {
      "image/png": "[encoded data removed]",
      "text/plain": [
       "<Figure size 640x480 with 1 Axes>"
      ]
     },
     "metadata": {},
     "output_type": "display_data"
    }
   ],
   "source": [
    "# YOUR CODE HERE: Change 'relu' to 'elu', 'selu', 'swish'... or something else\n",
    "activation_layer = layers.Activation('relu')\n",
    "\n",
    "x = tf.linspace(-3.0, 3.0, 100)\n",
    "y = activation_layer(x) # once created, a layer is callable just like a function\n",
    "\n",
    "plt.figure(dpi=100)\n",
    "plt.plot(x, y)\n",
    "plt.xlim(-3, 3)\n",
    "plt.xlabel(\"Input\")\n",
    "plt.ylabel(\"Output\")\n",
    "plt.show()"
   ]
  },
  {
   "cell_type": "code",
   "execution_count": 10,
   "id": "03841e2b",
   "metadata": {
    "execution": {
     "iopub.execute_input": "2025-08-14T16:09:34.847492Z",
     "iopub.status.busy": "2025-08-14T16:09:34.847032Z",
     "iopub.status.idle": "2025-08-14T16:09:35.200605Z",
     "shell.execute_reply": "2025-08-14T16:09:35.198739Z"
    },
    "papermill": {
     "duration": 0.366639,
     "end_time": "2025-08-14T16:09:35.204353",
     "exception": false,
     "start_time": "2025-08-14T16:09:34.837714",
     "status": "completed"
    },
    "tags": []
   },
   "outputs": [
    {
     "data": {
      "image/png": "[encoded data removed]",
      "text/plain": [
       "<Figure size 640x480 with 1 Axes>"
      ]
     },
     "metadata": {},
     "output_type": "display_data"
    }
   ],
   "source": [
    "# YOUR CODE HERE: Change 'relu' to 'elu', 'selu', 'swish'... or something else\n",
    "activation_layer = layers.Activation('elu')\n",
    "\n",
    "x = tf.linspace(-3.0, 3.0, 100)\n",
    "y = activation_layer(x) # once created, a layer is callable just like a function\n",
    "\n",
    "plt.figure(dpi=100)\n",
    "plt.plot(x, y)\n",
    "plt.xlim(-3, 3)\n",
    "plt.xlabel(\"Input\")\n",
    "plt.ylabel(\"Output\")\n",
    "plt.show()"
   ]
  },
  {
   "cell_type": "code",
   "execution_count": 11,
   "id": "8f388b77",
   "metadata": {
    "execution": {
     "iopub.execute_input": "2025-08-14T16:09:35.232535Z",
     "iopub.status.busy": "2025-08-14T16:09:35.231827Z",
     "iopub.status.idle": "2025-08-14T16:09:35.561936Z",
     "shell.execute_reply": "2025-08-14T16:09:35.560815Z"
    },
    "papermill": {
     "duration": 0.349314,
     "end_time": "2025-08-14T16:09:35.564502",
     "exception": false,
     "start_time": "2025-08-14T16:09:35.215188",
     "status": "completed"
    },
    "tags": []
   },
   "outputs": [
    {
     "data": {
      "image/png": "[encoded data removed]",
      "text/plain": [
       "<Figure size 640x480 with 1 Axes>"
      ]
     },
     "metadata": {},
     "output_type": "display_data"
    }
   ],
   "source": [
    "# YOUR CODE HERE: Change 'relu' to 'elu', 'selu', 'swish'... or something else\n",
    "activation_layer = layers.Activation('selu')\n",
    "\n",
    "x = tf.linspace(-3.0, 3.0, 100)\n",
    "y = activation_layer(x) # once created, a layer is callable just like a function\n",
    "\n",
    "plt.figure(dpi=100)\n",
    "plt.plot(x, y)\n",
    "plt.xlim(-3, 3)\n",
    "plt.xlabel(\"Input\")\n",
    "plt.ylabel(\"Output\")\n",
    "plt.show()"
   ]
  },
  {
   "cell_type": "code",
   "execution_count": 12,
   "id": "3d339dbe",
   "metadata": {
    "execution": {
     "iopub.execute_input": "2025-08-14T16:09:35.582770Z",
     "iopub.status.busy": "2025-08-14T16:09:35.582353Z",
     "iopub.status.idle": "2025-08-14T16:09:35.930023Z",
     "shell.execute_reply": "2025-08-14T16:09:35.928525Z"
    },
    "papermill": {
     "duration": 0.359798,
     "end_time": "2025-08-14T16:09:35.932577",
     "exception": false,
     "start_time": "2025-08-14T16:09:35.572779",
     "status": "completed"
    },
    "tags": []
   },
   "outputs": [
    {
     "data": {
      "image/png": "[encoded data removed]",
      "text/plain": [
       "<Figure size 640x480 with 1 Axes>"
      ]
     },
     "metadata": {},
     "output_type": "display_data"
    }
   ],
   "source": [
    "# YOUR CODE HERE: Change 'relu' to 'elu', 'selu', 'swish'... or something else\n",
    "activation_layer = layers.Activation('swish')\n",
    "\n",
    "x = tf.linspace(-3.0, 3.0, 100)\n",
    "y = activation_layer(x) # once created, a layer is callable just like a function\n",
    "\n",
    "plt.figure(dpi=100)\n",
    "plt.plot(x, y)\n",
    "plt.xlim(-3, 3)\n",
    "plt.xlabel(\"Input\")\n",
    "plt.ylabel(\"Output\")\n",
    "plt.show()"
   ]
  },
  {
   "cell_type": "markdown",
   "id": "51b13596",
   "metadata": {
    "papermill": {
     "duration": 0.007944,
     "end_time": "2025-08-14T16:09:35.949137",
     "exception": false,
     "start_time": "2025-08-14T16:09:35.941193",
     "status": "completed"
    },
    "tags": []
   },
   "source": [
    "# Keep Going #\n",
    "\n",
    "Now move on to Lesson 3 and [**learn how to train neural networks**](https://www.kaggle.com/ryanholbrook/stochastic-gradient-descent) with stochastic gradient descent."
   ]
  },
  {
   "cell_type": "markdown",
   "id": "79ac5ac7",
   "metadata": {
    "papermill": {
     "duration": 0.008842,
     "end_time": "2025-08-14T16:09:35.966334",
     "exception": false,
     "start_time": "2025-08-14T16:09:35.957492",
     "status": "completed"
    },
    "tags": []
   },
   "source": [
    "---\n",
    "\n",
    "\n",
    "\n",
    "\n",
    "*Have questions or comments? Visit the [course discussion forum](https://www.kaggle.com/learn/intro-to-deep-learning/discussion) to chat with other learners.*"
   ]
  }
 ],
 "metadata": {
  "jupytext": {
   "cell_metadata_filter": "-all",
   "formats": "ipynb"
  },
  "kaggle": {
   "accelerator": "none",
   "dataSources": [
    {
     "datasetId": 829369,
     "sourceId": 1480608,
     "sourceType": "datasetVersion"
    }
   ],
   "dockerImageVersionId": 30646,
   "isGpuEnabled": false,
   "isInternetEnabled": false,
   "language": "python",
   "sourceType": "notebook"
  },
  "kernelspec": {
   "display_name": "Python 3",
   "language": "python",
   "name": "python3"
  },
  "language_info": {
   "codemirror_mode": {
    "name": "ipython",
    "version": 3
   },
   "file_extension": ".py",
   "mimetype": "text/x-python",
   "name": "python",
   "nbconvert_exporter": "python",
   "pygments_lexer": "ipython3",
   "version": "3.10.13"
  },
  "papermill": {
   "default_parameters": {},
   "duration": 27.523907,
   "end_time": "2025-08-14T16:09:37.702500",
   "environment_variables": {},
   "exception": null,
   "input_path": "__notebook__.ipynb",
   "output_path": "__notebook__.ipynb",
   "parameters": {},
   "start_time": "2025-08-14T16:09:10.178593",
   "version": "2.5.0"
  }
 },
 "nbformat": 4,
 "nbformat_minor": 5
}
