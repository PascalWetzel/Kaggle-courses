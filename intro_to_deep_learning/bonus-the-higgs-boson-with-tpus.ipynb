{
 "cells": [
  {
   "cell_type": "markdown",
   "id": "27e949ff",
   "metadata": {
    "papermill": {
     "duration": 0.003886,
     "end_time": "2025-08-18T13:52:09.039115",
     "exception": false,
     "start_time": "2025-08-18T13:52:09.035229",
     "status": "completed"
    },
    "tags": []
   },
   "source": [
    "# Searching for the Higgs Boson #\n",
    "\n",
    "The Standard Model is a theory in particle physics that describes some of the most basic forces of nature. One fundamental particle, the Higgs boson, is what accounts for the *mass* of matter. First theorized in the 1964, the Higgs boson eluded observation for almost fifty years. In 2012 it was finally observed experimentally at the Large Hadron Collider. These experiments produced millions of gigabytes of data.\n",
    "\n",
    "Large and complicated datasets like these are where deep learning excels. In this notebook, we'll build a Wide and Deep neural network to determine whether an observed particle collision produced a Higgs boson or not.\n",
    "\n",
    "# The Collision Data #\n",
    "\n",
    "The collision of protons at high energy can produce new particles like the Higgs boson. These particles can't be directly observed, however, since they decay almost instantly. So to detect the presence of a new particle, we instead observe the behavior of the particles they decay into, their \"decay products\".\n",
    "\n",
    "The *Higgs* dataset contains 21 \"low-level\" features of the decay products and also 7 more \"high-level\" features derived from these.\n",
    "\n",
    "# Wide and Deep Neural Networks #\n",
    "\n",
    "A *Wide and Deep* network trains a linear layer side-by-side with a deep stack of dense layers. Wide and Deep networks are often effective on tabular datasets.[^1]\n",
    "\n",
    "Both the dataset and the model are much larger than what we used in the course. To speed up training, we'll use Kaggle's [Tensor Processing Units](https://www.kaggle.com/docs/tpu) (TPUs), an accelerator ideal for large workloads.\n",
    "\n",
    "We've collected some hyperparameters here to make experimentation easier. Fork this notebook by [**clicking here**](https://www.kaggle.com/kernels/fork/12171965) to try it yourself!"
   ]
  },
  {
   "cell_type": "code",
   "execution_count": 1,
   "id": "b9ceb2aa",
   "metadata": {
    "execution": {
     "iopub.execute_input": "2025-08-18T13:52:09.048421Z",
     "iopub.status.busy": "2025-08-18T13:52:09.048215Z",
     "iopub.status.idle": "2025-08-18T13:52:09.061555Z",
     "shell.execute_reply": "2025-08-18T13:52:09.056380Z"
    },
    "papermill": {
     "duration": 0.021757,
     "end_time": "2025-08-18T13:52:09.063857",
     "exception": false,
     "start_time": "2025-08-18T13:52:09.042100",
     "status": "completed"
    },
    "tags": []
   },
   "outputs": [],
   "source": [
    "# Model Configuration\n",
    "UNITS = 2 ** 11 # 2048\n",
    "ACTIVATION = 'relu'\n",
    "DROPOUT = 0.1\n",
    "\n",
    "# Training Configuration\n",
    "BATCH_SIZE_PER_REPLICA = 2 ** 11 # powers of 128 are best"
   ]
  },
  {
   "cell_type": "markdown",
   "id": "9b1a4fed",
   "metadata": {
    "papermill": {
     "duration": 0.002878,
     "end_time": "2025-08-18T13:52:09.069761",
     "exception": false,
     "start_time": "2025-08-18T13:52:09.066883",
     "status": "completed"
    },
    "tags": []
   },
   "source": [
    "The next few sections set up the TPU computation, data pipeline, and neural network model. If you'd just like to see the results, feel free to skip to the end!\n",
    "\n",
    "# Setup #\n",
    "\n",
    "In addition to our imports, this section contains some code that will connect our notebook to the TPU and create a **distribution strategy**. Each TPU has eight computational cores acting independently. With a distribution strategy, we define how we want to divide up the work between them."
   ]
  },
  {
   "cell_type": "code",
   "execution_count": 2,
   "id": "107824e7",
   "metadata": {
    "execution": {
     "iopub.execute_input": "2025-08-18T13:52:09.078399Z",
     "iopub.status.busy": "2025-08-18T13:52:09.078203Z",
     "iopub.status.idle": "2025-08-18T13:52:45.224279Z",
     "shell.execute_reply": "2025-08-18T13:52:45.219694Z"
    },
    "papermill": {
     "duration": 36.154705,
     "end_time": "2025-08-18T13:52:45.227132",
     "exception": false,
     "start_time": "2025-08-18T13:52:09.072427",
     "status": "completed"
    },
    "tags": []
   },
   "outputs": [
    {
     "name": "stderr",
     "output_type": "stream",
     "text": [
      "WARNING: Logging before InitGoogle() is written to STDERR\n",
      "E0000 00:00:1755525136.146719      74 common_lib.cc:612] Could not set metric server port: INVALID_ARGUMENT: Could not find SliceBuilder port 8471 in any of the 0 ports provided in `tpu_process_addresses`=\"local\"\n",
      "=== Source Location Trace: === \n",
      "learning/45eac/tfrc/runtime/common_lib.cc:230\n"
     ]
    },
    {
     "name": "stdout",
     "output_type": "stream",
     "text": [
      "Tensorflow version 2.18.0\n",
      "INFO:tensorflow:Deallocate tpu buffers before initializing tpu system.\n"
     ]
    },
    {
     "name": "stdout",
     "output_type": "stream",
     "text": [
      "INFO:tensorflow:Initializing the TPU system: local\n"
     ]
    },
    {
     "name": "stderr",
     "output_type": "stream",
     "text": [
      "WARNING: All log messages before absl::InitializeLog() is called are written to STDERR\n",
      "I0000 00:00:1755525159.757159      74 service.cc:148] XLA service 0x584e934335b0 initialized for platform TPU (this does not guarantee that XLA will be used). Devices:\n",
      "I0000 00:00:1755525159.757197      74 service.cc:156]   StreamExecutor device (0): TPU, 2a886c8\n",
      "I0000 00:00:1755525159.757201      74 service.cc:156]   StreamExecutor device (1): TPU, 2a886c8\n",
      "I0000 00:00:1755525159.757204      74 service.cc:156]   StreamExecutor device (2): TPU, 2a886c8\n",
      "I0000 00:00:1755525159.757209      74 service.cc:156]   StreamExecutor device (3): TPU, 2a886c8\n",
      "I0000 00:00:1755525159.757211      74 service.cc:156]   StreamExecutor device (4): TPU, 2a886c8\n",
      "I0000 00:00:1755525159.757214      74 service.cc:156]   StreamExecutor device (5): TPU, 2a886c8\n",
      "I0000 00:00:1755525159.757216      74 service.cc:156]   StreamExecutor device (6): TPU, 2a886c8\n",
      "I0000 00:00:1755525159.757219      74 service.cc:156]   StreamExecutor device (7): TPU, 2a886c8\n"
     ]
    },
    {
     "name": "stdout",
     "output_type": "stream",
     "text": [
      "INFO:tensorflow:Finished initializing TPU system.\n"
     ]
    },
    {
     "name": "stdout",
     "output_type": "stream",
     "text": [
      "INFO:tensorflow:Found TPU system:\n"
     ]
    },
    {
     "name": "stdout",
     "output_type": "stream",
     "text": [
      "INFO:tensorflow:*** Num TPU Cores: 8\n"
     ]
    },
    {
     "name": "stdout",
     "output_type": "stream",
     "text": [
      "INFO:tensorflow:*** Num TPU Workers: 1\n"
     ]
    },
    {
     "name": "stdout",
     "output_type": "stream",
     "text": [
      "INFO:tensorflow:*** Num TPU Cores Per Worker: 8\n"
     ]
    },
    {
     "name": "stdout",
     "output_type": "stream",
     "text": [
      "INFO:tensorflow:*** Available Device: _DeviceAttributes(/job:localhost/replica:0/task:0/device:CPU:0, CPU, 0, 0)\n"
     ]
    },
    {
     "name": "stdout",
     "output_type": "stream",
     "text": [
      "INFO:tensorflow:*** Available Device: _DeviceAttributes(/job:localhost/replica:0/task:0/device:TPU:0, TPU, 0, 0)\n"
     ]
    },
    {
     "name": "stdout",
     "output_type": "stream",
     "text": [
      "INFO:tensorflow:*** Available Device: _DeviceAttributes(/job:localhost/replica:0/task:0/device:TPU:1, TPU, 0, 0)\n"
     ]
    },
    {
     "name": "stdout",
     "output_type": "stream",
     "text": [
      "INFO:tensorflow:*** Available Device: _DeviceAttributes(/job:localhost/replica:0/task:0/device:TPU:2, TPU, 0, 0)\n"
     ]
    },
    {
     "name": "stdout",
     "output_type": "stream",
     "text": [
      "INFO:tensorflow:*** Available Device: _DeviceAttributes(/job:localhost/replica:0/task:0/device:TPU:3, TPU, 0, 0)\n"
     ]
    },
    {
     "name": "stdout",
     "output_type": "stream",
     "text": [
      "INFO:tensorflow:*** Available Device: _DeviceAttributes(/job:localhost/replica:0/task:0/device:TPU:4, TPU, 0, 0)\n"
     ]
    },
    {
     "name": "stdout",
     "output_type": "stream",
     "text": [
      "INFO:tensorflow:*** Available Device: _DeviceAttributes(/job:localhost/replica:0/task:0/device:TPU:5, TPU, 0, 0)\n"
     ]
    },
    {
     "name": "stdout",
     "output_type": "stream",
     "text": [
      "INFO:tensorflow:*** Available Device: _DeviceAttributes(/job:localhost/replica:0/task:0/device:TPU:6, TPU, 0, 0)\n"
     ]
    },
    {
     "name": "stdout",
     "output_type": "stream",
     "text": [
      "INFO:tensorflow:*** Available Device: _DeviceAttributes(/job:localhost/replica:0/task:0/device:TPU:7, TPU, 0, 0)\n"
     ]
    },
    {
     "name": "stdout",
     "output_type": "stream",
     "text": [
      "INFO:tensorflow:*** Available Device: _DeviceAttributes(/job:localhost/replica:0/task:0/device:TPU_SYSTEM:0, TPU_SYSTEM, 0, 0)\n"
     ]
    },
    {
     "name": "stdout",
     "output_type": "stream",
     "text": [
      "Number of accelerators:  8\n"
     ]
    }
   ],
   "source": [
    "# TensorFlow\n",
    "import tensorflow as tf\n",
    "print(\"Tensorflow version \" + tf.__version__)\n",
    "\n",
    "# Detect and init the TPU\n",
    "try: # detect TPUs\n",
    "    tpu = tf.distribute.cluster_resolver.TPUClusterResolver(tpu='local') # TPU detection\n",
    "    tf.config.experimental_connect_to_cluster(tpu)\n",
    "    tf.tpu.experimental.initialize_tpu_system(tpu)\n",
    "    strategy = tf.distribute.TPUStrategy(tpu)\n",
    "except ValueError: # detect GPUs\n",
    "    strategy = tf.distribute.get_strategy() # default strategy that works on CPU and single GPU\n",
    "print(\"Number of accelerators: \", strategy.num_replicas_in_sync)\n",
    "    \n",
    "# Plotting\n",
    "import pandas as pd\n",
    "import matplotlib.pyplot as plt\n",
    "\n",
    "# Matplotlib defaults\n",
    "plt.style.use('seaborn-v0_8-whitegrid')\n",
    "plt.rc('figure', autolayout=True)\n",
    "plt.rc('axes', labelweight='bold', labelsize='large',\n",
    "       titleweight='bold', titlesize=18, titlepad=10)\n",
    "\n",
    "\n",
    "# Data\n",
    "from kaggle_datasets import KaggleDatasets\n",
    "from tensorflow.io import FixedLenFeature\n",
    "AUTO = tf.data.experimental.AUTOTUNE\n",
    "\n",
    "\n",
    "# Model\n",
    "import tf_keras as keras\n",
    "from tf_keras import layers\n",
    "from tf_keras import callbacks"
   ]
  },
  {
   "cell_type": "markdown",
   "id": "c72c2dc2",
   "metadata": {
    "papermill": {
     "duration": 0.003891,
     "end_time": "2025-08-18T13:52:45.235708",
     "exception": false,
     "start_time": "2025-08-18T13:52:45.231817",
     "status": "completed"
    },
    "tags": []
   },
   "source": [
    "Notice that TensorFlow now detects eight accelerators. Using a TPU is a bit like using eight GPUs at once.\n",
    "\n",
    "# Load Data #\n",
    "\n",
    "The dataset has been encoded in a binary file format called *TFRecords*. These two functions will parse the TFRecords and build a TensorFlow `tf.data.Dataset` object that we can use for training."
   ]
  },
  {
   "cell_type": "code",
   "execution_count": 3,
   "id": "254b3abf",
   "metadata": {
    "execution": {
     "iopub.execute_input": "2025-08-18T13:52:45.247261Z",
     "iopub.status.busy": "2025-08-18T13:52:45.247007Z",
     "iopub.status.idle": "2025-08-18T13:52:45.259331Z",
     "shell.execute_reply": "2025-08-18T13:52:45.253770Z"
    },
    "papermill": {
     "duration": 0.02226,
     "end_time": "2025-08-18T13:52:45.261797",
     "exception": false,
     "start_time": "2025-08-18T13:52:45.239537",
     "status": "completed"
    },
    "tags": []
   },
   "outputs": [],
   "source": [
    "def make_decoder(feature_description):\n",
    "    def decoder(example):\n",
    "        example = tf.io.parse_single_example(example, feature_description)\n",
    "        features = tf.io.parse_tensor(example['features'], tf.float32)\n",
    "        features = tf.reshape(features, [28])\n",
    "        label = example['label']\n",
    "        return features, label\n",
    "    return decoder\n",
    "\n",
    "def load_dataset(filenames, decoder, ordered=False):\n",
    "    AUTO = tf.data.experimental.AUTOTUNE\n",
    "    ignore_order = tf.data.Options()\n",
    "    if not ordered:\n",
    "        ignore_order.experimental_deterministic = False\n",
    "    dataset = (\n",
    "        tf.data\n",
    "        .TFRecordDataset(filenames, num_parallel_reads=AUTO)\n",
    "        .with_options(ignore_order)\n",
    "        .map(decoder, AUTO)\n",
    "    )\n",
    "    return dataset"
   ]
  },
  {
   "cell_type": "code",
   "execution_count": 4,
   "id": "b750d95d",
   "metadata": {
    "execution": {
     "iopub.execute_input": "2025-08-18T13:52:45.272853Z",
     "iopub.status.busy": "2025-08-18T13:52:45.272630Z",
     "iopub.status.idle": "2025-08-18T13:52:45.283317Z",
     "shell.execute_reply": "2025-08-18T13:52:45.277765Z"
    },
    "papermill": {
     "duration": 0.019754,
     "end_time": "2025-08-18T13:52:45.285620",
     "exception": false,
     "start_time": "2025-08-18T13:52:45.265866",
     "status": "completed"
    },
    "tags": []
   },
   "outputs": [],
   "source": [
    "dataset_size = int(11e6)\n",
    "validation_size = int(5e5)\n",
    "training_size = dataset_size - validation_size\n",
    "\n",
    "# For model.fit\n",
    "batch_size = BATCH_SIZE_PER_REPLICA * strategy.num_replicas_in_sync\n",
    "steps_per_epoch = training_size // batch_size\n",
    "validation_steps = validation_size // batch_size\n",
    "\n",
    "# For model.compile\n",
    "steps_per_execution = 256"
   ]
  },
  {
   "cell_type": "code",
   "execution_count": 5,
   "id": "fdb4ffb4",
   "metadata": {
    "execution": {
     "iopub.execute_input": "2025-08-18T13:52:45.296310Z",
     "iopub.status.busy": "2025-08-18T13:52:45.296104Z",
     "iopub.status.idle": "2025-08-18T13:52:45.475997Z",
     "shell.execute_reply": "2025-08-18T13:52:45.469795Z"
    },
    "papermill": {
     "duration": 0.189317,
     "end_time": "2025-08-18T13:52:45.478693",
     "exception": false,
     "start_time": "2025-08-18T13:52:45.289376",
     "status": "completed"
    },
    "tags": []
   },
   "outputs": [],
   "source": [
    "feature_description = {\n",
    "    'features': FixedLenFeature([], tf.string),\n",
    "    'label': FixedLenFeature([], tf.float32),\n",
    "}\n",
    "decoder = make_decoder(feature_description)\n",
    "\n",
    "# data_dir = KaggleDatasets().get_gcs_path('higgs-boson')\n",
    "data_dir = \"/kaggle/input/higgs-boson\"\n",
    "train_files = tf.io.gfile.glob(data_dir + '/training' + '/*.tfrecord')\n",
    "valid_files = tf.io.gfile.glob(data_dir + '/validation' + '/*.tfrecord')\n",
    "\n",
    "ds_train = load_dataset(train_files, decoder, ordered=False)\n",
    "ds_train = (\n",
    "    ds_train\n",
    "    .cache()\n",
    "    .repeat()\n",
    "    .shuffle(2 ** 19)\n",
    "    .batch(batch_size)\n",
    "    .prefetch(AUTO)\n",
    ")\n",
    "\n",
    "ds_valid = load_dataset(valid_files, decoder, ordered=False)\n",
    "ds_valid = (\n",
    "    ds_valid\n",
    "    .batch(batch_size)\n",
    "    .cache()\n",
    "    .prefetch(AUTO)\n",
    ")"
   ]
  },
  {
   "cell_type": "markdown",
   "id": "df6a05e0",
   "metadata": {
    "papermill": {
     "duration": 0.004484,
     "end_time": "2025-08-18T13:52:45.487945",
     "exception": false,
     "start_time": "2025-08-18T13:52:45.483461",
     "status": "completed"
    },
    "tags": []
   },
   "source": [
    "# Model #\n",
    "\n",
    "Now that the data is ready, let's define the network. We're defining the deep branch of the network using Keras's *Functional API*, which is a bit more flexible that the `Sequential` method we used in the course.\n"
   ]
  },
  {
   "cell_type": "code",
   "execution_count": 6,
   "id": "c952fe4d",
   "metadata": {
    "execution": {
     "iopub.execute_input": "2025-08-18T13:52:45.500162Z",
     "iopub.status.busy": "2025-08-18T13:52:45.499907Z",
     "iopub.status.idle": "2025-08-18T13:52:47.715847Z",
     "shell.execute_reply": "2025-08-18T13:52:47.711422Z"
    },
    "papermill": {
     "duration": 2.226279,
     "end_time": "2025-08-18T13:52:47.718652",
     "exception": false,
     "start_time": "2025-08-18T13:52:45.492373",
     "status": "completed"
    },
    "tags": []
   },
   "outputs": [
    {
     "name": "stderr",
     "output_type": "stream",
     "text": [
      "I0000 00:00:1755525165.576524      74 device_compiler.h:188] Compiled cluster using XLA!  This line is logged at most once for the lifetime of the process.\n"
     ]
    }
   ],
   "source": [
    "def dense_block(units, activation, dropout_rate, l1=None, l2=None):\n",
    "    def make(inputs):\n",
    "        x = layers.Dense(units)(inputs)\n",
    "        x = layers.BatchNormalization()(x)\n",
    "        x = layers.Activation(activation)(x)\n",
    "        x = layers.Dropout(dropout_rate)(x)\n",
    "        return x\n",
    "    return make\n",
    "\n",
    "with strategy.scope():\n",
    "    # Wide Network\n",
    "    wide = keras.experimental.LinearModel()\n",
    "\n",
    "    # Deep Network\n",
    "    inputs = keras.Input(shape=[28])\n",
    "    x = dense_block(UNITS, ACTIVATION, DROPOUT)(inputs)\n",
    "    x = dense_block(UNITS, ACTIVATION, DROPOUT)(x)\n",
    "    x = dense_block(UNITS, ACTIVATION, DROPOUT)(x)\n",
    "    x = dense_block(UNITS, ACTIVATION, DROPOUT)(x)\n",
    "    x = dense_block(UNITS, ACTIVATION, DROPOUT)(x)\n",
    "    outputs = layers.Dense(1)(x)\n",
    "    deep = keras.Model(inputs=inputs, outputs=outputs)\n",
    "    \n",
    "    # Wide and Deep Network\n",
    "    wide_and_deep = keras.experimental.WideDeepModel(\n",
    "        linear_model=wide,\n",
    "        dnn_model=deep,\n",
    "        activation='sigmoid',\n",
    "    )\n",
    "\n",
    "wide_and_deep.compile(\n",
    "    loss='binary_crossentropy',\n",
    "    optimizer='adam',\n",
    "    metrics=['AUC', 'binary_accuracy'],\n",
    "    steps_per_execution=steps_per_execution,\n",
    ")"
   ]
  },
  {
   "cell_type": "markdown",
   "id": "9093bba8",
   "metadata": {
    "papermill": {
     "duration": 0.00414,
     "end_time": "2025-08-18T13:52:47.727288",
     "exception": false,
     "start_time": "2025-08-18T13:52:47.723148",
     "status": "completed"
    },
    "tags": []
   },
   "source": [
    "# Training #\n",
    "\n",
    "During training, we'll use the `EarlyStopping` callback as usual. Notice that we've also defined a **learning rate schedule**. It's been found that gradually decreasing the learning rate over the course of training can improve performance (the weights \"settle in\" to a minimum). This schedule will multiply the learning rate by `0.2` if the validation loss didn't decrease after an epoch."
   ]
  },
  {
   "cell_type": "code",
   "execution_count": 7,
   "id": "bd2f2c2b",
   "metadata": {
    "execution": {
     "iopub.execute_input": "2025-08-18T13:52:47.738651Z",
     "iopub.status.busy": "2025-08-18T13:52:47.738385Z",
     "iopub.status.idle": "2025-08-18T13:52:47.748022Z",
     "shell.execute_reply": "2025-08-18T13:52:47.743751Z"
    },
    "lines_to_next_cell": 2,
    "papermill": {
     "duration": 0.018477,
     "end_time": "2025-08-18T13:52:47.749903",
     "exception": false,
     "start_time": "2025-08-18T13:52:47.731426",
     "status": "completed"
    },
    "tags": []
   },
   "outputs": [],
   "source": [
    "early_stopping = callbacks.EarlyStopping(\n",
    "    patience=2,\n",
    "    min_delta=0.001,\n",
    "    restore_best_weights=True,\n",
    ")\n",
    "\n",
    "lr_schedule = callbacks.ReduceLROnPlateau(\n",
    "    patience=0,\n",
    "    factor=0.2,\n",
    "    min_lr=0.001,\n",
    ")"
   ]
  },
  {
   "cell_type": "code",
   "execution_count": 8,
   "id": "c3048072",
   "metadata": {
    "execution": {
     "iopub.execute_input": "2025-08-18T13:52:47.760964Z",
     "iopub.status.busy": "2025-08-18T13:52:47.760726Z",
     "iopub.status.idle": "2025-08-18T14:09:38.416818Z",
     "shell.execute_reply": "2025-08-18T14:09:38.410496Z"
    },
    "papermill": {
     "duration": 1010.665857,
     "end_time": "2025-08-18T14:09:38.419585",
     "exception": false,
     "start_time": "2025-08-18T13:52:47.753728",
     "status": "completed"
    },
    "tags": []
   },
   "outputs": [
    {
     "name": "stdout",
     "output_type": "stream",
     "text": [
      "Epoch 1/50\n"
     ]
    },
    {
     "name": "stderr",
     "output_type": "stream",
     "text": [
      "I0000 00:00:1755525175.638320      74 encapsulate_tpu_computations_pass.cc:266] Subgraph fingerprint:11603700663589772919\n"
     ]
    },
    {
     "name": "stderr",
     "output_type": "stream",
     "text": [
      "I0000 00:00:1755525190.453845     848 tpu_compilation_cache_interface.cc:442] TPU host compilation cache miss: cache_key(11381688263513091685), session_name()\n"
     ]
    },
    {
     "name": "stderr",
     "output_type": "stream",
     "text": [
      "I0000 00:00:1755525194.315989     848 tpu_compile_op_common.cc:245] Compilation of 11381688263513091685 with session name  took 3.862104177s and succeeded\n"
     ]
    },
    {
     "name": "stderr",
     "output_type": "stream",
     "text": [
      "I0000 00:00:1755525194.332726     848 tpu_compilation_cache_interface.cc:476] TPU host compilation cache: compilation complete for cache_key(11381688263513091685), session_name(), subgraph_key(std::string(property.function_name) = \"while/cluster_while_body_11327_11603700663589772919\", property.function_library_fingerprint = 14647557903640737594, property.mlir_module_fingerprint = 0, property.num_replicas = 8, topology.chip_bounds().x = 2, topology.chip_bounds().y = 2, topology.chip_bounds().z = 1, topology.wrap().x = false, topology.wrap().y = false, topology.wrap().z = false, std::string(property.shapes_prefix) = \"2048,28,;2048,;\", property.guaranteed_constants_size = 0, embedding_partitions_fingerprint = \"1688352644216761960\")\n",
      "I0000 00:00:1755525194.332842     848 tpu_compilation_cache_interface.cc:542] After adding entry for key 11381688263513091685 with session_name  cache is 1 entries (26165660 bytes),  marked for eviction 0 entries (0 bytes).\n"
     ]
    },
    {
     "name": "stdout",
     "output_type": "stream",
     "text": [
      "\r",
      "256/640 [===========>..................] - ETA: 3:36 - loss: 0.6392 - auc: 0.7304 - binary_accuracy: 0.6714"
     ]
    },
    {
     "name": "stdout",
     "output_type": "stream",
     "text": [
      "\b\b\b\b\b\b\b\b\b\b\b\b\b\b\b\b\b\b\b\b\b\b\b\b\b\b\b\b\b\b\b\b\b\b\b\b\b\b\b\b\b\b\b\b\b\b\b\b\b\b\b\b\b\b\b\b\b\b\b\b\b\b\b\b\b\b\b\b\b\b\b\b\b\b\b\b\b\b\b\b\b\b\b\b\b\b\b\b\b\b\b\b\b\b\b\b\b\b\b\b\b\b\b\b\b\b\b\r",
      "512/640 [=======================>......] - ETA: 1:06 - loss: 0.5834 - auc: 0.7726 - binary_accuracy: 0.7019"
     ]
    },
    {
     "name": "stdout",
     "output_type": "stream",
     "text": [
      "\b\b\b\b\b\b\b\b\b\b\b\b\b\b\b\b\b\b\b\b\b\b\b\b\b\b\b\b\b\b\b\b\b\b\b\b\b\b\b\b\b\b\b\b\b\b\b\b\b\b\b\b\b\b\b\b\b\b\b\b\b\b\b\b\b\b\b\b\b\b\b\b\b\b\b\b\b\b\b\b\b\b\b\b\b\b\b\b\b\b\b\b\b\b\b\b\b\b\b\b\b\b\b\b\b\b\b\r",
      "640/640 [==============================] - ETA: 0s - loss: 0.5681 - auc: 0.7843 - binary_accuracy: 0.7107  "
     ]
    },
    {
     "name": "stderr",
     "output_type": "stream",
     "text": [
      "I0000 00:00:1755525484.943482      74 encapsulate_tpu_computations_pass.cc:266] Subgraph fingerprint:5729030685186261642\n"
     ]
    },
    {
     "name": "stderr",
     "output_type": "stream",
     "text": [
      "I0000 00:00:1755525485.768964     829 tpu_compilation_cache_interface.cc:442] TPU host compilation cache miss: cache_key(6887083324596644837), session_name()\n"
     ]
    },
    {
     "name": "stderr",
     "output_type": "stream",
     "text": [
      "I0000 00:00:1755525487.957990     829 tpu_compile_op_common.cc:245] Compilation of 6887083324596644837 with session name  took 2.18897704s and succeeded\n"
     ]
    },
    {
     "name": "stderr",
     "output_type": "stream",
     "text": [
      "I0000 00:00:1755525487.966299     829 tpu_compilation_cache_interface.cc:476] TPU host compilation cache: compilation complete for cache_key(6887083324596644837), session_name(), subgraph_key(std::string(property.function_name) = \"while/cluster_while_body_16130_5729030685186261642\", property.function_library_fingerprint = 14112883684360333027, property.mlir_module_fingerprint = 0, property.num_replicas = 8, topology.chip_bounds().x = 2, topology.chip_bounds().y = 2, topology.chip_bounds().z = 1, topology.wrap().x = false, topology.wrap().y = false, topology.wrap().z = false, std::string(property.shapes_prefix) = \"2048,28,;2048,;\", property.guaranteed_constants_size = 0, embedding_partitions_fingerprint = \"1688352644216761960\")\n",
      "I0000 00:00:1755525487.966424     829 tpu_compilation_cache_interface.cc:542] After adding entry for key 6887083324596644837 with session_name  cache is 2 entries (32752462 bytes),  marked for eviction 0 entries (0 bytes).\n"
     ]
    },
    {
     "name": "stdout",
     "output_type": "stream",
     "text": [
      "\b\b\b\b\b\b\b\b\b\b\b\b\b\b\b\b\b\b\b\b\b\b\b\b\b\b\b\b\b\b\b\b\b\b\b\b\b\b\b\b\b\b\b\b\b\b\b\b\b\b\b\b\b\b\b\b\b\b\b\b\b\b\b\b\b\b\b\b\b\b\b\b\b\b\b\b\b\b\b\b\b\b\b\b\b\b\b\b\b\b\b\b\b\b\b\b\b\b\b\b\b\b\b\b\b\r",
      "640/640 [==============================] - 331s 517ms/step - loss: 0.5681 - auc: 0.7843 - binary_accuracy: 0.7107 - val_loss: 0.5023 - val_auc: 0.8313 - val_binary_accuracy: 0.7494 - lr: 0.0010\n"
     ]
    },
    {
     "name": "stdout",
     "output_type": "stream",
     "text": [
      "Epoch 2/50\n"
     ]
    },
    {
     "name": "stdout",
     "output_type": "stream",
     "text": [
      "\r",
      "256/640 [===========>..................] - ETA: 17s - loss: 0.4964 - auc: 0.8357 - binary_accuracy: 0.7533"
     ]
    },
    {
     "name": "stdout",
     "output_type": "stream",
     "text": [
      "\b\b\b\b\b\b\b\b\b\b\b\b\b\b\b\b\b\b\b\b\b\b\b\b\b\b\b\b\b\b\b\b\b\b\b\b\b\b\b\b\b\b\b\b\b\b\b\b\b\b\b\b\b\b\b\b\b\b\b\b\b\b\b\b\b\b\b\b\b\b\b\b\b\b\b\b\b\b\b\b\b\b\b\b\b\b\b\b\b\b\b\b\b\b\b\b\b\b\b\b\b\b\b\b\b\b\r",
      "512/640 [=======================>......] - ETA: 6s - loss: 0.4919 - auc: 0.8390 - binary_accuracy: 0.7561 "
     ]
    },
    {
     "name": "stdout",
     "output_type": "stream",
     "text": [
      "\b\b\b\b\b\b\b\b\b\b\b\b\b\b\b\b\b\b\b\b\b\b\b\b\b\b\b\b\b\b\b\b\b\b\b\b\b\b\b\b\b\b\b\b\b\b\b\b\b\b\b\b\b\b\b\b\b\b\b\b\b\b\b\b\b\b\b\b\b\b\b\b\b\b\b\b\b\b\b\b\b\b\b\b\b\b\b\b\b\b\b\b\b\b\b\b\b\b\b\b\b\b\b\b\b\r",
      "640/640 [==============================] - ETA: 0s - loss: 0.4899 - auc: 0.8405 - binary_accuracy: 0.7575"
     ]
    },
    {
     "name": "stdout",
     "output_type": "stream",
     "text": [
      "\b\b\b\b\b\b\b\b\b\b\b\b\b\b\b\b\b\b\b\b\b\b\b\b\b\b\b\b\b\b\b\b\b\b\b\b\b\b\b\b\b\b\b\b\b\b\b\b\b\b\b\b\b\b\b\b\b\b\b\b\b\b\b\b\b\b\b\b\b\b\b\b\b\b\b\b\b\b\b\b\b\b\b\b\b\b\b\b\b\b\b\b\b\b\b\b\b\b\b\b\b\b\b\b\b\r",
      "640/640 [==============================] - 46s 72ms/step - loss: 0.4899 - auc: 0.8405 - binary_accuracy: 0.7575 - val_loss: 0.4773 - val_auc: 0.8496 - val_binary_accuracy: 0.7653 - lr: 0.0010\n"
     ]
    },
    {
     "name": "stdout",
     "output_type": "stream",
     "text": [
      "Epoch 3/50\n"
     ]
    },
    {
     "name": "stdout",
     "output_type": "stream",
     "text": [
      "\r",
      "256/640 [===========>..................] - ETA: 17s - loss: 0.4792 - auc: 0.8482 - binary_accuracy: 0.7643"
     ]
    },
    {
     "name": "stdout",
     "output_type": "stream",
     "text": [
      "\b\b\b\b\b\b\b\b\b\b\b\b\b\b\b\b\b\b\b\b\b\b\b\b\b\b\b\b\b\b\b\b\b\b\b\b\b\b\b\b\b\b\b\b\b\b\b\b\b\b\b\b\b\b\b\b\b\b\b\b\b\b\b\b\b\b\b\b\b\b\b\b\b\b\b\b\b\b\b\b\b\b\b\b\b\b\b\b\b\b\b\b\b\b\b\b\b\b\b\b\b\b\b\b\b\b\r",
      "512/640 [=======================>......] - ETA: 6s - loss: 0.4770 - auc: 0.8497 - binary_accuracy: 0.7657 "
     ]
    },
    {
     "name": "stdout",
     "output_type": "stream",
     "text": [
      "\b\b\b\b\b\b\b\b\b\b\b\b\b\b\b\b\b\b\b\b\b\b\b\b\b\b\b\b\b\b\b\b\b\b\b\b\b\b\b\b\b\b\b\b\b\b\b\b\b\b\b\b\b\b\b\b\b\b\b\b\b\b\b\b\b\b\b\b\b\b\b\b\b\b\b\b\b\b\b\b\b\b\b\b\b\b\b\b\b\b\b\b\b\b\b\b\b\b\b\b\b\b\b\b\b\r",
      "640/640 [==============================] - ETA: 0s - loss: 0.4760 - auc: 0.8505 - binary_accuracy: 0.7664"
     ]
    },
    {
     "name": "stdout",
     "output_type": "stream",
     "text": [
      "\b\b\b\b\b\b\b\b\b\b\b\b\b\b\b\b\b\b\b\b\b\b\b\b\b\b\b\b\b\b\b\b\b\b\b\b\b\b\b\b\b\b\b\b\b\b\b\b\b\b\b\b\b\b\b\b\b\b\b\b\b\b\b\b\b\b\b\b\b\b\b\b\b\b\b\b\b\b\b\b\b\b\b\b\b\b\b\b\b\b\b\b\b\b\b\b\b\b\b\b\b\b\b\b\b\r",
      "640/640 [==============================] - 48s 75ms/step - loss: 0.4760 - auc: 0.8505 - binary_accuracy: 0.7664 - val_loss: 0.4694 - val_auc: 0.8566 - val_binary_accuracy: 0.7702 - lr: 0.0010\n"
     ]
    },
    {
     "name": "stdout",
     "output_type": "stream",
     "text": [
      "Epoch 4/50\n"
     ]
    },
    {
     "name": "stdout",
     "output_type": "stream",
     "text": [
      "\r",
      "256/640 [===========>..................] - ETA: 19s - loss: 0.4701 - auc: 0.8545 - binary_accuracy: 0.7702"
     ]
    },
    {
     "name": "stdout",
     "output_type": "stream",
     "text": [
      "\b\b\b\b\b\b\b\b\b\b\b\b\b\b\b\b\b\b\b\b\b\b\b\b\b\b\b\b\b\b\b\b\b\b\b\b\b\b\b\b\b\b\b\b\b\b\b\b\b\b\b\b\b\b\b\b\b\b\b\b\b\b\b\b\b\b\b\b\b\b\b\b\b\b\b\b\b\b\b\b\b\b\b\b\b\b\b\b\b\b\b\b\b\b\b\b\b\b\b\b\b\b\b\b\b\b\r",
      "512/640 [=======================>......] - ETA: 6s - loss: 0.4687 - auc: 0.8555 - binary_accuracy: 0.7712 "
     ]
    },
    {
     "name": "stdout",
     "output_type": "stream",
     "text": [
      "\b\b\b\b\b\b\b\b\b\b\b\b\b\b\b\b\b\b\b\b\b\b\b\b\b\b\b\b\b\b\b\b\b\b\b\b\b\b\b\b\b\b\b\b\b\b\b\b\b\b\b\b\b\b\b\b\b\b\b\b\b\b\b\b\b\b\b\b\b\b\b\b\b\b\b\b\b\b\b\b\b\b\b\b\b\b\b\b\b\b\b\b\b\b\b\b\b\b\b\b\b\b\b\b\b\r",
      "640/640 [==============================] - ETA: 0s - loss: 0.4680 - auc: 0.8560 - binary_accuracy: 0.7716"
     ]
    },
    {
     "name": "stdout",
     "output_type": "stream",
     "text": [
      "\b\b\b\b\b\b\b\b\b\b\b\b\b\b\b\b\b\b\b\b\b\b\b\b\b\b\b\b\b\b\b\b\b\b\b\b\b\b\b\b\b\b\b\b\b\b\b\b\b\b\b\b\b\b\b\b\b\b\b\b\b\b\b\b\b\b\b\b\b\b\b\b\b\b\b\b\b\b\b\b\b\b\b\b\b\b\b\b\b\b\b\b\b\b\b\b\b\b\b\b\b\b\b\b\b\r",
      "640/640 [==============================] - 51s 79ms/step - loss: 0.4680 - auc: 0.8560 - binary_accuracy: 0.7716 - val_loss: 0.4632 - val_auc: 0.8606 - val_binary_accuracy: 0.7738 - lr: 0.0010\n"
     ]
    },
    {
     "name": "stdout",
     "output_type": "stream",
     "text": [
      "Epoch 5/50\n"
     ]
    },
    {
     "name": "stdout",
     "output_type": "stream",
     "text": [
      "\r",
      "256/640 [===========>..................] - ETA: 17s - loss: 0.4639 - auc: 0.8588 - binary_accuracy: 0.7742"
     ]
    },
    {
     "name": "stdout",
     "output_type": "stream",
     "text": [
      "\b\b\b\b\b\b\b\b\b\b\b\b\b\b\b\b\b\b\b\b\b\b\b\b\b\b\b\b\b\b\b\b\b\b\b\b\b\b\b\b\b\b\b\b\b\b\b\b\b\b\b\b\b\b\b\b\b\b\b\b\b\b\b\b\b\b\b\b\b\b\b\b\b\b\b\b\b\b\b\b\b\b\b\b\b\b\b\b\b\b\b\b\b\b\b\b\b\b\b\b\b\b\b\b\b\b\r",
      "512/640 [=======================>......] - ETA: 6s - loss: 0.4625 - auc: 0.8598 - binary_accuracy: 0.7752 "
     ]
    },
    {
     "name": "stdout",
     "output_type": "stream",
     "text": [
      "\b\b\b\b\b\b\b\b\b\b\b\b\b\b\b\b\b\b\b\b\b\b\b\b\b\b\b\b\b\b\b\b\b\b\b\b\b\b\b\b\b\b\b\b\b\b\b\b\b\b\b\b\b\b\b\b\b\b\b\b\b\b\b\b\b\b\b\b\b\b\b\b\b\b\b\b\b\b\b\b\b\b\b\b\b\b\b\b\b\b\b\b\b\b\b\b\b\b\b\b\b\b\b\b\b\r",
      "640/640 [==============================] - ETA: 0s - loss: 0.4619 - auc: 0.8602 - binary_accuracy: 0.7755"
     ]
    },
    {
     "name": "stdout",
     "output_type": "stream",
     "text": [
      "\b\b\b\b\b\b\b\b\b\b\b\b\b\b\b\b\b\b\b\b\b\b\b\b\b\b\b\b\b\b\b\b\b\b\b\b\b\b\b\b\b\b\b\b\b\b\b\b\b\b\b\b\b\b\b\b\b\b\b\b\b\b\b\b\b\b\b\b\b\b\b\b\b\b\b\b\b\b\b\b\b\b\b\b\b\b\b\b\b\b\b\b\b\b\b\b\b\b\b\b\b\b\b\b\b\r",
      "640/640 [==============================] - 48s 75ms/step - loss: 0.4619 - auc: 0.8602 - binary_accuracy: 0.7755 - val_loss: 0.4573 - val_auc: 0.8633 - val_binary_accuracy: 0.7781 - lr: 0.0010\n"
     ]
    },
    {
     "name": "stdout",
     "output_type": "stream",
     "text": [
      "Epoch 6/50\n"
     ]
    },
    {
     "name": "stdout",
     "output_type": "stream",
     "text": [
      "\r",
      "256/640 [===========>..................] - ETA: 15s - loss: 0.4581 - auc: 0.8627 - binary_accuracy: 0.7781"
     ]
    },
    {
     "name": "stdout",
     "output_type": "stream",
     "text": [
      "\b\b\b\b\b\b\b\b\b\b\b\b\b\b\b\b\b\b\b\b\b\b\b\b\b\b\b\b\b\b\b\b\b\b\b\b\b\b\b\b\b\b\b\b\b\b\b\b\b\b\b\b\b\b\b\b\b\b\b\b\b\b\b\b\b\b\b\b\b\b\b\b\b\b\b\b\b\b\b\b\b\b\b\b\b\b\b\b\b\b\b\b\b\b\b\b\b\b\b\b\b\b\b\b\b\b\r",
      "512/640 [=======================>......] - ETA: 6s - loss: 0.4571 - auc: 0.8635 - binary_accuracy: 0.7786 "
     ]
    },
    {
     "name": "stdout",
     "output_type": "stream",
     "text": [
      "\b\b\b\b\b\b\b\b\b\b\b\b\b\b\b\b\b\b\b\b\b\b\b\b\b\b\b\b\b\b\b\b\b\b\b\b\b\b\b\b\b\b\b\b\b\b\b\b\b\b\b\b\b\b\b\b\b\b\b\b\b\b\b\b\b\b\b\b\b\b\b\b\b\b\b\b\b\b\b\b\b\b\b\b\b\b\b\b\b\b\b\b\b\b\b\b\b\b\b\b\b\b\b\b\b\r",
      "640/640 [==============================] - ETA: 0s - loss: 0.4565 - auc: 0.8638 - binary_accuracy: 0.7789"
     ]
    },
    {
     "name": "stdout",
     "output_type": "stream",
     "text": [
      "\b\b\b\b\b\b\b\b\b\b\b\b\b\b\b\b\b\b\b\b\b\b\b\b\b\b\b\b\b\b\b\b\b\b\b\b\b\b\b\b\b\b\b\b\b\b\b\b\b\b\b\b\b\b\b\b\b\b\b\b\b\b\b\b\b\b\b\b\b\b\b\b\b\b\b\b\b\b\b\b\b\b\b\b\b\b\b\b\b\b\b\b\b\b\b\b\b\b\b\b\b\b\b\b\b\r",
      "640/640 [==============================] - 48s 76ms/step - loss: 0.4565 - auc: 0.8638 - binary_accuracy: 0.7789 - val_loss: 0.4556 - val_auc: 0.8654 - val_binary_accuracy: 0.7800 - lr: 0.0010\n"
     ]
    },
    {
     "name": "stdout",
     "output_type": "stream",
     "text": [
      "Epoch 7/50\n"
     ]
    },
    {
     "name": "stdout",
     "output_type": "stream",
     "text": [
      "\r",
      "256/640 [===========>..................] - ETA: 10s - loss: 0.4532 - auc: 0.8660 - binary_accuracy: 0.7810"
     ]
    },
    {
     "name": "stdout",
     "output_type": "stream",
     "text": [
      "\b\b\b\b\b\b\b\b\b\b\b\b\b\b\b\b\b\b\b\b\b\b\b\b\b\b\b\b\b\b\b\b\b\b\b\b\b\b\b\b\b\b\b\b\b\b\b\b\b\b\b\b\b\b\b\b\b\b\b\b\b\b\b\b\b\b\b\b\b\b\b\b\b\b\b\b\b\b\b\b\b\b\b\b\b\b\b\b\b\b\b\b\b\b\b\b\b\b\b\b\b\b\b\b\b\b\r",
      "512/640 [=======================>......] - ETA: 5s - loss: 0.4523 - auc: 0.8666 - binary_accuracy: 0.7815 "
     ]
    },
    {
     "name": "stdout",
     "output_type": "stream",
     "text": [
      "\b\b\b\b\b\b\b\b\b\b\b\b\b\b\b\b\b\b\b\b\b\b\b\b\b\b\b\b\b\b\b\b\b\b\b\b\b\b\b\b\b\b\b\b\b\b\b\b\b\b\b\b\b\b\b\b\b\b\b\b\b\b\b\b\b\b\b\b\b\b\b\b\b\b\b\b\b\b\b\b\b\b\b\b\b\b\b\b\b\b\b\b\b\b\b\b\b\b\b\b\b\b\b\b\b\r",
      "640/640 [==============================] - ETA: 0s - loss: 0.4518 - auc: 0.8669 - binary_accuracy: 0.7818"
     ]
    },
    {
     "name": "stdout",
     "output_type": "stream",
     "text": [
      "\b\b\b\b\b\b\b\b\b\b\b\b\b\b\b\b\b\b\b\b\b\b\b\b\b\b\b\b\b\b\b\b\b\b\b\b\b\b\b\b\b\b\b\b\b\b\b\b\b\b\b\b\b\b\b\b\b\b\b\b\b\b\b\b\b\b\b\b\b\b\b\b\b\b\b\b\b\b\b\b\b\b\b\b\b\b\b\b\b\b\b\b\b\b\b\b\b\b\b\b\b\b\b\b\b\r",
      "640/640 [==============================] - 45s 70ms/step - loss: 0.4518 - auc: 0.8669 - binary_accuracy: 0.7818 - val_loss: 0.4478 - val_auc: 0.8696 - val_binary_accuracy: 0.7839 - lr: 0.0010\n"
     ]
    },
    {
     "name": "stdout",
     "output_type": "stream",
     "text": [
      "Epoch 8/50\n"
     ]
    },
    {
     "name": "stdout",
     "output_type": "stream",
     "text": [
      "\r",
      "256/640 [===========>..................] - ETA: 3s - loss: 0.4490 - auc: 0.8688 - binary_accuracy: 0.7838"
     ]
    },
    {
     "name": "stdout",
     "output_type": "stream",
     "text": [
      "\b\b\b\b\b\b\b\b\b\b\b\b\b\b\b\b\b\b\b\b\b\b\b\b\b\b\b\b\b\b\b\b\b\b\b\b\b\b\b\b\b\b\b\b\b\b\b\b\b\b\b\b\b\b\b\b\b\b\b\b\b\b\b\b\b\b\b\b\b\b\b\b\b\b\b\b\b\b\b\b\b\b\b\b\b\b\b\b\b\b\b\b\b\b\b\b\b\b\b\b\b\b\b\b\b\r",
      "512/640 [=======================>......] - ETA: 3s - loss: 0.4481 - auc: 0.8694 - binary_accuracy: 0.7843"
     ]
    },
    {
     "name": "stdout",
     "output_type": "stream",
     "text": [
      "\b\b\b\b\b\b\b\b\b\b\b\b\b\b\b\b\b\b\b\b\b\b\b\b\b\b\b\b\b\b\b\b\b\b\b\b\b\b\b\b\b\b\b\b\b\b\b\b\b\b\b\b\b\b\b\b\b\b\b\b\b\b\b\b\b\b\b\b\b\b\b\b\b\b\b\b\b\b\b\b\b\b\b\b\b\b\b\b\b\b\b\b\b\b\b\b\b\b\b\b\b\b\b\b\b\r",
      "640/640 [==============================] - ETA: 0s - loss: 0.4476 - auc: 0.8697 - binary_accuracy: 0.7845"
     ]
    },
    {
     "name": "stdout",
     "output_type": "stream",
     "text": [
      "\b\b\b\b\b\b\b\b\b\b\b\b\b\b\b\b\b\b\b\b\b\b\b\b\b\b\b\b\b\b\b\b\b\b\b\b\b\b\b\b\b\b\b\b\b\b\b\b\b\b\b\b\b\b\b\b\b\b\b\b\b\b\b\b\b\b\b\b\b\b\b\b\b\b\b\b\b\b\b\b\b\b\b\b\b\b\b\b\b\b\b\b\b\b\b\b\b\b\b\b\b\b\b\b\b\r",
      "640/640 [==============================] - 37s 57ms/step - loss: 0.4476 - auc: 0.8697 - binary_accuracy: 0.7845 - val_loss: 0.4440 - val_auc: 0.8718 - val_binary_accuracy: 0.7865 - lr: 0.0010\n"
     ]
    },
    {
     "name": "stdout",
     "output_type": "stream",
     "text": [
      "Epoch 9/50\n"
     ]
    },
    {
     "name": "stdout",
     "output_type": "stream",
     "text": [
      "\r",
      "256/640 [===========>..................] - ETA: 3s - loss: 0.4446 - auc: 0.8716 - binary_accuracy: 0.7865"
     ]
    },
    {
     "name": "stdout",
     "output_type": "stream",
     "text": [
      "\b\b\b\b\b\b\b\b\b\b\b\b\b\b\b\b\b\b\b\b\b\b\b\b\b\b\b\b\b\b\b\b\b\b\b\b\b\b\b\b\b\b\b\b\b\b\b\b\b\b\b\b\b\b\b\b\b\b\b\b\b\b\b\b\b\b\b\b\b\b\b\b\b\b\b\b\b\b\b\b\b\b\b\b\b\b\b\b\b\b\b\b\b\b\b\b\b\b\b\b\b\b\b\b\b\r",
      "512/640 [=======================>......] - ETA: 3s - loss: 0.4440 - auc: 0.8720 - binary_accuracy: 0.7869"
     ]
    },
    {
     "name": "stdout",
     "output_type": "stream",
     "text": [
      "\b\b\b\b\b\b\b\b\b\b\b\b\b\b\b\b\b\b\b\b\b\b\b\b\b\b\b\b\b\b\b\b\b\b\b\b\b\b\b\b\b\b\b\b\b\b\b\b\b\b\b\b\b\b\b\b\b\b\b\b\b\b\b\b\b\b\b\b\b\b\b\b\b\b\b\b\b\b\b\b\b\b\b\b\b\b\b\b\b\b\b\b\b\b\b\b\b\b\b\b\b\b\b\b\b\r",
      "640/640 [==============================] - ETA: 0s - loss: 0.4436 - auc: 0.8723 - binary_accuracy: 0.7871"
     ]
    },
    {
     "name": "stdout",
     "output_type": "stream",
     "text": [
      "\b\b\b\b\b\b\b\b\b\b\b\b\b\b\b\b\b\b\b\b\b\b\b\b\b\b\b\b\b\b\b\b\b\b\b\b\b\b\b\b\b\b\b\b\b\b\b\b\b\b\b\b\b\b\b\b\b\b\b\b\b\b\b\b\b\b\b\b\b\b\b\b\b\b\b\b\b\b\b\b\b\b\b\b\b\b\b\b\b\b\b\b\b\b\b\b\b\b\b\b\b\b\b\b\b\r",
      "640/640 [==============================] - 37s 57ms/step - loss: 0.4436 - auc: 0.8723 - binary_accuracy: 0.7871 - val_loss: 0.4397 - val_auc: 0.8747 - val_binary_accuracy: 0.7890 - lr: 0.0010\n"
     ]
    },
    {
     "name": "stdout",
     "output_type": "stream",
     "text": [
      "Epoch 10/50\n"
     ]
    },
    {
     "name": "stdout",
     "output_type": "stream",
     "text": [
      "\r",
      "256/640 [===========>..................] - ETA: 3s - loss: 0.4410 - auc: 0.8739 - binary_accuracy: 0.7889"
     ]
    },
    {
     "name": "stdout",
     "output_type": "stream",
     "text": [
      "\b\b\b\b\b\b\b\b\b\b\b\b\b\b\b\b\b\b\b\b\b\b\b\b\b\b\b\b\b\b\b\b\b\b\b\b\b\b\b\b\b\b\b\b\b\b\b\b\b\b\b\b\b\b\b\b\b\b\b\b\b\b\b\b\b\b\b\b\b\b\b\b\b\b\b\b\b\b\b\b\b\b\b\b\b\b\b\b\b\b\b\b\b\b\b\b\b\b\b\b\b\b\b\b\b\r",
      "512/640 [=======================>......] - ETA: 2s - loss: 0.4404 - auc: 0.8743 - binary_accuracy: 0.7892"
     ]
    },
    {
     "name": "stdout",
     "output_type": "stream",
     "text": [
      "\b\b\b\b\b\b\b\b\b\b\b\b\b\b\b\b\b\b\b\b\b\b\b\b\b\b\b\b\b\b\b\b\b\b\b\b\b\b\b\b\b\b\b\b\b\b\b\b\b\b\b\b\b\b\b\b\b\b\b\b\b\b\b\b\b\b\b\b\b\b\b\b\b\b\b\b\b\b\b\b\b\b\b\b\b\b\b\b\b\b\b\b\b\b\b\b\b\b\b\b\b\b\b\b\b\r",
      "640/640 [==============================] - ETA: 0s - loss: 0.4399 - auc: 0.8746 - binary_accuracy: 0.7894"
     ]
    },
    {
     "name": "stdout",
     "output_type": "stream",
     "text": [
      "\b\b\b\b\b\b\b\b\b\b\b\b\b\b\b\b\b\b\b\b\b\b\b\b\b\b\b\b\b\b\b\b\b\b\b\b\b\b\b\b\b\b\b\b\b\b\b\b\b\b\b\b\b\b\b\b\b\b\b\b\b\b\b\b\b\b\b\b\b\b\b\b\b\b\b\b\b\b\b\b\b\b\b\b\b\b\b\b\b\b\b\b\b\b\b\b\b\b\b\b\b\b\b\b\b\r",
      "640/640 [==============================] - 33s 52ms/step - loss: 0.4399 - auc: 0.8746 - binary_accuracy: 0.7894 - val_loss: 0.4384 - val_auc: 0.8756 - val_binary_accuracy: 0.7901 - lr: 0.0010\n"
     ]
    },
    {
     "name": "stdout",
     "output_type": "stream",
     "text": [
      "Epoch 11/50\n"
     ]
    },
    {
     "name": "stdout",
     "output_type": "stream",
     "text": [
      "\r",
      "256/640 [===========>..................] - ETA: 3s - loss: 0.4375 - auc: 0.8761 - binary_accuracy: 0.7911"
     ]
    },
    {
     "name": "stdout",
     "output_type": "stream",
     "text": [
      "\b\b\b\b\b\b\b\b\b\b\b\b\b\b\b\b\b\b\b\b\b\b\b\b\b\b\b\b\b\b\b\b\b\b\b\b\b\b\b\b\b\b\b\b\b\b\b\b\b\b\b\b\b\b\b\b\b\b\b\b\b\b\b\b\b\b\b\b\b\b\b\b\b\b\b\b\b\b\b\b\b\b\b\b\b\b\b\b\b\b\b\b\b\b\b\b\b\b\b\b\b\b\b\b\b\r",
      "512/640 [=======================>......] - ETA: 2s - loss: 0.4369 - auc: 0.8765 - binary_accuracy: 0.7913"
     ]
    },
    {
     "name": "stdout",
     "output_type": "stream",
     "text": [
      "\b\b\b\b\b\b\b\b\b\b\b\b\b\b\b\b\b\b\b\b\b\b\b\b\b\b\b\b\b\b\b\b\b\b\b\b\b\b\b\b\b\b\b\b\b\b\b\b\b\b\b\b\b\b\b\b\b\b\b\b\b\b\b\b\b\b\b\b\b\b\b\b\b\b\b\b\b\b\b\b\b\b\b\b\b\b\b\b\b\b\b\b\b\b\b\b\b\b\b\b\b\b\b\b\b\r",
      "640/640 [==============================] - ETA: 0s - loss: 0.4365 - auc: 0.8768 - binary_accuracy: 0.7916"
     ]
    },
    {
     "name": "stdout",
     "output_type": "stream",
     "text": [
      "\b\b\b\b\b\b\b\b\b\b\b\b\b\b\b\b\b\b\b\b\b\b\b\b\b\b\b\b\b\b\b\b\b\b\b\b\b\b\b\b\b\b\b\b\b\b\b\b\b\b\b\b\b\b\b\b\b\b\b\b\b\b\b\b\b\b\b\b\b\b\b\b\b\b\b\b\b\b\b\b\b\b\b\b\b\b\b\b\b\b\b\b\b\b\b\b\b\b\b\b\b\b\b\b\b\r",
      "640/640 [==============================] - 33s 52ms/step - loss: 0.4365 - auc: 0.8768 - binary_accuracy: 0.7916 - val_loss: 0.4355 - val_auc: 0.8776 - val_binary_accuracy: 0.7922 - lr: 0.0010\n"
     ]
    },
    {
     "name": "stdout",
     "output_type": "stream",
     "text": [
      "Epoch 12/50\n"
     ]
    },
    {
     "name": "stdout",
     "output_type": "stream",
     "text": [
      "\r",
      "256/640 [===========>..................] - ETA: 3s - loss: 0.4341 - auc: 0.8782 - binary_accuracy: 0.7931"
     ]
    },
    {
     "name": "stdout",
     "output_type": "stream",
     "text": [
      "\b\b\b\b\b\b\b\b\b\b\b\b\b\b\b\b\b\b\b\b\b\b\b\b\b\b\b\b\b\b\b\b\b\b\b\b\b\b\b\b\b\b\b\b\b\b\b\b\b\b\b\b\b\b\b\b\b\b\b\b\b\b\b\b\b\b\b\b\b\b\b\b\b\b\b\b\b\b\b\b\b\b\b\b\b\b\b\b\b\b\b\b\b\b\b\b\b\b\b\b\b\b\b\b\b\r",
      "512/640 [=======================>......] - ETA: 2s - loss: 0.4335 - auc: 0.8786 - binary_accuracy: 0.7934"
     ]
    },
    {
     "name": "stdout",
     "output_type": "stream",
     "text": [
      "\b\b\b\b\b\b\b\b\b\b\b\b\b\b\b\b\b\b\b\b\b\b\b\b\b\b\b\b\b\b\b\b\b\b\b\b\b\b\b\b\b\b\b\b\b\b\b\b\b\b\b\b\b\b\b\b\b\b\b\b\b\b\b\b\b\b\b\b\b\b\b\b\b\b\b\b\b\b\b\b\b\b\b\b\b\b\b\b\b\b\b\b\b\b\b\b\b\b\b\b\b\b\b\b\b\r",
      "640/640 [==============================] - ETA: 0s - loss: 0.4331 - auc: 0.8789 - binary_accuracy: 0.7936"
     ]
    },
    {
     "name": "stdout",
     "output_type": "stream",
     "text": [
      "\b\b\b\b\b\b\b\b\b\b\b\b\b\b\b\b\b\b\b\b\b\b\b\b\b\b\b\b\b\b\b\b\b\b\b\b\b\b\b\b\b\b\b\b\b\b\b\b\b\b\b\b\b\b\b\b\b\b\b\b\b\b\b\b\b\b\b\b\b\b\b\b\b\b\b\b\b\b\b\b\b\b\b\b\b\b\b\b\b\b\b\b\b\b\b\b\b\b\b\b\b\b\b\b\b\r",
      "640/640 [==============================] - 33s 51ms/step - loss: 0.4331 - auc: 0.8789 - binary_accuracy: 0.7936 - val_loss: 0.4331 - val_auc: 0.8790 - val_binary_accuracy: 0.7938 - lr: 0.0010\n"
     ]
    },
    {
     "name": "stdout",
     "output_type": "stream",
     "text": [
      "Epoch 13/50\n"
     ]
    },
    {
     "name": "stdout",
     "output_type": "stream",
     "text": [
      "\r",
      "256/640 [===========>..................] - ETA: 3s - loss: 0.4307 - auc: 0.8803 - binary_accuracy: 0.7951"
     ]
    },
    {
     "name": "stdout",
     "output_type": "stream",
     "text": [
      "\b\b\b\b\b\b\b\b\b\b\b\b\b\b\b\b\b\b\b\b\b\b\b\b\b\b\b\b\b\b\b\b\b\b\b\b\b\b\b\b\b\b\b\b\b\b\b\b\b\b\b\b\b\b\b\b\b\b\b\b\b\b\b\b\b\b\b\b\b\b\b\b\b\b\b\b\b\b\b\b\b\b\b\b\b\b\b\b\b\b\b\b\b\b\b\b\b\b\b\b\b\b\b\b\b\r",
      "512/640 [=======================>......] - ETA: 2s - loss: 0.4302 - auc: 0.8806 - binary_accuracy: 0.7954"
     ]
    },
    {
     "name": "stdout",
     "output_type": "stream",
     "text": [
      "\b\b\b\b\b\b\b\b\b\b\b\b\b\b\b\b\b\b\b\b\b\b\b\b\b\b\b\b\b\b\b\b\b\b\b\b\b\b\b\b\b\b\b\b\b\b\b\b\b\b\b\b\b\b\b\b\b\b\b\b\b\b\b\b\b\b\b\b\b\b\b\b\b\b\b\b\b\b\b\b\b\b\b\b\b\b\b\b\b\b\b\b\b\b\b\b\b\b\b\b\b\b\b\b\b\r",
      "640/640 [==============================] - ETA: 0s - loss: 0.4297 - auc: 0.8809 - binary_accuracy: 0.7956"
     ]
    },
    {
     "name": "stdout",
     "output_type": "stream",
     "text": [
      "\b\b\b\b\b\b\b\b\b\b\b\b\b\b\b\b\b\b\b\b\b\b\b\b\b\b\b\b\b\b\b\b\b\b\b\b\b\b\b\b\b\b\b\b\b\b\b\b\b\b\b\b\b\b\b\b\b\b\b\b\b\b\b\b\b\b\b\b\b\b\b\b\b\b\b\b\b\b\b\b\b\b\b\b\b\b\b\b\b\b\b\b\b\b\b\b\b\b\b\b\b\b\b\b\b\r",
      "640/640 [==============================] - 34s 54ms/step - loss: 0.4297 - auc: 0.8809 - binary_accuracy: 0.7956 - val_loss: 0.4313 - val_auc: 0.8801 - val_binary_accuracy: 0.7945 - lr: 0.0010\n"
     ]
    },
    {
     "name": "stdout",
     "output_type": "stream",
     "text": [
      "Epoch 14/50\n"
     ]
    },
    {
     "name": "stdout",
     "output_type": "stream",
     "text": [
      "\r",
      "256/640 [===========>..................] - ETA: 3s - loss: 0.4278 - auc: 0.8821 - binary_accuracy: 0.7968"
     ]
    },
    {
     "name": "stdout",
     "output_type": "stream",
     "text": [
      "\b\b\b\b\b\b\b\b\b\b\b\b\b\b\b\b\b\b\b\b\b\b\b\b\b\b\b\b\b\b\b\b\b\b\b\b\b\b\b\b\b\b\b\b\b\b\b\b\b\b\b\b\b\b\b\b\b\b\b\b\b\b\b\b\b\b\b\b\b\b\b\b\b\b\b\b\b\b\b\b\b\b\b\b\b\b\b\b\b\b\b\b\b\b\b\b\b\b\b\b\b\b\b\b\b\r",
      "512/640 [=======================>......] - ETA: 3s - loss: 0.4270 - auc: 0.8825 - binary_accuracy: 0.7973"
     ]
    },
    {
     "name": "stdout",
     "output_type": "stream",
     "text": [
      "\b\b\b\b\b\b\b\b\b\b\b\b\b\b\b\b\b\b\b\b\b\b\b\b\b\b\b\b\b\b\b\b\b\b\b\b\b\b\b\b\b\b\b\b\b\b\b\b\b\b\b\b\b\b\b\b\b\b\b\b\b\b\b\b\b\b\b\b\b\b\b\b\b\b\b\b\b\b\b\b\b\b\b\b\b\b\b\b\b\b\b\b\b\b\b\b\b\b\b\b\b\b\b\b\b\r",
      "640/640 [==============================] - ETA: 0s - loss: 0.4266 - auc: 0.8828 - binary_accuracy: 0.7975"
     ]
    },
    {
     "name": "stdout",
     "output_type": "stream",
     "text": [
      "\b\b\b\b\b\b\b\b\b\b\b\b\b\b\b\b\b\b\b\b\b\b\b\b\b\b\b\b\b\b\b\b\b\b\b\b\b\b\b\b\b\b\b\b\b\b\b\b\b\b\b\b\b\b\b\b\b\b\b\b\b\b\b\b\b\b\b\b\b\b\b\b\b\b\b\b\b\b\b\b\b\b\b\b\b\b\b\b\b\b\b\b\b\b\b\b\b\b\b\b\b\b\b\b\b\r",
      "640/640 [==============================] - 37s 58ms/step - loss: 0.4266 - auc: 0.8828 - binary_accuracy: 0.7975 - val_loss: 0.4275 - val_auc: 0.8821 - val_binary_accuracy: 0.7968 - lr: 0.0010\n"
     ]
    },
    {
     "name": "stdout",
     "output_type": "stream",
     "text": [
      "Epoch 15/50\n"
     ]
    },
    {
     "name": "stdout",
     "output_type": "stream",
     "text": [
      "\r",
      "256/640 [===========>..................] - ETA: 3s - loss: 0.4246 - auc: 0.8840 - binary_accuracy: 0.7990"
     ]
    },
    {
     "name": "stdout",
     "output_type": "stream",
     "text": [
      "\b\b\b\b\b\b\b\b\b\b\b\b\b\b\b\b\b\b\b\b\b\b\b\b\b\b\b\b\b\b\b\b\b\b\b\b\b\b\b\b\b\b\b\b\b\b\b\b\b\b\b\b\b\b\b\b\b\b\b\b\b\b\b\b\b\b\b\b\b\b\b\b\b\b\b\b\b\b\b\b\b\b\b\b\b\b\b\b\b\b\b\b\b\b\b\b\b\b\b\b\b\b\b\b\b\r",
      "512/640 [=======================>......] - ETA: 3s - loss: 0.4237 - auc: 0.8845 - binary_accuracy: 0.7994"
     ]
    },
    {
     "name": "stdout",
     "output_type": "stream",
     "text": [
      "\b\b\b\b\b\b\b\b\b\b\b\b\b\b\b\b\b\b\b\b\b\b\b\b\b\b\b\b\b\b\b\b\b\b\b\b\b\b\b\b\b\b\b\b\b\b\b\b\b\b\b\b\b\b\b\b\b\b\b\b\b\b\b\b\b\b\b\b\b\b\b\b\b\b\b\b\b\b\b\b\b\b\b\b\b\b\b\b\b\b\b\b\b\b\b\b\b\b\b\b\b\b\b\b\b\r",
      "640/640 [==============================] - ETA: 0s - loss: 0.4234 - auc: 0.8847 - binary_accuracy: 0.7996"
     ]
    },
    {
     "name": "stdout",
     "output_type": "stream",
     "text": [
      "\b\b\b\b\b\b\b\b\b\b\b\b\b\b\b\b\b\b\b\b\b\b\b\b\b\b\b\b\b\b\b\b\b\b\b\b\b\b\b\b\b\b\b\b\b\b\b\b\b\b\b\b\b\b\b\b\b\b\b\b\b\b\b\b\b\b\b\b\b\b\b\b\b\b\b\b\b\b\b\b\b\b\b\b\b\b\b\b\b\b\b\b\b\b\b\b\b\b\b\b\b\b\b\b\b\r",
      "640/640 [==============================] - 36s 57ms/step - loss: 0.4234 - auc: 0.8847 - binary_accuracy: 0.7996 - val_loss: 0.4282 - val_auc: 0.8825 - val_binary_accuracy: 0.7962 - lr: 0.0010\n"
     ]
    },
    {
     "name": "stdout",
     "output_type": "stream",
     "text": [
      "Epoch 16/50\n"
     ]
    },
    {
     "name": "stdout",
     "output_type": "stream",
     "text": [
      "\r",
      "256/640 [===========>..................] - ETA: 3s - loss: 0.4214 - auc: 0.8859 - binary_accuracy: 0.8010"
     ]
    },
    {
     "name": "stdout",
     "output_type": "stream",
     "text": [
      "\b\b\b\b\b\b\b\b\b\b\b\b\b\b\b\b\b\b\b\b\b\b\b\b\b\b\b\b\b\b\b\b\b\b\b\b\b\b\b\b\b\b\b\b\b\b\b\b\b\b\b\b\b\b\b\b\b\b\b\b\b\b\b\b\b\b\b\b\b\b\b\b\b\b\b\b\b\b\b\b\b\b\b\b\b\b\b\b\b\b\b\b\b\b\b\b\b\b\b\b\b\b\b\b\b\r",
      "512/640 [=======================>......] - ETA: 3s - loss: 0.4208 - auc: 0.8863 - binary_accuracy: 0.8013"
     ]
    },
    {
     "name": "stdout",
     "output_type": "stream",
     "text": [
      "\b\b\b\b\b\b\b\b\b\b\b\b\b\b\b\b\b\b\b\b\b\b\b\b\b\b\b\b\b\b\b\b\b\b\b\b\b\b\b\b\b\b\b\b\b\b\b\b\b\b\b\b\b\b\b\b\b\b\b\b\b\b\b\b\b\b\b\b\b\b\b\b\b\b\b\b\b\b\b\b\b\b\b\b\b\b\b\b\b\b\b\b\b\b\b\b\b\b\b\b\b\b\b\b\b\r",
      "640/640 [==============================] - ETA: 0s - loss: 0.4203 - auc: 0.8866 - binary_accuracy: 0.8016"
     ]
    },
    {
     "name": "stdout",
     "output_type": "stream",
     "text": [
      "\b\b\b\b\b\b\b\b\b\b\b\b\b\b\b\b\b\b\b\b\b\b\b\b\b\b\b\b\b\b\b\b\b\b\b\b\b\b\b\b\b\b\b\b\b\b\b\b\b\b\b\b\b\b\b\b\b\b\b\b\b\b\b\b\b\b\b\b\b\b\b\b\b\b\b\b\b\b\b\b\b\b\b\b\b\b\b\b\b\b\b\b\b\b\b\b\b\b\b\b\b\b\b\b\b\r",
      "640/640 [==============================] - 38s 59ms/step - loss: 0.4203 - auc: 0.8866 - binary_accuracy: 0.8016 - val_loss: 0.4264 - val_auc: 0.8830 - val_binary_accuracy: 0.7974 - lr: 0.0010\n"
     ]
    },
    {
     "name": "stdout",
     "output_type": "stream",
     "text": [
      "Epoch 17/50\n"
     ]
    },
    {
     "name": "stdout",
     "output_type": "stream",
     "text": [
      "\r",
      "256/640 [===========>..................] - ETA: 3s - loss: 0.4181 - auc: 0.8878 - binary_accuracy: 0.8028"
     ]
    },
    {
     "name": "stdout",
     "output_type": "stream",
     "text": [
      "\b\b\b\b\b\b\b\b\b\b\b\b\b\b\b\b\b\b\b\b\b\b\b\b\b\b\b\b\b\b\b\b\b\b\b\b\b\b\b\b\b\b\b\b\b\b\b\b\b\b\b\b\b\b\b\b\b\b\b\b\b\b\b\b\b\b\b\b\b\b\b\b\b\b\b\b\b\b\b\b\b\b\b\b\b\b\b\b\b\b\b\b\b\b\b\b\b\b\b\b\b\b\b\b\b\r",
      "512/640 [=======================>......] - ETA: 3s - loss: 0.4174 - auc: 0.8883 - binary_accuracy: 0.8032"
     ]
    },
    {
     "name": "stdout",
     "output_type": "stream",
     "text": [
      "\b\b\b\b\b\b\b\b\b\b\b\b\b\b\b\b\b\b\b\b\b\b\b\b\b\b\b\b\b\b\b\b\b\b\b\b\b\b\b\b\b\b\b\b\b\b\b\b\b\b\b\b\b\b\b\b\b\b\b\b\b\b\b\b\b\b\b\b\b\b\b\b\b\b\b\b\b\b\b\b\b\b\b\b\b\b\b\b\b\b\b\b\b\b\b\b\b\b\b\b\b\b\b\b\b\r",
      "640/640 [==============================] - ETA: 0s - loss: 0.4169 - auc: 0.8885 - binary_accuracy: 0.8035"
     ]
    },
    {
     "name": "stdout",
     "output_type": "stream",
     "text": [
      "\b\b\b\b\b\b\b\b\b\b\b\b\b\b\b\b\b\b\b\b\b\b\b\b\b\b\b\b\b\b\b\b\b\b\b\b\b\b\b\b\b\b\b\b\b\b\b\b\b\b\b\b\b\b\b\b\b\b\b\b\b\b\b\b\b\b\b\b\b\b\b\b\b\b\b\b\b\b\b\b\b\b\b\b\b\b\b\b\b\b\b\b\b\b\b\b\b\b\b\b\b\b\b\b\b\r",
      "640/640 [==============================] - 36s 56ms/step - loss: 0.4169 - auc: 0.8885 - binary_accuracy: 0.8035 - val_loss: 0.4260 - val_auc: 0.8834 - val_binary_accuracy: 0.7983 - lr: 0.0010\n"
     ]
    },
    {
     "name": "stdout",
     "output_type": "stream",
     "text": [
      "Epoch 18/50\n"
     ]
    },
    {
     "name": "stdout",
     "output_type": "stream",
     "text": [
      "\r",
      "256/640 [===========>..................] - ETA: 3s - loss: 0.4149 - auc: 0.8897 - binary_accuracy: 0.8048"
     ]
    },
    {
     "name": "stdout",
     "output_type": "stream",
     "text": [
      "\b\b\b\b\b\b\b\b\b\b\b\b\b\b\b\b\b\b\b\b\b\b\b\b\b\b\b\b\b\b\b\b\b\b\b\b\b\b\b\b\b\b\b\b\b\b\b\b\b\b\b\b\b\b\b\b\b\b\b\b\b\b\b\b\b\b\b\b\b\b\b\b\b\b\b\b\b\b\b\b\b\b\b\b\b\b\b\b\b\b\b\b\b\b\b\b\b\b\b\b\b\b\b\b\b\r",
      "512/640 [=======================>......] - ETA: 3s - loss: 0.4141 - auc: 0.8902 - binary_accuracy: 0.8051"
     ]
    },
    {
     "name": "stdout",
     "output_type": "stream",
     "text": [
      "\b\b\b\b\b\b\b\b\b\b\b\b\b\b\b\b\b\b\b\b\b\b\b\b\b\b\b\b\b\b\b\b\b\b\b\b\b\b\b\b\b\b\b\b\b\b\b\b\b\b\b\b\b\b\b\b\b\b\b\b\b\b\b\b\b\b\b\b\b\b\b\b\b\b\b\b\b\b\b\b\b\b\b\b\b\b\b\b\b\b\b\b\b\b\b\b\b\b\b\b\b\b\b\b\b\r",
      "640/640 [==============================] - ETA: 0s - loss: 0.4137 - auc: 0.8904 - binary_accuracy: 0.8053"
     ]
    },
    {
     "name": "stdout",
     "output_type": "stream",
     "text": [
      "\b\b\b\b\b\b\b\b\b\b\b\b\b\b\b\b\b\b\b\b\b\b\b\b\b\b\b\b\b\b\b\b\b\b\b\b\b\b\b\b\b\b\b\b\b\b\b\b\b\b\b\b\b\b\b\b\b\b\b\b\b\b\b\b\b\b\b\b\b\b\b\b\b\b\b\b\b\b\b\b\b\b\b\b\b\b\b\b\b\b\b\b\b\b\b\b\b\b\b\b\b\b\b\b\b\r",
      "640/640 [==============================] - 36s 57ms/step - loss: 0.4137 - auc: 0.8904 - binary_accuracy: 0.8053 - val_loss: 0.4257 - val_auc: 0.8839 - val_binary_accuracy: 0.7983 - lr: 0.0010\n"
     ]
    }
   ],
   "source": [
    "history = wide_and_deep.fit(\n",
    "    ds_train,\n",
    "    validation_data=ds_valid,\n",
    "    epochs=50,\n",
    "    steps_per_epoch=steps_per_epoch,\n",
    "    validation_steps=validation_steps,\n",
    "    callbacks=[early_stopping, lr_schedule],\n",
    ")"
   ]
  },
  {
   "cell_type": "code",
   "execution_count": 9,
   "id": "2f6d2148",
   "metadata": {
    "execution": {
     "iopub.execute_input": "2025-08-18T14:09:38.441712Z",
     "iopub.status.busy": "2025-08-18T14:09:38.441399Z",
     "iopub.status.idle": "2025-08-18T14:09:39.655640Z",
     "shell.execute_reply": "2025-08-18T14:09:39.650930Z"
    },
    "papermill": {
     "duration": 1.229293,
     "end_time": "2025-08-18T14:09:39.658512",
     "exception": false,
     "start_time": "2025-08-18T14:09:38.429219",
     "status": "completed"
    },
    "tags": []
   },
   "outputs": [
    {
     "data": {
      "image/png": "[encoded data removed]",
      "text/plain": [
       "<Figure size 640x480 with 1 Axes>"
      ]
     },
     "metadata": {},
     "output_type": "display_data"
    },
    {
     "data": {
      "image/png": "[encoded data removed]",
      "text/plain": [
       "<Figure size 640x480 with 1 Axes>"
      ]
     },
     "metadata": {},
     "output_type": "display_data"
    }
   ],
   "source": [
    "history_frame = pd.DataFrame(history.history)\n",
    "history_frame.loc[:, ['loss', 'val_loss']].plot(title='Cross-entropy Loss')\n",
    "history_frame.loc[:, ['auc', 'val_auc']].plot(title='AUC');"
   ]
  },
  {
   "cell_type": "markdown",
   "id": "6666ce30",
   "metadata": {
    "papermill": {
     "duration": 0.010783,
     "end_time": "2025-08-18T14:09:39.680494",
     "exception": false,
     "start_time": "2025-08-18T14:09:39.669711",
     "status": "completed"
    },
    "tags": []
   },
   "source": [
    "# References #\n",
    "\n",
    "- Baldi, P. et al. *Searching for Exotic Particles in High-Energy Physics with Deep Learning*. (2014) ([arXiv](https://arxiv.org/abs/1402.4735))\n",
    "- Cheng, H. et al. *Wide & Deep Learning for Recommender Systems*. (2016) ([arXiv](https://arxiv.org/abs/1606.07792))\n",
    "- *What Exactly is the Higgs Boson?* Scientific American. (1999) [(article)](https://www.scientificamerican.com/article/what-exactly-is-the-higgs/)]\n",
    "\n",
    "[^1]: In the original implementation, categorical features were one-hot encoded and crossed to produce the interaction features. This \"wide\" dataset was used with the linear component. For the deep component, the categories were encoded into a much narrower embedding layer."
   ]
  },
  {
   "cell_type": "markdown",
   "id": "eaf886e3",
   "metadata": {
    "papermill": {
     "duration": 0.01024,
     "end_time": "2025-08-18T14:09:39.701187",
     "exception": false,
     "start_time": "2025-08-18T14:09:39.690947",
     "status": "completed"
    },
    "tags": []
   },
   "source": [
    "---\n",
    "\n",
    "\n",
    "\n",
    "\n",
    "*Have questions or comments? Visit the [Learn Discussion forum](https://www.kaggle.com/learn-forum/191966) to chat with other Learners.*"
   ]
  }
 ],
 "metadata": {
  "kaggle": {
   "accelerator": "tpu1vmV38",
   "dataSources": [
    {
     "datasetId": 900871,
     "sourceId": 1532633,
     "sourceType": "datasetVersion"
    }
   ],
   "isGpuEnabled": false,
   "isInternetEnabled": true,
   "language": "python",
   "sourceType": "notebook"
  },
  "kernelspec": {
   "display_name": "Python 3",
   "language": "python",
   "name": "python3"
  },
  "language_info": {
   "codemirror_mode": {
    "name": "ipython",
    "version": 3
   },
   "file_extension": ".py",
   "mimetype": "text/x-python",
   "name": "python",
   "nbconvert_exporter": "python",
   "pygments_lexer": "ipython3",
   "version": "3.10.18"
  },
  "papermill": {
   "default_parameters": {},
   "duration": 1059.467085,
   "end_time": "2025-08-18T14:09:45.358434",
   "environment_variables": {},
   "exception": null,
   "input_path": "__notebook__.ipynb",
   "output_path": "__notebook__.ipynb",
   "parameters": {},
   "start_time": "2025-08-18T13:52:05.891349",
   "version": "2.6.0"
  }
 },
 "nbformat": 4,
 "nbformat_minor": 5
}
