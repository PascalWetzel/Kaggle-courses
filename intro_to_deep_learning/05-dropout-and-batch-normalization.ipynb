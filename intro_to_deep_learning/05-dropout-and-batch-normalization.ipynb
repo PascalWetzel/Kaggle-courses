{
 "cells": [
  {
   "cell_type": "markdown",
   "id": "a92ec0cc",
   "metadata": {
    "papermill": {
     "duration": 0.004314,
     "end_time": "2025-08-18T10:05:53.906783",
     "exception": false,
     "start_time": "2025-08-18T10:05:53.902469",
     "status": "completed"
    },
    "tags": []
   },
   "source": [
    "**This notebook is an exercise in the [Intro to Deep Learning](https://www.kaggle.com/learn/intro-to-deep-learning) course.  You can reference the tutorial at [this link](https://www.kaggle.com/ryanholbrook/dropout-and-batch-normalization).**\n",
    "\n",
    "---\n"
   ]
  },
  {
   "cell_type": "markdown",
   "id": "6d26fe1b",
   "metadata": {
    "papermill": {
     "duration": 0.003369,
     "end_time": "2025-08-18T10:05:53.913910",
     "exception": false,
     "start_time": "2025-08-18T10:05:53.910541",
     "status": "completed"
    },
    "tags": []
   },
   "source": [
    "# Introduction #\n",
    "\n",
    "In this exercise, you'll add dropout to the *Spotify* model from Exercise 4 and see how batch normalization can let you successfully train models on difficult datasets.\n",
    "\n",
    "Run the next cell to get started!"
   ]
  },
  {
   "cell_type": "code",
   "execution_count": 1,
   "id": "94d6f01f",
   "metadata": {
    "execution": {
     "iopub.execute_input": "2025-08-18T10:05:53.922377Z",
     "iopub.status.busy": "2025-08-18T10:05:53.922062Z",
     "iopub.status.idle": "2025-08-18T10:05:54.666328Z",
     "shell.execute_reply": "2025-08-18T10:05:54.665405Z"
    },
    "papermill": {
     "duration": 0.750833,
     "end_time": "2025-08-18T10:05:54.668320",
     "exception": false,
     "start_time": "2025-08-18T10:05:53.917487",
     "status": "completed"
    },
    "tags": []
   },
   "outputs": [],
   "source": [
    "# Setup plotting\n",
    "import matplotlib.pyplot as plt\n",
    "\n",
    "plt.style.use('seaborn-v0_8-whitegrid')\n",
    "# Set Matplotlib defaults\n",
    "plt.rc('figure', autolayout=True)\n",
    "plt.rc('axes', labelweight='bold', labelsize='large',\n",
    "       titleweight='bold', titlesize=18, titlepad=10)\n",
    "plt.rc('animation', html='html5')\n",
    "\n",
    "# Setup feedback system\n",
    "from learntools.core import binder\n",
    "binder.bind(globals())\n",
    "from learntools.deep_learning_intro.ex5 import *"
   ]
  },
  {
   "cell_type": "markdown",
   "id": "7f9d7e69",
   "metadata": {
    "papermill": {
     "duration": 0.003583,
     "end_time": "2025-08-18T10:05:54.675824",
     "exception": false,
     "start_time": "2025-08-18T10:05:54.672241",
     "status": "completed"
    },
    "tags": []
   },
   "source": [
    "First load the *Spotify* dataset."
   ]
  },
  {
   "cell_type": "code",
   "execution_count": 2,
   "id": "3a60079f",
   "metadata": {
    "execution": {
     "iopub.execute_input": "2025-08-18T10:05:54.684591Z",
     "iopub.status.busy": "2025-08-18T10:05:54.683850Z",
     "iopub.status.idle": "2025-08-18T10:06:07.099760Z",
     "shell.execute_reply": "2025-08-18T10:06:07.098823Z"
    },
    "papermill": {
     "duration": 12.422245,
     "end_time": "2025-08-18T10:06:07.101660",
     "exception": false,
     "start_time": "2025-08-18T10:05:54.679415",
     "status": "completed"
    },
    "tags": []
   },
   "outputs": [
    {
     "name": "stderr",
     "output_type": "stream",
     "text": [
      "2025-08-18 10:05:57.360023: E external/local_xla/xla/stream_executor/cuda/cuda_dnn.cc:9261] Unable to register cuDNN factory: Attempting to register factory for plugin cuDNN when one has already been registered\n",
      "2025-08-18 10:05:57.360150: E external/local_xla/xla/stream_executor/cuda/cuda_fft.cc:607] Unable to register cuFFT factory: Attempting to register factory for plugin cuFFT when one has already been registered\n",
      "2025-08-18 10:05:57.472900: E external/local_xla/xla/stream_executor/cuda/cuda_blas.cc:1515] Unable to register cuBLAS factory: Attempting to register factory for plugin cuBLAS when one has already been registered\n"
     ]
    },
    {
     "name": "stdout",
     "output_type": "stream",
     "text": [
      "Input shape: [18]\n"
     ]
    }
   ],
   "source": [
    "import pandas as pd\n",
    "from sklearn.preprocessing import StandardScaler, OneHotEncoder\n",
    "from sklearn.compose import make_column_transformer\n",
    "from sklearn.model_selection import GroupShuffleSplit\n",
    "\n",
    "from tensorflow import keras\n",
    "from tensorflow.keras import layers\n",
    "from tensorflow.keras import callbacks\n",
    "\n",
    "spotify = pd.read_csv('../input/dl-course-data/spotify.csv')\n",
    "\n",
    "X = spotify.copy().dropna()\n",
    "y = X.pop('track_popularity')\n",
    "artists = X['track_artist']\n",
    "\n",
    "features_num = ['danceability', 'energy', 'key', 'loudness', 'mode',\n",
    "                'speechiness', 'acousticness', 'instrumentalness',\n",
    "                'liveness', 'valence', 'tempo', 'duration_ms']\n",
    "features_cat = ['playlist_genre']\n",
    "\n",
    "preprocessor = make_column_transformer(\n",
    "    (StandardScaler(), features_num),\n",
    "    (OneHotEncoder(), features_cat),\n",
    ")\n",
    "\n",
    "def group_split(X, y, group, train_size=0.75):\n",
    "    splitter = GroupShuffleSplit(train_size=train_size)\n",
    "    train, test = next(splitter.split(X, y, groups=group))\n",
    "    return (X.iloc[train], X.iloc[test], y.iloc[train], y.iloc[test])\n",
    "\n",
    "X_train, X_valid, y_train, y_valid = group_split(X, y, artists)\n",
    "\n",
    "X_train = preprocessor.fit_transform(X_train)\n",
    "X_valid = preprocessor.transform(X_valid)\n",
    "y_train = y_train / 100\n",
    "y_valid = y_valid / 100\n",
    "\n",
    "input_shape = [X_train.shape[1]]\n",
    "print(\"Input shape: {}\".format(input_shape))"
   ]
  },
  {
   "cell_type": "markdown",
   "id": "a4fdf3dd",
   "metadata": {
    "papermill": {
     "duration": 0.00362,
     "end_time": "2025-08-18T10:06:07.109307",
     "exception": false,
     "start_time": "2025-08-18T10:06:07.105687",
     "status": "completed"
    },
    "tags": []
   },
   "source": [
    "# 1) Add Dropout to Spotify Model\n",
    "\n",
    "Here is the last model from Exercise 4. Add two dropout layers, one after the `Dense` layer with 128 units, and one after the `Dense` layer with 64 units. Set the dropout rate on both to `0.3`."
   ]
  },
  {
   "cell_type": "code",
   "execution_count": 3,
   "id": "d82efe8f",
   "metadata": {
    "execution": {
     "iopub.execute_input": "2025-08-18T10:06:07.117732Z",
     "iopub.status.busy": "2025-08-18T10:06:07.117446Z",
     "iopub.status.idle": "2025-08-18T10:06:08.009918Z",
     "shell.execute_reply": "2025-08-18T10:06:08.009084Z"
    },
    "lines_to_next_cell": 2,
    "papermill": {
     "duration": 0.901158,
     "end_time": "2025-08-18T10:06:08.014098",
     "exception": false,
     "start_time": "2025-08-18T10:06:07.112940",
     "status": "completed"
    },
    "tags": []
   },
   "outputs": [
    {
     "data": {
      "application/javascript": [
       "parent.postMessage({\"jupyterEvent\": \"custom.exercise_interaction\", \"data\": {\"outcomeType\": 1, \"valueTowardsCompletion\": 0.25, \"interactionType\": 1, \"questionType\": 2, \"questionId\": \"1_Q1\", \"learnToolsVersion\": \"0.3.4\", \"failureMessage\": \"\", \"exceptionClass\": \"\", \"trace\": \"\"}}, \"*\")"
      ],
      "text/plain": [
       "<IPython.core.display.Javascript object>"
      ]
     },
     "metadata": {},
     "output_type": "display_data"
    },
    {
     "data": {
      "text/markdown": [
       "<span style=\"color:#33cc33\">Correct</span>"
      ],
      "text/plain": [
       "Correct"
      ]
     },
     "metadata": {},
     "output_type": "display_data"
    }
   ],
   "source": [
    "# YOUR CODE HERE: Add two 30% dropout layers, one after 128 and one after 64\n",
    "model = keras.Sequential([\n",
    "    layers.Dense(128, activation='relu', input_shape=input_shape),\n",
    "    layers.Dropout(0.3),\n",
    "    layers.Dense(64, activation='relu'),\n",
    "    layers.Dropout(0.3),\n",
    "    layers.Dense(1)\n",
    "])\n",
    "\n",
    "# Check your answer\n",
    "q_1.check()"
   ]
  },
  {
   "cell_type": "code",
   "execution_count": 4,
   "id": "fdb44554",
   "metadata": {
    "execution": {
     "iopub.execute_input": "2025-08-18T10:06:08.024100Z",
     "iopub.status.busy": "2025-08-18T10:06:08.023575Z",
     "iopub.status.idle": "2025-08-18T10:06:08.034051Z",
     "shell.execute_reply": "2025-08-18T10:06:08.033254Z"
    },
    "papermill": {
     "duration": 0.017346,
     "end_time": "2025-08-18T10:06:08.035665",
     "exception": false,
     "start_time": "2025-08-18T10:06:08.018319",
     "status": "completed"
    },
    "tags": []
   },
   "outputs": [
    {
     "data": {
      "application/javascript": [
       "parent.postMessage({\"jupyterEvent\": \"custom.exercise_interaction\", \"data\": {\"interactionType\": 2, \"questionType\": 2, \"questionId\": \"1_Q1\", \"learnToolsVersion\": \"0.3.4\", \"valueTowardsCompletion\": 0.0, \"failureMessage\": \"\", \"exceptionClass\": \"\", \"trace\": \"\", \"outcomeType\": 4}}, \"*\")"
      ],
      "text/plain": [
       "<IPython.core.display.Javascript object>"
      ]
     },
     "metadata": {},
     "output_type": "display_data"
    },
    {
     "data": {
      "text/markdown": [
       "<span style=\"color:#3366cc\">Hint:</span> Your answer should look something like:\n",
       "```python\n",
       "model = keras.Sequential([\n",
       "    # Dense\n",
       "    # Dropout\n",
       "    # Dense\n",
       "    # Droput\n",
       "    # Dense\n",
       "])\n",
       "```\n"
      ],
      "text/plain": [
       "Hint: Your answer should look something like:\n",
       "```python\n",
       "model = keras.Sequential([\n",
       "    # Dense\n",
       "    # Dropout\n",
       "    # Dense\n",
       "    # Droput\n",
       "    # Dense\n",
       "])\n",
       "```"
      ]
     },
     "metadata": {},
     "output_type": "display_data"
    },
    {
     "data": {
      "application/javascript": [
       "parent.postMessage({\"jupyterEvent\": \"custom.exercise_interaction\", \"data\": {\"interactionType\": 3, \"questionType\": 2, \"questionId\": \"1_Q1\", \"learnToolsVersion\": \"0.3.4\", \"valueTowardsCompletion\": 0.0, \"failureMessage\": \"\", \"exceptionClass\": \"\", \"trace\": \"\", \"outcomeType\": 4}}, \"*\")"
      ],
      "text/plain": [
       "<IPython.core.display.Javascript object>"
      ]
     },
     "metadata": {},
     "output_type": "display_data"
    },
    {
     "data": {
      "text/markdown": [
       "<span style=\"color:#33cc99\">Solution:</span> \n",
       "```python\n",
       "\n",
       "model = keras.Sequential([\n",
       "    layers.Dense(128, activation='relu', input_shape=input_shape),\n",
       "    layers.Dropout(0.3),\n",
       "    layers.Dense(64, activation='relu'),\n",
       "    layers.Dropout(0.3),\n",
       "    layers.Dense(1)\n",
       "])\n",
       "\n",
       "```"
      ],
      "text/plain": [
       "Solution: \n",
       "```python\n",
       "\n",
       "model = keras.Sequential([\n",
       "    layers.Dense(128, activation='relu', input_shape=input_shape),\n",
       "    layers.Dropout(0.3),\n",
       "    layers.Dense(64, activation='relu'),\n",
       "    layers.Dropout(0.3),\n",
       "    layers.Dense(1)\n",
       "])\n",
       "\n",
       "```"
      ]
     },
     "metadata": {},
     "output_type": "display_data"
    }
   ],
   "source": [
    "# Lines below will give you a hint or solution code\n",
    "q_1.hint()\n",
    "q_1.solution()"
   ]
  },
  {
   "cell_type": "markdown",
   "id": "1a2c77c3",
   "metadata": {
    "papermill": {
     "duration": 0.004006,
     "end_time": "2025-08-18T10:06:08.043947",
     "exception": false,
     "start_time": "2025-08-18T10:06:08.039941",
     "status": "completed"
    },
    "tags": []
   },
   "source": [
    "Now run this next cell to train the model see the effect of adding dropout."
   ]
  },
  {
   "cell_type": "code",
   "execution_count": 5,
   "id": "b4b563cf",
   "metadata": {
    "execution": {
     "iopub.execute_input": "2025-08-18T10:06:08.054631Z",
     "iopub.status.busy": "2025-08-18T10:06:08.054089Z",
     "iopub.status.idle": "2025-08-18T10:06:18.956656Z",
     "shell.execute_reply": "2025-08-18T10:06:18.955770Z"
    },
    "papermill": {
     "duration": 10.910236,
     "end_time": "2025-08-18T10:06:18.958322",
     "exception": false,
     "start_time": "2025-08-18T10:06:08.048086",
     "status": "completed"
    },
    "tags": []
   },
   "outputs": [
    {
     "name": "stderr",
     "output_type": "stream",
     "text": [
      "WARNING: All log messages before absl::InitializeLog() is called are written to STDERR\n",
      "I0000 00:00:1755511570.407954      68 device_compiler.h:186] Compiled cluster using XLA!  This line is logged at most once for the lifetime of the process.\n"
     ]
    },
    {
     "name": "stdout",
     "output_type": "stream",
     "text": [
      "Minimum Validation Loss: 0.1909\n"
     ]
    },
    {
     "data": {
      "image/png": "[encoded data removed]",
      "text/plain": [
       "<Figure size 640x480 with 1 Axes>"
      ]
     },
     "metadata": {},
     "output_type": "display_data"
    }
   ],
   "source": [
    "model.compile(\n",
    "    optimizer='adam',\n",
    "    loss='mae',\n",
    ")\n",
    "history = model.fit(\n",
    "    X_train, y_train,\n",
    "    validation_data=(X_valid, y_valid),\n",
    "    batch_size=512,\n",
    "    epochs=50,\n",
    "    verbose=0,\n",
    ")\n",
    "history_df = pd.DataFrame(history.history)\n",
    "history_df.loc[:, ['loss', 'val_loss']].plot()\n",
    "print(\"Minimum Validation Loss: {:0.4f}\".format(history_df['val_loss'].min()))"
   ]
  },
  {
   "cell_type": "markdown",
   "id": "83804f05",
   "metadata": {
    "papermill": {
     "duration": 0.004603,
     "end_time": "2025-08-18T10:06:18.967844",
     "exception": false,
     "start_time": "2025-08-18T10:06:18.963241",
     "status": "completed"
    },
    "tags": []
   },
   "source": [
    "# 2) Evaluate Dropout\n",
    "\n",
    "Recall from Exercise 4 that this model tended to overfit the data around epoch 5. Did adding dropout seem to help prevent overfitting this time?"
   ]
  },
  {
   "cell_type": "code",
   "execution_count": 6,
   "id": "0133ae63",
   "metadata": {
    "execution": {
     "iopub.execute_input": "2025-08-18T10:06:18.978303Z",
     "iopub.status.busy": "2025-08-18T10:06:18.977998Z",
     "iopub.status.idle": "2025-08-18T10:06:18.984504Z",
     "shell.execute_reply": "2025-08-18T10:06:18.983736Z"
    },
    "papermill": {
     "duration": 0.013578,
     "end_time": "2025-08-18T10:06:18.986138",
     "exception": false,
     "start_time": "2025-08-18T10:06:18.972560",
     "status": "completed"
    },
    "tags": []
   },
   "outputs": [
    {
     "data": {
      "application/javascript": [
       "parent.postMessage({\"jupyterEvent\": \"custom.exercise_interaction\", \"data\": {\"outcomeType\": 1, \"valueTowardsCompletion\": 0.25, \"interactionType\": 1, \"questionType\": 4, \"questionId\": \"2_Q2\", \"learnToolsVersion\": \"0.3.4\", \"failureMessage\": \"\", \"exceptionClass\": \"\", \"trace\": \"\"}}, \"*\")"
      ],
      "text/plain": [
       "<IPython.core.display.Javascript object>"
      ]
     },
     "metadata": {},
     "output_type": "display_data"
    },
    {
     "data": {
      "text/markdown": [
       "<span style=\"color:#33cc33\">Correct:</span> \n",
       "\n",
       "\n",
       "From the learning curves, you can see that the validation loss remains near a constant minimum even though the training loss continues to decrease. So we can see that adding dropout did prevent overfitting this time. Moreover, by making it harder for the network to fit spurious patterns, dropout may have encouraged the network to seek out more of the true patterns, possibly improving the validation loss some as well).\n"
      ],
      "text/plain": [
       "Correct: \n",
       "\n",
       "\n",
       "From the learning curves, you can see that the validation loss remains near a constant minimum even though the training loss continues to decrease. So we can see that adding dropout did prevent overfitting this time. Moreover, by making it harder for the network to fit spurious patterns, dropout may have encouraged the network to seek out more of the true patterns, possibly improving the validation loss some as well)."
      ]
     },
     "metadata": {},
     "output_type": "display_data"
    }
   ],
   "source": [
    "# View the solution (Run this cell to receive credit!)\n",
    "q_2.check()"
   ]
  },
  {
   "cell_type": "markdown",
   "id": "968419fd",
   "metadata": {
    "papermill": {
     "duration": 0.004829,
     "end_time": "2025-08-18T10:06:18.995866",
     "exception": false,
     "start_time": "2025-08-18T10:06:18.991037",
     "status": "completed"
    },
    "tags": []
   },
   "source": [
    "Now, we'll switch topics to explore how batch normalization can fix problems in training.\n",
    "\n",
    "Load the *Concrete* dataset. We won't do any standardization this time. This will make the effect of batch normalization much more apparent."
   ]
  },
  {
   "cell_type": "code",
   "execution_count": 7,
   "id": "ae9d6166",
   "metadata": {
    "execution": {
     "iopub.execute_input": "2025-08-18T10:06:19.006576Z",
     "iopub.status.busy": "2025-08-18T10:06:19.006338Z",
     "iopub.status.idle": "2025-08-18T10:06:19.077454Z",
     "shell.execute_reply": "2025-08-18T10:06:19.076847Z"
    },
    "papermill": {
     "duration": 0.078333,
     "end_time": "2025-08-18T10:06:19.079084",
     "exception": false,
     "start_time": "2025-08-18T10:06:19.000751",
     "status": "completed"
    },
    "tags": []
   },
   "outputs": [],
   "source": [
    "import pandas as pd\n",
    "\n",
    "concrete = pd.read_csv('../input/dl-course-data/concrete.csv')\n",
    "df = concrete.copy()\n",
    "\n",
    "df_train = df.sample(frac=0.7, random_state=0)\n",
    "df_valid = df.drop(df_train.index)\n",
    "\n",
    "X_train = df_train.drop('CompressiveStrength', axis=1)\n",
    "X_valid = df_valid.drop('CompressiveStrength', axis=1)\n",
    "y_train = df_train['CompressiveStrength']\n",
    "y_valid = df_valid['CompressiveStrength']\n",
    "\n",
    "input_shape = [X_train.shape[1]]"
   ]
  },
  {
   "cell_type": "markdown",
   "id": "066a18d1",
   "metadata": {
    "papermill": {
     "duration": 0.004813,
     "end_time": "2025-08-18T10:06:19.088699",
     "exception": false,
     "start_time": "2025-08-18T10:06:19.083886",
     "status": "completed"
    },
    "tags": []
   },
   "source": [
    "Run the following cell to train the network on the unstandardized *Concrete* data."
   ]
  },
  {
   "cell_type": "code",
   "execution_count": 8,
   "id": "99ec07de",
   "metadata": {
    "execution": {
     "iopub.execute_input": "2025-08-18T10:06:19.099582Z",
     "iopub.status.busy": "2025-08-18T10:06:19.099096Z",
     "iopub.status.idle": "2025-08-18T10:06:25.886693Z",
     "shell.execute_reply": "2025-08-18T10:06:25.885736Z"
    },
    "papermill": {
     "duration": 6.794628,
     "end_time": "2025-08-18T10:06:25.888237",
     "exception": false,
     "start_time": "2025-08-18T10:06:19.093609",
     "status": "completed"
    },
    "tags": []
   },
   "outputs": [
    {
     "name": "stdout",
     "output_type": "stream",
     "text": [
      "Minimum Validation Loss: nan\n"
     ]
    },
    {
     "data": {
      "image/png": "[encoded data removed]",
      "text/plain": [
       "<Figure size 640x480 with 1 Axes>"
      ]
     },
     "metadata": {},
     "output_type": "display_data"
    }
   ],
   "source": [
    "model = keras.Sequential([\n",
    "    layers.Dense(512, activation='relu', input_shape=input_shape),\n",
    "    layers.Dense(512, activation='relu'),    \n",
    "    layers.Dense(512, activation='relu'),\n",
    "    layers.Dense(1),\n",
    "])\n",
    "model.compile(\n",
    "    optimizer='sgd', # SGD is more sensitive to differences of scale\n",
    "    loss='mae',\n",
    "    metrics=['mae'],\n",
    ")\n",
    "history = model.fit(\n",
    "    X_train, y_train,\n",
    "    validation_data=(X_valid, y_valid),\n",
    "    batch_size=64,\n",
    "    epochs=100,\n",
    "    verbose=0,\n",
    ")\n",
    "\n",
    "history_df = pd.DataFrame(history.history)\n",
    "history_df.loc[0:, ['loss', 'val_loss']].plot()\n",
    "print((\"Minimum Validation Loss: {:0.4f}\").format(history_df['val_loss'].min()))"
   ]
  },
  {
   "cell_type": "markdown",
   "id": "8987295c",
   "metadata": {
    "papermill": {
     "duration": 0.00521,
     "end_time": "2025-08-18T10:06:25.898751",
     "exception": false,
     "start_time": "2025-08-18T10:06:25.893541",
     "status": "completed"
    },
    "tags": []
   },
   "source": [
    "Did you end up with a blank graph? Trying to train this network on this dataset will usually fail. Even when it does converge (due to a lucky weight initialization), it tends to converge to a very large number.\n",
    "\n",
    "# 3) Add Batch Normalization Layers\n",
    "\n",
    "Batch normalization can help correct problems like this.\n",
    "\n",
    "Add four `BatchNormalization` layers, one before each of the dense layers. (Remember to move the `input_shape` argument to the new first layer.)"
   ]
  },
  {
   "cell_type": "code",
   "execution_count": 9,
   "id": "30f46854",
   "metadata": {
    "execution": {
     "iopub.execute_input": "2025-08-18T10:06:25.909894Z",
     "iopub.status.busy": "2025-08-18T10:06:25.909632Z",
     "iopub.status.idle": "2025-08-18T10:06:26.020271Z",
     "shell.execute_reply": "2025-08-18T10:06:26.019439Z"
    },
    "lines_to_next_cell": 0,
    "papermill": {
     "duration": 0.11809,
     "end_time": "2025-08-18T10:06:26.021846",
     "exception": false,
     "start_time": "2025-08-18T10:06:25.903756",
     "status": "completed"
    },
    "tags": []
   },
   "outputs": [
    {
     "data": {
      "application/javascript": [
       "parent.postMessage({\"jupyterEvent\": \"custom.exercise_interaction\", \"data\": {\"outcomeType\": 1, \"valueTowardsCompletion\": 0.25, \"interactionType\": 1, \"questionType\": 2, \"questionId\": \"3_Q3\", \"learnToolsVersion\": \"0.3.4\", \"failureMessage\": \"\", \"exceptionClass\": \"\", \"trace\": \"\"}}, \"*\")"
      ],
      "text/plain": [
       "<IPython.core.display.Javascript object>"
      ]
     },
     "metadata": {},
     "output_type": "display_data"
    },
    {
     "data": {
      "text/markdown": [
       "<span style=\"color:#33cc33\">Correct</span>"
      ],
      "text/plain": [
       "Correct"
      ]
     },
     "metadata": {},
     "output_type": "display_data"
    }
   ],
   "source": [
    "# YOUR CODE HERE: Add a BatchNormalization layer before each Dense layer\n",
    "model = keras.Sequential([\n",
    "    layers.BatchNormalization(input_shape=input_shape),\n",
    "    layers.Dense(512, activation='relu'),\n",
    "    layers.BatchNormalization(),\n",
    "    layers.Dense(512, activation='relu'),\n",
    "    layers.BatchNormalization(),\n",
    "    layers.Dense(512, activation='relu'),\n",
    "    layers.BatchNormalization(),\n",
    "    layers.Dense(1),\n",
    "])\n",
    "\n",
    "# Check your answer\n",
    "q_3.check()"
   ]
  },
  {
   "cell_type": "code",
   "execution_count": 10,
   "id": "f88471b8",
   "metadata": {
    "execution": {
     "iopub.execute_input": "2025-08-18T10:06:26.033524Z",
     "iopub.status.busy": "2025-08-18T10:06:26.033300Z",
     "iopub.status.idle": "2025-08-18T10:06:26.042261Z",
     "shell.execute_reply": "2025-08-18T10:06:26.041487Z"
    },
    "papermill": {
     "duration": 0.016519,
     "end_time": "2025-08-18T10:06:26.043693",
     "exception": false,
     "start_time": "2025-08-18T10:06:26.027174",
     "status": "completed"
    },
    "tags": []
   },
   "outputs": [
    {
     "data": {
      "application/javascript": [
       "parent.postMessage({\"jupyterEvent\": \"custom.exercise_interaction\", \"data\": {\"interactionType\": 2, \"questionType\": 2, \"questionId\": \"3_Q3\", \"learnToolsVersion\": \"0.3.4\", \"valueTowardsCompletion\": 0.0, \"failureMessage\": \"\", \"exceptionClass\": \"\", \"trace\": \"\", \"outcomeType\": 4}}, \"*\")"
      ],
      "text/plain": [
       "<IPython.core.display.Javascript object>"
      ]
     },
     "metadata": {},
     "output_type": "display_data"
    },
    {
     "data": {
      "text/markdown": [
       "<span style=\"color:#3366cc\">Hint:</span> Your answer should look something like:\n",
       "```python\n",
       "model = keras.Sequential([\n",
       "    # Batch Normalization\n",
       "    # Dense\n",
       "    # Batch Normalization\n",
       "    # Dense\n",
       "    # Batch Normalization\n",
       "    # Dense\n",
       "    # Batch Normalization\n",
       "    # Dense\n",
       "])\n",
       "```\n"
      ],
      "text/plain": [
       "Hint: Your answer should look something like:\n",
       "```python\n",
       "model = keras.Sequential([\n",
       "    # Batch Normalization\n",
       "    # Dense\n",
       "    # Batch Normalization\n",
       "    # Dense\n",
       "    # Batch Normalization\n",
       "    # Dense\n",
       "    # Batch Normalization\n",
       "    # Dense\n",
       "])\n",
       "```"
      ]
     },
     "metadata": {},
     "output_type": "display_data"
    },
    {
     "data": {
      "application/javascript": [
       "parent.postMessage({\"jupyterEvent\": \"custom.exercise_interaction\", \"data\": {\"interactionType\": 3, \"questionType\": 2, \"questionId\": \"3_Q3\", \"learnToolsVersion\": \"0.3.4\", \"valueTowardsCompletion\": 0.0, \"failureMessage\": \"\", \"exceptionClass\": \"\", \"trace\": \"\", \"outcomeType\": 4}}, \"*\")"
      ],
      "text/plain": [
       "<IPython.core.display.Javascript object>"
      ]
     },
     "metadata": {},
     "output_type": "display_data"
    },
    {
     "data": {
      "text/markdown": [
       "<span style=\"color:#33cc99\">Solution:</span> \n",
       "```python\n",
       "\n",
       "model = keras.Sequential([\n",
       "    layers.BatchNormalization(input_shape=input_shape),\n",
       "    layers.Dense(512, activation='relu'),\n",
       "    layers.BatchNormalization(),\n",
       "    layers.Dense(512, activation='relu'),\n",
       "    layers.BatchNormalization(),\n",
       "    layers.Dense(512, activation='relu'),\n",
       "    layers.BatchNormalization(),\n",
       "    layers.Dense(1),\n",
       "])\n",
       "\n",
       "```"
      ],
      "text/plain": [
       "Solution: \n",
       "```python\n",
       "\n",
       "model = keras.Sequential([\n",
       "    layers.BatchNormalization(input_shape=input_shape),\n",
       "    layers.Dense(512, activation='relu'),\n",
       "    layers.BatchNormalization(),\n",
       "    layers.Dense(512, activation='relu'),\n",
       "    layers.BatchNormalization(),\n",
       "    layers.Dense(512, activation='relu'),\n",
       "    layers.BatchNormalization(),\n",
       "    layers.Dense(1),\n",
       "])\n",
       "\n",
       "```"
      ]
     },
     "metadata": {},
     "output_type": "display_data"
    }
   ],
   "source": [
    "# Lines below will give you a hint or solution code\n",
    "q_3.hint()\n",
    "q_3.solution()"
   ]
  },
  {
   "cell_type": "markdown",
   "id": "0f3c663c",
   "metadata": {
    "papermill": {
     "duration": 0.005338,
     "end_time": "2025-08-18T10:06:26.054596",
     "exception": false,
     "start_time": "2025-08-18T10:06:26.049258",
     "status": "completed"
    },
    "tags": []
   },
   "source": [
    "Run the next cell to see if batch normalization will let us train the model."
   ]
  },
  {
   "cell_type": "code",
   "execution_count": 11,
   "id": "18b1e4c4",
   "metadata": {
    "execution": {
     "iopub.execute_input": "2025-08-18T10:06:26.066694Z",
     "iopub.status.busy": "2025-08-18T10:06:26.066444Z",
     "iopub.status.idle": "2025-08-18T10:06:36.624433Z",
     "shell.execute_reply": "2025-08-18T10:06:36.623546Z"
    },
    "papermill": {
     "duration": 10.565917,
     "end_time": "2025-08-18T10:06:36.626175",
     "exception": false,
     "start_time": "2025-08-18T10:06:26.060258",
     "status": "completed"
    },
    "tags": []
   },
   "outputs": [
    {
     "name": "stdout",
     "output_type": "stream",
     "text": [
      "Minimum Validation Loss: 4.0002\n"
     ]
    },
    {
     "data": {
      "image/png": "[encoded data removed]",
      "text/plain": [
       "<Figure size 640x480 with 1 Axes>"
      ]
     },
     "metadata": {},
     "output_type": "display_data"
    }
   ],
   "source": [
    "model.compile(\n",
    "    optimizer='sgd',\n",
    "    loss='mae',\n",
    "    metrics=['mae'],\n",
    ")\n",
    "EPOCHS = 100\n",
    "history = model.fit(\n",
    "    X_train, y_train,\n",
    "    validation_data=(X_valid, y_valid),\n",
    "    batch_size=64,\n",
    "    epochs=EPOCHS,\n",
    "    verbose=0,\n",
    ")\n",
    "\n",
    "history_df = pd.DataFrame(history.history)\n",
    "history_df.loc[0:, ['loss', 'val_loss']].plot()\n",
    "print((\"Minimum Validation Loss: {:0.4f}\").format(history_df['val_loss'].min()))"
   ]
  },
  {
   "cell_type": "markdown",
   "id": "57d30791",
   "metadata": {
    "papermill": {
     "duration": 0.006145,
     "end_time": "2025-08-18T10:06:36.638743",
     "exception": false,
     "start_time": "2025-08-18T10:06:36.632598",
     "status": "completed"
    },
    "tags": []
   },
   "source": [
    "# 4) Evaluate Batch Normalization\n",
    "\n",
    "Did adding batch normalization help?"
   ]
  },
  {
   "cell_type": "code",
   "execution_count": 12,
   "id": "5c1ce1b7",
   "metadata": {
    "execution": {
     "iopub.execute_input": "2025-08-18T10:06:36.652401Z",
     "iopub.status.busy": "2025-08-18T10:06:36.651726Z",
     "iopub.status.idle": "2025-08-18T10:06:36.658735Z",
     "shell.execute_reply": "2025-08-18T10:06:36.657918Z"
    },
    "lines_to_next_cell": 0,
    "papermill": {
     "duration": 0.015593,
     "end_time": "2025-08-18T10:06:36.660392",
     "exception": false,
     "start_time": "2025-08-18T10:06:36.644799",
     "status": "completed"
    },
    "tags": []
   },
   "outputs": [
    {
     "data": {
      "application/javascript": [
       "parent.postMessage({\"jupyterEvent\": \"custom.exercise_interaction\", \"data\": {\"outcomeType\": 1, \"valueTowardsCompletion\": 0.25, \"interactionType\": 1, \"questionType\": 4, \"questionId\": \"4_Q4\", \"learnToolsVersion\": \"0.3.4\", \"failureMessage\": \"\", \"exceptionClass\": \"\", \"trace\": \"\"}}, \"*\")"
      ],
      "text/plain": [
       "<IPython.core.display.Javascript object>"
      ]
     },
     "metadata": {},
     "output_type": "display_data"
    },
    {
     "data": {
      "text/markdown": [
       "<span style=\"color:#33cc33\">Correct:</span> \n",
       "\n",
       "\n",
       "You can see that adding batch normalization was a big improvement on the first attempt! By adaptively scaling the data as it passes through the network, batch normalization can let you train models on difficult datasets.\n"
      ],
      "text/plain": [
       "Correct: \n",
       "\n",
       "\n",
       "You can see that adding batch normalization was a big improvement on the first attempt! By adaptively scaling the data as it passes through the network, batch normalization can let you train models on difficult datasets."
      ]
     },
     "metadata": {},
     "output_type": "display_data"
    }
   ],
   "source": [
    "# View the solution (Run this cell to receive credit!)\n",
    "q_4.check()"
   ]
  },
  {
   "cell_type": "markdown",
   "id": "9e57af8a",
   "metadata": {
    "papermill": {
     "duration": 0.006121,
     "end_time": "2025-08-18T10:06:36.673381",
     "exception": false,
     "start_time": "2025-08-18T10:06:36.667260",
     "status": "completed"
    },
    "tags": []
   },
   "source": [
    "# Keep Going #\n",
    "\n",
    "[**Create neural networks**](https://www.kaggle.com/ryanholbrook/binary-classification) for binary classification."
   ]
  },
  {
   "cell_type": "markdown",
   "id": "9895265c",
   "metadata": {
    "papermill": {
     "duration": 0.006216,
     "end_time": "2025-08-18T10:06:36.685914",
     "exception": false,
     "start_time": "2025-08-18T10:06:36.679698",
     "status": "completed"
    },
    "tags": []
   },
   "source": [
    "---\n",
    "\n",
    "\n",
    "\n",
    "\n",
    "*Have questions or comments? Visit the [course discussion forum](https://www.kaggle.com/learn/intro-to-deep-learning/discussion) to chat with other learners.*"
   ]
  }
 ],
 "metadata": {
  "jupytext": {
   "cell_metadata_filter": "-all",
   "formats": "ipynb"
  },
  "kaggle": {
   "accelerator": "gpu",
   "dataSources": [
    {
     "datasetId": 829369,
     "sourceId": 1480608,
     "sourceType": "datasetVersion"
    }
   ],
   "dockerImageVersionId": 30648,
   "isGpuEnabled": true,
   "isInternetEnabled": false,
   "language": "python",
   "sourceType": "notebook"
  },
  "kernelspec": {
   "display_name": "Python 3",
   "language": "python",
   "name": "python3"
  },
  "language_info": {
   "codemirror_mode": {
    "name": "ipython",
    "version": 3
   },
   "file_extension": ".py",
   "mimetype": "text/x-python",
   "name": "python",
   "nbconvert_exporter": "python",
   "pygments_lexer": "ipython3",
   "version": "3.10.13"
  },
  "papermill": {
   "default_parameters": {},
   "duration": 48.071067,
   "end_time": "2025-08-18T10:06:39.569780",
   "environment_variables": {},
   "exception": null,
   "input_path": "__notebook__.ipynb",
   "output_path": "__notebook__.ipynb",
   "parameters": {},
   "start_time": "2025-08-18T10:05:51.498713",
   "version": "2.5.0"
  }
 },
 "nbformat": 4,
 "nbformat_minor": 5
}
