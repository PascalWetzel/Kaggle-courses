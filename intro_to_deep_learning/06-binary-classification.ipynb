{
 "cells": [
  {
   "cell_type": "markdown",
   "id": "8cef4889",
   "metadata": {
    "papermill": {
     "duration": 0.00342,
     "end_time": "2025-08-18T09:06:04.693487",
     "exception": false,
     "start_time": "2025-08-18T09:06:04.690067",
     "status": "completed"
    },
    "tags": []
   },
   "source": [
    "**This notebook is an exercise in the [Intro to Deep Learning](https://www.kaggle.com/learn/intro-to-deep-learning) course.  You can reference the tutorial at [this link](https://www.kaggle.com/ryanholbrook/binary-classification).**\n",
    "\n",
    "---\n"
   ]
  },
  {
   "cell_type": "markdown",
   "id": "6fa48d04",
   "metadata": {
    "papermill": {
     "duration": 0.002624,
     "end_time": "2025-08-18T09:06:04.699316",
     "exception": false,
     "start_time": "2025-08-18T09:06:04.696692",
     "status": "completed"
    },
    "tags": []
   },
   "source": [
    "# Introduction #\n",
    "\n",
    "In this exercise, you'll build a model to predict hotel cancellations with a binary classifier."
   ]
  },
  {
   "cell_type": "code",
   "execution_count": 1,
   "id": "e2cb23ac",
   "metadata": {
    "execution": {
     "iopub.execute_input": "2025-08-18T09:06:04.706904Z",
     "iopub.status.busy": "2025-08-18T09:06:04.706572Z",
     "iopub.status.idle": "2025-08-18T09:06:06.484327Z",
     "shell.execute_reply": "2025-08-18T09:06:06.483629Z"
    },
    "lines_to_next_cell": 0,
    "papermill": {
     "duration": 1.784159,
     "end_time": "2025-08-18T09:06:06.486289",
     "exception": false,
     "start_time": "2025-08-18T09:06:04.702130",
     "status": "completed"
    },
    "tags": []
   },
   "outputs": [],
   "source": [
    "# Setup plotting\n",
    "import matplotlib.pyplot as plt\n",
    "import seaborn as sns\n",
    "\n",
    "sns.set_theme(style=\"whitegrid\")\n",
    "# Set Matplotlib defaults\n",
    "plt.rc('figure', autolayout=True)\n",
    "plt.rc('axes', labelweight='bold', labelsize='large',\n",
    "       titleweight='bold', titlesize=18, titlepad=10)\n",
    "plt.rc('animation', html='html5')\n",
    "\n",
    "# Setup feedback system\n",
    "from learntools.core import binder\n",
    "binder.bind(globals())\n",
    "from learntools.deep_learning_intro.ex6 import *"
   ]
  },
  {
   "cell_type": "markdown",
   "id": "02016650",
   "metadata": {
    "papermill": {
     "duration": 0.002798,
     "end_time": "2025-08-18T09:06:06.492222",
     "exception": false,
     "start_time": "2025-08-18T09:06:06.489424",
     "status": "completed"
    },
    "tags": []
   },
   "source": [
    "First, load the *Hotel Cancellations* dataset."
   ]
  },
  {
   "cell_type": "code",
   "execution_count": 2,
   "id": "b9ec41a5",
   "metadata": {
    "execution": {
     "iopub.execute_input": "2025-08-18T09:06:06.499328Z",
     "iopub.status.busy": "2025-08-18T09:06:06.498953Z",
     "iopub.status.idle": "2025-08-18T09:06:07.935880Z",
     "shell.execute_reply": "2025-08-18T09:06:07.935068Z"
    },
    "lines_to_next_cell": 2,
    "papermill": {
     "duration": 1.442909,
     "end_time": "2025-08-18T09:06:07.937895",
     "exception": false,
     "start_time": "2025-08-18T09:06:06.494986",
     "status": "completed"
    },
    "tags": []
   },
   "outputs": [],
   "source": [
    "import pandas as pd\n",
    "\n",
    "from sklearn.model_selection import train_test_split\n",
    "from sklearn.preprocessing import StandardScaler, OneHotEncoder\n",
    "from sklearn.impute import SimpleImputer\n",
    "from sklearn.pipeline import make_pipeline\n",
    "from sklearn.compose import make_column_transformer\n",
    "\n",
    "hotel = pd.read_csv('../input/dl-course-data/hotel.csv')\n",
    "\n",
    "X = hotel.copy()\n",
    "y = X.pop('is_canceled')\n",
    "\n",
    "X['arrival_date_month'] = \\\n",
    "    X['arrival_date_month'].map(\n",
    "        {'January':1, 'February': 2, 'March':3,\n",
    "         'April':4, 'May':5, 'June':6, 'July':7,\n",
    "         'August':8, 'September':9, 'October':10,\n",
    "         'November':11, 'December':12}\n",
    "    )\n",
    "\n",
    "features_num = [\n",
    "    \"lead_time\", \"arrival_date_week_number\",\n",
    "    \"arrival_date_day_of_month\", \"stays_in_weekend_nights\",\n",
    "    \"stays_in_week_nights\", \"adults\", \"children\", \"babies\",\n",
    "    \"is_repeated_guest\", \"previous_cancellations\",\n",
    "    \"previous_bookings_not_canceled\", \"required_car_parking_spaces\",\n",
    "    \"total_of_special_requests\", \"adr\",\n",
    "]\n",
    "features_cat = [\n",
    "    \"hotel\", \"arrival_date_month\", \"meal\",\n",
    "    \"market_segment\", \"distribution_channel\",\n",
    "    \"reserved_room_type\", \"deposit_type\", \"customer_type\",\n",
    "]\n",
    "\n",
    "transformer_num = make_pipeline(\n",
    "    SimpleImputer(strategy=\"constant\"), # there are a few missing values\n",
    "    StandardScaler(),\n",
    ")\n",
    "transformer_cat = make_pipeline(\n",
    "    SimpleImputer(strategy=\"constant\", fill_value=\"NA\"),\n",
    "    OneHotEncoder(handle_unknown='ignore'),\n",
    ")\n",
    "\n",
    "preprocessor = make_column_transformer(\n",
    "    (transformer_num, features_num),\n",
    "    (transformer_cat, features_cat),\n",
    ")\n",
    "\n",
    "# stratify - make sure classes are evenlly represented across splits\n",
    "X_train, X_valid, y_train, y_valid = \\\n",
    "    train_test_split(X, y, stratify=y, train_size=0.75)\n",
    "\n",
    "X_train = preprocessor.fit_transform(X_train)\n",
    "X_valid = preprocessor.transform(X_valid)\n",
    "\n",
    "input_shape = [X_train.shape[1]]"
   ]
  },
  {
   "cell_type": "markdown",
   "id": "0f176e52",
   "metadata": {
    "papermill": {
     "duration": 0.002812,
     "end_time": "2025-08-18T09:06:07.944031",
     "exception": false,
     "start_time": "2025-08-18T09:06:07.941219",
     "status": "completed"
    },
    "tags": []
   },
   "source": [
    "# 1) Define Model #\n",
    "\n",
    "The model we'll use this time will have both batch normalization and dropout layers. To ease reading we've broken the diagram into blocks, but you can define it layer by layer as usual.\n",
    "\n",
    "Define a model with an architecture given by this diagram:\n",
    "\n",
    "<figure style=\"padding: 1em;\">\n",
    "<img src=\"https://storage.googleapis.com/kaggle-media/learn/images/V04o59Z.png\" width=\"400\" alt=\"Diagram of network architecture: BatchNorm, Dense, BatchNorm, Dropout, Dense, BatchNorm, Dropout, Dense.\">\n",
    "<figcaption style=\"textalign: center; font-style: italic\"><center>Diagram of a binary classifier.</center></figcaption>\n",
    "</figure>\n"
   ]
  },
  {
   "cell_type": "code",
   "execution_count": 3,
   "id": "e06f7a8c",
   "metadata": {
    "execution": {
     "iopub.execute_input": "2025-08-18T09:06:07.951524Z",
     "iopub.status.busy": "2025-08-18T09:06:07.950901Z",
     "iopub.status.idle": "2025-08-18T09:06:20.709446Z",
     "shell.execute_reply": "2025-08-18T09:06:20.708526Z"
    },
    "lines_to_next_cell": 2,
    "papermill": {
     "duration": 12.764126,
     "end_time": "2025-08-18T09:06:20.711142",
     "exception": false,
     "start_time": "2025-08-18T09:06:07.947016",
     "status": "completed"
    },
    "tags": []
   },
   "outputs": [
    {
     "name": "stderr",
     "output_type": "stream",
     "text": [
      "2025-08-18 09:06:09.858233: E external/local_xla/xla/stream_executor/cuda/cuda_dnn.cc:9261] Unable to register cuDNN factory: Attempting to register factory for plugin cuDNN when one has already been registered\n",
      "2025-08-18 09:06:09.858360: E external/local_xla/xla/stream_executor/cuda/cuda_fft.cc:607] Unable to register cuFFT factory: Attempting to register factory for plugin cuFFT when one has already been registered\n",
      "2025-08-18 09:06:09.984938: E external/local_xla/xla/stream_executor/cuda/cuda_blas.cc:1515] Unable to register cuBLAS factory: Attempting to register factory for plugin cuBLAS when one has already been registered\n"
     ]
    },
    {
     "data": {
      "application/javascript": [
       "parent.postMessage({\"jupyterEvent\": \"custom.exercise_interaction\", \"data\": {\"outcomeType\": 1, \"valueTowardsCompletion\": 0.3333333333333333, \"interactionType\": 1, \"questionType\": 2, \"questionId\": \"1_Q1\", \"learnToolsVersion\": \"0.3.4\", \"failureMessage\": \"\", \"exceptionClass\": \"\", \"trace\": \"\"}}, \"*\")"
      ],
      "text/plain": [
       "<IPython.core.display.Javascript object>"
      ]
     },
     "metadata": {},
     "output_type": "display_data"
    },
    {
     "data": {
      "text/markdown": [
       "<span style=\"color:#33cc33\">Correct</span>"
      ],
      "text/plain": [
       "Correct"
      ]
     },
     "metadata": {},
     "output_type": "display_data"
    }
   ],
   "source": [
    "from tensorflow import keras\n",
    "from tensorflow.keras import layers\n",
    "\n",
    "# YOUR CODE HERE: define the model given in the diagram\n",
    "model = keras.Sequential([\n",
    "    layers.BatchNormalization(input_shape = input_shape),\n",
    "    layers.Dense(256, activation = \"relu\"),\n",
    "    layers.BatchNormalization(),\n",
    "    layers.Dropout(0.3),\n",
    "    layers.Dense(256, activation = \"relu\"),\n",
    "    layers.BatchNormalization(),\n",
    "    layers.Dropout(0.3),\n",
    "    layers.Dense(1, activation = \"sigmoid\")\n",
    "])\n",
    "\n",
    "# Check your answer\n",
    "q_1.check()"
   ]
  },
  {
   "cell_type": "code",
   "execution_count": 4,
   "id": "5b6e0d9c",
   "metadata": {
    "execution": {
     "iopub.execute_input": "2025-08-18T09:06:20.718554Z",
     "iopub.status.busy": "2025-08-18T09:06:20.718307Z",
     "iopub.status.idle": "2025-08-18T09:06:20.727966Z",
     "shell.execute_reply": "2025-08-18T09:06:20.727249Z"
    },
    "papermill": {
     "duration": 0.015002,
     "end_time": "2025-08-18T09:06:20.729489",
     "exception": false,
     "start_time": "2025-08-18T09:06:20.714487",
     "status": "completed"
    },
    "tags": []
   },
   "outputs": [
    {
     "data": {
      "application/javascript": [
       "parent.postMessage({\"jupyterEvent\": \"custom.exercise_interaction\", \"data\": {\"interactionType\": 2, \"questionType\": 2, \"questionId\": \"1_Q1\", \"learnToolsVersion\": \"0.3.4\", \"valueTowardsCompletion\": 0.0, \"failureMessage\": \"\", \"exceptionClass\": \"\", \"trace\": \"\", \"outcomeType\": 4}}, \"*\")"
      ],
      "text/plain": [
       "<IPython.core.display.Javascript object>"
      ]
     },
     "metadata": {},
     "output_type": "display_data"
    },
    {
     "data": {
      "text/markdown": [
       "<span style=\"color:#3366cc\">Hint:</span> Your answer should look something like:\n",
       "```python\n",
       "model = keras.Sequential([\n",
       "    # Batch Normalization\n",
       "\n",
       "    # Dense\n",
       "    # Batch Normalization\n",
       "    # Dropout\n",
       "\n",
       "    # Dense\n",
       "    # Batch Normalization\n",
       "    # Dropout\n",
       "\n",
       "    # Dense\n",
       "])\n",
       "```\n"
      ],
      "text/plain": [
       "Hint: Your answer should look something like:\n",
       "```python\n",
       "model = keras.Sequential([\n",
       "    # Batch Normalization\n",
       "\n",
       "    # Dense\n",
       "    # Batch Normalization\n",
       "    # Dropout\n",
       "\n",
       "    # Dense\n",
       "    # Batch Normalization\n",
       "    # Dropout\n",
       "\n",
       "    # Dense\n",
       "])\n",
       "```"
      ]
     },
     "metadata": {},
     "output_type": "display_data"
    },
    {
     "data": {
      "application/javascript": [
       "parent.postMessage({\"jupyterEvent\": \"custom.exercise_interaction\", \"data\": {\"interactionType\": 3, \"questionType\": 2, \"questionId\": \"1_Q1\", \"learnToolsVersion\": \"0.3.4\", \"valueTowardsCompletion\": 0.0, \"failureMessage\": \"\", \"exceptionClass\": \"\", \"trace\": \"\", \"outcomeType\": 4}}, \"*\")"
      ],
      "text/plain": [
       "<IPython.core.display.Javascript object>"
      ]
     },
     "metadata": {},
     "output_type": "display_data"
    },
    {
     "data": {
      "text/markdown": [
       "<span style=\"color:#33cc99\">Solution:</span> \n",
       "```python\n",
       "\n",
       "from tensorflow import keras\n",
       "from tensorflow.keras import layers\n",
       "\n",
       "model = keras.Sequential([\n",
       "    layers.BatchNormalization(input_shape=input_shape),\n",
       "    layers.Dense(256, activation='relu'),\n",
       "    layers.BatchNormalization(),\n",
       "    layers.Dropout(0.3),\n",
       "    layers.Dense(256, activation='relu'),\n",
       "    layers.BatchNormalization(),\n",
       "    layers.Dropout(0.3),\n",
       "    layers.Dense(1, activation='sigmoid'),\n",
       "])\n",
       "q_1.assert_check_passed()\n",
       "\n",
       "```"
      ],
      "text/plain": [
       "Solution: \n",
       "```python\n",
       "\n",
       "from tensorflow import keras\n",
       "from tensorflow.keras import layers\n",
       "\n",
       "model = keras.Sequential([\n",
       "    layers.BatchNormalization(input_shape=input_shape),\n",
       "    layers.Dense(256, activation='relu'),\n",
       "    layers.BatchNormalization(),\n",
       "    layers.Dropout(0.3),\n",
       "    layers.Dense(256, activation='relu'),\n",
       "    layers.BatchNormalization(),\n",
       "    layers.Dropout(0.3),\n",
       "    layers.Dense(1, activation='sigmoid'),\n",
       "])\n",
       "q_1.assert_check_passed()\n",
       "\n",
       "```"
      ]
     },
     "metadata": {},
     "output_type": "display_data"
    }
   ],
   "source": [
    "# Lines below will give you a hint or solution code\n",
    "q_1.hint()\n",
    "q_1.solution()"
   ]
  },
  {
   "cell_type": "markdown",
   "id": "92667330",
   "metadata": {
    "papermill": {
     "duration": 0.003276,
     "end_time": "2025-08-18T09:06:20.736368",
     "exception": false,
     "start_time": "2025-08-18T09:06:20.733092",
     "status": "completed"
    },
    "tags": []
   },
   "source": [
    "# 2) Add Optimizer, Loss, and Metric #\n",
    "\n",
    "Now compile the model with the Adam optimizer and binary versions of the cross-entropy loss and accuracy metric."
   ]
  },
  {
   "cell_type": "code",
   "execution_count": 5,
   "id": "61fc9aa9",
   "metadata": {
    "execution": {
     "iopub.execute_input": "2025-08-18T09:06:20.744911Z",
     "iopub.status.busy": "2025-08-18T09:06:20.744328Z",
     "iopub.status.idle": "2025-08-18T09:06:20.764876Z",
     "shell.execute_reply": "2025-08-18T09:06:20.764007Z"
    },
    "lines_to_next_cell": 0,
    "papermill": {
     "duration": 0.02669,
     "end_time": "2025-08-18T09:06:20.766478",
     "exception": false,
     "start_time": "2025-08-18T09:06:20.739788",
     "status": "completed"
    },
    "tags": []
   },
   "outputs": [
    {
     "data": {
      "application/javascript": [
       "parent.postMessage({\"jupyterEvent\": \"custom.exercise_interaction\", \"data\": {\"outcomeType\": 1, \"valueTowardsCompletion\": 0.3333333333333333, \"interactionType\": 1, \"questionType\": 2, \"questionId\": \"2_Q2\", \"learnToolsVersion\": \"0.3.4\", \"failureMessage\": \"\", \"exceptionClass\": \"\", \"trace\": \"\"}}, \"*\")"
      ],
      "text/plain": [
       "<IPython.core.display.Javascript object>"
      ]
     },
     "metadata": {},
     "output_type": "display_data"
    },
    {
     "data": {
      "text/markdown": [
       "<span style=\"color:#33cc33\">Correct</span>"
      ],
      "text/plain": [
       "Correct"
      ]
     },
     "metadata": {},
     "output_type": "display_data"
    }
   ],
   "source": [
    "# YOUR CODE HERE\n",
    "model.compile(\n",
    "    optimizer = \"adam\",\n",
    "    loss = \"binary_crossentropy\",\n",
    "    metrics = [\"binary_accuracy\"]\n",
    ")\n",
    "\n",
    "# Check your answer\n",
    "q_2.check()"
   ]
  },
  {
   "cell_type": "code",
   "execution_count": 6,
   "id": "b531bc50",
   "metadata": {
    "execution": {
     "iopub.execute_input": "2025-08-18T09:06:20.775332Z",
     "iopub.status.busy": "2025-08-18T09:06:20.775046Z",
     "iopub.status.idle": "2025-08-18T09:06:20.784414Z",
     "shell.execute_reply": "2025-08-18T09:06:20.783645Z"
    },
    "lines_to_next_cell": 0,
    "papermill": {
     "duration": 0.015804,
     "end_time": "2025-08-18T09:06:20.786189",
     "exception": false,
     "start_time": "2025-08-18T09:06:20.770385",
     "status": "completed"
    },
    "tags": []
   },
   "outputs": [
    {
     "data": {
      "application/javascript": [
       "parent.postMessage({\"jupyterEvent\": \"custom.exercise_interaction\", \"data\": {\"interactionType\": 2, \"questionType\": 2, \"questionId\": \"2_Q2\", \"learnToolsVersion\": \"0.3.4\", \"valueTowardsCompletion\": 0.0, \"failureMessage\": \"\", \"exceptionClass\": \"\", \"trace\": \"\", \"outcomeType\": 4}}, \"*\")"
      ],
      "text/plain": [
       "<IPython.core.display.Javascript object>"
      ]
     },
     "metadata": {},
     "output_type": "display_data"
    },
    {
     "data": {
      "text/markdown": [
       "<span style=\"color:#3366cc\">Hint:</span> Your code should look something like:\n",
       "```python\n",
       "model.compile(\n",
       "optimizer=____,\n",
       "loss=____,\n",
       "metrics=____,\n",
       ")\n",
       "```\n"
      ],
      "text/plain": [
       "Hint: Your code should look something like:\n",
       "```python\n",
       "model.compile(\n",
       "optimizer=____,\n",
       "loss=____,\n",
       "metrics=____,\n",
       ")\n",
       "```"
      ]
     },
     "metadata": {},
     "output_type": "display_data"
    },
    {
     "data": {
      "application/javascript": [
       "parent.postMessage({\"jupyterEvent\": \"custom.exercise_interaction\", \"data\": {\"interactionType\": 3, \"questionType\": 2, \"questionId\": \"2_Q2\", \"learnToolsVersion\": \"0.3.4\", \"valueTowardsCompletion\": 0.0, \"failureMessage\": \"\", \"exceptionClass\": \"\", \"trace\": \"\", \"outcomeType\": 4}}, \"*\")"
      ],
      "text/plain": [
       "<IPython.core.display.Javascript object>"
      ]
     },
     "metadata": {},
     "output_type": "display_data"
    },
    {
     "data": {
      "text/markdown": [
       "<span style=\"color:#33cc99\">Solution:</span> \n",
       "```python\n",
       "\n",
       "model.compile(\n",
       "    optimizer='adam',\n",
       "    loss='binary_crossentropy',\n",
       "    metrics=['binary_accuracy'],\n",
       ")\n",
       "\n",
       "```"
      ],
      "text/plain": [
       "Solution: \n",
       "```python\n",
       "\n",
       "model.compile(\n",
       "    optimizer='adam',\n",
       "    loss='binary_crossentropy',\n",
       "    metrics=['binary_accuracy'],\n",
       ")\n",
       "\n",
       "```"
      ]
     },
     "metadata": {},
     "output_type": "display_data"
    }
   ],
   "source": [
    "# Lines below will give you a hint or solution code\n",
    "q_2.hint()\n",
    "q_2.solution()"
   ]
  },
  {
   "cell_type": "markdown",
   "id": "d5423e4e",
   "metadata": {
    "papermill": {
     "duration": 0.003855,
     "end_time": "2025-08-18T09:06:20.794155",
     "exception": false,
     "start_time": "2025-08-18T09:06:20.790300",
     "status": "completed"
    },
    "tags": []
   },
   "source": [
    "Finally, run this cell to train the model and view the learning curves. It may run for around 60 to 70 epochs, which could take a minute or two."
   ]
  },
  {
   "cell_type": "code",
   "execution_count": 7,
   "id": "faf6e529",
   "metadata": {
    "execution": {
     "iopub.execute_input": "2025-08-18T09:06:20.804778Z",
     "iopub.status.busy": "2025-08-18T09:06:20.804173Z",
     "iopub.status.idle": "2025-08-18T09:06:59.835313Z",
     "shell.execute_reply": "2025-08-18T09:06:59.834379Z"
    },
    "papermill": {
     "duration": 39.038262,
     "end_time": "2025-08-18T09:06:59.837430",
     "exception": false,
     "start_time": "2025-08-18T09:06:20.799168",
     "status": "completed"
    },
    "tags": []
   },
   "outputs": [
    {
     "name": "stdout",
     "output_type": "stream",
     "text": [
      "Epoch 1/200\n"
     ]
    },
    {
     "name": "stderr",
     "output_type": "stream",
     "text": [
      "WARNING: All log messages before absl::InitializeLog() is called are written to STDERR\n",
      "I0000 00:00:1755507984.914511      67 device_compiler.h:186] Compiled cluster using XLA!  This line is logged at most once for the lifetime of the process.\n"
     ]
    },
    {
     "name": "stdout",
     "output_type": "stream",
     "text": [
      "175/175 [==============================] - 6s 7ms/step - loss: 0.4747 - binary_accuracy: 0.7763 - val_loss: 0.4313 - val_binary_accuracy: 0.7939\n",
      "Epoch 2/200\n",
      "175/175 [==============================] - 1s 6ms/step - loss: 0.4221 - binary_accuracy: 0.8012 - val_loss: 0.4023 - val_binary_accuracy: 0.8132\n",
      "Epoch 3/200\n",
      "175/175 [==============================] - 1s 6ms/step - loss: 0.4100 - binary_accuracy: 0.8084 - val_loss: 0.3954 - val_binary_accuracy: 0.8148\n",
      "Epoch 4/200\n",
      "175/175 [==============================] - 1s 6ms/step - loss: 0.4025 - binary_accuracy: 0.8109 - val_loss: 0.3904 - val_binary_accuracy: 0.8197\n",
      "Epoch 5/200\n",
      "175/175 [==============================] - 1s 6ms/step - loss: 0.3963 - binary_accuracy: 0.8152 - val_loss: 0.3864 - val_binary_accuracy: 0.8200\n",
      "Epoch 6/200\n",
      "175/175 [==============================] - 1s 6ms/step - loss: 0.3937 - binary_accuracy: 0.8161 - val_loss: 0.3840 - val_binary_accuracy: 0.8232\n",
      "Epoch 7/200\n",
      "175/175 [==============================] - 1s 5ms/step - loss: 0.3891 - binary_accuracy: 0.8181 - val_loss: 0.3825 - val_binary_accuracy: 0.8244\n",
      "Epoch 8/200\n",
      "175/175 [==============================] - 1s 6ms/step - loss: 0.3865 - binary_accuracy: 0.8206 - val_loss: 0.3777 - val_binary_accuracy: 0.8249\n",
      "Epoch 9/200\n",
      "175/175 [==============================] - 1s 6ms/step - loss: 0.3813 - binary_accuracy: 0.8235 - val_loss: 0.3807 - val_binary_accuracy: 0.8261\n",
      "Epoch 10/200\n",
      "175/175 [==============================] - 1s 5ms/step - loss: 0.3785 - binary_accuracy: 0.8246 - val_loss: 0.3831 - val_binary_accuracy: 0.8255\n",
      "Epoch 11/200\n",
      "175/175 [==============================] - 1s 5ms/step - loss: 0.3766 - binary_accuracy: 0.8244 - val_loss: 0.3761 - val_binary_accuracy: 0.8277\n",
      "Epoch 12/200\n",
      "175/175 [==============================] - 1s 6ms/step - loss: 0.3739 - binary_accuracy: 0.8263 - val_loss: 0.3700 - val_binary_accuracy: 0.8321\n",
      "Epoch 13/200\n",
      "175/175 [==============================] - 1s 6ms/step - loss: 0.3717 - binary_accuracy: 0.8278 - val_loss: 0.3676 - val_binary_accuracy: 0.8317\n",
      "Epoch 14/200\n",
      "175/175 [==============================] - 1s 6ms/step - loss: 0.3701 - binary_accuracy: 0.8290 - val_loss: 0.3662 - val_binary_accuracy: 0.8308\n",
      "Epoch 15/200\n",
      "175/175 [==============================] - 1s 5ms/step - loss: 0.3671 - binary_accuracy: 0.8302 - val_loss: 0.3668 - val_binary_accuracy: 0.8324\n",
      "Epoch 16/200\n",
      "175/175 [==============================] - 1s 5ms/step - loss: 0.3653 - binary_accuracy: 0.8312 - val_loss: 0.3615 - val_binary_accuracy: 0.8342\n",
      "Epoch 17/200\n",
      "175/175 [==============================] - 1s 5ms/step - loss: 0.3628 - binary_accuracy: 0.8319 - val_loss: 0.3627 - val_binary_accuracy: 0.8343\n",
      "Epoch 18/200\n",
      "175/175 [==============================] - 1s 5ms/step - loss: 0.3622 - binary_accuracy: 0.8327 - val_loss: 0.3611 - val_binary_accuracy: 0.8346\n",
      "Epoch 19/200\n",
      "175/175 [==============================] - 1s 5ms/step - loss: 0.3600 - binary_accuracy: 0.8335 - val_loss: 0.3594 - val_binary_accuracy: 0.8358\n",
      "Epoch 20/200\n",
      "175/175 [==============================] - 1s 5ms/step - loss: 0.3586 - binary_accuracy: 0.8342 - val_loss: 0.3588 - val_binary_accuracy: 0.8355\n",
      "Epoch 21/200\n",
      "175/175 [==============================] - 1s 5ms/step - loss: 0.3579 - binary_accuracy: 0.8349 - val_loss: 0.3575 - val_binary_accuracy: 0.8372\n",
      "Epoch 22/200\n",
      "175/175 [==============================] - 1s 5ms/step - loss: 0.3560 - binary_accuracy: 0.8354 - val_loss: 0.3582 - val_binary_accuracy: 0.8382\n",
      "Epoch 23/200\n",
      "175/175 [==============================] - 1s 5ms/step - loss: 0.3550 - binary_accuracy: 0.8358 - val_loss: 0.3575 - val_binary_accuracy: 0.8369\n",
      "Epoch 24/200\n",
      "175/175 [==============================] - 1s 6ms/step - loss: 0.3524 - binary_accuracy: 0.8375 - val_loss: 0.3569 - val_binary_accuracy: 0.8369\n",
      "Epoch 25/200\n",
      "175/175 [==============================] - 1s 5ms/step - loss: 0.3530 - binary_accuracy: 0.8367 - val_loss: 0.3555 - val_binary_accuracy: 0.8379\n",
      "Epoch 26/200\n",
      "175/175 [==============================] - 1s 5ms/step - loss: 0.3515 - binary_accuracy: 0.8372 - val_loss: 0.3560 - val_binary_accuracy: 0.8379\n",
      "Epoch 27/200\n",
      "175/175 [==============================] - 1s 5ms/step - loss: 0.3512 - binary_accuracy: 0.8384 - val_loss: 0.3553 - val_binary_accuracy: 0.8377\n",
      "Epoch 28/200\n",
      "175/175 [==============================] - 1s 5ms/step - loss: 0.3483 - binary_accuracy: 0.8386 - val_loss: 0.3564 - val_binary_accuracy: 0.8370\n",
      "Epoch 29/200\n",
      "175/175 [==============================] - 1s 5ms/step - loss: 0.3474 - binary_accuracy: 0.8395 - val_loss: 0.3518 - val_binary_accuracy: 0.8392\n",
      "Epoch 30/200\n",
      "175/175 [==============================] - 1s 5ms/step - loss: 0.3478 - binary_accuracy: 0.8390 - val_loss: 0.3551 - val_binary_accuracy: 0.8378\n",
      "Epoch 31/200\n",
      "175/175 [==============================] - 1s 5ms/step - loss: 0.3456 - binary_accuracy: 0.8414 - val_loss: 0.3549 - val_binary_accuracy: 0.8369\n",
      "Epoch 32/200\n",
      "175/175 [==============================] - 1s 6ms/step - loss: 0.3444 - binary_accuracy: 0.8407 - val_loss: 0.3542 - val_binary_accuracy: 0.8380\n",
      "Epoch 33/200\n",
      "175/175 [==============================] - 1s 5ms/step - loss: 0.3440 - binary_accuracy: 0.8405 - val_loss: 0.3531 - val_binary_accuracy: 0.8379\n",
      "Epoch 34/200\n",
      "175/175 [==============================] - 1s 5ms/step - loss: 0.3437 - binary_accuracy: 0.8415 - val_loss: 0.3539 - val_binary_accuracy: 0.8383\n"
     ]
    },
    {
     "data": {
      "text/plain": [
       "<Axes: title={'center': 'Accuracy'}>"
      ]
     },
     "execution_count": 7,
     "metadata": {},
     "output_type": "execute_result"
    },
    {
     "data": {
      "image/png": "[encoded data removed]",
      "text/plain": [
       "<Figure size 640x480 with 1 Axes>"
      ]
     },
     "metadata": {},
     "output_type": "display_data"
    },
    {
     "data": {
      "image/png": "[encoded data removed]",
      "text/plain": [
       "<Figure size 640x480 with 1 Axes>"
      ]
     },
     "metadata": {},
     "output_type": "display_data"
    }
   ],
   "source": [
    "early_stopping = keras.callbacks.EarlyStopping(\n",
    "    patience=5,\n",
    "    min_delta=0.001,\n",
    "    restore_best_weights=True,\n",
    ")\n",
    "history = model.fit(\n",
    "    X_train, y_train,\n",
    "    validation_data=(X_valid, y_valid),\n",
    "    batch_size=512,\n",
    "    epochs=200,\n",
    "    callbacks=[early_stopping],\n",
    ")\n",
    "\n",
    "history_df = pd.DataFrame(history.history)\n",
    "history_df.loc[:, ['loss', 'val_loss']].plot(title=\"Cross-entropy\")\n",
    "history_df.loc[:, ['binary_accuracy', 'val_binary_accuracy']].plot(title=\"Accuracy\")"
   ]
  },
  {
   "cell_type": "markdown",
   "id": "1c9644fa",
   "metadata": {
    "papermill": {
     "duration": 0.032147,
     "end_time": "2025-08-18T09:06:59.902387",
     "exception": false,
     "start_time": "2025-08-18T09:06:59.870240",
     "status": "completed"
    },
    "tags": []
   },
   "source": [
    "# 3) Train and Evaluate #\n",
    "\n",
    "\n",
    "What do you think about the learning curves? Does it look like the model underfit or overfit? Was the cross-entropy loss a good stand-in for accuracy?"
   ]
  },
  {
   "cell_type": "code",
   "execution_count": 8,
   "id": "9ea9f0f9",
   "metadata": {
    "execution": {
     "iopub.execute_input": "2025-08-18T09:06:59.970116Z",
     "iopub.status.busy": "2025-08-18T09:06:59.969434Z",
     "iopub.status.idle": "2025-08-18T09:06:59.976952Z",
     "shell.execute_reply": "2025-08-18T09:06:59.976104Z"
    },
    "papermill": {
     "duration": 0.043867,
     "end_time": "2025-08-18T09:06:59.978585",
     "exception": false,
     "start_time": "2025-08-18T09:06:59.934718",
     "status": "completed"
    },
    "tags": []
   },
   "outputs": [
    {
     "data": {
      "application/javascript": [
       "parent.postMessage({\"jupyterEvent\": \"custom.exercise_interaction\", \"data\": {\"outcomeType\": 1, \"valueTowardsCompletion\": 0.3333333333333333, \"interactionType\": 1, \"questionType\": 4, \"questionId\": \"3_Q3\", \"learnToolsVersion\": \"0.3.4\", \"failureMessage\": \"\", \"exceptionClass\": \"\", \"trace\": \"\"}}, \"*\")"
      ],
      "text/plain": [
       "<IPython.core.display.Javascript object>"
      ]
     },
     "metadata": {},
     "output_type": "display_data"
    },
    {
     "data": {
      "text/markdown": [
       "<span style=\"color:#33cc33\">Correct:</span> \n",
       "\n",
       "Though we can see the training loss continuing to fall, the early stopping callback prevented any overfitting. Moreover, the accuracy rose at the same rate as the cross-entropy fell, so it appears that minimizing cross-entropy was a good stand-in. All in all, it looks like this training was a success!"
      ],
      "text/plain": [
       "Correct: \n",
       "\n",
       "Though we can see the training loss continuing to fall, the early stopping callback prevented any overfitting. Moreover, the accuracy rose at the same rate as the cross-entropy fell, so it appears that minimizing cross-entropy was a good stand-in. All in all, it looks like this training was a success!"
      ]
     },
     "metadata": {},
     "output_type": "display_data"
    }
   ],
   "source": [
    "# View the solution (Run this cell to receive credit!)\n",
    "q_3.check()"
   ]
  },
  {
   "cell_type": "markdown",
   "id": "0bb13188",
   "metadata": {
    "papermill": {
     "duration": 0.034884,
     "end_time": "2025-08-18T09:07:00.046975",
     "exception": false,
     "start_time": "2025-08-18T09:07:00.012091",
     "status": "completed"
    },
    "tags": []
   },
   "source": [
    "# Conclusion #\n",
    "\n",
    "Congratulations! You've completed Kaggle's *Introduction to Deep Learning* course!\n",
    "\n",
    "With your new skills you're ready to take on more advanced applications like computer vision and sentiment classification. What would you like to do next?\n",
    "\n",
    "Why not try one of our *Getting Started* competitions?\n",
    "\n",
    "- Classify images with TPUs in [**Petals to the Metal**](https://www.kaggle.com/c/tpu-getting-started)\n",
    "- Create art with GANs in [**I'm Something of a Painter Myself**](https://www.kaggle.com/c/gan-getting-started)\n",
    "- Classify Tweets in [**Real or Not? NLP with Disaster Tweets**](https://www.kaggle.com/c/nlp-getting-started)\n",
    "- Detect contradiction and entailment in [**Contradictory, My Dear Watson**](https://www.kaggle.com/c/contradictory-my-dear-watson)\n",
    "\n",
    "Until next time, Kagglers!"
   ]
  },
  {
   "cell_type": "markdown",
   "id": "35ae9b33",
   "metadata": {
    "papermill": {
     "duration": 0.032572,
     "end_time": "2025-08-18T09:07:00.113440",
     "exception": false,
     "start_time": "2025-08-18T09:07:00.080868",
     "status": "completed"
    },
    "tags": []
   },
   "source": [
    "---\n",
    "\n",
    "\n",
    "\n",
    "\n",
    "*Have questions or comments? Visit the [course discussion forum](https://www.kaggle.com/learn/intro-to-deep-learning/discussion) to chat with other learners.*"
   ]
  }
 ],
 "metadata": {
  "jupytext": {
   "cell_metadata_filter": "-all",
   "formats": "ipynb"
  },
  "kaggle": {
   "accelerator": "gpu",
   "dataSources": [
    {
     "datasetId": 829369,
     "sourceId": 1480608,
     "sourceType": "datasetVersion"
    }
   ],
   "dockerImageVersionId": 30648,
   "isGpuEnabled": true,
   "isInternetEnabled": true,
   "language": "python",
   "sourceType": "notebook"
  },
  "kernelspec": {
   "display_name": "Python 3",
   "language": "python",
   "name": "python3"
  },
  "language_info": {
   "codemirror_mode": {
    "name": "ipython",
    "version": 3
   },
   "file_extension": ".py",
   "mimetype": "text/x-python",
   "name": "python",
   "nbconvert_exporter": "python",
   "pygments_lexer": "ipython3",
   "version": "3.10.13"
  },
  "papermill": {
   "default_parameters": {},
   "duration": 61.138298,
   "end_time": "2025-08-18T09:07:03.274494",
   "environment_variables": {},
   "exception": null,
   "input_path": "__notebook__.ipynb",
   "output_path": "__notebook__.ipynb",
   "parameters": {},
   "start_time": "2025-08-18T09:06:02.136196",
   "version": "2.5.0"
  }
 },
 "nbformat": 4,
 "nbformat_minor": 5
}
