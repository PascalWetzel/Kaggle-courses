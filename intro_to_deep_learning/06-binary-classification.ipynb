{
 "cells": [
  {
   "cell_type": "markdown",
   "id": "f7a648f0",
   "metadata": {
    "papermill": {
     "duration": 0.003424,
     "end_time": "2025-08-18T10:09:32.751722",
     "exception": false,
     "start_time": "2025-08-18T10:09:32.748298",
     "status": "completed"
    },
    "tags": []
   },
   "source": [
    "**This notebook is an exercise in the [Intro to Deep Learning](https://www.kaggle.com/learn/intro-to-deep-learning) course.  You can reference the tutorial at [this link](https://www.kaggle.com/ryanholbrook/binary-classification).**\n",
    "\n",
    "---\n"
   ]
  },
  {
   "cell_type": "markdown",
   "id": "6072c4dc",
   "metadata": {
    "papermill": {
     "duration": 0.00253,
     "end_time": "2025-08-18T10:09:32.757264",
     "exception": false,
     "start_time": "2025-08-18T10:09:32.754734",
     "status": "completed"
    },
    "tags": []
   },
   "source": [
    "# Introduction #\n",
    "\n",
    "In this exercise, you'll build a model to predict hotel cancellations with a binary classifier."
   ]
  },
  {
   "cell_type": "code",
   "execution_count": 1,
   "id": "d7fadc70",
   "metadata": {
    "execution": {
     "iopub.execute_input": "2025-08-18T10:09:32.764751Z",
     "iopub.status.busy": "2025-08-18T10:09:32.763952Z",
     "iopub.status.idle": "2025-08-18T10:09:33.470690Z",
     "shell.execute_reply": "2025-08-18T10:09:33.469911Z"
    },
    "lines_to_next_cell": 0,
    "papermill": {
     "duration": 0.712685,
     "end_time": "2025-08-18T10:09:33.472636",
     "exception": false,
     "start_time": "2025-08-18T10:09:32.759951",
     "status": "completed"
    },
    "tags": []
   },
   "outputs": [],
   "source": [
    "# Setup plotting\n",
    "import matplotlib.pyplot as plt\n",
    "\n",
    "plt.style.use('seaborn-v0_8-whitegrid')\n",
    "# Set Matplotlib defaults\n",
    "plt.rc('figure', autolayout=True)\n",
    "plt.rc('axes', labelweight='bold', labelsize='large',\n",
    "       titleweight='bold', titlesize=18, titlepad=10)\n",
    "plt.rc('animation', html='html5')\n",
    "\n",
    "# Setup feedback system\n",
    "from learntools.core import binder\n",
    "binder.bind(globals())\n",
    "from learntools.deep_learning_intro.ex6 import *"
   ]
  },
  {
   "cell_type": "markdown",
   "id": "38c499de",
   "metadata": {
    "papermill": {
     "duration": 0.002762,
     "end_time": "2025-08-18T10:09:33.478514",
     "exception": false,
     "start_time": "2025-08-18T10:09:33.475752",
     "status": "completed"
    },
    "tags": []
   },
   "source": [
    "First, load the *Hotel Cancellations* dataset."
   ]
  },
  {
   "cell_type": "code",
   "execution_count": 2,
   "id": "41343d71",
   "metadata": {
    "execution": {
     "iopub.execute_input": "2025-08-18T10:09:33.485994Z",
     "iopub.status.busy": "2025-08-18T10:09:33.485111Z",
     "iopub.status.idle": "2025-08-18T10:09:35.710954Z",
     "shell.execute_reply": "2025-08-18T10:09:35.710122Z"
    },
    "lines_to_next_cell": 2,
    "papermill": {
     "duration": 2.231704,
     "end_time": "2025-08-18T10:09:35.713016",
     "exception": false,
     "start_time": "2025-08-18T10:09:33.481312",
     "status": "completed"
    },
    "tags": []
   },
   "outputs": [],
   "source": [
    "import pandas as pd\n",
    "\n",
    "from sklearn.model_selection import train_test_split\n",
    "from sklearn.preprocessing import StandardScaler, OneHotEncoder\n",
    "from sklearn.impute import SimpleImputer\n",
    "from sklearn.pipeline import make_pipeline\n",
    "from sklearn.compose import make_column_transformer\n",
    "\n",
    "hotel = pd.read_csv('../input/dl-course-data/hotel.csv')\n",
    "\n",
    "X = hotel.copy()\n",
    "y = X.pop('is_canceled')\n",
    "\n",
    "X['arrival_date_month'] = \\\n",
    "    X['arrival_date_month'].map(\n",
    "        {'January':1, 'February': 2, 'March':3,\n",
    "         'April':4, 'May':5, 'June':6, 'July':7,\n",
    "         'August':8, 'September':9, 'October':10,\n",
    "         'November':11, 'December':12}\n",
    "    )\n",
    "\n",
    "features_num = [\n",
    "    \"lead_time\", \"arrival_date_week_number\",\n",
    "    \"arrival_date_day_of_month\", \"stays_in_weekend_nights\",\n",
    "    \"stays_in_week_nights\", \"adults\", \"children\", \"babies\",\n",
    "    \"is_repeated_guest\", \"previous_cancellations\",\n",
    "    \"previous_bookings_not_canceled\", \"required_car_parking_spaces\",\n",
    "    \"total_of_special_requests\", \"adr\",\n",
    "]\n",
    "features_cat = [\n",
    "    \"hotel\", \"arrival_date_month\", \"meal\",\n",
    "    \"market_segment\", \"distribution_channel\",\n",
    "    \"reserved_room_type\", \"deposit_type\", \"customer_type\",\n",
    "]\n",
    "\n",
    "transformer_num = make_pipeline(\n",
    "    SimpleImputer(strategy=\"constant\"), # there are a few missing values\n",
    "    StandardScaler(),\n",
    ")\n",
    "transformer_cat = make_pipeline(\n",
    "    SimpleImputer(strategy=\"constant\", fill_value=\"NA\"),\n",
    "    OneHotEncoder(handle_unknown='ignore'),\n",
    ")\n",
    "\n",
    "preprocessor = make_column_transformer(\n",
    "    (transformer_num, features_num),\n",
    "    (transformer_cat, features_cat),\n",
    ")\n",
    "\n",
    "# stratify - make sure classes are evenlly represented across splits\n",
    "X_train, X_valid, y_train, y_valid = \\\n",
    "    train_test_split(X, y, stratify=y, train_size=0.75)\n",
    "\n",
    "X_train = preprocessor.fit_transform(X_train)\n",
    "X_valid = preprocessor.transform(X_valid)\n",
    "\n",
    "input_shape = [X_train.shape[1]]"
   ]
  },
  {
   "cell_type": "markdown",
   "id": "3b696148",
   "metadata": {
    "papermill": {
     "duration": 0.002968,
     "end_time": "2025-08-18T10:09:35.719330",
     "exception": false,
     "start_time": "2025-08-18T10:09:35.716362",
     "status": "completed"
    },
    "tags": []
   },
   "source": [
    "# 1) Define Model #\n",
    "\n",
    "The model we'll use this time will have both batch normalization and dropout layers. To ease reading we've broken the diagram into blocks, but you can define it layer by layer as usual.\n",
    "\n",
    "Define a model with an architecture given by this diagram:\n",
    "\n",
    "<figure style=\"padding: 1em;\">\n",
    "<img src=\"https://storage.googleapis.com/kaggle-media/learn/images/V04o59Z.png\" width=\"400\" alt=\"Diagram of network architecture: BatchNorm, Dense, BatchNorm, Dropout, Dense, BatchNorm, Dropout, Dense.\">\n",
    "<figcaption style=\"textalign: center; font-style: italic\"><center>Diagram of a binary classifier.</center></figcaption>\n",
    "</figure>\n"
   ]
  },
  {
   "cell_type": "code",
   "execution_count": 3,
   "id": "f52d99c3",
   "metadata": {
    "execution": {
     "iopub.execute_input": "2025-08-18T10:09:35.726007Z",
     "iopub.status.busy": "2025-08-18T10:09:35.725736Z",
     "iopub.status.idle": "2025-08-18T10:09:48.155578Z",
     "shell.execute_reply": "2025-08-18T10:09:48.154499Z"
    },
    "lines_to_next_cell": 2,
    "papermill": {
     "duration": 12.444792,
     "end_time": "2025-08-18T10:09:48.166926",
     "exception": false,
     "start_time": "2025-08-18T10:09:35.722134",
     "status": "completed"
    },
    "tags": []
   },
   "outputs": [
    {
     "name": "stderr",
     "output_type": "stream",
     "text": [
      "2025-08-18 10:09:37.475578: E external/local_xla/xla/stream_executor/cuda/cuda_dnn.cc:9261] Unable to register cuDNN factory: Attempting to register factory for plugin cuDNN when one has already been registered\n",
      "2025-08-18 10:09:37.475722: E external/local_xla/xla/stream_executor/cuda/cuda_fft.cc:607] Unable to register cuFFT factory: Attempting to register factory for plugin cuFFT when one has already been registered\n",
      "2025-08-18 10:09:37.603044: E external/local_xla/xla/stream_executor/cuda/cuda_blas.cc:1515] Unable to register cuBLAS factory: Attempting to register factory for plugin cuBLAS when one has already been registered\n"
     ]
    },
    {
     "data": {
      "application/javascript": [
       "parent.postMessage({\"jupyterEvent\": \"custom.exercise_interaction\", \"data\": {\"outcomeType\": 1, \"valueTowardsCompletion\": 0.3333333333333333, \"interactionType\": 1, \"questionType\": 2, \"questionId\": \"1_Q1\", \"learnToolsVersion\": \"0.3.4\", \"failureMessage\": \"\", \"exceptionClass\": \"\", \"trace\": \"\"}}, \"*\")"
      ],
      "text/plain": [
       "<IPython.core.display.Javascript object>"
      ]
     },
     "metadata": {},
     "output_type": "display_data"
    },
    {
     "data": {
      "text/markdown": [
       "<span style=\"color:#33cc33\">Correct</span>"
      ],
      "text/plain": [
       "Correct"
      ]
     },
     "metadata": {},
     "output_type": "display_data"
    }
   ],
   "source": [
    "from tensorflow import keras\n",
    "from tensorflow.keras import layers\n",
    "\n",
    "# YOUR CODE HERE: define the model given in the diagram\n",
    "model = keras.Sequential([\n",
    "    layers.BatchNormalization(input_shape = input_shape),\n",
    "    layers.Dense(256, activation = \"relu\"),\n",
    "    layers.BatchNormalization(),\n",
    "    layers.Dropout(0.3),\n",
    "    layers.Dense(256, activation = \"relu\"),\n",
    "    layers.BatchNormalization(),\n",
    "    layers.Dropout(0.3),\n",
    "    layers.Dense(1, activation = \"sigmoid\")\n",
    "])\n",
    "\n",
    "# Check your answer\n",
    "q_1.check()"
   ]
  },
  {
   "cell_type": "code",
   "execution_count": 4,
   "id": "cbecd0c4",
   "metadata": {
    "execution": {
     "iopub.execute_input": "2025-08-18T10:09:48.178020Z",
     "iopub.status.busy": "2025-08-18T10:09:48.177737Z",
     "iopub.status.idle": "2025-08-18T10:09:48.187752Z",
     "shell.execute_reply": "2025-08-18T10:09:48.186944Z"
    },
    "papermill": {
     "duration": 0.017067,
     "end_time": "2025-08-18T10:09:48.189311",
     "exception": false,
     "start_time": "2025-08-18T10:09:48.172244",
     "status": "completed"
    },
    "tags": []
   },
   "outputs": [
    {
     "data": {
      "application/javascript": [
       "parent.postMessage({\"jupyterEvent\": \"custom.exercise_interaction\", \"data\": {\"interactionType\": 2, \"questionType\": 2, \"questionId\": \"1_Q1\", \"learnToolsVersion\": \"0.3.4\", \"valueTowardsCompletion\": 0.0, \"failureMessage\": \"\", \"exceptionClass\": \"\", \"trace\": \"\", \"outcomeType\": 4}}, \"*\")"
      ],
      "text/plain": [
       "<IPython.core.display.Javascript object>"
      ]
     },
     "metadata": {},
     "output_type": "display_data"
    },
    {
     "data": {
      "text/markdown": [
       "<span style=\"color:#3366cc\">Hint:</span> Your answer should look something like:\n",
       "```python\n",
       "model = keras.Sequential([\n",
       "    # Batch Normalization\n",
       "\n",
       "    # Dense\n",
       "    # Batch Normalization\n",
       "    # Dropout\n",
       "\n",
       "    # Dense\n",
       "    # Batch Normalization\n",
       "    # Dropout\n",
       "\n",
       "    # Dense\n",
       "])\n",
       "```\n"
      ],
      "text/plain": [
       "Hint: Your answer should look something like:\n",
       "```python\n",
       "model = keras.Sequential([\n",
       "    # Batch Normalization\n",
       "\n",
       "    # Dense\n",
       "    # Batch Normalization\n",
       "    # Dropout\n",
       "\n",
       "    # Dense\n",
       "    # Batch Normalization\n",
       "    # Dropout\n",
       "\n",
       "    # Dense\n",
       "])\n",
       "```"
      ]
     },
     "metadata": {},
     "output_type": "display_data"
    },
    {
     "data": {
      "application/javascript": [
       "parent.postMessage({\"jupyterEvent\": \"custom.exercise_interaction\", \"data\": {\"interactionType\": 3, \"questionType\": 2, \"questionId\": \"1_Q1\", \"learnToolsVersion\": \"0.3.4\", \"valueTowardsCompletion\": 0.0, \"failureMessage\": \"\", \"exceptionClass\": \"\", \"trace\": \"\", \"outcomeType\": 4}}, \"*\")"
      ],
      "text/plain": [
       "<IPython.core.display.Javascript object>"
      ]
     },
     "metadata": {},
     "output_type": "display_data"
    },
    {
     "data": {
      "text/markdown": [
       "<span style=\"color:#33cc99\">Solution:</span> \n",
       "```python\n",
       "\n",
       "from tensorflow import keras\n",
       "from tensorflow.keras import layers\n",
       "\n",
       "model = keras.Sequential([\n",
       "    layers.BatchNormalization(input_shape=input_shape),\n",
       "    layers.Dense(256, activation='relu'),\n",
       "    layers.BatchNormalization(),\n",
       "    layers.Dropout(0.3),\n",
       "    layers.Dense(256, activation='relu'),\n",
       "    layers.BatchNormalization(),\n",
       "    layers.Dropout(0.3),\n",
       "    layers.Dense(1, activation='sigmoid'),\n",
       "])\n",
       "q_1.assert_check_passed()\n",
       "\n",
       "```"
      ],
      "text/plain": [
       "Solution: \n",
       "```python\n",
       "\n",
       "from tensorflow import keras\n",
       "from tensorflow.keras import layers\n",
       "\n",
       "model = keras.Sequential([\n",
       "    layers.BatchNormalization(input_shape=input_shape),\n",
       "    layers.Dense(256, activation='relu'),\n",
       "    layers.BatchNormalization(),\n",
       "    layers.Dropout(0.3),\n",
       "    layers.Dense(256, activation='relu'),\n",
       "    layers.BatchNormalization(),\n",
       "    layers.Dropout(0.3),\n",
       "    layers.Dense(1, activation='sigmoid'),\n",
       "])\n",
       "q_1.assert_check_passed()\n",
       "\n",
       "```"
      ]
     },
     "metadata": {},
     "output_type": "display_data"
    }
   ],
   "source": [
    "# Lines below will give you a hint or solution code\n",
    "q_1.hint()\n",
    "q_1.solution()"
   ]
  },
  {
   "cell_type": "markdown",
   "id": "d9916640",
   "metadata": {
    "papermill": {
     "duration": 0.003206,
     "end_time": "2025-08-18T10:09:48.195902",
     "exception": false,
     "start_time": "2025-08-18T10:09:48.192696",
     "status": "completed"
    },
    "tags": []
   },
   "source": [
    "# 2) Add Optimizer, Loss, and Metric #\n",
    "\n",
    "Now compile the model with the Adam optimizer and binary versions of the cross-entropy loss and accuracy metric."
   ]
  },
  {
   "cell_type": "code",
   "execution_count": 5,
   "id": "e5bca449",
   "metadata": {
    "execution": {
     "iopub.execute_input": "2025-08-18T10:09:48.203459Z",
     "iopub.status.busy": "2025-08-18T10:09:48.203170Z",
     "iopub.status.idle": "2025-08-18T10:09:48.223000Z",
     "shell.execute_reply": "2025-08-18T10:09:48.222209Z"
    },
    "lines_to_next_cell": 0,
    "papermill": {
     "duration": 0.025297,
     "end_time": "2025-08-18T10:09:48.224547",
     "exception": false,
     "start_time": "2025-08-18T10:09:48.199250",
     "status": "completed"
    },
    "tags": []
   },
   "outputs": [
    {
     "data": {
      "application/javascript": [
       "parent.postMessage({\"jupyterEvent\": \"custom.exercise_interaction\", \"data\": {\"outcomeType\": 1, \"valueTowardsCompletion\": 0.3333333333333333, \"interactionType\": 1, \"questionType\": 2, \"questionId\": \"2_Q2\", \"learnToolsVersion\": \"0.3.4\", \"failureMessage\": \"\", \"exceptionClass\": \"\", \"trace\": \"\"}}, \"*\")"
      ],
      "text/plain": [
       "<IPython.core.display.Javascript object>"
      ]
     },
     "metadata": {},
     "output_type": "display_data"
    },
    {
     "data": {
      "text/markdown": [
       "<span style=\"color:#33cc33\">Correct</span>"
      ],
      "text/plain": [
       "Correct"
      ]
     },
     "metadata": {},
     "output_type": "display_data"
    }
   ],
   "source": [
    "# YOUR CODE HERE\n",
    "model.compile(\n",
    "    optimizer = \"adam\",\n",
    "    loss = \"binary_crossentropy\",\n",
    "    metrics = [\"binary_accuracy\"]\n",
    ")\n",
    "\n",
    "# Check your answer\n",
    "q_2.check()"
   ]
  },
  {
   "cell_type": "code",
   "execution_count": 6,
   "id": "8a1bea4f",
   "metadata": {
    "execution": {
     "iopub.execute_input": "2025-08-18T10:09:48.233065Z",
     "iopub.status.busy": "2025-08-18T10:09:48.232393Z",
     "iopub.status.idle": "2025-08-18T10:09:48.241588Z",
     "shell.execute_reply": "2025-08-18T10:09:48.240785Z"
    },
    "lines_to_next_cell": 0,
    "papermill": {
     "duration": 0.01492,
     "end_time": "2025-08-18T10:09:48.243105",
     "exception": false,
     "start_time": "2025-08-18T10:09:48.228185",
     "status": "completed"
    },
    "tags": []
   },
   "outputs": [
    {
     "data": {
      "application/javascript": [
       "parent.postMessage({\"jupyterEvent\": \"custom.exercise_interaction\", \"data\": {\"interactionType\": 2, \"questionType\": 2, \"questionId\": \"2_Q2\", \"learnToolsVersion\": \"0.3.4\", \"valueTowardsCompletion\": 0.0, \"failureMessage\": \"\", \"exceptionClass\": \"\", \"trace\": \"\", \"outcomeType\": 4}}, \"*\")"
      ],
      "text/plain": [
       "<IPython.core.display.Javascript object>"
      ]
     },
     "metadata": {},
     "output_type": "display_data"
    },
    {
     "data": {
      "text/markdown": [
       "<span style=\"color:#3366cc\">Hint:</span> Your code should look something like:\n",
       "```python\n",
       "model.compile(\n",
       "optimizer=____,\n",
       "loss=____,\n",
       "metrics=____,\n",
       ")\n",
       "```\n"
      ],
      "text/plain": [
       "Hint: Your code should look something like:\n",
       "```python\n",
       "model.compile(\n",
       "optimizer=____,\n",
       "loss=____,\n",
       "metrics=____,\n",
       ")\n",
       "```"
      ]
     },
     "metadata": {},
     "output_type": "display_data"
    },
    {
     "data": {
      "application/javascript": [
       "parent.postMessage({\"jupyterEvent\": \"custom.exercise_interaction\", \"data\": {\"interactionType\": 3, \"questionType\": 2, \"questionId\": \"2_Q2\", \"learnToolsVersion\": \"0.3.4\", \"valueTowardsCompletion\": 0.0, \"failureMessage\": \"\", \"exceptionClass\": \"\", \"trace\": \"\", \"outcomeType\": 4}}, \"*\")"
      ],
      "text/plain": [
       "<IPython.core.display.Javascript object>"
      ]
     },
     "metadata": {},
     "output_type": "display_data"
    },
    {
     "data": {
      "text/markdown": [
       "<span style=\"color:#33cc99\">Solution:</span> \n",
       "```python\n",
       "\n",
       "model.compile(\n",
       "    optimizer='adam',\n",
       "    loss='binary_crossentropy',\n",
       "    metrics=['binary_accuracy'],\n",
       ")\n",
       "\n",
       "```"
      ],
      "text/plain": [
       "Solution: \n",
       "```python\n",
       "\n",
       "model.compile(\n",
       "    optimizer='adam',\n",
       "    loss='binary_crossentropy',\n",
       "    metrics=['binary_accuracy'],\n",
       ")\n",
       "\n",
       "```"
      ]
     },
     "metadata": {},
     "output_type": "display_data"
    }
   ],
   "source": [
    "# Lines below will give you a hint or solution code\n",
    "q_2.hint()\n",
    "q_2.solution()"
   ]
  },
  {
   "cell_type": "markdown",
   "id": "c0318a47",
   "metadata": {
    "papermill": {
     "duration": 0.003709,
     "end_time": "2025-08-18T10:09:48.250641",
     "exception": false,
     "start_time": "2025-08-18T10:09:48.246932",
     "status": "completed"
    },
    "tags": []
   },
   "source": [
    "Finally, run this cell to train the model and view the learning curves. It may run for around 60 to 70 epochs, which could take a minute or two."
   ]
  },
  {
   "cell_type": "code",
   "execution_count": 7,
   "id": "144620e2",
   "metadata": {
    "execution": {
     "iopub.execute_input": "2025-08-18T10:09:48.260105Z",
     "iopub.status.busy": "2025-08-18T10:09:48.259706Z",
     "iopub.status.idle": "2025-08-18T10:10:36.883278Z",
     "shell.execute_reply": "2025-08-18T10:10:36.882388Z"
    },
    "papermill": {
     "duration": 48.629891,
     "end_time": "2025-08-18T10:10:36.885143",
     "exception": false,
     "start_time": "2025-08-18T10:09:48.255252",
     "status": "completed"
    },
    "tags": []
   },
   "outputs": [
    {
     "name": "stdout",
     "output_type": "stream",
     "text": [
      "Epoch 1/200\n"
     ]
    },
    {
     "name": "stderr",
     "output_type": "stream",
     "text": [
      "WARNING: All log messages before absl::InitializeLog() is called are written to STDERR\n",
      "I0000 00:00:1755511792.319771      66 device_compiler.h:186] Compiled cluster using XLA!  This line is logged at most once for the lifetime of the process.\n"
     ]
    },
    {
     "name": "stdout",
     "output_type": "stream",
     "text": [
      "175/175 [==============================] - 6s 7ms/step - loss: 0.4859 - binary_accuracy: 0.7695 - val_loss: 0.4349 - val_binary_accuracy: 0.8056\n",
      "Epoch 2/200\n",
      "175/175 [==============================] - 1s 5ms/step - loss: 0.4249 - binary_accuracy: 0.8007 - val_loss: 0.4033 - val_binary_accuracy: 0.8146\n",
      "Epoch 3/200\n",
      "175/175 [==============================] - 1s 5ms/step - loss: 0.4107 - binary_accuracy: 0.8080 - val_loss: 0.3939 - val_binary_accuracy: 0.8187\n",
      "Epoch 4/200\n",
      "175/175 [==============================] - 1s 5ms/step - loss: 0.4046 - binary_accuracy: 0.8109 - val_loss: 0.3901 - val_binary_accuracy: 0.8180\n",
      "Epoch 5/200\n",
      "175/175 [==============================] - 1s 5ms/step - loss: 0.3992 - binary_accuracy: 0.8131 - val_loss: 0.3854 - val_binary_accuracy: 0.8217\n",
      "Epoch 6/200\n",
      "175/175 [==============================] - 1s 6ms/step - loss: 0.3938 - binary_accuracy: 0.8166 - val_loss: 0.3846 - val_binary_accuracy: 0.8244\n",
      "Epoch 7/200\n",
      "175/175 [==============================] - 1s 5ms/step - loss: 0.3904 - binary_accuracy: 0.8185 - val_loss: 0.3830 - val_binary_accuracy: 0.8244\n",
      "Epoch 8/200\n",
      "175/175 [==============================] - 1s 5ms/step - loss: 0.3872 - binary_accuracy: 0.8210 - val_loss: 0.3774 - val_binary_accuracy: 0.8255\n",
      "Epoch 9/200\n",
      "175/175 [==============================] - 1s 5ms/step - loss: 0.3838 - binary_accuracy: 0.8221 - val_loss: 0.3764 - val_binary_accuracy: 0.8287\n",
      "Epoch 10/200\n",
      "175/175 [==============================] - 1s 5ms/step - loss: 0.3802 - binary_accuracy: 0.8240 - val_loss: 0.3727 - val_binary_accuracy: 0.8297\n",
      "Epoch 11/200\n",
      "175/175 [==============================] - 1s 5ms/step - loss: 0.3779 - binary_accuracy: 0.8251 - val_loss: 0.3702 - val_binary_accuracy: 0.8315\n",
      "Epoch 12/200\n",
      "175/175 [==============================] - 1s 5ms/step - loss: 0.3759 - binary_accuracy: 0.8257 - val_loss: 0.3706 - val_binary_accuracy: 0.8303\n",
      "Epoch 13/200\n",
      "175/175 [==============================] - 1s 5ms/step - loss: 0.3741 - binary_accuracy: 0.8270 - val_loss: 0.3673 - val_binary_accuracy: 0.8320\n",
      "Epoch 14/200\n",
      "175/175 [==============================] - 1s 5ms/step - loss: 0.3724 - binary_accuracy: 0.8282 - val_loss: 0.3670 - val_binary_accuracy: 0.8344\n",
      "Epoch 15/200\n",
      "175/175 [==============================] - 1s 5ms/step - loss: 0.3687 - binary_accuracy: 0.8295 - val_loss: 0.3637 - val_binary_accuracy: 0.8326\n",
      "Epoch 16/200\n",
      "175/175 [==============================] - 1s 5ms/step - loss: 0.3671 - binary_accuracy: 0.8307 - val_loss: 0.3649 - val_binary_accuracy: 0.8330\n",
      "Epoch 17/200\n",
      "175/175 [==============================] - 1s 5ms/step - loss: 0.3660 - binary_accuracy: 0.8305 - val_loss: 0.3645 - val_binary_accuracy: 0.8319\n",
      "Epoch 18/200\n",
      "175/175 [==============================] - 1s 5ms/step - loss: 0.3641 - binary_accuracy: 0.8321 - val_loss: 0.3595 - val_binary_accuracy: 0.8365\n",
      "Epoch 19/200\n",
      "175/175 [==============================] - 1s 5ms/step - loss: 0.3619 - binary_accuracy: 0.8332 - val_loss: 0.3659 - val_binary_accuracy: 0.8314\n",
      "Epoch 20/200\n",
      "175/175 [==============================] - 1s 5ms/step - loss: 0.3609 - binary_accuracy: 0.8338 - val_loss: 0.3635 - val_binary_accuracy: 0.8325\n",
      "Epoch 21/200\n",
      "175/175 [==============================] - 1s 5ms/step - loss: 0.3591 - binary_accuracy: 0.8343 - val_loss: 0.3586 - val_binary_accuracy: 0.8354\n",
      "Epoch 22/200\n",
      "175/175 [==============================] - 1s 5ms/step - loss: 0.3574 - binary_accuracy: 0.8346 - val_loss: 0.3564 - val_binary_accuracy: 0.8374\n",
      "Epoch 23/200\n",
      "175/175 [==============================] - 1s 5ms/step - loss: 0.3563 - binary_accuracy: 0.8350 - val_loss: 0.3559 - val_binary_accuracy: 0.8377\n",
      "Epoch 24/200\n",
      "175/175 [==============================] - 1s 5ms/step - loss: 0.3548 - binary_accuracy: 0.8368 - val_loss: 0.3600 - val_binary_accuracy: 0.8328\n",
      "Epoch 25/200\n",
      "175/175 [==============================] - 1s 5ms/step - loss: 0.3541 - binary_accuracy: 0.8370 - val_loss: 0.3540 - val_binary_accuracy: 0.8383\n",
      "Epoch 26/200\n",
      "175/175 [==============================] - 1s 5ms/step - loss: 0.3531 - binary_accuracy: 0.8369 - val_loss: 0.3547 - val_binary_accuracy: 0.8384\n",
      "Epoch 27/200\n",
      "175/175 [==============================] - 1s 6ms/step - loss: 0.3526 - binary_accuracy: 0.8373 - val_loss: 0.3546 - val_binary_accuracy: 0.8386\n",
      "Epoch 28/200\n",
      "175/175 [==============================] - 1s 5ms/step - loss: 0.3512 - binary_accuracy: 0.8381 - val_loss: 0.3550 - val_binary_accuracy: 0.8375\n",
      "Epoch 29/200\n",
      "175/175 [==============================] - 1s 5ms/step - loss: 0.3500 - binary_accuracy: 0.8387 - val_loss: 0.3560 - val_binary_accuracy: 0.8364\n",
      "Epoch 30/200\n",
      "175/175 [==============================] - 1s 5ms/step - loss: 0.3497 - binary_accuracy: 0.8389 - val_loss: 0.3527 - val_binary_accuracy: 0.8393\n",
      "Epoch 31/200\n",
      "175/175 [==============================] - 1s 5ms/step - loss: 0.3480 - binary_accuracy: 0.8395 - val_loss: 0.3542 - val_binary_accuracy: 0.8384\n",
      "Epoch 32/200\n",
      "175/175 [==============================] - 1s 5ms/step - loss: 0.3470 - binary_accuracy: 0.8387 - val_loss: 0.3547 - val_binary_accuracy: 0.8371\n",
      "Epoch 33/200\n",
      "175/175 [==============================] - 1s 5ms/step - loss: 0.3446 - binary_accuracy: 0.8406 - val_loss: 0.3546 - val_binary_accuracy: 0.8378\n",
      "Epoch 34/200\n",
      "175/175 [==============================] - 1s 5ms/step - loss: 0.3449 - binary_accuracy: 0.8411 - val_loss: 0.3515 - val_binary_accuracy: 0.8395\n",
      "Epoch 35/200\n",
      "175/175 [==============================] - 1s 5ms/step - loss: 0.3442 - binary_accuracy: 0.8405 - val_loss: 0.3538 - val_binary_accuracy: 0.8376\n",
      "Epoch 36/200\n",
      "175/175 [==============================] - 1s 5ms/step - loss: 0.3431 - binary_accuracy: 0.8415 - val_loss: 0.3515 - val_binary_accuracy: 0.8387\n",
      "Epoch 37/200\n",
      "175/175 [==============================] - 1s 5ms/step - loss: 0.3428 - binary_accuracy: 0.8419 - val_loss: 0.3547 - val_binary_accuracy: 0.8375\n",
      "Epoch 38/200\n",
      "175/175 [==============================] - 1s 5ms/step - loss: 0.3429 - binary_accuracy: 0.8412 - val_loss: 0.3528 - val_binary_accuracy: 0.8383\n",
      "Epoch 39/200\n",
      "175/175 [==============================] - 1s 5ms/step - loss: 0.3402 - binary_accuracy: 0.8431 - val_loss: 0.3493 - val_binary_accuracy: 0.8415\n",
      "Epoch 40/200\n",
      "175/175 [==============================] - 1s 5ms/step - loss: 0.3412 - binary_accuracy: 0.8425 - val_loss: 0.3507 - val_binary_accuracy: 0.8389\n",
      "Epoch 41/200\n",
      "175/175 [==============================] - 1s 5ms/step - loss: 0.3376 - binary_accuracy: 0.8451 - val_loss: 0.3481 - val_binary_accuracy: 0.8416\n",
      "Epoch 42/200\n",
      "175/175 [==============================] - 1s 5ms/step - loss: 0.3403 - binary_accuracy: 0.8428 - val_loss: 0.3492 - val_binary_accuracy: 0.8407\n",
      "Epoch 43/200\n",
      "175/175 [==============================] - 1s 5ms/step - loss: 0.3375 - binary_accuracy: 0.8438 - val_loss: 0.3489 - val_binary_accuracy: 0.8401\n",
      "Epoch 44/200\n",
      "175/175 [==============================] - 1s 5ms/step - loss: 0.3370 - binary_accuracy: 0.8435 - val_loss: 0.3492 - val_binary_accuracy: 0.8404\n",
      "Epoch 45/200\n",
      "175/175 [==============================] - 1s 5ms/step - loss: 0.3359 - binary_accuracy: 0.8442 - val_loss: 0.3497 - val_binary_accuracy: 0.8404\n",
      "Epoch 46/200\n",
      "175/175 [==============================] - 1s 5ms/step - loss: 0.3362 - binary_accuracy: 0.8453 - val_loss: 0.3489 - val_binary_accuracy: 0.8401\n"
     ]
    },
    {
     "data": {
      "text/plain": [
       "<Axes: title={'center': 'Accuracy'}>"
      ]
     },
     "execution_count": 7,
     "metadata": {},
     "output_type": "execute_result"
    },
    {
     "data": {
      "image/png": "[encoded data removed]",
      "text/plain": [
       "<Figure size 640x480 with 1 Axes>"
      ]
     },
     "metadata": {},
     "output_type": "display_data"
    },
    {
     "data": {
      "image/png": "[encoded data removed]",
      "text/plain": [
       "<Figure size 640x480 with 1 Axes>"
      ]
     },
     "metadata": {},
     "output_type": "display_data"
    }
   ],
   "source": [
    "early_stopping = keras.callbacks.EarlyStopping(\n",
    "    patience=5,\n",
    "    min_delta=0.001,\n",
    "    restore_best_weights=True,\n",
    ")\n",
    "history = model.fit(\n",
    "    X_train, y_train,\n",
    "    validation_data=(X_valid, y_valid),\n",
    "    batch_size=512,\n",
    "    epochs=200,\n",
    "    callbacks=[early_stopping],\n",
    ")\n",
    "\n",
    "history_df = pd.DataFrame(history.history)\n",
    "history_df.loc[:, ['loss', 'val_loss']].plot(title=\"Cross-entropy\")\n",
    "history_df.loc[:, ['binary_accuracy', 'val_binary_accuracy']].plot(title=\"Accuracy\")"
   ]
  },
  {
   "cell_type": "markdown",
   "id": "ab8687ce",
   "metadata": {
    "papermill": {
     "duration": 0.040754,
     "end_time": "2025-08-18T10:10:36.966916",
     "exception": false,
     "start_time": "2025-08-18T10:10:36.926162",
     "status": "completed"
    },
    "tags": []
   },
   "source": [
    "# 3) Train and Evaluate #\n",
    "\n",
    "\n",
    "What do you think about the learning curves? Does it look like the model underfit or overfit? Was the cross-entropy loss a good stand-in for accuracy?"
   ]
  },
  {
   "cell_type": "code",
   "execution_count": 8,
   "id": "2332a1b6",
   "metadata": {
    "execution": {
     "iopub.execute_input": "2025-08-18T10:10:37.050316Z",
     "iopub.status.busy": "2025-08-18T10:10:37.049619Z",
     "iopub.status.idle": "2025-08-18T10:10:37.056258Z",
     "shell.execute_reply": "2025-08-18T10:10:37.055516Z"
    },
    "papermill": {
     "duration": 0.049931,
     "end_time": "2025-08-18T10:10:37.057936",
     "exception": false,
     "start_time": "2025-08-18T10:10:37.008005",
     "status": "completed"
    },
    "tags": []
   },
   "outputs": [
    {
     "data": {
      "application/javascript": [
       "parent.postMessage({\"jupyterEvent\": \"custom.exercise_interaction\", \"data\": {\"outcomeType\": 1, \"valueTowardsCompletion\": 0.3333333333333333, \"interactionType\": 1, \"questionType\": 4, \"questionId\": \"3_Q3\", \"learnToolsVersion\": \"0.3.4\", \"failureMessage\": \"\", \"exceptionClass\": \"\", \"trace\": \"\"}}, \"*\")"
      ],
      "text/plain": [
       "<IPython.core.display.Javascript object>"
      ]
     },
     "metadata": {},
     "output_type": "display_data"
    },
    {
     "data": {
      "text/markdown": [
       "<span style=\"color:#33cc33\">Correct:</span> \n",
       "\n",
       "Though we can see the training loss continuing to fall, the early stopping callback prevented any overfitting. Moreover, the accuracy rose at the same rate as the cross-entropy fell, so it appears that minimizing cross-entropy was a good stand-in. All in all, it looks like this training was a success!"
      ],
      "text/plain": [
       "Correct: \n",
       "\n",
       "Though we can see the training loss continuing to fall, the early stopping callback prevented any overfitting. Moreover, the accuracy rose at the same rate as the cross-entropy fell, so it appears that minimizing cross-entropy was a good stand-in. All in all, it looks like this training was a success!"
      ]
     },
     "metadata": {},
     "output_type": "display_data"
    }
   ],
   "source": [
    "# View the solution (Run this cell to receive credit!)\n",
    "q_3.check()"
   ]
  },
  {
   "cell_type": "markdown",
   "id": "b6f6357e",
   "metadata": {
    "papermill": {
     "duration": 0.040002,
     "end_time": "2025-08-18T10:10:37.138315",
     "exception": false,
     "start_time": "2025-08-18T10:10:37.098313",
     "status": "completed"
    },
    "tags": []
   },
   "source": [
    "# Conclusion #\n",
    "\n",
    "Congratulations! You've completed Kaggle's *Introduction to Deep Learning* course!\n",
    "\n",
    "With your new skills you're ready to take on more advanced applications like computer vision and sentiment classification. What would you like to do next?\n",
    "\n",
    "Why not try one of our *Getting Started* competitions?\n",
    "\n",
    "- Classify images with TPUs in [**Petals to the Metal**](https://www.kaggle.com/c/tpu-getting-started)\n",
    "- Create art with GANs in [**I'm Something of a Painter Myself**](https://www.kaggle.com/c/gan-getting-started)\n",
    "- Classify Tweets in [**Real or Not? NLP with Disaster Tweets**](https://www.kaggle.com/c/nlp-getting-started)\n",
    "- Detect contradiction and entailment in [**Contradictory, My Dear Watson**](https://www.kaggle.com/c/contradictory-my-dear-watson)\n",
    "\n",
    "Until next time, Kagglers!"
   ]
  },
  {
   "cell_type": "markdown",
   "id": "cb7c0c0f",
   "metadata": {
    "papermill": {
     "duration": 0.040418,
     "end_time": "2025-08-18T10:10:37.264803",
     "exception": false,
     "start_time": "2025-08-18T10:10:37.224385",
     "status": "completed"
    },
    "tags": []
   },
   "source": [
    "---\n",
    "\n",
    "\n",
    "\n",
    "\n",
    "*Have questions or comments? Visit the [course discussion forum](https://www.kaggle.com/learn/intro-to-deep-learning/discussion) to chat with other learners.*"
   ]
  }
 ],
 "metadata": {
  "jupytext": {
   "cell_metadata_filter": "-all",
   "formats": "ipynb"
  },
  "kaggle": {
   "accelerator": "gpu",
   "dataSources": [
    {
     "datasetId": 829369,
     "sourceId": 1480608,
     "sourceType": "datasetVersion"
    }
   ],
   "dockerImageVersionId": 30648,
   "isGpuEnabled": true,
   "isInternetEnabled": true,
   "language": "python",
   "sourceType": "notebook"
  },
  "kernelspec": {
   "display_name": "Python 3",
   "language": "python",
   "name": "python3"
  },
  "language_info": {
   "codemirror_mode": {
    "name": "ipython",
    "version": 3
   },
   "file_extension": ".py",
   "mimetype": "text/x-python",
   "name": "python",
   "nbconvert_exporter": "python",
   "pygments_lexer": "ipython3",
   "version": "3.10.13"
  },
  "papermill": {
   "default_parameters": {},
   "duration": 70.10367,
   "end_time": "2025-08-18T10:10:40.380294",
   "environment_variables": {},
   "exception": null,
   "input_path": "__notebook__.ipynb",
   "output_path": "__notebook__.ipynb",
   "parameters": {},
   "start_time": "2025-08-18T10:09:30.276624",
   "version": "2.5.0"
  }
 },
 "nbformat": 4,
 "nbformat_minor": 5
}
