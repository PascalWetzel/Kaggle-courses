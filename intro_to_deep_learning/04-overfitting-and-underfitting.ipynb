{
 "cells": [
  {
   "cell_type": "markdown",
   "id": "cf47dbc8",
   "metadata": {
    "papermill": {
     "duration": 0.004461,
     "end_time": "2025-08-15T10:17:38.441435",
     "exception": false,
     "start_time": "2025-08-15T10:17:38.436974",
     "status": "completed"
    },
    "tags": []
   },
   "source": [
    "**This notebook is an exercise in the [Intro to Deep Learning](https://www.kaggle.com/learn/intro-to-deep-learning) course.  You can reference the tutorial at [this link](https://www.kaggle.com/ryanholbrook/overfitting-and-underfitting).**\n",
    "\n",
    "---\n"
   ]
  },
  {
   "cell_type": "markdown",
   "id": "9ba25a1a",
   "metadata": {
    "papermill": {
     "duration": 0.003559,
     "end_time": "2025-08-15T10:17:38.449047",
     "exception": false,
     "start_time": "2025-08-15T10:17:38.445488",
     "status": "completed"
    },
    "tags": []
   },
   "source": [
    "# Introduction #\n",
    "\n",
    "In this exercise, you’ll learn how to improve training outcomes by including an early stopping callback to prevent overfitting.\n",
    "\n",
    "When you're ready, run this next cell to set everything up!"
   ]
  },
  {
   "cell_type": "code",
   "execution_count": 1,
   "id": "9c2079af",
   "metadata": {
    "execution": {
     "iopub.execute_input": "2025-08-15T10:17:38.457955Z",
     "iopub.status.busy": "2025-08-15T10:17:38.457621Z",
     "iopub.status.idle": "2025-08-15T10:17:40.696592Z",
     "shell.execute_reply": "2025-08-15T10:17:40.694933Z"
    },
    "papermill": {
     "duration": 2.246618,
     "end_time": "2025-08-15T10:17:40.699395",
     "exception": false,
     "start_time": "2025-08-15T10:17:38.452777",
     "status": "completed"
    },
    "tags": []
   },
   "outputs": [],
   "source": [
    "# Setup plotting\n",
    "import matplotlib.pyplot as plt\n",
    "import seaborn as sns\n",
    "\n",
    "sns.set_theme(style=\"whitegrid\")\n",
    "# Set Matplotlib defaults\n",
    "plt.rc('figure', autolayout=True)\n",
    "plt.rc('axes', labelweight='bold', labelsize='large',\n",
    "       titleweight='bold', titlesize=18, titlepad=10)\n",
    "plt.rc('animation', html='html5')\n",
    "\n",
    "# Setup feedback system\n",
    "from learntools.core import binder\n",
    "binder.bind(globals())\n",
    "from learntools.deep_learning_intro.ex4 import *"
   ]
  },
  {
   "cell_type": "markdown",
   "id": "f9044ef6",
   "metadata": {
    "papermill": {
     "duration": 0.005739,
     "end_time": "2025-08-15T10:17:40.710344",
     "exception": false,
     "start_time": "2025-08-15T10:17:40.704605",
     "status": "completed"
    },
    "tags": []
   },
   "source": [
    "First load the *Spotify* dataset. Your task will be to predict the popularity of a song based on various audio features, like `'tempo'`, `'danceability'`, and `'mode'`."
   ]
  },
  {
   "cell_type": "code",
   "execution_count": 2,
   "id": "bfbb3f13",
   "metadata": {
    "execution": {
     "iopub.execute_input": "2025-08-15T10:17:40.722264Z",
     "iopub.status.busy": "2025-08-15T10:17:40.721801Z",
     "iopub.status.idle": "2025-08-15T10:17:55.239827Z",
     "shell.execute_reply": "2025-08-15T10:17:55.238713Z"
    },
    "papermill": {
     "duration": 14.526049,
     "end_time": "2025-08-15T10:17:55.241898",
     "exception": false,
     "start_time": "2025-08-15T10:17:40.715849",
     "status": "completed"
    },
    "tags": []
   },
   "outputs": [
    {
     "name": "stderr",
     "output_type": "stream",
     "text": [
      "2025-08-15 10:17:43.753883: E external/local_xla/xla/stream_executor/cuda/cuda_dnn.cc:9261] Unable to register cuDNN factory: Attempting to register factory for plugin cuDNN when one has already been registered\n",
      "2025-08-15 10:17:43.753993: E external/local_xla/xla/stream_executor/cuda/cuda_fft.cc:607] Unable to register cuFFT factory: Attempting to register factory for plugin cuFFT when one has already been registered\n",
      "2025-08-15 10:17:43.922641: E external/local_xla/xla/stream_executor/cuda/cuda_blas.cc:1515] Unable to register cuBLAS factory: Attempting to register factory for plugin cuBLAS when one has already been registered\n"
     ]
    },
    {
     "name": "stdout",
     "output_type": "stream",
     "text": [
      "Input shape: [18]\n"
     ]
    }
   ],
   "source": [
    "import pandas as pd\n",
    "from sklearn.preprocessing import StandardScaler, OneHotEncoder\n",
    "from sklearn.compose import make_column_transformer\n",
    "from sklearn.model_selection import GroupShuffleSplit\n",
    "\n",
    "from tensorflow import keras\n",
    "from tensorflow.keras import layers\n",
    "from tensorflow.keras import callbacks\n",
    "\n",
    "spotify = pd.read_csv('../input/dl-course-data/spotify.csv')\n",
    "\n",
    "X = spotify.copy().dropna()\n",
    "y = X.pop('track_popularity')\n",
    "artists = X['track_artist']\n",
    "\n",
    "features_num = ['danceability', 'energy', 'key', 'loudness', 'mode',\n",
    "                'speechiness', 'acousticness', 'instrumentalness',\n",
    "                'liveness', 'valence', 'tempo', 'duration_ms']\n",
    "features_cat = ['playlist_genre']\n",
    "\n",
    "preprocessor = make_column_transformer(\n",
    "    (StandardScaler(), features_num),\n",
    "    (OneHotEncoder(), features_cat),\n",
    ")\n",
    "\n",
    "# We'll do a \"grouped\" split to keep all of an artist's songs in one\n",
    "# split or the other. This is to help prevent signal leakage.\n",
    "def group_split(X, y, group, train_size=0.75):\n",
    "    splitter = GroupShuffleSplit(train_size=train_size)\n",
    "    train, test = next(splitter.split(X, y, groups=group))\n",
    "    return (X.iloc[train], X.iloc[test], y.iloc[train], y.iloc[test])\n",
    "\n",
    "X_train, X_valid, y_train, y_valid = group_split(X, y, artists)\n",
    "\n",
    "X_train = preprocessor.fit_transform(X_train)\n",
    "X_valid = preprocessor.transform(X_valid)\n",
    "y_train = y_train / 100 # popularity is on a scale 0-100, so this rescales to 0-1.\n",
    "y_valid = y_valid / 100\n",
    "\n",
    "input_shape = [X_train.shape[1]]\n",
    "print(\"Input shape: {}\".format(input_shape))"
   ]
  },
  {
   "cell_type": "markdown",
   "id": "fc3308b4",
   "metadata": {
    "papermill": {
     "duration": 0.004103,
     "end_time": "2025-08-15T10:17:55.250523",
     "exception": false,
     "start_time": "2025-08-15T10:17:55.246420",
     "status": "completed"
    },
    "tags": []
   },
   "source": [
    "Let's start with the simplest network, a linear model. This model has low capacity.\n",
    "\n",
    "Run this next cell without any changes to train a linear model on the *Spotify* dataset."
   ]
  },
  {
   "cell_type": "code",
   "execution_count": 3,
   "id": "d7806cf5",
   "metadata": {
    "execution": {
     "iopub.execute_input": "2025-08-15T10:17:55.260405Z",
     "iopub.status.busy": "2025-08-15T10:17:55.259824Z",
     "iopub.status.idle": "2025-08-15T10:18:04.616375Z",
     "shell.execute_reply": "2025-08-15T10:18:04.615589Z"
    },
    "lines_to_next_cell": 0,
    "papermill": {
     "duration": 9.363612,
     "end_time": "2025-08-15T10:18:04.618322",
     "exception": false,
     "start_time": "2025-08-15T10:17:55.254710",
     "status": "completed"
    },
    "tags": []
   },
   "outputs": [
    {
     "name": "stderr",
     "output_type": "stream",
     "text": [
      "WARNING: All log messages before absl::InitializeLog() is called are written to STDERR\n",
      "I0000 00:00:1755253077.681402      69 device_compiler.h:186] Compiled cluster using XLA!  This line is logged at most once for the lifetime of the process.\n"
     ]
    },
    {
     "name": "stdout",
     "output_type": "stream",
     "text": [
      "Minimum Validation Loss: 0.1915\n"
     ]
    },
    {
     "data": {
      "image/png": "[encoded data removed]",
      "text/plain": [
       "<Figure size 640x480 with 1 Axes>"
      ]
     },
     "metadata": {},
     "output_type": "display_data"
    }
   ],
   "source": [
    "model = keras.Sequential([\n",
    "    layers.Dense(1, input_shape=input_shape),\n",
    "])\n",
    "model.compile(\n",
    "    optimizer='adam',\n",
    "    loss='mae',\n",
    ")\n",
    "history = model.fit(\n",
    "    X_train, y_train,\n",
    "    validation_data=(X_valid, y_valid),\n",
    "    batch_size=512,\n",
    "    epochs=50,\n",
    "    verbose=0, # suppress output since we'll plot the curves\n",
    ")\n",
    "history_df = pd.DataFrame(history.history)\n",
    "history_df.loc[0:, ['loss', 'val_loss']].plot()\n",
    "print(\"Minimum Validation Loss: {:0.4f}\".format(history_df['val_loss'].min()));"
   ]
  },
  {
   "cell_type": "markdown",
   "id": "dc46952e",
   "metadata": {
    "papermill": {
     "duration": 0.004408,
     "end_time": "2025-08-15T10:18:04.627142",
     "exception": false,
     "start_time": "2025-08-15T10:18:04.622734",
     "status": "completed"
    },
    "tags": []
   },
   "source": [
    "It's not uncommon for the curves to follow a \"hockey stick\" pattern like you see here. This makes the final part of training hard to see, so let's start at epoch 10 instead:"
   ]
  },
  {
   "cell_type": "code",
   "execution_count": 4,
   "id": "825f3bd6",
   "metadata": {
    "execution": {
     "iopub.execute_input": "2025-08-15T10:18:04.636616Z",
     "iopub.status.busy": "2025-08-15T10:18:04.636355Z",
     "iopub.status.idle": "2025-08-15T10:18:05.072931Z",
     "shell.execute_reply": "2025-08-15T10:18:05.072067Z"
    },
    "papermill": {
     "duration": 0.443196,
     "end_time": "2025-08-15T10:18:05.074680",
     "exception": false,
     "start_time": "2025-08-15T10:18:04.631484",
     "status": "completed"
    },
    "tags": []
   },
   "outputs": [
    {
     "name": "stdout",
     "output_type": "stream",
     "text": [
      "Minimum Validation Loss: 0.1915\n"
     ]
    },
    {
     "data": {
      "image/png": "[encoded data removed]",
      "text/plain": [
       "<Figure size 640x480 with 1 Axes>"
      ]
     },
     "metadata": {},
     "output_type": "display_data"
    }
   ],
   "source": [
    "# Start the plot at epoch 10\n",
    "history_df.loc[10:, ['loss', 'val_loss']].plot()\n",
    "print(\"Minimum Validation Loss: {:0.4f}\".format(history_df['val_loss'].min()));"
   ]
  },
  {
   "cell_type": "markdown",
   "id": "cea96ae7",
   "metadata": {
    "papermill": {
     "duration": 0.005713,
     "end_time": "2025-08-15T10:18:05.085467",
     "exception": false,
     "start_time": "2025-08-15T10:18:05.079754",
     "status": "completed"
    },
    "tags": []
   },
   "source": [
    "# 1) Evaluate Baseline\n",
    "\n",
    "What do you think? Would you say this model is underfitting, overfitting, just right?"
   ]
  },
  {
   "cell_type": "code",
   "execution_count": 5,
   "id": "976e9074",
   "metadata": {
    "execution": {
     "iopub.execute_input": "2025-08-15T10:18:05.096180Z",
     "iopub.status.busy": "2025-08-15T10:18:05.095684Z",
     "iopub.status.idle": "2025-08-15T10:18:05.102172Z",
     "shell.execute_reply": "2025-08-15T10:18:05.101433Z"
    },
    "papermill": {
     "duration": 0.013612,
     "end_time": "2025-08-15T10:18:05.103876",
     "exception": false,
     "start_time": "2025-08-15T10:18:05.090264",
     "status": "completed"
    },
    "tags": []
   },
   "outputs": [
    {
     "data": {
      "application/javascript": [
       "parent.postMessage({\"jupyterEvent\": \"custom.exercise_interaction\", \"data\": {\"outcomeType\": 1, \"valueTowardsCompletion\": 0.25, \"interactionType\": 1, \"questionType\": 4, \"questionId\": \"1_Q1\", \"learnToolsVersion\": \"0.3.4\", \"failureMessage\": \"\", \"exceptionClass\": \"\", \"trace\": \"\"}}, \"*\")"
      ],
      "text/plain": [
       "<IPython.core.display.Javascript object>"
      ]
     },
     "metadata": {},
     "output_type": "display_data"
    },
    {
     "data": {
      "text/markdown": [
       "<span style=\"color:#33cc33\">Correct:</span> \n",
       "\n",
       "The gap between these curves is quite small and the validation loss never increases, so it's more likely that the network is underfitting than overfitting. It would be worth experimenting with more capacity to see if that's the case."
      ],
      "text/plain": [
       "Correct: \n",
       "\n",
       "The gap between these curves is quite small and the validation loss never increases, so it's more likely that the network is underfitting than overfitting. It would be worth experimenting with more capacity to see if that's the case."
      ]
     },
     "metadata": {},
     "output_type": "display_data"
    }
   ],
   "source": [
    "# View the solution (Run this cell to receive credit!)\n",
    "q_1.check()"
   ]
  },
  {
   "cell_type": "markdown",
   "id": "4a83b4a2",
   "metadata": {
    "papermill": {
     "duration": 0.004696,
     "end_time": "2025-08-15T10:18:05.113713",
     "exception": false,
     "start_time": "2025-08-15T10:18:05.109017",
     "status": "completed"
    },
    "tags": []
   },
   "source": [
    "Now let's add some capacity to our network. We'll add three hidden layers with 128 units each. Run the next cell to train the network and see the learning curves."
   ]
  },
  {
   "cell_type": "code",
   "execution_count": 6,
   "id": "93af8c26",
   "metadata": {
    "execution": {
     "iopub.execute_input": "2025-08-15T10:18:05.125143Z",
     "iopub.status.busy": "2025-08-15T10:18:05.124478Z",
     "iopub.status.idle": "2025-08-15T10:18:15.299895Z",
     "shell.execute_reply": "2025-08-15T10:18:15.299090Z"
    },
    "papermill": {
     "duration": 10.183164,
     "end_time": "2025-08-15T10:18:15.301960",
     "exception": false,
     "start_time": "2025-08-15T10:18:05.118796",
     "status": "completed"
    },
    "tags": []
   },
   "outputs": [
    {
     "name": "stdout",
     "output_type": "stream",
     "text": [
      "Epoch 1/50\n",
      "49/49 [==============================] - 2s 6ms/step - loss: 0.2218 - val_loss: 0.1985\n",
      "Epoch 2/50\n",
      "49/49 [==============================] - 0s 3ms/step - loss: 0.1992 - val_loss: 0.1949\n",
      "Epoch 3/50\n",
      "49/49 [==============================] - 0s 3ms/step - loss: 0.1951 - val_loss: 0.1969\n",
      "Epoch 4/50\n",
      "49/49 [==============================] - 0s 3ms/step - loss: 0.1929 - val_loss: 0.1926\n",
      "Epoch 5/50\n",
      "49/49 [==============================] - 0s 3ms/step - loss: 0.1908 - val_loss: 0.1929\n",
      "Epoch 6/50\n",
      "49/49 [==============================] - 0s 3ms/step - loss: 0.1889 - val_loss: 0.1919\n",
      "Epoch 7/50\n",
      "49/49 [==============================] - 0s 3ms/step - loss: 0.1875 - val_loss: 0.1918\n",
      "Epoch 8/50\n",
      "49/49 [==============================] - 0s 3ms/step - loss: 0.1866 - val_loss: 0.1947\n",
      "Epoch 9/50\n",
      "49/49 [==============================] - 0s 3ms/step - loss: 0.1864 - val_loss: 0.1922\n",
      "Epoch 10/50\n",
      "49/49 [==============================] - 0s 3ms/step - loss: 0.1847 - val_loss: 0.1945\n",
      "Epoch 11/50\n",
      "49/49 [==============================] - 0s 3ms/step - loss: 0.1841 - val_loss: 0.1960\n",
      "Epoch 12/50\n",
      "49/49 [==============================] - 0s 3ms/step - loss: 0.1833 - val_loss: 0.1956\n",
      "Epoch 13/50\n",
      "49/49 [==============================] - 0s 3ms/step - loss: 0.1829 - val_loss: 0.1937\n",
      "Epoch 14/50\n",
      "49/49 [==============================] - 0s 3ms/step - loss: 0.1816 - val_loss: 0.1939\n",
      "Epoch 15/50\n",
      "49/49 [==============================] - 0s 3ms/step - loss: 0.1816 - val_loss: 0.1942\n",
      "Epoch 16/50\n",
      "49/49 [==============================] - 0s 3ms/step - loss: 0.1801 - val_loss: 0.1939\n",
      "Epoch 17/50\n",
      "49/49 [==============================] - 0s 3ms/step - loss: 0.1795 - val_loss: 0.1941\n",
      "Epoch 18/50\n",
      "49/49 [==============================] - 0s 3ms/step - loss: 0.1794 - val_loss: 0.1951\n",
      "Epoch 19/50\n",
      "49/49 [==============================] - 0s 3ms/step - loss: 0.1787 - val_loss: 0.1948\n",
      "Epoch 20/50\n",
      "49/49 [==============================] - 0s 3ms/step - loss: 0.1781 - val_loss: 0.1947\n",
      "Epoch 21/50\n",
      "49/49 [==============================] - 0s 3ms/step - loss: 0.1768 - val_loss: 0.1953\n",
      "Epoch 22/50\n",
      "49/49 [==============================] - 0s 3ms/step - loss: 0.1774 - val_loss: 0.1966\n",
      "Epoch 23/50\n",
      "49/49 [==============================] - 0s 3ms/step - loss: 0.1766 - val_loss: 0.1957\n",
      "Epoch 24/50\n",
      "49/49 [==============================] - 0s 3ms/step - loss: 0.1751 - val_loss: 0.1958\n",
      "Epoch 25/50\n",
      "49/49 [==============================] - 0s 4ms/step - loss: 0.1753 - val_loss: 0.1975\n",
      "Epoch 26/50\n",
      "49/49 [==============================] - 0s 3ms/step - loss: 0.1747 - val_loss: 0.1952\n",
      "Epoch 27/50\n",
      "49/49 [==============================] - 0s 3ms/step - loss: 0.1741 - val_loss: 0.1969\n",
      "Epoch 28/50\n",
      "49/49 [==============================] - 0s 3ms/step - loss: 0.1739 - val_loss: 0.1979\n",
      "Epoch 29/50\n",
      "49/49 [==============================] - 0s 4ms/step - loss: 0.1735 - val_loss: 0.1975\n",
      "Epoch 30/50\n",
      "49/49 [==============================] - 0s 3ms/step - loss: 0.1735 - val_loss: 0.1979\n",
      "Epoch 31/50\n",
      "49/49 [==============================] - 0s 3ms/step - loss: 0.1727 - val_loss: 0.1967\n",
      "Epoch 32/50\n",
      "49/49 [==============================] - 0s 3ms/step - loss: 0.1715 - val_loss: 0.1984\n",
      "Epoch 33/50\n",
      "49/49 [==============================] - 0s 3ms/step - loss: 0.1716 - val_loss: 0.1981\n",
      "Epoch 34/50\n",
      "49/49 [==============================] - 0s 3ms/step - loss: 0.1707 - val_loss: 0.1993\n",
      "Epoch 35/50\n",
      "49/49 [==============================] - 0s 3ms/step - loss: 0.1698 - val_loss: 0.2007\n",
      "Epoch 36/50\n",
      "49/49 [==============================] - 0s 3ms/step - loss: 0.1702 - val_loss: 0.2005\n",
      "Epoch 37/50\n",
      "49/49 [==============================] - 0s 3ms/step - loss: 0.1691 - val_loss: 0.2017\n",
      "Epoch 38/50\n",
      "49/49 [==============================] - 0s 3ms/step - loss: 0.1694 - val_loss: 0.1999\n",
      "Epoch 39/50\n",
      "49/49 [==============================] - 0s 3ms/step - loss: 0.1684 - val_loss: 0.2004\n",
      "Epoch 40/50\n",
      "49/49 [==============================] - 0s 3ms/step - loss: 0.1680 - val_loss: 0.1994\n",
      "Epoch 41/50\n",
      "49/49 [==============================] - 0s 3ms/step - loss: 0.1683 - val_loss: 0.2044\n",
      "Epoch 42/50\n",
      "49/49 [==============================] - 0s 3ms/step - loss: 0.1683 - val_loss: 0.1997\n",
      "Epoch 43/50\n",
      "49/49 [==============================] - 0s 3ms/step - loss: 0.1678 - val_loss: 0.2012\n",
      "Epoch 44/50\n",
      "49/49 [==============================] - 0s 4ms/step - loss: 0.1663 - val_loss: 0.1998\n",
      "Epoch 45/50\n",
      "49/49 [==============================] - 0s 3ms/step - loss: 0.1668 - val_loss: 0.2013\n",
      "Epoch 46/50\n",
      "49/49 [==============================] - 0s 3ms/step - loss: 0.1659 - val_loss: 0.2005\n",
      "Epoch 47/50\n",
      "49/49 [==============================] - 0s 3ms/step - loss: 0.1658 - val_loss: 0.2018\n",
      "Epoch 48/50\n",
      "49/49 [==============================] - 0s 4ms/step - loss: 0.1658 - val_loss: 0.2027\n",
      "Epoch 49/50\n",
      "49/49 [==============================] - 0s 3ms/step - loss: 0.1656 - val_loss: 0.2028\n",
      "Epoch 50/50\n",
      "49/49 [==============================] - 0s 3ms/step - loss: 0.1647 - val_loss: 0.2024\n",
      "Minimum Validation Loss: 0.1918\n"
     ]
    },
    {
     "data": {
      "image/png": "[encoded data removed]",
      "text/plain": [
       "<Figure size 640x480 with 1 Axes>"
      ]
     },
     "metadata": {},
     "output_type": "display_data"
    }
   ],
   "source": [
    "model = keras.Sequential([\n",
    "    layers.Dense(128, activation='relu', input_shape=input_shape),\n",
    "    layers.Dense(64, activation='relu'),\n",
    "    layers.Dense(1)\n",
    "])\n",
    "model.compile(\n",
    "    optimizer='adam',\n",
    "    loss='mae',\n",
    ")\n",
    "history = model.fit(\n",
    "    X_train, y_train,\n",
    "    validation_data=(X_valid, y_valid),\n",
    "    batch_size=512,\n",
    "    epochs=50,\n",
    ")\n",
    "history_df = pd.DataFrame(history.history)\n",
    "history_df.loc[:, ['loss', 'val_loss']].plot()\n",
    "print(\"Minimum Validation Loss: {:0.4f}\".format(history_df['val_loss'].min()));"
   ]
  },
  {
   "cell_type": "markdown",
   "id": "17169df7",
   "metadata": {
    "papermill": {
     "duration": 0.016718,
     "end_time": "2025-08-15T10:18:15.335485",
     "exception": false,
     "start_time": "2025-08-15T10:18:15.318767",
     "status": "completed"
    },
    "tags": []
   },
   "source": [
    "# 2) Add Capacity\n",
    "\n",
    "What is your evaluation of these curves? Underfitting, overfitting, just right?"
   ]
  },
  {
   "cell_type": "code",
   "execution_count": 7,
   "id": "3b61c8a5",
   "metadata": {
    "execution": {
     "iopub.execute_input": "2025-08-15T10:18:15.369759Z",
     "iopub.status.busy": "2025-08-15T10:18:15.369475Z",
     "iopub.status.idle": "2025-08-15T10:18:15.375865Z",
     "shell.execute_reply": "2025-08-15T10:18:15.375067Z"
    },
    "papermill": {
     "duration": 0.025177,
     "end_time": "2025-08-15T10:18:15.377460",
     "exception": false,
     "start_time": "2025-08-15T10:18:15.352283",
     "status": "completed"
    },
    "tags": []
   },
   "outputs": [
    {
     "data": {
      "application/javascript": [
       "parent.postMessage({\"jupyterEvent\": \"custom.exercise_interaction\", \"data\": {\"outcomeType\": 1, \"valueTowardsCompletion\": 0.25, \"interactionType\": 1, \"questionType\": 4, \"questionId\": \"2_Q2\", \"learnToolsVersion\": \"0.3.4\", \"failureMessage\": \"\", \"exceptionClass\": \"\", \"trace\": \"\"}}, \"*\")"
      ],
      "text/plain": [
       "<IPython.core.display.Javascript object>"
      ]
     },
     "metadata": {},
     "output_type": "display_data"
    },
    {
     "data": {
      "text/markdown": [
       "<span style=\"color:#33cc33\">Correct:</span> \n",
       "\n",
       "Now the validation loss begins to rise very early, while the training loss continues to decrease. This indicates that the network has begun to overfit. At this point, we would need to try something to prevent it, either by reducing the number of units or through a method like early stopping. (We'll see another in the next lesson!)"
      ],
      "text/plain": [
       "Correct: \n",
       "\n",
       "Now the validation loss begins to rise very early, while the training loss continues to decrease. This indicates that the network has begun to overfit. At this point, we would need to try something to prevent it, either by reducing the number of units or through a method like early stopping. (We'll see another in the next lesson!)"
      ]
     },
     "metadata": {},
     "output_type": "display_data"
    }
   ],
   "source": [
    "# View the solution (Run this cell to receive credit!)\n",
    "q_2.check()"
   ]
  },
  {
   "cell_type": "markdown",
   "id": "e34f6859",
   "metadata": {
    "papermill": {
     "duration": 0.015913,
     "end_time": "2025-08-15T10:18:15.409250",
     "exception": false,
     "start_time": "2025-08-15T10:18:15.393337",
     "status": "completed"
    },
    "tags": []
   },
   "source": [
    "# 3) Define Early Stopping Callback\n",
    "\n",
    "Now define an early stopping callback that waits 5 epochs (`patience'`) for a change in validation loss of at least `0.001` (`min_delta`) and keeps the weights with the best loss (`restore_best_weights`)."
   ]
  },
  {
   "cell_type": "code",
   "execution_count": 8,
   "id": "cd322526",
   "metadata": {
    "execution": {
     "iopub.execute_input": "2025-08-15T10:18:15.442663Z",
     "iopub.status.busy": "2025-08-15T10:18:15.442374Z",
     "iopub.status.idle": "2025-08-15T10:18:15.449175Z",
     "shell.execute_reply": "2025-08-15T10:18:15.448382Z"
    },
    "lines_to_next_cell": 0,
    "papermill": {
     "duration": 0.025455,
     "end_time": "2025-08-15T10:18:15.450758",
     "exception": false,
     "start_time": "2025-08-15T10:18:15.425303",
     "status": "completed"
    },
    "tags": []
   },
   "outputs": [
    {
     "data": {
      "application/javascript": [
       "parent.postMessage({\"jupyterEvent\": \"custom.exercise_interaction\", \"data\": {\"outcomeType\": 1, \"valueTowardsCompletion\": 0.25, \"interactionType\": 1, \"questionType\": 2, \"questionId\": \"3_Q3\", \"learnToolsVersion\": \"0.3.4\", \"failureMessage\": \"\", \"exceptionClass\": \"\", \"trace\": \"\"}}, \"*\")"
      ],
      "text/plain": [
       "<IPython.core.display.Javascript object>"
      ]
     },
     "metadata": {},
     "output_type": "display_data"
    },
    {
     "data": {
      "text/markdown": [
       "<span style=\"color:#33cc33\">Correct</span>"
      ],
      "text/plain": [
       "Correct"
      ]
     },
     "metadata": {},
     "output_type": "display_data"
    }
   ],
   "source": [
    "from tensorflow.keras import callbacks\n",
    "\n",
    "# YOUR CODE HERE: define an early stopping callback\n",
    "early_stopping = callbacks.EarlyStopping(patience = 5, min_delta = 0.001, restore_best_weights = True)\n",
    "\n",
    "# Check your answer\n",
    "q_3.check()"
   ]
  },
  {
   "cell_type": "code",
   "execution_count": 9,
   "id": "9540f295",
   "metadata": {
    "execution": {
     "iopub.execute_input": "2025-08-15T10:18:15.485329Z",
     "iopub.status.busy": "2025-08-15T10:18:15.484638Z",
     "iopub.status.idle": "2025-08-15T10:18:15.494437Z",
     "shell.execute_reply": "2025-08-15T10:18:15.493738Z"
    },
    "papermill": {
     "duration": 0.02922,
     "end_time": "2025-08-15T10:18:15.495978",
     "exception": false,
     "start_time": "2025-08-15T10:18:15.466758",
     "status": "completed"
    },
    "tags": []
   },
   "outputs": [
    {
     "data": {
      "application/javascript": [
       "parent.postMessage({\"jupyterEvent\": \"custom.exercise_interaction\", \"data\": {\"interactionType\": 2, \"questionType\": 2, \"questionId\": \"3_Q3\", \"learnToolsVersion\": \"0.3.4\", \"valueTowardsCompletion\": 0.0, \"failureMessage\": \"\", \"exceptionClass\": \"\", \"trace\": \"\", \"outcomeType\": 4}}, \"*\")"
      ],
      "text/plain": [
       "<IPython.core.display.Javascript object>"
      ]
     },
     "metadata": {},
     "output_type": "display_data"
    },
    {
     "data": {
      "text/markdown": [
       "<span style=\"color:#3366cc\">Hint:</span> \n",
       "Your solution should look something like:\n",
       "\n",
       "```python\n",
       "early_stopping = callbacks.EarlyStopping(\n",
       "    patience=____,\n",
       "    min_delta=____,\n",
       "    restore_best_weights=____,\n",
       ")\n",
       "```\n"
      ],
      "text/plain": [
       "Hint: \n",
       "Your solution should look something like:\n",
       "\n",
       "```python\n",
       "early_stopping = callbacks.EarlyStopping(\n",
       "    patience=____,\n",
       "    min_delta=____,\n",
       "    restore_best_weights=____,\n",
       ")\n",
       "```"
      ]
     },
     "metadata": {},
     "output_type": "display_data"
    },
    {
     "data": {
      "application/javascript": [
       "parent.postMessage({\"jupyterEvent\": \"custom.exercise_interaction\", \"data\": {\"interactionType\": 3, \"questionType\": 2, \"questionId\": \"3_Q3\", \"learnToolsVersion\": \"0.3.4\", \"valueTowardsCompletion\": 0.0, \"failureMessage\": \"\", \"exceptionClass\": \"\", \"trace\": \"\", \"outcomeType\": 4}}, \"*\")"
      ],
      "text/plain": [
       "<IPython.core.display.Javascript object>"
      ]
     },
     "metadata": {},
     "output_type": "display_data"
    },
    {
     "data": {
      "text/markdown": [
       "<span style=\"color:#33cc99\">Solution:</span> \n",
       "```python\n",
       "\n",
       "early_stopping = callbacks.EarlyStopping(\n",
       "    patience=5,\n",
       "    min_delta=0.001,\n",
       "    restore_best_weights=True,\n",
       ")\n",
       "```"
      ],
      "text/plain": [
       "Solution: \n",
       "```python\n",
       "\n",
       "early_stopping = callbacks.EarlyStopping(\n",
       "    patience=5,\n",
       "    min_delta=0.001,\n",
       "    restore_best_weights=True,\n",
       ")\n",
       "```"
      ]
     },
     "metadata": {},
     "output_type": "display_data"
    }
   ],
   "source": [
    "# Lines below will give you a hint or solution code\n",
    "q_3.hint()\n",
    "q_3.solution()"
   ]
  },
  {
   "cell_type": "markdown",
   "id": "ec63ece6",
   "metadata": {
    "papermill": {
     "duration": 0.016758,
     "end_time": "2025-08-15T10:18:15.529488",
     "exception": false,
     "start_time": "2025-08-15T10:18:15.512730",
     "status": "completed"
    },
    "tags": []
   },
   "source": [
    "Now run this cell to train the model and get the learning curves. Notice the `callbacks` argument in `model.fit`."
   ]
  },
  {
   "cell_type": "code",
   "execution_count": 10,
   "id": "3b8ff8ad",
   "metadata": {
    "execution": {
     "iopub.execute_input": "2025-08-15T10:18:15.564203Z",
     "iopub.status.busy": "2025-08-15T10:18:15.563559Z",
     "iopub.status.idle": "2025-08-15T10:18:18.480476Z",
     "shell.execute_reply": "2025-08-15T10:18:18.479603Z"
    },
    "papermill": {
     "duration": 2.93639,
     "end_time": "2025-08-15T10:18:18.482599",
     "exception": false,
     "start_time": "2025-08-15T10:18:15.546209",
     "status": "completed"
    },
    "tags": []
   },
   "outputs": [
    {
     "name": "stdout",
     "output_type": "stream",
     "text": [
      "Epoch 1/50\n",
      "49/49 [==============================] - 1s 6ms/step - loss: 0.2214 - val_loss: 0.1999\n",
      "Epoch 2/50\n",
      "49/49 [==============================] - 0s 3ms/step - loss: 0.2012 - val_loss: 0.1953\n",
      "Epoch 3/50\n",
      "49/49 [==============================] - 0s 3ms/step - loss: 0.1961 - val_loss: 0.1936\n",
      "Epoch 4/50\n",
      "49/49 [==============================] - 0s 3ms/step - loss: 0.1933 - val_loss: 0.1926\n",
      "Epoch 5/50\n",
      "49/49 [==============================] - 0s 3ms/step - loss: 0.1919 - val_loss: 0.1928\n",
      "Epoch 6/50\n",
      "49/49 [==============================] - 0s 3ms/step - loss: 0.1905 - val_loss: 0.1921\n",
      "Epoch 7/50\n",
      "49/49 [==============================] - 0s 3ms/step - loss: 0.1887 - val_loss: 0.1925\n",
      "Epoch 8/50\n",
      "49/49 [==============================] - 0s 3ms/step - loss: 0.1877 - val_loss: 0.1925\n",
      "Epoch 9/50\n",
      "49/49 [==============================] - 0s 3ms/step - loss: 0.1871 - val_loss: 0.1933\n",
      "Minimum Validation Loss: 0.1921\n"
     ]
    },
    {
     "data": {
      "image/png": "[encoded data removed]",
      "text/plain": [
       "<Figure size 640x480 with 1 Axes>"
      ]
     },
     "metadata": {},
     "output_type": "display_data"
    }
   ],
   "source": [
    "model = keras.Sequential([\n",
    "    layers.Dense(128, activation='relu', input_shape=input_shape),\n",
    "    layers.Dense(64, activation='relu'),    \n",
    "    layers.Dense(1)\n",
    "])\n",
    "model.compile(\n",
    "    optimizer='adam',\n",
    "    loss='mae',\n",
    ")\n",
    "history = model.fit(\n",
    "    X_train, y_train,\n",
    "    validation_data=(X_valid, y_valid),\n",
    "    batch_size=512,\n",
    "    epochs=50,\n",
    "    callbacks=[early_stopping]\n",
    ")\n",
    "history_df = pd.DataFrame(history.history)\n",
    "history_df.loc[:, ['loss', 'val_loss']].plot()\n",
    "print(\"Minimum Validation Loss: {:0.4f}\".format(history_df['val_loss'].min()));"
   ]
  },
  {
   "cell_type": "markdown",
   "id": "c8bb756a",
   "metadata": {
    "papermill": {
     "duration": 0.019035,
     "end_time": "2025-08-15T10:18:18.522232",
     "exception": false,
     "start_time": "2025-08-15T10:18:18.503197",
     "status": "completed"
    },
    "tags": []
   },
   "source": [
    "# 4) Train and Interpret\n",
    "\n",
    "Was this an improvement compared to training without early stopping?"
   ]
  },
  {
   "cell_type": "code",
   "execution_count": 11,
   "id": "c135577e",
   "metadata": {
    "execution": {
     "iopub.execute_input": "2025-08-15T10:18:18.560965Z",
     "iopub.status.busy": "2025-08-15T10:18:18.560692Z",
     "iopub.status.idle": "2025-08-15T10:18:18.567277Z",
     "shell.execute_reply": "2025-08-15T10:18:18.566438Z"
    },
    "papermill": {
     "duration": 0.027703,
     "end_time": "2025-08-15T10:18:18.568846",
     "exception": false,
     "start_time": "2025-08-15T10:18:18.541143",
     "status": "completed"
    },
    "tags": []
   },
   "outputs": [
    {
     "data": {
      "application/javascript": [
       "parent.postMessage({\"jupyterEvent\": \"custom.exercise_interaction\", \"data\": {\"outcomeType\": 1, \"valueTowardsCompletion\": 0.25, \"interactionType\": 1, \"questionType\": 4, \"questionId\": \"4_Q4\", \"learnToolsVersion\": \"0.3.4\", \"failureMessage\": \"\", \"exceptionClass\": \"\", \"trace\": \"\"}}, \"*\")"
      ],
      "text/plain": [
       "<IPython.core.display.Javascript object>"
      ]
     },
     "metadata": {},
     "output_type": "display_data"
    },
    {
     "data": {
      "text/markdown": [
       "<span style=\"color:#33cc33\">Correct:</span> \n",
       "\n",
       "The early stopping callback did stop the training once the network began overfitting. Moreover, by including `restore_best_weights` we still get to keep the model where validation loss was lowest."
      ],
      "text/plain": [
       "Correct: \n",
       "\n",
       "The early stopping callback did stop the training once the network began overfitting. Moreover, by including `restore_best_weights` we still get to keep the model where validation loss was lowest."
      ]
     },
     "metadata": {},
     "output_type": "display_data"
    }
   ],
   "source": [
    "# View the solution (Run this cell to receive credit!)\n",
    "q_4.check()"
   ]
  },
  {
   "cell_type": "markdown",
   "id": "c6ec3df3",
   "metadata": {
    "papermill": {
     "duration": 0.018987,
     "end_time": "2025-08-15T10:18:18.606978",
     "exception": false,
     "start_time": "2025-08-15T10:18:18.587991",
     "status": "completed"
    },
    "tags": []
   },
   "source": [
    "If you like, try experimenting with `patience` and `min_delta` to see what difference it might make.\n",
    "\n",
    "# Keep Going #\n",
    "\n",
    "Move on to [**learn about a couple of special layers**](https://www.kaggle.com/ryanholbrook/dropout-and-batch-normalization): batch normalization and dropout."
   ]
  },
  {
   "cell_type": "markdown",
   "id": "22e4cbbe",
   "metadata": {
    "papermill": {
     "duration": 0.018852,
     "end_time": "2025-08-15T10:18:18.645752",
     "exception": false,
     "start_time": "2025-08-15T10:18:18.626900",
     "status": "completed"
    },
    "tags": []
   },
   "source": [
    "---\n",
    "\n",
    "\n",
    "\n",
    "\n",
    "*Have questions or comments? Visit the [course discussion forum](https://www.kaggle.com/learn/intro-to-deep-learning/discussion) to chat with other learners.*"
   ]
  }
 ],
 "metadata": {
  "jupytext": {
   "cell_metadata_filter": "-all",
   "formats": "ipynb"
  },
  "kaggle": {
   "accelerator": "gpu",
   "dataSources": [
    {
     "datasetId": 829369,
     "sourceId": 1480608,
     "sourceType": "datasetVersion"
    }
   ],
   "dockerImageVersionId": 30648,
   "isGpuEnabled": true,
   "isInternetEnabled": false,
   "language": "python",
   "sourceType": "notebook"
  },
  "kernelspec": {
   "display_name": "Python 3",
   "language": "python",
   "name": "python3"
  },
  "language_info": {
   "codemirror_mode": {
    "name": "ipython",
    "version": 3
   },
   "file_extension": ".py",
   "mimetype": "text/x-python",
   "name": "python",
   "nbconvert_exporter": "python",
   "pygments_lexer": "ipython3",
   "version": "3.10.13"
  },
  "papermill": {
   "default_parameters": {},
   "duration": 45.30801,
   "end_time": "2025-08-15T10:18:20.788061",
   "environment_variables": {},
   "exception": null,
   "input_path": "__notebook__.ipynb",
   "output_path": "__notebook__.ipynb",
   "parameters": {},
   "start_time": "2025-08-15T10:17:35.480051",
   "version": "2.5.0"
  }
 },
 "nbformat": 4,
 "nbformat_minor": 5
}
