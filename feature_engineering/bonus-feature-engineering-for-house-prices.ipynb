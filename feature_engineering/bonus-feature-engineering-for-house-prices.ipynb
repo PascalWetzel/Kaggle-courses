{
 "cells": [
  {
   "cell_type": "markdown",
   "id": "e3abf21b",
   "metadata": {
    "papermill": {
     "duration": 0.009203,
     "end_time": "2025-08-03T19:38:09.251121",
     "exception": false,
     "start_time": "2025-08-03T19:38:09.241918",
     "status": "completed"
    },
    "tags": []
   },
   "source": [
    "# Introduction #\n",
    "\n",
    "Welcome to the feature engineering project for the [House Prices - Advanced Regression Techniques](https://www.kaggle.com/c/house-prices-advanced-regression-techniques) competition! This competition uses nearly the same data you used in the exercises of the [Feature Engineering](https://www.kaggle.com/learn/feature-engineering) course. We'll collect together the work you did into a complete project which you can build off of with ideas of your own.\n",
    "\n",
    "<blockquote style=\"margin-right:auto; margin-left:auto; background-color: #ebf9ff; padding: 1em; margin:24px;\">\n",
    "    <strong>Fork This Notebook!</strong><br>\n",
    "Create your own editable copy of this notebook by clicking on the <strong>Copy and Edit</strong> button in the top right corner.\n",
    "</blockquote>\n",
    "\n",
    "# Step 1 - Preliminaries #\n",
    "## Imports and Configuration ##\n",
    "\n",
    "We'll start by importing the packages we used in the exercises and setting some notebook defaults. Unhide this cell if you'd like to see the libraries we'll use:"
   ]
  },
  {
   "cell_type": "code",
   "execution_count": 1,
   "id": "50adada0",
   "metadata": {
    "_kg_hide-input": true,
    "execution": {
     "iopub.execute_input": "2025-08-03T19:38:09.268478Z",
     "iopub.status.busy": "2025-08-03T19:38:09.268155Z",
     "iopub.status.idle": "2025-08-03T19:38:14.683710Z",
     "shell.execute_reply": "2025-08-03T19:38:14.682769Z"
    },
    "papermill": {
     "duration": 5.426301,
     "end_time": "2025-08-03T19:38:14.685484",
     "exception": false,
     "start_time": "2025-08-03T19:38:09.259183",
     "status": "completed"
    },
    "tags": []
   },
   "outputs": [],
   "source": [
    "\n",
    "import os\n",
    "import warnings\n",
    "from pathlib import Path\n",
    "\n",
    "import matplotlib.pyplot as plt\n",
    "import numpy as np\n",
    "import pandas as pd\n",
    "import seaborn as sns\n",
    "from IPython.display import display\n",
    "from pandas.api.types import CategoricalDtype\n",
    "\n",
    "from category_encoders import MEstimateEncoder\n",
    "from sklearn.cluster import KMeans\n",
    "from sklearn.decomposition import PCA\n",
    "from sklearn.feature_selection import mutual_info_regression\n",
    "from sklearn.model_selection import KFold, cross_val_score\n",
    "from xgboost import XGBRegressor\n",
    "\n",
    "# Use Seaborn to set the plot style (avoids matplotlib deprecation warning)\n",
    "sns.set_style(\"whitegrid\")\n",
    "\n",
    "# Set Matplotlib defaults\n",
    "plt.rc(\"figure\", autolayout=True)\n",
    "plt.rc(\n",
    "    \"axes\",\n",
    "    labelweight=\"bold\",\n",
    "    labelsize=\"large\",\n",
    "    titleweight=\"bold\",\n",
    "    titlesize=14,\n",
    "    titlepad=10,\n",
    ")\n",
    "\n",
    "# Mute warnings\n",
    "warnings.filterwarnings('ignore')\n"
   ]
  },
  {
   "cell_type": "markdown",
   "id": "98b3ab7d",
   "metadata": {
    "papermill": {
     "duration": 0.007553,
     "end_time": "2025-08-03T19:38:14.701140",
     "exception": false,
     "start_time": "2025-08-03T19:38:14.693587",
     "status": "completed"
    },
    "tags": []
   },
   "source": [
    "## Data Preprocessing ##\n",
    "\n",
    "Before we can do any feature engineering, we need to *preprocess* the data to get it in a form suitable for analysis. The data we used in the course was a bit simpler than the competition data. For the *Ames* competition dataset, we'll need to:\n",
    "- **Load** the data from CSV files\n",
    "- **Clean** the data to fix any errors or inconsistencies\n",
    "- **Encode** the statistical data type (numeric, categorical)\n",
    "- **Impute** any missing values\n",
    "\n",
    "We'll wrap all these steps up in a function, which will make easy for you to get a fresh dataframe whenever you need. After reading the CSV file, we'll apply three preprocessing steps, `clean`, `encode`, and `impute`, and then create the data splits: one (`df_train`) for training the model, and one (`df_test`) for making the predictions that you'll submit to the competition for scoring on the leaderboard."
   ]
  },
  {
   "cell_type": "code",
   "execution_count": 2,
   "id": "4e46a680",
   "metadata": {
    "execution": {
     "iopub.execute_input": "2025-08-03T19:38:14.719005Z",
     "iopub.status.busy": "2025-08-03T19:38:14.718117Z",
     "iopub.status.idle": "2025-08-03T19:38:14.723864Z",
     "shell.execute_reply": "2025-08-03T19:38:14.723078Z"
    },
    "papermill": {
     "duration": 0.015573,
     "end_time": "2025-08-03T19:38:14.725275",
     "exception": false,
     "start_time": "2025-08-03T19:38:14.709702",
     "status": "completed"
    },
    "tags": []
   },
   "outputs": [],
   "source": [
    "def load_data():\n",
    "    # Read data\n",
    "    data_dir = Path(\"../input/house-prices-advanced-regression-techniques/\")\n",
    "    df_train = pd.read_csv(data_dir / \"train.csv\", index_col=\"Id\")\n",
    "    df_test = pd.read_csv(data_dir / \"test.csv\", index_col=\"Id\")\n",
    "    # Merge the splits so we can process them together\n",
    "    df = pd.concat([df_train, df_test])\n",
    "    # Preprocessing\n",
    "    df = clean(df)\n",
    "    df = encode(df)\n",
    "    df = impute(df)\n",
    "    # Reform splits\n",
    "    df_train = df.loc[df_train.index, :]\n",
    "    df_test = df.loc[df_test.index, :]\n",
    "    return df_train, df_test\n"
   ]
  },
  {
   "cell_type": "markdown",
   "id": "7e661d4a",
   "metadata": {
    "papermill": {
     "duration": 0.007404,
     "end_time": "2025-08-03T19:38:14.740351",
     "exception": false,
     "start_time": "2025-08-03T19:38:14.732947",
     "status": "completed"
    },
    "tags": []
   },
   "source": [
    "### Clean Data ###\n",
    "\n",
    "Some of the categorical features in this dataset have what are apparently typos in their categories:"
   ]
  },
  {
   "cell_type": "code",
   "execution_count": 3,
   "id": "36ea9395",
   "metadata": {
    "execution": {
     "iopub.execute_input": "2025-08-03T19:38:14.757095Z",
     "iopub.status.busy": "2025-08-03T19:38:14.756418Z",
     "iopub.status.idle": "2025-08-03T19:38:14.818101Z",
     "shell.execute_reply": "2025-08-03T19:38:14.817173Z"
    },
    "papermill": {
     "duration": 0.071695,
     "end_time": "2025-08-03T19:38:14.819671",
     "exception": false,
     "start_time": "2025-08-03T19:38:14.747976",
     "status": "completed"
    },
    "tags": []
   },
   "outputs": [
    {
     "data": {
      "text/plain": [
       "array(['VinylSd', 'MetalSd', 'Wd Shng', 'HdBoard', 'Plywood', 'Wd Sdng',\n",
       "       'CmentBd', 'BrkFace', 'Stucco', 'AsbShng', 'Brk Cmn', 'ImStucc',\n",
       "       'AsphShn', 'Stone', 'Other', 'CBlock'], dtype=object)"
      ]
     },
     "execution_count": 3,
     "metadata": {},
     "output_type": "execute_result"
    }
   ],
   "source": [
    "data_dir = Path(\"../input/house-prices-advanced-regression-techniques/\")\n",
    "df = pd.read_csv(data_dir / \"train.csv\", index_col=\"Id\")\n",
    "\n",
    "df.Exterior2nd.unique()"
   ]
  },
  {
   "cell_type": "markdown",
   "id": "8a25d0d3",
   "metadata": {
    "papermill": {
     "duration": 0.007656,
     "end_time": "2025-08-03T19:38:14.835372",
     "exception": false,
     "start_time": "2025-08-03T19:38:14.827716",
     "status": "completed"
    },
    "tags": []
   },
   "source": [
    "Comparing these to `data_description.txt` shows us what needs cleaning. We'll take care of a couple of issues here, but you might want to evaluate this data further."
   ]
  },
  {
   "cell_type": "code",
   "execution_count": 4,
   "id": "15ae5b85",
   "metadata": {
    "execution": {
     "iopub.execute_input": "2025-08-03T19:38:14.852568Z",
     "iopub.status.busy": "2025-08-03T19:38:14.852267Z",
     "iopub.status.idle": "2025-08-03T19:38:14.857681Z",
     "shell.execute_reply": "2025-08-03T19:38:14.856816Z"
    },
    "papermill": {
     "duration": 0.015824,
     "end_time": "2025-08-03T19:38:14.859255",
     "exception": false,
     "start_time": "2025-08-03T19:38:14.843431",
     "status": "completed"
    },
    "tags": []
   },
   "outputs": [],
   "source": [
    "def clean(df):\n",
    "    df[\"Exterior2nd\"] = df[\"Exterior2nd\"].replace({\"Brk Cmn\": \"BrkComm\"})\n",
    "    # Some values of GarageYrBlt are corrupt, so we'll replace them\n",
    "    # with the year the house was built\n",
    "    df[\"GarageYrBlt\"] = df[\"GarageYrBlt\"].where(df.GarageYrBlt <= 2010, df.YearBuilt)\n",
    "    # Names beginning with numbers are awkward to work with\n",
    "    df.rename(columns={\n",
    "        \"1stFlrSF\": \"FirstFlrSF\",\n",
    "        \"2ndFlrSF\": \"SecondFlrSF\",\n",
    "        \"3SsnPorch\": \"Threeseasonporch\",\n",
    "    }, inplace=True,\n",
    "    )\n",
    "    return df\n"
   ]
  },
  {
   "cell_type": "markdown",
   "id": "63636140",
   "metadata": {
    "papermill": {
     "duration": 0.007383,
     "end_time": "2025-08-03T19:38:14.874674",
     "exception": false,
     "start_time": "2025-08-03T19:38:14.867291",
     "status": "completed"
    },
    "tags": []
   },
   "source": [
    "### Encode the Statistical Data Type ###\n",
    "\n",
    "Pandas has Python types corresponding to the standard statistical types (numeric, categorical, etc.). Encoding each feature with its correct type helps ensure each feature is treated appropriately by whatever functions we use, and makes it easier for us to apply transformations consistently. This hidden cell defines the `encode` function:"
   ]
  },
  {
   "cell_type": "code",
   "execution_count": 5,
   "id": "7fadd431",
   "metadata": {
    "_kg_hide-input": true,
    "execution": {
     "iopub.execute_input": "2025-08-03T19:38:14.891632Z",
     "iopub.status.busy": "2025-08-03T19:38:14.891315Z",
     "iopub.status.idle": "2025-08-03T19:38:14.900708Z",
     "shell.execute_reply": "2025-08-03T19:38:14.899950Z"
    },
    "papermill": {
     "duration": 0.019892,
     "end_time": "2025-08-03T19:38:14.902109",
     "exception": false,
     "start_time": "2025-08-03T19:38:14.882217",
     "status": "completed"
    },
    "tags": []
   },
   "outputs": [],
   "source": [
    "\n",
    "# The numeric features are already encoded correctly (`float` for\n",
    "# continuous, `int` for discrete), but the categoricals we'll need to\n",
    "# do ourselves. Note in particular, that the `MSSubClass` feature is\n",
    "# read as an `int` type, but is actually a (nominative) categorical.\n",
    "\n",
    "# The nominative (unordered) categorical features\n",
    "features_nom = [\"MSSubClass\", \"MSZoning\", \"Street\", \"Alley\", \"LandContour\", \"LotConfig\", \"Neighborhood\", \"Condition1\", \"Condition2\", \"BldgType\", \"HouseStyle\", \"RoofStyle\", \"RoofMatl\", \"Exterior1st\", \"Exterior2nd\", \"MasVnrType\", \"Foundation\", \"Heating\", \"CentralAir\", \"GarageType\", \"MiscFeature\", \"SaleType\", \"SaleCondition\"]\n",
    "\n",
    "\n",
    "# The ordinal (ordered) categorical features \n",
    "\n",
    "# Pandas calls the categories \"levels\"\n",
    "five_levels = [\"Po\", \"Fa\", \"TA\", \"Gd\", \"Ex\"]\n",
    "ten_levels = list(range(10))\n",
    "\n",
    "ordered_levels = {\n",
    "    \"OverallQual\": ten_levels,\n",
    "    \"OverallCond\": ten_levels,\n",
    "    \"ExterQual\": five_levels,\n",
    "    \"ExterCond\": five_levels,\n",
    "    \"BsmtQual\": five_levels,\n",
    "    \"BsmtCond\": five_levels,\n",
    "    \"HeatingQC\": five_levels,\n",
    "    \"KitchenQual\": five_levels,\n",
    "    \"FireplaceQu\": five_levels,\n",
    "    \"GarageQual\": five_levels,\n",
    "    \"GarageCond\": five_levels,\n",
    "    \"PoolQC\": five_levels,\n",
    "    \"LotShape\": [\"Reg\", \"IR1\", \"IR2\", \"IR3\"],\n",
    "    \"LandSlope\": [\"Sev\", \"Mod\", \"Gtl\"],\n",
    "    \"BsmtExposure\": [\"No\", \"Mn\", \"Av\", \"Gd\"],\n",
    "    \"BsmtFinType1\": [\"Unf\", \"LwQ\", \"Rec\", \"BLQ\", \"ALQ\", \"GLQ\"],\n",
    "    \"BsmtFinType2\": [\"Unf\", \"LwQ\", \"Rec\", \"BLQ\", \"ALQ\", \"GLQ\"],\n",
    "    \"Functional\": [\"Sal\", \"Sev\", \"Maj1\", \"Maj2\", \"Mod\", \"Min2\", \"Min1\", \"Typ\"],\n",
    "    \"GarageFinish\": [\"Unf\", \"RFn\", \"Fin\"],\n",
    "    \"PavedDrive\": [\"N\", \"P\", \"Y\"],\n",
    "    \"Utilities\": [\"NoSeWa\", \"NoSewr\", \"AllPub\"],\n",
    "    \"CentralAir\": [\"N\", \"Y\"],\n",
    "    \"Electrical\": [\"Mix\", \"FuseP\", \"FuseF\", \"FuseA\", \"SBrkr\"],\n",
    "    \"Fence\": [\"MnWw\", \"GdWo\", \"MnPrv\", \"GdPrv\"],\n",
    "}\n",
    "\n",
    "# Add a None level for missing values\n",
    "ordered_levels = {key: [\"None\"] + value for key, value in\n",
    "                  ordered_levels.items()}\n",
    "\n",
    "\n",
    "def encode(df):\n",
    "    # Nominal categories\n",
    "    for name in features_nom:\n",
    "        df[name] = df[name].astype(\"category\")\n",
    "        # Add a None category for missing values\n",
    "        if \"None\" not in df[name].cat.categories:\n",
    "            df[name] = df[name].cat.add_categories(\"None\")\n",
    "    # Ordinal categories\n",
    "    for name, levels in ordered_levels.items():\n",
    "        df[name] = df[name].astype(CategoricalDtype(levels,\n",
    "                                                    ordered=True))\n",
    "    return df\n"
   ]
  },
  {
   "cell_type": "markdown",
   "id": "9f35b1f3",
   "metadata": {
    "papermill": {
     "duration": 0.007371,
     "end_time": "2025-08-03T19:38:14.917393",
     "exception": false,
     "start_time": "2025-08-03T19:38:14.910022",
     "status": "completed"
    },
    "tags": []
   },
   "source": [
    "### Handle Missing Values ###\n",
    "\n",
    "Handling missing values now will make the feature engineering go more smoothly. We'll impute `0` for missing numeric values and `\"None\"` for missing categorical values. You might like to experiment with other imputation strategies. In particular, you could try creating \"missing value\" indicators: `1` whenever a value was imputed and `0` otherwise."
   ]
  },
  {
   "cell_type": "code",
   "execution_count": 6,
   "id": "f6a61be8",
   "metadata": {
    "execution": {
     "iopub.execute_input": "2025-08-03T19:38:14.935237Z",
     "iopub.status.busy": "2025-08-03T19:38:14.934586Z",
     "iopub.status.idle": "2025-08-03T19:38:14.939370Z",
     "shell.execute_reply": "2025-08-03T19:38:14.938619Z"
    },
    "papermill": {
     "duration": 0.0156,
     "end_time": "2025-08-03T19:38:14.941059",
     "exception": false,
     "start_time": "2025-08-03T19:38:14.925459",
     "status": "completed"
    },
    "tags": []
   },
   "outputs": [],
   "source": [
    "def impute(df):\n",
    "    for name in df.select_dtypes(\"number\"):\n",
    "        df[name] = df[name].fillna(0)\n",
    "    for name in df.select_dtypes(\"category\"):\n",
    "        df[name] = df[name].fillna(\"None\")\n",
    "    return df\n"
   ]
  },
  {
   "cell_type": "markdown",
   "id": "86378a3c",
   "metadata": {
    "papermill": {
     "duration": 0.00734,
     "end_time": "2025-08-03T19:38:14.956263",
     "exception": false,
     "start_time": "2025-08-03T19:38:14.948923",
     "status": "completed"
    },
    "tags": []
   },
   "source": [
    "## Load Data ##\n",
    "\n",
    "And now we can call the data loader and get the processed data splits:"
   ]
  },
  {
   "cell_type": "code",
   "execution_count": 7,
   "id": "63770c69",
   "metadata": {
    "execution": {
     "iopub.execute_input": "2025-08-03T19:38:14.973155Z",
     "iopub.status.busy": "2025-08-03T19:38:14.972827Z",
     "iopub.status.idle": "2025-08-03T19:38:15.097069Z",
     "shell.execute_reply": "2025-08-03T19:38:15.096059Z"
    },
    "papermill": {
     "duration": 0.134623,
     "end_time": "2025-08-03T19:38:15.098768",
     "exception": false,
     "start_time": "2025-08-03T19:38:14.964145",
     "status": "completed"
    },
    "tags": []
   },
   "outputs": [],
   "source": [
    "df_train, df_test = load_data()"
   ]
  },
  {
   "cell_type": "markdown",
   "id": "76cee4ff",
   "metadata": {
    "papermill": {
     "duration": 0.007514,
     "end_time": "2025-08-03T19:38:15.114222",
     "exception": false,
     "start_time": "2025-08-03T19:38:15.106708",
     "status": "completed"
    },
    "tags": []
   },
   "source": [
    "Uncomment and run this cell if you'd like to see what they contain. Notice that `df_test` is\n",
    "missing values for `SalePrice`. (`NA`s were willed with 0's in the imputation step.)"
   ]
  },
  {
   "cell_type": "code",
   "execution_count": 8,
   "id": "0db52812",
   "metadata": {
    "execution": {
     "iopub.execute_input": "2025-08-03T19:38:15.198339Z",
     "iopub.status.busy": "2025-08-03T19:38:15.197591Z",
     "iopub.status.idle": "2025-08-03T19:38:15.296276Z",
     "shell.execute_reply": "2025-08-03T19:38:15.295087Z"
    },
    "papermill": {
     "duration": 0.175781,
     "end_time": "2025-08-03T19:38:15.297682",
     "exception": false,
     "start_time": "2025-08-03T19:38:15.121901",
     "status": "completed"
    },
    "tags": []
   },
   "outputs": [
    {
     "data": {
      "text/html": [
       "<div>\n",
       "<style scoped>\n",
       "    .dataframe tbody tr th:only-of-type {\n",
       "        vertical-align: middle;\n",
       "    }\n",
       "\n",
       "    .dataframe tbody tr th {\n",
       "        vertical-align: top;\n",
       "    }\n",
       "\n",
       "    .dataframe thead th {\n",
       "        text-align: right;\n",
       "    }\n",
       "</style>\n",
       "<table border=\"1\" class=\"dataframe\">\n",
       "  <thead>\n",
       "    <tr style=\"text-align: right;\">\n",
       "      <th></th>\n",
       "      <th>MSSubClass</th>\n",
       "      <th>MSZoning</th>\n",
       "      <th>LotFrontage</th>\n",
       "      <th>LotArea</th>\n",
       "      <th>Street</th>\n",
       "      <th>Alley</th>\n",
       "      <th>LotShape</th>\n",
       "      <th>LandContour</th>\n",
       "      <th>Utilities</th>\n",
       "      <th>LotConfig</th>\n",
       "      <th>...</th>\n",
       "      <th>PoolArea</th>\n",
       "      <th>PoolQC</th>\n",
       "      <th>Fence</th>\n",
       "      <th>MiscFeature</th>\n",
       "      <th>MiscVal</th>\n",
       "      <th>MoSold</th>\n",
       "      <th>YrSold</th>\n",
       "      <th>SaleType</th>\n",
       "      <th>SaleCondition</th>\n",
       "      <th>SalePrice</th>\n",
       "    </tr>\n",
       "    <tr>\n",
       "      <th>Id</th>\n",
       "      <th></th>\n",
       "      <th></th>\n",
       "      <th></th>\n",
       "      <th></th>\n",
       "      <th></th>\n",
       "      <th></th>\n",
       "      <th></th>\n",
       "      <th></th>\n",
       "      <th></th>\n",
       "      <th></th>\n",
       "      <th></th>\n",
       "      <th></th>\n",
       "      <th></th>\n",
       "      <th></th>\n",
       "      <th></th>\n",
       "      <th></th>\n",
       "      <th></th>\n",
       "      <th></th>\n",
       "      <th></th>\n",
       "      <th></th>\n",
       "      <th></th>\n",
       "    </tr>\n",
       "  </thead>\n",
       "  <tbody>\n",
       "    <tr>\n",
       "      <th>1</th>\n",
       "      <td>60</td>\n",
       "      <td>RL</td>\n",
       "      <td>65.0</td>\n",
       "      <td>8450</td>\n",
       "      <td>Pave</td>\n",
       "      <td>None</td>\n",
       "      <td>Reg</td>\n",
       "      <td>Lvl</td>\n",
       "      <td>AllPub</td>\n",
       "      <td>Inside</td>\n",
       "      <td>...</td>\n",
       "      <td>0</td>\n",
       "      <td>None</td>\n",
       "      <td>None</td>\n",
       "      <td>None</td>\n",
       "      <td>0</td>\n",
       "      <td>2</td>\n",
       "      <td>2008</td>\n",
       "      <td>WD</td>\n",
       "      <td>Normal</td>\n",
       "      <td>208500.0</td>\n",
       "    </tr>\n",
       "    <tr>\n",
       "      <th>2</th>\n",
       "      <td>20</td>\n",
       "      <td>RL</td>\n",
       "      <td>80.0</td>\n",
       "      <td>9600</td>\n",
       "      <td>Pave</td>\n",
       "      <td>None</td>\n",
       "      <td>Reg</td>\n",
       "      <td>Lvl</td>\n",
       "      <td>AllPub</td>\n",
       "      <td>FR2</td>\n",
       "      <td>...</td>\n",
       "      <td>0</td>\n",
       "      <td>None</td>\n",
       "      <td>None</td>\n",
       "      <td>None</td>\n",
       "      <td>0</td>\n",
       "      <td>5</td>\n",
       "      <td>2007</td>\n",
       "      <td>WD</td>\n",
       "      <td>Normal</td>\n",
       "      <td>181500.0</td>\n",
       "    </tr>\n",
       "    <tr>\n",
       "      <th>3</th>\n",
       "      <td>60</td>\n",
       "      <td>RL</td>\n",
       "      <td>68.0</td>\n",
       "      <td>11250</td>\n",
       "      <td>Pave</td>\n",
       "      <td>None</td>\n",
       "      <td>IR1</td>\n",
       "      <td>Lvl</td>\n",
       "      <td>AllPub</td>\n",
       "      <td>Inside</td>\n",
       "      <td>...</td>\n",
       "      <td>0</td>\n",
       "      <td>None</td>\n",
       "      <td>None</td>\n",
       "      <td>None</td>\n",
       "      <td>0</td>\n",
       "      <td>9</td>\n",
       "      <td>2008</td>\n",
       "      <td>WD</td>\n",
       "      <td>Normal</td>\n",
       "      <td>223500.0</td>\n",
       "    </tr>\n",
       "    <tr>\n",
       "      <th>4</th>\n",
       "      <td>70</td>\n",
       "      <td>RL</td>\n",
       "      <td>60.0</td>\n",
       "      <td>9550</td>\n",
       "      <td>Pave</td>\n",
       "      <td>None</td>\n",
       "      <td>IR1</td>\n",
       "      <td>Lvl</td>\n",
       "      <td>AllPub</td>\n",
       "      <td>Corner</td>\n",
       "      <td>...</td>\n",
       "      <td>0</td>\n",
       "      <td>None</td>\n",
       "      <td>None</td>\n",
       "      <td>None</td>\n",
       "      <td>0</td>\n",
       "      <td>2</td>\n",
       "      <td>2006</td>\n",
       "      <td>WD</td>\n",
       "      <td>Abnorml</td>\n",
       "      <td>140000.0</td>\n",
       "    </tr>\n",
       "    <tr>\n",
       "      <th>5</th>\n",
       "      <td>60</td>\n",
       "      <td>RL</td>\n",
       "      <td>84.0</td>\n",
       "      <td>14260</td>\n",
       "      <td>Pave</td>\n",
       "      <td>None</td>\n",
       "      <td>IR1</td>\n",
       "      <td>Lvl</td>\n",
       "      <td>AllPub</td>\n",
       "      <td>FR2</td>\n",
       "      <td>...</td>\n",
       "      <td>0</td>\n",
       "      <td>None</td>\n",
       "      <td>None</td>\n",
       "      <td>None</td>\n",
       "      <td>0</td>\n",
       "      <td>12</td>\n",
       "      <td>2008</td>\n",
       "      <td>WD</td>\n",
       "      <td>Normal</td>\n",
       "      <td>250000.0</td>\n",
       "    </tr>\n",
       "    <tr>\n",
       "      <th>...</th>\n",
       "      <td>...</td>\n",
       "      <td>...</td>\n",
       "      <td>...</td>\n",
       "      <td>...</td>\n",
       "      <td>...</td>\n",
       "      <td>...</td>\n",
       "      <td>...</td>\n",
       "      <td>...</td>\n",
       "      <td>...</td>\n",
       "      <td>...</td>\n",
       "      <td>...</td>\n",
       "      <td>...</td>\n",
       "      <td>...</td>\n",
       "      <td>...</td>\n",
       "      <td>...</td>\n",
       "      <td>...</td>\n",
       "      <td>...</td>\n",
       "      <td>...</td>\n",
       "      <td>...</td>\n",
       "      <td>...</td>\n",
       "      <td>...</td>\n",
       "    </tr>\n",
       "    <tr>\n",
       "      <th>1456</th>\n",
       "      <td>60</td>\n",
       "      <td>RL</td>\n",
       "      <td>62.0</td>\n",
       "      <td>7917</td>\n",
       "      <td>Pave</td>\n",
       "      <td>None</td>\n",
       "      <td>Reg</td>\n",
       "      <td>Lvl</td>\n",
       "      <td>AllPub</td>\n",
       "      <td>Inside</td>\n",
       "      <td>...</td>\n",
       "      <td>0</td>\n",
       "      <td>None</td>\n",
       "      <td>None</td>\n",
       "      <td>None</td>\n",
       "      <td>0</td>\n",
       "      <td>8</td>\n",
       "      <td>2007</td>\n",
       "      <td>WD</td>\n",
       "      <td>Normal</td>\n",
       "      <td>175000.0</td>\n",
       "    </tr>\n",
       "    <tr>\n",
       "      <th>1457</th>\n",
       "      <td>20</td>\n",
       "      <td>RL</td>\n",
       "      <td>85.0</td>\n",
       "      <td>13175</td>\n",
       "      <td>Pave</td>\n",
       "      <td>None</td>\n",
       "      <td>Reg</td>\n",
       "      <td>Lvl</td>\n",
       "      <td>AllPub</td>\n",
       "      <td>Inside</td>\n",
       "      <td>...</td>\n",
       "      <td>0</td>\n",
       "      <td>None</td>\n",
       "      <td>MnPrv</td>\n",
       "      <td>None</td>\n",
       "      <td>0</td>\n",
       "      <td>2</td>\n",
       "      <td>2010</td>\n",
       "      <td>WD</td>\n",
       "      <td>Normal</td>\n",
       "      <td>210000.0</td>\n",
       "    </tr>\n",
       "    <tr>\n",
       "      <th>1458</th>\n",
       "      <td>70</td>\n",
       "      <td>RL</td>\n",
       "      <td>66.0</td>\n",
       "      <td>9042</td>\n",
       "      <td>Pave</td>\n",
       "      <td>None</td>\n",
       "      <td>Reg</td>\n",
       "      <td>Lvl</td>\n",
       "      <td>AllPub</td>\n",
       "      <td>Inside</td>\n",
       "      <td>...</td>\n",
       "      <td>0</td>\n",
       "      <td>None</td>\n",
       "      <td>GdPrv</td>\n",
       "      <td>Shed</td>\n",
       "      <td>2500</td>\n",
       "      <td>5</td>\n",
       "      <td>2010</td>\n",
       "      <td>WD</td>\n",
       "      <td>Normal</td>\n",
       "      <td>266500.0</td>\n",
       "    </tr>\n",
       "    <tr>\n",
       "      <th>1459</th>\n",
       "      <td>20</td>\n",
       "      <td>RL</td>\n",
       "      <td>68.0</td>\n",
       "      <td>9717</td>\n",
       "      <td>Pave</td>\n",
       "      <td>None</td>\n",
       "      <td>Reg</td>\n",
       "      <td>Lvl</td>\n",
       "      <td>AllPub</td>\n",
       "      <td>Inside</td>\n",
       "      <td>...</td>\n",
       "      <td>0</td>\n",
       "      <td>None</td>\n",
       "      <td>None</td>\n",
       "      <td>None</td>\n",
       "      <td>0</td>\n",
       "      <td>4</td>\n",
       "      <td>2010</td>\n",
       "      <td>WD</td>\n",
       "      <td>Normal</td>\n",
       "      <td>142125.0</td>\n",
       "    </tr>\n",
       "    <tr>\n",
       "      <th>1460</th>\n",
       "      <td>20</td>\n",
       "      <td>RL</td>\n",
       "      <td>75.0</td>\n",
       "      <td>9937</td>\n",
       "      <td>Pave</td>\n",
       "      <td>None</td>\n",
       "      <td>Reg</td>\n",
       "      <td>Lvl</td>\n",
       "      <td>AllPub</td>\n",
       "      <td>Inside</td>\n",
       "      <td>...</td>\n",
       "      <td>0</td>\n",
       "      <td>None</td>\n",
       "      <td>None</td>\n",
       "      <td>None</td>\n",
       "      <td>0</td>\n",
       "      <td>6</td>\n",
       "      <td>2008</td>\n",
       "      <td>WD</td>\n",
       "      <td>Normal</td>\n",
       "      <td>147500.0</td>\n",
       "    </tr>\n",
       "  </tbody>\n",
       "</table>\n",
       "<p>1460 rows × 80 columns</p>\n",
       "</div>"
      ],
      "text/plain": [
       "     MSSubClass MSZoning  LotFrontage  LotArea Street Alley LotShape  \\\n",
       "Id                                                                     \n",
       "1            60       RL         65.0     8450   Pave  None      Reg   \n",
       "2            20       RL         80.0     9600   Pave  None      Reg   \n",
       "3            60       RL         68.0    11250   Pave  None      IR1   \n",
       "4            70       RL         60.0     9550   Pave  None      IR1   \n",
       "5            60       RL         84.0    14260   Pave  None      IR1   \n",
       "...         ...      ...          ...      ...    ...   ...      ...   \n",
       "1456         60       RL         62.0     7917   Pave  None      Reg   \n",
       "1457         20       RL         85.0    13175   Pave  None      Reg   \n",
       "1458         70       RL         66.0     9042   Pave  None      Reg   \n",
       "1459         20       RL         68.0     9717   Pave  None      Reg   \n",
       "1460         20       RL         75.0     9937   Pave  None      Reg   \n",
       "\n",
       "     LandContour Utilities LotConfig  ... PoolArea PoolQC  Fence MiscFeature  \\\n",
       "Id                                    ...                                      \n",
       "1            Lvl    AllPub    Inside  ...        0   None   None        None   \n",
       "2            Lvl    AllPub       FR2  ...        0   None   None        None   \n",
       "3            Lvl    AllPub    Inside  ...        0   None   None        None   \n",
       "4            Lvl    AllPub    Corner  ...        0   None   None        None   \n",
       "5            Lvl    AllPub       FR2  ...        0   None   None        None   \n",
       "...          ...       ...       ...  ...      ...    ...    ...         ...   \n",
       "1456         Lvl    AllPub    Inside  ...        0   None   None        None   \n",
       "1457         Lvl    AllPub    Inside  ...        0   None  MnPrv        None   \n",
       "1458         Lvl    AllPub    Inside  ...        0   None  GdPrv        Shed   \n",
       "1459         Lvl    AllPub    Inside  ...        0   None   None        None   \n",
       "1460         Lvl    AllPub    Inside  ...        0   None   None        None   \n",
       "\n",
       "     MiscVal MoSold YrSold SaleType  SaleCondition  SalePrice  \n",
       "Id                                                             \n",
       "1          0      2   2008       WD         Normal   208500.0  \n",
       "2          0      5   2007       WD         Normal   181500.0  \n",
       "3          0      9   2008       WD         Normal   223500.0  \n",
       "4          0      2   2006       WD        Abnorml   140000.0  \n",
       "5          0     12   2008       WD         Normal   250000.0  \n",
       "...      ...    ...    ...      ...            ...        ...  \n",
       "1456       0      8   2007       WD         Normal   175000.0  \n",
       "1457       0      2   2010       WD         Normal   210000.0  \n",
       "1458    2500      5   2010       WD         Normal   266500.0  \n",
       "1459       0      4   2010       WD         Normal   142125.0  \n",
       "1460       0      6   2008       WD         Normal   147500.0  \n",
       "\n",
       "[1460 rows x 80 columns]"
      ]
     },
     "metadata": {},
     "output_type": "display_data"
    },
    {
     "data": {
      "text/html": [
       "<div>\n",
       "<style scoped>\n",
       "    .dataframe tbody tr th:only-of-type {\n",
       "        vertical-align: middle;\n",
       "    }\n",
       "\n",
       "    .dataframe tbody tr th {\n",
       "        vertical-align: top;\n",
       "    }\n",
       "\n",
       "    .dataframe thead th {\n",
       "        text-align: right;\n",
       "    }\n",
       "</style>\n",
       "<table border=\"1\" class=\"dataframe\">\n",
       "  <thead>\n",
       "    <tr style=\"text-align: right;\">\n",
       "      <th></th>\n",
       "      <th>MSSubClass</th>\n",
       "      <th>MSZoning</th>\n",
       "      <th>LotFrontage</th>\n",
       "      <th>LotArea</th>\n",
       "      <th>Street</th>\n",
       "      <th>Alley</th>\n",
       "      <th>LotShape</th>\n",
       "      <th>LandContour</th>\n",
       "      <th>Utilities</th>\n",
       "      <th>LotConfig</th>\n",
       "      <th>...</th>\n",
       "      <th>PoolArea</th>\n",
       "      <th>PoolQC</th>\n",
       "      <th>Fence</th>\n",
       "      <th>MiscFeature</th>\n",
       "      <th>MiscVal</th>\n",
       "      <th>MoSold</th>\n",
       "      <th>YrSold</th>\n",
       "      <th>SaleType</th>\n",
       "      <th>SaleCondition</th>\n",
       "      <th>SalePrice</th>\n",
       "    </tr>\n",
       "    <tr>\n",
       "      <th>Id</th>\n",
       "      <th></th>\n",
       "      <th></th>\n",
       "      <th></th>\n",
       "      <th></th>\n",
       "      <th></th>\n",
       "      <th></th>\n",
       "      <th></th>\n",
       "      <th></th>\n",
       "      <th></th>\n",
       "      <th></th>\n",
       "      <th></th>\n",
       "      <th></th>\n",
       "      <th></th>\n",
       "      <th></th>\n",
       "      <th></th>\n",
       "      <th></th>\n",
       "      <th></th>\n",
       "      <th></th>\n",
       "      <th></th>\n",
       "      <th></th>\n",
       "      <th></th>\n",
       "    </tr>\n",
       "  </thead>\n",
       "  <tbody>\n",
       "    <tr>\n",
       "      <th>1461</th>\n",
       "      <td>20</td>\n",
       "      <td>RH</td>\n",
       "      <td>80.0</td>\n",
       "      <td>11622</td>\n",
       "      <td>Pave</td>\n",
       "      <td>None</td>\n",
       "      <td>Reg</td>\n",
       "      <td>Lvl</td>\n",
       "      <td>AllPub</td>\n",
       "      <td>Inside</td>\n",
       "      <td>...</td>\n",
       "      <td>0</td>\n",
       "      <td>None</td>\n",
       "      <td>MnPrv</td>\n",
       "      <td>None</td>\n",
       "      <td>0</td>\n",
       "      <td>6</td>\n",
       "      <td>2010</td>\n",
       "      <td>WD</td>\n",
       "      <td>Normal</td>\n",
       "      <td>0.0</td>\n",
       "    </tr>\n",
       "    <tr>\n",
       "      <th>1462</th>\n",
       "      <td>20</td>\n",
       "      <td>RL</td>\n",
       "      <td>81.0</td>\n",
       "      <td>14267</td>\n",
       "      <td>Pave</td>\n",
       "      <td>None</td>\n",
       "      <td>IR1</td>\n",
       "      <td>Lvl</td>\n",
       "      <td>AllPub</td>\n",
       "      <td>Corner</td>\n",
       "      <td>...</td>\n",
       "      <td>0</td>\n",
       "      <td>None</td>\n",
       "      <td>None</td>\n",
       "      <td>Gar2</td>\n",
       "      <td>12500</td>\n",
       "      <td>6</td>\n",
       "      <td>2010</td>\n",
       "      <td>WD</td>\n",
       "      <td>Normal</td>\n",
       "      <td>0.0</td>\n",
       "    </tr>\n",
       "    <tr>\n",
       "      <th>1463</th>\n",
       "      <td>60</td>\n",
       "      <td>RL</td>\n",
       "      <td>74.0</td>\n",
       "      <td>13830</td>\n",
       "      <td>Pave</td>\n",
       "      <td>None</td>\n",
       "      <td>IR1</td>\n",
       "      <td>Lvl</td>\n",
       "      <td>AllPub</td>\n",
       "      <td>Inside</td>\n",
       "      <td>...</td>\n",
       "      <td>0</td>\n",
       "      <td>None</td>\n",
       "      <td>MnPrv</td>\n",
       "      <td>None</td>\n",
       "      <td>0</td>\n",
       "      <td>3</td>\n",
       "      <td>2010</td>\n",
       "      <td>WD</td>\n",
       "      <td>Normal</td>\n",
       "      <td>0.0</td>\n",
       "    </tr>\n",
       "    <tr>\n",
       "      <th>1464</th>\n",
       "      <td>60</td>\n",
       "      <td>RL</td>\n",
       "      <td>78.0</td>\n",
       "      <td>9978</td>\n",
       "      <td>Pave</td>\n",
       "      <td>None</td>\n",
       "      <td>IR1</td>\n",
       "      <td>Lvl</td>\n",
       "      <td>AllPub</td>\n",
       "      <td>Inside</td>\n",
       "      <td>...</td>\n",
       "      <td>0</td>\n",
       "      <td>None</td>\n",
       "      <td>None</td>\n",
       "      <td>None</td>\n",
       "      <td>0</td>\n",
       "      <td>6</td>\n",
       "      <td>2010</td>\n",
       "      <td>WD</td>\n",
       "      <td>Normal</td>\n",
       "      <td>0.0</td>\n",
       "    </tr>\n",
       "    <tr>\n",
       "      <th>1465</th>\n",
       "      <td>120</td>\n",
       "      <td>RL</td>\n",
       "      <td>43.0</td>\n",
       "      <td>5005</td>\n",
       "      <td>Pave</td>\n",
       "      <td>None</td>\n",
       "      <td>IR1</td>\n",
       "      <td>HLS</td>\n",
       "      <td>AllPub</td>\n",
       "      <td>Inside</td>\n",
       "      <td>...</td>\n",
       "      <td>0</td>\n",
       "      <td>None</td>\n",
       "      <td>None</td>\n",
       "      <td>None</td>\n",
       "      <td>0</td>\n",
       "      <td>1</td>\n",
       "      <td>2010</td>\n",
       "      <td>WD</td>\n",
       "      <td>Normal</td>\n",
       "      <td>0.0</td>\n",
       "    </tr>\n",
       "    <tr>\n",
       "      <th>...</th>\n",
       "      <td>...</td>\n",
       "      <td>...</td>\n",
       "      <td>...</td>\n",
       "      <td>...</td>\n",
       "      <td>...</td>\n",
       "      <td>...</td>\n",
       "      <td>...</td>\n",
       "      <td>...</td>\n",
       "      <td>...</td>\n",
       "      <td>...</td>\n",
       "      <td>...</td>\n",
       "      <td>...</td>\n",
       "      <td>...</td>\n",
       "      <td>...</td>\n",
       "      <td>...</td>\n",
       "      <td>...</td>\n",
       "      <td>...</td>\n",
       "      <td>...</td>\n",
       "      <td>...</td>\n",
       "      <td>...</td>\n",
       "      <td>...</td>\n",
       "    </tr>\n",
       "    <tr>\n",
       "      <th>2915</th>\n",
       "      <td>160</td>\n",
       "      <td>RM</td>\n",
       "      <td>21.0</td>\n",
       "      <td>1936</td>\n",
       "      <td>Pave</td>\n",
       "      <td>None</td>\n",
       "      <td>Reg</td>\n",
       "      <td>Lvl</td>\n",
       "      <td>AllPub</td>\n",
       "      <td>Inside</td>\n",
       "      <td>...</td>\n",
       "      <td>0</td>\n",
       "      <td>None</td>\n",
       "      <td>None</td>\n",
       "      <td>None</td>\n",
       "      <td>0</td>\n",
       "      <td>6</td>\n",
       "      <td>2006</td>\n",
       "      <td>WD</td>\n",
       "      <td>Normal</td>\n",
       "      <td>0.0</td>\n",
       "    </tr>\n",
       "    <tr>\n",
       "      <th>2916</th>\n",
       "      <td>160</td>\n",
       "      <td>RM</td>\n",
       "      <td>21.0</td>\n",
       "      <td>1894</td>\n",
       "      <td>Pave</td>\n",
       "      <td>None</td>\n",
       "      <td>Reg</td>\n",
       "      <td>Lvl</td>\n",
       "      <td>AllPub</td>\n",
       "      <td>Inside</td>\n",
       "      <td>...</td>\n",
       "      <td>0</td>\n",
       "      <td>None</td>\n",
       "      <td>None</td>\n",
       "      <td>None</td>\n",
       "      <td>0</td>\n",
       "      <td>4</td>\n",
       "      <td>2006</td>\n",
       "      <td>WD</td>\n",
       "      <td>Abnorml</td>\n",
       "      <td>0.0</td>\n",
       "    </tr>\n",
       "    <tr>\n",
       "      <th>2917</th>\n",
       "      <td>20</td>\n",
       "      <td>RL</td>\n",
       "      <td>160.0</td>\n",
       "      <td>20000</td>\n",
       "      <td>Pave</td>\n",
       "      <td>None</td>\n",
       "      <td>Reg</td>\n",
       "      <td>Lvl</td>\n",
       "      <td>AllPub</td>\n",
       "      <td>Inside</td>\n",
       "      <td>...</td>\n",
       "      <td>0</td>\n",
       "      <td>None</td>\n",
       "      <td>None</td>\n",
       "      <td>None</td>\n",
       "      <td>0</td>\n",
       "      <td>9</td>\n",
       "      <td>2006</td>\n",
       "      <td>WD</td>\n",
       "      <td>Abnorml</td>\n",
       "      <td>0.0</td>\n",
       "    </tr>\n",
       "    <tr>\n",
       "      <th>2918</th>\n",
       "      <td>85</td>\n",
       "      <td>RL</td>\n",
       "      <td>62.0</td>\n",
       "      <td>10441</td>\n",
       "      <td>Pave</td>\n",
       "      <td>None</td>\n",
       "      <td>Reg</td>\n",
       "      <td>Lvl</td>\n",
       "      <td>AllPub</td>\n",
       "      <td>Inside</td>\n",
       "      <td>...</td>\n",
       "      <td>0</td>\n",
       "      <td>None</td>\n",
       "      <td>MnPrv</td>\n",
       "      <td>Shed</td>\n",
       "      <td>700</td>\n",
       "      <td>7</td>\n",
       "      <td>2006</td>\n",
       "      <td>WD</td>\n",
       "      <td>Normal</td>\n",
       "      <td>0.0</td>\n",
       "    </tr>\n",
       "    <tr>\n",
       "      <th>2919</th>\n",
       "      <td>60</td>\n",
       "      <td>RL</td>\n",
       "      <td>74.0</td>\n",
       "      <td>9627</td>\n",
       "      <td>Pave</td>\n",
       "      <td>None</td>\n",
       "      <td>Reg</td>\n",
       "      <td>Lvl</td>\n",
       "      <td>AllPub</td>\n",
       "      <td>Inside</td>\n",
       "      <td>...</td>\n",
       "      <td>0</td>\n",
       "      <td>None</td>\n",
       "      <td>None</td>\n",
       "      <td>None</td>\n",
       "      <td>0</td>\n",
       "      <td>11</td>\n",
       "      <td>2006</td>\n",
       "      <td>WD</td>\n",
       "      <td>Normal</td>\n",
       "      <td>0.0</td>\n",
       "    </tr>\n",
       "  </tbody>\n",
       "</table>\n",
       "<p>1459 rows × 80 columns</p>\n",
       "</div>"
      ],
      "text/plain": [
       "     MSSubClass MSZoning  LotFrontage  LotArea Street Alley LotShape  \\\n",
       "Id                                                                     \n",
       "1461         20       RH         80.0    11622   Pave  None      Reg   \n",
       "1462         20       RL         81.0    14267   Pave  None      IR1   \n",
       "1463         60       RL         74.0    13830   Pave  None      IR1   \n",
       "1464         60       RL         78.0     9978   Pave  None      IR1   \n",
       "1465        120       RL         43.0     5005   Pave  None      IR1   \n",
       "...         ...      ...          ...      ...    ...   ...      ...   \n",
       "2915        160       RM         21.0     1936   Pave  None      Reg   \n",
       "2916        160       RM         21.0     1894   Pave  None      Reg   \n",
       "2917         20       RL        160.0    20000   Pave  None      Reg   \n",
       "2918         85       RL         62.0    10441   Pave  None      Reg   \n",
       "2919         60       RL         74.0     9627   Pave  None      Reg   \n",
       "\n",
       "     LandContour Utilities LotConfig  ... PoolArea PoolQC  Fence MiscFeature  \\\n",
       "Id                                    ...                                      \n",
       "1461         Lvl    AllPub    Inside  ...        0   None  MnPrv        None   \n",
       "1462         Lvl    AllPub    Corner  ...        0   None   None        Gar2   \n",
       "1463         Lvl    AllPub    Inside  ...        0   None  MnPrv        None   \n",
       "1464         Lvl    AllPub    Inside  ...        0   None   None        None   \n",
       "1465         HLS    AllPub    Inside  ...        0   None   None        None   \n",
       "...          ...       ...       ...  ...      ...    ...    ...         ...   \n",
       "2915         Lvl    AllPub    Inside  ...        0   None   None        None   \n",
       "2916         Lvl    AllPub    Inside  ...        0   None   None        None   \n",
       "2917         Lvl    AllPub    Inside  ...        0   None   None        None   \n",
       "2918         Lvl    AllPub    Inside  ...        0   None  MnPrv        Shed   \n",
       "2919         Lvl    AllPub    Inside  ...        0   None   None        None   \n",
       "\n",
       "     MiscVal MoSold YrSold SaleType  SaleCondition  SalePrice  \n",
       "Id                                                             \n",
       "1461       0      6   2010       WD         Normal        0.0  \n",
       "1462   12500      6   2010       WD         Normal        0.0  \n",
       "1463       0      3   2010       WD         Normal        0.0  \n",
       "1464       0      6   2010       WD         Normal        0.0  \n",
       "1465       0      1   2010       WD         Normal        0.0  \n",
       "...      ...    ...    ...      ...            ...        ...  \n",
       "2915       0      6   2006       WD         Normal        0.0  \n",
       "2916       0      4   2006       WD        Abnorml        0.0  \n",
       "2917       0      9   2006       WD        Abnorml        0.0  \n",
       "2918     700      7   2006       WD         Normal        0.0  \n",
       "2919       0     11   2006       WD         Normal        0.0  \n",
       "\n",
       "[1459 rows x 80 columns]"
      ]
     },
     "metadata": {},
     "output_type": "display_data"
    },
    {
     "name": "stdout",
     "output_type": "stream",
     "text": [
      "<class 'pandas.core.frame.DataFrame'>\n",
      "Index: 1460 entries, 1 to 1460\n",
      "Data columns (total 80 columns):\n",
      " #   Column            Non-Null Count  Dtype   \n",
      "---  ------            --------------  -----   \n",
      " 0   MSSubClass        1460 non-null   category\n",
      " 1   MSZoning          1460 non-null   category\n",
      " 2   LotFrontage       1460 non-null   float64 \n",
      " 3   LotArea           1460 non-null   int64   \n",
      " 4   Street            1460 non-null   category\n",
      " 5   Alley             1460 non-null   category\n",
      " 6   LotShape          1460 non-null   category\n",
      " 7   LandContour       1460 non-null   category\n",
      " 8   Utilities         1460 non-null   category\n",
      " 9   LotConfig         1460 non-null   category\n",
      " 10  LandSlope         1460 non-null   category\n",
      " 11  Neighborhood      1460 non-null   category\n",
      " 12  Condition1        1460 non-null   category\n",
      " 13  Condition2        1460 non-null   category\n",
      " 14  BldgType          1460 non-null   category\n",
      " 15  HouseStyle        1460 non-null   category\n",
      " 16  OverallQual       1460 non-null   category\n",
      " 17  OverallCond       1460 non-null   category\n",
      " 18  YearBuilt         1460 non-null   int64   \n",
      " 19  YearRemodAdd      1460 non-null   int64   \n",
      " 20  RoofStyle         1460 non-null   category\n",
      " 21  RoofMatl          1460 non-null   category\n",
      " 22  Exterior1st       1460 non-null   category\n",
      " 23  Exterior2nd       1460 non-null   category\n",
      " 24  MasVnrType        1460 non-null   category\n",
      " 25  MasVnrArea        1460 non-null   float64 \n",
      " 26  ExterQual         1460 non-null   category\n",
      " 27  ExterCond         1460 non-null   category\n",
      " 28  Foundation        1460 non-null   category\n",
      " 29  BsmtQual          1460 non-null   category\n",
      " 30  BsmtCond          1460 non-null   category\n",
      " 31  BsmtExposure      1460 non-null   category\n",
      " 32  BsmtFinType1      1460 non-null   category\n",
      " 33  BsmtFinSF1        1460 non-null   float64 \n",
      " 34  BsmtFinType2      1460 non-null   category\n",
      " 35  BsmtFinSF2        1460 non-null   float64 \n",
      " 36  BsmtUnfSF         1460 non-null   float64 \n",
      " 37  TotalBsmtSF       1460 non-null   float64 \n",
      " 38  Heating           1460 non-null   category\n",
      " 39  HeatingQC         1460 non-null   category\n",
      " 40  CentralAir        1460 non-null   category\n",
      " 41  Electrical        1460 non-null   category\n",
      " 42  FirstFlrSF        1460 non-null   int64   \n",
      " 43  SecondFlrSF       1460 non-null   int64   \n",
      " 44  LowQualFinSF      1460 non-null   int64   \n",
      " 45  GrLivArea         1460 non-null   int64   \n",
      " 46  BsmtFullBath      1460 non-null   float64 \n",
      " 47  BsmtHalfBath      1460 non-null   float64 \n",
      " 48  FullBath          1460 non-null   int64   \n",
      " 49  HalfBath          1460 non-null   int64   \n",
      " 50  BedroomAbvGr      1460 non-null   int64   \n",
      " 51  KitchenAbvGr      1460 non-null   int64   \n",
      " 52  KitchenQual       1460 non-null   category\n",
      " 53  TotRmsAbvGrd      1460 non-null   int64   \n",
      " 54  Functional        1460 non-null   category\n",
      " 55  Fireplaces        1460 non-null   int64   \n",
      " 56  FireplaceQu       1460 non-null   category\n",
      " 57  GarageType        1460 non-null   category\n",
      " 58  GarageYrBlt       1460 non-null   float64 \n",
      " 59  GarageFinish      1460 non-null   category\n",
      " 60  GarageCars        1460 non-null   float64 \n",
      " 61  GarageArea        1460 non-null   float64 \n",
      " 62  GarageQual        1460 non-null   category\n",
      " 63  GarageCond        1460 non-null   category\n",
      " 64  PavedDrive        1460 non-null   category\n",
      " 65  WoodDeckSF        1460 non-null   int64   \n",
      " 66  OpenPorchSF       1460 non-null   int64   \n",
      " 67  EnclosedPorch     1460 non-null   int64   \n",
      " 68  Threeseasonporch  1460 non-null   int64   \n",
      " 69  ScreenPorch       1460 non-null   int64   \n",
      " 70  PoolArea          1460 non-null   int64   \n",
      " 71  PoolQC            1460 non-null   category\n",
      " 72  Fence             1460 non-null   category\n",
      " 73  MiscFeature       1460 non-null   category\n",
      " 74  MiscVal           1460 non-null   int64   \n",
      " 75  MoSold            1460 non-null   int64   \n",
      " 76  YrSold            1460 non-null   int64   \n",
      " 77  SaleType          1460 non-null   category\n",
      " 78  SaleCondition     1460 non-null   category\n",
      " 79  SalePrice         1460 non-null   float64 \n",
      "dtypes: category(46), float64(12), int64(22)\n",
      "memory usage: 478.9 KB\n"
     ]
    },
    {
     "data": {
      "text/plain": [
       "None"
      ]
     },
     "metadata": {},
     "output_type": "display_data"
    },
    {
     "name": "stdout",
     "output_type": "stream",
     "text": [
      "<class 'pandas.core.frame.DataFrame'>\n",
      "Index: 1459 entries, 1461 to 2919\n",
      "Data columns (total 80 columns):\n",
      " #   Column            Non-Null Count  Dtype   \n",
      "---  ------            --------------  -----   \n",
      " 0   MSSubClass        1459 non-null   category\n",
      " 1   MSZoning          1459 non-null   category\n",
      " 2   LotFrontage       1459 non-null   float64 \n",
      " 3   LotArea           1459 non-null   int64   \n",
      " 4   Street            1459 non-null   category\n",
      " 5   Alley             1459 non-null   category\n",
      " 6   LotShape          1459 non-null   category\n",
      " 7   LandContour       1459 non-null   category\n",
      " 8   Utilities         1459 non-null   category\n",
      " 9   LotConfig         1459 non-null   category\n",
      " 10  LandSlope         1459 non-null   category\n",
      " 11  Neighborhood      1459 non-null   category\n",
      " 12  Condition1        1459 non-null   category\n",
      " 13  Condition2        1459 non-null   category\n",
      " 14  BldgType          1459 non-null   category\n",
      " 15  HouseStyle        1459 non-null   category\n",
      " 16  OverallQual       1459 non-null   category\n",
      " 17  OverallCond       1459 non-null   category\n",
      " 18  YearBuilt         1459 non-null   int64   \n",
      " 19  YearRemodAdd      1459 non-null   int64   \n",
      " 20  RoofStyle         1459 non-null   category\n",
      " 21  RoofMatl          1459 non-null   category\n",
      " 22  Exterior1st       1459 non-null   category\n",
      " 23  Exterior2nd       1459 non-null   category\n",
      " 24  MasVnrType        1459 non-null   category\n",
      " 25  MasVnrArea        1459 non-null   float64 \n",
      " 26  ExterQual         1459 non-null   category\n",
      " 27  ExterCond         1459 non-null   category\n",
      " 28  Foundation        1459 non-null   category\n",
      " 29  BsmtQual          1459 non-null   category\n",
      " 30  BsmtCond          1459 non-null   category\n",
      " 31  BsmtExposure      1459 non-null   category\n",
      " 32  BsmtFinType1      1459 non-null   category\n",
      " 33  BsmtFinSF1        1459 non-null   float64 \n",
      " 34  BsmtFinType2      1459 non-null   category\n",
      " 35  BsmtFinSF2        1459 non-null   float64 \n",
      " 36  BsmtUnfSF         1459 non-null   float64 \n",
      " 37  TotalBsmtSF       1459 non-null   float64 \n",
      " 38  Heating           1459 non-null   category\n",
      " 39  HeatingQC         1459 non-null   category\n",
      " 40  CentralAir        1459 non-null   category\n",
      " 41  Electrical        1459 non-null   category\n",
      " 42  FirstFlrSF        1459 non-null   int64   \n",
      " 43  SecondFlrSF       1459 non-null   int64   \n",
      " 44  LowQualFinSF      1459 non-null   int64   \n",
      " 45  GrLivArea         1459 non-null   int64   \n",
      " 46  BsmtFullBath      1459 non-null   float64 \n",
      " 47  BsmtHalfBath      1459 non-null   float64 \n",
      " 48  FullBath          1459 non-null   int64   \n",
      " 49  HalfBath          1459 non-null   int64   \n",
      " 50  BedroomAbvGr      1459 non-null   int64   \n",
      " 51  KitchenAbvGr      1459 non-null   int64   \n",
      " 52  KitchenQual       1459 non-null   category\n",
      " 53  TotRmsAbvGrd      1459 non-null   int64   \n",
      " 54  Functional        1459 non-null   category\n",
      " 55  Fireplaces        1459 non-null   int64   \n",
      " 56  FireplaceQu       1459 non-null   category\n",
      " 57  GarageType        1459 non-null   category\n",
      " 58  GarageYrBlt       1459 non-null   float64 \n",
      " 59  GarageFinish      1459 non-null   category\n",
      " 60  GarageCars        1459 non-null   float64 \n",
      " 61  GarageArea        1459 non-null   float64 \n",
      " 62  GarageQual        1459 non-null   category\n",
      " 63  GarageCond        1459 non-null   category\n",
      " 64  PavedDrive        1459 non-null   category\n",
      " 65  WoodDeckSF        1459 non-null   int64   \n",
      " 66  OpenPorchSF       1459 non-null   int64   \n",
      " 67  EnclosedPorch     1459 non-null   int64   \n",
      " 68  Threeseasonporch  1459 non-null   int64   \n",
      " 69  ScreenPorch       1459 non-null   int64   \n",
      " 70  PoolArea          1459 non-null   int64   \n",
      " 71  PoolQC            1459 non-null   category\n",
      " 72  Fence             1459 non-null   category\n",
      " 73  MiscFeature       1459 non-null   category\n",
      " 74  MiscVal           1459 non-null   int64   \n",
      " 75  MoSold            1459 non-null   int64   \n",
      " 76  YrSold            1459 non-null   int64   \n",
      " 77  SaleType          1459 non-null   category\n",
      " 78  SaleCondition     1459 non-null   category\n",
      " 79  SalePrice         1459 non-null   float64 \n",
      "dtypes: category(46), float64(12), int64(22)\n",
      "memory usage: 478.6 KB\n"
     ]
    },
    {
     "data": {
      "text/plain": [
       "None"
      ]
     },
     "metadata": {},
     "output_type": "display_data"
    }
   ],
   "source": [
    "# Peek at the values\n",
    "display(df_train)\n",
    "display(df_test)\n",
    "\n",
    "# Display information about dtypes and missing values\n",
    "display(df_train.info())\n",
    "display(df_test.info())"
   ]
  },
  {
   "cell_type": "markdown",
   "id": "eabd2ba7",
   "metadata": {
    "papermill": {
     "duration": 0.009505,
     "end_time": "2025-08-03T19:38:15.317230",
     "exception": false,
     "start_time": "2025-08-03T19:38:15.307725",
     "status": "completed"
    },
    "tags": []
   },
   "source": [
    "## Establish Baseline ##\n",
    "\n",
    "Finally, let's establish a baseline score to judge our feature engineering against.\n",
    "\n",
    "Here is the function we created in Lesson 1 that will compute the cross-validated RMSLE score for a feature set. We've used XGBoost for our model, but you might want to experiment with other models.\n"
   ]
  },
  {
   "cell_type": "code",
   "execution_count": 9,
   "id": "485522eb",
   "metadata": {
    "_kg_hide-input": true,
    "execution": {
     "iopub.execute_input": "2025-08-03T19:38:15.339053Z",
     "iopub.status.busy": "2025-08-03T19:38:15.338265Z",
     "iopub.status.idle": "2025-08-03T19:38:15.343923Z",
     "shell.execute_reply": "2025-08-03T19:38:15.343090Z"
    },
    "papermill": {
     "duration": 0.018214,
     "end_time": "2025-08-03T19:38:15.345347",
     "exception": false,
     "start_time": "2025-08-03T19:38:15.327133",
     "status": "completed"
    },
    "tags": []
   },
   "outputs": [],
   "source": [
    "\n",
    "def score_dataset(X, y, model=XGBRegressor()):\n",
    "    # Label encoding for categoricals\n",
    "    #\n",
    "    # Label encoding is good for XGBoost and RandomForest, but one-hot\n",
    "    # would be better for models like Lasso or Ridge. The `cat.codes`\n",
    "    # attribute holds the category levels.\n",
    "    for colname in X.select_dtypes([\"category\"]):\n",
    "        X[colname] = X[colname].cat.codes\n",
    "    # Metric for Housing competition is RMSLE (Root Mean Squared Log Error)\n",
    "    log_y = np.log(y)\n",
    "    score = cross_val_score(\n",
    "        model, X, log_y, cv=5, scoring=\"neg_mean_squared_error\",\n",
    "    )\n",
    "    score = -1 * score.mean()\n",
    "    score = np.sqrt(score)\n",
    "    return score\n"
   ]
  },
  {
   "cell_type": "markdown",
   "id": "096a4dc2",
   "metadata": {
    "papermill": {
     "duration": 0.008659,
     "end_time": "2025-08-03T19:38:15.363120",
     "exception": false,
     "start_time": "2025-08-03T19:38:15.354461",
     "status": "completed"
    },
    "tags": []
   },
   "source": [
    "We can reuse this scoring function anytime we want to try out a new feature set. We'll run it now on the processed data with no additional features and get a baseline score:"
   ]
  },
  {
   "cell_type": "code",
   "execution_count": 10,
   "id": "02cc9bf2",
   "metadata": {
    "execution": {
     "iopub.execute_input": "2025-08-03T19:38:15.382126Z",
     "iopub.status.busy": "2025-08-03T19:38:15.381781Z",
     "iopub.status.idle": "2025-08-03T19:38:16.987957Z",
     "shell.execute_reply": "2025-08-03T19:38:16.987191Z"
    },
    "papermill": {
     "duration": 1.618256,
     "end_time": "2025-08-03T19:38:16.990244",
     "exception": false,
     "start_time": "2025-08-03T19:38:15.371988",
     "status": "completed"
    },
    "tags": []
   },
   "outputs": [
    {
     "name": "stdout",
     "output_type": "stream",
     "text": [
      "Baseline score: 0.14387 RMSLE\n"
     ]
    }
   ],
   "source": [
    "X = df_train.copy()\n",
    "y = X.pop(\"SalePrice\")\n",
    "\n",
    "baseline_score = score_dataset(X, y)\n",
    "print(f\"Baseline score: {baseline_score:.5f} RMSLE\")"
   ]
  },
  {
   "cell_type": "markdown",
   "id": "b590d474",
   "metadata": {
    "papermill": {
     "duration": 0.009816,
     "end_time": "2025-08-03T19:38:17.012429",
     "exception": false,
     "start_time": "2025-08-03T19:38:17.002613",
     "status": "completed"
    },
    "tags": []
   },
   "source": [
    "This baseline score helps us to know whether some set of features we've assembled has actually led to any improvement or not.\n",
    "\n",
    "# Step 2 - Feature Utility Scores #\n",
    "\n",
    "In Lesson 2 we saw how to use mutual information to compute a *utility score* for a feature, giving you an indication of how much potential the feature has. This hidden cell defines the two utility functions we used, `make_mi_scores` and `plot_mi_scores`: "
   ]
  },
  {
   "cell_type": "code",
   "execution_count": 11,
   "id": "71999f7d",
   "metadata": {
    "_kg_hide-input": true,
    "execution": {
     "iopub.execute_input": "2025-08-03T19:38:17.034873Z",
     "iopub.status.busy": "2025-08-03T19:38:17.033889Z",
     "iopub.status.idle": "2025-08-03T19:38:17.040588Z",
     "shell.execute_reply": "2025-08-03T19:38:17.039812Z"
    },
    "papermill": {
     "duration": 0.019496,
     "end_time": "2025-08-03T19:38:17.042118",
     "exception": false,
     "start_time": "2025-08-03T19:38:17.022622",
     "status": "completed"
    },
    "tags": []
   },
   "outputs": [],
   "source": [
    "\n",
    "def make_mi_scores(X, y):\n",
    "    X = X.copy()\n",
    "    for colname in X.select_dtypes([\"object\", \"category\"]):\n",
    "        X[colname], _ = X[colname].factorize()\n",
    "    # All discrete features should now have integer dtypes\n",
    "    discrete_features = [pd.api.types.is_integer_dtype(t) for t in X.dtypes]\n",
    "    mi_scores = mutual_info_regression(X, y, discrete_features=discrete_features, random_state=0)\n",
    "    mi_scores = pd.Series(mi_scores, name=\"MI Scores\", index=X.columns)\n",
    "    mi_scores = mi_scores.sort_values(ascending=False)\n",
    "    return mi_scores\n",
    "\n",
    "\n",
    "def plot_mi_scores(scores):\n",
    "    scores = scores.sort_values(ascending=True)\n",
    "    width = np.arange(len(scores))\n",
    "    ticks = list(scores.index)\n",
    "    plt.barh(width, scores)\n",
    "    plt.yticks(width, ticks)\n",
    "    plt.title(\"Mutual Information Scores\")"
   ]
  },
  {
   "cell_type": "markdown",
   "id": "8b1e58f2",
   "metadata": {
    "papermill": {
     "duration": 0.009126,
     "end_time": "2025-08-03T19:38:17.061009",
     "exception": false,
     "start_time": "2025-08-03T19:38:17.051883",
     "status": "completed"
    },
    "tags": []
   },
   "source": [
    "Let's look at our feature scores again:"
   ]
  },
  {
   "cell_type": "code",
   "execution_count": 12,
   "id": "ab0d09f1",
   "metadata": {
    "execution": {
     "iopub.execute_input": "2025-08-03T19:38:17.081388Z",
     "iopub.status.busy": "2025-08-03T19:38:17.081066Z",
     "iopub.status.idle": "2025-08-03T19:38:19.153264Z",
     "shell.execute_reply": "2025-08-03T19:38:19.152620Z"
    },
    "papermill": {
     "duration": 2.086416,
     "end_time": "2025-08-03T19:38:19.156786",
     "exception": false,
     "start_time": "2025-08-03T19:38:17.070370",
     "status": "completed"
    },
    "tags": []
   },
   "outputs": [
    {
     "data": {
      "text/plain": [
       "OverallQual     0.571457\n",
       "Neighborhood    0.526220\n",
       "GrLivArea       0.430395\n",
       "YearBuilt       0.407974\n",
       "LotArea         0.394468\n",
       "                  ...   \n",
       "PoolQC          0.000000\n",
       "MiscFeature     0.000000\n",
       "MiscVal         0.000000\n",
       "MoSold          0.000000\n",
       "YrSold          0.000000\n",
       "Name: MI Scores, Length: 79, dtype: float64"
      ]
     },
     "execution_count": 12,
     "metadata": {},
     "output_type": "execute_result"
    }
   ],
   "source": [
    "X = df_train.copy()\n",
    "y = X.pop(\"SalePrice\")\n",
    "\n",
    "mi_scores = make_mi_scores(X, y)\n",
    "mi_scores"
   ]
  },
  {
   "cell_type": "markdown",
   "id": "1707f6de",
   "metadata": {
    "papermill": {
     "duration": 0.009544,
     "end_time": "2025-08-03T19:38:19.176463",
     "exception": false,
     "start_time": "2025-08-03T19:38:19.166919",
     "status": "completed"
    },
    "tags": []
   },
   "source": [
    "You can see that we have a number of features that are highly informative and also some that don't seem to be informative at all (at least by themselves). As we talked about in Tutorial 2, the top scoring features will usually pay-off the most during feature development, so it could be a good idea to focus your efforts on those. On the other hand, training on uninformative features can lead to overfitting. So, the features with 0.0 scores we'll drop entirely:"
   ]
  },
  {
   "cell_type": "code",
   "execution_count": 13,
   "id": "aba5f236",
   "metadata": {
    "execution": {
     "iopub.execute_input": "2025-08-03T19:38:19.196767Z",
     "iopub.status.busy": "2025-08-03T19:38:19.196438Z",
     "iopub.status.idle": "2025-08-03T19:38:19.200657Z",
     "shell.execute_reply": "2025-08-03T19:38:19.199992Z"
    },
    "papermill": {
     "duration": 0.016045,
     "end_time": "2025-08-03T19:38:19.202054",
     "exception": false,
     "start_time": "2025-08-03T19:38:19.186009",
     "status": "completed"
    },
    "tags": []
   },
   "outputs": [],
   "source": [
    "def drop_uninformative(df, mi_scores):\n",
    "    return df.loc[:, mi_scores > 0.0]\n"
   ]
  },
  {
   "cell_type": "markdown",
   "id": "c69945ae",
   "metadata": {
    "papermill": {
     "duration": 0.008981,
     "end_time": "2025-08-03T19:38:19.220515",
     "exception": false,
     "start_time": "2025-08-03T19:38:19.211534",
     "status": "completed"
    },
    "tags": []
   },
   "source": [
    "Removing them does lead to a modest performance gain:"
   ]
  },
  {
   "cell_type": "code",
   "execution_count": 14,
   "id": "a1ed74c3",
   "metadata": {
    "execution": {
     "iopub.execute_input": "2025-08-03T19:38:19.240463Z",
     "iopub.status.busy": "2025-08-03T19:38:19.239791Z",
     "iopub.status.idle": "2025-08-03T19:38:20.725231Z",
     "shell.execute_reply": "2025-08-03T19:38:20.724513Z"
    },
    "papermill": {
     "duration": 1.497212,
     "end_time": "2025-08-03T19:38:20.726868",
     "exception": false,
     "start_time": "2025-08-03T19:38:19.229656",
     "status": "completed"
    },
    "tags": []
   },
   "outputs": [
    {
     "data": {
      "text/plain": [
       "0.1441513588582852"
      ]
     },
     "execution_count": 14,
     "metadata": {},
     "output_type": "execute_result"
    }
   ],
   "source": [
    "X = df_train.copy()\n",
    "y = X.pop(\"SalePrice\")\n",
    "X = drop_uninformative(X, mi_scores)\n",
    "\n",
    "score_dataset(X, y)"
   ]
  },
  {
   "cell_type": "markdown",
   "id": "eee8393f",
   "metadata": {
    "papermill": {
     "duration": 0.008992,
     "end_time": "2025-08-03T19:38:20.747971",
     "exception": false,
     "start_time": "2025-08-03T19:38:20.738979",
     "status": "completed"
    },
    "tags": []
   },
   "source": [
    "Later, we'll add the `drop_uninformative` function to our feature-creation pipeline.\n",
    "\n",
    "# Step 3 - Create Features #\n",
    "\n",
    "Now we'll start developing our feature set.\n",
    "\n",
    "To make our feature engineering workflow more modular, we'll define a function that will take a prepared dataframe and pass it through a pipeline of transformations to get the final feature set. It will look something like this:\n",
    "\n",
    "```\n",
    "def create_features(df):\n",
    "    X = df.copy()\n",
    "    y = X.pop(\"SalePrice\")\n",
    "    X = X.join(create_features_1(X))\n",
    "    X = X.join(create_features_2(X))\n",
    "    X = X.join(create_features_3(X))\n",
    "    # ...\n",
    "    return X\n",
    "```\n",
    "\n",
    "Let's go ahead and define one transformation now, a [label encoding](https://www.kaggle.com/alexisbcook/categorical-variables) for the categorical features:"
   ]
  },
  {
   "cell_type": "code",
   "execution_count": 15,
   "id": "488381f9",
   "metadata": {
    "execution": {
     "iopub.execute_input": "2025-08-03T19:38:20.768324Z",
     "iopub.status.busy": "2025-08-03T19:38:20.767994Z",
     "iopub.status.idle": "2025-08-03T19:38:20.772608Z",
     "shell.execute_reply": "2025-08-03T19:38:20.771819Z"
    },
    "papermill": {
     "duration": 0.016744,
     "end_time": "2025-08-03T19:38:20.774079",
     "exception": false,
     "start_time": "2025-08-03T19:38:20.757335",
     "status": "completed"
    },
    "tags": []
   },
   "outputs": [],
   "source": [
    "def label_encode(df):\n",
    "    X = df.copy()\n",
    "    for colname in X.select_dtypes([\"category\"]):\n",
    "        X[colname] = X[colname].cat.codes\n",
    "    return X\n"
   ]
  },
  {
   "cell_type": "markdown",
   "id": "132ff301",
   "metadata": {
    "papermill": {
     "duration": 0.009082,
     "end_time": "2025-08-03T19:38:20.792709",
     "exception": false,
     "start_time": "2025-08-03T19:38:20.783627",
     "status": "completed"
    },
    "tags": []
   },
   "source": [
    "A label encoding is okay for any kind of categorical feature when you're using a tree-ensemble like XGBoost, even for unordered categories. If you wanted to try a linear regression model (also popular in this competition), you would instead want to use a one-hot encoding, especially for the features with unordered categories.\n",
    "\n",
    "## Create Features with Pandas ##\n",
    "\n",
    "This cell reproduces the work you did in Exercise 3, where you applied strategies for creating features in Pandas. Modify or add to these functions to try out other feature combinations."
   ]
  },
  {
   "cell_type": "code",
   "execution_count": 16,
   "id": "72c2c1b6",
   "metadata": {
    "_kg_hide-input": true,
    "execution": {
     "iopub.execute_input": "2025-08-03T19:38:20.813064Z",
     "iopub.status.busy": "2025-08-03T19:38:20.812675Z",
     "iopub.status.idle": "2025-08-03T19:38:20.820251Z",
     "shell.execute_reply": "2025-08-03T19:38:20.819290Z"
    },
    "papermill": {
     "duration": 0.019632,
     "end_time": "2025-08-03T19:38:20.821838",
     "exception": false,
     "start_time": "2025-08-03T19:38:20.802206",
     "status": "completed"
    },
    "tags": []
   },
   "outputs": [],
   "source": [
    "\n",
    "def mathematical_transforms(df):\n",
    "    X = pd.DataFrame()  # dataframe to hold new features\n",
    "    X[\"LivLotRatio\"] = df.GrLivArea / df.LotArea\n",
    "    X[\"Spaciousness\"] = (df.FirstFlrSF + df.SecondFlrSF) / df.TotRmsAbvGrd\n",
    "    # This feature ended up not helping performance\n",
    "    # X[\"TotalOutsideSF\"] = \\\n",
    "    #     df.WoodDeckSF + df.OpenPorchSF + df.EnclosedPorch + \\\n",
    "    #     df.Threeseasonporch + df.ScreenPorch\n",
    "    return X\n",
    "\n",
    "\n",
    "def interactions(df):\n",
    "    X = pd.get_dummies(df.BldgType, prefix=\"Bldg\")\n",
    "    X = X.mul(df.GrLivArea, axis=0)\n",
    "    return X\n",
    "\n",
    "\n",
    "def counts(df):\n",
    "    X = pd.DataFrame()\n",
    "    X[\"PorchTypes\"] = df[[\n",
    "        \"WoodDeckSF\",\n",
    "        \"OpenPorchSF\",\n",
    "        \"EnclosedPorch\",\n",
    "        \"Threeseasonporch\",\n",
    "        \"ScreenPorch\",\n",
    "    ]].gt(0.0).sum(axis=1)\n",
    "    return X\n",
    "\n",
    "\n",
    "def break_down(df):\n",
    "    X = pd.DataFrame()\n",
    "    X[\"MSClass\"] = df.MSSubClass.str.split(\"_\", n=1, expand=True)[0]\n",
    "    return X\n",
    "\n",
    "\n",
    "def group_transforms(df):\n",
    "    X = pd.DataFrame()\n",
    "    X[\"MedNhbdArea\"] = df.groupby(\"Neighborhood\")[\"GrLivArea\"].transform(\"median\")\n",
    "    return X\n"
   ]
  },
  {
   "cell_type": "markdown",
   "id": "ba2f1573",
   "metadata": {
    "papermill": {
     "duration": 0.009084,
     "end_time": "2025-08-03T19:38:20.840445",
     "exception": false,
     "start_time": "2025-08-03T19:38:20.831361",
     "status": "completed"
    },
    "tags": []
   },
   "source": [
    "Here are some ideas for other transforms you could explore:\n",
    "- Interactions between the quality `Qual` and condition `Cond` features. `OverallQual`, for instance, was a high-scoring feature. You could try combining it with `OverallCond` by converting both to integer type and taking a product.\n",
    "- Square roots of area features. This would convert units of square feet to just feet.\n",
    "- Logarithms of numeric features. If a feature has a skewed distribution, applying a logarithm can help normalize it.\n",
    "- Interactions between numeric and categorical features that describe the same thing. You could look at interactions between `BsmtQual` and `TotalBsmtSF`, for instance.\n",
    "- Other group statistics in `Neighboorhood`. We did the median of `GrLivArea`. Looking at `mean`, `std`, or `count` could be interesting. You could also try combining the group statistics with other features. Maybe the *difference* of `GrLivArea` and the median is important?\n",
    "\n",
    "## k-Means Clustering ##\n",
    "\n",
    "The first unsupervised algorithm we used to create features was k-means clustering. We saw that you could either use the cluster labels as a feature (a column with `0, 1, 2, ...`) or you could use the *distance* of the observations to each cluster. We saw how these features can sometimes be effective at untangling complicated spatial relationships."
   ]
  },
  {
   "cell_type": "code",
   "execution_count": 17,
   "id": "686d5bcb",
   "metadata": {
    "_kg_hide-input": true,
    "execution": {
     "iopub.execute_input": "2025-08-03T19:38:20.860223Z",
     "iopub.status.busy": "2025-08-03T19:38:20.859921Z",
     "iopub.status.idle": "2025-08-03T19:38:20.867382Z",
     "shell.execute_reply": "2025-08-03T19:38:20.866327Z"
    },
    "lines_to_next_cell": 2,
    "papermill": {
     "duration": 0.019365,
     "end_time": "2025-08-03T19:38:20.868959",
     "exception": false,
     "start_time": "2025-08-03T19:38:20.849594",
     "status": "completed"
    },
    "tags": []
   },
   "outputs": [],
   "source": [
    "\n",
    "cluster_features = [\n",
    "    \"LotArea\",\n",
    "    \"TotalBsmtSF\",\n",
    "    \"FirstFlrSF\",\n",
    "    \"SecondFlrSF\",\n",
    "    \"GrLivArea\",\n",
    "]\n",
    "\n",
    "\n",
    "def cluster_labels(df, features, n_clusters=20):\n",
    "    X = df.copy()\n",
    "    X_scaled = X.loc[:, features]\n",
    "    X_scaled = (X_scaled - X_scaled.mean(axis=0)) / X_scaled.std(axis=0)\n",
    "    kmeans = KMeans(n_clusters=n_clusters, n_init=50, random_state=0)\n",
    "    X_new = pd.DataFrame()\n",
    "    X_new[\"Cluster\"] = kmeans.fit_predict(X_scaled)\n",
    "    return X_new\n",
    "\n",
    "\n",
    "def cluster_distance(df, features, n_clusters=20):\n",
    "    X = df.copy()\n",
    "    X_scaled = X.loc[:, features]\n",
    "    X_scaled = (X_scaled - X_scaled.mean(axis=0)) / X_scaled.std(axis=0)\n",
    "    kmeans = KMeans(n_clusters=20, n_init=50, random_state=0)\n",
    "    X_cd = kmeans.fit_transform(X_scaled)\n",
    "    # Label features and join to dataset\n",
    "    X_cd = pd.DataFrame(\n",
    "        X_cd, columns=[f\"Centroid_{i}\" for i in range(X_cd.shape[1])]\n",
    "    )\n",
    "    return X_cd\n"
   ]
  },
  {
   "cell_type": "markdown",
   "id": "535893b9",
   "metadata": {
    "papermill": {
     "duration": 0.009094,
     "end_time": "2025-08-03T19:38:20.887573",
     "exception": false,
     "start_time": "2025-08-03T19:38:20.878479",
     "status": "completed"
    },
    "tags": []
   },
   "source": [
    "## Principal Component Analysis ##\n",
    "\n",
    "PCA was the second unsupervised model we used for feature creation. We saw how it could be used to decompose the variational structure in the data. The PCA algorithm gave us *loadings* which described each component of variation, and also the *components* which were the transformed datapoints. The loadings can suggest features to create and the components we can use as features directly.\n",
    "\n",
    "Here are the utility functions from the PCA lesson:"
   ]
  },
  {
   "cell_type": "code",
   "execution_count": 18,
   "id": "29ba9157",
   "metadata": {
    "_kg_hide-input": true,
    "execution": {
     "iopub.execute_input": "2025-08-03T19:38:20.908821Z",
     "iopub.status.busy": "2025-08-03T19:38:20.907209Z",
     "iopub.status.idle": "2025-08-03T19:38:20.916208Z",
     "shell.execute_reply": "2025-08-03T19:38:20.915254Z"
    },
    "papermill": {
     "duration": 0.02064,
     "end_time": "2025-08-03T19:38:20.917713",
     "exception": false,
     "start_time": "2025-08-03T19:38:20.897073",
     "status": "completed"
    },
    "tags": []
   },
   "outputs": [],
   "source": [
    "\n",
    "def apply_pca(X, standardize=True):\n",
    "    # Standardize\n",
    "    if standardize:\n",
    "        X = (X - X.mean(axis=0)) / X.std(axis=0)\n",
    "    # Create principal components\n",
    "    pca = PCA()\n",
    "    X_pca = pca.fit_transform(X)\n",
    "    # Convert to dataframe\n",
    "    component_names = [f\"PC{i+1}\" for i in range(X_pca.shape[1])]\n",
    "    X_pca = pd.DataFrame(X_pca, columns=component_names)\n",
    "    # Create loadings\n",
    "    loadings = pd.DataFrame(\n",
    "        pca.components_.T,  # transpose the matrix of loadings\n",
    "        columns=component_names,  # so the columns are the principal components\n",
    "        index=X.columns,  # and the rows are the original features\n",
    "    )\n",
    "    return pca, X_pca, loadings\n",
    "\n",
    "\n",
    "def plot_variance(pca, width=8, dpi=100):\n",
    "    # Create figure\n",
    "    fig, axs = plt.subplots(1, 2)\n",
    "    n = pca.n_components_\n",
    "    grid = np.arange(1, n + 1)\n",
    "    # Explained variance\n",
    "    evr = pca.explained_variance_ratio_\n",
    "    axs[0].bar(grid, evr)\n",
    "    axs[0].set(\n",
    "        xlabel=\"Component\", title=\"% Explained Variance\", ylim=(0.0, 1.0)\n",
    "    )\n",
    "    # Cumulative Variance\n",
    "    cv = np.cumsum(evr)\n",
    "    axs[1].plot(np.r_[0, grid], np.r_[0, cv], \"o-\")\n",
    "    axs[1].set(\n",
    "        xlabel=\"Component\", title=\"% Cumulative Variance\", ylim=(0.0, 1.0)\n",
    "    )\n",
    "    # Set up figure\n",
    "    fig.set(figwidth=8, dpi=100)\n",
    "    return axs\n"
   ]
  },
  {
   "cell_type": "markdown",
   "id": "c4d05964",
   "metadata": {
    "papermill": {
     "duration": 0.00912,
     "end_time": "2025-08-03T19:38:20.936424",
     "exception": false,
     "start_time": "2025-08-03T19:38:20.927304",
     "status": "completed"
    },
    "tags": []
   },
   "source": [
    "And here are transforms that produce the features from the Exercise 5. You might want to change these if you came up with a different answer.\n"
   ]
  },
  {
   "cell_type": "code",
   "execution_count": 19,
   "id": "0d6839e8",
   "metadata": {
    "_kg_hide-input": true,
    "execution": {
     "iopub.execute_input": "2025-08-03T19:38:20.956321Z",
     "iopub.status.busy": "2025-08-03T19:38:20.956013Z",
     "iopub.status.idle": "2025-08-03T19:38:20.961505Z",
     "shell.execute_reply": "2025-08-03T19:38:20.960673Z"
    },
    "papermill": {
     "duration": 0.017154,
     "end_time": "2025-08-03T19:38:20.963004",
     "exception": false,
     "start_time": "2025-08-03T19:38:20.945850",
     "status": "completed"
    },
    "tags": []
   },
   "outputs": [],
   "source": [
    "\n",
    "def pca_inspired(df):\n",
    "    X = pd.DataFrame()\n",
    "    X[\"Feature1\"] = df.GrLivArea + df.TotalBsmtSF\n",
    "    X[\"Feature2\"] = df.YearRemodAdd * df.TotalBsmtSF\n",
    "    return X\n",
    "\n",
    "\n",
    "def pca_components(df, features):\n",
    "    X = df.loc[:, features]\n",
    "    _, X_pca, _ = apply_pca(X)\n",
    "    return X_pca\n",
    "\n",
    "\n",
    "pca_features = [\n",
    "    \"GarageArea\",\n",
    "    \"YearRemodAdd\",\n",
    "    \"TotalBsmtSF\",\n",
    "    \"GrLivArea\",\n",
    "]"
   ]
  },
  {
   "cell_type": "markdown",
   "id": "371a54c4",
   "metadata": {
    "papermill": {
     "duration": 0.008963,
     "end_time": "2025-08-03T19:38:20.981320",
     "exception": false,
     "start_time": "2025-08-03T19:38:20.972357",
     "status": "completed"
    },
    "tags": []
   },
   "source": [
    "These are only a couple ways you could use the principal components. You could also try clustering using one or more components. One thing to note is that PCA doesn't change the distance between points -- it's just like a rotation. So clustering with the full set of components is the same as clustering with the original features. Instead, pick some subset of components, maybe those with the most variance or the highest MI scores.\n",
    "\n",
    "For further analysis, you might want to look at a correlation matrix for the dataset:"
   ]
  },
  {
   "cell_type": "code",
   "execution_count": 20,
   "id": "e25a9a17",
   "metadata": {
    "execution": {
     "iopub.execute_input": "2025-08-03T19:38:21.001043Z",
     "iopub.status.busy": "2025-08-03T19:38:21.000689Z",
     "iopub.status.idle": "2025-08-03T19:38:22.803968Z",
     "shell.execute_reply": "2025-08-03T19:38:22.802994Z"
    },
    "papermill": {
     "duration": 1.816148,
     "end_time": "2025-08-03T19:38:22.806657",
     "exception": false,
     "start_time": "2025-08-03T19:38:20.990509",
     "status": "completed"
    },
    "tags": []
   },
   "outputs": [
    {
     "data": {
      "image/png": "[encoded data removed]",
      "text/plain": [
       "<Figure size 1000x1000 with 4 Axes>"
      ]
     },
     "metadata": {},
     "output_type": "display_data"
    }
   ],
   "source": [
    "def corrplot(df, method=\"pearson\", annot=True, **kwargs):\n",
    "    sns.clustermap(\n",
    "        df.corr(method, numeric_only=True),\n",
    "        vmin=-1.0,\n",
    "        vmax=1.0,\n",
    "        cmap=\"icefire\",\n",
    "        method=\"complete\",\n",
    "        annot=annot,\n",
    "        **kwargs,\n",
    "    )\n",
    "\n",
    "\n",
    "corrplot(df_train, annot=None)"
   ]
  },
  {
   "cell_type": "markdown",
   "id": "b5618f23",
   "metadata": {
    "papermill": {
     "duration": 0.011261,
     "end_time": "2025-08-03T19:38:22.830210",
     "exception": false,
     "start_time": "2025-08-03T19:38:22.818949",
     "status": "completed"
    },
    "tags": []
   },
   "source": [
    "Groups of highly correlated features often yield interesting loadings.\n",
    "\n",
    "### PCA Application - Indicate Outliers ###\n",
    "\n",
    "In Exercise 5, you applied PCA to determine houses that were **outliers**, that is, houses having values not well represented in the rest of the data. You saw that there was a group of houses in the `Edwards` neighborhood having a `SaleCondition` of `Partial` whose values were especially extreme.\n",
    "\n",
    "Some models can benefit from having these outliers indicated, which is what this next transform will do."
   ]
  },
  {
   "cell_type": "code",
   "execution_count": 21,
   "id": "acca8c49",
   "metadata": {
    "execution": {
     "iopub.execute_input": "2025-08-03T19:38:22.855379Z",
     "iopub.status.busy": "2025-08-03T19:38:22.854493Z",
     "iopub.status.idle": "2025-08-03T19:38:22.859479Z",
     "shell.execute_reply": "2025-08-03T19:38:22.858519Z"
    },
    "papermill": {
     "duration": 0.019306,
     "end_time": "2025-08-03T19:38:22.861106",
     "exception": false,
     "start_time": "2025-08-03T19:38:22.841800",
     "status": "completed"
    },
    "tags": []
   },
   "outputs": [],
   "source": [
    "def indicate_outliers(df):\n",
    "    X_new = pd.DataFrame()\n",
    "    X_new[\"Outlier\"] = (df.Neighborhood == \"Edwards\") & (df.SaleCondition == \"Partial\")\n",
    "    return X_new\n"
   ]
  },
  {
   "cell_type": "markdown",
   "id": "1229d8ec",
   "metadata": {
    "papermill": {
     "duration": 0.011259,
     "end_time": "2025-08-03T19:38:22.884068",
     "exception": false,
     "start_time": "2025-08-03T19:38:22.872809",
     "status": "completed"
    },
    "tags": []
   },
   "source": [
    "You could also consider applying some sort of robust scaler from scikit-learn's `sklearn.preprocessing` module to the outlying values, especially those in `GrLivArea`. [Here](https://scikit-learn.org/stable/auto_examples/preprocessing/plot_all_scaling.html) is a tutorial illustrating some of them. Another option could be to create a feature of \"outlier scores\" using one of scikit-learn's [outlier detectors](https://scikit-learn.org/stable/modules/outlier_detection.html)."
   ]
  },
  {
   "cell_type": "markdown",
   "id": "c37e9a35",
   "metadata": {
    "papermill": {
     "duration": 0.011189,
     "end_time": "2025-08-03T19:38:22.906817",
     "exception": false,
     "start_time": "2025-08-03T19:38:22.895628",
     "status": "completed"
    },
    "tags": []
   },
   "source": [
    "## Target Encoding ##\n",
    "\n",
    "Needing a separate holdout set to create a target encoding is rather wasteful of data. In *Tutorial 6* we used 25% of our dataset just to encode a single feature, `Zipcode`. The data from the other features in that 25% we didn't get to use at all.\n",
    "\n",
    "There is, however, a way you can use target encoding without having to use held-out encoding data. It's basically the same trick used in cross-validation:\n",
    "1. Split the data into folds, each fold having two splits of the dataset.\n",
    "2. Train the encoder on one split but transform the values of the other.\n",
    "3. Repeat for all the splits.\n",
    "\n",
    "This way, training and transformation always take place on independent sets of data, just like when you use a holdout set but without any data going to waste.\n",
    "\n",
    "In the next hidden cell is a wrapper you can use with any target encoder:"
   ]
  },
  {
   "cell_type": "code",
   "execution_count": 22,
   "id": "161fbf88",
   "metadata": {
    "_kg_hide-input": true,
    "execution": {
     "iopub.execute_input": "2025-08-03T19:38:22.931638Z",
     "iopub.status.busy": "2025-08-03T19:38:22.931331Z",
     "iopub.status.idle": "2025-08-03T19:38:22.940010Z",
     "shell.execute_reply": "2025-08-03T19:38:22.939074Z"
    },
    "papermill": {
     "duration": 0.022654,
     "end_time": "2025-08-03T19:38:22.941491",
     "exception": false,
     "start_time": "2025-08-03T19:38:22.918837",
     "status": "completed"
    },
    "tags": []
   },
   "outputs": [],
   "source": [
    "\n",
    "class CrossFoldEncoder:\n",
    "    def __init__(self, encoder, **kwargs):\n",
    "        self.encoder_ = encoder\n",
    "        self.kwargs_ = kwargs  # keyword arguments for the encoder\n",
    "        self.cv_ = KFold(n_splits=5)\n",
    "\n",
    "    # Fit an encoder on one split and transform the feature on the\n",
    "    # other. Iterating over the splits in all folds gives a complete\n",
    "    # transformation. We also now have one trained encoder on each\n",
    "    # fold.\n",
    "    def fit_transform(self, X, y, cols):\n",
    "        self.fitted_encoders_ = []\n",
    "        self.cols_ = cols\n",
    "        X_encoded = []\n",
    "        for idx_encode, idx_train in self.cv_.split(X):\n",
    "            fitted_encoder = self.encoder_(cols=cols, **self.kwargs_)\n",
    "            fitted_encoder.fit(\n",
    "                X.iloc[idx_encode, :], y.iloc[idx_encode],\n",
    "            )\n",
    "            X_encoded.append(fitted_encoder.transform(X.iloc[idx_train, :])[cols])\n",
    "            self.fitted_encoders_.append(fitted_encoder)\n",
    "        X_encoded = pd.concat(X_encoded)\n",
    "        X_encoded.columns = [name + \"_encoded\" for name in X_encoded.columns]\n",
    "        return X_encoded\n",
    "\n",
    "    # To transform the test data, average the encodings learned from\n",
    "    # each fold.\n",
    "    def transform(self, X):\n",
    "        from functools import reduce\n",
    "\n",
    "        X_encoded_list = []\n",
    "        for fitted_encoder in self.fitted_encoders_:\n",
    "            X_encoded = fitted_encoder.transform(X)\n",
    "            X_encoded_list.append(X_encoded[self.cols_])\n",
    "        X_encoded = reduce(\n",
    "            lambda x, y: x.add(y, fill_value=0), X_encoded_list\n",
    "        ) / len(X_encoded_list)\n",
    "        X_encoded.columns = [name + \"_encoded\" for name in X_encoded.columns]\n",
    "        return X_encoded\n"
   ]
  },
  {
   "cell_type": "markdown",
   "id": "ace65286",
   "metadata": {
    "papermill": {
     "duration": 0.011939,
     "end_time": "2025-08-03T19:38:22.965266",
     "exception": false,
     "start_time": "2025-08-03T19:38:22.953327",
     "status": "completed"
    },
    "tags": []
   },
   "source": [
    "Use it like:\n",
    "\n",
    "```\n",
    "encoder = CrossFoldEncoder(MEstimateEncoder, m=1)\n",
    "X_encoded = encoder.fit_transform(X, y, cols=[\"MSSubClass\"]))\n",
    "```\n",
    "\n",
    "You can turn any of the encoders from the [`category_encoders`](http://contrib.scikit-learn.org/category_encoders/) library into a cross-fold encoder. The [`CatBoostEncoder`](http://contrib.scikit-learn.org/category_encoders/catboost.html) would be worth trying. It's similar to `MEstimateEncoder` but uses some tricks to better prevent overfitting. Its smoothing parameter is called `a` instead of `m`.\n",
    "\n",
    "## Create Final Feature Set ##\n",
    "\n",
    "Now let's combine everything together. Putting the transformations into separate functions makes it easier to experiment with various combinations. The ones I left uncommented I found gave the best results. You should experiment with you own ideas though! Modify any of these transformations or come up with some of your own to add to the pipeline."
   ]
  },
  {
   "cell_type": "code",
   "execution_count": 23,
   "id": "29537a78",
   "metadata": {
    "execution": {
     "iopub.execute_input": "2025-08-03T19:38:22.989814Z",
     "iopub.status.busy": "2025-08-03T19:38:22.989399Z",
     "iopub.status.idle": "2025-08-03T19:38:27.183992Z",
     "shell.execute_reply": "2025-08-03T19:38:27.183287Z"
    },
    "papermill": {
     "duration": 4.208989,
     "end_time": "2025-08-03T19:38:27.185794",
     "exception": false,
     "start_time": "2025-08-03T19:38:22.976805",
     "status": "completed"
    },
    "tags": []
   },
   "outputs": [
    {
     "data": {
      "text/plain": [
       "0.13694237566469133"
      ]
     },
     "execution_count": 23,
     "metadata": {},
     "output_type": "execute_result"
    }
   ],
   "source": [
    "def create_features(df, df_test=None):\n",
    "    X = df.copy()\n",
    "    y = X.pop(\"SalePrice\")\n",
    "    mi_scores = make_mi_scores(X, y)\n",
    "\n",
    "    # Combine splits if test data is given\n",
    "    #\n",
    "    # If we're creating features for test set predictions, we should\n",
    "    # use all the data we have available. After creating our features,\n",
    "    # we'll recreate the splits.\n",
    "    if df_test is not None:\n",
    "        X_test = df_test.copy()\n",
    "        X_test.pop(\"SalePrice\")\n",
    "        X = pd.concat([X, X_test])\n",
    "\n",
    "    # Lesson 2 - Mutual Information\n",
    "    X = drop_uninformative(X, mi_scores)\n",
    "\n",
    "    # Lesson 3 - Transformations\n",
    "    X = X.join(mathematical_transforms(X))\n",
    "    X = X.join(interactions(X))\n",
    "    X = X.join(counts(X))\n",
    "    # X = X.join(break_down(X))\n",
    "    X = X.join(group_transforms(X))\n",
    "\n",
    "    # Lesson 4 - Clustering\n",
    "    # X = X.join(cluster_labels(X, cluster_features, n_clusters=20))\n",
    "    # X = X.join(cluster_distance(X, cluster_features, n_clusters=20))\n",
    "\n",
    "    # Lesson 5 - PCA\n",
    "    X = X.join(pca_inspired(X))\n",
    "    # X = X.join(pca_components(X, pca_features))\n",
    "    # X = X.join(indicate_outliers(X))\n",
    "\n",
    "    X = label_encode(X)\n",
    "\n",
    "    # Reform splits\n",
    "    if df_test is not None:\n",
    "        X_test = X.loc[df_test.index, :]\n",
    "        X.drop(df_test.index, inplace=True)\n",
    "\n",
    "    # Lesson 6 - Target Encoder\n",
    "    encoder = CrossFoldEncoder(MEstimateEncoder, m=1)\n",
    "    X = X.join(encoder.fit_transform(X, y, cols=[\"MSSubClass\"]))\n",
    "    if df_test is not None:\n",
    "        X_test = X_test.join(encoder.transform(X_test))\n",
    "\n",
    "    if df_test is not None:\n",
    "        return X, X_test\n",
    "    else:\n",
    "        return X\n",
    "\n",
    "\n",
    "df_train, df_test = load_data()\n",
    "X_train = create_features(df_train)\n",
    "y_train = df_train.loc[:, \"SalePrice\"]\n",
    "\n",
    "score_dataset(X_train, y_train)"
   ]
  },
  {
   "cell_type": "markdown",
   "id": "9ce4bf31",
   "metadata": {
    "papermill": {
     "duration": 0.012092,
     "end_time": "2025-08-03T19:38:27.211912",
     "exception": false,
     "start_time": "2025-08-03T19:38:27.199820",
     "status": "completed"
    },
    "tags": []
   },
   "source": [
    "# Step 4 - Hyperparameter Tuning #\n",
    "\n",
    "At this stage, you might like to do some hyperparameter tuning with XGBoost before creating your final submission."
   ]
  },
  {
   "cell_type": "code",
   "execution_count": 24,
   "id": "b37f8a9f",
   "metadata": {
    "execution": {
     "iopub.execute_input": "2025-08-03T19:38:27.237686Z",
     "iopub.status.busy": "2025-08-03T19:38:27.237317Z",
     "iopub.status.idle": "2025-08-03T19:38:42.611096Z",
     "shell.execute_reply": "2025-08-03T19:38:42.610241Z"
    },
    "papermill": {
     "duration": 15.388539,
     "end_time": "2025-08-03T19:38:42.612773",
     "exception": false,
     "start_time": "2025-08-03T19:38:27.224234",
     "status": "completed"
    },
    "tags": []
   },
   "outputs": [
    {
     "data": {
      "text/plain": [
       "0.12491217413174481"
      ]
     },
     "execution_count": 24,
     "metadata": {},
     "output_type": "execute_result"
    }
   ],
   "source": [
    "X_train = create_features(df_train)\n",
    "y_train = df_train.loc[:, \"SalePrice\"]\n",
    "\n",
    "xgb_params = dict(\n",
    "    max_depth=6,           # maximum depth of each tree - try 2 to 10\n",
    "    learning_rate=0.01,    # effect of each tree - try 0.0001 to 0.1\n",
    "    n_estimators=1000,     # number of trees (that is, boosting rounds) - try 1000 to 8000\n",
    "    min_child_weight=1,    # minimum number of houses in a leaf - try 1 to 10\n",
    "    colsample_bytree=0.7,  # fraction of features (columns) per tree - try 0.2 to 1.0\n",
    "    subsample=0.7,         # fraction of instances (rows) per tree - try 0.2 to 1.0\n",
    "    reg_alpha=0.5,         # L1 regularization (like LASSO) - try 0.0 to 10.0\n",
    "    reg_lambda=1.0,        # L2 regularization (like Ridge) - try 0.0 to 10.0\n",
    "    num_parallel_tree=1,   # set > 1 for boosted random forests\n",
    ")\n",
    "\n",
    "xgb = XGBRegressor(**xgb_params)\n",
    "score_dataset(X_train, y_train, xgb)"
   ]
  },
  {
   "cell_type": "markdown",
   "id": "ea9d0bf2",
   "metadata": {
    "papermill": {
     "duration": 0.01189,
     "end_time": "2025-08-03T19:38:42.639148",
     "exception": false,
     "start_time": "2025-08-03T19:38:42.627258",
     "status": "completed"
    },
    "tags": []
   },
   "source": [
    "Just tuning these by hand can give you great results. However, you might like to try using one of scikit-learn's automatic [hyperparameter tuners](https://scikit-learn.org/stable/modules/grid_search.html). Or you could explore more advanced tuning libraries like [Optuna](https://optuna.readthedocs.io/en/stable/index.html) or [scikit-optimize](https://scikit-optimize.github.io/stable/).\n",
    "\n",
    "Here is how you can use Optuna with XGBoost:\n",
    "\n",
    "```\n",
    "import optuna\n",
    "\n",
    "def objective(trial):\n",
    "    xgb_params = dict(\n",
    "        max_depth=trial.suggest_int(\"max_depth\", 2, 10),\n",
    "        learning_rate=trial.suggest_float(\"learning_rate\", 1e-4, 1e-1, log=True),\n",
    "        n_estimators=trial.suggest_int(\"n_estimators\", 1000, 8000),\n",
    "        min_child_weight=trial.suggest_int(\"min_child_weight\", 1, 10),\n",
    "        colsample_bytree=trial.suggest_float(\"colsample_bytree\", 0.2, 1.0),\n",
    "        subsample=trial.suggest_float(\"subsample\", 0.2, 1.0),\n",
    "        reg_alpha=trial.suggest_float(\"reg_alpha\", 1e-4, 1e2, log=True),\n",
    "        reg_lambda=trial.suggest_float(\"reg_lambda\", 1e-4, 1e2, log=True),\n",
    "    )\n",
    "    xgb = XGBRegressor(**xgb_params)\n",
    "    return score_dataset(X_train, y_train, xgb)\n",
    "\n",
    "study = optuna.create_study(direction=\"minimize\")\n",
    "study.optimize(objective, n_trials=20)\n",
    "xgb_params = study.best_params\n",
    "```\n",
    "\n",
    "Copy this into a code cell if you'd like to use it, but be aware that it will take quite a while to run. After it's done, you might enjoy using some of [Optuna's visualizations](https://optuna.readthedocs.io/en/stable/tutorial/10_key_features/005_visualization.html)."
   ]
  },
  {
   "cell_type": "code",
   "execution_count": 25,
   "id": "6017379d",
   "metadata": {
    "execution": {
     "iopub.execute_input": "2025-08-03T19:38:42.664560Z",
     "iopub.status.busy": "2025-08-03T19:38:42.664196Z",
     "iopub.status.idle": "2025-08-03T19:52:53.065474Z",
     "shell.execute_reply": "2025-08-03T19:52:53.064630Z"
    },
    "papermill": {
     "duration": 850.427779,
     "end_time": "2025-08-03T19:52:53.078948",
     "exception": false,
     "start_time": "2025-08-03T19:38:42.651169",
     "status": "completed"
    },
    "tags": []
   },
   "outputs": [
    {
     "name": "stderr",
     "output_type": "stream",
     "text": [
      "[I 2025-08-03 19:38:42,985] A new study created in memory with name: no-name-cc10ab6c-ab49-442f-8b1a-61bab900af36\n",
      "[I 2025-08-03 19:39:02,101] Trial 0 finished with value: 0.1205811523404994 and parameters: {'max_depth': 9, 'learning_rate': 0.0045828057097418926, 'n_estimators': 1364, 'min_child_weight': 5, 'colsample_bytree': 0.38923675027035864, 'subsample': 0.5925132891154723, 'reg_alpha': 0.002572361076970317, 'reg_lambda': 0.010876249152702222}. Best is trial 0 with value: 0.1205811523404994.\n",
      "[I 2025-08-03 19:39:14,474] Trial 1 finished with value: 0.32464992919835634 and parameters: {'max_depth': 5, 'learning_rate': 0.04862512982966733, 'n_estimators': 5497, 'min_child_weight': 1, 'colsample_bytree': 0.5450539558665609, 'subsample': 0.7689014050507033, 'reg_alpha': 90.28368887727434, 'reg_lambda': 0.0003012400281159514}. Best is trial 0 with value: 0.1205811523404994.\n",
      "[I 2025-08-03 19:43:08,297] Trial 2 finished with value: 0.12254714401690864 and parameters: {'max_depth': 10, 'learning_rate': 0.002916495600729201, 'n_estimators': 4949, 'min_child_weight': 1, 'colsample_bytree': 0.8974193842746832, 'subsample': 0.5513261982555326, 'reg_alpha': 0.002650583757067085, 'reg_lambda': 0.0021867754718727112}. Best is trial 0 with value: 0.1205811523404994.\n",
      "[I 2025-08-03 19:43:18,846] Trial 3 finished with value: 0.15399485423210285 and parameters: {'max_depth': 3, 'learning_rate': 0.0025328311631810044, 'n_estimators': 2028, 'min_child_weight': 7, 'colsample_bytree': 0.9193546846307152, 'subsample': 0.6830705639780106, 'reg_alpha': 5.0800767584177615, 'reg_lambda': 0.0566282817423445}. Best is trial 0 with value: 0.1205811523404994.\n",
      "[I 2025-08-03 19:43:46,597] Trial 4 finished with value: 0.123757398068088 and parameters: {'max_depth': 6, 'learning_rate': 0.0076256607032430725, 'n_estimators': 3468, 'min_child_weight': 9, 'colsample_bytree': 0.6725114011550211, 'subsample': 0.5315434334868887, 'reg_alpha': 1.1690610428560688, 'reg_lambda': 0.004464945026464071}. Best is trial 0 with value: 0.1205811523404994.\n",
      "[I 2025-08-03 19:43:54,208] Trial 5 finished with value: 0.15147409286638783 and parameters: {'max_depth': 2, 'learning_rate': 0.04662926196303939, 'n_estimators': 3307, 'min_child_weight': 8, 'colsample_bytree': 0.30318843345327456, 'subsample': 0.6874513405641727, 'reg_alpha': 9.558921431431699, 'reg_lambda': 0.0023129988701398626}. Best is trial 0 with value: 0.1205811523404994.\n",
      "[I 2025-08-03 19:45:17,370] Trial 6 finished with value: 0.12637002802688707 and parameters: {'max_depth': 8, 'learning_rate': 0.010272222178801959, 'n_estimators': 6209, 'min_child_weight': 9, 'colsample_bytree': 0.6123093874326857, 'subsample': 0.9352627485647991, 'reg_alpha': 0.018435149795659, 'reg_lambda': 88.47079288475273}. Best is trial 0 with value: 0.1205811523404994.\n",
      "[I 2025-08-03 19:45:47,252] Trial 7 finished with value: 0.12216993055043267 and parameters: {'max_depth': 3, 'learning_rate': 0.0013821307552943642, 'n_estimators': 6383, 'min_child_weight': 4, 'colsample_bytree': 0.675442209480936, 'subsample': 0.3922494168275865, 'reg_alpha': 0.0077733368204352185, 'reg_lambda': 1.309693915473338}. Best is trial 0 with value: 0.1205811523404994.\n",
      "[I 2025-08-03 19:46:33,272] Trial 8 finished with value: 0.34745864802864346 and parameters: {'max_depth': 9, 'learning_rate': 0.00015390564695673972, 'n_estimators': 1228, 'min_child_weight': 1, 'colsample_bytree': 0.5539471334231003, 'subsample': 0.8146468574875745, 'reg_alpha': 0.0008697702949742017, 'reg_lambda': 0.9993511299771067}. Best is trial 0 with value: 0.1205811523404994.\n",
      "[I 2025-08-03 19:47:27,719] Trial 9 finished with value: 0.12445434147270285 and parameters: {'max_depth': 10, 'learning_rate': 0.000726184686016651, 'n_estimators': 6924, 'min_child_weight': 10, 'colsample_bytree': 0.3437891524363307, 'subsample': 0.2618179503447447, 'reg_alpha': 0.004968836616133507, 'reg_lambda': 0.005574323775185103}. Best is trial 0 with value: 0.1205811523404994.\n",
      "[I 2025-08-03 19:48:57,221] Trial 10 finished with value: 0.13505088395432183 and parameters: {'max_depth': 7, 'learning_rate': 0.0003182188347743661, 'n_estimators': 7903, 'min_child_weight': 4, 'colsample_bytree': 0.4085638434109385, 'subsample': 0.41708938147362834, 'reg_alpha': 0.0001014700983335729, 'reg_lambda': 0.12204428976205017}. Best is trial 0 with value: 0.1205811523404994.\n",
      "[I 2025-08-03 19:49:14,018] Trial 11 finished with value: 0.14178543819671324 and parameters: {'max_depth': 4, 'learning_rate': 0.0009042016059397953, 'n_estimators': 3665, 'min_child_weight': 4, 'colsample_bytree': 0.2032027075654953, 'subsample': 0.3665296400678465, 'reg_alpha': 0.08217581319687335, 'reg_lambda': 2.128722095286155}. Best is trial 0 with value: 0.1205811523404994.\n",
      "[I 2025-08-03 19:49:36,410] Trial 12 finished with value: 0.12108510574076453 and parameters: {'max_depth': 6, 'learning_rate': 0.01204229473052838, 'n_estimators': 2271, 'min_child_weight': 5, 'colsample_bytree': 0.7525711853892845, 'subsample': 0.4200474094724132, 'reg_alpha': 0.0002698707338261192, 'reg_lambda': 6.20851526118479}. Best is trial 0 with value: 0.1205811523404994.\n",
      "[I 2025-08-03 19:49:49,215] Trial 13 finished with value: 0.1333455870431597 and parameters: {'max_depth': 7, 'learning_rate': 0.011703960160168895, 'n_estimators': 1051, 'min_child_weight': 6, 'colsample_bytree': 0.7984858682745498, 'subsample': 0.5089099386298528, 'reg_alpha': 0.00017249832221329515, 'reg_lambda': 71.28780560929303}. Best is trial 0 with value: 0.1205811523404994.\n",
      "[I 2025-08-03 19:50:06,534] Trial 14 finished with value: 0.12209032076167857 and parameters: {'max_depth': 6, 'learning_rate': 0.022474342655674193, 'n_estimators': 2442, 'min_child_weight': 5, 'colsample_bytree': 0.4652983381508173, 'subsample': 0.23182686757865578, 'reg_alpha': 0.0006896651776966802, 'reg_lambda': 14.53066239100023}. Best is trial 0 with value: 0.1205811523404994.\n",
      "[I 2025-08-03 19:50:24,585] Trial 15 finished with value: 0.12608681651398315 and parameters: {'max_depth': 8, 'learning_rate': 0.09614560271846537, 'n_estimators': 2254, 'min_child_weight': 3, 'colsample_bytree': 0.779116239752536, 'subsample': 0.6474395168032341, 'reg_alpha': 0.08822576699918835, 'reg_lambda': 0.06486458394857518}. Best is trial 0 with value: 0.1205811523404994.\n",
      "[I 2025-08-03 19:51:00,859] Trial 16 finished with value: 0.11885577939032589 and parameters: {'max_depth': 5, 'learning_rate': 0.006860980927384072, 'n_estimators': 4235, 'min_child_weight': 6, 'colsample_bytree': 0.9855851716408515, 'subsample': 0.46073012855364337, 'reg_alpha': 0.0005818299787713311, 'reg_lambda': 0.00014416404159240772}. Best is trial 16 with value: 0.11885577939032589.\n",
      "[I 2025-08-03 19:51:40,212] Trial 17 finished with value: 0.11898665534928528 and parameters: {'max_depth': 5, 'learning_rate': 0.00545371837716131, 'n_estimators': 4625, 'min_child_weight': 7, 'colsample_bytree': 0.9949282737853388, 'subsample': 0.48541151621001805, 'reg_alpha': 0.018203606086105502, 'reg_lambda': 0.00010792008800328966}. Best is trial 16 with value: 0.11885577939032589.\n",
      "[I 2025-08-03 19:52:08,615] Trial 18 finished with value: 0.12086686219236914 and parameters: {'max_depth': 4, 'learning_rate': 0.004957732401590613, 'n_estimators': 4254, 'min_child_weight': 7, 'colsample_bytree': 0.9947703596800599, 'subsample': 0.3050782369849987, 'reg_alpha': 0.49222363918160633, 'reg_lambda': 0.00010816058806988727}. Best is trial 16 with value: 0.11885577939032589.\n",
      "[I 2025-08-03 19:52:53,057] Trial 19 finished with value: 0.12197011983897256 and parameters: {'max_depth': 5, 'learning_rate': 0.023739300614725962, 'n_estimators': 4675, 'min_child_weight': 6, 'colsample_bytree': 0.9998972007391949, 'subsample': 0.48165696852282824, 'reg_alpha': 0.02219195617731896, 'reg_lambda': 0.0004551897184501691}. Best is trial 16 with value: 0.11885577939032589.\n"
     ]
    }
   ],
   "source": [
    "import optuna\n",
    "\n",
    "def objective(trial):\n",
    "    xgb_params = dict(\n",
    "        max_depth=trial.suggest_int(\"max_depth\", 2, 10),\n",
    "        learning_rate=trial.suggest_float(\"learning_rate\", 1e-4, 1e-1, log=True),\n",
    "        n_estimators=trial.suggest_int(\"n_estimators\", 1000, 8000),\n",
    "        min_child_weight=trial.suggest_int(\"min_child_weight\", 1, 10),\n",
    "        colsample_bytree=trial.suggest_float(\"colsample_bytree\", 0.2, 1.0),\n",
    "        subsample=trial.suggest_float(\"subsample\", 0.2, 1.0),\n",
    "        reg_alpha=trial.suggest_float(\"reg_alpha\", 1e-4, 1e2, log=True),\n",
    "        reg_lambda=trial.suggest_float(\"reg_lambda\", 1e-4, 1e2, log=True),\n",
    "    )\n",
    "    xgb = XGBRegressor(**xgb_params)\n",
    "    return score_dataset(X_train, y_train, xgb)\n",
    "\n",
    "study = optuna.create_study(direction=\"minimize\")\n",
    "study.optimize(objective, n_trials=20)\n",
    "xgb_params = study.best_params"
   ]
  },
  {
   "cell_type": "markdown",
   "id": "04161f75",
   "metadata": {
    "papermill": {
     "duration": 0.012343,
     "end_time": "2025-08-03T19:52:53.104549",
     "exception": false,
     "start_time": "2025-08-03T19:52:53.092206",
     "status": "completed"
    },
    "tags": []
   },
   "source": [
    "# Step 5 - Train Model and Create Submissions #\n",
    "\n",
    "Once you're satisfied with everything, it's time to create your final predictions! This cell will:\n",
    "- create your feature set from the original data\n",
    "- train XGBoost on the training data\n",
    "- use the trained model to make predictions from the test set\n",
    "- save the predictions to a CSV file"
   ]
  },
  {
   "cell_type": "code",
   "execution_count": 26,
   "id": "e0b9353b",
   "metadata": {
    "execution": {
     "iopub.execute_input": "2025-08-03T19:52:53.131360Z",
     "iopub.status.busy": "2025-08-03T19:52:53.131031Z",
     "iopub.status.idle": "2025-08-03T19:53:03.223276Z",
     "shell.execute_reply": "2025-08-03T19:53:03.222552Z"
    },
    "papermill": {
     "duration": 10.108065,
     "end_time": "2025-08-03T19:53:03.225361",
     "exception": false,
     "start_time": "2025-08-03T19:52:53.117296",
     "status": "completed"
    },
    "tags": []
   },
   "outputs": [
    {
     "name": "stdout",
     "output_type": "stream",
     "text": [
      "Your submission was successfully saved!\n"
     ]
    }
   ],
   "source": [
    "X_train, X_test = create_features(df_train, df_test)\n",
    "y_train = df_train.loc[:, \"SalePrice\"]\n",
    "\n",
    "xgb = XGBRegressor(**xgb_params)\n",
    "# XGB minimizes MSE, but competition loss is RMSLE\n",
    "# So, we need to log-transform y to train and exp-transform the predictions\n",
    "xgb.fit(X_train, np.log(y))\n",
    "predictions = np.exp(xgb.predict(X_test))\n",
    "\n",
    "output = pd.DataFrame({'Id': X_test.index, 'SalePrice': predictions})\n",
    "output.to_csv('my_submission.csv', index=False)\n",
    "print(\"Your submission was successfully saved!\")"
   ]
  },
  {
   "cell_type": "markdown",
   "id": "f474be28",
   "metadata": {
    "papermill": {
     "duration": 0.013115,
     "end_time": "2025-08-03T19:53:03.251386",
     "exception": false,
     "start_time": "2025-08-03T19:53:03.238271",
     "status": "completed"
    },
    "tags": []
   },
   "source": [
    "To submit these predictions to the competition, follow these steps:\n",
    "\n",
    "1. Begin by clicking on the blue **Save Version** button in the top right corner of the window.  This will generate a pop-up window.\n",
    "2. Ensure that the **Save and Run All** option is selected, and then click on the blue **Save** button.\n",
    "3. This generates a window in the bottom left corner of the notebook.  After it has finished running, click on the number to the right of the **Save Version** button.  This pulls up a list of versions on the right of the screen.  Click on the ellipsis **(...)** to the right of the most recent version, and select **Open in Viewer**.  This brings you into view mode of the same page. You will need to scroll down to get back to these instructions.\n",
    "4. Click on the **Output** tab on the right of the screen.  Then, click on the file you would like to submit, and click on the blue **Submit** button to submit your results to the leaderboard.\n",
    "\n",
    "You have now successfully submitted to the competition!\n",
    "\n",
    "# Next Steps #\n",
    "\n",
    "If you want to keep working to improve your performance, select the blue **Edit** button in the top right of the screen. Then you can change your code and repeat the process. There's a lot of room to improve, and you will climb up the leaderboard as you work.\n",
    "\n",
    "Be sure to check out [other users' notebooks](https://www.kaggle.com/c/house-prices-advanced-regression-techniques/notebooks) in this competition. You'll find lots of great ideas for new features and as well as other ways to discover more things about the dataset or make better predictions. There's also the [discussion forum](https://www.kaggle.com/c/house-prices-advanced-regression-techniques/discussion), where you can share ideas with other Kagglers.\n",
    "\n",
    "Have fun Kaggling!"
   ]
  },
  {
   "cell_type": "markdown",
   "id": "682318b5",
   "metadata": {
    "papermill": {
     "duration": 0.012754,
     "end_time": "2025-08-03T19:53:03.276925",
     "exception": false,
     "start_time": "2025-08-03T19:53:03.264171",
     "status": "completed"
    },
    "tags": []
   },
   "source": [
    "---\n",
    "\n",
    "\n",
    "\n",
    "\n",
    "*Have questions or comments? Visit the [course discussion forum](https://www.kaggle.com/learn/feature-engineering/discussion) to chat with other learners.*"
   ]
  }
 ],
 "metadata": {
  "jupytext": {
   "cell_metadata_filter": "-all",
   "formats": "ipynb"
  },
  "kaggle": {
   "accelerator": "none",
   "dataSources": [
    {
     "databundleVersionId": 868283,
     "sourceId": 5407,
     "sourceType": "competition"
    }
   ],
   "isGpuEnabled": false,
   "isInternetEnabled": false,
   "language": "python",
   "sourceType": "notebook"
  },
  "kernelspec": {
   "display_name": "Python 3",
   "language": "python",
   "name": "python3"
  },
  "language_info": {
   "codemirror_mode": {
    "name": "ipython",
    "version": 3
   },
   "file_extension": ".py",
   "mimetype": "text/x-python",
   "name": "python",
   "nbconvert_exporter": "python",
   "pygments_lexer": "ipython3",
   "version": "3.11.13"
  },
  "papermill": {
   "default_parameters": {},
   "duration": 899.613356,
   "end_time": "2025-08-03T19:53:04.111989",
   "environment_variables": {},
   "exception": null,
   "input_path": "__notebook__.ipynb",
   "output_path": "__notebook__.ipynb",
   "parameters": {},
   "start_time": "2025-08-03T19:38:04.498633",
   "version": "2.6.0"
  }
 },
 "nbformat": 4,
 "nbformat_minor": 5
}
