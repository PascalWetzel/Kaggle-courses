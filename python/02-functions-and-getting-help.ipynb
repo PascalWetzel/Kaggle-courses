{
 "cells": [
  {
   "cell_type": "markdown",
   "id": "fb18bb52",
   "metadata": {
    "papermill": {
     "duration": 0.005233,
     "end_time": "2025-06-11T16:15:17.000263",
     "exception": false,
     "start_time": "2025-06-11T16:15:16.995030",
     "status": "completed"
    },
    "tags": []
   },
   "source": [
    "**This notebook is an exercise in the [Python](https://www.kaggle.com/learn/python) course.  You can reference the tutorial at [this link](https://www.kaggle.com/colinmorris/functions-and-getting-help).**\n",
    "\n",
    "---\n"
   ]
  },
  {
   "cell_type": "markdown",
   "id": "ba4ac65f",
   "metadata": {
    "papermill": {
     "duration": 0.003672,
     "end_time": "2025-06-11T16:15:17.009352",
     "exception": false,
     "start_time": "2025-06-11T16:15:17.005680",
     "status": "completed"
    },
    "tags": []
   },
   "source": [
    "Functions are powerful. Try writing some yourself.\n",
    "\n",
    "As before, don't forget to run the setup code below before jumping into question 1."
   ]
  },
  {
   "cell_type": "code",
   "execution_count": 1,
   "id": "2099fde3",
   "metadata": {
    "_kg_hide-input": true,
    "_kg_hide-output": true,
    "execution": {
     "iopub.execute_input": "2025-06-11T16:15:17.018842Z",
     "iopub.status.busy": "2025-06-11T16:15:17.018421Z",
     "iopub.status.idle": "2025-06-11T16:15:19.521767Z",
     "shell.execute_reply": "2025-06-11T16:15:19.520320Z"
    },
    "papermill": {
     "duration": 2.510576,
     "end_time": "2025-06-11T16:15:19.524198",
     "exception": false,
     "start_time": "2025-06-11T16:15:17.013622",
     "status": "completed"
    },
    "tags": []
   },
   "outputs": [
    {
     "name": "stdout",
     "output_type": "stream",
     "text": [
      "Setup complete.\n"
     ]
    }
   ],
   "source": [
    "# SETUP. You don't need to worry for now about what this code does or how it works.\n",
    "from learntools.core import binder; binder.bind(globals())\n",
    "from learntools.python.ex2 import *\n",
    "print('Setup complete.')"
   ]
  },
  {
   "cell_type": "markdown",
   "id": "cb39a134",
   "metadata": {
    "papermill": {
     "duration": 0.003744,
     "end_time": "2025-06-11T16:15:19.532574",
     "exception": false,
     "start_time": "2025-06-11T16:15:19.528830",
     "status": "completed"
    },
    "tags": []
   },
   "source": [
    "# 1.\n",
    "\n",
    "Complete the body of the following function according to its docstring.\n",
    "\n",
    "HINT: Python has a built-in function `round`."
   ]
  },
  {
   "cell_type": "code",
   "execution_count": 2,
   "id": "7f072fb9",
   "metadata": {
    "execution": {
     "iopub.execute_input": "2025-06-11T16:15:19.541517Z",
     "iopub.status.busy": "2025-06-11T16:15:19.541033Z",
     "iopub.status.idle": "2025-06-11T16:15:19.551378Z",
     "shell.execute_reply": "2025-06-11T16:15:19.550231Z"
    },
    "papermill": {
     "duration": 0.01703,
     "end_time": "2025-06-11T16:15:19.553263",
     "exception": false,
     "start_time": "2025-06-11T16:15:19.536233",
     "status": "completed"
    },
    "tags": []
   },
   "outputs": [
    {
     "data": {
      "application/javascript": [
       "parent.postMessage({\"jupyterEvent\": \"custom.exercise_interaction\", \"data\": {\"outcomeType\": 1, \"valueTowardsCompletion\": 0.16666666666666666, \"interactionType\": 1, \"questionType\": 2, \"questionId\": \"1_RoundFunctionProblem\", \"learnToolsVersion\": \"0.3.5\", \"failureMessage\": \"\", \"exceptionClass\": \"\", \"trace\": \"\"}}, \"*\")"
      ],
      "text/plain": [
       "<IPython.core.display.Javascript object>"
      ]
     },
     "metadata": {},
     "output_type": "display_data"
    },
    {
     "data": {
      "text/markdown": [
       "<span style=\"color:#33cc33\">Correct</span>"
      ],
      "text/plain": [
       "Correct"
      ]
     },
     "metadata": {},
     "output_type": "display_data"
    }
   ],
   "source": [
    "def round_to_two_places(num):\n",
    "    \"\"\"Return the given number rounded to two decimal places. \n",
    "    \n",
    "    >>> round_to_two_places(3.14159)\n",
    "    3.14\n",
    "    \"\"\"\n",
    "    # Replace this body with your own code.\n",
    "    # (\"pass\" is a keyword that does literally nothing. We used it as a placeholder\n",
    "    # because after we begin a code block, Python requires at least one line of code)\n",
    "    pass\n",
    "    return round(num, 2)\n",
    "\n",
    "# Check your answer\n",
    "q1.check()"
   ]
  },
  {
   "cell_type": "code",
   "execution_count": 3,
   "id": "5200dcc7",
   "metadata": {
    "execution": {
     "iopub.execute_input": "2025-06-11T16:15:19.564640Z",
     "iopub.status.busy": "2025-06-11T16:15:19.563258Z",
     "iopub.status.idle": "2025-06-11T16:15:19.575255Z",
     "shell.execute_reply": "2025-06-11T16:15:19.574225Z"
    },
    "papermill": {
     "duration": 0.019744,
     "end_time": "2025-06-11T16:15:19.577122",
     "exception": false,
     "start_time": "2025-06-11T16:15:19.557378",
     "status": "completed"
    },
    "tags": []
   },
   "outputs": [
    {
     "data": {
      "application/javascript": [
       "parent.postMessage({\"jupyterEvent\": \"custom.exercise_interaction\", \"data\": {\"interactionType\": 2, \"questionType\": 2, \"questionId\": \"1_RoundFunctionProblem\", \"learnToolsVersion\": \"0.3.5\", \"valueTowardsCompletion\": 0.0, \"failureMessage\": \"\", \"exceptionClass\": \"\", \"trace\": \"\", \"outcomeType\": 4}}, \"*\")"
      ],
      "text/plain": [
       "<IPython.core.display.Javascript object>"
      ]
     },
     "metadata": {},
     "output_type": "display_data"
    },
    {
     "data": {
      "text/markdown": [
       "<span style=\"color:#3366cc\">Hint:</span> Run `help(round)` in the console (or in a code cell) to learn more about the round function. You'll need to use the function's optional second argument."
      ],
      "text/plain": [
       "Hint: Run `help(round)` in the console (or in a code cell) to learn more about the round function. You'll need to use the function's optional second argument."
      ]
     },
     "metadata": {},
     "output_type": "display_data"
    },
    {
     "data": {
      "application/javascript": [
       "parent.postMessage({\"jupyterEvent\": \"custom.exercise_interaction\", \"data\": {\"interactionType\": 3, \"questionType\": 2, \"questionId\": \"1_RoundFunctionProblem\", \"learnToolsVersion\": \"0.3.5\", \"valueTowardsCompletion\": 0.0, \"failureMessage\": \"\", \"exceptionClass\": \"\", \"trace\": \"\", \"outcomeType\": 4}}, \"*\")"
      ],
      "text/plain": [
       "<IPython.core.display.Javascript object>"
      ]
     },
     "metadata": {},
     "output_type": "display_data"
    },
    {
     "data": {
      "text/markdown": [
       "<span style=\"color:#33cc99\">Solution:</span> \n",
       "```python\n",
       "return round(num, 2)\n",
       "```"
      ],
      "text/plain": [
       "Solution: \n",
       "```python\n",
       "return round(num, 2)\n",
       "```"
      ]
     },
     "metadata": {},
     "output_type": "display_data"
    }
   ],
   "source": [
    "# Uncomment the following for a hint\n",
    "q1.hint()\n",
    "# Or uncomment the following to peek at the solution\n",
    "q1.solution()"
   ]
  },
  {
   "cell_type": "markdown",
   "id": "05acdfe1",
   "metadata": {
    "papermill": {
     "duration": 0.003944,
     "end_time": "2025-06-11T16:15:19.585501",
     "exception": false,
     "start_time": "2025-06-11T16:15:19.581557",
     "status": "completed"
    },
    "tags": []
   },
   "source": [
    "# 2.\n",
    "The help for `round` says that `ndigits` (the second argument) may be negative.\n",
    "What do you think will happen when it is? Try some examples in the following cell."
   ]
  },
  {
   "cell_type": "code",
   "execution_count": 4,
   "id": "0028fda4",
   "metadata": {
    "execution": {
     "iopub.execute_input": "2025-06-11T16:15:19.595750Z",
     "iopub.status.busy": "2025-06-11T16:15:19.595419Z",
     "iopub.status.idle": "2025-06-11T16:15:19.601591Z",
     "shell.execute_reply": "2025-06-11T16:15:19.599773Z"
    },
    "papermill": {
     "duration": 0.013534,
     "end_time": "2025-06-11T16:15:19.603580",
     "exception": false,
     "start_time": "2025-06-11T16:15:19.590046",
     "status": "completed"
    },
    "tags": []
   },
   "outputs": [
    {
     "name": "stdout",
     "output_type": "stream",
     "text": [
      "100.0\n",
      "0.0\n",
      "-120.0\n"
     ]
    }
   ],
   "source": [
    "# Put your test code here\n",
    "print(round(123.589, -2))\n",
    "print(round(123.89887, -3))\n",
    "print(round(-123.76543, -1))"
   ]
  },
  {
   "cell_type": "markdown",
   "id": "7c14fdff",
   "metadata": {
    "papermill": {
     "duration": 0.003913,
     "end_time": "2025-06-11T16:15:19.611761",
     "exception": false,
     "start_time": "2025-06-11T16:15:19.607848",
     "status": "completed"
    },
    "tags": []
   },
   "source": [
    "Can you think of a case where this would be useful?  Once you're ready, run the code cell below to see the answer and to receive credit for completing the problem."
   ]
  },
  {
   "cell_type": "code",
   "execution_count": 5,
   "id": "81dffeeb",
   "metadata": {
    "execution": {
     "iopub.execute_input": "2025-06-11T16:15:19.621598Z",
     "iopub.status.busy": "2025-06-11T16:15:19.621182Z",
     "iopub.status.idle": "2025-06-11T16:15:19.629910Z",
     "shell.execute_reply": "2025-06-11T16:15:19.628924Z"
    },
    "papermill": {
     "duration": 0.015538,
     "end_time": "2025-06-11T16:15:19.631449",
     "exception": false,
     "start_time": "2025-06-11T16:15:19.615911",
     "status": "completed"
    },
    "tags": []
   },
   "outputs": [
    {
     "data": {
      "application/javascript": [
       "parent.postMessage({\"jupyterEvent\": \"custom.exercise_interaction\", \"data\": {\"interactionType\": 3, \"questionType\": 4, \"questionId\": \"2_RoundNdigitsProblem\", \"learnToolsVersion\": \"0.3.5\", \"valueTowardsCompletion\": 0.0, \"failureMessage\": \"\", \"exceptionClass\": \"\", \"trace\": \"\", \"outcomeType\": 4}}, \"*\")"
      ],
      "text/plain": [
       "<IPython.core.display.Javascript object>"
      ]
     },
     "metadata": {},
     "output_type": "display_data"
    },
    {
     "data": {
      "text/markdown": [
       "<span style=\"color:#33cc99\">Solution:</span> As you've seen, `ndigits=-1` rounds to the nearest 10, `ndigits=-2` rounds to the nearest 100 and so on. Where might this be useful? Suppose we're dealing with large numbers:\n",
       "\n",
       "> The area of Finland is 338,424 km²  \n",
       "> The area of Greenland is 2,166,086 km²\n",
       "\n",
       "We probably don't care whether it's really 338,424, or 338,425, or 338,177. All those digits of accuracy are just distracting. We can chop them off by calling `round()` with `ndigits=-3`:\n",
       "\n",
       "> The area of Finland is 338,000 km²  \n",
       "> The area of Greenland is 2,166,000 km²\n",
       "\n",
       "(We'll talk about how we would get the commas later when we talk about string formatting :))\n"
      ],
      "text/plain": [
       "Solution: As you've seen, `ndigits=-1` rounds to the nearest 10, `ndigits=-2` rounds to the nearest 100 and so on. Where might this be useful? Suppose we're dealing with large numbers:\n",
       "\n",
       "> The area of Finland is 338,424 km²  \n",
       "> The area of Greenland is 2,166,086 km²\n",
       "\n",
       "We probably don't care whether it's really 338,424, or 338,425, or 338,177. All those digits of accuracy are just distracting. We can chop them off by calling `round()` with `ndigits=-3`:\n",
       "\n",
       "> The area of Finland is 338,000 km²  \n",
       "> The area of Greenland is 2,166,000 km²\n",
       "\n",
       "(We'll talk about how we would get the commas later when we talk about string formatting :))"
      ]
     },
     "metadata": {},
     "output_type": "display_data"
    }
   ],
   "source": [
    "# Check your answer (Run this code cell to receive credit!)\n",
    "q2.solution()"
   ]
  },
  {
   "cell_type": "markdown",
   "id": "8085be97",
   "metadata": {
    "papermill": {
     "duration": 0.004142,
     "end_time": "2025-06-11T16:15:19.640251",
     "exception": false,
     "start_time": "2025-06-11T16:15:19.636109",
     "status": "completed"
    },
    "tags": []
   },
   "source": [
    "# 3.\n",
    "\n",
    "In the previous exercise, the candy-sharing friends Alice, Bob and Carol tried to split candies evenly. For the sake of their friendship, any candies left over would be smashed. For example, if they collectively bring home 91 candies, they'll take 30 each and smash 1.\n",
    "\n",
    "Below is a simple function that will calculate the number of candies to smash for *any* number of total candies.\n",
    "\n",
    "Modify it so that it optionally takes a second argument representing the number of friends the candies are being split between. If no second argument is provided, it should assume 3 friends, as before.\n",
    "\n",
    "Update the docstring to reflect this new behaviour."
   ]
  },
  {
   "cell_type": "code",
   "execution_count": 6,
   "id": "4d530095",
   "metadata": {
    "execution": {
     "iopub.execute_input": "2025-06-11T16:15:19.650652Z",
     "iopub.status.busy": "2025-06-11T16:15:19.650280Z",
     "iopub.status.idle": "2025-06-11T16:15:19.660428Z",
     "shell.execute_reply": "2025-06-11T16:15:19.659320Z"
    },
    "papermill": {
     "duration": 0.017741,
     "end_time": "2025-06-11T16:15:19.662441",
     "exception": false,
     "start_time": "2025-06-11T16:15:19.644700",
     "status": "completed"
    },
    "tags": []
   },
   "outputs": [
    {
     "data": {
      "application/javascript": [
       "parent.postMessage({\"jupyterEvent\": \"custom.exercise_interaction\", \"data\": {\"outcomeType\": 1, \"valueTowardsCompletion\": 0.16666666666666666, \"interactionType\": 1, \"questionType\": 2, \"questionId\": \"3_CandySmashingFunctionProblem\", \"learnToolsVersion\": \"0.3.5\", \"failureMessage\": \"\", \"exceptionClass\": \"\", \"trace\": \"\"}}, \"*\")"
      ],
      "text/plain": [
       "<IPython.core.display.Javascript object>"
      ]
     },
     "metadata": {},
     "output_type": "display_data"
    },
    {
     "data": {
      "text/markdown": [
       "<span style=\"color:#33cc33\">Correct</span>"
      ],
      "text/plain": [
       "Correct"
      ]
     },
     "metadata": {},
     "output_type": "display_data"
    }
   ],
   "source": [
    "def to_smash(total_candies, num_friends=3):\n",
    "    \"\"\"Return the number of leftover candies that must be smashed after distributing\n",
    "    the given number of candies evenly between <num_friends> friends.\n",
    "    Optional keyword arguments:\n",
    "    num_friends:  number of friends the candies are being split between; default 3.\n",
    "    \n",
    "    >>> to_smash(91,4)\n",
    "    3\n",
    "    \"\"\"\n",
    "    return total_candies % num_friends\n",
    "\n",
    "# Check your answer\n",
    "q3.check()"
   ]
  },
  {
   "cell_type": "code",
   "execution_count": 7,
   "id": "c8a2dd80",
   "metadata": {
    "execution": {
     "iopub.execute_input": "2025-06-11T16:15:19.673387Z",
     "iopub.status.busy": "2025-06-11T16:15:19.673085Z",
     "iopub.status.idle": "2025-06-11T16:15:19.680911Z",
     "shell.execute_reply": "2025-06-11T16:15:19.679886Z"
    },
    "papermill": {
     "duration": 0.01511,
     "end_time": "2025-06-11T16:15:19.682323",
     "exception": false,
     "start_time": "2025-06-11T16:15:19.667213",
     "status": "completed"
    },
    "tags": []
   },
   "outputs": [
    {
     "data": {
      "application/javascript": [
       "parent.postMessage({\"jupyterEvent\": \"custom.exercise_interaction\", \"data\": {\"interactionType\": 2, \"questionType\": 2, \"questionId\": \"3_CandySmashingFunctionProblem\", \"learnToolsVersion\": \"0.3.5\", \"valueTowardsCompletion\": 0.0, \"failureMessage\": \"\", \"exceptionClass\": \"\", \"trace\": \"\", \"outcomeType\": 4}}, \"*\")"
      ],
      "text/plain": [
       "<IPython.core.display.Javascript object>"
      ]
     },
     "metadata": {},
     "output_type": "display_data"
    },
    {
     "data": {
      "text/markdown": [
       "<span style=\"color:#3366cc\">Hint:</span> Refer to the section of the last tutorial notebook where we talked about default arguments"
      ],
      "text/plain": [
       "Hint: Refer to the section of the last tutorial notebook where we talked about default arguments"
      ]
     },
     "metadata": {},
     "output_type": "display_data"
    }
   ],
   "source": [
    "q3.hint()"
   ]
  },
  {
   "cell_type": "code",
   "execution_count": 8,
   "id": "7781572e",
   "metadata": {
    "execution": {
     "iopub.execute_input": "2025-06-11T16:15:19.694449Z",
     "iopub.status.busy": "2025-06-11T16:15:19.694019Z",
     "iopub.status.idle": "2025-06-11T16:15:19.701787Z",
     "shell.execute_reply": "2025-06-11T16:15:19.700938Z"
    },
    "papermill": {
     "duration": 0.015207,
     "end_time": "2025-06-11T16:15:19.703335",
     "exception": false,
     "start_time": "2025-06-11T16:15:19.688128",
     "status": "completed"
    },
    "tags": []
   },
   "outputs": [
    {
     "data": {
      "application/javascript": [
       "parent.postMessage({\"jupyterEvent\": \"custom.exercise_interaction\", \"data\": {\"interactionType\": 3, \"questionType\": 2, \"questionId\": \"3_CandySmashingFunctionProblem\", \"learnToolsVersion\": \"0.3.5\", \"valueTowardsCompletion\": 0.0, \"failureMessage\": \"\", \"exceptionClass\": \"\", \"trace\": \"\", \"outcomeType\": 4}}, \"*\")"
      ],
      "text/plain": [
       "<IPython.core.display.Javascript object>"
      ]
     },
     "metadata": {},
     "output_type": "display_data"
    },
    {
     "data": {
      "text/markdown": [
       "<span style=\"color:#33cc99\">Solution:</span> \n",
       "```python\n",
       "def to_smash(total_candies, n_friends=3):\n",
       "    return total_candies % n_friends\n",
       "```"
      ],
      "text/plain": [
       "Solution: \n",
       "```python\n",
       "def to_smash(total_candies, n_friends=3):\n",
       "    return total_candies % n_friends\n",
       "```"
      ]
     },
     "metadata": {},
     "output_type": "display_data"
    }
   ],
   "source": [
    "q3.solution()"
   ]
  },
  {
   "cell_type": "markdown",
   "id": "0442af39",
   "metadata": {
    "papermill": {
     "duration": 0.004692,
     "end_time": "2025-06-11T16:15:19.713624",
     "exception": false,
     "start_time": "2025-06-11T16:15:19.708932",
     "status": "completed"
    },
    "tags": []
   },
   "source": [
    "# 4. (Optional)\n",
    "\n",
    "It may not be fun, but reading and understanding error messages will be an important part of your Python career.\n",
    "\n",
    "Each code cell below contains some commented buggy code. For each cell...\n",
    "\n",
    "1. Read the code and predict what you think will happen when it's run.\n",
    "2. Then uncomment the code and run it to see what happens. (**Tip**: In the kernel editor, you can highlight several lines and press `ctrl`+`/` to toggle commenting.)\n",
    "3. Fix the code (so that it accomplishes its intended purpose without throwing an exception)\n",
    "\n",
    "<!-- TODO: should this be autochecked? Delta is probably pretty small. -->"
   ]
  },
  {
   "cell_type": "code",
   "execution_count": 9,
   "id": "63a12f4d",
   "metadata": {
    "execution": {
     "iopub.execute_input": "2025-06-11T16:15:19.725312Z",
     "iopub.status.busy": "2025-06-11T16:15:19.724952Z",
     "iopub.status.idle": "2025-06-11T16:15:19.730999Z",
     "shell.execute_reply": "2025-06-11T16:15:19.730029Z"
    },
    "papermill": {
     "duration": 0.014295,
     "end_time": "2025-06-11T16:15:19.732738",
     "exception": false,
     "start_time": "2025-06-11T16:15:19.718443",
     "status": "completed"
    },
    "tags": []
   },
   "outputs": [
    {
     "data": {
      "text/plain": [
       "10.0"
      ]
     },
     "execution_count": 9,
     "metadata": {},
     "output_type": "execute_result"
    }
   ],
   "source": [
    "round_to_two_places(9.9999)"
   ]
  },
  {
   "cell_type": "code",
   "execution_count": 10,
   "id": "ef74fa45",
   "metadata": {
    "execution": {
     "iopub.execute_input": "2025-06-11T16:15:19.744918Z",
     "iopub.status.busy": "2025-06-11T16:15:19.744632Z",
     "iopub.status.idle": "2025-06-11T16:15:19.749641Z",
     "shell.execute_reply": "2025-06-11T16:15:19.748451Z"
    },
    "papermill": {
     "duration": 0.013614,
     "end_time": "2025-06-11T16:15:19.751566",
     "exception": false,
     "start_time": "2025-06-11T16:15:19.737952",
     "status": "completed"
    },
    "tags": []
   },
   "outputs": [],
   "source": [
    "x = -10\n",
    "y = 5\n",
    "# Which of the two variables above has the smallest absolute value?\n",
    "smallest_abs = min(abs(x),abs(y))"
   ]
  },
  {
   "cell_type": "code",
   "execution_count": 11,
   "id": "54a750e0",
   "metadata": {
    "execution": {
     "iopub.execute_input": "2025-06-11T16:15:19.764368Z",
     "iopub.status.busy": "2025-06-11T16:15:19.764071Z",
     "iopub.status.idle": "2025-06-11T16:15:19.769627Z",
     "shell.execute_reply": "2025-06-11T16:15:19.768260Z"
    },
    "papermill": {
     "duration": 0.014721,
     "end_time": "2025-06-11T16:15:19.771541",
     "exception": false,
     "start_time": "2025-06-11T16:15:19.756820",
     "status": "completed"
    },
    "tags": []
   },
   "outputs": [
    {
     "name": "stdout",
     "output_type": "stream",
     "text": [
      "5\n"
     ]
    }
   ],
   "source": [
    "def f(x):\n",
    "    y = abs(x)\n",
    "    return y\n",
    "\n",
    "print(f(5))"
   ]
  },
  {
   "cell_type": "markdown",
   "id": "49e90806",
   "metadata": {
    "papermill": {
     "duration": 0.004828,
     "end_time": "2025-06-11T16:15:19.781813",
     "exception": false,
     "start_time": "2025-06-11T16:15:19.776985",
     "status": "completed"
    },
    "tags": []
   },
   "source": [
    "# Keep Going\n",
    "\n",
    "Nice job with the code. Next up, you'll learn about *conditionals*, which you'll need to **[write interesting programs](https://www.kaggle.com/colinmorris/booleans-and-conditionals)**. "
   ]
  },
  {
   "cell_type": "markdown",
   "id": "ef014a74",
   "metadata": {
    "papermill": {
     "duration": 0.005718,
     "end_time": "2025-06-11T16:15:19.793662",
     "exception": false,
     "start_time": "2025-06-11T16:15:19.787944",
     "status": "completed"
    },
    "tags": []
   },
   "source": [
    "---\n",
    "\n",
    "\n",
    "\n",
    "\n",
    "*Have questions or comments? Visit the [course discussion forum](https://www.kaggle.com/learn/python/discussion) to chat with other learners.*"
   ]
  }
 ],
 "metadata": {
  "kaggle": {
   "accelerator": "none",
   "dataSources": [],
   "isGpuEnabled": false,
   "isInternetEnabled": false,
   "language": "python",
   "sourceType": "notebook"
  },
  "kernelspec": {
   "display_name": "Python 3",
   "language": "python",
   "name": "python3"
  },
  "language_info": {
   "codemirror_mode": {
    "name": "ipython",
    "version": 3
   },
   "file_extension": ".py",
   "mimetype": "text/x-python",
   "name": "python",
   "nbconvert_exporter": "python",
   "pygments_lexer": "ipython3",
   "version": "3.11.11"
  },
  "learntools_metadata": {
   "lesson_index": 1,
   "type": "exercise"
  },
  "papermill": {
   "default_parameters": {},
   "duration": 9.342648,
   "end_time": "2025-06-11T16:15:20.421512",
   "environment_variables": {},
   "exception": null,
   "input_path": "__notebook__.ipynb",
   "output_path": "__notebook__.ipynb",
   "parameters": {},
   "start_time": "2025-06-11T16:15:11.078864",
   "version": "2.6.0"
  }
 },
 "nbformat": 4,
 "nbformat_minor": 5
}
