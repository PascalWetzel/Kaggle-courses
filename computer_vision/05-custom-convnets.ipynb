{
 "cells": [
  {
   "cell_type": "markdown",
   "id": "53064924",
   "metadata": {
    "papermill": {
     "duration": 0.003619,
     "end_time": "2025-08-25T15:24:10.852964",
     "exception": false,
     "start_time": "2025-08-25T15:24:10.849345",
     "status": "completed"
    },
    "tags": []
   },
   "source": [
    "**This notebook is an exercise in the [Computer Vision](https://www.kaggle.com/learn/computer-vision) course.  You can reference the tutorial at [this link](https://www.kaggle.com/ryanholbrook/custom-convnets).**\n",
    "\n",
    "---\n"
   ]
  },
  {
   "cell_type": "markdown",
   "id": "e24e4a66",
   "metadata": {
    "papermill": {
     "duration": 0.00278,
     "end_time": "2025-08-25T15:24:10.859138",
     "exception": false,
     "start_time": "2025-08-25T15:24:10.856358",
     "status": "completed"
    },
    "tags": []
   },
   "source": [
    "# Introduction #\n",
    "\n",
    "In these exercises, you'll build a custom convnet with performance competitive to the VGG16 model from Lesson 1.\n",
    "\n",
    "Get started by running the code cell below."
   ]
  },
  {
   "cell_type": "code",
   "execution_count": 1,
   "id": "abfffce4",
   "metadata": {
    "execution": {
     "iopub.execute_input": "2025-08-25T15:24:10.866831Z",
     "iopub.status.busy": "2025-08-25T15:24:10.866484Z",
     "iopub.status.idle": "2025-08-25T15:24:35.488720Z",
     "shell.execute_reply": "2025-08-25T15:24:35.487996Z"
    },
    "papermill": {
     "duration": 24.628582,
     "end_time": "2025-08-25T15:24:35.490815",
     "exception": false,
     "start_time": "2025-08-25T15:24:10.862233",
     "status": "completed"
    },
    "tags": []
   },
   "outputs": [
    {
     "name": "stderr",
     "output_type": "stream",
     "text": [
      "2025-08-25 15:24:14.465043: E external/local_xla/xla/stream_executor/cuda/cuda_dnn.cc:9261] Unable to register cuDNN factory: Attempting to register factory for plugin cuDNN when one has already been registered\n",
      "2025-08-25 15:24:14.465163: E external/local_xla/xla/stream_executor/cuda/cuda_fft.cc:607] Unable to register cuFFT factory: Attempting to register factory for plugin cuFFT when one has already been registered\n",
      "2025-08-25 15:24:14.647979: E external/local_xla/xla/stream_executor/cuda/cuda_blas.cc:1515] Unable to register cuBLAS factory: Attempting to register factory for plugin cuBLAS when one has already been registered\n"
     ]
    },
    {
     "name": "stdout",
     "output_type": "stream",
     "text": [
      "Found 5117 files belonging to 2 classes.\n",
      "Found 5051 files belonging to 2 classes.\n"
     ]
    }
   ],
   "source": [
    "# Setup feedback system\n",
    "from learntools.core import binder\n",
    "binder.bind(globals())\n",
    "from learntools.computer_vision.ex5 import *\n",
    "\n",
    "# Imports\n",
    "import os, warnings\n",
    "import matplotlib.pyplot as plt\n",
    "from matplotlib import gridspec\n",
    "\n",
    "import numpy as np\n",
    "import tensorflow as tf\n",
    "from tensorflow.keras.preprocessing import image_dataset_from_directory\n",
    "\n",
    "# Reproducability\n",
    "def set_seed(seed=31415):\n",
    "    np.random.seed(seed)\n",
    "    tf.random.set_seed(seed)\n",
    "    os.environ['PYTHONHASHSEED'] = str(seed)\n",
    "    os.environ['TF_DETERMINISTIC_OPS'] = '1'\n",
    "set_seed()\n",
    "\n",
    "# Set Matplotlib defaults\n",
    "plt.rc('figure', autolayout=True)\n",
    "plt.rc('axes', labelweight='bold', labelsize='large',\n",
    "       titleweight='bold', titlesize=18, titlepad=10)\n",
    "plt.rc('image', cmap='magma')\n",
    "warnings.filterwarnings(\"ignore\") # to clean up output cells\n",
    "\n",
    "\n",
    "# Load training and validation sets\n",
    "ds_train_ = image_dataset_from_directory(\n",
    "    '../input/car-or-truck/train',\n",
    "    labels='inferred',\n",
    "    label_mode='binary',\n",
    "    image_size=[128, 128],\n",
    "    interpolation='nearest',\n",
    "    batch_size=64,\n",
    "    shuffle=True,\n",
    ")\n",
    "ds_valid_ = image_dataset_from_directory(\n",
    "    '../input/car-or-truck/valid',\n",
    "    labels='inferred',\n",
    "    label_mode='binary',\n",
    "    image_size=[128, 128],\n",
    "    interpolation='nearest',\n",
    "    batch_size=64,\n",
    "    shuffle=False,\n",
    ")\n",
    "\n",
    "# Data Pipeline\n",
    "def convert_to_float(image, label):\n",
    "    image = tf.image.convert_image_dtype(image, dtype=tf.float32)\n",
    "    return image, label\n",
    "\n",
    "AUTOTUNE = tf.data.experimental.AUTOTUNE\n",
    "ds_train = (\n",
    "    ds_train_\n",
    "    .map(convert_to_float)\n",
    "    .cache()\n",
    "    .prefetch(buffer_size=AUTOTUNE)\n",
    ")\n",
    "ds_valid = (\n",
    "    ds_valid_\n",
    "    .map(convert_to_float)\n",
    "    .cache()\n",
    "    .prefetch(buffer_size=AUTOTUNE)\n",
    ")\n"
   ]
  },
  {
   "cell_type": "markdown",
   "id": "5ec9a765",
   "metadata": {
    "papermill": {
     "duration": 0.003298,
     "end_time": "2025-08-25T15:24:35.497897",
     "exception": false,
     "start_time": "2025-08-25T15:24:35.494599",
     "status": "completed"
    },
    "tags": []
   },
   "source": [
    "# Design a Convnet #\n",
    "\n",
    "Let's design a convolutional network with a block architecture like we saw in the tutorial. The model from the example had three blocks, each with a single convolutional layer. Its performance on the \"Car or Truck\" problem was okay, but far from what the pretrained VGG16 could achieve. It might be that our simple network lacks the ability to extract sufficiently complex features. We could try improving the model either by adding more blocks or by adding convolutions to the blocks we have.\n",
    "\n",
    "Let's go with the second approach. We'll keep the three block structure, but increase the number of `Conv2D` layer in the second block to two, and in the third block to three.\n",
    "\n",
    "<figure>\n",
    "<!-- <img src=\"./images/2-convmodel-2.png\" width=\"250\" alt=\"Diagram of a convolutional model.\"> -->\n",
    "<img src=\"https://storage.googleapis.com/kaggle-media/learn/images/Vko6nCK.png\" width=\"250\" alt=\"Diagram of a convolutional model.\">\n",
    "</figure>\n",
    "\n",
    "# 1) Define Model #\n",
    "\n",
    "Given the diagram above, complete the model by defining the layers of the third block."
   ]
  },
  {
   "cell_type": "code",
   "execution_count": 2,
   "id": "2738e829",
   "metadata": {
    "execution": {
     "iopub.execute_input": "2025-08-25T15:24:35.506076Z",
     "iopub.status.busy": "2025-08-25T15:24:35.505792Z",
     "iopub.status.idle": "2025-08-25T15:24:35.661692Z",
     "shell.execute_reply": "2025-08-25T15:24:35.660799Z"
    },
    "lines_to_next_cell": 0,
    "papermill": {
     "duration": 0.162318,
     "end_time": "2025-08-25T15:24:35.663648",
     "exception": false,
     "start_time": "2025-08-25T15:24:35.501330",
     "status": "completed"
    },
    "tags": []
   },
   "outputs": [
    {
     "data": {
      "application/javascript": [
       "parent.postMessage({\"jupyterEvent\": \"custom.exercise_interaction\", \"data\": {\"outcomeType\": 1, \"valueTowardsCompletion\": 0.3333333333333333, \"interactionType\": 1, \"questionType\": 2, \"questionId\": \"1_Q1\", \"learnToolsVersion\": \"0.3.4\", \"failureMessage\": \"\", \"exceptionClass\": \"\", \"trace\": \"\"}}, \"*\")"
      ],
      "text/plain": [
       "<IPython.core.display.Javascript object>"
      ]
     },
     "metadata": {},
     "output_type": "display_data"
    },
    {
     "data": {
      "text/markdown": [
       "<span style=\"color:#33cc33\">Correct</span>"
      ],
      "text/plain": [
       "Correct"
      ]
     },
     "metadata": {},
     "output_type": "display_data"
    }
   ],
   "source": [
    "from tensorflow import keras\n",
    "from tensorflow.keras import layers\n",
    "\n",
    "model = keras.Sequential([\n",
    "    # Block One\n",
    "    layers.Conv2D(filters=32, kernel_size=3, activation='relu', padding='same',\n",
    "                  input_shape=[128, 128, 3]),\n",
    "    layers.MaxPool2D(),\n",
    "\n",
    "    # Block Two\n",
    "    layers.Conv2D(filters=64, kernel_size=3, activation='relu', padding='same'),\n",
    "    layers.MaxPool2D(),\n",
    "\n",
    "    # Block Three\n",
    "    # YOUR CODE HERE\n",
    "    layers.Conv2D(filters = 128, kernel_size = 3, activation = \"relu\", padding = \"same\"),\n",
    "    layers.Conv2D(filters = 128, kernel_size = 3, activation = \"relu\", padding = \"same\"),\n",
    "    layers.MaxPool2D(),\n",
    "\n",
    "    # Head\n",
    "    layers.Flatten(),\n",
    "    layers.Dense(6, activation='relu'),\n",
    "    layers.Dropout(0.2),\n",
    "    layers.Dense(1, activation='sigmoid'),\n",
    "])\n",
    "\n",
    "# Check your answer\n",
    "q_1.check()"
   ]
  },
  {
   "cell_type": "code",
   "execution_count": 3,
   "id": "5e82b0af",
   "metadata": {
    "execution": {
     "iopub.execute_input": "2025-08-25T15:24:35.672354Z",
     "iopub.status.busy": "2025-08-25T15:24:35.672064Z",
     "iopub.status.idle": "2025-08-25T15:24:35.681667Z",
     "shell.execute_reply": "2025-08-25T15:24:35.680895Z"
    },
    "papermill": {
     "duration": 0.015907,
     "end_time": "2025-08-25T15:24:35.683470",
     "exception": false,
     "start_time": "2025-08-25T15:24:35.667563",
     "status": "completed"
    },
    "tags": []
   },
   "outputs": [
    {
     "data": {
      "application/javascript": [
       "parent.postMessage({\"jupyterEvent\": \"custom.exercise_interaction\", \"data\": {\"interactionType\": 2, \"questionType\": 2, \"questionId\": \"1_Q1\", \"learnToolsVersion\": \"0.3.4\", \"valueTowardsCompletion\": 0.0, \"failureMessage\": \"\", \"exceptionClass\": \"\", \"trace\": \"\", \"outcomeType\": 4}}, \"*\")"
      ],
      "text/plain": [
       "<IPython.core.display.Javascript object>"
      ]
     },
     "metadata": {},
     "output_type": "display_data"
    },
    {
     "data": {
      "text/markdown": [
       "<span style=\"color:#3366cc\">Hint:</span> You should add two `Conv2D` layers and then a `MaxPool2D` layer. They will be just the same as the other layers in the model, except for some of the parameter values."
      ],
      "text/plain": [
       "Hint: You should add two `Conv2D` layers and then a `MaxPool2D` layer. They will be just the same as the other layers in the model, except for some of the parameter values."
      ]
     },
     "metadata": {},
     "output_type": "display_data"
    },
    {
     "data": {
      "application/javascript": [
       "parent.postMessage({\"jupyterEvent\": \"custom.exercise_interaction\", \"data\": {\"interactionType\": 3, \"questionType\": 2, \"questionId\": \"1_Q1\", \"learnToolsVersion\": \"0.3.4\", \"valueTowardsCompletion\": 0.0, \"failureMessage\": \"\", \"exceptionClass\": \"\", \"trace\": \"\", \"outcomeType\": 4}}, \"*\")"
      ],
      "text/plain": [
       "<IPython.core.display.Javascript object>"
      ]
     },
     "metadata": {},
     "output_type": "display_data"
    },
    {
     "data": {
      "text/markdown": [
       "<span style=\"color:#33cc99\">Solution:</span> \n",
       "```python\n",
       "\n",
       "from tensorflow import keras\n",
       "from tensorflow.keras import layers\n",
       "\n",
       "model = keras.Sequential([\n",
       "    # Block One\n",
       "    layers.Conv2D(filters=32, kernel_size=3, activation='relu', padding='same',\n",
       "                  input_shape=[128, 128, 3]),\n",
       "    layers.MaxPool2D(),\n",
       "\n",
       "    # Block Two\n",
       "    layers.Conv2D(filters=64, kernel_size=3, activation='relu', padding='same'),\n",
       "    layers.MaxPool2D(),\n",
       "\n",
       "    # Block Three\n",
       "    layers.Conv2D(filters=128, kernel_size=3, activation='relu', padding='same'),\n",
       "    layers.Conv2D(filters=128, kernel_size=3, activation='relu', padding='same'),\n",
       "    layers.MaxPool2D(),\n",
       "\n",
       "    # Head\n",
       "    layers.Flatten(),\n",
       "    layers.Dense(6, activation='relu'),\n",
       "    layers.Dropout(0.2),\n",
       "    layers.Dense(1, activation='sigmoid'),\n",
       "])\n",
       "\n",
       "```"
      ],
      "text/plain": [
       "Solution: \n",
       "```python\n",
       "\n",
       "from tensorflow import keras\n",
       "from tensorflow.keras import layers\n",
       "\n",
       "model = keras.Sequential([\n",
       "    # Block One\n",
       "    layers.Conv2D(filters=32, kernel_size=3, activation='relu', padding='same',\n",
       "                  input_shape=[128, 128, 3]),\n",
       "    layers.MaxPool2D(),\n",
       "\n",
       "    # Block Two\n",
       "    layers.Conv2D(filters=64, kernel_size=3, activation='relu', padding='same'),\n",
       "    layers.MaxPool2D(),\n",
       "\n",
       "    # Block Three\n",
       "    layers.Conv2D(filters=128, kernel_size=3, activation='relu', padding='same'),\n",
       "    layers.Conv2D(filters=128, kernel_size=3, activation='relu', padding='same'),\n",
       "    layers.MaxPool2D(),\n",
       "\n",
       "    # Head\n",
       "    layers.Flatten(),\n",
       "    layers.Dense(6, activation='relu'),\n",
       "    layers.Dropout(0.2),\n",
       "    layers.Dense(1, activation='sigmoid'),\n",
       "])\n",
       "\n",
       "```"
      ]
     },
     "metadata": {},
     "output_type": "display_data"
    }
   ],
   "source": [
    "# Lines below will give you a hint or solution code\n",
    "q_1.hint()\n",
    "q_1.solution()"
   ]
  },
  {
   "cell_type": "markdown",
   "id": "534acbcb",
   "metadata": {
    "papermill": {
     "duration": 0.003914,
     "end_time": "2025-08-25T15:24:35.691631",
     "exception": false,
     "start_time": "2025-08-25T15:24:35.687717",
     "status": "completed"
    },
    "tags": []
   },
   "source": [
    "# 2) Compile #\n",
    "\n",
    "To prepare for training, compile the model with an appropriate loss and accuracy metric for the \"Car or Truck\" dataset."
   ]
  },
  {
   "cell_type": "code",
   "execution_count": 4,
   "id": "f2a35e43",
   "metadata": {
    "execution": {
     "iopub.execute_input": "2025-08-25T15:24:35.700855Z",
     "iopub.status.busy": "2025-08-25T15:24:35.700397Z",
     "iopub.status.idle": "2025-08-25T15:24:35.905254Z",
     "shell.execute_reply": "2025-08-25T15:24:35.904121Z"
    },
    "lines_to_next_cell": 0,
    "papermill": {
     "duration": 0.211428,
     "end_time": "2025-08-25T15:24:35.907125",
     "exception": false,
     "start_time": "2025-08-25T15:24:35.695697",
     "status": "completed"
    },
    "tags": []
   },
   "outputs": [
    {
     "data": {
      "application/javascript": [
       "parent.postMessage({\"jupyterEvent\": \"custom.exercise_interaction\", \"data\": {\"outcomeType\": 1, \"valueTowardsCompletion\": 0.3333333333333333, \"interactionType\": 1, \"questionType\": 2, \"questionId\": \"2_Q2\", \"learnToolsVersion\": \"0.3.4\", \"failureMessage\": \"\", \"exceptionClass\": \"\", \"trace\": \"\"}}, \"*\")"
      ],
      "text/plain": [
       "<IPython.core.display.Javascript object>"
      ]
     },
     "metadata": {},
     "output_type": "display_data"
    },
    {
     "data": {
      "text/markdown": [
       "<span style=\"color:#33cc33\">Correct</span>"
      ],
      "text/plain": [
       "Correct"
      ]
     },
     "metadata": {},
     "output_type": "display_data"
    }
   ],
   "source": [
    "model.compile(\n",
    "    optimizer=tf.keras.optimizers.Adam(epsilon=0.01),\n",
    "    # YOUR CODE HERE: Add loss and metric\n",
    "    loss = \"binary_crossentropy\",\n",
    "    metrics = [\"binary_accuracy\"]\n",
    ")\n",
    "\n",
    "# Check your answer\n",
    "q_2.check()"
   ]
  },
  {
   "cell_type": "code",
   "execution_count": 5,
   "id": "8bc12f6e",
   "metadata": {
    "execution": {
     "iopub.execute_input": "2025-08-25T15:24:35.917090Z",
     "iopub.status.busy": "2025-08-25T15:24:35.916326Z",
     "iopub.status.idle": "2025-08-25T15:24:35.928836Z",
     "shell.execute_reply": "2025-08-25T15:24:35.928035Z"
    },
    "lines_to_next_cell": 0,
    "papermill": {
     "duration": 0.018866,
     "end_time": "2025-08-25T15:24:35.930340",
     "exception": false,
     "start_time": "2025-08-25T15:24:35.911474",
     "status": "completed"
    },
    "tags": []
   },
   "outputs": [
    {
     "data": {
      "application/javascript": [
       "parent.postMessage({\"jupyterEvent\": \"custom.exercise_interaction\", \"data\": {\"outcomeType\": 1, \"valueTowardsCompletion\": 0.3333333333333333, \"interactionType\": 1, \"questionType\": 2, \"questionId\": \"2_Q2\", \"learnToolsVersion\": \"0.3.4\", \"failureMessage\": \"\", \"exceptionClass\": \"\", \"trace\": \"\"}}, \"*\")"
      ],
      "text/plain": [
       "<IPython.core.display.Javascript object>"
      ]
     },
     "metadata": {},
     "output_type": "display_data"
    },
    {
     "data": {
      "text/markdown": [
       "<span style=\"color:#33cc33\">Correct</span>"
      ],
      "text/plain": [
       "Correct"
      ]
     },
     "metadata": {},
     "output_type": "display_data"
    }
   ],
   "source": [
    "model.compile(\n",
    "    optimizer=tf.keras.optimizers.Adam(epsilon=0.01),\n",
    "    loss='binary_crossentropy',\n",
    "    metrics=['binary_accuracy'],\n",
    ")\n",
    "q_2.assert_check_passed()"
   ]
  },
  {
   "cell_type": "code",
   "execution_count": 6,
   "id": "7896988b",
   "metadata": {
    "execution": {
     "iopub.execute_input": "2025-08-25T15:24:35.939487Z",
     "iopub.status.busy": "2025-08-25T15:24:35.939245Z",
     "iopub.status.idle": "2025-08-25T15:24:35.948905Z",
     "shell.execute_reply": "2025-08-25T15:24:35.948086Z"
    },
    "lines_to_next_cell": 0,
    "papermill": {
     "duration": 0.015828,
     "end_time": "2025-08-25T15:24:35.950400",
     "exception": false,
     "start_time": "2025-08-25T15:24:35.934572",
     "status": "completed"
    },
    "tags": []
   },
   "outputs": [
    {
     "data": {
      "application/javascript": [
       "parent.postMessage({\"jupyterEvent\": \"custom.exercise_interaction\", \"data\": {\"interactionType\": 2, \"questionType\": 2, \"questionId\": \"2_Q2\", \"learnToolsVersion\": \"0.3.4\", \"valueTowardsCompletion\": 0.0, \"failureMessage\": \"\", \"exceptionClass\": \"\", \"trace\": \"\", \"outcomeType\": 4}}, \"*\")"
      ],
      "text/plain": [
       "<IPython.core.display.Javascript object>"
      ]
     },
     "metadata": {},
     "output_type": "display_data"
    },
    {
     "data": {
      "text/markdown": [
       "<span style=\"color:#3366cc\">Hint:</span> This is a *binary* classification problem."
      ],
      "text/plain": [
       "Hint: This is a *binary* classification problem."
      ]
     },
     "metadata": {},
     "output_type": "display_data"
    },
    {
     "data": {
      "application/javascript": [
       "parent.postMessage({\"jupyterEvent\": \"custom.exercise_interaction\", \"data\": {\"interactionType\": 3, \"questionType\": 2, \"questionId\": \"2_Q2\", \"learnToolsVersion\": \"0.3.4\", \"valueTowardsCompletion\": 0.0, \"failureMessage\": \"\", \"exceptionClass\": \"\", \"trace\": \"\", \"outcomeType\": 4}}, \"*\")"
      ],
      "text/plain": [
       "<IPython.core.display.Javascript object>"
      ]
     },
     "metadata": {},
     "output_type": "display_data"
    },
    {
     "data": {
      "text/markdown": [
       "<span style=\"color:#33cc99\">Solution:</span> \n",
       "```python\n",
       "\n",
       "model.compile(\n",
       "    optimizer=tf.keras.optimizers.Adam(learning_rate=0.0001),\n",
       "    loss='binary_crossentropy',\n",
       "    metrics=['binary_accuracy'],\n",
       ")\n",
       "\n",
       "```"
      ],
      "text/plain": [
       "Solution: \n",
       "```python\n",
       "\n",
       "model.compile(\n",
       "    optimizer=tf.keras.optimizers.Adam(learning_rate=0.0001),\n",
       "    loss='binary_crossentropy',\n",
       "    metrics=['binary_accuracy'],\n",
       ")\n",
       "\n",
       "```"
      ]
     },
     "metadata": {},
     "output_type": "display_data"
    }
   ],
   "source": [
    "# Lines below will give you a hint or solution code\n",
    "q_2.hint()\n",
    "q_2.solution()"
   ]
  },
  {
   "cell_type": "markdown",
   "id": "4ef32406",
   "metadata": {
    "papermill": {
     "duration": 0.005273,
     "end_time": "2025-08-25T15:24:35.960127",
     "exception": false,
     "start_time": "2025-08-25T15:24:35.954854",
     "status": "completed"
    },
    "tags": []
   },
   "source": [
    "Finally, let's test the performance of this new model. First run this cell to fit the model to the training set."
   ]
  },
  {
   "cell_type": "code",
   "execution_count": 7,
   "id": "a69eb869",
   "metadata": {
    "execution": {
     "iopub.execute_input": "2025-08-25T15:24:35.970230Z",
     "iopub.status.busy": "2025-08-25T15:24:35.969931Z",
     "iopub.status.idle": "2025-08-25T15:27:34.163428Z",
     "shell.execute_reply": "2025-08-25T15:27:34.162502Z"
    },
    "papermill": {
     "duration": 178.200674,
     "end_time": "2025-08-25T15:27:34.165263",
     "exception": false,
     "start_time": "2025-08-25T15:24:35.964589",
     "status": "completed"
    },
    "tags": []
   },
   "outputs": [
    {
     "name": "stdout",
     "output_type": "stream",
     "text": [
      "Epoch 1/50\n"
     ]
    },
    {
     "name": "stderr",
     "output_type": "stream",
     "text": [
      "WARNING: All log messages before absl::InitializeLog() is called are written to STDERR\n",
      "I0000 00:00:1756135480.273337      74 device_compiler.h:186] Compiled cluster using XLA!  This line is logged at most once for the lifetime of the process.\n"
     ]
    },
    {
     "name": "stdout",
     "output_type": "stream",
     "text": [
      "80/80 [==============================] - 20s 187ms/step - loss: 0.6808 - binary_accuracy: 0.5728 - val_loss: 0.6674 - val_binary_accuracy: 0.5787\n",
      "Epoch 2/50\n",
      "80/80 [==============================] - 3s 40ms/step - loss: 0.6659 - binary_accuracy: 0.5876 - val_loss: 0.6609 - val_binary_accuracy: 0.6252\n",
      "Epoch 3/50\n",
      "80/80 [==============================] - 3s 40ms/step - loss: 0.6587 - binary_accuracy: 0.5990 - val_loss: 0.6474 - val_binary_accuracy: 0.6292\n",
      "Epoch 4/50\n",
      "80/80 [==============================] - 3s 40ms/step - loss: 0.6477 - binary_accuracy: 0.6142 - val_loss: 0.6406 - val_binary_accuracy: 0.6238\n",
      "Epoch 5/50\n",
      "80/80 [==============================] - 3s 40ms/step - loss: 0.6458 - binary_accuracy: 0.6160 - val_loss: 0.6334 - val_binary_accuracy: 0.6335\n",
      "Epoch 6/50\n",
      "80/80 [==============================] - 3s 40ms/step - loss: 0.6379 - binary_accuracy: 0.6293 - val_loss: 0.6277 - val_binary_accuracy: 0.6428\n",
      "Epoch 7/50\n",
      "80/80 [==============================] - 3s 41ms/step - loss: 0.6341 - binary_accuracy: 0.6389 - val_loss: 0.6216 - val_binary_accuracy: 0.6504\n",
      "Epoch 8/50\n",
      "80/80 [==============================] - 3s 40ms/step - loss: 0.6217 - binary_accuracy: 0.6404 - val_loss: 0.6074 - val_binary_accuracy: 0.6632\n",
      "Epoch 9/50\n",
      "80/80 [==============================] - 3s 40ms/step - loss: 0.6100 - binary_accuracy: 0.6682 - val_loss: 0.6032 - val_binary_accuracy: 0.6670\n",
      "Epoch 10/50\n",
      "80/80 [==============================] - 3s 40ms/step - loss: 0.6006 - binary_accuracy: 0.6621 - val_loss: 0.6036 - val_binary_accuracy: 0.6676\n",
      "Epoch 11/50\n",
      "80/80 [==============================] - 3s 40ms/step - loss: 0.5881 - binary_accuracy: 0.6789 - val_loss: 0.5790 - val_binary_accuracy: 0.6892\n",
      "Epoch 12/50\n",
      "80/80 [==============================] - 3s 42ms/step - loss: 0.5682 - binary_accuracy: 0.6996 - val_loss: 0.5551 - val_binary_accuracy: 0.7175\n",
      "Epoch 13/50\n",
      "80/80 [==============================] - 3s 40ms/step - loss: 0.5489 - binary_accuracy: 0.7137 - val_loss: 0.5420 - val_binary_accuracy: 0.7311\n",
      "Epoch 14/50\n",
      "80/80 [==============================] - 3s 40ms/step - loss: 0.5299 - binary_accuracy: 0.7377 - val_loss: 0.5385 - val_binary_accuracy: 0.7226\n",
      "Epoch 15/50\n",
      "80/80 [==============================] - 3s 40ms/step - loss: 0.5032 - binary_accuracy: 0.7526 - val_loss: 0.5110 - val_binary_accuracy: 0.7503\n",
      "Epoch 16/50\n",
      "80/80 [==============================] - 3s 40ms/step - loss: 0.4828 - binary_accuracy: 0.7694 - val_loss: 0.4779 - val_binary_accuracy: 0.7697\n",
      "Epoch 17/50\n",
      "80/80 [==============================] - 3s 40ms/step - loss: 0.4635 - binary_accuracy: 0.7733 - val_loss: 0.4624 - val_binary_accuracy: 0.7777\n",
      "Epoch 18/50\n",
      "80/80 [==============================] - 3s 40ms/step - loss: 0.4210 - binary_accuracy: 0.8112 - val_loss: 0.4526 - val_binary_accuracy: 0.7903\n",
      "Epoch 19/50\n",
      "80/80 [==============================] - 3s 40ms/step - loss: 0.4088 - binary_accuracy: 0.8073 - val_loss: 0.4614 - val_binary_accuracy: 0.7834\n",
      "Epoch 20/50\n",
      "80/80 [==============================] - 3s 40ms/step - loss: 0.3765 - binary_accuracy: 0.8251 - val_loss: 0.4634 - val_binary_accuracy: 0.7949\n",
      "Epoch 21/50\n",
      "80/80 [==============================] - 3s 41ms/step - loss: 0.3388 - binary_accuracy: 0.8450 - val_loss: 0.4519 - val_binary_accuracy: 0.8014\n",
      "Epoch 22/50\n",
      "80/80 [==============================] - 3s 41ms/step - loss: 0.3097 - binary_accuracy: 0.8585 - val_loss: 0.4117 - val_binary_accuracy: 0.8240\n",
      "Epoch 23/50\n",
      "80/80 [==============================] - 3s 41ms/step - loss: 0.2891 - binary_accuracy: 0.8695 - val_loss: 0.4162 - val_binary_accuracy: 0.8210\n",
      "Epoch 24/50\n",
      "80/80 [==============================] - 3s 40ms/step - loss: 0.2768 - binary_accuracy: 0.8816 - val_loss: 0.3993 - val_binary_accuracy: 0.8190\n",
      "Epoch 25/50\n",
      "80/80 [==============================] - 3s 40ms/step - loss: 0.2402 - binary_accuracy: 0.8904 - val_loss: 0.4096 - val_binary_accuracy: 0.8190\n",
      "Epoch 26/50\n",
      "80/80 [==============================] - 3s 40ms/step - loss: 0.2201 - binary_accuracy: 0.9003 - val_loss: 0.4566 - val_binary_accuracy: 0.8163\n",
      "Epoch 27/50\n",
      "80/80 [==============================] - 3s 40ms/step - loss: 0.2078 - binary_accuracy: 0.8997 - val_loss: 0.5209 - val_binary_accuracy: 0.7860\n",
      "Epoch 28/50\n",
      "80/80 [==============================] - 3s 40ms/step - loss: 0.2055 - binary_accuracy: 0.9017 - val_loss: 0.4689 - val_binary_accuracy: 0.8280\n",
      "Epoch 29/50\n",
      "80/80 [==============================] - 3s 40ms/step - loss: 0.1996 - binary_accuracy: 0.9081 - val_loss: 0.4627 - val_binary_accuracy: 0.8287\n",
      "Epoch 30/50\n",
      "80/80 [==============================] - 3s 40ms/step - loss: 0.1688 - binary_accuracy: 0.9214 - val_loss: 0.4420 - val_binary_accuracy: 0.8444\n",
      "Epoch 31/50\n",
      "80/80 [==============================] - 3s 40ms/step - loss: 0.1695 - binary_accuracy: 0.9209 - val_loss: 0.4659 - val_binary_accuracy: 0.8388\n",
      "Epoch 32/50\n",
      "80/80 [==============================] - 3s 40ms/step - loss: 0.1797 - binary_accuracy: 0.9160 - val_loss: 0.4565 - val_binary_accuracy: 0.8250\n",
      "Epoch 33/50\n",
      "80/80 [==============================] - 3s 40ms/step - loss: 0.1725 - binary_accuracy: 0.9173 - val_loss: 0.4049 - val_binary_accuracy: 0.8440\n",
      "Epoch 34/50\n",
      "80/80 [==============================] - 3s 40ms/step - loss: 0.1521 - binary_accuracy: 0.9302 - val_loss: 0.6158 - val_binary_accuracy: 0.8105\n",
      "Epoch 35/50\n",
      "80/80 [==============================] - 3s 40ms/step - loss: 0.1428 - binary_accuracy: 0.9308 - val_loss: 0.5094 - val_binary_accuracy: 0.8418\n",
      "Epoch 36/50\n",
      "80/80 [==============================] - 3s 40ms/step - loss: 0.1095 - binary_accuracy: 0.9457 - val_loss: 0.5417 - val_binary_accuracy: 0.8365\n",
      "Epoch 37/50\n",
      "80/80 [==============================] - 3s 40ms/step - loss: 0.1043 - binary_accuracy: 0.9453 - val_loss: 0.6131 - val_binary_accuracy: 0.8361\n",
      "Epoch 38/50\n",
      "80/80 [==============================] - 3s 40ms/step - loss: 0.0968 - binary_accuracy: 0.9531 - val_loss: 0.6043 - val_binary_accuracy: 0.8432\n",
      "Epoch 39/50\n",
      "80/80 [==============================] - 3s 40ms/step - loss: 0.0996 - binary_accuracy: 0.9500 - val_loss: 0.5635 - val_binary_accuracy: 0.8483\n",
      "Epoch 40/50\n",
      "80/80 [==============================] - 3s 40ms/step - loss: 0.1013 - binary_accuracy: 0.9490 - val_loss: 0.5648 - val_binary_accuracy: 0.8519\n",
      "Epoch 41/50\n",
      "80/80 [==============================] - 3s 40ms/step - loss: 0.0935 - binary_accuracy: 0.9543 - val_loss: 0.5089 - val_binary_accuracy: 0.8452\n",
      "Epoch 42/50\n",
      "80/80 [==============================] - 3s 40ms/step - loss: 0.0973 - binary_accuracy: 0.9509 - val_loss: 0.4910 - val_binary_accuracy: 0.8533\n",
      "Epoch 43/50\n",
      "80/80 [==============================] - 3s 40ms/step - loss: 0.0891 - binary_accuracy: 0.9541 - val_loss: 0.5235 - val_binary_accuracy: 0.8438\n",
      "Epoch 44/50\n",
      "80/80 [==============================] - 3s 40ms/step - loss: 0.0855 - binary_accuracy: 0.9568 - val_loss: 0.6093 - val_binary_accuracy: 0.8331\n",
      "Epoch 45/50\n",
      "80/80 [==============================] - 3s 40ms/step - loss: 0.0732 - binary_accuracy: 0.9609 - val_loss: 0.6090 - val_binary_accuracy: 0.8307\n",
      "Epoch 46/50\n",
      "80/80 [==============================] - 3s 40ms/step - loss: 0.0670 - binary_accuracy: 0.9672 - val_loss: 0.6331 - val_binary_accuracy: 0.8450\n",
      "Epoch 47/50\n",
      "80/80 [==============================] - 3s 41ms/step - loss: 0.0634 - binary_accuracy: 0.9664 - val_loss: 0.5922 - val_binary_accuracy: 0.8569\n",
      "Epoch 48/50\n",
      "80/80 [==============================] - 3s 41ms/step - loss: 0.0515 - binary_accuracy: 0.9693 - val_loss: 0.7253 - val_binary_accuracy: 0.8571\n",
      "Epoch 49/50\n",
      "80/80 [==============================] - 3s 41ms/step - loss: 0.0485 - binary_accuracy: 0.9724 - val_loss: 0.7248 - val_binary_accuracy: 0.8594\n",
      "Epoch 50/50\n",
      "80/80 [==============================] - 3s 40ms/step - loss: 0.0477 - binary_accuracy: 0.9724 - val_loss: 0.6691 - val_binary_accuracy: 0.8622\n"
     ]
    }
   ],
   "source": [
    "history = model.fit(\n",
    "    ds_train,\n",
    "    validation_data=ds_valid,\n",
    "    epochs=50,\n",
    ")"
   ]
  },
  {
   "cell_type": "markdown",
   "id": "c0ed6fb6",
   "metadata": {
    "papermill": {
     "duration": 0.098646,
     "end_time": "2025-08-25T15:27:34.405771",
     "exception": false,
     "start_time": "2025-08-25T15:27:34.307125",
     "status": "completed"
    },
    "tags": []
   },
   "source": [
    "And now run the cell below to plot the loss and metric curves for this training run."
   ]
  },
  {
   "cell_type": "code",
   "execution_count": 8,
   "id": "93adaead",
   "metadata": {
    "execution": {
     "iopub.execute_input": "2025-08-25T15:27:34.607987Z",
     "iopub.status.busy": "2025-08-25T15:27:34.607617Z",
     "iopub.status.idle": "2025-08-25T15:27:35.169781Z",
     "shell.execute_reply": "2025-08-25T15:27:35.168871Z"
    },
    "papermill": {
     "duration": 0.668687,
     "end_time": "2025-08-25T15:27:35.171469",
     "exception": false,
     "start_time": "2025-08-25T15:27:34.502782",
     "status": "completed"
    },
    "tags": []
   },
   "outputs": [
    {
     "data": {
      "image/png": "[encoded data removed]",
      "text/plain": [
       "<Figure size 640x480 with 1 Axes>"
      ]
     },
     "metadata": {},
     "output_type": "display_data"
    },
    {
     "data": {
      "image/png": "[encoded data removed]",
      "text/plain": [
       "<Figure size 640x480 with 1 Axes>"
      ]
     },
     "metadata": {},
     "output_type": "display_data"
    }
   ],
   "source": [
    "import pandas as pd\n",
    "history_frame = pd.DataFrame(history.history)\n",
    "history_frame.loc[:, ['loss', 'val_loss']].plot()\n",
    "history_frame.loc[:, ['binary_accuracy', 'val_binary_accuracy']].plot();"
   ]
  },
  {
   "cell_type": "markdown",
   "id": "5219cad0",
   "metadata": {
    "papermill": {
     "duration": 0.09699,
     "end_time": "2025-08-25T15:27:35.366587",
     "exception": false,
     "start_time": "2025-08-25T15:27:35.269597",
     "status": "completed"
    },
    "tags": []
   },
   "source": [
    "# 3) Train the Model #\n",
    "\n",
    "How would you interpret these training curves? Did this model improve upon the model from the tutorial?"
   ]
  },
  {
   "cell_type": "code",
   "execution_count": 9,
   "id": "9955b11b",
   "metadata": {
    "execution": {
     "iopub.execute_input": "2025-08-25T15:27:35.565259Z",
     "iopub.status.busy": "2025-08-25T15:27:35.564412Z",
     "iopub.status.idle": "2025-08-25T15:27:35.571176Z",
     "shell.execute_reply": "2025-08-25T15:27:35.570387Z"
    },
    "lines_to_next_cell": 0,
    "papermill": {
     "duration": 0.1072,
     "end_time": "2025-08-25T15:27:35.572859",
     "exception": false,
     "start_time": "2025-08-25T15:27:35.465659",
     "status": "completed"
    },
    "tags": []
   },
   "outputs": [
    {
     "data": {
      "application/javascript": [
       "parent.postMessage({\"jupyterEvent\": \"custom.exercise_interaction\", \"data\": {\"outcomeType\": 1, \"valueTowardsCompletion\": 0.3333333333333333, \"interactionType\": 1, \"questionType\": 4, \"questionId\": \"3_Q3\", \"learnToolsVersion\": \"0.3.4\", \"failureMessage\": \"\", \"exceptionClass\": \"\", \"trace\": \"\"}}, \"*\")"
      ],
      "text/plain": [
       "<IPython.core.display.Javascript object>"
      ]
     },
     "metadata": {},
     "output_type": "display_data"
    },
    {
     "data": {
      "text/markdown": [
       "<span style=\"color:#33cc33\">Correct:</span> \n",
       "\n",
       "\n",
       "The learning curves for the model from the tutorial diverged fairly rapidly. This would indicate that it was prone to overfitting and in need of some regularization. The additional layer in our new model would make it even more prone to overfitting. However, adding some regularization with the `Dropout` layer helped prevent this. These changes improved the validation accuracy of the model by several points.\n"
      ],
      "text/plain": [
       "Correct: \n",
       "\n",
       "\n",
       "The learning curves for the model from the tutorial diverged fairly rapidly. This would indicate that it was prone to overfitting and in need of some regularization. The additional layer in our new model would make it even more prone to overfitting. However, adding some regularization with the `Dropout` layer helped prevent this. These changes improved the validation accuracy of the model by several points."
      ]
     },
     "metadata": {},
     "output_type": "display_data"
    }
   ],
   "source": [
    "# View the solution (Run this code cell to receive credit!)\n",
    "q_3.check()"
   ]
  },
  {
   "cell_type": "markdown",
   "id": "5935aebb",
   "metadata": {
    "papermill": {
     "duration": 0.096504,
     "end_time": "2025-08-25T15:27:35.765976",
     "exception": false,
     "start_time": "2025-08-25T15:27:35.669472",
     "status": "completed"
    },
    "tags": []
   },
   "source": [
    "# Conclusion #\n",
    "\n",
    "These exercises showed you how to design a custom convolutional network to solve a specific classification problem. Though most models these days will be built on top of a pretrained base, it certain circumstances a smaller custom convnet might still be preferable -- such as with a smaller or unusual dataset or when computing resources are very limited. As you saw here, for certain problems they can perform just as well as a pretrained model.\n",
    "\n",
    "# Keep Going #\n",
    "\n",
    "Continue on to [**Lesson 6**](https://www.kaggle.com/ryanholbrook/data-augmentation), where you'll learn a widely-used technique that can give a boost to your training data: **data augmentation**."
   ]
  },
  {
   "cell_type": "markdown",
   "id": "06db7c47",
   "metadata": {
    "papermill": {
     "duration": 0.097297,
     "end_time": "2025-08-25T15:27:36.011113",
     "exception": false,
     "start_time": "2025-08-25T15:27:35.913816",
     "status": "completed"
    },
    "tags": []
   },
   "source": [
    "---\n",
    "\n",
    "\n",
    "\n",
    "\n",
    "*Have questions or comments? Visit the [course discussion forum](https://www.kaggle.com/learn/computer-vision/discussion) to chat with other learners.*"
   ]
  }
 ],
 "metadata": {
  "jupytext": {
   "formats": "md,ipynb"
  },
  "kaggle": {
   "accelerator": "gpu",
   "dataSources": [
    {
     "datasetId": 708136,
     "sourceId": 1338830,
     "sourceType": "datasetVersion"
    },
    {
     "datasetId": 701538,
     "sourceId": 1363948,
     "sourceType": "datasetVersion"
    },
    {
     "datasetId": 878523,
     "sourceId": 1495782,
     "sourceType": "datasetVersion"
    }
   ],
   "dockerImageVersionId": 30648,
   "isGpuEnabled": true,
   "isInternetEnabled": true,
   "language": "python",
   "sourceType": "notebook"
  },
  "kernelspec": {
   "display_name": "Python 3",
   "language": "python",
   "name": "python3"
  },
  "language_info": {
   "codemirror_mode": {
    "name": "ipython",
    "version": 3
   },
   "file_extension": ".py",
   "mimetype": "text/x-python",
   "name": "python",
   "nbconvert_exporter": "python",
   "pygments_lexer": "ipython3",
   "version": "3.10.13"
  },
  "papermill": {
   "default_parameters": {},
   "duration": 211.459353,
   "end_time": "2025-08-25T15:27:39.402205",
   "environment_variables": {},
   "exception": null,
   "input_path": "__notebook__.ipynb",
   "output_path": "__notebook__.ipynb",
   "parameters": {},
   "start_time": "2025-08-25T15:24:07.942852",
   "version": "2.5.0"
  }
 },
 "nbformat": 4,
 "nbformat_minor": 5
}
