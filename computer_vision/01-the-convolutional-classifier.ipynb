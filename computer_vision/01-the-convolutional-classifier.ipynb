{
 "cells": [
  {
   "cell_type": "markdown",
   "id": "de830fc5",
   "metadata": {
    "papermill": {
     "duration": 0.004151,
     "end_time": "2025-08-19T13:11:55.352994",
     "exception": false,
     "start_time": "2025-08-19T13:11:55.348843",
     "status": "completed"
    },
    "tags": []
   },
   "source": [
    "**This notebook is an exercise in the [Computer Vision](https://www.kaggle.com/learn/computer-vision) course.  You can reference the tutorial at [this link](https://www.kaggle.com/ryanholbrook/the-convolutional-classifier).**\n",
    "\n",
    "---\n"
   ]
  },
  {
   "cell_type": "markdown",
   "id": "36daafc1",
   "metadata": {
    "papermill": {
     "duration": 0.003329,
     "end_time": "2025-08-19T13:11:55.359973",
     "exception": false,
     "start_time": "2025-08-19T13:11:55.356644",
     "status": "completed"
    },
    "tags": []
   },
   "source": [
    "<blockquote style=\"margin-right:auto; margin-left:auto; padding: 1em; margin:24px;\">\n",
    "    <strong>Accelerate Training with a Kaggle GPU!</strong><br>\n",
    "Did you know Kaggle offers free time with a GPU accelerator? You can speed up training neural networks in this course by switching to <strong>GPU</strong> in the <em>Accelerator</em> option on the right. (It may already be turned on.) Two things to be aware of:\n",
    "<ul>\n",
    "<li>Changing the <em>Accelerator</em> option will cause the notebook session to restart. You'll need to rerun any setup code.\n",
    "<li>You can have only one GPU session at a time, so be sure to shut the notebook down after you've finished the exercise.\n",
    "</ul>\n",
    "</blockquote>"
   ]
  },
  {
   "cell_type": "markdown",
   "id": "8dbb488a",
   "metadata": {
    "papermill": {
     "duration": 0.003291,
     "end_time": "2025-08-19T13:11:55.366854",
     "exception": false,
     "start_time": "2025-08-19T13:11:55.363563",
     "status": "completed"
    },
    "tags": []
   },
   "source": [
    "# Introduction #\n",
    "\n",
    "In the tutorial, we saw how to build an image classifier by attaching a head of dense layers to a pretrained base. The base we used was from a model called **VGG16**. We saw that the VGG16 architecture was prone to overfitting this dataset. Over this course, you'll learn a number of ways you can improve upon this initial attempt.\n",
    "\n",
    "The first way you'll see is to use a base more appropriate to the dataset. The base this model comes from is called **InceptionV1** (also known as GoogLeNet). InceptionV1 was one of the early winners of the ImageNet competition. One of its successors, InceptionV4, is among the state of the art today.\n",
    "\n",
    "To get started, run the code cell below to set everything up."
   ]
  },
  {
   "cell_type": "code",
   "execution_count": 1,
   "id": "93a0f38c",
   "metadata": {
    "execution": {
     "iopub.execute_input": "2025-08-19T13:11:55.375262Z",
     "iopub.status.busy": "2025-08-19T13:11:55.374952Z",
     "iopub.status.idle": "2025-08-19T13:12:16.820507Z",
     "shell.execute_reply": "2025-08-19T13:12:16.819812Z"
    },
    "lines_to_next_cell": 2,
    "papermill": {
     "duration": 21.452189,
     "end_time": "2025-08-19T13:12:16.822507",
     "exception": false,
     "start_time": "2025-08-19T13:11:55.370318",
     "status": "completed"
    },
    "tags": []
   },
   "outputs": [
    {
     "name": "stderr",
     "output_type": "stream",
     "text": [
      "2025-08-19 13:11:57.863563: E external/local_xla/xla/stream_executor/cuda/cuda_dnn.cc:9261] Unable to register cuDNN factory: Attempting to register factory for plugin cuDNN when one has already been registered\n",
      "2025-08-19 13:11:57.863684: E external/local_xla/xla/stream_executor/cuda/cuda_fft.cc:607] Unable to register cuFFT factory: Attempting to register factory for plugin cuFFT when one has already been registered\n",
      "2025-08-19 13:11:57.985247: E external/local_xla/xla/stream_executor/cuda/cuda_blas.cc:1515] Unable to register cuBLAS factory: Attempting to register factory for plugin cuBLAS when one has already been registered\n"
     ]
    },
    {
     "name": "stdout",
     "output_type": "stream",
     "text": [
      "Found 5117 files belonging to 2 classes.\n",
      "Found 5051 files belonging to 2 classes.\n"
     ]
    }
   ],
   "source": [
    "# Setup feedback system\n",
    "from learntools.core import binder\n",
    "binder.bind(globals())\n",
    "from learntools.computer_vision.ex1 import *\n",
    "\n",
    "# Imports\n",
    "import os, warnings\n",
    "import matplotlib.pyplot as plt\n",
    "from matplotlib import gridspec\n",
    "\n",
    "import numpy as np\n",
    "import tensorflow as tf\n",
    "from tensorflow.keras.preprocessing import image_dataset_from_directory\n",
    "\n",
    "# Reproducability\n",
    "def set_seed(seed=31415):\n",
    "    np.random.seed(seed)\n",
    "    tf.random.set_seed(seed)\n",
    "    os.environ['PYTHONHASHSEED'] = str(seed)\n",
    "    os.environ['TF_DETERMINISTIC_OPS'] = '1'\n",
    "set_seed()\n",
    "\n",
    "# Set Matplotlib defaults\n",
    "plt.rc('figure', autolayout=True)\n",
    "plt.rc('axes', labelweight='bold', labelsize='large',\n",
    "       titleweight='bold', titlesize=18, titlepad=10)\n",
    "plt.rc('image', cmap='magma')\n",
    "warnings.filterwarnings(\"ignore\") # to clean up output cells\n",
    "\n",
    "\n",
    "# Load training and validation sets\n",
    "ds_train_ = image_dataset_from_directory(\n",
    "    '../input/car-or-truck/train',\n",
    "    labels='inferred',\n",
    "    label_mode='binary',\n",
    "    image_size=[128, 128],\n",
    "    interpolation='nearest',\n",
    "    batch_size=64,\n",
    "    shuffle=True,\n",
    ")\n",
    "ds_valid_ = image_dataset_from_directory(\n",
    "    '../input/car-or-truck/valid',\n",
    "    labels='inferred',\n",
    "    label_mode='binary',\n",
    "    image_size=[128, 128],\n",
    "    interpolation='nearest',\n",
    "    batch_size=64,\n",
    "    shuffle=False,\n",
    ")\n",
    "\n",
    "# Data Pipeline\n",
    "def convert_to_float(image, label):\n",
    "    image = tf.image.convert_image_dtype(image, dtype=tf.float32)\n",
    "    return image, label\n",
    "\n",
    "AUTOTUNE = tf.data.experimental.AUTOTUNE\n",
    "ds_train = (\n",
    "    ds_train_\n",
    "    .map(convert_to_float)\n",
    "    .cache()\n",
    "    .prefetch(buffer_size=AUTOTUNE)\n",
    ")\n",
    "ds_valid = (\n",
    "    ds_valid_\n",
    "    .map(convert_to_float)\n",
    "    .cache()\n",
    "    .prefetch(buffer_size=AUTOTUNE)\n",
    ")\n"
   ]
  },
  {
   "cell_type": "markdown",
   "id": "8abaf502",
   "metadata": {
    "papermill": {
     "duration": 0.003638,
     "end_time": "2025-08-19T13:12:16.830151",
     "exception": false,
     "start_time": "2025-08-19T13:12:16.826513",
     "status": "completed"
    },
    "tags": []
   },
   "source": [
    "The **InceptionV1** model pretrained on ImageNet is available in the [TensorFlow Hub](https://www.tensorflow.org/hub/) repository, but we'll load it from a local copy. Run this cell to load InceptionV1 for your base."
   ]
  },
  {
   "cell_type": "code",
   "execution_count": 2,
   "id": "82541957",
   "metadata": {
    "execution": {
     "iopub.execute_input": "2025-08-19T13:12:16.838737Z",
     "iopub.status.busy": "2025-08-19T13:12:16.838448Z",
     "iopub.status.idle": "2025-08-19T13:12:20.338101Z",
     "shell.execute_reply": "2025-08-19T13:12:20.337281Z"
    },
    "lines_to_next_cell": 0,
    "papermill": {
     "duration": 3.506322,
     "end_time": "2025-08-19T13:12:20.340159",
     "exception": false,
     "start_time": "2025-08-19T13:12:16.833837",
     "status": "completed"
    },
    "tags": []
   },
   "outputs": [],
   "source": [
    "import tensorflow_hub as hub\n",
    "\n",
    "pretrained_base = tf.keras.models.load_model(\n",
    "    '../input/cv-course-models/cv-course-models/inceptionv1'\n",
    ")"
   ]
  },
  {
   "cell_type": "markdown",
   "id": "0bb86b98",
   "metadata": {
    "papermill": {
     "duration": 0.003728,
     "end_time": "2025-08-19T13:12:20.348080",
     "exception": false,
     "start_time": "2025-08-19T13:12:20.344352",
     "status": "completed"
    },
    "tags": []
   },
   "source": [
    "# 1) Define Pretrained Base #\n",
    "\n",
    "Now that you have a pretrained base to do our feature extraction, decide whether this base should be trainable or not."
   ]
  },
  {
   "cell_type": "code",
   "execution_count": 3,
   "id": "c06d66bf",
   "metadata": {
    "execution": {
     "iopub.execute_input": "2025-08-19T13:12:20.357400Z",
     "iopub.status.busy": "2025-08-19T13:12:20.356635Z",
     "iopub.status.idle": "2025-08-19T13:12:20.364955Z",
     "shell.execute_reply": "2025-08-19T13:12:20.364147Z"
    },
    "lines_to_next_cell": 0,
    "papermill": {
     "duration": 0.0148,
     "end_time": "2025-08-19T13:12:20.366595",
     "exception": false,
     "start_time": "2025-08-19T13:12:20.351795",
     "status": "completed"
    },
    "tags": []
   },
   "outputs": [
    {
     "data": {
      "application/javascript": [
       "parent.postMessage({\"jupyterEvent\": \"custom.exercise_interaction\", \"data\": {\"outcomeType\": 1, \"valueTowardsCompletion\": 0.25, \"interactionType\": 1, \"questionType\": 2, \"questionId\": \"1_Q1\", \"learnToolsVersion\": \"0.3.4\", \"failureMessage\": \"\", \"exceptionClass\": \"\", \"trace\": \"\"}}, \"*\")"
      ],
      "text/plain": [
       "<IPython.core.display.Javascript object>"
      ]
     },
     "metadata": {},
     "output_type": "display_data"
    },
    {
     "data": {
      "text/markdown": [
       "<span style=\"color:#33cc33\">Correct:</span> When doing transfer learning, it's generally not a good idea to retrain the entire base -- at least not without some care. The reason is that the random weights in the head will initially create large gradient updates, which propogate back into the base layers and destroy much of the pretraining. Using techniques known as **fine tuning** it's possible to further train the base on new data, but this requires some care to do well."
      ],
      "text/plain": [
       "Correct: When doing transfer learning, it's generally not a good idea to retrain the entire base -- at least not without some care. The reason is that the random weights in the head will initially create large gradient updates, which propogate back into the base layers and destroy much of the pretraining. Using techniques known as **fine tuning** it's possible to further train the base on new data, but this requires some care to do well."
      ]
     },
     "metadata": {},
     "output_type": "display_data"
    }
   ],
   "source": [
    "# YOUR_CODE_HERE\n",
    "pretrained_base.trainable = False\n",
    "\n",
    "# Check your answer\n",
    "q_1.check()"
   ]
  },
  {
   "cell_type": "code",
   "execution_count": 4,
   "id": "3b176ce3",
   "metadata": {
    "execution": {
     "iopub.execute_input": "2025-08-19T13:12:20.375320Z",
     "iopub.status.busy": "2025-08-19T13:12:20.375059Z",
     "iopub.status.idle": "2025-08-19T13:12:20.384193Z",
     "shell.execute_reply": "2025-08-19T13:12:20.383435Z"
    },
    "papermill": {
     "duration": 0.015355,
     "end_time": "2025-08-19T13:12:20.385792",
     "exception": false,
     "start_time": "2025-08-19T13:12:20.370437",
     "status": "completed"
    },
    "tags": []
   },
   "outputs": [
    {
     "data": {
      "application/javascript": [
       "parent.postMessage({\"jupyterEvent\": \"custom.exercise_interaction\", \"data\": {\"interactionType\": 2, \"questionType\": 2, \"questionId\": \"1_Q1\", \"learnToolsVersion\": \"0.3.4\", \"valueTowardsCompletion\": 0.0, \"failureMessage\": \"\", \"exceptionClass\": \"\", \"trace\": \"\", \"outcomeType\": 4}}, \"*\")"
      ],
      "text/plain": [
       "<IPython.core.display.Javascript object>"
      ]
     },
     "metadata": {},
     "output_type": "display_data"
    },
    {
     "data": {
      "text/markdown": [
       "<span style=\"color:#3366cc\">Hint:</span> `True` or `False`?"
      ],
      "text/plain": [
       "Hint: `True` or `False`?"
      ]
     },
     "metadata": {},
     "output_type": "display_data"
    },
    {
     "data": {
      "application/javascript": [
       "parent.postMessage({\"jupyterEvent\": \"custom.exercise_interaction\", \"data\": {\"interactionType\": 3, \"questionType\": 2, \"questionId\": \"1_Q1\", \"learnToolsVersion\": \"0.3.4\", \"valueTowardsCompletion\": 0.0, \"failureMessage\": \"\", \"exceptionClass\": \"\", \"trace\": \"\", \"outcomeType\": 4}}, \"*\")"
      ],
      "text/plain": [
       "<IPython.core.display.Javascript object>"
      ]
     },
     "metadata": {},
     "output_type": "display_data"
    },
    {
     "data": {
      "text/markdown": [
       "<span style=\"color:#33cc99\">Solution:</span> \n",
       "```python\n",
       "pretrained_base.trainable = False\n",
       "```"
      ],
      "text/plain": [
       "Solution: \n",
       "```python\n",
       "pretrained_base.trainable = False\n",
       "```"
      ]
     },
     "metadata": {},
     "output_type": "display_data"
    }
   ],
   "source": [
    "# Lines below will give you a hint or solution code\n",
    "q_1.hint()\n",
    "q_1.solution()"
   ]
  },
  {
   "cell_type": "markdown",
   "id": "90ed8eeb",
   "metadata": {
    "papermill": {
     "duration": 0.004123,
     "end_time": "2025-08-19T13:12:20.394928",
     "exception": false,
     "start_time": "2025-08-19T13:12:20.390805",
     "status": "completed"
    },
    "tags": []
   },
   "source": [
    "# 2) Attach Head #\n",
    "\n",
    "Now that the base is defined to do the feature extraction, create a head of `Dense` layers to perform the classification, following this diagram:\n",
    "\n",
    "<figure>\n",
    "<img src=\"https://storage.googleapis.com/kaggle-media/learn/images/i5VU7Ry.png\" alt=\"Diagram of the dense head.\">\n",
    "</figure>\n"
   ]
  },
  {
   "cell_type": "code",
   "execution_count": 5,
   "id": "b4d146fe",
   "metadata": {
    "execution": {
     "iopub.execute_input": "2025-08-19T13:12:20.404362Z",
     "iopub.status.busy": "2025-08-19T13:12:20.404068Z",
     "iopub.status.idle": "2025-08-19T13:12:20.420412Z",
     "shell.execute_reply": "2025-08-19T13:12:20.419634Z"
    },
    "lines_to_next_cell": 0,
    "papermill": {
     "duration": 0.022874,
     "end_time": "2025-08-19T13:12:20.421884",
     "exception": false,
     "start_time": "2025-08-19T13:12:20.399010",
     "status": "completed"
    },
    "tags": []
   },
   "outputs": [
    {
     "data": {
      "application/javascript": [
       "parent.postMessage({\"jupyterEvent\": \"custom.exercise_interaction\", \"data\": {\"outcomeType\": 1, \"valueTowardsCompletion\": 0.25, \"interactionType\": 1, \"questionType\": 2, \"questionId\": \"2_Q2\", \"learnToolsVersion\": \"0.3.4\", \"failureMessage\": \"\", \"exceptionClass\": \"\", \"trace\": \"\"}}, \"*\")"
      ],
      "text/plain": [
       "<IPython.core.display.Javascript object>"
      ]
     },
     "metadata": {},
     "output_type": "display_data"
    },
    {
     "data": {
      "text/markdown": [
       "<span style=\"color:#33cc33\">Correct</span>"
      ],
      "text/plain": [
       "Correct"
      ]
     },
     "metadata": {},
     "output_type": "display_data"
    }
   ],
   "source": [
    "from tensorflow import keras\n",
    "from tensorflow.keras import layers\n",
    "\n",
    "model = keras.Sequential([\n",
    "    pretrained_base,\n",
    "    layers.Flatten(),\n",
    "    # YOUR CODE HERE. Attach a head of dense layers.\n",
    "    layers.Dense(6, activation = \"relu\"),\n",
    "    layers.Dense(1, activation = \"sigmoid\")\n",
    "])\n",
    "\n",
    "# Check your answer\n",
    "q_2.check()"
   ]
  },
  {
   "cell_type": "code",
   "execution_count": 6,
   "id": "ffbbe911",
   "metadata": {
    "execution": {
     "iopub.execute_input": "2025-08-19T13:12:20.431437Z",
     "iopub.status.busy": "2025-08-19T13:12:20.431182Z",
     "iopub.status.idle": "2025-08-19T13:12:20.440024Z",
     "shell.execute_reply": "2025-08-19T13:12:20.439249Z"
    },
    "papermill": {
     "duration": 0.015403,
     "end_time": "2025-08-19T13:12:20.441608",
     "exception": false,
     "start_time": "2025-08-19T13:12:20.426205",
     "status": "completed"
    },
    "tags": []
   },
   "outputs": [
    {
     "data": {
      "application/javascript": [
       "parent.postMessage({\"jupyterEvent\": \"custom.exercise_interaction\", \"data\": {\"interactionType\": 2, \"questionType\": 2, \"questionId\": \"2_Q2\", \"learnToolsVersion\": \"0.3.4\", \"valueTowardsCompletion\": 0.0, \"failureMessage\": \"\", \"exceptionClass\": \"\", \"trace\": \"\", \"outcomeType\": 4}}, \"*\")"
      ],
      "text/plain": [
       "<IPython.core.display.Javascript object>"
      ]
     },
     "metadata": {},
     "output_type": "display_data"
    },
    {
     "data": {
      "text/markdown": [
       "<span style=\"color:#3366cc\">Hint:</span> You need to add two new `Dense` layers. The first should have 6 units and `'relu'` activation. The second should have 1 unit and `'sigmoid'` activation."
      ],
      "text/plain": [
       "Hint: You need to add two new `Dense` layers. The first should have 6 units and `'relu'` activation. The second should have 1 unit and `'sigmoid'` activation."
      ]
     },
     "metadata": {},
     "output_type": "display_data"
    },
    {
     "data": {
      "application/javascript": [
       "parent.postMessage({\"jupyterEvent\": \"custom.exercise_interaction\", \"data\": {\"interactionType\": 3, \"questionType\": 2, \"questionId\": \"2_Q2\", \"learnToolsVersion\": \"0.3.4\", \"valueTowardsCompletion\": 0.0, \"failureMessage\": \"\", \"exceptionClass\": \"\", \"trace\": \"\", \"outcomeType\": 4}}, \"*\")"
      ],
      "text/plain": [
       "<IPython.core.display.Javascript object>"
      ]
     },
     "metadata": {},
     "output_type": "display_data"
    },
    {
     "data": {
      "text/markdown": [
       "<span style=\"color:#33cc99\">Solution:</span> \n",
       "```python\n",
       " \n",
       "from tensorflow import keras\n",
       "from tensorflow.keras import layers\n",
       "\n",
       "model = keras.Sequential([\n",
       "    pretrained_base,\n",
       "    layers.Flatten(),\n",
       "    layers.Dense(6, activation='relu'),\n",
       "    layers.Dense(1, activation='sigmoid'),\n",
       "])\n",
       "\n",
       "```"
      ],
      "text/plain": [
       "Solution: \n",
       "```python\n",
       " \n",
       "from tensorflow import keras\n",
       "from tensorflow.keras import layers\n",
       "\n",
       "model = keras.Sequential([\n",
       "    pretrained_base,\n",
       "    layers.Flatten(),\n",
       "    layers.Dense(6, activation='relu'),\n",
       "    layers.Dense(1, activation='sigmoid'),\n",
       "])\n",
       "\n",
       "```"
      ]
     },
     "metadata": {},
     "output_type": "display_data"
    }
   ],
   "source": [
    "# Lines below will give you a hint or solution code\n",
    "q_2.hint()\n",
    "q_2.solution()"
   ]
  },
  {
   "cell_type": "markdown",
   "id": "70720164",
   "metadata": {
    "papermill": {
     "duration": 0.004538,
     "end_time": "2025-08-19T13:12:20.450731",
     "exception": false,
     "start_time": "2025-08-19T13:12:20.446193",
     "status": "completed"
    },
    "tags": []
   },
   "source": [
    "# 3) Train #\n",
    "\n",
    "Before training a model in Keras, you need to specify an *optimizer* to perform the gradient descent, a *loss function* to be minimized, and (optionally) any *performance metrics*. The optimization algorithm we'll use for this course is called [\"Adam\"](https://keras.io/api/optimizers/adam/), which generally performs well regardless of what kind of problem you're trying to solve.\n",
    "\n",
    "The loss and the metrics, however, need to match the kind of problem you're trying to solve. Our problem is a **binary classification** problem: `Car` coded as 0, and `Truck` coded as 1. Choose an appropriate loss and an appropriate accuracy metric for binary classification."
   ]
  },
  {
   "cell_type": "code",
   "execution_count": 7,
   "id": "987a3487",
   "metadata": {
    "execution": {
     "iopub.execute_input": "2025-08-19T13:12:20.461258Z",
     "iopub.status.busy": "2025-08-19T13:12:20.460957Z",
     "iopub.status.idle": "2025-08-19T13:12:20.488093Z",
     "shell.execute_reply": "2025-08-19T13:12:20.487203Z"
    },
    "lines_to_next_cell": 0,
    "papermill": {
     "duration": 0.034489,
     "end_time": "2025-08-19T13:12:20.489788",
     "exception": false,
     "start_time": "2025-08-19T13:12:20.455299",
     "status": "completed"
    },
    "tags": []
   },
   "outputs": [
    {
     "data": {
      "application/javascript": [
       "parent.postMessage({\"jupyterEvent\": \"custom.exercise_interaction\", \"data\": {\"outcomeType\": 1, \"valueTowardsCompletion\": 0.25, \"interactionType\": 1, \"questionType\": 2, \"questionId\": \"3_Q3\", \"learnToolsVersion\": \"0.3.4\", \"failureMessage\": \"\", \"exceptionClass\": \"\", \"trace\": \"\"}}, \"*\")"
      ],
      "text/plain": [
       "<IPython.core.display.Javascript object>"
      ]
     },
     "metadata": {},
     "output_type": "display_data"
    },
    {
     "data": {
      "text/markdown": [
       "<span style=\"color:#33cc33\">Correct</span>"
      ],
      "text/plain": [
       "Correct"
      ]
     },
     "metadata": {},
     "output_type": "display_data"
    }
   ],
   "source": [
    "# YOUR CODE HERE: what loss function should you use for a binary\n",
    "# classification problem? (Your answer for each should be a string.)\n",
    "optimizer = tf.keras.optimizers.Adam(epsilon=0.01)\n",
    "model.compile(\n",
    "    optimizer=optimizer,\n",
    "    loss = \"binary_crossentropy\",\n",
    "    metrics=[\"binary_accuracy\"],\n",
    ")\n",
    "\n",
    "# Check your answer\n",
    "q_3.check()"
   ]
  },
  {
   "cell_type": "code",
   "execution_count": 8,
   "id": "3b1e7bf7",
   "metadata": {
    "execution": {
     "iopub.execute_input": "2025-08-19T13:12:20.501658Z",
     "iopub.status.busy": "2025-08-19T13:12:20.501030Z",
     "iopub.status.idle": "2025-08-19T13:12:20.510052Z",
     "shell.execute_reply": "2025-08-19T13:12:20.509244Z"
    },
    "lines_to_next_cell": 0,
    "papermill": {
     "duration": 0.016423,
     "end_time": "2025-08-19T13:12:20.511519",
     "exception": false,
     "start_time": "2025-08-19T13:12:20.495096",
     "status": "completed"
    },
    "tags": []
   },
   "outputs": [
    {
     "data": {
      "application/javascript": [
       "parent.postMessage({\"jupyterEvent\": \"custom.exercise_interaction\", \"data\": {\"interactionType\": 2, \"questionType\": 2, \"questionId\": \"3_Q3\", \"learnToolsVersion\": \"0.3.4\", \"valueTowardsCompletion\": 0.0, \"failureMessage\": \"\", \"exceptionClass\": \"\", \"trace\": \"\", \"outcomeType\": 4}}, \"*\")"
      ],
      "text/plain": [
       "<IPython.core.display.Javascript object>"
      ]
     },
     "metadata": {},
     "output_type": "display_data"
    },
    {
     "data": {
      "text/markdown": [
       "<span style=\"color:#3366cc\">Hint:</span> This is a *binary* classification problem."
      ],
      "text/plain": [
       "Hint: This is a *binary* classification problem."
      ]
     },
     "metadata": {},
     "output_type": "display_data"
    },
    {
     "data": {
      "application/javascript": [
       "parent.postMessage({\"jupyterEvent\": \"custom.exercise_interaction\", \"data\": {\"interactionType\": 3, \"questionType\": 2, \"questionId\": \"3_Q3\", \"learnToolsVersion\": \"0.3.4\", \"valueTowardsCompletion\": 0.0, \"failureMessage\": \"\", \"exceptionClass\": \"\", \"trace\": \"\", \"outcomeType\": 4}}, \"*\")"
      ],
      "text/plain": [
       "<IPython.core.display.Javascript object>"
      ]
     },
     "metadata": {},
     "output_type": "display_data"
    },
    {
     "data": {
      "text/markdown": [
       "<span style=\"color:#33cc99\">Solution:</span> \n",
       "```python\n",
       "\n",
       "model.compile(\n",
       "    optimizer='adam',\n",
       "    loss='binary_crossentropy',\n",
       "    metrics=['binary_accuracy'],\n",
       ")\n",
       "\n",
       "```"
      ],
      "text/plain": [
       "Solution: \n",
       "```python\n",
       "\n",
       "model.compile(\n",
       "    optimizer='adam',\n",
       "    loss='binary_crossentropy',\n",
       "    metrics=['binary_accuracy'],\n",
       ")\n",
       "\n",
       "```"
      ]
     },
     "metadata": {},
     "output_type": "display_data"
    }
   ],
   "source": [
    "# Lines below will give you a hint or solution code\n",
    "q_3.hint()\n",
    "q_3.solution()"
   ]
  },
  {
   "cell_type": "code",
   "execution_count": 9,
   "id": "e3bb60a4",
   "metadata": {
    "execution": {
     "iopub.execute_input": "2025-08-19T13:12:20.523422Z",
     "iopub.status.busy": "2025-08-19T13:12:20.522658Z",
     "iopub.status.idle": "2025-08-19T13:14:18.474116Z",
     "shell.execute_reply": "2025-08-19T13:14:18.473122Z"
    },
    "papermill": {
     "duration": 117.959047,
     "end_time": "2025-08-19T13:14:18.475842",
     "exception": false,
     "start_time": "2025-08-19T13:12:20.516795",
     "status": "completed"
    },
    "tags": []
   },
   "outputs": [
    {
     "name": "stdout",
     "output_type": "stream",
     "text": [
      "Epoch 1/30\n"
     ]
    },
    {
     "name": "stderr",
     "output_type": "stream",
     "text": [
      "WARNING: All log messages before absl::InitializeLog() is called are written to STDERR\n",
      "I0000 00:00:1755609147.634605      72 device_compiler.h:186] Compiled cluster using XLA!  This line is logged at most once for the lifetime of the process.\n"
     ]
    },
    {
     "name": "stdout",
     "output_type": "stream",
     "text": [
      "80/80 [==============================] - 18s 134ms/step - loss: 0.6005 - binary_accuracy: 0.6682 - val_loss: 0.4549 - val_binary_accuracy: 0.7998\n",
      "Epoch 2/30\n",
      "80/80 [==============================] - 3s 43ms/step - loss: 0.4315 - binary_accuracy: 0.8071 - val_loss: 0.4011 - val_binary_accuracy: 0.8262\n",
      "Epoch 3/30\n",
      "80/80 [==============================] - 3s 43ms/step - loss: 0.3956 - binary_accuracy: 0.8294 - val_loss: 0.3841 - val_binary_accuracy: 0.8325\n",
      "Epoch 4/30\n",
      "80/80 [==============================] - 3s 43ms/step - loss: 0.3772 - binary_accuracy: 0.8372 - val_loss: 0.3742 - val_binary_accuracy: 0.8394\n",
      "Epoch 5/30\n",
      "80/80 [==============================] - 3s 43ms/step - loss: 0.3641 - binary_accuracy: 0.8407 - val_loss: 0.3674 - val_binary_accuracy: 0.8420\n",
      "Epoch 6/30\n",
      "80/80 [==============================] - 3s 43ms/step - loss: 0.3535 - binary_accuracy: 0.8470 - val_loss: 0.3622 - val_binary_accuracy: 0.8450\n",
      "Epoch 7/30\n",
      "80/80 [==============================] - 3s 43ms/step - loss: 0.3447 - binary_accuracy: 0.8515 - val_loss: 0.3585 - val_binary_accuracy: 0.8470\n",
      "Epoch 8/30\n",
      "80/80 [==============================] - 3s 44ms/step - loss: 0.3369 - binary_accuracy: 0.8558 - val_loss: 0.3556 - val_binary_accuracy: 0.8481\n",
      "Epoch 9/30\n",
      "80/80 [==============================] - 3s 43ms/step - loss: 0.3300 - binary_accuracy: 0.8599 - val_loss: 0.3532 - val_binary_accuracy: 0.8480\n",
      "Epoch 10/30\n",
      "80/80 [==============================] - 3s 43ms/step - loss: 0.3239 - binary_accuracy: 0.8626 - val_loss: 0.3511 - val_binary_accuracy: 0.8487\n",
      "Epoch 11/30\n",
      "80/80 [==============================] - 3s 43ms/step - loss: 0.3182 - binary_accuracy: 0.8659 - val_loss: 0.3494 - val_binary_accuracy: 0.8493\n",
      "Epoch 12/30\n",
      "80/80 [==============================] - 3s 43ms/step - loss: 0.3129 - binary_accuracy: 0.8683 - val_loss: 0.3480 - val_binary_accuracy: 0.8485\n",
      "Epoch 13/30\n",
      "80/80 [==============================] - 3s 43ms/step - loss: 0.3081 - binary_accuracy: 0.8708 - val_loss: 0.3471 - val_binary_accuracy: 0.8483\n",
      "Epoch 14/30\n",
      "80/80 [==============================] - 3s 43ms/step - loss: 0.3036 - binary_accuracy: 0.8718 - val_loss: 0.3461 - val_binary_accuracy: 0.8499\n",
      "Epoch 15/30\n",
      "80/80 [==============================] - 3s 43ms/step - loss: 0.2992 - binary_accuracy: 0.8755 - val_loss: 0.3450 - val_binary_accuracy: 0.8519\n",
      "Epoch 16/30\n",
      "80/80 [==============================] - 3s 43ms/step - loss: 0.2952 - binary_accuracy: 0.8782 - val_loss: 0.3440 - val_binary_accuracy: 0.8525\n",
      "Epoch 17/30\n",
      "80/80 [==============================] - 3s 43ms/step - loss: 0.2913 - binary_accuracy: 0.8798 - val_loss: 0.3430 - val_binary_accuracy: 0.8531\n",
      "Epoch 18/30\n",
      "80/80 [==============================] - 3s 43ms/step - loss: 0.2876 - binary_accuracy: 0.8820 - val_loss: 0.3421 - val_binary_accuracy: 0.8531\n",
      "Epoch 19/30\n",
      "80/80 [==============================] - 3s 43ms/step - loss: 0.2842 - binary_accuracy: 0.8837 - val_loss: 0.3414 - val_binary_accuracy: 0.8549\n",
      "Epoch 20/30\n",
      "80/80 [==============================] - 3s 43ms/step - loss: 0.2807 - binary_accuracy: 0.8865 - val_loss: 0.3410 - val_binary_accuracy: 0.8563\n",
      "Epoch 21/30\n",
      "80/80 [==============================] - 3s 43ms/step - loss: 0.2775 - binary_accuracy: 0.8870 - val_loss: 0.3404 - val_binary_accuracy: 0.8569\n",
      "Epoch 22/30\n",
      "80/80 [==============================] - 3s 43ms/step - loss: 0.2743 - binary_accuracy: 0.8894 - val_loss: 0.3399 - val_binary_accuracy: 0.8580\n",
      "Epoch 23/30\n",
      "80/80 [==============================] - 3s 43ms/step - loss: 0.2713 - binary_accuracy: 0.8896 - val_loss: 0.3393 - val_binary_accuracy: 0.8586\n",
      "Epoch 24/30\n",
      "80/80 [==============================] - 3s 43ms/step - loss: 0.2685 - binary_accuracy: 0.8917 - val_loss: 0.3397 - val_binary_accuracy: 0.8582\n",
      "Epoch 25/30\n",
      "80/80 [==============================] - 3s 43ms/step - loss: 0.2657 - binary_accuracy: 0.8921 - val_loss: 0.3390 - val_binary_accuracy: 0.8594\n",
      "Epoch 26/30\n",
      "80/80 [==============================] - 3s 43ms/step - loss: 0.2627 - binary_accuracy: 0.8931 - val_loss: 0.3388 - val_binary_accuracy: 0.8590\n",
      "Epoch 27/30\n",
      "80/80 [==============================] - 3s 43ms/step - loss: 0.2601 - binary_accuracy: 0.8933 - val_loss: 0.3387 - val_binary_accuracy: 0.8594\n",
      "Epoch 28/30\n",
      "80/80 [==============================] - 3s 43ms/step - loss: 0.2575 - binary_accuracy: 0.8941 - val_loss: 0.3381 - val_binary_accuracy: 0.8596\n",
      "Epoch 29/30\n",
      "80/80 [==============================] - 3s 43ms/step - loss: 0.2550 - binary_accuracy: 0.8958 - val_loss: 0.3382 - val_binary_accuracy: 0.8596\n",
      "Epoch 30/30\n",
      "80/80 [==============================] - 3s 43ms/step - loss: 0.2526 - binary_accuracy: 0.8970 - val_loss: 0.3382 - val_binary_accuracy: 0.8598\n"
     ]
    }
   ],
   "source": [
    "history = model.fit(\n",
    "    ds_train,\n",
    "    validation_data=ds_valid,\n",
    "    epochs=30,\n",
    ")"
   ]
  },
  {
   "cell_type": "markdown",
   "id": "62969f48",
   "metadata": {
    "papermill": {
     "duration": 0.04365,
     "end_time": "2025-08-19T13:14:18.564103",
     "exception": false,
     "start_time": "2025-08-19T13:14:18.520453",
     "status": "completed"
    },
    "tags": []
   },
   "source": [
    "Run the cell below to plot the loss and metric curves for this training run."
   ]
  },
  {
   "cell_type": "code",
   "execution_count": 10,
   "id": "3880218e",
   "metadata": {
    "execution": {
     "iopub.execute_input": "2025-08-19T13:14:18.655595Z",
     "iopub.status.busy": "2025-08-19T13:14:18.655073Z",
     "iopub.status.idle": "2025-08-19T13:14:19.189228Z",
     "shell.execute_reply": "2025-08-19T13:14:19.188390Z"
    },
    "papermill": {
     "duration": 0.581836,
     "end_time": "2025-08-19T13:14:19.191083",
     "exception": false,
     "start_time": "2025-08-19T13:14:18.609247",
     "status": "completed"
    },
    "tags": []
   },
   "outputs": [
    {
     "data": {
      "image/png": "[encoded data removed]",
      "text/plain": [
       "<Figure size 640x480 with 1 Axes>"
      ]
     },
     "metadata": {},
     "output_type": "display_data"
    },
    {
     "data": {
      "image/png": "[encoded data removed]",
      "text/plain": [
       "<Figure size 640x480 with 1 Axes>"
      ]
     },
     "metadata": {},
     "output_type": "display_data"
    }
   ],
   "source": [
    "import pandas as pd\n",
    "history_frame = pd.DataFrame(history.history)\n",
    "history_frame.loc[:, ['loss', 'val_loss']].plot()\n",
    "history_frame.loc[:, ['binary_accuracy', 'val_binary_accuracy']].plot();"
   ]
  },
  {
   "cell_type": "markdown",
   "id": "926fa8f5",
   "metadata": {
    "papermill": {
     "duration": 0.044457,
     "end_time": "2025-08-19T13:14:19.324653",
     "exception": false,
     "start_time": "2025-08-19T13:14:19.280196",
     "status": "completed"
    },
    "tags": []
   },
   "source": [
    "# 4) Examine Loss and Accuracy #\n",
    "\n",
    "Do you notice a difference between these learning curves and the curves for VGG16 from the tutorial? What does this difference tell you about what this model (InceptionV2) learned compared to VGG16? Are there ways in which one is better than the other? Worse?\n",
    "\n",
    "After you've thought about it, run the cell below to see the answer."
   ]
  },
  {
   "cell_type": "code",
   "execution_count": 11,
   "id": "99f4f78c",
   "metadata": {
    "execution": {
     "iopub.execute_input": "2025-08-19T13:14:19.416137Z",
     "iopub.status.busy": "2025-08-19T13:14:19.415793Z",
     "iopub.status.idle": "2025-08-19T13:14:19.422450Z",
     "shell.execute_reply": "2025-08-19T13:14:19.421648Z"
    },
    "papermill": {
     "duration": 0.054205,
     "end_time": "2025-08-19T13:14:19.424128",
     "exception": false,
     "start_time": "2025-08-19T13:14:19.369923",
     "status": "completed"
    },
    "tags": []
   },
   "outputs": [
    {
     "data": {
      "application/javascript": [
       "parent.postMessage({\"jupyterEvent\": \"custom.exercise_interaction\", \"data\": {\"outcomeType\": 1, \"valueTowardsCompletion\": 0.25, \"interactionType\": 1, \"questionType\": 4, \"questionId\": \"4_Q4\", \"learnToolsVersion\": \"0.3.4\", \"failureMessage\": \"\", \"exceptionClass\": \"\", \"trace\": \"\"}}, \"*\")"
      ],
      "text/plain": [
       "<IPython.core.display.Javascript object>"
      ]
     },
     "metadata": {},
     "output_type": "display_data"
    },
    {
     "data": {
      "text/markdown": [
       "<span style=\"color:#33cc33\">Correct:</span> \n",
       "\n",
       "That the training loss and validation loss stay fairly close is evidence that the model isn't just memorizing the training data, but rather learning general properties of the two classes. But, because this model converges at a loss greater than the VGG16 model, it's likely that it is underfitting some, and could benefit from some extra capacity.\n"
      ],
      "text/plain": [
       "Correct: \n",
       "\n",
       "That the training loss and validation loss stay fairly close is evidence that the model isn't just memorizing the training data, but rather learning general properties of the two classes. But, because this model converges at a loss greater than the VGG16 model, it's likely that it is underfitting some, and could benefit from some extra capacity."
      ]
     },
     "metadata": {},
     "output_type": "display_data"
    }
   ],
   "source": [
    "# View the solution (Run this code cell to receive credit!)\n",
    "q_4.check()"
   ]
  },
  {
   "cell_type": "markdown",
   "id": "38badbae",
   "metadata": {
    "papermill": {
     "duration": 0.045187,
     "end_time": "2025-08-19T13:14:19.514813",
     "exception": false,
     "start_time": "2025-08-19T13:14:19.469626",
     "status": "completed"
    },
    "tags": []
   },
   "source": [
    "# Conclusion #\n",
    "\n",
    "In this first lesson, you learned the basics of **convolutional image classifiers**, that they consist of a **base** for extracting features from images, and a **head** which uses the features to decide the image's class. You also saw how to build a classifier with **transfer learning** on pretrained base. "
   ]
  },
  {
   "cell_type": "markdown",
   "id": "c36815c4",
   "metadata": {
    "papermill": {
     "duration": 0.052046,
     "end_time": "2025-08-19T13:14:19.612028",
     "exception": false,
     "start_time": "2025-08-19T13:14:19.559982",
     "status": "completed"
    },
    "tags": []
   },
   "source": [
    "# Keep Going #\n",
    "\n",
    "Move on to [**Lesson 2**](https://www.kaggle.com/ryanholbrook/convolution-and-relu) for a detailed look at how the base does this feature extraction. (It's really cool!)"
   ]
  },
  {
   "cell_type": "markdown",
   "id": "51cf2b39",
   "metadata": {
    "papermill": {
     "duration": 0.059004,
     "end_time": "2025-08-19T13:14:19.717033",
     "exception": false,
     "start_time": "2025-08-19T13:14:19.658029",
     "status": "completed"
    },
    "tags": []
   },
   "source": [
    "---\n",
    "\n",
    "\n",
    "\n",
    "\n",
    "*Have questions or comments? Visit the [course discussion forum](https://www.kaggle.com/learn/computer-vision/discussion) to chat with other learners.*"
   ]
  }
 ],
 "metadata": {
  "jupytext": {
   "formats": "ipynb,md",
   "split_at_heading": true
  },
  "kaggle": {
   "accelerator": "gpu",
   "dataSources": [
    {
     "datasetId": 708136,
     "sourceId": 1338830,
     "sourceType": "datasetVersion"
    },
    {
     "datasetId": 701538,
     "sourceId": 1363948,
     "sourceType": "datasetVersion"
    },
    {
     "datasetId": 878523,
     "sourceId": 1495782,
     "sourceType": "datasetVersion"
    }
   ],
   "dockerImageVersionId": 30648,
   "isGpuEnabled": true,
   "isInternetEnabled": true,
   "language": "python",
   "sourceType": "notebook"
  },
  "kernelspec": {
   "display_name": "Python 3",
   "language": "python",
   "name": "python3"
  },
  "language_info": {
   "codemirror_mode": {
    "name": "ipython",
    "version": 3
   },
   "file_extension": ".py",
   "mimetype": "text/x-python",
   "name": "python",
   "nbconvert_exporter": "python",
   "pygments_lexer": "ipython3",
   "version": "3.10.13"
  },
  "papermill": {
   "default_parameters": {},
   "duration": 150.191687,
   "end_time": "2025-08-19T13:14:23.040358",
   "environment_variables": {},
   "exception": null,
   "input_path": "__notebook__.ipynb",
   "output_path": "__notebook__.ipynb",
   "parameters": {},
   "start_time": "2025-08-19T13:11:52.848671",
   "version": "2.5.0"
  }
 },
 "nbformat": 4,
 "nbformat_minor": 5
}
