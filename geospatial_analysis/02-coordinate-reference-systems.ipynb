{
 "cells": [
  {
   "cell_type": "markdown",
   "id": "8fbda16c",
   "metadata": {
    "papermill": {
     "duration": 0.007703,
     "end_time": "2025-10-07T10:51:50.001723",
     "exception": false,
     "start_time": "2025-10-07T10:51:49.994020",
     "status": "completed"
    },
    "tags": []
   },
   "source": [
    "**This notebook is an exercise in the [Geospatial Analysis](https://www.kaggle.com/learn/geospatial-analysis) course.  You can reference the tutorial at [this link](https://www.kaggle.com/alexisbcook/coordinate-reference-systems).**\n",
    "\n",
    "---\n"
   ]
  },
  {
   "cell_type": "markdown",
   "id": "84760d61",
   "metadata": {
    "papermill": {
     "duration": 0.007064,
     "end_time": "2025-10-07T10:51:50.015384",
     "exception": false,
     "start_time": "2025-10-07T10:51:50.008320",
     "status": "completed"
    },
    "tags": []
   },
   "source": [
    "# Introduction\n",
    "\n",
    "You are a bird conservation expert and want to understand migration patterns of purple martins.  In your research, you discover that these birds typically spend the summer breeding season in the eastern United States, and then migrate to South America for the winter.  But since this bird is under threat of endangerment, you'd like to take a closer look at the locations that these birds are more likely to visit.\n",
    "\n",
    "<center>\n",
    "<img src=\"https://storage.googleapis.com/kaggle-media/learn/images/qQcS0KM.png\" width=\"1000\"><br/>\n",
    "</center>\n",
    "\n",
    "There are several [protected areas](https://www.iucn.org/theme/protected-areas/about) in South America, which operate under special regulations to ensure that species that migrate (or live) there have the best opportunity to thrive.  You'd like to know if purple martins tend to visit these areas.  To answer this question, you'll use some recently collected data that tracks the year-round location of eleven different birds.\n",
    "\n",
    "Before you get started, run the code cell below to set everything up."
   ]
  },
  {
   "cell_type": "code",
   "execution_count": 1,
   "id": "bc4f72a5",
   "metadata": {
    "execution": {
     "iopub.execute_input": "2025-10-07T10:51:50.029838Z",
     "iopub.status.busy": "2025-10-07T10:51:50.029467Z",
     "iopub.status.idle": "2025-10-07T10:52:40.268300Z",
     "shell.execute_reply": "2025-10-07T10:52:40.267185Z"
    },
    "papermill": {
     "duration": 50.248839,
     "end_time": "2025-10-07T10:52:40.270431",
     "exception": false,
     "start_time": "2025-10-07T10:51:50.021592",
     "status": "completed"
    },
    "tags": []
   },
   "outputs": [
    {
     "name": "stderr",
     "output_type": "stream",
     "text": [
      "/usr/local/lib/python3.11/dist-packages/pyproj/crs/crs.py:143: FutureWarning: '+init=<authority>:<code>' syntax is deprecated. '<authority>:<code>' is the preferred initialization method. When making the change, be mindful of axis order changes: https://pyproj4.github.io/pyproj/stable/gotchas.html#axis-order-changes-in-proj-6\n",
      "  in_crs_string = _prepare_from_proj_string(in_crs_string)\n",
      "/usr/local/lib/python3.11/dist-packages/pyproj/crs/crs.py:143: FutureWarning: '+init=<authority>:<code>' syntax is deprecated. '<authority>:<code>' is the preferred initialization method. When making the change, be mindful of axis order changes: https://pyproj4.github.io/pyproj/stable/gotchas.html#axis-order-changes-in-proj-6\n",
      "  in_crs_string = _prepare_from_proj_string(in_crs_string)\n",
      "/usr/local/lib/python3.11/dist-packages/learntools/geospatial/ex2.py:33: FutureWarning: The geopandas.dataset module is deprecated and will be removed in GeoPandas 1.0. You can get the original 'naturalearth_lowres' data from https://www.naturalearthdata.com/downloads/110m-cultural-vectors/.\n",
      "  world = gpd.read_file(gpd.datasets.get_path('naturalearth_lowres'))\n"
     ]
    }
   ],
   "source": [
    "import pandas as pd\n",
    "import geopandas as gpd\n",
    "\n",
    "from shapely.geometry import LineString\n",
    "\n",
    "from learntools.core import binder\n",
    "binder.bind(globals())\n",
    "from learntools.geospatial.ex2 import *"
   ]
  },
  {
   "cell_type": "markdown",
   "id": "ff35726b",
   "metadata": {
    "papermill": {
     "duration": 0.006028,
     "end_time": "2025-10-07T10:52:40.282944",
     "exception": false,
     "start_time": "2025-10-07T10:52:40.276916",
     "status": "completed"
    },
    "tags": []
   },
   "source": [
    "# Exercises\n",
    "\n",
    "### 1) Load the data.\n",
    "\n",
    "Run the next code cell (without changes) to load the GPS data into a pandas DataFrame `birds_df`.  "
   ]
  },
  {
   "cell_type": "code",
   "execution_count": 2,
   "id": "e143ef6e",
   "metadata": {
    "execution": {
     "iopub.execute_input": "2025-10-07T10:52:40.296954Z",
     "iopub.status.busy": "2025-10-07T10:52:40.296634Z",
     "iopub.status.idle": "2025-10-07T10:52:40.329616Z",
     "shell.execute_reply": "2025-10-07T10:52:40.328591Z"
    },
    "papermill": {
     "duration": 0.042255,
     "end_time": "2025-10-07T10:52:40.331497",
     "exception": false,
     "start_time": "2025-10-07T10:52:40.289242",
     "status": "completed"
    },
    "tags": []
   },
   "outputs": [
    {
     "name": "stdout",
     "output_type": "stream",
     "text": [
      "There are 11 different birds in the dataset.\n"
     ]
    },
    {
     "data": {
      "text/html": [
       "<div>\n",
       "<style scoped>\n",
       "    .dataframe tbody tr th:only-of-type {\n",
       "        vertical-align: middle;\n",
       "    }\n",
       "\n",
       "    .dataframe tbody tr th {\n",
       "        vertical-align: top;\n",
       "    }\n",
       "\n",
       "    .dataframe thead th {\n",
       "        text-align: right;\n",
       "    }\n",
       "</style>\n",
       "<table border=\"1\" class=\"dataframe\">\n",
       "  <thead>\n",
       "    <tr style=\"text-align: right;\">\n",
       "      <th></th>\n",
       "      <th>timestamp</th>\n",
       "      <th>location-long</th>\n",
       "      <th>location-lat</th>\n",
       "      <th>tag-local-identifier</th>\n",
       "    </tr>\n",
       "  </thead>\n",
       "  <tbody>\n",
       "    <tr>\n",
       "      <th>0</th>\n",
       "      <td>2014-08-15 05:56:00</td>\n",
       "      <td>-88.146014</td>\n",
       "      <td>17.513049</td>\n",
       "      <td>30448</td>\n",
       "    </tr>\n",
       "    <tr>\n",
       "      <th>1</th>\n",
       "      <td>2014-09-01 05:59:00</td>\n",
       "      <td>-85.243501</td>\n",
       "      <td>13.095782</td>\n",
       "      <td>30448</td>\n",
       "    </tr>\n",
       "    <tr>\n",
       "      <th>2</th>\n",
       "      <td>2014-10-30 23:58:00</td>\n",
       "      <td>-62.906089</td>\n",
       "      <td>-7.852436</td>\n",
       "      <td>30448</td>\n",
       "    </tr>\n",
       "    <tr>\n",
       "      <th>3</th>\n",
       "      <td>2014-11-15 04:59:00</td>\n",
       "      <td>-61.776826</td>\n",
       "      <td>-11.723898</td>\n",
       "      <td>30448</td>\n",
       "    </tr>\n",
       "    <tr>\n",
       "      <th>4</th>\n",
       "      <td>2014-11-30 09:59:00</td>\n",
       "      <td>-61.241538</td>\n",
       "      <td>-11.612237</td>\n",
       "      <td>30448</td>\n",
       "    </tr>\n",
       "  </tbody>\n",
       "</table>\n",
       "</div>"
      ],
      "text/plain": [
       "            timestamp  location-long  location-lat  tag-local-identifier\n",
       "0 2014-08-15 05:56:00     -88.146014     17.513049                 30448\n",
       "1 2014-09-01 05:59:00     -85.243501     13.095782                 30448\n",
       "2 2014-10-30 23:58:00     -62.906089     -7.852436                 30448\n",
       "3 2014-11-15 04:59:00     -61.776826    -11.723898                 30448\n",
       "4 2014-11-30 09:59:00     -61.241538    -11.612237                 30448"
      ]
     },
     "execution_count": 2,
     "metadata": {},
     "output_type": "execute_result"
    }
   ],
   "source": [
    "# Load the data and print the first 5 rows\n",
    "birds_df = pd.read_csv(\"../input/geospatial-learn-course-data/purple_martin.csv\", parse_dates=['timestamp'])\n",
    "print(\"There are {} different birds in the dataset.\".format(birds_df[\"tag-local-identifier\"].nunique()))\n",
    "birds_df.head()"
   ]
  },
  {
   "cell_type": "markdown",
   "id": "0c0cbb66",
   "metadata": {
    "papermill": {
     "duration": 0.006164,
     "end_time": "2025-10-07T10:52:40.344783",
     "exception": false,
     "start_time": "2025-10-07T10:52:40.338619",
     "status": "completed"
    },
    "tags": []
   },
   "source": [
    "There are 11 birds in the dataset, where each bird is identified by a unique value in the \"tag-local-identifier\" column.  Each bird has several measurements, collected at different times of the year.\n",
    "\n",
    "Use the next code cell to create a GeoDataFrame `birds`.  \n",
    "- `birds` should have all of the columns from `birds_df`, along with a \"geometry\" column that contains Point objects with (longitude, latitude) locations.  \n",
    "- Set the CRS of `birds` to `{'init': 'epsg:4326'}`."
   ]
  },
  {
   "cell_type": "code",
   "execution_count": 3,
   "id": "b3c1045a",
   "metadata": {
    "execution": {
     "iopub.execute_input": "2025-10-07T10:52:40.359303Z",
     "iopub.status.busy": "2025-10-07T10:52:40.358813Z",
     "iopub.status.idle": "2025-10-07T10:52:40.376926Z",
     "shell.execute_reply": "2025-10-07T10:52:40.375803Z"
    },
    "papermill": {
     "duration": 0.027827,
     "end_time": "2025-10-07T10:52:40.378852",
     "exception": false,
     "start_time": "2025-10-07T10:52:40.351025",
     "status": "completed"
    },
    "tags": []
   },
   "outputs": [
    {
     "name": "stderr",
     "output_type": "stream",
     "text": [
      "/usr/local/lib/python3.11/dist-packages/pyproj/crs/crs.py:143: FutureWarning: '+init=<authority>:<code>' syntax is deprecated. '<authority>:<code>' is the preferred initialization method. When making the change, be mindful of axis order changes: https://pyproj4.github.io/pyproj/stable/gotchas.html#axis-order-changes-in-proj-6\n",
      "  in_crs_string = _prepare_from_proj_string(in_crs_string)\n"
     ]
    },
    {
     "data": {
      "application/javascript": [
       "parent.postMessage({\"jupyterEvent\": \"custom.exercise_interaction\", \"data\": {\"outcomeType\": 1, \"valueTowardsCompletion\": 0.125, \"interactionType\": 1, \"questionType\": 2, \"questionId\": \"1_Q1\", \"learnToolsVersion\": \"0.3.5\", \"failureMessage\": \"\", \"exceptionClass\": \"\", \"trace\": \"\"}}, \"*\")"
      ],
      "text/plain": [
       "<IPython.core.display.Javascript object>"
      ]
     },
     "metadata": {},
     "output_type": "display_data"
    },
    {
     "data": {
      "text/markdown": [
       "<span style=\"color:#33cc33\">Correct</span>"
      ],
      "text/plain": [
       "Correct"
      ]
     },
     "metadata": {},
     "output_type": "display_data"
    }
   ],
   "source": [
    "# Your code here: Create the GeoDataFrame\n",
    "birds = gpd.GeoDataFrame(birds_df, geometry=gpd.points_from_xy(birds_df[\"location-long\"], birds_df[\"location-lat\"]))\n",
    "\n",
    "# Your code here: Set the CRS to {'init': 'epsg:4326'}\n",
    "birds.crs = {'init': 'epsg:4326'}\n",
    "\n",
    "# Check your answer\n",
    "q_1.check()"
   ]
  },
  {
   "cell_type": "code",
   "execution_count": 4,
   "id": "5c5fb653",
   "metadata": {
    "execution": {
     "iopub.execute_input": "2025-10-07T10:52:40.394011Z",
     "iopub.status.busy": "2025-10-07T10:52:40.393713Z",
     "iopub.status.idle": "2025-10-07T10:52:40.405284Z",
     "shell.execute_reply": "2025-10-07T10:52:40.404465Z"
    },
    "papermill": {
     "duration": 0.021068,
     "end_time": "2025-10-07T10:52:40.406936",
     "exception": false,
     "start_time": "2025-10-07T10:52:40.385868",
     "status": "completed"
    },
    "tags": []
   },
   "outputs": [
    {
     "data": {
      "application/javascript": [
       "parent.postMessage({\"jupyterEvent\": \"custom.exercise_interaction\", \"data\": {\"interactionType\": 2, \"questionType\": 2, \"questionId\": \"1_Q1\", \"learnToolsVersion\": \"0.3.5\", \"valueTowardsCompletion\": 0.0, \"failureMessage\": \"\", \"exceptionClass\": \"\", \"trace\": \"\", \"outcomeType\": 4}}, \"*\")"
      ],
      "text/plain": [
       "<IPython.core.display.Javascript object>"
      ]
     },
     "metadata": {},
     "output_type": "display_data"
    },
    {
     "data": {
      "text/markdown": [
       "<span style=\"color:#3366cc\">Hint:</span> Use `gpd.GeoDataFrame()`, and use `gpd.points_from_xy()` to create `Point` objects from the latitude and longitude locations."
      ],
      "text/plain": [
       "Hint: Use `gpd.GeoDataFrame()`, and use `gpd.points_from_xy()` to create `Point` objects from the latitude and longitude locations."
      ]
     },
     "metadata": {},
     "output_type": "display_data"
    },
    {
     "data": {
      "application/javascript": [
       "parent.postMessage({\"jupyterEvent\": \"custom.exercise_interaction\", \"data\": {\"interactionType\": 3, \"questionType\": 2, \"questionId\": \"1_Q1\", \"learnToolsVersion\": \"0.3.5\", \"valueTowardsCompletion\": 0.0, \"failureMessage\": \"\", \"exceptionClass\": \"\", \"trace\": \"\", \"outcomeType\": 4}}, \"*\")"
      ],
      "text/plain": [
       "<IPython.core.display.Javascript object>"
      ]
     },
     "metadata": {},
     "output_type": "display_data"
    },
    {
     "data": {
      "text/markdown": [
       "<span style=\"color:#33cc99\">Solution:</span> \n",
       "```python\n",
       "# Create the GeoDataFrame\n",
       "birds = gpd.GeoDataFrame(birds_df, geometry=gpd.points_from_xy(birds_df[\"location-long\"], birds_df[\"location-lat\"]))\n",
       "\n",
       "# Set the CRS to {'init': 'epsg:4326'}\n",
       "birds.crs = {'init' :'epsg:4326'}\n",
       "\n",
       "```"
      ],
      "text/plain": [
       "Solution: \n",
       "```python\n",
       "# Create the GeoDataFrame\n",
       "birds = gpd.GeoDataFrame(birds_df, geometry=gpd.points_from_xy(birds_df[\"location-long\"], birds_df[\"location-lat\"]))\n",
       "\n",
       "# Set the CRS to {'init': 'epsg:4326'}\n",
       "birds.crs = {'init' :'epsg:4326'}\n",
       "\n",
       "```"
      ]
     },
     "metadata": {},
     "output_type": "display_data"
    }
   ],
   "source": [
    "# Lines below will give you a hint or solution code\n",
    "q_1.hint()\n",
    "q_1.solution()"
   ]
  },
  {
   "cell_type": "markdown",
   "id": "280fe0fe",
   "metadata": {
    "papermill": {
     "duration": 0.007985,
     "end_time": "2025-10-07T10:52:40.422006",
     "exception": false,
     "start_time": "2025-10-07T10:52:40.414021",
     "status": "completed"
    },
    "tags": []
   },
   "source": [
    "### 2) Plot the data.\n",
    "\n",
    "Next, we load in the `'naturalearth_lowres'` dataset from GeoPandas, and set `americas` to a GeoDataFrame containing the boundaries of all countries in the Americas (both North and South America).  Run the next code cell without changes."
   ]
  },
  {
   "cell_type": "code",
   "execution_count": 5,
   "id": "5d0415a7",
   "metadata": {
    "execution": {
     "iopub.execute_input": "2025-10-07T10:52:40.437828Z",
     "iopub.status.busy": "2025-10-07T10:52:40.437498Z",
     "iopub.status.idle": "2025-10-07T10:52:40.507607Z",
     "shell.execute_reply": "2025-10-07T10:52:40.506525Z"
    },
    "papermill": {
     "duration": 0.08033,
     "end_time": "2025-10-07T10:52:40.509669",
     "exception": false,
     "start_time": "2025-10-07T10:52:40.429339",
     "status": "completed"
    },
    "tags": []
   },
   "outputs": [
    {
     "name": "stderr",
     "output_type": "stream",
     "text": [
      "/tmp/ipykernel_13/2146633488.py:2: FutureWarning: The geopandas.dataset module is deprecated and will be removed in GeoPandas 1.0. You can get the original 'naturalearth_lowres' data from https://www.naturalearthdata.com/downloads/110m-cultural-vectors/.\n",
      "  world = gpd.read_file(gpd.datasets.get_path('naturalearth_lowres'))\n"
     ]
    },
    {
     "data": {
      "text/html": [
       "<div>\n",
       "<style scoped>\n",
       "    .dataframe tbody tr th:only-of-type {\n",
       "        vertical-align: middle;\n",
       "    }\n",
       "\n",
       "    .dataframe tbody tr th {\n",
       "        vertical-align: top;\n",
       "    }\n",
       "\n",
       "    .dataframe thead th {\n",
       "        text-align: right;\n",
       "    }\n",
       "</style>\n",
       "<table border=\"1\" class=\"dataframe\">\n",
       "  <thead>\n",
       "    <tr style=\"text-align: right;\">\n",
       "      <th></th>\n",
       "      <th>pop_est</th>\n",
       "      <th>continent</th>\n",
       "      <th>name</th>\n",
       "      <th>iso_a3</th>\n",
       "      <th>gdp_md_est</th>\n",
       "      <th>geometry</th>\n",
       "    </tr>\n",
       "  </thead>\n",
       "  <tbody>\n",
       "    <tr>\n",
       "      <th>3</th>\n",
       "      <td>37589262.0</td>\n",
       "      <td>North America</td>\n",
       "      <td>Canada</td>\n",
       "      <td>CAN</td>\n",
       "      <td>1736425</td>\n",
       "      <td>MULTIPOLYGON (((-122.84000 49.00000, -122.9742...</td>\n",
       "    </tr>\n",
       "    <tr>\n",
       "      <th>4</th>\n",
       "      <td>328239523.0</td>\n",
       "      <td>North America</td>\n",
       "      <td>United States of America</td>\n",
       "      <td>USA</td>\n",
       "      <td>21433226</td>\n",
       "      <td>MULTIPOLYGON (((-122.84000 49.00000, -120.0000...</td>\n",
       "    </tr>\n",
       "    <tr>\n",
       "      <th>9</th>\n",
       "      <td>44938712.0</td>\n",
       "      <td>South America</td>\n",
       "      <td>Argentina</td>\n",
       "      <td>ARG</td>\n",
       "      <td>445445</td>\n",
       "      <td>MULTIPOLYGON (((-68.63401 -52.63637, -68.25000...</td>\n",
       "    </tr>\n",
       "    <tr>\n",
       "      <th>10</th>\n",
       "      <td>18952038.0</td>\n",
       "      <td>South America</td>\n",
       "      <td>Chile</td>\n",
       "      <td>CHL</td>\n",
       "      <td>282318</td>\n",
       "      <td>MULTIPOLYGON (((-68.63401 -52.63637, -68.63335...</td>\n",
       "    </tr>\n",
       "    <tr>\n",
       "      <th>16</th>\n",
       "      <td>11263077.0</td>\n",
       "      <td>North America</td>\n",
       "      <td>Haiti</td>\n",
       "      <td>HTI</td>\n",
       "      <td>14332</td>\n",
       "      <td>POLYGON ((-71.71236 19.71446, -71.62487 19.169...</td>\n",
       "    </tr>\n",
       "  </tbody>\n",
       "</table>\n",
       "</div>"
      ],
      "text/plain": [
       "        pop_est      continent                      name iso_a3  gdp_md_est  \\\n",
       "3    37589262.0  North America                    Canada    CAN     1736425   \n",
       "4   328239523.0  North America  United States of America    USA    21433226   \n",
       "9    44938712.0  South America                 Argentina    ARG      445445   \n",
       "10   18952038.0  South America                     Chile    CHL      282318   \n",
       "16   11263077.0  North America                     Haiti    HTI       14332   \n",
       "\n",
       "                                             geometry  \n",
       "3   MULTIPOLYGON (((-122.84000 49.00000, -122.9742...  \n",
       "4   MULTIPOLYGON (((-122.84000 49.00000, -120.0000...  \n",
       "9   MULTIPOLYGON (((-68.63401 -52.63637, -68.25000...  \n",
       "10  MULTIPOLYGON (((-68.63401 -52.63637, -68.63335...  \n",
       "16  POLYGON ((-71.71236 19.71446, -71.62487 19.169...  "
      ]
     },
     "execution_count": 5,
     "metadata": {},
     "output_type": "execute_result"
    }
   ],
   "source": [
    "# Load a GeoDataFrame with country boundaries in North/South America, print the first 5 rows\n",
    "world = gpd.read_file(gpd.datasets.get_path('naturalearth_lowres'))\n",
    "americas = world.loc[world['continent'].isin(['North America', 'South America'])]\n",
    "americas.head()"
   ]
  },
  {
   "cell_type": "markdown",
   "id": "59d1a652",
   "metadata": {
    "papermill": {
     "duration": 0.006795,
     "end_time": "2025-10-07T10:52:40.523873",
     "exception": false,
     "start_time": "2025-10-07T10:52:40.517078",
     "status": "completed"
    },
    "tags": []
   },
   "source": [
    "Use the next code cell to create a single plot that shows both: (1) the country boundaries in the `americas` GeoDataFrame, and (2) all of the points in the `birds_gdf` GeoDataFrame.  \n",
    "\n",
    "Don't worry about any special styling here; just create a preliminary plot, as a quick sanity check that all of the data was loaded properly.  In particular, you don't have to worry about color-coding the points to differentiate between birds, and you don't have to differentiate starting points from ending points.  We'll do that in the next part of the exercise."
   ]
  },
  {
   "cell_type": "code",
   "execution_count": 6,
   "id": "0a894ce1",
   "metadata": {
    "execution": {
     "iopub.execute_input": "2025-10-07T10:52:40.539664Z",
     "iopub.status.busy": "2025-10-07T10:52:40.539294Z",
     "iopub.status.idle": "2025-10-07T10:52:40.905801Z",
     "shell.execute_reply": "2025-10-07T10:52:40.904570Z"
    },
    "papermill": {
     "duration": 0.377191,
     "end_time": "2025-10-07T10:52:40.907998",
     "exception": false,
     "start_time": "2025-10-07T10:52:40.530807",
     "status": "completed"
    },
    "tags": []
   },
   "outputs": [
    {
     "data": {
      "application/javascript": [
       "parent.postMessage({\"jupyterEvent\": \"custom.exercise_interaction\", \"data\": {\"interactionType\": 2, \"questionType\": 2, \"questionId\": \"2_Q2\", \"learnToolsVersion\": \"0.3.5\", \"valueTowardsCompletion\": 0.0, \"failureMessage\": \"\", \"exceptionClass\": \"\", \"trace\": \"\", \"outcomeType\": 4}}, \"*\")"
      ],
      "text/plain": [
       "<IPython.core.display.Javascript object>"
      ]
     },
     "metadata": {},
     "output_type": "display_data"
    },
    {
     "data": {
      "text/markdown": [
       "<span style=\"color:#3366cc\">Hint:</span> Use the `plot()` method of each GeoDataFrame."
      ],
      "text/plain": [
       "Hint: Use the `plot()` method of each GeoDataFrame."
      ]
     },
     "metadata": {},
     "output_type": "display_data"
    },
    {
     "data": {
      "image/png": "[encoded data removed]",
      "text/plain": [
       "<Figure size 640x480 with 1 Axes>"
      ]
     },
     "metadata": {},
     "output_type": "display_data"
    }
   ],
   "source": [
    "# Your code here\n",
    "ax = americas.plot()\n",
    "birds.plot(color=\"orange\", ax=ax)\n",
    "\n",
    "# Uncomment to see a hint\n",
    "q_2.hint()"
   ]
  },
  {
   "cell_type": "code",
   "execution_count": 7,
   "id": "8fc18b62",
   "metadata": {
    "execution": {
     "iopub.execute_input": "2025-10-07T10:52:40.926021Z",
     "iopub.status.busy": "2025-10-07T10:52:40.925693Z",
     "iopub.status.idle": "2025-10-07T10:52:40.936905Z",
     "shell.execute_reply": "2025-10-07T10:52:40.935782Z"
    },
    "papermill": {
     "duration": 0.022231,
     "end_time": "2025-10-07T10:52:40.938728",
     "exception": false,
     "start_time": "2025-10-07T10:52:40.916497",
     "status": "completed"
    },
    "tags": []
   },
   "outputs": [
    {
     "data": {
      "application/javascript": [
       "parent.postMessage({\"jupyterEvent\": \"custom.exercise_interaction\", \"data\": {\"outcomeType\": 1, \"valueTowardsCompletion\": 0.125, \"interactionType\": 1, \"questionType\": 2, \"questionId\": \"2_Q2\", \"learnToolsVersion\": \"0.3.5\", \"failureMessage\": \"\", \"exceptionClass\": \"\", \"trace\": \"\"}}, \"*\")"
      ],
      "text/plain": [
       "<IPython.core.display.Javascript object>"
      ]
     },
     "metadata": {},
     "output_type": "display_data"
    },
    {
     "data": {
      "text/markdown": [
       "<span style=\"color:#33cc33\">Thank you for creating a map!</span>"
      ],
      "text/plain": [
       "Thank you for creating a map!"
      ]
     },
     "metadata": {},
     "output_type": "display_data"
    },
    {
     "data": {
      "application/javascript": [
       "parent.postMessage({\"jupyterEvent\": \"custom.exercise_interaction\", \"data\": {\"interactionType\": 3, \"questionType\": 2, \"questionId\": \"2_Q2\", \"learnToolsVersion\": \"0.3.5\", \"valueTowardsCompletion\": 0.0, \"failureMessage\": \"\", \"exceptionClass\": \"\", \"trace\": \"\", \"outcomeType\": 4}}, \"*\")"
      ],
      "text/plain": [
       "<IPython.core.display.Javascript object>"
      ]
     },
     "metadata": {},
     "output_type": "display_data"
    },
    {
     "data": {
      "text/markdown": [
       "<span style=\"color:#33cc99\">Solution:</span> \n",
       "```python\n",
       "ax = americas.plot(figsize=(10,10), color='white', linestyle=':', edgecolor='gray')\n",
       "birds.plot(ax=ax, markersize=10)\n",
       "\n",
       "# Uncomment to zoom in\n",
       "#ax.set_xlim([-110, -30])\n",
       "#ax.set_ylim([-30, 60])\n",
       "\n",
       "```"
      ],
      "text/plain": [
       "Solution: \n",
       "```python\n",
       "ax = americas.plot(figsize=(10,10), color='white', linestyle=':', edgecolor='gray')\n",
       "birds.plot(ax=ax, markersize=10)\n",
       "\n",
       "# Uncomment to zoom in\n",
       "#ax.set_xlim([-110, -30])\n",
       "#ax.set_ylim([-30, 60])\n",
       "\n",
       "```"
      ]
     },
     "metadata": {},
     "output_type": "display_data"
    }
   ],
   "source": [
    "# Get credit for your work after you have created a map\n",
    "q_2.check()\n",
    "\n",
    "# Uncomment to see our solution (your code may look different!)\n",
    "q_2.solution()"
   ]
  },
  {
   "cell_type": "markdown",
   "id": "f9ffce63",
   "metadata": {
    "papermill": {
     "duration": 0.008192,
     "end_time": "2025-10-07T10:52:40.955944",
     "exception": false,
     "start_time": "2025-10-07T10:52:40.947752",
     "status": "completed"
    },
    "tags": []
   },
   "source": [
    "### 3) Where does each bird start and end its journey? (Part 1)\n",
    "\n",
    "Now, we're ready to look more closely at each bird's path.  Run the next code cell to create two GeoDataFrames:\n",
    "- `path_gdf` contains LineString objects that show the path of each bird.  It uses the `LineString()` method to create a LineString object from a list of Point objects.\n",
    "- `start_gdf` contains the starting points for each bird."
   ]
  },
  {
   "cell_type": "code",
   "execution_count": 8,
   "id": "26ab83b2",
   "metadata": {
    "execution": {
     "iopub.execute_input": "2025-10-07T10:52:40.974287Z",
     "iopub.status.busy": "2025-10-07T10:52:40.973921Z",
     "iopub.status.idle": "2025-10-07T10:52:41.003038Z",
     "shell.execute_reply": "2025-10-07T10:52:41.001822Z"
    },
    "papermill": {
     "duration": 0.040214,
     "end_time": "2025-10-07T10:52:41.004666",
     "exception": false,
     "start_time": "2025-10-07T10:52:40.964452",
     "status": "completed"
    },
    "tags": []
   },
   "outputs": [
    {
     "name": "stderr",
     "output_type": "stream",
     "text": [
      "/usr/local/lib/python3.11/dist-packages/pyproj/crs/crs.py:143: FutureWarning: '+init=<authority>:<code>' syntax is deprecated. '<authority>:<code>' is the preferred initialization method. When making the change, be mindful of axis order changes: https://pyproj4.github.io/pyproj/stable/gotchas.html#axis-order-changes-in-proj-6\n",
      "  in_crs_string = _prepare_from_proj_string(in_crs_string)\n",
      "/usr/local/lib/python3.11/dist-packages/pyproj/crs/crs.py:143: FutureWarning: '+init=<authority>:<code>' syntax is deprecated. '<authority>:<code>' is the preferred initialization method. When making the change, be mindful of axis order changes: https://pyproj4.github.io/pyproj/stable/gotchas.html#axis-order-changes-in-proj-6\n",
      "  in_crs_string = _prepare_from_proj_string(in_crs_string)\n"
     ]
    },
    {
     "data": {
      "text/html": [
       "<div>\n",
       "<style scoped>\n",
       "    .dataframe tbody tr th:only-of-type {\n",
       "        vertical-align: middle;\n",
       "    }\n",
       "\n",
       "    .dataframe tbody tr th {\n",
       "        vertical-align: top;\n",
       "    }\n",
       "\n",
       "    .dataframe thead th {\n",
       "        text-align: right;\n",
       "    }\n",
       "</style>\n",
       "<table border=\"1\" class=\"dataframe\">\n",
       "  <thead>\n",
       "    <tr style=\"text-align: right;\">\n",
       "      <th></th>\n",
       "      <th>tag-local-identifier</th>\n",
       "      <th>geometry</th>\n",
       "    </tr>\n",
       "  </thead>\n",
       "  <tbody>\n",
       "    <tr>\n",
       "      <th>0</th>\n",
       "      <td>30048</td>\n",
       "      <td>POINT (-90.12992 20.73242)</td>\n",
       "    </tr>\n",
       "    <tr>\n",
       "      <th>1</th>\n",
       "      <td>30054</td>\n",
       "      <td>POINT (-93.60861 46.50563)</td>\n",
       "    </tr>\n",
       "    <tr>\n",
       "      <th>2</th>\n",
       "      <td>30198</td>\n",
       "      <td>POINT (-80.31036 25.92545)</td>\n",
       "    </tr>\n",
       "    <tr>\n",
       "      <th>3</th>\n",
       "      <td>30263</td>\n",
       "      <td>POINT (-76.78146 42.99209)</td>\n",
       "    </tr>\n",
       "    <tr>\n",
       "      <th>4</th>\n",
       "      <td>30275</td>\n",
       "      <td>POINT (-76.78213 42.99207)</td>\n",
       "    </tr>\n",
       "  </tbody>\n",
       "</table>\n",
       "</div>"
      ],
      "text/plain": [
       "   tag-local-identifier                    geometry\n",
       "0                 30048  POINT (-90.12992 20.73242)\n",
       "1                 30054  POINT (-93.60861 46.50563)\n",
       "2                 30198  POINT (-80.31036 25.92545)\n",
       "3                 30263  POINT (-76.78146 42.99209)\n",
       "4                 30275  POINT (-76.78213 42.99207)"
      ]
     },
     "execution_count": 8,
     "metadata": {},
     "output_type": "execute_result"
    }
   ],
   "source": [
    "# GeoDataFrame showing path for each bird\n",
    "path_df = birds.groupby(\"tag-local-identifier\")['geometry'].apply(list).apply(lambda x: LineString(x)).reset_index()\n",
    "path_gdf = gpd.GeoDataFrame(path_df, geometry=path_df.geometry)\n",
    "path_gdf.crs = {'init' :'epsg:4326'}\n",
    "\n",
    "# GeoDataFrame showing starting point for each bird\n",
    "start_df = birds.groupby(\"tag-local-identifier\")['geometry'].apply(list).apply(lambda x: x[0]).reset_index()\n",
    "start_gdf = gpd.GeoDataFrame(start_df, geometry=start_df.geometry)\n",
    "start_gdf.crs = {'init' :'epsg:4326'}\n",
    "\n",
    "# Show first five rows of GeoDataFrame\n",
    "start_gdf.head()"
   ]
  },
  {
   "cell_type": "markdown",
   "id": "abf81493",
   "metadata": {
    "papermill": {
     "duration": 0.008394,
     "end_time": "2025-10-07T10:52:41.022025",
     "exception": false,
     "start_time": "2025-10-07T10:52:41.013631",
     "status": "completed"
    },
    "tags": []
   },
   "source": [
    "Use the next code cell to create a GeoDataFrame `end_gdf` containing the final location of each bird.  \n",
    "- The format should be identical to that of `start_gdf`, with two columns (\"tag-local-identifier\" and \"geometry\"), where the \"geometry\" column contains Point objects.\n",
    "- Set the CRS of `end_gdf` to `{'init': 'epsg:4326'}`."
   ]
  },
  {
   "cell_type": "code",
   "execution_count": 9,
   "id": "3b924b62",
   "metadata": {
    "execution": {
     "iopub.execute_input": "2025-10-07T10:52:41.043277Z",
     "iopub.status.busy": "2025-10-07T10:52:41.042896Z",
     "iopub.status.idle": "2025-10-07T10:52:41.062050Z",
     "shell.execute_reply": "2025-10-07T10:52:41.060949Z"
    },
    "papermill": {
     "duration": 0.032864,
     "end_time": "2025-10-07T10:52:41.063835",
     "exception": false,
     "start_time": "2025-10-07T10:52:41.030971",
     "status": "completed"
    },
    "tags": []
   },
   "outputs": [
    {
     "name": "stderr",
     "output_type": "stream",
     "text": [
      "/usr/local/lib/python3.11/dist-packages/pyproj/crs/crs.py:143: FutureWarning: '+init=<authority>:<code>' syntax is deprecated. '<authority>:<code>' is the preferred initialization method. When making the change, be mindful of axis order changes: https://pyproj4.github.io/pyproj/stable/gotchas.html#axis-order-changes-in-proj-6\n",
      "  in_crs_string = _prepare_from_proj_string(in_crs_string)\n"
     ]
    },
    {
     "data": {
      "application/javascript": [
       "parent.postMessage({\"jupyterEvent\": \"custom.exercise_interaction\", \"data\": {\"outcomeType\": 1, \"valueTowardsCompletion\": 0.125, \"interactionType\": 1, \"questionType\": 2, \"questionId\": \"3_Q3\", \"learnToolsVersion\": \"0.3.5\", \"failureMessage\": \"\", \"exceptionClass\": \"\", \"trace\": \"\"}}, \"*\")"
      ],
      "text/plain": [
       "<IPython.core.display.Javascript object>"
      ]
     },
     "metadata": {},
     "output_type": "display_data"
    },
    {
     "data": {
      "text/markdown": [
       "<span style=\"color:#33cc33\">Correct</span>"
      ],
      "text/plain": [
       "Correct"
      ]
     },
     "metadata": {},
     "output_type": "display_data"
    }
   ],
   "source": [
    "# Your code here\n",
    "end_df = birds.groupby(\"tag-local-identifier\")['geometry'].apply(list).apply(lambda x: x[-1]).reset_index()\n",
    "end_gdf = gpd.GeoDataFrame(end_df, geometry=end_df.geometry)\n",
    "end_gdf.crs = {'init' :'epsg:4326'}\n",
    "\n",
    "# Check your answer\n",
    "q_3.check()"
   ]
  },
  {
   "cell_type": "code",
   "execution_count": 10,
   "id": "1a940d18",
   "metadata": {
    "execution": {
     "iopub.execute_input": "2025-10-07T10:52:41.084304Z",
     "iopub.status.busy": "2025-10-07T10:52:41.083948Z",
     "iopub.status.idle": "2025-10-07T10:52:41.096252Z",
     "shell.execute_reply": "2025-10-07T10:52:41.094630Z"
    },
    "papermill": {
     "duration": 0.02448,
     "end_time": "2025-10-07T10:52:41.098023",
     "exception": false,
     "start_time": "2025-10-07T10:52:41.073543",
     "status": "completed"
    },
    "tags": []
   },
   "outputs": [
    {
     "data": {
      "application/javascript": [
       "parent.postMessage({\"jupyterEvent\": \"custom.exercise_interaction\", \"data\": {\"interactionType\": 2, \"questionType\": 2, \"questionId\": \"3_Q3\", \"learnToolsVersion\": \"0.3.5\", \"valueTowardsCompletion\": 0.0, \"failureMessage\": \"\", \"exceptionClass\": \"\", \"trace\": \"\", \"outcomeType\": 4}}, \"*\")"
      ],
      "text/plain": [
       "<IPython.core.display.Javascript object>"
      ]
     },
     "metadata": {},
     "output_type": "display_data"
    },
    {
     "data": {
      "text/markdown": [
       "<span style=\"color:#3366cc\">Hint:</span> The code that you need to write is very similar to the code that was used to create `start_gdf`."
      ],
      "text/plain": [
       "Hint: The code that you need to write is very similar to the code that was used to create `start_gdf`."
      ]
     },
     "metadata": {},
     "output_type": "display_data"
    },
    {
     "data": {
      "application/javascript": [
       "parent.postMessage({\"jupyterEvent\": \"custom.exercise_interaction\", \"data\": {\"interactionType\": 3, \"questionType\": 2, \"questionId\": \"3_Q3\", \"learnToolsVersion\": \"0.3.5\", \"valueTowardsCompletion\": 0.0, \"failureMessage\": \"\", \"exceptionClass\": \"\", \"trace\": \"\", \"outcomeType\": 4}}, \"*\")"
      ],
      "text/plain": [
       "<IPython.core.display.Javascript object>"
      ]
     },
     "metadata": {},
     "output_type": "display_data"
    },
    {
     "data": {
      "text/markdown": [
       "<span style=\"color:#33cc99\">Solution:</span> \n",
       "```python\n",
       "end_df = birds.groupby(\"tag-local-identifier\")['geometry'].apply(list).apply(lambda x: x[-1]).reset_index()\n",
       "end_gdf = gpd.GeoDataFrame(end_df, geometry=end_df.geometry)\n",
       "end_gdf.crs = {'init': 'epsg:4326'}\n",
       "\n",
       "```"
      ],
      "text/plain": [
       "Solution: \n",
       "```python\n",
       "end_df = birds.groupby(\"tag-local-identifier\")['geometry'].apply(list).apply(lambda x: x[-1]).reset_index()\n",
       "end_gdf = gpd.GeoDataFrame(end_df, geometry=end_df.geometry)\n",
       "end_gdf.crs = {'init': 'epsg:4326'}\n",
       "\n",
       "```"
      ]
     },
     "metadata": {},
     "output_type": "display_data"
    }
   ],
   "source": [
    "# Lines below will give you a hint or solution code\n",
    "q_3.hint()\n",
    "q_3.solution()"
   ]
  },
  {
   "cell_type": "markdown",
   "id": "d5e74548",
   "metadata": {
    "papermill": {
     "duration": 0.008871,
     "end_time": "2025-10-07T10:52:41.116343",
     "exception": false,
     "start_time": "2025-10-07T10:52:41.107472",
     "status": "completed"
    },
    "tags": []
   },
   "source": [
    "### 4) Where does each bird start and end its journey? (Part 2)\n",
    "\n",
    "Use the GeoDataFrames from the question above (`path_gdf`, `start_gdf`, and `end_gdf`) to visualize the paths of all birds on a single map.  You may also want to use the `americas` GeoDataFrame."
   ]
  },
  {
   "cell_type": "code",
   "execution_count": 11,
   "id": "1d91eaa9",
   "metadata": {
    "execution": {
     "iopub.execute_input": "2025-10-07T10:52:41.135963Z",
     "iopub.status.busy": "2025-10-07T10:52:41.135583Z",
     "iopub.status.idle": "2025-10-07T10:52:41.474713Z",
     "shell.execute_reply": "2025-10-07T10:52:41.473012Z"
    },
    "papermill": {
     "duration": 0.350824,
     "end_time": "2025-10-07T10:52:41.476463",
     "exception": false,
     "start_time": "2025-10-07T10:52:41.125639",
     "status": "completed"
    },
    "tags": []
   },
   "outputs": [
    {
     "data": {
      "application/javascript": [
       "parent.postMessage({\"jupyterEvent\": \"custom.exercise_interaction\", \"data\": {\"interactionType\": 2, \"questionType\": 2, \"questionId\": \"4_Q4\", \"learnToolsVersion\": \"0.3.5\", \"valueTowardsCompletion\": 0.0, \"failureMessage\": \"\", \"exceptionClass\": \"\", \"trace\": \"\", \"outcomeType\": 4}}, \"*\")"
      ],
      "text/plain": [
       "<IPython.core.display.Javascript object>"
      ]
     },
     "metadata": {},
     "output_type": "display_data"
    },
    {
     "data": {
      "text/markdown": [
       "<span style=\"color:#3366cc\">Hint:</span> Use the `plot()` method of each GeoDataFrame."
      ],
      "text/plain": [
       "Hint: Use the `plot()` method of each GeoDataFrame."
      ]
     },
     "metadata": {},
     "output_type": "display_data"
    },
    {
     "data": {
      "image/png": "[encoded data removed]",
      "text/plain": [
       "<Figure size 640x480 with 1 Axes>"
      ]
     },
     "metadata": {},
     "output_type": "display_data"
    }
   ],
   "source": [
    "# Your code here\n",
    "ax = americas.plot()\n",
    "path_gdf.plot(cmap='tab20b', ax=ax)\n",
    "start_gdf.plot(color=\"green\", ax=ax)\n",
    "end_gdf.plot(color=\"red\", ax=ax)\n",
    "\n",
    "# Uncomment to see a hint\n",
    "q_4.hint()"
   ]
  },
  {
   "cell_type": "code",
   "execution_count": 12,
   "id": "1f6ad2db",
   "metadata": {
    "execution": {
     "iopub.execute_input": "2025-10-07T10:52:41.500563Z",
     "iopub.status.busy": "2025-10-07T10:52:41.500243Z",
     "iopub.status.idle": "2025-10-07T10:52:41.514079Z",
     "shell.execute_reply": "2025-10-07T10:52:41.512846Z"
    },
    "papermill": {
     "duration": 0.02838,
     "end_time": "2025-10-07T10:52:41.516434",
     "exception": false,
     "start_time": "2025-10-07T10:52:41.488054",
     "status": "completed"
    },
    "tags": []
   },
   "outputs": [
    {
     "data": {
      "application/javascript": [
       "parent.postMessage({\"jupyterEvent\": \"custom.exercise_interaction\", \"data\": {\"outcomeType\": 1, \"valueTowardsCompletion\": 0.125, \"interactionType\": 1, \"questionType\": 2, \"questionId\": \"4_Q4\", \"learnToolsVersion\": \"0.3.5\", \"failureMessage\": \"\", \"exceptionClass\": \"\", \"trace\": \"\"}}, \"*\")"
      ],
      "text/plain": [
       "<IPython.core.display.Javascript object>"
      ]
     },
     "metadata": {},
     "output_type": "display_data"
    },
    {
     "data": {
      "text/markdown": [
       "<span style=\"color:#33cc33\">Thank you for creating a map!</span>"
      ],
      "text/plain": [
       "Thank you for creating a map!"
      ]
     },
     "metadata": {},
     "output_type": "display_data"
    },
    {
     "data": {
      "application/javascript": [
       "parent.postMessage({\"jupyterEvent\": \"custom.exercise_interaction\", \"data\": {\"interactionType\": 3, \"questionType\": 2, \"questionId\": \"4_Q4\", \"learnToolsVersion\": \"0.3.5\", \"valueTowardsCompletion\": 0.0, \"failureMessage\": \"\", \"exceptionClass\": \"\", \"trace\": \"\", \"outcomeType\": 4}}, \"*\")"
      ],
      "text/plain": [
       "<IPython.core.display.Javascript object>"
      ]
     },
     "metadata": {},
     "output_type": "display_data"
    },
    {
     "data": {
      "text/markdown": [
       "<span style=\"color:#33cc99\">Solution:</span> \n",
       "```python\n",
       "ax = americas.plot(figsize=(10, 10), color='white', linestyle=':', edgecolor='gray')\n",
       "\n",
       "start_gdf.plot(ax=ax, color='red',  markersize=30)\n",
       "path_gdf.plot(ax=ax, cmap='tab20b', linestyle='-', linewidth=1, zorder=1)\n",
       "end_gdf.plot(ax=ax, color='black', markersize=30)\n",
       "\n",
       "```"
      ],
      "text/plain": [
       "Solution: \n",
       "```python\n",
       "ax = americas.plot(figsize=(10, 10), color='white', linestyle=':', edgecolor='gray')\n",
       "\n",
       "start_gdf.plot(ax=ax, color='red',  markersize=30)\n",
       "path_gdf.plot(ax=ax, cmap='tab20b', linestyle='-', linewidth=1, zorder=1)\n",
       "end_gdf.plot(ax=ax, color='black', markersize=30)\n",
       "\n",
       "```"
      ]
     },
     "metadata": {},
     "output_type": "display_data"
    }
   ],
   "source": [
    "# Get credit for your work after you have created a map\n",
    "q_4.check()\n",
    "\n",
    "# Uncomment to see our solution (your code may look different!)\n",
    "q_4.solution()"
   ]
  },
  {
   "cell_type": "markdown",
   "id": "76b2063a",
   "metadata": {
    "papermill": {
     "duration": 0.010543,
     "end_time": "2025-10-07T10:52:41.538047",
     "exception": false,
     "start_time": "2025-10-07T10:52:41.527504",
     "status": "completed"
    },
    "tags": []
   },
   "source": [
    "### 5) Where are the protected areas in South America? (Part 1)\n",
    "\n",
    "It looks like all of the birds end up somewhere in South America.  But are they going to protected areas?\n",
    "\n",
    "In the next code cell, you'll create a GeoDataFrame `protected_areas` containing the locations of all of the protected areas in South America.  The corresponding shapefile is located at filepath `protected_filepath`."
   ]
  },
  {
   "cell_type": "code",
   "execution_count": 13,
   "id": "4c6cd31b",
   "metadata": {
    "execution": {
     "iopub.execute_input": "2025-10-07T10:52:41.561010Z",
     "iopub.status.busy": "2025-10-07T10:52:41.560714Z",
     "iopub.status.idle": "2025-10-07T10:53:25.111781Z",
     "shell.execute_reply": "2025-10-07T10:53:25.110721Z"
    },
    "papermill": {
     "duration": 43.574599,
     "end_time": "2025-10-07T10:53:25.123557",
     "exception": false,
     "start_time": "2025-10-07T10:52:41.548958",
     "status": "completed"
    },
    "tags": []
   },
   "outputs": [
    {
     "data": {
      "application/javascript": [
       "parent.postMessage({\"jupyterEvent\": \"custom.exercise_interaction\", \"data\": {\"outcomeType\": 1, \"valueTowardsCompletion\": 0.125, \"interactionType\": 1, \"questionType\": 2, \"questionId\": \"5_Q5\", \"learnToolsVersion\": \"0.3.5\", \"failureMessage\": \"\", \"exceptionClass\": \"\", \"trace\": \"\"}}, \"*\")"
      ],
      "text/plain": [
       "<IPython.core.display.Javascript object>"
      ]
     },
     "metadata": {},
     "output_type": "display_data"
    },
    {
     "data": {
      "text/markdown": [
       "<span style=\"color:#33cc33\">Correct</span>"
      ],
      "text/plain": [
       "Correct"
      ]
     },
     "metadata": {},
     "output_type": "display_data"
    }
   ],
   "source": [
    "# Path of the shapefile to load\n",
    "protected_filepath = \"../input/geospatial-learn-course-data/SAPA_Aug2019-shapefile/SAPA_Aug2019-shapefile/SAPA_Aug2019-shapefile-polygons.shp\"\n",
    "\n",
    "# Your code here\n",
    "protected_areas = gpd.read_file(protected_filepath)\n",
    "\n",
    "# Check your answer\n",
    "q_5.check()"
   ]
  },
  {
   "cell_type": "code",
   "execution_count": 14,
   "id": "65bbab92",
   "metadata": {
    "execution": {
     "iopub.execute_input": "2025-10-07T10:53:25.146718Z",
     "iopub.status.busy": "2025-10-07T10:53:25.146384Z",
     "iopub.status.idle": "2025-10-07T10:53:25.157775Z",
     "shell.execute_reply": "2025-10-07T10:53:25.156720Z"
    },
    "papermill": {
     "duration": 0.025139,
     "end_time": "2025-10-07T10:53:25.159332",
     "exception": false,
     "start_time": "2025-10-07T10:53:25.134193",
     "status": "completed"
    },
    "tags": []
   },
   "outputs": [
    {
     "data": {
      "application/javascript": [
       "parent.postMessage({\"jupyterEvent\": \"custom.exercise_interaction\", \"data\": {\"interactionType\": 2, \"questionType\": 2, \"questionId\": \"5_Q5\", \"learnToolsVersion\": \"0.3.5\", \"valueTowardsCompletion\": 0.0, \"failureMessage\": \"\", \"exceptionClass\": \"\", \"trace\": \"\", \"outcomeType\": 4}}, \"*\")"
      ],
      "text/plain": [
       "<IPython.core.display.Javascript object>"
      ]
     },
     "metadata": {},
     "output_type": "display_data"
    },
    {
     "data": {
      "text/markdown": [
       "<span style=\"color:#3366cc\">Hint:</span> Use `gpd.read_file()`."
      ],
      "text/plain": [
       "Hint: Use `gpd.read_file()`."
      ]
     },
     "metadata": {},
     "output_type": "display_data"
    },
    {
     "data": {
      "application/javascript": [
       "parent.postMessage({\"jupyterEvent\": \"custom.exercise_interaction\", \"data\": {\"interactionType\": 3, \"questionType\": 2, \"questionId\": \"5_Q5\", \"learnToolsVersion\": \"0.3.5\", \"valueTowardsCompletion\": 0.0, \"failureMessage\": \"\", \"exceptionClass\": \"\", \"trace\": \"\", \"outcomeType\": 4}}, \"*\")"
      ],
      "text/plain": [
       "<IPython.core.display.Javascript object>"
      ]
     },
     "metadata": {},
     "output_type": "display_data"
    },
    {
     "data": {
      "text/markdown": [
       "<span style=\"color:#33cc99\">Solution:</span> \n",
       "```python\n",
       "protected_areas = gpd.read_file(protected_filepath)\n",
       "\n",
       "```"
      ],
      "text/plain": [
       "Solution: \n",
       "```python\n",
       "protected_areas = gpd.read_file(protected_filepath)\n",
       "\n",
       "```"
      ]
     },
     "metadata": {},
     "output_type": "display_data"
    }
   ],
   "source": [
    "# Lines below will give you a hint or solution code\n",
    "q_5.hint()\n",
    "q_5.solution()"
   ]
  },
  {
   "cell_type": "markdown",
   "id": "ea7e72b0",
   "metadata": {
    "papermill": {
     "duration": 0.011899,
     "end_time": "2025-10-07T10:53:25.182602",
     "exception": false,
     "start_time": "2025-10-07T10:53:25.170703",
     "status": "completed"
    },
    "tags": []
   },
   "source": [
    "### 6) Where are the protected areas in South America? (Part 2)\n",
    "\n",
    "Create a plot that uses the `protected_areas` GeoDataFrame to show the locations of the protected areas in South America.  (_You'll notice that some protected areas are on land, while others are in marine waters._)"
   ]
  },
  {
   "cell_type": "code",
   "execution_count": 15,
   "id": "00138417",
   "metadata": {
    "execution": {
     "iopub.execute_input": "2025-10-07T10:53:25.207040Z",
     "iopub.status.busy": "2025-10-07T10:53:25.206578Z",
     "iopub.status.idle": "2025-10-07T10:53:35.479611Z",
     "shell.execute_reply": "2025-10-07T10:53:35.478499Z"
    },
    "papermill": {
     "duration": 10.28764,
     "end_time": "2025-10-07T10:53:35.481909",
     "exception": false,
     "start_time": "2025-10-07T10:53:25.194269",
     "status": "completed"
    },
    "tags": []
   },
   "outputs": [
    {
     "data": {
      "application/javascript": [
       "parent.postMessage({\"jupyterEvent\": \"custom.exercise_interaction\", \"data\": {\"interactionType\": 2, \"questionType\": 2, \"questionId\": \"6_Q6\", \"learnToolsVersion\": \"0.3.5\", \"valueTowardsCompletion\": 0.0, \"failureMessage\": \"\", \"exceptionClass\": \"\", \"trace\": \"\", \"outcomeType\": 4}}, \"*\")"
      ],
      "text/plain": [
       "<IPython.core.display.Javascript object>"
      ]
     },
     "metadata": {},
     "output_type": "display_data"
    },
    {
     "data": {
      "text/markdown": [
       "<span style=\"color:#3366cc\">Hint:</span> Use the `plot()` method of the `south_america` and `protected_areas` GeoDataFrames."
      ],
      "text/plain": [
       "Hint: Use the `plot()` method of the `south_america` and `protected_areas` GeoDataFrames."
      ]
     },
     "metadata": {},
     "output_type": "display_data"
    },
    {
     "data": {
      "image/png": "[encoded data removed]",
      "text/plain": [
       "<Figure size 640x480 with 1 Axes>"
      ]
     },
     "metadata": {},
     "output_type": "display_data"
    }
   ],
   "source": [
    "# Country boundaries in South America\n",
    "south_america = americas.loc[americas['continent']=='South America']\n",
    "\n",
    "# Your code here: plot protected areas in South America\n",
    "ax = south_america.plot()\n",
    "protected_areas.plot(color=\"orange\", ax=ax)\n",
    "\n",
    "# Uncomment to see a hint\n",
    "q_6.hint()"
   ]
  },
  {
   "cell_type": "code",
   "execution_count": 16,
   "id": "267c2095",
   "metadata": {
    "execution": {
     "iopub.execute_input": "2025-10-07T10:53:35.510566Z",
     "iopub.status.busy": "2025-10-07T10:53:35.510263Z",
     "iopub.status.idle": "2025-10-07T10:53:35.521455Z",
     "shell.execute_reply": "2025-10-07T10:53:35.520581Z"
    },
    "papermill": {
     "duration": 0.027787,
     "end_time": "2025-10-07T10:53:35.523107",
     "exception": false,
     "start_time": "2025-10-07T10:53:35.495320",
     "status": "completed"
    },
    "tags": []
   },
   "outputs": [
    {
     "data": {
      "application/javascript": [
       "parent.postMessage({\"jupyterEvent\": \"custom.exercise_interaction\", \"data\": {\"outcomeType\": 1, \"valueTowardsCompletion\": 0.125, \"interactionType\": 1, \"questionType\": 2, \"questionId\": \"6_Q6\", \"learnToolsVersion\": \"0.3.5\", \"failureMessage\": \"\", \"exceptionClass\": \"\", \"trace\": \"\"}}, \"*\")"
      ],
      "text/plain": [
       "<IPython.core.display.Javascript object>"
      ]
     },
     "metadata": {},
     "output_type": "display_data"
    },
    {
     "data": {
      "text/markdown": [
       "<span style=\"color:#33cc33\">Thank you for creating a map!</span>"
      ],
      "text/plain": [
       "Thank you for creating a map!"
      ]
     },
     "metadata": {},
     "output_type": "display_data"
    },
    {
     "data": {
      "application/javascript": [
       "parent.postMessage({\"jupyterEvent\": \"custom.exercise_interaction\", \"data\": {\"interactionType\": 3, \"questionType\": 2, \"questionId\": \"6_Q6\", \"learnToolsVersion\": \"0.3.5\", \"valueTowardsCompletion\": 0.0, \"failureMessage\": \"\", \"exceptionClass\": \"\", \"trace\": \"\", \"outcomeType\": 4}}, \"*\")"
      ],
      "text/plain": [
       "<IPython.core.display.Javascript object>"
      ]
     },
     "metadata": {},
     "output_type": "display_data"
    },
    {
     "data": {
      "text/markdown": [
       "<span style=\"color:#33cc99\">Solution:</span> \n",
       "```python\n",
       "# Plot protected areas in South America\n",
       "ax = south_america.plot(figsize=(10,10), color='white', edgecolor='gray')\n",
       "protected_areas.plot(ax=ax, alpha=0.4)\n",
       "\n",
       "```"
      ],
      "text/plain": [
       "Solution: \n",
       "```python\n",
       "# Plot protected areas in South America\n",
       "ax = south_america.plot(figsize=(10,10), color='white', edgecolor='gray')\n",
       "protected_areas.plot(ax=ax, alpha=0.4)\n",
       "\n",
       "```"
      ]
     },
     "metadata": {},
     "output_type": "display_data"
    }
   ],
   "source": [
    "# Get credit for your work after you have created a map\n",
    "q_6.check()\n",
    "\n",
    "# Uncomment to see our solution (your code may look different!)\n",
    "q_6.solution()"
   ]
  },
  {
   "cell_type": "markdown",
   "id": "4ab13634",
   "metadata": {
    "papermill": {
     "duration": 0.013079,
     "end_time": "2025-10-07T10:53:35.549263",
     "exception": false,
     "start_time": "2025-10-07T10:53:35.536184",
     "status": "completed"
    },
    "tags": []
   },
   "source": [
    "### 7) What percentage of South America is protected?\n",
    "\n",
    "You're interested in determining what percentage of South America is protected, so that you know how much of South America is suitable for the birds.  \n",
    "\n",
    "As a first step, you calculate the total area of all protected lands in South America (not including marine area).  To do this, you use the \"REP_AREA\" and \"REP_M_AREA\" columns, which contain the total area and total marine area, respectively, in square kilometers.\n",
    "\n",
    "Run the code cell below without changes."
   ]
  },
  {
   "cell_type": "code",
   "execution_count": 17,
   "id": "2696bfa1",
   "metadata": {
    "execution": {
     "iopub.execute_input": "2025-10-07T10:53:35.578477Z",
     "iopub.status.busy": "2025-10-07T10:53:35.578079Z",
     "iopub.status.idle": "2025-10-07T10:53:35.585274Z",
     "shell.execute_reply": "2025-10-07T10:53:35.583862Z"
    },
    "papermill": {
     "duration": 0.025312,
     "end_time": "2025-10-07T10:53:35.587726",
     "exception": false,
     "start_time": "2025-10-07T10:53:35.562414",
     "status": "completed"
    },
    "tags": []
   },
   "outputs": [
    {
     "name": "stdout",
     "output_type": "stream",
     "text": [
      "South America has 5396761.9116883585 square kilometers of protected areas.\n"
     ]
    }
   ],
   "source": [
    "P_Area = sum(protected_areas['REP_AREA']-protected_areas['REP_M_AREA'])\n",
    "print(\"South America has {} square kilometers of protected areas.\".format(P_Area))"
   ]
  },
  {
   "cell_type": "markdown",
   "id": "9b9f5b02",
   "metadata": {
    "papermill": {
     "duration": 0.013268,
     "end_time": "2025-10-07T10:53:35.615413",
     "exception": false,
     "start_time": "2025-10-07T10:53:35.602145",
     "status": "completed"
    },
    "tags": []
   },
   "source": [
    "Then, to finish the calculation, you'll use the `south_america` GeoDataFrame.  "
   ]
  },
  {
   "cell_type": "code",
   "execution_count": 18,
   "id": "88c6908c",
   "metadata": {
    "execution": {
     "iopub.execute_input": "2025-10-07T10:53:35.649254Z",
     "iopub.status.busy": "2025-10-07T10:53:35.648929Z",
     "iopub.status.idle": "2025-10-07T10:53:35.665008Z",
     "shell.execute_reply": "2025-10-07T10:53:35.662789Z"
    },
    "papermill": {
     "duration": 0.039088,
     "end_time": "2025-10-07T10:53:35.667381",
     "exception": false,
     "start_time": "2025-10-07T10:53:35.628293",
     "status": "completed"
    },
    "tags": []
   },
   "outputs": [
    {
     "data": {
      "text/html": [
       "<div>\n",
       "<style scoped>\n",
       "    .dataframe tbody tr th:only-of-type {\n",
       "        vertical-align: middle;\n",
       "    }\n",
       "\n",
       "    .dataframe tbody tr th {\n",
       "        vertical-align: top;\n",
       "    }\n",
       "\n",
       "    .dataframe thead th {\n",
       "        text-align: right;\n",
       "    }\n",
       "</style>\n",
       "<table border=\"1\" class=\"dataframe\">\n",
       "  <thead>\n",
       "    <tr style=\"text-align: right;\">\n",
       "      <th></th>\n",
       "      <th>pop_est</th>\n",
       "      <th>continent</th>\n",
       "      <th>name</th>\n",
       "      <th>iso_a3</th>\n",
       "      <th>gdp_md_est</th>\n",
       "      <th>geometry</th>\n",
       "    </tr>\n",
       "  </thead>\n",
       "  <tbody>\n",
       "    <tr>\n",
       "      <th>9</th>\n",
       "      <td>44938712.0</td>\n",
       "      <td>South America</td>\n",
       "      <td>Argentina</td>\n",
       "      <td>ARG</td>\n",
       "      <td>445445</td>\n",
       "      <td>MULTIPOLYGON (((-68.63401 -52.63637, -68.25000...</td>\n",
       "    </tr>\n",
       "    <tr>\n",
       "      <th>10</th>\n",
       "      <td>18952038.0</td>\n",
       "      <td>South America</td>\n",
       "      <td>Chile</td>\n",
       "      <td>CHL</td>\n",
       "      <td>282318</td>\n",
       "      <td>MULTIPOLYGON (((-68.63401 -52.63637, -68.63335...</td>\n",
       "    </tr>\n",
       "    <tr>\n",
       "      <th>20</th>\n",
       "      <td>3398.0</td>\n",
       "      <td>South America</td>\n",
       "      <td>Falkland Is.</td>\n",
       "      <td>FLK</td>\n",
       "      <td>282</td>\n",
       "      <td>POLYGON ((-61.20000 -51.85000, -60.00000 -51.2...</td>\n",
       "    </tr>\n",
       "    <tr>\n",
       "      <th>28</th>\n",
       "      <td>3461734.0</td>\n",
       "      <td>South America</td>\n",
       "      <td>Uruguay</td>\n",
       "      <td>URY</td>\n",
       "      <td>56045</td>\n",
       "      <td>POLYGON ((-57.62513 -30.21629, -56.97603 -30.1...</td>\n",
       "    </tr>\n",
       "    <tr>\n",
       "      <th>29</th>\n",
       "      <td>211049527.0</td>\n",
       "      <td>South America</td>\n",
       "      <td>Brazil</td>\n",
       "      <td>BRA</td>\n",
       "      <td>1839758</td>\n",
       "      <td>POLYGON ((-53.37366 -33.76838, -53.65054 -33.2...</td>\n",
       "    </tr>\n",
       "  </tbody>\n",
       "</table>\n",
       "</div>"
      ],
      "text/plain": [
       "        pop_est      continent          name iso_a3  gdp_md_est  \\\n",
       "9    44938712.0  South America     Argentina    ARG      445445   \n",
       "10   18952038.0  South America         Chile    CHL      282318   \n",
       "20       3398.0  South America  Falkland Is.    FLK         282   \n",
       "28    3461734.0  South America       Uruguay    URY       56045   \n",
       "29  211049527.0  South America        Brazil    BRA     1839758   \n",
       "\n",
       "                                             geometry  \n",
       "9   MULTIPOLYGON (((-68.63401 -52.63637, -68.25000...  \n",
       "10  MULTIPOLYGON (((-68.63401 -52.63637, -68.63335...  \n",
       "20  POLYGON ((-61.20000 -51.85000, -60.00000 -51.2...  \n",
       "28  POLYGON ((-57.62513 -30.21629, -56.97603 -30.1...  \n",
       "29  POLYGON ((-53.37366 -33.76838, -53.65054 -33.2...  "
      ]
     },
     "execution_count": 18,
     "metadata": {},
     "output_type": "execute_result"
    }
   ],
   "source": [
    "south_america.head()"
   ]
  },
  {
   "cell_type": "markdown",
   "id": "96bdce68",
   "metadata": {
    "papermill": {
     "duration": 0.01345,
     "end_time": "2025-10-07T10:53:35.694860",
     "exception": false,
     "start_time": "2025-10-07T10:53:35.681410",
     "status": "completed"
    },
    "tags": []
   },
   "source": [
    "Calculate the total area of South America by following these steps:\n",
    "- Calculate the area of each country using the `area` attribute of each polygon (with EPSG 3035 as the CRS), and add up the results.  The calculated area will be in units of square meters.\n",
    "- Convert your answer to have units of square kilometeters."
   ]
  },
  {
   "cell_type": "code",
   "execution_count": 19,
   "id": "21aef7f4",
   "metadata": {
    "execution": {
     "iopub.execute_input": "2025-10-07T10:53:35.723447Z",
     "iopub.status.busy": "2025-10-07T10:53:35.723078Z",
     "iopub.status.idle": "2025-10-07T10:53:35.733781Z",
     "shell.execute_reply": "2025-10-07T10:53:35.732832Z"
    },
    "papermill": {
     "duration": 0.027087,
     "end_time": "2025-10-07T10:53:35.735574",
     "exception": false,
     "start_time": "2025-10-07T10:53:35.708487",
     "status": "completed"
    },
    "tags": []
   },
   "outputs": [
    {
     "data": {
      "application/javascript": [
       "parent.postMessage({\"jupyterEvent\": \"custom.exercise_interaction\", \"data\": {\"outcomeType\": 1, \"valueTowardsCompletion\": 0.125, \"interactionType\": 1, \"questionType\": 1, \"questionId\": \"7_Q7\", \"learnToolsVersion\": \"0.3.5\", \"failureMessage\": \"\", \"exceptionClass\": \"\", \"trace\": \"\"}}, \"*\")"
      ],
      "text/plain": [
       "<IPython.core.display.Javascript object>"
      ]
     },
     "metadata": {},
     "output_type": "display_data"
    },
    {
     "data": {
      "text/markdown": [
       "<span style=\"color:#33cc33\">Correct</span>"
      ],
      "text/plain": [
       "Correct"
      ]
     },
     "metadata": {},
     "output_type": "display_data"
    }
   ],
   "source": [
    "# Your code here: Calculate the total area of South America (in square kilometers)\n",
    "totalArea = sum(south_america[\"geometry\"].to_crs(epsg=3035).area) /10**6\n",
    "\n",
    "# Check your answer\n",
    "q_7.check()"
   ]
  },
  {
   "cell_type": "code",
   "execution_count": 20,
   "id": "75af852a",
   "metadata": {
    "execution": {
     "iopub.execute_input": "2025-10-07T10:53:35.765771Z",
     "iopub.status.busy": "2025-10-07T10:53:35.765465Z",
     "iopub.status.idle": "2025-10-07T10:53:35.778978Z",
     "shell.execute_reply": "2025-10-07T10:53:35.777568Z"
    },
    "papermill": {
     "duration": 0.030872,
     "end_time": "2025-10-07T10:53:35.780820",
     "exception": false,
     "start_time": "2025-10-07T10:53:35.749948",
     "status": "completed"
    },
    "tags": []
   },
   "outputs": [
    {
     "data": {
      "application/javascript": [
       "parent.postMessage({\"jupyterEvent\": \"custom.exercise_interaction\", \"data\": {\"interactionType\": 2, \"questionType\": 1, \"questionId\": \"7_Q7\", \"learnToolsVersion\": \"0.3.5\", \"valueTowardsCompletion\": 0.0, \"failureMessage\": \"\", \"exceptionClass\": \"\", \"trace\": \"\", \"outcomeType\": 4}}, \"*\")"
      ],
      "text/plain": [
       "<IPython.core.display.Javascript object>"
      ]
     },
     "metadata": {},
     "output_type": "display_data"
    },
    {
     "data": {
      "text/markdown": [
       "<span style=\"color:#3366cc\">Hint:</span> Use the `to_crs()` method to change the CRS to EPSG 3035."
      ],
      "text/plain": [
       "Hint: Use the `to_crs()` method to change the CRS to EPSG 3035."
      ]
     },
     "metadata": {},
     "output_type": "display_data"
    },
    {
     "data": {
      "application/javascript": [
       "parent.postMessage({\"jupyterEvent\": \"custom.exercise_interaction\", \"data\": {\"interactionType\": 3, \"questionType\": 1, \"questionId\": \"7_Q7\", \"learnToolsVersion\": \"0.3.5\", \"valueTowardsCompletion\": 0.0, \"failureMessage\": \"\", \"exceptionClass\": \"\", \"trace\": \"\", \"outcomeType\": 4}}, \"*\")"
      ],
      "text/plain": [
       "<IPython.core.display.Javascript object>"
      ]
     },
     "metadata": {},
     "output_type": "display_data"
    },
    {
     "data": {
      "text/markdown": [
       "<span style=\"color:#33cc99\">Solution:</span> \n",
       "```python\n",
       "totalArea = sum(south_america.geometry.to_crs(epsg=3035).area) / 10**6\n",
       "\n",
       "```"
      ],
      "text/plain": [
       "Solution: \n",
       "```python\n",
       "totalArea = sum(south_america.geometry.to_crs(epsg=3035).area) / 10**6\n",
       "\n",
       "```"
      ]
     },
     "metadata": {},
     "output_type": "display_data"
    }
   ],
   "source": [
    "# Lines below will give you a hint or solution code\n",
    "q_7.hint()\n",
    "q_7.solution()"
   ]
  },
  {
   "cell_type": "markdown",
   "id": "83f7d2d9",
   "metadata": {
    "papermill": {
     "duration": 0.017634,
     "end_time": "2025-10-07T10:53:35.816528",
     "exception": false,
     "start_time": "2025-10-07T10:53:35.798894",
     "status": "completed"
    },
    "tags": []
   },
   "source": [
    "Run the code cell below to calculate the percentage of South America that is protected."
   ]
  },
  {
   "cell_type": "code",
   "execution_count": 21,
   "id": "9c3765c7",
   "metadata": {
    "execution": {
     "iopub.execute_input": "2025-10-07T10:53:35.861945Z",
     "iopub.status.busy": "2025-10-07T10:53:35.861152Z",
     "iopub.status.idle": "2025-10-07T10:53:35.868980Z",
     "shell.execute_reply": "2025-10-07T10:53:35.867618Z"
    },
    "papermill": {
     "duration": 0.036396,
     "end_time": "2025-10-07T10:53:35.871268",
     "exception": false,
     "start_time": "2025-10-07T10:53:35.834872",
     "status": "completed"
    },
    "tags": []
   },
   "outputs": [
    {
     "name": "stdout",
     "output_type": "stream",
     "text": [
      "Approximately 30.39% of South America is protected.\n"
     ]
    }
   ],
   "source": [
    "# What percentage of South America is protected?\n",
    "percentage_protected = P_Area/totalArea\n",
    "print('Approximately {}% of South America is protected.'.format(round(percentage_protected*100, 2)))"
   ]
  },
  {
   "cell_type": "markdown",
   "id": "b5f48369",
   "metadata": {
    "papermill": {
     "duration": 0.014513,
     "end_time": "2025-10-07T10:53:35.911485",
     "exception": false,
     "start_time": "2025-10-07T10:53:35.896972",
     "status": "completed"
    },
    "tags": []
   },
   "source": [
    "### 8) Where are the birds in South America?\n",
    "\n",
    "So, are the birds in protected areas?  \n",
    "\n",
    "Create a plot that shows for all birds, all of the locations where they were discovered in South America.  Also plot the locations of all protected areas in South America.\n",
    "\n",
    "To exclude protected areas that are purely marine areas (with no land component), you can use the \"MARINE\" column (and plot only the rows in `protected_areas[protected_areas['MARINE']!='2']`, instead of every row in the `protected_areas` GeoDataFrame)."
   ]
  },
  {
   "cell_type": "code",
   "execution_count": 22,
   "id": "308db7de",
   "metadata": {
    "execution": {
     "iopub.execute_input": "2025-10-07T10:53:35.941229Z",
     "iopub.status.busy": "2025-10-07T10:53:35.940866Z",
     "iopub.status.idle": "2025-10-07T10:53:45.235544Z",
     "shell.execute_reply": "2025-10-07T10:53:45.234471Z"
    },
    "papermill": {
     "duration": 9.311766,
     "end_time": "2025-10-07T10:53:45.237627",
     "exception": false,
     "start_time": "2025-10-07T10:53:35.925861",
     "status": "completed"
    },
    "tags": []
   },
   "outputs": [
    {
     "data": {
      "application/javascript": [
       "parent.postMessage({\"jupyterEvent\": \"custom.exercise_interaction\", \"data\": {\"interactionType\": 2, \"questionType\": 2, \"questionId\": \"8_Q8\", \"learnToolsVersion\": \"0.3.5\", \"valueTowardsCompletion\": 0.0, \"failureMessage\": \"\", \"exceptionClass\": \"\", \"trace\": \"\", \"outcomeType\": 4}}, \"*\")"
      ],
      "text/plain": [
       "<IPython.core.display.Javascript object>"
      ]
     },
     "metadata": {},
     "output_type": "display_data"
    },
    {
     "data": {
      "text/markdown": [
       "<span style=\"color:#3366cc\">Hint:</span> When in South America, the birds are south of the equator."
      ],
      "text/plain": [
       "Hint: When in South America, the birds are south of the equator."
      ]
     },
     "metadata": {},
     "output_type": "display_data"
    },
    {
     "data": {
      "image/png": "[encoded data removed]",
      "text/plain": [
       "<Figure size 640x480 with 1 Axes>"
      ]
     },
     "metadata": {},
     "output_type": "display_data"
    }
   ],
   "source": [
    "# Your code here\n",
    "ax = south_america.plot()\n",
    "protected_areas[protected_areas['MARINE']!='2'].plot(color=\"orange\", ax=ax)\n",
    "birds[birds[\"geometry\"].y < 0].plot(color=\"black\", ax=ax)\n",
    "\n",
    "# Uncomment to see a hint\n",
    "q_8.hint()"
   ]
  },
  {
   "cell_type": "code",
   "execution_count": 23,
   "id": "e57d2865",
   "metadata": {
    "execution": {
     "iopub.execute_input": "2025-10-07T10:53:45.271917Z",
     "iopub.status.busy": "2025-10-07T10:53:45.271574Z",
     "iopub.status.idle": "2025-10-07T10:53:45.282116Z",
     "shell.execute_reply": "2025-10-07T10:53:45.281204Z"
    },
    "papermill": {
     "duration": 0.028479,
     "end_time": "2025-10-07T10:53:45.283589",
     "exception": false,
     "start_time": "2025-10-07T10:53:45.255110",
     "status": "completed"
    },
    "tags": []
   },
   "outputs": [
    {
     "data": {
      "application/javascript": [
       "parent.postMessage({\"jupyterEvent\": \"custom.exercise_interaction\", \"data\": {\"outcomeType\": 1, \"valueTowardsCompletion\": 0.125, \"interactionType\": 1, \"questionType\": 2, \"questionId\": \"8_Q8\", \"learnToolsVersion\": \"0.3.5\", \"failureMessage\": \"\", \"exceptionClass\": \"\", \"trace\": \"\"}}, \"*\")"
      ],
      "text/plain": [
       "<IPython.core.display.Javascript object>"
      ]
     },
     "metadata": {},
     "output_type": "display_data"
    },
    {
     "data": {
      "text/markdown": [
       "<span style=\"color:#33cc33\">Thank you for creating a map!</span>"
      ],
      "text/plain": [
       "Thank you for creating a map!"
      ]
     },
     "metadata": {},
     "output_type": "display_data"
    },
    {
     "data": {
      "application/javascript": [
       "parent.postMessage({\"jupyterEvent\": \"custom.exercise_interaction\", \"data\": {\"interactionType\": 3, \"questionType\": 2, \"questionId\": \"8_Q8\", \"learnToolsVersion\": \"0.3.5\", \"valueTowardsCompletion\": 0.0, \"failureMessage\": \"\", \"exceptionClass\": \"\", \"trace\": \"\", \"outcomeType\": 4}}, \"*\")"
      ],
      "text/plain": [
       "<IPython.core.display.Javascript object>"
      ]
     },
     "metadata": {},
     "output_type": "display_data"
    },
    {
     "data": {
      "text/markdown": [
       "<span style=\"color:#33cc99\">Solution:</span> \n",
       "```python\n",
       "ax = south_america.plot(figsize=(10,10), color='white', edgecolor='gray')\n",
       "protected_areas[protected_areas['MARINE']!='2'].plot(ax=ax, alpha=0.4, zorder=1)\n",
       "birds[birds.geometry.y < 0].plot(ax=ax, color='red', alpha=0.6, markersize=10, zorder=2)\n",
       "\n",
       "```"
      ],
      "text/plain": [
       "Solution: \n",
       "```python\n",
       "ax = south_america.plot(figsize=(10,10), color='white', edgecolor='gray')\n",
       "protected_areas[protected_areas['MARINE']!='2'].plot(ax=ax, alpha=0.4, zorder=1)\n",
       "birds[birds.geometry.y < 0].plot(ax=ax, color='red', alpha=0.6, markersize=10, zorder=2)\n",
       "\n",
       "```"
      ]
     },
     "metadata": {},
     "output_type": "display_data"
    }
   ],
   "source": [
    "# Get credit for your work after you have created a map\n",
    "q_8.check()\n",
    "\n",
    "# Uncomment to see our solution (your code may look different!)\n",
    "q_8.solution()"
   ]
  },
  {
   "cell_type": "markdown",
   "id": "c62f28e2",
   "metadata": {
    "papermill": {
     "duration": 0.01555,
     "end_time": "2025-10-07T10:53:45.315010",
     "exception": false,
     "start_time": "2025-10-07T10:53:45.299460",
     "status": "completed"
    },
    "tags": []
   },
   "source": [
    "# Keep going\n",
    "\n",
    "Create stunning **[interactive maps](https://www.kaggle.com/alexisbcook/interactive-maps)** with your geospatial data."
   ]
  },
  {
   "cell_type": "markdown",
   "id": "638b23d3",
   "metadata": {
    "papermill": {
     "duration": 0.015845,
     "end_time": "2025-10-07T10:53:45.346414",
     "exception": false,
     "start_time": "2025-10-07T10:53:45.330569",
     "status": "completed"
    },
    "tags": []
   },
   "source": [
    "---\n",
    "\n",
    "\n",
    "\n",
    "\n",
    "*Have questions or comments? Visit the [course discussion forum](https://www.kaggle.com/learn/geospatial-analysis/discussion) to chat with other learners.*"
   ]
  }
 ],
 "metadata": {
  "kaggle": {
   "accelerator": "none",
   "dataSources": [
    {
     "datasetId": 348259,
     "sourceId": 695175,
     "sourceType": "datasetVersion"
    },
    {
     "datasetId": 116573,
     "sourceId": 3551030,
     "sourceType": "datasetVersion"
    }
   ],
   "isGpuEnabled": false,
   "isInternetEnabled": false,
   "language": "python",
   "sourceType": "notebook"
  },
  "kernelspec": {
   "display_name": "Python 3",
   "language": "python",
   "name": "python3"
  },
  "language_info": {
   "codemirror_mode": {
    "name": "ipython",
    "version": 3
   },
   "file_extension": ".py",
   "mimetype": "text/x-python",
   "name": "python",
   "nbconvert_exporter": "python",
   "pygments_lexer": "ipython3",
   "version": "3.11.13"
  },
  "papermill": {
   "default_parameters": {},
   "duration": 122.141714,
   "end_time": "2025-10-07T10:53:46.384482",
   "environment_variables": {},
   "exception": null,
   "input_path": "__notebook__.ipynb",
   "output_path": "__notebook__.ipynb",
   "parameters": {},
   "start_time": "2025-10-07T10:51:44.242768",
   "version": "2.6.0"
  }
 },
 "nbformat": 4,
 "nbformat_minor": 5
}
