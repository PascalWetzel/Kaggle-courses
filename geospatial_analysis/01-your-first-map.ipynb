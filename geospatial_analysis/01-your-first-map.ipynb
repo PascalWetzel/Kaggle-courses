{
 "cells": [
  {
   "cell_type": "markdown",
   "id": "eb6078d9",
   "metadata": {
    "papermill": {
     "duration": 0.004807,
     "end_time": "2025-10-06T09:43:25.772775",
     "exception": false,
     "start_time": "2025-10-06T09:43:25.767968",
     "status": "completed"
    },
    "tags": []
   },
   "source": [
    "**This notebook is an exercise in the [Geospatial Analysis](https://www.kaggle.com/learn/geospatial-analysis) course.  You can reference the tutorial at [this link](https://www.kaggle.com/alexisbcook/your-first-map).**\n",
    "\n",
    "---\n"
   ]
  },
  {
   "cell_type": "markdown",
   "id": "1f53aea3",
   "metadata": {
    "papermill": {
     "duration": 0.003363,
     "end_time": "2025-10-06T09:43:25.780073",
     "exception": false,
     "start_time": "2025-10-06T09:43:25.776710",
     "status": "completed"
    },
    "tags": []
   },
   "source": [
    "# Introduction\n",
    "\n",
    "[Kiva.org](https://www.kiva.org/) is an online crowdfunding platform extending financial services to poor people around the world. Kiva lenders have provided over $1 billion dollars in loans to over 2 million people.\n",
    "\n",
    "<center>\n",
    "<img src=\"https://storage.googleapis.com/kaggle-media/learn/images/2G8C53X.png\" width=\"500\"><br/>\n",
    "</center>\n",
    "\n",
    "Kiva reaches some of the most remote places in the world through their global network of \"Field Partners\". These partners are local organizations working in communities to vet borrowers, provide services, and administer loans.\n",
    "\n",
    "In this exercise, you'll investigate Kiva loans in the Philippines.  Can you identify regions that might be outside of Kiva's current network, in order to identify opportunities for recruiting new Field Partners?\n",
    "\n",
    "To get started, run the code cell below to set up our feedback system."
   ]
  },
  {
   "cell_type": "code",
   "execution_count": 1,
   "id": "26d86f02",
   "metadata": {
    "execution": {
     "iopub.execute_input": "2025-10-06T09:43:25.789126Z",
     "iopub.status.busy": "2025-10-06T09:43:25.788363Z",
     "iopub.status.idle": "2025-10-06T09:43:29.991588Z",
     "shell.execute_reply": "2025-10-06T09:43:29.990621Z"
    },
    "papermill": {
     "duration": 4.209552,
     "end_time": "2025-10-06T09:43:29.993313",
     "exception": false,
     "start_time": "2025-10-06T09:43:25.783761",
     "status": "completed"
    },
    "tags": []
   },
   "outputs": [
    {
     "name": "stderr",
     "output_type": "stream",
     "text": [
      "/usr/local/lib/python3.11/dist-packages/learntools/geospatial/ex1.py:22: FutureWarning: The geopandas.dataset module is deprecated and will be removed in GeoPandas 1.0. You can get the original 'naturalearth_lowres' data from https://www.naturalearthdata.com/downloads/110m-cultural-vectors/.\n",
      "  world = gpd.read_file(gpd.datasets.get_path('naturalearth_lowres'))\n"
     ]
    }
   ],
   "source": [
    "import geopandas as gpd\n",
    "\n",
    "from learntools.core import binder\n",
    "binder.bind(globals())\n",
    "from learntools.geospatial.ex1 import *"
   ]
  },
  {
   "cell_type": "markdown",
   "id": "fb2df2bb",
   "metadata": {
    "papermill": {
     "duration": 0.003577,
     "end_time": "2025-10-06T09:43:30.000907",
     "exception": false,
     "start_time": "2025-10-06T09:43:29.997330",
     "status": "completed"
    },
    "tags": []
   },
   "source": [
    "### 1) Get the data.\n",
    "\n",
    "Use the next cell to load the shapefile located at `loans_filepath` to create a GeoDataFrame `world_loans`.  "
   ]
  },
  {
   "cell_type": "code",
   "execution_count": 2,
   "id": "47cce322",
   "metadata": {
    "execution": {
     "iopub.execute_input": "2025-10-06T09:43:30.009587Z",
     "iopub.status.busy": "2025-10-06T09:43:30.009278Z",
     "iopub.status.idle": "2025-10-06T09:43:31.225614Z",
     "shell.execute_reply": "2025-10-06T09:43:31.224791Z"
    },
    "papermill": {
     "duration": 1.222559,
     "end_time": "2025-10-06T09:43:31.227154",
     "exception": false,
     "start_time": "2025-10-06T09:43:30.004595",
     "status": "completed"
    },
    "tags": []
   },
   "outputs": [
    {
     "data": {
      "application/javascript": [
       "parent.postMessage({\"jupyterEvent\": \"custom.exercise_interaction\", \"data\": {\"outcomeType\": 1, \"valueTowardsCompletion\": 0.3333333333333333, \"interactionType\": 1, \"questionType\": 2, \"questionId\": \"1_Q1\", \"learnToolsVersion\": \"0.3.5\", \"failureMessage\": \"\", \"exceptionClass\": \"\", \"trace\": \"\"}}, \"*\")"
      ],
      "text/plain": [
       "<IPython.core.display.Javascript object>"
      ]
     },
     "metadata": {},
     "output_type": "display_data"
    },
    {
     "data": {
      "text/markdown": [
       "<span style=\"color:#33cc33\">Correct</span>"
      ],
      "text/plain": [
       "Correct"
      ]
     },
     "metadata": {},
     "output_type": "display_data"
    },
    {
     "data": {
      "text/html": [
       "<div>\n",
       "<style scoped>\n",
       "    .dataframe tbody tr th:only-of-type {\n",
       "        vertical-align: middle;\n",
       "    }\n",
       "\n",
       "    .dataframe tbody tr th {\n",
       "        vertical-align: top;\n",
       "    }\n",
       "\n",
       "    .dataframe thead th {\n",
       "        text-align: right;\n",
       "    }\n",
       "</style>\n",
       "<table border=\"1\" class=\"dataframe\">\n",
       "  <thead>\n",
       "    <tr style=\"text-align: right;\">\n",
       "      <th></th>\n",
       "      <th>Partner ID</th>\n",
       "      <th>Field Part</th>\n",
       "      <th>sector</th>\n",
       "      <th>Loan Theme</th>\n",
       "      <th>country</th>\n",
       "      <th>amount</th>\n",
       "      <th>geometry</th>\n",
       "    </tr>\n",
       "  </thead>\n",
       "  <tbody>\n",
       "    <tr>\n",
       "      <th>0</th>\n",
       "      <td>9</td>\n",
       "      <td>KREDIT Microfinance Institution</td>\n",
       "      <td>General Financial Inclusion</td>\n",
       "      <td>Higher Education</td>\n",
       "      <td>Cambodia</td>\n",
       "      <td>450</td>\n",
       "      <td>POINT (102.89751 13.66726)</td>\n",
       "    </tr>\n",
       "    <tr>\n",
       "      <th>1</th>\n",
       "      <td>9</td>\n",
       "      <td>KREDIT Microfinance Institution</td>\n",
       "      <td>General Financial Inclusion</td>\n",
       "      <td>Vulnerable Populations</td>\n",
       "      <td>Cambodia</td>\n",
       "      <td>20275</td>\n",
       "      <td>POINT (102.98962 13.02870)</td>\n",
       "    </tr>\n",
       "    <tr>\n",
       "      <th>2</th>\n",
       "      <td>9</td>\n",
       "      <td>KREDIT Microfinance Institution</td>\n",
       "      <td>General Financial Inclusion</td>\n",
       "      <td>Higher Education</td>\n",
       "      <td>Cambodia</td>\n",
       "      <td>9150</td>\n",
       "      <td>POINT (102.98962 13.02870)</td>\n",
       "    </tr>\n",
       "    <tr>\n",
       "      <th>3</th>\n",
       "      <td>9</td>\n",
       "      <td>KREDIT Microfinance Institution</td>\n",
       "      <td>General Financial Inclusion</td>\n",
       "      <td>Vulnerable Populations</td>\n",
       "      <td>Cambodia</td>\n",
       "      <td>604950</td>\n",
       "      <td>POINT (105.31312 12.09829)</td>\n",
       "    </tr>\n",
       "    <tr>\n",
       "      <th>4</th>\n",
       "      <td>9</td>\n",
       "      <td>KREDIT Microfinance Institution</td>\n",
       "      <td>General Financial Inclusion</td>\n",
       "      <td>Sanitation</td>\n",
       "      <td>Cambodia</td>\n",
       "      <td>275</td>\n",
       "      <td>POINT (105.31312 12.09829)</td>\n",
       "    </tr>\n",
       "  </tbody>\n",
       "</table>\n",
       "</div>"
      ],
      "text/plain": [
       "   Partner ID                       Field Part                       sector  \\\n",
       "0           9  KREDIT Microfinance Institution  General Financial Inclusion   \n",
       "1           9  KREDIT Microfinance Institution  General Financial Inclusion   \n",
       "2           9  KREDIT Microfinance Institution  General Financial Inclusion   \n",
       "3           9  KREDIT Microfinance Institution  General Financial Inclusion   \n",
       "4           9  KREDIT Microfinance Institution  General Financial Inclusion   \n",
       "\n",
       "               Loan Theme   country  amount                    geometry  \n",
       "0        Higher Education  Cambodia     450  POINT (102.89751 13.66726)  \n",
       "1  Vulnerable Populations  Cambodia   20275  POINT (102.98962 13.02870)  \n",
       "2        Higher Education  Cambodia    9150  POINT (102.98962 13.02870)  \n",
       "3  Vulnerable Populations  Cambodia  604950  POINT (105.31312 12.09829)  \n",
       "4              Sanitation  Cambodia     275  POINT (105.31312 12.09829)  "
      ]
     },
     "execution_count": 2,
     "metadata": {},
     "output_type": "execute_result"
    }
   ],
   "source": [
    "loans_filepath = \"../input/geospatial-learn-course-data/kiva_loans/kiva_loans/kiva_loans.shp\"\n",
    "\n",
    "# Your code here: Load the data\n",
    "world_loans = gpd.read_file(loans_filepath)\n",
    "\n",
    "# Check your answer\n",
    "q_1.check()\n",
    "\n",
    "# Uncomment to view the first five rows of the data\n",
    "world_loans.head()"
   ]
  },
  {
   "cell_type": "code",
   "execution_count": 3,
   "id": "067fada9",
   "metadata": {
    "execution": {
     "iopub.execute_input": "2025-10-06T09:43:31.237027Z",
     "iopub.status.busy": "2025-10-06T09:43:31.236705Z",
     "iopub.status.idle": "2025-10-06T09:43:31.246854Z",
     "shell.execute_reply": "2025-10-06T09:43:31.245999Z"
    },
    "papermill": {
     "duration": 0.01665,
     "end_time": "2025-10-06T09:43:31.248268",
     "exception": false,
     "start_time": "2025-10-06T09:43:31.231618",
     "status": "completed"
    },
    "tags": []
   },
   "outputs": [
    {
     "data": {
      "application/javascript": [
       "parent.postMessage({\"jupyterEvent\": \"custom.exercise_interaction\", \"data\": {\"interactionType\": 2, \"questionType\": 2, \"questionId\": \"1_Q1\", \"learnToolsVersion\": \"0.3.5\", \"valueTowardsCompletion\": 0.0, \"failureMessage\": \"\", \"exceptionClass\": \"\", \"trace\": \"\", \"outcomeType\": 4}}, \"*\")"
      ],
      "text/plain": [
       "<IPython.core.display.Javascript object>"
      ]
     },
     "metadata": {},
     "output_type": "display_data"
    },
    {
     "data": {
      "text/markdown": [
       "<span style=\"color:#3366cc\">Hint:</span> Use `gpd.read_file()`."
      ],
      "text/plain": [
       "Hint: Use `gpd.read_file()`."
      ]
     },
     "metadata": {},
     "output_type": "display_data"
    },
    {
     "data": {
      "application/javascript": [
       "parent.postMessage({\"jupyterEvent\": \"custom.exercise_interaction\", \"data\": {\"interactionType\": 3, \"questionType\": 2, \"questionId\": \"1_Q1\", \"learnToolsVersion\": \"0.3.5\", \"valueTowardsCompletion\": 0.0, \"failureMessage\": \"\", \"exceptionClass\": \"\", \"trace\": \"\", \"outcomeType\": 4}}, \"*\")"
      ],
      "text/plain": [
       "<IPython.core.display.Javascript object>"
      ]
     },
     "metadata": {},
     "output_type": "display_data"
    },
    {
     "data": {
      "text/markdown": [
       "<span style=\"color:#33cc99\">Solution:</span> \n",
       "```python\n",
       "# Load the data\n",
       "world_loans = gpd.read_file(loans_filepath)\n",
       "\n",
       "```"
      ],
      "text/plain": [
       "Solution: \n",
       "```python\n",
       "# Load the data\n",
       "world_loans = gpd.read_file(loans_filepath)\n",
       "\n",
       "```"
      ]
     },
     "metadata": {},
     "output_type": "display_data"
    }
   ],
   "source": [
    "# Lines below will give you a hint or solution code\n",
    "q_1.hint()\n",
    "q_1.solution()"
   ]
  },
  {
   "cell_type": "markdown",
   "id": "83444959",
   "metadata": {
    "papermill": {
     "duration": 0.004239,
     "end_time": "2025-10-06T09:43:31.257102",
     "exception": false,
     "start_time": "2025-10-06T09:43:31.252863",
     "status": "completed"
    },
    "tags": []
   },
   "source": [
    "### 2) Plot the data.\n",
    "\n",
    "Run the next code cell without changes to load a GeoDataFrame `world` containing country boundaries."
   ]
  },
  {
   "cell_type": "code",
   "execution_count": 4,
   "id": "58ad5627",
   "metadata": {
    "execution": {
     "iopub.execute_input": "2025-10-06T09:43:31.266979Z",
     "iopub.status.busy": "2025-10-06T09:43:31.266656Z",
     "iopub.status.idle": "2025-10-06T09:43:31.329873Z",
     "shell.execute_reply": "2025-10-06T09:43:31.328889Z"
    },
    "papermill": {
     "duration": 0.069931,
     "end_time": "2025-10-06T09:43:31.331321",
     "exception": false,
     "start_time": "2025-10-06T09:43:31.261390",
     "status": "completed"
    },
    "tags": []
   },
   "outputs": [
    {
     "name": "stderr",
     "output_type": "stream",
     "text": [
      "/tmp/ipykernel_13/3126548565.py:2: FutureWarning: The geopandas.dataset module is deprecated and will be removed in GeoPandas 1.0. You can get the original 'naturalearth_lowres' data from https://www.naturalearthdata.com/downloads/110m-cultural-vectors/.\n",
      "  world_filepath = gpd.datasets.get_path('naturalearth_lowres')\n"
     ]
    },
    {
     "data": {
      "text/html": [
       "<div>\n",
       "<style scoped>\n",
       "    .dataframe tbody tr th:only-of-type {\n",
       "        vertical-align: middle;\n",
       "    }\n",
       "\n",
       "    .dataframe tbody tr th {\n",
       "        vertical-align: top;\n",
       "    }\n",
       "\n",
       "    .dataframe thead th {\n",
       "        text-align: right;\n",
       "    }\n",
       "</style>\n",
       "<table border=\"1\" class=\"dataframe\">\n",
       "  <thead>\n",
       "    <tr style=\"text-align: right;\">\n",
       "      <th></th>\n",
       "      <th>pop_est</th>\n",
       "      <th>continent</th>\n",
       "      <th>name</th>\n",
       "      <th>iso_a3</th>\n",
       "      <th>gdp_md_est</th>\n",
       "      <th>geometry</th>\n",
       "    </tr>\n",
       "  </thead>\n",
       "  <tbody>\n",
       "    <tr>\n",
       "      <th>0</th>\n",
       "      <td>889953.0</td>\n",
       "      <td>Oceania</td>\n",
       "      <td>Fiji</td>\n",
       "      <td>FJI</td>\n",
       "      <td>5496</td>\n",
       "      <td>MULTIPOLYGON (((180.00000 -16.06713, 180.00000...</td>\n",
       "    </tr>\n",
       "    <tr>\n",
       "      <th>1</th>\n",
       "      <td>58005463.0</td>\n",
       "      <td>Africa</td>\n",
       "      <td>Tanzania</td>\n",
       "      <td>TZA</td>\n",
       "      <td>63177</td>\n",
       "      <td>POLYGON ((33.90371 -0.95000, 34.07262 -1.05982...</td>\n",
       "    </tr>\n",
       "    <tr>\n",
       "      <th>2</th>\n",
       "      <td>603253.0</td>\n",
       "      <td>Africa</td>\n",
       "      <td>W. Sahara</td>\n",
       "      <td>ESH</td>\n",
       "      <td>907</td>\n",
       "      <td>POLYGON ((-8.66559 27.65643, -8.66512 27.58948...</td>\n",
       "    </tr>\n",
       "    <tr>\n",
       "      <th>3</th>\n",
       "      <td>37589262.0</td>\n",
       "      <td>North America</td>\n",
       "      <td>Canada</td>\n",
       "      <td>CAN</td>\n",
       "      <td>1736425</td>\n",
       "      <td>MULTIPOLYGON (((-122.84000 49.00000, -122.9742...</td>\n",
       "    </tr>\n",
       "    <tr>\n",
       "      <th>4</th>\n",
       "      <td>328239523.0</td>\n",
       "      <td>North America</td>\n",
       "      <td>United States of America</td>\n",
       "      <td>USA</td>\n",
       "      <td>21433226</td>\n",
       "      <td>MULTIPOLYGON (((-122.84000 49.00000, -120.0000...</td>\n",
       "    </tr>\n",
       "  </tbody>\n",
       "</table>\n",
       "</div>"
      ],
      "text/plain": [
       "       pop_est      continent                      name iso_a3  gdp_md_est  \\\n",
       "0     889953.0        Oceania                      Fiji    FJI        5496   \n",
       "1   58005463.0         Africa                  Tanzania    TZA       63177   \n",
       "2     603253.0         Africa                 W. Sahara    ESH         907   \n",
       "3   37589262.0  North America                    Canada    CAN     1736425   \n",
       "4  328239523.0  North America  United States of America    USA    21433226   \n",
       "\n",
       "                                            geometry  \n",
       "0  MULTIPOLYGON (((180.00000 -16.06713, 180.00000...  \n",
       "1  POLYGON ((33.90371 -0.95000, 34.07262 -1.05982...  \n",
       "2  POLYGON ((-8.66559 27.65643, -8.66512 27.58948...  \n",
       "3  MULTIPOLYGON (((-122.84000 49.00000, -122.9742...  \n",
       "4  MULTIPOLYGON (((-122.84000 49.00000, -120.0000...  "
      ]
     },
     "execution_count": 4,
     "metadata": {},
     "output_type": "execute_result"
    }
   ],
   "source": [
    "# This dataset is provided in GeoPandas\n",
    "world_filepath = gpd.datasets.get_path('naturalearth_lowres')\n",
    "world = gpd.read_file(world_filepath)\n",
    "world.head()"
   ]
  },
  {
   "cell_type": "markdown",
   "id": "346aa692",
   "metadata": {
    "papermill": {
     "duration": 0.004304,
     "end_time": "2025-10-06T09:43:31.341311",
     "exception": false,
     "start_time": "2025-10-06T09:43:31.337007",
     "status": "completed"
    },
    "tags": []
   },
   "source": [
    "Use the `world` and `world_loans` GeoDataFrames to visualize Kiva loan locations across the world."
   ]
  },
  {
   "cell_type": "code",
   "execution_count": 5,
   "id": "010ef933",
   "metadata": {
    "execution": {
     "iopub.execute_input": "2025-10-06T09:43:31.352164Z",
     "iopub.status.busy": "2025-10-06T09:43:31.351337Z",
     "iopub.status.idle": "2025-10-06T09:43:32.265813Z",
     "shell.execute_reply": "2025-10-06T09:43:32.264925Z"
    },
    "papermill": {
     "duration": 0.921422,
     "end_time": "2025-10-06T09:43:32.267237",
     "exception": false,
     "start_time": "2025-10-06T09:43:31.345815",
     "status": "completed"
    },
    "tags": []
   },
   "outputs": [
    {
     "data": {
      "application/javascript": [
       "parent.postMessage({\"jupyterEvent\": \"custom.exercise_interaction\", \"data\": {\"interactionType\": 2, \"questionType\": 2, \"questionId\": \"2_Q2\", \"learnToolsVersion\": \"0.3.5\", \"valueTowardsCompletion\": 0.0, \"failureMessage\": \"\", \"exceptionClass\": \"\", \"trace\": \"\", \"outcomeType\": 4}}, \"*\")"
      ],
      "text/plain": [
       "<IPython.core.display.Javascript object>"
      ]
     },
     "metadata": {},
     "output_type": "display_data"
    },
    {
     "data": {
      "text/markdown": [
       "<span style=\"color:#3366cc\">Hint:</span> Use the `plot()` method of each GeoDataFrame."
      ],
      "text/plain": [
       "Hint: Use the `plot()` method of each GeoDataFrame."
      ]
     },
     "metadata": {},
     "output_type": "display_data"
    },
    {
     "data": {
      "image/png": "[encoded data removed]",
      "text/plain": [
       "<Figure size 640x480 with 1 Axes>"
      ]
     },
     "metadata": {},
     "output_type": "display_data"
    }
   ],
   "source": [
    "# Your code here\n",
    "ax = world.plot()\n",
    "world_loans.plot(color=\"orange\", ax=ax)\n",
    "\n",
    "# Uncomment to see a hint\n",
    "q_2.hint()"
   ]
  },
  {
   "cell_type": "code",
   "execution_count": 6,
   "id": "1b147635",
   "metadata": {
    "execution": {
     "iopub.execute_input": "2025-10-06T09:43:32.280187Z",
     "iopub.status.busy": "2025-10-06T09:43:32.279543Z",
     "iopub.status.idle": "2025-10-06T09:43:32.289155Z",
     "shell.execute_reply": "2025-10-06T09:43:32.288325Z"
    },
    "papermill": {
     "duration": 0.01751,
     "end_time": "2025-10-06T09:43:32.290561",
     "exception": false,
     "start_time": "2025-10-06T09:43:32.273051",
     "status": "completed"
    },
    "tags": []
   },
   "outputs": [
    {
     "data": {
      "application/javascript": [
       "parent.postMessage({\"jupyterEvent\": \"custom.exercise_interaction\", \"data\": {\"outcomeType\": 1, \"valueTowardsCompletion\": 0.3333333333333333, \"interactionType\": 1, \"questionType\": 2, \"questionId\": \"2_Q2\", \"learnToolsVersion\": \"0.3.5\", \"failureMessage\": \"\", \"exceptionClass\": \"\", \"trace\": \"\"}}, \"*\")"
      ],
      "text/plain": [
       "<IPython.core.display.Javascript object>"
      ]
     },
     "metadata": {},
     "output_type": "display_data"
    },
    {
     "data": {
      "text/markdown": [
       "<span style=\"color:#33cc33\">Thank you for creating a map!</span>"
      ],
      "text/plain": [
       "Thank you for creating a map!"
      ]
     },
     "metadata": {},
     "output_type": "display_data"
    },
    {
     "data": {
      "application/javascript": [
       "parent.postMessage({\"jupyterEvent\": \"custom.exercise_interaction\", \"data\": {\"interactionType\": 3, \"questionType\": 2, \"questionId\": \"2_Q2\", \"learnToolsVersion\": \"0.3.5\", \"valueTowardsCompletion\": 0.0, \"failureMessage\": \"\", \"exceptionClass\": \"\", \"trace\": \"\", \"outcomeType\": 4}}, \"*\")"
      ],
      "text/plain": [
       "<IPython.core.display.Javascript object>"
      ]
     },
     "metadata": {},
     "output_type": "display_data"
    },
    {
     "data": {
      "text/markdown": [
       "<span style=\"color:#33cc99\">Solution:</span> \n",
       "```python\n",
       "ax = world.plot(figsize=(20,20), color='whitesmoke', linestyle=':', edgecolor='black')\n",
       "world_loans.plot(ax=ax, markersize=2)\n",
       "\n",
       "```"
      ],
      "text/plain": [
       "Solution: \n",
       "```python\n",
       "ax = world.plot(figsize=(20,20), color='whitesmoke', linestyle=':', edgecolor='black')\n",
       "world_loans.plot(ax=ax, markersize=2)\n",
       "\n",
       "```"
      ]
     },
     "metadata": {},
     "output_type": "display_data"
    }
   ],
   "source": [
    "# Get credit for your work after you have created a map\n",
    "q_2.check()\n",
    "\n",
    "# Uncomment to see our solution (your code may look different!)\n",
    "q_2.solution()"
   ]
  },
  {
   "cell_type": "markdown",
   "id": "8f643767",
   "metadata": {
    "papermill": {
     "duration": 0.00559,
     "end_time": "2025-10-06T09:43:32.302268",
     "exception": false,
     "start_time": "2025-10-06T09:43:32.296678",
     "status": "completed"
    },
    "tags": []
   },
   "source": [
    "### 3) Select loans based in the Philippines.\n",
    "\n",
    "Next, you'll focus on loans that are based in the Philippines.  Use the next code cell to create a GeoDataFrame `PHL_loans` which contains all rows from `world_loans` with loans that are based in the Philippines."
   ]
  },
  {
   "cell_type": "code",
   "execution_count": 7,
   "id": "28fd8fa1",
   "metadata": {
    "execution": {
     "iopub.execute_input": "2025-10-06T09:43:32.315316Z",
     "iopub.status.busy": "2025-10-06T09:43:32.314599Z",
     "iopub.status.idle": "2025-10-06T09:43:32.337604Z",
     "shell.execute_reply": "2025-10-06T09:43:32.336780Z"
    },
    "papermill": {
     "duration": 0.031073,
     "end_time": "2025-10-06T09:43:32.339039",
     "exception": false,
     "start_time": "2025-10-06T09:43:32.307966",
     "status": "completed"
    },
    "tags": []
   },
   "outputs": [
    {
     "data": {
      "application/javascript": [
       "parent.postMessage({\"jupyterEvent\": \"custom.exercise_interaction\", \"data\": {\"outcomeType\": 1, \"valueTowardsCompletion\": 0.3333333333333333, \"interactionType\": 1, \"questionType\": 2, \"questionId\": \"3_Q3\", \"learnToolsVersion\": \"0.3.5\", \"failureMessage\": \"\", \"exceptionClass\": \"\", \"trace\": \"\"}}, \"*\")"
      ],
      "text/plain": [
       "<IPython.core.display.Javascript object>"
      ]
     },
     "metadata": {},
     "output_type": "display_data"
    },
    {
     "data": {
      "text/markdown": [
       "<span style=\"color:#33cc33\">Correct</span>"
      ],
      "text/plain": [
       "Correct"
      ]
     },
     "metadata": {},
     "output_type": "display_data"
    }
   ],
   "source": [
    "# Your code here\n",
    "PHL_loans = world_loans.loc[world_loans[\"country\"]==\"Philippines\"]\n",
    "\n",
    "# Check your answer\n",
    "q_3.check()"
   ]
  },
  {
   "cell_type": "code",
   "execution_count": 8,
   "id": "5510beef",
   "metadata": {
    "execution": {
     "iopub.execute_input": "2025-10-06T09:43:32.352777Z",
     "iopub.status.busy": "2025-10-06T09:43:32.352443Z",
     "iopub.status.idle": "2025-10-06T09:43:32.361577Z",
     "shell.execute_reply": "2025-10-06T09:43:32.360924Z"
    },
    "papermill": {
     "duration": 0.017661,
     "end_time": "2025-10-06T09:43:32.363069",
     "exception": false,
     "start_time": "2025-10-06T09:43:32.345408",
     "status": "completed"
    },
    "tags": []
   },
   "outputs": [
    {
     "data": {
      "application/javascript": [
       "parent.postMessage({\"jupyterEvent\": \"custom.exercise_interaction\", \"data\": {\"interactionType\": 2, \"questionType\": 2, \"questionId\": \"3_Q3\", \"learnToolsVersion\": \"0.3.5\", \"valueTowardsCompletion\": 0.0, \"failureMessage\": \"\", \"exceptionClass\": \"\", \"trace\": \"\", \"outcomeType\": 4}}, \"*\")"
      ],
      "text/plain": [
       "<IPython.core.display.Javascript object>"
      ]
     },
     "metadata": {},
     "output_type": "display_data"
    },
    {
     "data": {
      "text/markdown": [
       "<span style=\"color:#3366cc\">Hint:</span> Check out [this tutorial](https://www.kaggle.com/residentmario/indexing-selecting-assigning/), if you need to review conditional selection for DataFrames (and GeoDataFrames)."
      ],
      "text/plain": [
       "Hint: Check out [this tutorial](https://www.kaggle.com/residentmario/indexing-selecting-assigning/), if you need to review conditional selection for DataFrames (and GeoDataFrames)."
      ]
     },
     "metadata": {},
     "output_type": "display_data"
    },
    {
     "data": {
      "application/javascript": [
       "parent.postMessage({\"jupyterEvent\": \"custom.exercise_interaction\", \"data\": {\"interactionType\": 3, \"questionType\": 2, \"questionId\": \"3_Q3\", \"learnToolsVersion\": \"0.3.5\", \"valueTowardsCompletion\": 0.0, \"failureMessage\": \"\", \"exceptionClass\": \"\", \"trace\": \"\", \"outcomeType\": 4}}, \"*\")"
      ],
      "text/plain": [
       "<IPython.core.display.Javascript object>"
      ]
     },
     "metadata": {},
     "output_type": "display_data"
    },
    {
     "data": {
      "text/markdown": [
       "<span style=\"color:#33cc99\">Solution:</span> \n",
       "```python\n",
       "PHL_loans = world_loans.loc[world_loans.country==\"Philippines\"].copy()\n",
       "\n",
       "```"
      ],
      "text/plain": [
       "Solution: \n",
       "```python\n",
       "PHL_loans = world_loans.loc[world_loans.country==\"Philippines\"].copy()\n",
       "\n",
       "```"
      ]
     },
     "metadata": {},
     "output_type": "display_data"
    }
   ],
   "source": [
    "# Lines below will give you a hint or solution code\n",
    "q_3.hint()\n",
    "q_3.solution()"
   ]
  },
  {
   "cell_type": "markdown",
   "id": "40893d4d",
   "metadata": {
    "papermill": {
     "duration": 0.006424,
     "end_time": "2025-10-06T09:43:32.376031",
     "exception": false,
     "start_time": "2025-10-06T09:43:32.369607",
     "status": "completed"
    },
    "tags": []
   },
   "source": [
    "### 4) Understand loans in the Philippines.\n",
    "\n",
    "Run the next code cell without changes to load a GeoDataFrame `PHL` containing boundaries for all islands in the Philippines."
   ]
  },
  {
   "cell_type": "code",
   "execution_count": 9,
   "id": "03fdd43d",
   "metadata": {
    "execution": {
     "iopub.execute_input": "2025-10-06T09:43:32.389689Z",
     "iopub.status.busy": "2025-10-06T09:43:32.389391Z",
     "iopub.status.idle": "2025-10-06T09:43:36.891083Z",
     "shell.execute_reply": "2025-10-06T09:43:36.890151Z"
    },
    "papermill": {
     "duration": 4.510754,
     "end_time": "2025-10-06T09:43:36.892939",
     "exception": false,
     "start_time": "2025-10-06T09:43:32.382185",
     "status": "completed"
    },
    "tags": []
   },
   "outputs": [
    {
     "data": {
      "text/html": [
       "<div>\n",
       "<style scoped>\n",
       "    .dataframe tbody tr th:only-of-type {\n",
       "        vertical-align: middle;\n",
       "    }\n",
       "\n",
       "    .dataframe tbody tr th {\n",
       "        vertical-align: top;\n",
       "    }\n",
       "\n",
       "    .dataframe thead th {\n",
       "        text-align: right;\n",
       "    }\n",
       "</style>\n",
       "<table border=\"1\" class=\"dataframe\">\n",
       "  <thead>\n",
       "    <tr style=\"text-align: right;\">\n",
       "      <th></th>\n",
       "      <th>Name</th>\n",
       "      <th>Description</th>\n",
       "      <th>geometry</th>\n",
       "    </tr>\n",
       "  </thead>\n",
       "  <tbody>\n",
       "    <tr>\n",
       "      <th>0</th>\n",
       "      <td>Autonomous Region in Muslim Mindanao</td>\n",
       "      <td></td>\n",
       "      <td>MULTIPOLYGON (((119.46690 4.58718, 119.46653 4...</td>\n",
       "    </tr>\n",
       "    <tr>\n",
       "      <th>1</th>\n",
       "      <td>Bicol Region</td>\n",
       "      <td></td>\n",
       "      <td>MULTIPOLYGON (((124.04577 11.57862, 124.04594 ...</td>\n",
       "    </tr>\n",
       "    <tr>\n",
       "      <th>2</th>\n",
       "      <td>Cagayan Valley</td>\n",
       "      <td></td>\n",
       "      <td>MULTIPOLYGON (((122.51581 17.04436, 122.51568 ...</td>\n",
       "    </tr>\n",
       "    <tr>\n",
       "      <th>3</th>\n",
       "      <td>Calabarzon</td>\n",
       "      <td></td>\n",
       "      <td>MULTIPOLYGON (((120.49202 14.05403, 120.49201 ...</td>\n",
       "    </tr>\n",
       "    <tr>\n",
       "      <th>4</th>\n",
       "      <td>Caraga</td>\n",
       "      <td></td>\n",
       "      <td>MULTIPOLYGON (((126.45401 8.24400, 126.45407 8...</td>\n",
       "    </tr>\n",
       "  </tbody>\n",
       "</table>\n",
       "</div>"
      ],
      "text/plain": [
       "                                   Name Description  \\\n",
       "0  Autonomous Region in Muslim Mindanao               \n",
       "1                          Bicol Region               \n",
       "2                        Cagayan Valley               \n",
       "3                            Calabarzon               \n",
       "4                                Caraga               \n",
       "\n",
       "                                            geometry  \n",
       "0  MULTIPOLYGON (((119.46690 4.58718, 119.46653 4...  \n",
       "1  MULTIPOLYGON (((124.04577 11.57862, 124.04594 ...  \n",
       "2  MULTIPOLYGON (((122.51581 17.04436, 122.51568 ...  \n",
       "3  MULTIPOLYGON (((120.49202 14.05403, 120.49201 ...  \n",
       "4  MULTIPOLYGON (((126.45401 8.24400, 126.45407 8...  "
      ]
     },
     "execution_count": 9,
     "metadata": {},
     "output_type": "execute_result"
    }
   ],
   "source": [
    "# Load a KML file containing island boundaries\n",
    "gpd.io.file.fiona.drvsupport.supported_drivers['KML'] = 'rw'\n",
    "PHL = gpd.read_file(\"../input/geospatial-learn-course-data/Philippines_AL258.kml\", driver='KML')\n",
    "PHL.head()"
   ]
  },
  {
   "cell_type": "markdown",
   "id": "9b802d4d",
   "metadata": {
    "papermill": {
     "duration": 0.006722,
     "end_time": "2025-10-06T09:43:36.907096",
     "exception": false,
     "start_time": "2025-10-06T09:43:36.900374",
     "status": "completed"
    },
    "tags": []
   },
   "source": [
    "Use the `PHL` and `PHL_loans` GeoDataFrames to visualize loans in the Philippines."
   ]
  },
  {
   "cell_type": "code",
   "execution_count": 10,
   "id": "5a67849a",
   "metadata": {
    "execution": {
     "iopub.execute_input": "2025-10-06T09:43:36.921415Z",
     "iopub.status.busy": "2025-10-06T09:43:36.921140Z",
     "iopub.status.idle": "2025-10-06T09:43:38.231280Z",
     "shell.execute_reply": "2025-10-06T09:43:38.230458Z"
    },
    "papermill": {
     "duration": 1.319012,
     "end_time": "2025-10-06T09:43:38.232705",
     "exception": false,
     "start_time": "2025-10-06T09:43:36.913693",
     "status": "completed"
    },
    "tags": []
   },
   "outputs": [
    {
     "data": {
      "application/javascript": [
       "parent.postMessage({\"jupyterEvent\": \"custom.exercise_interaction\", \"data\": {\"interactionType\": 2, \"questionType\": 2, \"questionId\": \"4.1_Q4P\", \"learnToolsVersion\": \"0.3.5\", \"valueTowardsCompletion\": 0.0, \"failureMessage\": \"\", \"exceptionClass\": \"\", \"trace\": \"\", \"outcomeType\": 4}}, \"*\")"
      ],
      "text/plain": [
       "<IPython.core.display.Javascript object>"
      ]
     },
     "metadata": {},
     "output_type": "display_data"
    },
    {
     "data": {
      "text/markdown": [
       "<span style=\"color:#3366cc\">Hint:</span> Use the `plot()` method of each GeoDataFrame."
      ],
      "text/plain": [
       "Hint: Use the `plot()` method of each GeoDataFrame."
      ]
     },
     "metadata": {},
     "output_type": "display_data"
    },
    {
     "data": {
      "image/png": "[encoded data removed]",
      "text/plain": [
       "<Figure size 640x480 with 1 Axes>"
      ]
     },
     "metadata": {},
     "output_type": "display_data"
    }
   ],
   "source": [
    "# Your code here\n",
    "ax = PHL.plot()\n",
    "PHL_loans.plot(color=\"orange\", ax=ax)\n",
    "\n",
    "# Uncomment to see a hint\n",
    "q_4.a.hint()"
   ]
  },
  {
   "cell_type": "code",
   "execution_count": 11,
   "id": "02da79cb",
   "metadata": {
    "execution": {
     "iopub.execute_input": "2025-10-06T09:43:38.250052Z",
     "iopub.status.busy": "2025-10-06T09:43:38.249700Z",
     "iopub.status.idle": "2025-10-06T09:43:38.259226Z",
     "shell.execute_reply": "2025-10-06T09:43:38.258528Z"
    },
    "papermill": {
     "duration": 0.019601,
     "end_time": "2025-10-06T09:43:38.260581",
     "exception": false,
     "start_time": "2025-10-06T09:43:38.240980",
     "status": "completed"
    },
    "tags": []
   },
   "outputs": [
    {
     "data": {
      "application/javascript": [
       "parent.postMessage({\"jupyterEvent\": \"custom.exercise_interaction\", \"data\": {\"outcomeType\": 1, \"valueTowardsCompletion\": 0.3333333333333333, \"interactionType\": 1, \"questionType\": 2, \"questionId\": \"4.1_Q4P\", \"learnToolsVersion\": \"0.3.5\", \"failureMessage\": \"\", \"exceptionClass\": \"\", \"trace\": \"\"}}, \"*\")"
      ],
      "text/plain": [
       "<IPython.core.display.Javascript object>"
      ]
     },
     "metadata": {},
     "output_type": "display_data"
    },
    {
     "data": {
      "text/markdown": [
       "<span style=\"color:#33cc33\">Thank you for creating a map!</span>"
      ],
      "text/plain": [
       "Thank you for creating a map!"
      ]
     },
     "metadata": {},
     "output_type": "display_data"
    },
    {
     "data": {
      "application/javascript": [
       "parent.postMessage({\"jupyterEvent\": \"custom.exercise_interaction\", \"data\": {\"interactionType\": 3, \"questionType\": 2, \"questionId\": \"4.1_Q4P\", \"learnToolsVersion\": \"0.3.5\", \"valueTowardsCompletion\": 0.0, \"failureMessage\": \"\", \"exceptionClass\": \"\", \"trace\": \"\", \"outcomeType\": 4}}, \"*\")"
      ],
      "text/plain": [
       "<IPython.core.display.Javascript object>"
      ]
     },
     "metadata": {},
     "output_type": "display_data"
    },
    {
     "data": {
      "text/markdown": [
       "<span style=\"color:#33cc99\">Solution:</span> \n",
       "```python\n",
       "ax = PHL.plot(figsize=(12,12), color='whitesmoke', linestyle=':', edgecolor='lightgray')\n",
       "PHL_loans.plot(ax=ax, markersize=2)\n",
       "\n",
       "```"
      ],
      "text/plain": [
       "Solution: \n",
       "```python\n",
       "ax = PHL.plot(figsize=(12,12), color='whitesmoke', linestyle=':', edgecolor='lightgray')\n",
       "PHL_loans.plot(ax=ax, markersize=2)\n",
       "\n",
       "```"
      ]
     },
     "metadata": {},
     "output_type": "display_data"
    }
   ],
   "source": [
    "# Get credit for your work after you have created a map\n",
    "q_4.a.check()\n",
    "\n",
    "# Uncomment to see our solution (your code may look different!)\n",
    "q_4.a.solution()"
   ]
  },
  {
   "cell_type": "markdown",
   "id": "2bc4de10",
   "metadata": {
    "papermill": {
     "duration": 0.007413,
     "end_time": "2025-10-06T09:43:38.275883",
     "exception": false,
     "start_time": "2025-10-06T09:43:38.268470",
     "status": "completed"
    },
    "tags": []
   },
   "source": [
    "Can you identify any islands where it might be useful to recruit new Field Partners?  Do any islands currently look outside of Kiva's reach?\n",
    "\n",
    "You might find [this map](https://bit.ly/2U2G7x7) useful to answer the question."
   ]
  },
  {
   "cell_type": "code",
   "execution_count": 12,
   "id": "7734aac1",
   "metadata": {
    "execution": {
     "iopub.execute_input": "2025-10-06T09:43:38.292695Z",
     "iopub.status.busy": "2025-10-06T09:43:38.291986Z",
     "iopub.status.idle": "2025-10-06T09:43:38.298483Z",
     "shell.execute_reply": "2025-10-06T09:43:38.297782Z"
    },
    "papermill": {
     "duration": 0.016333,
     "end_time": "2025-10-06T09:43:38.299764",
     "exception": false,
     "start_time": "2025-10-06T09:43:38.283431",
     "status": "completed"
    },
    "tags": []
   },
   "outputs": [
    {
     "data": {
      "application/javascript": [
       "parent.postMessage({\"jupyterEvent\": \"custom.exercise_interaction\", \"data\": {\"interactionType\": 3, \"questionType\": 4, \"questionId\": \"4.2_Q4T\", \"learnToolsVersion\": \"0.3.5\", \"valueTowardsCompletion\": 0.0, \"failureMessage\": \"\", \"exceptionClass\": \"\", \"trace\": \"\", \"outcomeType\": 4}}, \"*\")"
      ],
      "text/plain": [
       "<IPython.core.display.Javascript object>"
      ]
     },
     "metadata": {},
     "output_type": "display_data"
    },
    {
     "data": {
      "text/markdown": [
       "<span style=\"color:#33cc99\">Solution:</span> There are a number of potential islands, but **Mindoro** (in the central part of the Philippines) stands out as a relatively large island without any loans in the current dataset.  This island is potentially a good location for recruiting new Field Partners!"
      ],
      "text/plain": [
       "Solution: There are a number of potential islands, but **Mindoro** (in the central part of the Philippines) stands out as a relatively large island without any loans in the current dataset.  This island is potentially a good location for recruiting new Field Partners!"
      ]
     },
     "metadata": {},
     "output_type": "display_data"
    }
   ],
   "source": [
    "# View the solution (Run this code cell to receive credit!)\n",
    "q_4.b.solution()"
   ]
  },
  {
   "cell_type": "markdown",
   "id": "b663a2a6",
   "metadata": {
    "papermill": {
     "duration": 0.007569,
     "end_time": "2025-10-06T09:43:38.315153",
     "exception": false,
     "start_time": "2025-10-06T09:43:38.307584",
     "status": "completed"
    },
    "tags": []
   },
   "source": [
    "# Keep going\n",
    "\n",
    "Continue to learn about **[coordinate reference systems](https://www.kaggle.com/alexisbcook/coordinate-reference-systems)**."
   ]
  },
  {
   "cell_type": "markdown",
   "id": "b51a4a41",
   "metadata": {
    "papermill": {
     "duration": 0.007515,
     "end_time": "2025-10-06T09:43:38.330233",
     "exception": false,
     "start_time": "2025-10-06T09:43:38.322718",
     "status": "completed"
    },
    "tags": []
   },
   "source": [
    "---\n",
    "\n",
    "\n",
    "\n",
    "\n",
    "*Have questions or comments? Visit the [course discussion forum](https://www.kaggle.com/learn/geospatial-analysis/discussion) to chat with other learners.*"
   ]
  }
 ],
 "metadata": {
  "kaggle": {
   "accelerator": "none",
   "dataSources": [
    {
     "datasetId": 348259,
     "sourceId": 695175,
     "sourceType": "datasetVersion"
    },
    {
     "datasetId": 116573,
     "sourceId": 3551030,
     "sourceType": "datasetVersion"
    }
   ],
   "isGpuEnabled": false,
   "isInternetEnabled": false,
   "language": "python",
   "sourceType": "notebook"
  },
  "kernelspec": {
   "display_name": "Python 3",
   "language": "python",
   "name": "python3"
  },
  "language_info": {
   "codemirror_mode": {
    "name": "ipython",
    "version": 3
   },
   "file_extension": ".py",
   "mimetype": "text/x-python",
   "name": "python",
   "nbconvert_exporter": "python",
   "pygments_lexer": "ipython3",
   "version": "3.11.13"
  },
  "papermill": {
   "default_parameters": {},
   "duration": 18.336418,
   "end_time": "2025-10-06T09:43:39.057632",
   "environment_variables": {},
   "exception": null,
   "input_path": "__notebook__.ipynb",
   "output_path": "__notebook__.ipynb",
   "parameters": {},
   "start_time": "2025-10-06T09:43:20.721214",
   "version": "2.6.0"
  }
 },
 "nbformat": 4,
 "nbformat_minor": 5
}
