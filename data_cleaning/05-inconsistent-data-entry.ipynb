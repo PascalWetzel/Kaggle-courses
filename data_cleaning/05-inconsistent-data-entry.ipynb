{
 "cells": [
  {
   "cell_type": "markdown",
   "id": "4b7c5c53",
   "metadata": {
    "papermill": {
     "duration": 0.00439,
     "end_time": "2025-09-15T14:12:18.750322",
     "exception": false,
     "start_time": "2025-09-15T14:12:18.745932",
     "status": "completed"
    },
    "tags": []
   },
   "source": [
    "**This notebook is an exercise in the [Data Cleaning](https://www.kaggle.com/learn/data-cleaning) course.  You can reference the tutorial at [this link](https://www.kaggle.com/alexisbcook/inconsistent-data-entry).**\n",
    "\n",
    "---\n"
   ]
  },
  {
   "cell_type": "markdown",
   "id": "85eab8e0",
   "metadata": {
    "papermill": {
     "duration": 0.003188,
     "end_time": "2025-09-15T14:12:18.757112",
     "exception": false,
     "start_time": "2025-09-15T14:12:18.753924",
     "status": "completed"
    },
    "tags": []
   },
   "source": [
    "In this exercise, you'll apply what you learned in the **Inconsistent data entry** tutorial.\n",
    "\n",
    "# Setup\n",
    "\n",
    "The questions below will give you feedback on your work. Run the following cell to set up the feedback system."
   ]
  },
  {
   "cell_type": "code",
   "execution_count": 1,
   "id": "69afdeb6",
   "metadata": {
    "execution": {
     "iopub.execute_input": "2025-09-15T14:12:18.765095Z",
     "iopub.status.busy": "2025-09-15T14:12:18.764763Z",
     "iopub.status.idle": "2025-09-15T14:12:20.635836Z",
     "shell.execute_reply": "2025-09-15T14:12:20.634870Z"
    },
    "papermill": {
     "duration": 1.876875,
     "end_time": "2025-09-15T14:12:20.637413",
     "exception": false,
     "start_time": "2025-09-15T14:12:18.760538",
     "status": "completed"
    },
    "tags": []
   },
   "outputs": [
    {
     "name": "stdout",
     "output_type": "stream",
     "text": [
      "Setup Complete\n"
     ]
    },
    {
     "name": "stderr",
     "output_type": "stream",
     "text": [
      "/usr/local/lib/python3.11/dist-packages/fuzzywuzzy/fuzz.py:11: UserWarning: Using slow pure-python SequenceMatcher. Install python-Levenshtein to remove this warning\n",
      "  warnings.warn('Using slow pure-python SequenceMatcher. Install python-Levenshtein to remove this warning')\n"
     ]
    }
   ],
   "source": [
    "from learntools.core import binder\n",
    "binder.bind(globals())\n",
    "from learntools.data_cleaning.ex5 import *\n",
    "print(\"Setup Complete\")"
   ]
  },
  {
   "cell_type": "markdown",
   "id": "eb890707",
   "metadata": {
    "papermill": {
     "duration": 0.003393,
     "end_time": "2025-09-15T14:12:20.644822",
     "exception": false,
     "start_time": "2025-09-15T14:12:20.641429",
     "status": "completed"
    },
    "tags": []
   },
   "source": [
    "# Get our environment set up\n",
    "\n",
    "The first thing we'll need to do is load in the libraries and dataset we'll be using.  We use the same dataset from the tutorial."
   ]
  },
  {
   "cell_type": "code",
   "execution_count": 2,
   "id": "0ae8bb0c",
   "metadata": {
    "execution": {
     "iopub.execute_input": "2025-09-15T14:12:20.653670Z",
     "iopub.status.busy": "2025-09-15T14:12:20.652665Z",
     "iopub.status.idle": "2025-09-15T14:12:20.667468Z",
     "shell.execute_reply": "2025-09-15T14:12:20.666460Z"
    },
    "papermill": {
     "duration": 0.020787,
     "end_time": "2025-09-15T14:12:20.669063",
     "exception": false,
     "start_time": "2025-09-15T14:12:20.648276",
     "status": "completed"
    },
    "tags": []
   },
   "outputs": [],
   "source": [
    "# modules we'll use\n",
    "import pandas as pd\n",
    "import numpy as np\n",
    "\n",
    "# helpful modules\n",
    "import fuzzywuzzy\n",
    "from fuzzywuzzy import process\n",
    "import charset_normalizer\n",
    "\n",
    "# read in all our data\n",
    "professors = pd.read_csv(\"../input/pakistan-intellectual-capital/pakistan_intellectual_capital.csv\")\n",
    "\n",
    "# set seed for reproducibility\n",
    "np.random.seed(0)"
   ]
  },
  {
   "cell_type": "markdown",
   "id": "44956552",
   "metadata": {
    "papermill": {
     "duration": 0.003687,
     "end_time": "2025-09-15T14:12:20.676513",
     "exception": false,
     "start_time": "2025-09-15T14:12:20.672826",
     "status": "completed"
    },
    "tags": []
   },
   "source": [
    "Next, we'll redo all of the work that we did in the tutorial."
   ]
  },
  {
   "cell_type": "code",
   "execution_count": 3,
   "id": "81bc31f9",
   "metadata": {
    "execution": {
     "iopub.execute_input": "2025-09-15T14:12:20.685742Z",
     "iopub.status.busy": "2025-09-15T14:12:20.684636Z",
     "iopub.status.idle": "2025-09-15T14:12:20.697885Z",
     "shell.execute_reply": "2025-09-15T14:12:20.696990Z"
    },
    "papermill": {
     "duration": 0.019048,
     "end_time": "2025-09-15T14:12:20.699115",
     "exception": false,
     "start_time": "2025-09-15T14:12:20.680067",
     "status": "completed"
    },
    "tags": []
   },
   "outputs": [
    {
     "name": "stdout",
     "output_type": "stream",
     "text": [
      "All done!\n"
     ]
    }
   ],
   "source": [
    "# convert to lower case\n",
    "professors['Country'] = professors['Country'].str.lower()\n",
    "# remove trailing white spaces\n",
    "professors['Country'] = professors['Country'].str.strip()\n",
    "\n",
    "# get the top 10 closest matches to \"south korea\"\n",
    "countries = professors['Country'].unique()\n",
    "matches = fuzzywuzzy.process.extract(\"south korea\", countries, limit=10, scorer=fuzzywuzzy.fuzz.token_sort_ratio)\n",
    "\n",
    "def replace_matches_in_column(df, column, string_to_match, min_ratio = 47):\n",
    "    # get a list of unique strings\n",
    "    strings = df[column].unique()\n",
    "    \n",
    "    # get the top 10 closest matches to our input string\n",
    "    matches = fuzzywuzzy.process.extract(string_to_match, strings, \n",
    "                                         limit=10, scorer=fuzzywuzzy.fuzz.token_sort_ratio)\n",
    "\n",
    "    # only get matches with a ratio > 90\n",
    "    close_matches = [matches[0] for matches in matches if matches[1] >= min_ratio]\n",
    "\n",
    "    # get the rows of all the close matches in our dataframe\n",
    "    rows_with_matches = df[column].isin(close_matches)\n",
    "\n",
    "    # replace all rows with close matches with the input matches \n",
    "    df.loc[rows_with_matches, column] = string_to_match\n",
    "    \n",
    "    # let us know the function's done\n",
    "    print(\"All done!\")\n",
    "    \n",
    "replace_matches_in_column(df=professors, column='Country', string_to_match=\"south korea\")\n",
    "countries = professors['Country'].unique()"
   ]
  },
  {
   "cell_type": "markdown",
   "id": "38944f4f",
   "metadata": {
    "papermill": {
     "duration": 0.003679,
     "end_time": "2025-09-15T14:12:20.706606",
     "exception": false,
     "start_time": "2025-09-15T14:12:20.702927",
     "status": "completed"
    },
    "tags": []
   },
   "source": [
    "# 1) Examine another column\n",
    "\n",
    "Write code below to take a look at all the unique values in the \"Graduated from\" column."
   ]
  },
  {
   "cell_type": "code",
   "execution_count": 4,
   "id": "ba3f8e50",
   "metadata": {
    "execution": {
     "iopub.execute_input": "2025-09-15T14:12:20.716423Z",
     "iopub.status.busy": "2025-09-15T14:12:20.716107Z",
     "iopub.status.idle": "2025-09-15T14:12:20.725657Z",
     "shell.execute_reply": "2025-09-15T14:12:20.724805Z"
    },
    "papermill": {
     "duration": 0.016933,
     "end_time": "2025-09-15T14:12:20.727433",
     "exception": false,
     "start_time": "2025-09-15T14:12:20.710500",
     "status": "completed"
    },
    "tags": []
   },
   "outputs": [
    {
     "data": {
      "text/plain": [
       "[' Columbia University',\n",
       " ' Delft University of Technology',\n",
       " ' Iowa State University',\n",
       " ' University of Central Florida',\n",
       " ' University of Innsbruck',\n",
       " ' University of Texas at Arlington (UTA)',\n",
       " ' University of Turin',\n",
       " 'Abasyn University',\n",
       " 'Abdul Wali Khan University, Mardan',\n",
       " 'Abdus Salam School of Mathematical Sciences,GC University',\n",
       " 'Agricultural University Peshawar',\n",
       " 'Allama Iqbal Open University',\n",
       " 'Asian Institute of Technology',\n",
       " 'Aston University, Birmingham',\n",
       " 'Australian National University, Caneberra',\n",
       " 'BUKC',\n",
       " 'Bahauddin Zakariya University',\n",
       " 'Bahria University',\n",
       " 'Bahria University,Islamabad',\n",
       " 'Balochistan University of Information Technology, Engineering and Management Sciences',\n",
       " 'Barani Institute of Information Technology',\n",
       " 'Beaconhouse National University',\n",
       " 'Beihang University',\n",
       " 'Beijing Institute of Technology',\n",
       " 'Beijing Institute of Technology Beijing',\n",
       " 'Beijing University of Posts & Telecommunications',\n",
       " 'Biztek Institute Of Business & Technology,Karachi',\n",
       " 'Blekinge Institute of Technology',\n",
       " 'Brock University Canada',\n",
       " 'Brunel University',\n",
       " 'CECOS University of Information Technology and Emerging Sciences,Peshawar',\n",
       " 'COMSATS Institute of Information Technology',\n",
       " 'COMSATS Institute of Information Technology,Islamabad',\n",
       " 'COMSATS Institute of Information Technology,Lahore',\n",
       " 'COMSATS Institute of Information Technology,Vehari',\n",
       " 'COMSATS Institute of Information Technology,Wah Cantt',\n",
       " 'California State University',\n",
       " 'Capital University of Science & Technology',\n",
       " 'Capital University of Science and Technology',\n",
       " 'Carnegie Mellon University, Pittsburgh',\n",
       " 'Centre for Advanced Studies in Engineering',\n",
       " 'Chalmers University of Technology',\n",
       " 'Chinese Academy of Sciences',\n",
       " 'Chosun University',\n",
       " 'City University of Science and Technology',\n",
       " 'Colorado State University',\n",
       " 'Colorado Technical University',\n",
       " 'Columbia University',\n",
       " 'Concordia University,Montreal',\n",
       " 'Coventry University',\n",
       " 'Cranfield University',\n",
       " 'DUET,Karachi',\n",
       " 'DePaul University, Chicago',\n",
       " 'Dresden University Of Technology, Dresden\\xa0',\n",
       " 'Eindhoven University of Technology (TU/e)',\n",
       " 'FAST– National University of Computer and Emerging Sciences',\n",
       " 'FAST– National University of Computer and Emerging Sciences,Chiniot-Faisalabad',\n",
       " 'FAST– National University of Computer and Emerging Sciences,Islamabad',\n",
       " 'FAST– National University of Computer and Emerging Sciences,Lahore',\n",
       " 'FAST– National University of Computer and Emerging Sciences,Peshawar',\n",
       " 'Fatima Jinnah Women University, Rawalpindi',\n",
       " 'Fedral Urdu University',\n",
       " 'Florida Atlantic University',\n",
       " 'Foundation University',\n",
       " 'Galilée - Université Paris 13',\n",
       " 'George Mason University',\n",
       " 'George Washington University',\n",
       " 'Georgetown University,DC',\n",
       " 'Ghulam Ishaq Khan Institute of Science and Technology',\n",
       " 'Gomal University',\n",
       " 'Government College University',\n",
       " 'Government College University, Faisalabad',\n",
       " 'Government College University,Faisalabad',\n",
       " 'Graz University of Technology',\n",
       " 'Grenoble',\n",
       " 'Griffith University',\n",
       " 'Griffith University,Nathan Campus',\n",
       " 'Guildford',\n",
       " 'Gwangju Institute of Science and Technology',\n",
       " 'HITEC University,Taxila',\n",
       " 'Hamburg University of Technology',\n",
       " 'Hamdard University',\n",
       " 'Hanyang University, Ansan',\n",
       " 'Harbin Institute of Technology',\n",
       " 'Huazhong University of Science and Technology (HUST), Wuhan',\n",
       " 'IBMS KP Agricultural University Peshawar',\n",
       " 'INRIA Saclay Ile-de-France',\n",
       " 'INSA de Lyon, Rhone',\n",
       " 'IQRA University',\n",
       " 'IQRA University,Islamabad',\n",
       " 'IQRA University,Karachi',\n",
       " 'ISRA University',\n",
       " 'Illinois Institute of Technology',\n",
       " 'Ilmenau University of Technology',\n",
       " 'Imperial College, University of London',\n",
       " 'Information Technology University (ITU)',\n",
       " 'Institute Of Managment Sciences, Peshawar',\n",
       " 'Institute of Business Administration',\n",
       " 'Institute of Business Administration,Karachi',\n",
       " 'Institute of Business Administration,Sukkur',\n",
       " 'Institute of Management Sciences, Peshawar',\n",
       " 'International Islamic University',\n",
       " 'International Islamic University,Islamabad',\n",
       " 'Islamia College University ',\n",
       " 'JKU',\n",
       " 'JNU',\n",
       " 'Jinnah University for Women',\n",
       " 'John Moorse University, Liverpool',\n",
       " 'Jonkoping University',\n",
       " 'KTH Royal Institute of Technology',\n",
       " 'King Abdullah University of Science and Technology',\n",
       " 'Kingston University London',\n",
       " 'Kohat University of Science & Technology, Kohat',\n",
       " 'Kyung Hee University',\n",
       " 'Kyungpook National University',\n",
       " 'Kyushu University,Fukuoka',\n",
       " 'Lahore College for Women University',\n",
       " 'Lahore Leads University',\n",
       " 'Lahore University of Management Sciences',\n",
       " 'Linköping University',\n",
       " 'Liverpool John Moores University',\n",
       " 'London University',\n",
       " 'Loughborough University',\n",
       " 'Manchester Metropolitan University',\n",
       " 'Manchester University',\n",
       " 'Massachusetts Institute of Technology',\n",
       " 'Max Planck Institute for Computer Science',\n",
       " 'Mehran University of Engineering & Technology',\n",
       " 'Mid Sweden University',\n",
       " 'Middle East Technical University',\n",
       " 'Middlesex University',\n",
       " 'Minhaj University Lahore',\n",
       " 'Mohammad Ali Jinnah University',\n",
       " 'Monash University',\n",
       " 'Muroran Institute of Technology,Hokkaido',\n",
       " 'Myongji University',\n",
       " 'NCSU',\n",
       " 'NED University of Engineering And Technology',\n",
       " 'Nancy 2 University',\n",
       " 'Nanyang Tech University',\n",
       " 'National College of Business Administration and Economics',\n",
       " 'National Textile University',\n",
       " 'National University of Modern Languages',\n",
       " 'National University of Modern Languages,Islamabad',\n",
       " 'National University of Sciences and Technology',\n",
       " 'National University of Singapore',\n",
       " 'New York Institute of Technology',\n",
       " 'North Dakota State University',\n",
       " 'Northeastern University,Boston',\n",
       " 'Norwegian University of Science and Technology (NTNU),',\n",
       " 'Nottingham Trent University',\n",
       " 'Oxford Brookes University',\n",
       " 'PAF-Karachi Institute of Economics and Technology',\n",
       " 'Pace University, New York',\n",
       " 'Pakistan Institute of Engineering and Applied Sciences',\n",
       " 'Paris Descartes University',\n",
       " 'Paris Tech University of Eurecom',\n",
       " 'Pir Mehr Ali Shah Arid Agriculture University',\n",
       " 'Pohang University of Science and Technology',\n",
       " 'Politecnico di Milano',\n",
       " 'Politecnico di Torino',\n",
       " 'Pompeu Fabra University Barcelona',\n",
       " 'Preston',\n",
       " 'Punjab University College of Information Technology',\n",
       " 'Purdue University',\n",
       " 'Quaid-e-Awam University of Engineering, Science & Technology',\n",
       " 'Quaid-i-Azam University',\n",
       " 'Queen Mary University of London',\n",
       " 'RWTH Aachen University',\n",
       " 'Razak School of Engineering and Advanced Technology, Universiti Teknologi Malaysia (UTM)',\n",
       " 'Riphah International University',\n",
       " 'Riphah International University,Faisalabad',\n",
       " 'Rutgers State University of New Jersey, NJ',\n",
       " 'SRH Hochschule Heidelberg',\n",
       " 'SSindh Agriculture University',\n",
       " 'Saarland University',\n",
       " 'Sapienza University of Rome',\n",
       " \"Sardar Bahadur Khan Women's University\",\n",
       " 'Seoul National University',\n",
       " 'Shah Abdul Latif University, Khairpur',\n",
       " 'Shaheed Zulfikar Ali Bhutto Institute of Science and Technology',\n",
       " 'Shaheed Zulfikar Ali Bhutto Institute of Science and Technology,Islamabad',\n",
       " 'Sindh Agriculture University',\n",
       " 'Sindh University',\n",
       " 'Sir Syed University of Engineering and Technology',\n",
       " 'Skolkovo Institute of Science and Technology,\\xa0',\n",
       " 'South Asian University',\n",
       " 'Staffordshire University',\n",
       " 'Stanford University',\n",
       " 'State University of New York System',\n",
       " 'Stockholm University',\n",
       " 'Sungkyunkwan University',\n",
       " 'Superior University, Lahore',\n",
       " 'Swansea',\n",
       " 'Swedish University of Agricultural Sciences, Uppsala',\n",
       " 'Swinburne University Of Technology',\n",
       " 'TU Berlin',\n",
       " 'TU Wien',\n",
       " 'Technical University of Braunschweig',\n",
       " 'Technical University of Graz',\n",
       " 'Temple University',\n",
       " 'The Islamia University of Bahawalpur ',\n",
       " 'The Ohio State University',\n",
       " 'The Queens University of Belfast',\n",
       " 'The State University of New Jersey',\n",
       " 'The University of Auckland',\n",
       " 'The University of Birmingham',\n",
       " 'The University of Cambridge',\n",
       " 'The University of Leeds',\n",
       " 'The University of Manchester',\n",
       " 'The University of Queensland',\n",
       " 'The University of Texas at Austin',\n",
       " 'The University of York',\n",
       " 'Tilburg University',\n",
       " 'Tokyo Institute of Technology',\n",
       " 'Tsinghua University',\n",
       " 'United Nations University International Institute for Software Technology (UNU-IIST)',\n",
       " 'Univ of Porto/Univ of Aveiro Portugal/Uni of Minho',\n",
       " \"Universite d'Evry Val d'Essonne\",\n",
       " 'Universiti Putra Malaysia Putra',\n",
       " 'Universiti Technologi',\n",
       " 'Universiti Teknologi PETRONAS',\n",
       " 'Universiti Tun Hussein Onn Malaysia',\n",
       " 'University Institute of Information Technology',\n",
       " 'University Of Caen',\n",
       " 'University Of Oslo',\n",
       " 'University Of Salford',\n",
       " 'University Of Southern California',\n",
       " 'University Of Waterloo',\n",
       " 'University Paris',\n",
       " 'University of Abertay Dundee',\n",
       " 'University of Agriculture',\n",
       " 'University of Agriculture Faisalabad',\n",
       " 'University of Agriculture, Faisalabad',\n",
       " 'University of Agriculture, Faisalabad\\xa0',\n",
       " 'University of Arid Agriculture',\n",
       " 'University of Balochistan',\n",
       " 'University of Bath',\n",
       " 'University of Bayreuth',\n",
       " 'University of BedfordShire',\n",
       " 'University of Bedfordshire',\n",
       " 'University of Bergen',\n",
       " 'University of Birmingham',\n",
       " 'University of Bologna',\n",
       " 'University of Bonn',\n",
       " 'University of Bradford',\n",
       " 'University of Bristol',\n",
       " 'University of British Columbia',\n",
       " 'University of Canterbury',\n",
       " 'University of Central Florida',\n",
       " 'University of Central Missouri',\n",
       " 'University of Central Punjab',\n",
       " 'University of Colorado\\xa0',\n",
       " 'University of Dundee',\n",
       " 'University of Engineering & Technology',\n",
       " 'University of Engineering and Technology',\n",
       " 'University of Engineering and Technology,Peshawar',\n",
       " 'University of Engineering and Technology,Taxila',\n",
       " 'University of Essex',\n",
       " 'University of Florida',\n",
       " 'University of Freiburg',\n",
       " 'University of Genova',\n",
       " 'University of Glasgow',\n",
       " 'University of Grenoble',\n",
       " 'University of Gujrat',\n",
       " 'University of Huddersfield',\n",
       " 'University of Illinois',\n",
       " 'University of Innsbruck',\n",
       " 'University of Karachi',\n",
       " 'University of Kent',\n",
       " 'University of Konstanz',\n",
       " 'University of Kuala Lumpur',\n",
       " 'University of Lahore',\n",
       " 'University of Leeds',\n",
       " 'University of Leicester',\n",
       " 'University of Limerick',\n",
       " 'University of Liverpool',\n",
       " 'University of Malaga',\n",
       " 'University of Malaya',\n",
       " 'University of Management and Technology',\n",
       " 'University of Manchester',\n",
       " 'University of Manchester Institute of Science and Technology',\n",
       " 'University of Mississippi\\xa0',\n",
       " 'University of New South Wales, Sydney',\n",
       " 'University of Nice, Sophia Antipolis',\n",
       " 'University of Northampton',\n",
       " 'University of Notre Dame Indiana\\xa0',\n",
       " 'University of Orleans',\n",
       " 'University of Oviedo',\n",
       " 'University of Paisley',\n",
       " 'University of Paris',\n",
       " 'University of Paris-Est',\n",
       " 'University of Patras',\n",
       " 'University of Peshawar',\n",
       " 'University of Pittsburgh',\n",
       " 'University of Plymouth',\n",
       " 'University of Porto',\n",
       " 'University of Regina',\n",
       " 'University of Rochester',\n",
       " 'University of Rome Tor Vergata',\n",
       " 'University of Saarland',\n",
       " 'University of Salford',\n",
       " 'University of Shanghai for Science and Technology',\n",
       " 'University of South Australia',\n",
       " 'University of South Brittany',\n",
       " 'University of South Florida',\n",
       " 'University of Southampton',\n",
       " 'University of Southern California',\n",
       " 'University of Stirling',\n",
       " 'University of Stuttgart',\n",
       " 'University of Sunderland',\n",
       " 'University of Surrey',\n",
       " 'University of Sussex',\n",
       " 'University of Technology',\n",
       " 'University of Trento',\n",
       " 'University of Turbat',\n",
       " 'University of Ulm',\n",
       " 'University of Vienna',\n",
       " 'University of Virginia',\n",
       " 'University of Wales',\n",
       " 'University of Wales,Aberystwyth',\n",
       " 'University of Westminster',\n",
       " 'University of York',\n",
       " 'University of the Punjab',\n",
       " 'University of the Punjab,Gujranwala',\n",
       " 'University of the West Scotland',\n",
       " 'University of\\xa0Liverpool John Moores University',\n",
       " 'Universität Salzburg',\n",
       " 'Université Henri Poincaré, Nancy 1,',\n",
       " 'Université de la Rochelle',\n",
       " 'Universtiy of Karachi',\n",
       " 'Universtiy of Lahore',\n",
       " 'Uppsala University',\n",
       " 'Usman Institute of Technology',\n",
       " 'Usman Institute of Technology (Hamdard University)',\n",
       " 'Vienna University of Technology',\n",
       " 'Virtual University of Pakistan',\n",
       " 'Vrije University, Amsterdam',\n",
       " 'Wayne State University',\n",
       " 'Xiamen university',\n",
       " 'Zhejiang University',\n",
       " '\\xa0Boston University',\n",
       " '\\xa0Hongik University',\n",
       " '\\xa0Nanyang Technological University',\n",
       " '\\xa0National University of Sciences and Technology-NIIT',\n",
       " '\\xa0University of Bedfordshire',\n",
       " '\\xa0University of Bonn',\n",
       " '\\xa0University of Missouri, KC',\n",
       " '\\xa0University of Windsor',\n",
       " 'Åbo Akademi University,']"
      ]
     },
     "execution_count": 4,
     "metadata": {},
     "output_type": "execute_result"
    }
   ],
   "source": [
    "# TODO: Your code here\n",
    "sorted(professors[\"Graduated from\"].unique())"
   ]
  },
  {
   "cell_type": "markdown",
   "id": "659fe608",
   "metadata": {
    "papermill": {
     "duration": 0.00398,
     "end_time": "2025-09-15T14:12:20.735786",
     "exception": false,
     "start_time": "2025-09-15T14:12:20.731806",
     "status": "completed"
    },
    "tags": []
   },
   "source": [
    "Do you notice any inconsistencies in the data?  Can any of the inconsistencies in the data be fixed by removing white spaces at the beginning and end of cells?\n",
    "\n",
    "Once you have answered these questions, run the code cell below to get credit for your work."
   ]
  },
  {
   "cell_type": "code",
   "execution_count": 5,
   "id": "2ae02c31",
   "metadata": {
    "execution": {
     "iopub.execute_input": "2025-09-15T14:12:20.745324Z",
     "iopub.status.busy": "2025-09-15T14:12:20.744986Z",
     "iopub.status.idle": "2025-09-15T14:12:20.751842Z",
     "shell.execute_reply": "2025-09-15T14:12:20.751124Z"
    },
    "papermill": {
     "duration": 0.013243,
     "end_time": "2025-09-15T14:12:20.753252",
     "exception": false,
     "start_time": "2025-09-15T14:12:20.740009",
     "status": "completed"
    },
    "tags": []
   },
   "outputs": [
    {
     "data": {
      "application/javascript": [
       "parent.postMessage({\"jupyterEvent\": \"custom.exercise_interaction\", \"data\": {\"outcomeType\": 1, \"valueTowardsCompletion\": 0.3333333333333333, \"interactionType\": 1, \"questionType\": 4, \"questionId\": \"1_ExamineProvince\", \"learnToolsVersion\": \"0.3.5\", \"failureMessage\": \"\", \"exceptionClass\": \"\", \"trace\": \"\"}}, \"*\")"
      ],
      "text/plain": [
       "<IPython.core.display.Javascript object>"
      ]
     },
     "metadata": {},
     "output_type": "display_data"
    },
    {
     "data": {
      "text/markdown": [
       "<span style=\"color:#33cc33\">Correct:</span> \n",
       "\n",
       "There are inconsistencies that can be fixed by removing white spaces at the beginning and end of cells.  For instance, \"University of Central Florida\" and \" University of Central Florida\" both appear in the column."
      ],
      "text/plain": [
       "Correct: \n",
       "\n",
       "There are inconsistencies that can be fixed by removing white spaces at the beginning and end of cells.  For instance, \"University of Central Florida\" and \" University of Central Florida\" both appear in the column."
      ]
     },
     "metadata": {},
     "output_type": "display_data"
    }
   ],
   "source": [
    "# Check your answer (Run this code cell to receive credit!)\n",
    "q1.check()"
   ]
  },
  {
   "cell_type": "code",
   "execution_count": 6,
   "id": "698b7058",
   "metadata": {
    "execution": {
     "iopub.execute_input": "2025-09-15T14:12:20.763079Z",
     "iopub.status.busy": "2025-09-15T14:12:20.762785Z",
     "iopub.status.idle": "2025-09-15T14:12:20.769515Z",
     "shell.execute_reply": "2025-09-15T14:12:20.768662Z"
    },
    "papermill": {
     "duration": 0.013012,
     "end_time": "2025-09-15T14:12:20.770805",
     "exception": false,
     "start_time": "2025-09-15T14:12:20.757793",
     "status": "completed"
    },
    "tags": []
   },
   "outputs": [
    {
     "data": {
      "application/javascript": [
       "parent.postMessage({\"jupyterEvent\": \"custom.exercise_interaction\", \"data\": {\"interactionType\": 2, \"questionType\": 4, \"questionId\": \"1_ExamineProvince\", \"learnToolsVersion\": \"0.3.5\", \"valueTowardsCompletion\": 0.0, \"failureMessage\": \"\", \"exceptionClass\": \"\", \"trace\": \"\", \"outcomeType\": 4}}, \"*\")"
      ],
      "text/plain": [
       "<IPython.core.display.Javascript object>"
      ]
     },
     "metadata": {},
     "output_type": "display_data"
    },
    {
     "data": {
      "text/markdown": [
       "<span style=\"color:#3366cc\">Hint:</span> Use `unis = professors['Graduated from'].unique()` to take a look at the unique values in the 'Graduated from' column. You may find it useful to sort the data before printing it."
      ],
      "text/plain": [
       "Hint: Use `unis = professors['Graduated from'].unique()` to take a look at the unique values in the 'Graduated from' column. You may find it useful to sort the data before printing it."
      ]
     },
     "metadata": {},
     "output_type": "display_data"
    }
   ],
   "source": [
    "# Line below will give you a hint\n",
    "q1.hint()"
   ]
  },
  {
   "cell_type": "markdown",
   "id": "c1673800",
   "metadata": {
    "papermill": {
     "duration": 0.004213,
     "end_time": "2025-09-15T14:12:20.779784",
     "exception": false,
     "start_time": "2025-09-15T14:12:20.775571",
     "status": "completed"
    },
    "tags": []
   },
   "source": [
    "# 2) Do some text pre-processing\n",
    "\n",
    "Convert every entry in the \"Graduated from\" column in the `professors` DataFrame to remove white spaces at the beginning and end of cells."
   ]
  },
  {
   "cell_type": "code",
   "execution_count": 7,
   "id": "97e05a52",
   "metadata": {
    "execution": {
     "iopub.execute_input": "2025-09-15T14:12:20.789894Z",
     "iopub.status.busy": "2025-09-15T14:12:20.789591Z",
     "iopub.status.idle": "2025-09-15T14:12:20.800192Z",
     "shell.execute_reply": "2025-09-15T14:12:20.799333Z"
    },
    "papermill": {
     "duration": 0.017222,
     "end_time": "2025-09-15T14:12:20.801468",
     "exception": false,
     "start_time": "2025-09-15T14:12:20.784246",
     "status": "completed"
    },
    "tags": []
   },
   "outputs": [
    {
     "data": {
      "application/javascript": [
       "parent.postMessage({\"jupyterEvent\": \"custom.exercise_interaction\", \"data\": {\"outcomeType\": 1, \"valueTowardsCompletion\": 0.3333333333333333, \"interactionType\": 1, \"questionType\": 1, \"questionId\": \"2_TextProcessing\", \"learnToolsVersion\": \"0.3.5\", \"failureMessage\": \"\", \"exceptionClass\": \"\", \"trace\": \"\"}}, \"*\")"
      ],
      "text/plain": [
       "<IPython.core.display.Javascript object>"
      ]
     },
     "metadata": {},
     "output_type": "display_data"
    },
    {
     "data": {
      "text/markdown": [
       "<span style=\"color:#33cc33\">Correct</span>"
      ],
      "text/plain": [
       "Correct"
      ]
     },
     "metadata": {},
     "output_type": "display_data"
    }
   ],
   "source": [
    "# TODO: Your code here\n",
    "professors[\"Graduated from\"] = professors[\"Graduated from\"].str.strip()\n",
    "\n",
    "# Check your answer\n",
    "q2.check()"
   ]
  },
  {
   "cell_type": "code",
   "execution_count": 8,
   "id": "873eb199",
   "metadata": {
    "execution": {
     "iopub.execute_input": "2025-09-15T14:12:20.812258Z",
     "iopub.status.busy": "2025-09-15T14:12:20.811834Z",
     "iopub.status.idle": "2025-09-15T14:12:20.821993Z",
     "shell.execute_reply": "2025-09-15T14:12:20.821155Z"
    },
    "papermill": {
     "duration": 0.017359,
     "end_time": "2025-09-15T14:12:20.823611",
     "exception": false,
     "start_time": "2025-09-15T14:12:20.806252",
     "status": "completed"
    },
    "tags": []
   },
   "outputs": [
    {
     "data": {
      "application/javascript": [
       "parent.postMessage({\"jupyterEvent\": \"custom.exercise_interaction\", \"data\": {\"interactionType\": 2, \"questionType\": 1, \"questionId\": \"2_TextProcessing\", \"learnToolsVersion\": \"0.3.5\", \"valueTowardsCompletion\": 0.0, \"failureMessage\": \"\", \"exceptionClass\": \"\", \"trace\": \"\", \"outcomeType\": 4}}, \"*\")"
      ],
      "text/plain": [
       "<IPython.core.display.Javascript object>"
      ]
     },
     "metadata": {},
     "output_type": "display_data"
    },
    {
     "data": {
      "text/markdown": [
       "<span style=\"color:#3366cc\">Hint:</span> In the tutorial, you did the same operation on a different column."
      ],
      "text/plain": [
       "Hint: In the tutorial, you did the same operation on a different column."
      ]
     },
     "metadata": {},
     "output_type": "display_data"
    },
    {
     "data": {
      "application/javascript": [
       "parent.postMessage({\"jupyterEvent\": \"custom.exercise_interaction\", \"data\": {\"interactionType\": 3, \"questionType\": 1, \"questionId\": \"2_TextProcessing\", \"learnToolsVersion\": \"0.3.5\", \"valueTowardsCompletion\": 0.0, \"failureMessage\": \"\", \"exceptionClass\": \"\", \"trace\": \"\", \"outcomeType\": 4}}, \"*\")"
      ],
      "text/plain": [
       "<IPython.core.display.Javascript object>"
      ]
     },
     "metadata": {},
     "output_type": "display_data"
    },
    {
     "data": {
      "text/markdown": [
       "<span style=\"color:#33cc99\">Solution:</span> \n",
       "```python\n",
       "professors['Graduated from'] = professors['Graduated from'].str.strip()\n",
       "\n",
       "```"
      ],
      "text/plain": [
       "Solution: \n",
       "```python\n",
       "professors['Graduated from'] = professors['Graduated from'].str.strip()\n",
       "\n",
       "```"
      ]
     },
     "metadata": {},
     "output_type": "display_data"
    }
   ],
   "source": [
    "# Lines below will give you a hint or solution code\n",
    "q2.hint()\n",
    "q2.solution()"
   ]
  },
  {
   "cell_type": "markdown",
   "id": "7c91e165",
   "metadata": {
    "papermill": {
     "duration": 0.004744,
     "end_time": "2025-09-15T14:12:20.833523",
     "exception": false,
     "start_time": "2025-09-15T14:12:20.828779",
     "status": "completed"
    },
    "tags": []
   },
   "source": [
    "# 3) Continue working with countries\n",
    "\n",
    "In the tutorial, we focused on cleaning up inconsistencies in the \"Country\" column.  Run the code cell below to view the list of unique values that we ended with."
   ]
  },
  {
   "cell_type": "code",
   "execution_count": 9,
   "id": "83043e18",
   "metadata": {
    "execution": {
     "iopub.execute_input": "2025-09-15T14:12:20.845947Z",
     "iopub.status.busy": "2025-09-15T14:12:20.845415Z",
     "iopub.status.idle": "2025-09-15T14:12:20.851833Z",
     "shell.execute_reply": "2025-09-15T14:12:20.850976Z"
    },
    "papermill": {
     "duration": 0.013582,
     "end_time": "2025-09-15T14:12:20.853168",
     "exception": false,
     "start_time": "2025-09-15T14:12:20.839586",
     "status": "completed"
    },
    "tags": []
   },
   "outputs": [
    {
     "data": {
      "text/plain": [
       "array(['australia', 'austria', 'canada', 'china', 'finland', 'france',\n",
       "       'germany', 'greece', 'hongkong', 'ireland', 'italy', 'japan',\n",
       "       'macau', 'malaysia', 'mauritius', 'netherland', 'new zealand',\n",
       "       'norway', 'pakistan', 'portugal', 'russian federation',\n",
       "       'saudi arabia', 'scotland', 'singapore', 'south korea', 'spain',\n",
       "       'sweden', 'thailand', 'turkey', 'uk', 'urbana', 'usa', 'usofa'],\n",
       "      dtype=object)"
      ]
     },
     "execution_count": 9,
     "metadata": {},
     "output_type": "execute_result"
    }
   ],
   "source": [
    "# get all the unique values in the 'City' column\n",
    "countries = professors['Country'].unique()\n",
    "\n",
    "# sort them alphabetically and then take a closer look\n",
    "countries.sort()\n",
    "countries"
   ]
  },
  {
   "cell_type": "markdown",
   "id": "638c4a44",
   "metadata": {
    "papermill": {
     "duration": 0.004819,
     "end_time": "2025-09-15T14:12:20.863121",
     "exception": false,
     "start_time": "2025-09-15T14:12:20.858302",
     "status": "completed"
    },
    "tags": []
   },
   "source": [
    "Take another look at the \"Country\" column and see if there's any more data cleaning we need to do.\n",
    "\n",
    "It looks like 'usa' and 'usofa' should be the same country.  Correct the \"Country\" column in the dataframe to replace 'usofa' with 'usa'.\n",
    "\n",
    "**Use the most recent version of the DataFrame (with the whitespaces at the beginning and end of cells removed) from question 2.**"
   ]
  },
  {
   "cell_type": "code",
   "execution_count": 10,
   "id": "cb8f2d3d",
   "metadata": {
    "execution": {
     "iopub.execute_input": "2025-09-15T14:12:20.874737Z",
     "iopub.status.busy": "2025-09-15T14:12:20.873992Z",
     "iopub.status.idle": "2025-09-15T14:12:20.885974Z",
     "shell.execute_reply": "2025-09-15T14:12:20.885294Z"
    },
    "papermill": {
     "duration": 0.019296,
     "end_time": "2025-09-15T14:12:20.887427",
     "exception": false,
     "start_time": "2025-09-15T14:12:20.868131",
     "status": "completed"
    },
    "tags": []
   },
   "outputs": [
    {
     "name": "stdout",
     "output_type": "stream",
     "text": [
      "[('usa', 100), ('usofa', 75), ('austria', 60), ('australia', 50), ('spain', 50), ('urbana', 44), ('uk', 40), ('pakistan', 36), ('malaysia', 36), ('portugal', 36)]\n",
      "All done!\n"
     ]
    },
    {
     "data": {
      "application/javascript": [
       "parent.postMessage({\"jupyterEvent\": \"custom.exercise_interaction\", \"data\": {\"outcomeType\": 1, \"valueTowardsCompletion\": 0.3333333333333333, \"interactionType\": 1, \"questionType\": 1, \"questionId\": \"3_WorkingWithCities\", \"learnToolsVersion\": \"0.3.5\", \"failureMessage\": \"\", \"exceptionClass\": \"\", \"trace\": \"\"}}, \"*\")"
      ],
      "text/plain": [
       "<IPython.core.display.Javascript object>"
      ]
     },
     "metadata": {},
     "output_type": "display_data"
    },
    {
     "data": {
      "text/markdown": [
       "<span style=\"color:#33cc33\">Correct</span>"
      ],
      "text/plain": [
       "Correct"
      ]
     },
     "metadata": {},
     "output_type": "display_data"
    }
   ],
   "source": [
    "# TODO: Your code here!\n",
    "print(fuzzywuzzy.process.extract(\"usa\", professors[\"Country\"].unique(), limit=10, scorer=fuzzywuzzy.fuzz.token_sort_ratio))\n",
    "replace_matches_in_column(df=professors, column=\"Country\", string_to_match=\"usa\", min_ratio=70)\n",
    "\n",
    "# Check your answer\n",
    "q3.check()"
   ]
  },
  {
   "cell_type": "code",
   "execution_count": 11,
   "id": "cf881f45",
   "metadata": {
    "execution": {
     "iopub.execute_input": "2025-09-15T14:12:20.899268Z",
     "iopub.status.busy": "2025-09-15T14:12:20.898961Z",
     "iopub.status.idle": "2025-09-15T14:12:20.908148Z",
     "shell.execute_reply": "2025-09-15T14:12:20.907185Z"
    },
    "papermill": {
     "duration": 0.016661,
     "end_time": "2025-09-15T14:12:20.909472",
     "exception": false,
     "start_time": "2025-09-15T14:12:20.892811",
     "status": "completed"
    },
    "tags": []
   },
   "outputs": [
    {
     "data": {
      "application/javascript": [
       "parent.postMessage({\"jupyterEvent\": \"custom.exercise_interaction\", \"data\": {\"interactionType\": 2, \"questionType\": 1, \"questionId\": \"3_WorkingWithCities\", \"learnToolsVersion\": \"0.3.5\", \"valueTowardsCompletion\": 0.0, \"failureMessage\": \"\", \"exceptionClass\": \"\", \"trace\": \"\", \"outcomeType\": 4}}, \"*\")"
      ],
      "text/plain": [
       "<IPython.core.display.Javascript object>"
      ]
     },
     "metadata": {},
     "output_type": "display_data"
    },
    {
     "data": {
      "text/markdown": [
       "<span style=\"color:#3366cc\">Hint:</span> Use the `replace_matches_in_column()` function defined above."
      ],
      "text/plain": [
       "Hint: Use the `replace_matches_in_column()` function defined above."
      ]
     },
     "metadata": {},
     "output_type": "display_data"
    },
    {
     "data": {
      "application/javascript": [
       "parent.postMessage({\"jupyterEvent\": \"custom.exercise_interaction\", \"data\": {\"interactionType\": 3, \"questionType\": 1, \"questionId\": \"3_WorkingWithCities\", \"learnToolsVersion\": \"0.3.5\", \"valueTowardsCompletion\": 0.0, \"failureMessage\": \"\", \"exceptionClass\": \"\", \"trace\": \"\", \"outcomeType\": 4}}, \"*\")"
      ],
      "text/plain": [
       "<IPython.core.display.Javascript object>"
      ]
     },
     "metadata": {},
     "output_type": "display_data"
    },
    {
     "data": {
      "text/markdown": [
       "<span style=\"color:#33cc99\">Solution:</span> \n",
       "```python\n",
       "matches = fuzzywuzzy.process.extract(\"usa\", countries, limit=10, scorer=fuzzywuzzy.fuzz.token_sort_ratio)\n",
       "replace_matches_in_column(df=professors, column='Country', string_to_match=\"usa\", min_ratio=70)\n",
       "\n",
       "```"
      ],
      "text/plain": [
       "Solution: \n",
       "```python\n",
       "matches = fuzzywuzzy.process.extract(\"usa\", countries, limit=10, scorer=fuzzywuzzy.fuzz.token_sort_ratio)\n",
       "replace_matches_in_column(df=professors, column='Country', string_to_match=\"usa\", min_ratio=70)\n",
       "\n",
       "```"
      ]
     },
     "metadata": {},
     "output_type": "display_data"
    }
   ],
   "source": [
    "# Lines below will give you a hint or solution code\n",
    "q3.hint()\n",
    "q3.solution()"
   ]
  },
  {
   "cell_type": "markdown",
   "id": "1eb300f9",
   "metadata": {
    "papermill": {
     "duration": 0.005553,
     "end_time": "2025-09-15T14:12:20.920643",
     "exception": false,
     "start_time": "2025-09-15T14:12:20.915090",
     "status": "completed"
    },
    "tags": []
   },
   "source": [
    "# Congratulations!\n",
    "\n",
    "Congratulations for completing the **Data Cleaning** course on Kaggle Learn!\n",
    "\n",
    "To practice your new skills, you're encouraged to download and investigate some of [Kaggle's Datasets](https://www.kaggle.com/datasets)."
   ]
  },
  {
   "cell_type": "markdown",
   "id": "82ab2ef5",
   "metadata": {
    "papermill": {
     "duration": 0.005282,
     "end_time": "2025-09-15T14:12:20.931459",
     "exception": false,
     "start_time": "2025-09-15T14:12:20.926177",
     "status": "completed"
    },
    "tags": []
   },
   "source": [
    "---\n",
    "\n",
    "\n",
    "\n",
    "\n",
    "*Have questions or comments? Visit the [course discussion forum](https://www.kaggle.com/learn/data-cleaning/discussion) to chat with other learners.*"
   ]
  }
 ],
 "metadata": {
  "kaggle": {
   "accelerator": "none",
   "dataSources": [
    {
     "datasetId": 819513,
     "sourceId": 1402182,
     "sourceType": "datasetVersion"
    }
   ],
   "isGpuEnabled": false,
   "isInternetEnabled": false,
   "language": "python",
   "sourceType": "notebook"
  },
  "kernelspec": {
   "display_name": "Python 3",
   "language": "python",
   "name": "python3"
  },
  "language_info": {
   "codemirror_mode": {
    "name": "ipython",
    "version": 3
   },
   "file_extension": ".py",
   "mimetype": "text/x-python",
   "name": "python",
   "nbconvert_exporter": "python",
   "pygments_lexer": "ipython3",
   "version": "3.11.13"
  },
  "papermill": {
   "default_parameters": {},
   "duration": 7.965873,
   "end_time": "2025-09-15T14:12:21.456148",
   "environment_variables": {},
   "exception": null,
   "input_path": "__notebook__.ipynb",
   "output_path": "__notebook__.ipynb",
   "parameters": {},
   "start_time": "2025-09-15T14:12:13.490275",
   "version": "2.6.0"
  }
 },
 "nbformat": 4,
 "nbformat_minor": 5
}
