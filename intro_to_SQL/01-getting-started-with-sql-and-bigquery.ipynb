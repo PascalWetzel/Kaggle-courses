{
 "cells": [
  {
   "cell_type": "markdown",
   "id": "53e173d4",
   "metadata": {
    "papermill": {
     "duration": 0.004568,
     "end_time": "2025-08-04T12:17:45.991355",
     "exception": false,
     "start_time": "2025-08-04T12:17:45.986787",
     "status": "completed"
    },
    "tags": []
   },
   "source": [
    "**This notebook is an exercise in the [SQL](https://www.kaggle.com/learn/intro-to-sql) course.  You can reference the tutorial at [this link](https://www.kaggle.com/dansbecker/getting-started-with-sql-and-bigquery).**\n",
    "\n",
    "---\n"
   ]
  },
  {
   "cell_type": "markdown",
   "id": "870df182",
   "metadata": {
    "papermill": {
     "duration": 0.003665,
     "end_time": "2025-08-04T12:17:46.000123",
     "exception": false,
     "start_time": "2025-08-04T12:17:45.996458",
     "status": "completed"
    },
    "tags": []
   },
   "source": [
    "# Introduction\n",
    "\n",
    "The first test of your new data exploration skills uses data describing crime in the city of Chicago.\n",
    "\n",
    "Before you get started, run the following cell. It sets up the automated feedback system to review your answers."
   ]
  },
  {
   "cell_type": "code",
   "execution_count": 1,
   "id": "dd84d752",
   "metadata": {
    "execution": {
     "iopub.execute_input": "2025-08-04T12:17:46.010013Z",
     "iopub.status.busy": "2025-08-04T12:17:46.009566Z",
     "iopub.status.idle": "2025-08-04T12:18:09.096262Z",
     "shell.execute_reply": "2025-08-04T12:18:09.095050Z"
    },
    "papermill": {
     "duration": 23.094167,
     "end_time": "2025-08-04T12:18:09.098540",
     "exception": false,
     "start_time": "2025-08-04T12:17:46.004373",
     "status": "completed"
    },
    "tags": []
   },
   "outputs": [
    {
     "name": "stderr",
     "output_type": "stream",
     "text": [
      "/usr/local/lib/python3.11/dist-packages/learntools/sql/ex1.py:64: SyntaxWarning: assertion is always true, perhaps remove parentheses?\n",
      "  assert (type(fields_for_plotting[0] == str), \"The first item in `fields_for_plotting` should be a string.\")\n",
      "/usr/local/lib/python3.11/dist-packages/learntools/sql/ex1.py:65: SyntaxWarning: assertion is always true, perhaps remove parentheses?\n",
      "  assert (type(fields_for_plotting[1] == str), \"The second item in `fields_for_plotting` should be a string.\")\n"
     ]
    },
    {
     "name": "stdout",
     "output_type": "stream",
     "text": [
      "Using Kaggle's public dataset BigQuery integration.\n",
      "Setup Complete\n"
     ]
    }
   ],
   "source": [
    "# Set up feedack system\n",
    "from learntools.core import binder\n",
    "binder.bind(globals())\n",
    "from learntools.sql.ex1 import *\n",
    "print(\"Setup Complete\")"
   ]
  },
  {
   "cell_type": "markdown",
   "id": "3ccb631e",
   "metadata": {
    "papermill": {
     "duration": 0.004202,
     "end_time": "2025-08-04T12:18:09.107509",
     "exception": false,
     "start_time": "2025-08-04T12:18:09.103307",
     "status": "completed"
    },
    "tags": []
   },
   "source": [
    "Use the next code cell to fetch the dataset."
   ]
  },
  {
   "cell_type": "code",
   "execution_count": 2,
   "id": "319e70bf",
   "metadata": {
    "execution": {
     "iopub.execute_input": "2025-08-04T12:18:09.118945Z",
     "iopub.status.busy": "2025-08-04T12:18:09.117593Z",
     "iopub.status.idle": "2025-08-04T12:18:09.339522Z",
     "shell.execute_reply": "2025-08-04T12:18:09.338466Z"
    },
    "papermill": {
     "duration": 0.229679,
     "end_time": "2025-08-04T12:18:09.341324",
     "exception": false,
     "start_time": "2025-08-04T12:18:09.111645",
     "status": "completed"
    },
    "tags": []
   },
   "outputs": [
    {
     "name": "stdout",
     "output_type": "stream",
     "text": [
      "Using Kaggle's public dataset BigQuery integration.\n"
     ]
    }
   ],
   "source": [
    "from google.cloud import bigquery\n",
    "\n",
    "# Create a \"Client\" object\n",
    "client = bigquery.Client()\n",
    "\n",
    "# Construct a reference to the \"chicago_crime\" dataset\n",
    "dataset_ref = client.dataset(\"chicago_crime\", project=\"bigquery-public-data\")\n",
    "\n",
    "# API request - fetch the dataset\n",
    "dataset = client.get_dataset(dataset_ref)"
   ]
  },
  {
   "cell_type": "markdown",
   "id": "d028466d",
   "metadata": {
    "papermill": {
     "duration": 0.00375,
     "end_time": "2025-08-04T12:18:09.349224",
     "exception": false,
     "start_time": "2025-08-04T12:18:09.345474",
     "status": "completed"
    },
    "tags": []
   },
   "source": [
    "# Exercises\n",
    "\n",
    "### 1) Count tables in the dataset\n",
    "\n",
    "How many tables are in the Chicago Crime dataset?"
   ]
  },
  {
   "cell_type": "code",
   "execution_count": 3,
   "id": "cdd19851",
   "metadata": {
    "execution": {
     "iopub.execute_input": "2025-08-04T12:18:09.359625Z",
     "iopub.status.busy": "2025-08-04T12:18:09.359314Z",
     "iopub.status.idle": "2025-08-04T12:18:09.581500Z",
     "shell.execute_reply": "2025-08-04T12:18:09.580518Z"
    },
    "papermill": {
     "duration": 0.229503,
     "end_time": "2025-08-04T12:18:09.583057",
     "exception": false,
     "start_time": "2025-08-04T12:18:09.353554",
     "status": "completed"
    },
    "tags": []
   },
   "outputs": [
    {
     "name": "stdout",
     "output_type": "stream",
     "text": [
      "crime\n"
     ]
    }
   ],
   "source": [
    "# Write the code you need here to figure out the answer\n",
    "tables = list(client.list_tables(dataset))\n",
    "\n",
    "for table in tables:  \n",
    "    print(table.table_id)"
   ]
  },
  {
   "cell_type": "code",
   "execution_count": 4,
   "id": "8700e3ab",
   "metadata": {
    "execution": {
     "iopub.execute_input": "2025-08-04T12:18:09.593937Z",
     "iopub.status.busy": "2025-08-04T12:18:09.593580Z",
     "iopub.status.idle": "2025-08-04T12:18:09.601674Z",
     "shell.execute_reply": "2025-08-04T12:18:09.600710Z"
    },
    "papermill": {
     "duration": 0.016386,
     "end_time": "2025-08-04T12:18:09.603794",
     "exception": false,
     "start_time": "2025-08-04T12:18:09.587408",
     "status": "completed"
    },
    "tags": []
   },
   "outputs": [
    {
     "data": {
      "application/javascript": [
       "parent.postMessage({\"jupyterEvent\": \"custom.exercise_interaction\", \"data\": {\"outcomeType\": 1, \"valueTowardsCompletion\": 0.3333333333333333, \"interactionType\": 1, \"questionType\": 1, \"questionId\": \"1_CountTables\", \"learnToolsVersion\": \"0.3.5\", \"failureMessage\": \"\", \"exceptionClass\": \"\", \"trace\": \"\"}}, \"*\")"
      ],
      "text/plain": [
       "<IPython.core.display.Javascript object>"
      ]
     },
     "metadata": {},
     "output_type": "display_data"
    },
    {
     "data": {
      "text/markdown": [
       "<span style=\"color:#33cc33\">Correct</span>"
      ],
      "text/plain": [
       "Correct"
      ]
     },
     "metadata": {},
     "output_type": "display_data"
    }
   ],
   "source": [
    "num_tables = len(tables)  # Store the answer as num_tables and then run this cell\n",
    "\n",
    "# Check your answer\n",
    "q_1.check()"
   ]
  },
  {
   "cell_type": "markdown",
   "id": "26b5cdf5",
   "metadata": {
    "papermill": {
     "duration": 0.004044,
     "end_time": "2025-08-04T12:18:09.612345",
     "exception": false,
     "start_time": "2025-08-04T12:18:09.608301",
     "status": "completed"
    },
    "tags": []
   },
   "source": [
    "For a hint or the solution, uncomment the appropriate line below."
   ]
  },
  {
   "cell_type": "code",
   "execution_count": 5,
   "id": "7dd6fa2b",
   "metadata": {
    "execution": {
     "iopub.execute_input": "2025-08-04T12:18:09.622190Z",
     "iopub.status.busy": "2025-08-04T12:18:09.621870Z",
     "iopub.status.idle": "2025-08-04T12:18:09.633904Z",
     "shell.execute_reply": "2025-08-04T12:18:09.632773Z"
    },
    "papermill": {
     "duration": 0.019152,
     "end_time": "2025-08-04T12:18:09.635836",
     "exception": false,
     "start_time": "2025-08-04T12:18:09.616684",
     "status": "completed"
    },
    "tags": []
   },
   "outputs": [
    {
     "data": {
      "application/javascript": [
       "parent.postMessage({\"jupyterEvent\": \"custom.exercise_interaction\", \"data\": {\"interactionType\": 2, \"questionType\": 1, \"questionId\": \"1_CountTables\", \"learnToolsVersion\": \"0.3.5\", \"valueTowardsCompletion\": 0.0, \"failureMessage\": \"\", \"exceptionClass\": \"\", \"trace\": \"\", \"outcomeType\": 4}}, \"*\")"
      ],
      "text/plain": [
       "<IPython.core.display.Javascript object>"
      ]
     },
     "metadata": {},
     "output_type": "display_data"
    },
    {
     "data": {
      "text/markdown": [
       "<span style=\"color:#3366cc\">Hint:</span> Use the `list_tables()` method to get a list of the tables in the dataset."
      ],
      "text/plain": [
       "Hint: Use the `list_tables()` method to get a list of the tables in the dataset."
      ]
     },
     "metadata": {},
     "output_type": "display_data"
    },
    {
     "data": {
      "application/javascript": [
       "parent.postMessage({\"jupyterEvent\": \"custom.exercise_interaction\", \"data\": {\"interactionType\": 3, \"questionType\": 1, \"questionId\": \"1_CountTables\", \"learnToolsVersion\": \"0.3.5\", \"valueTowardsCompletion\": 0.0, \"failureMessage\": \"\", \"exceptionClass\": \"\", \"trace\": \"\", \"outcomeType\": 4}}, \"*\")"
      ],
      "text/plain": [
       "<IPython.core.display.Javascript object>"
      ]
     },
     "metadata": {},
     "output_type": "display_data"
    },
    {
     "data": {
      "text/markdown": [
       "<span style=\"color:#33cc99\">Solution:</span> \n",
       "```python\n",
       "\n",
       "# List all the tables in the \"chicago_crime\" dataset\n",
       "tables = list(client.list_tables(dataset))\n",
       "\n",
       "# Print number of tables in the dataset\n",
       "print(len(tables))\n",
       "\n",
       "num_tables = 1\n",
       "\n",
       "```"
      ],
      "text/plain": [
       "Solution: \n",
       "```python\n",
       "\n",
       "# List all the tables in the \"chicago_crime\" dataset\n",
       "tables = list(client.list_tables(dataset))\n",
       "\n",
       "# Print number of tables in the dataset\n",
       "print(len(tables))\n",
       "\n",
       "num_tables = 1\n",
       "\n",
       "```"
      ]
     },
     "metadata": {},
     "output_type": "display_data"
    }
   ],
   "source": [
    "q_1.hint()\n",
    "q_1.solution()"
   ]
  },
  {
   "cell_type": "markdown",
   "id": "d3a90048",
   "metadata": {
    "papermill": {
     "duration": 0.004621,
     "end_time": "2025-08-04T12:18:09.645250",
     "exception": false,
     "start_time": "2025-08-04T12:18:09.640629",
     "status": "completed"
    },
    "tags": []
   },
   "source": [
    "### 2) Explore the table schema\n",
    "\n",
    "How many columns in the `crime` table have `TIMESTAMP` data?"
   ]
  },
  {
   "cell_type": "code",
   "execution_count": 6,
   "id": "9017a4ed",
   "metadata": {
    "execution": {
     "iopub.execute_input": "2025-08-04T12:18:09.657238Z",
     "iopub.status.busy": "2025-08-04T12:18:09.656948Z",
     "iopub.status.idle": "2025-08-04T12:18:10.012454Z",
     "shell.execute_reply": "2025-08-04T12:18:10.011337Z"
    },
    "papermill": {
     "duration": 0.363772,
     "end_time": "2025-08-04T12:18:10.014374",
     "exception": false,
     "start_time": "2025-08-04T12:18:09.650602",
     "status": "completed"
    },
    "tags": []
   },
   "outputs": [
    {
     "data": {
      "text/plain": [
       "[SchemaField('unique_key', 'INTEGER', 'REQUIRED', None, None, (), None),\n",
       " SchemaField('case_number', 'STRING', 'NULLABLE', None, None, (), None),\n",
       " SchemaField('date', 'TIMESTAMP', 'NULLABLE', None, None, (), None),\n",
       " SchemaField('block', 'STRING', 'NULLABLE', None, None, (), None),\n",
       " SchemaField('iucr', 'STRING', 'NULLABLE', None, None, (), None),\n",
       " SchemaField('primary_type', 'STRING', 'NULLABLE', None, None, (), None),\n",
       " SchemaField('description', 'STRING', 'NULLABLE', None, None, (), None),\n",
       " SchemaField('location_description', 'STRING', 'NULLABLE', None, None, (), None),\n",
       " SchemaField('arrest', 'BOOLEAN', 'NULLABLE', None, None, (), None),\n",
       " SchemaField('domestic', 'BOOLEAN', 'NULLABLE', None, None, (), None),\n",
       " SchemaField('beat', 'INTEGER', 'NULLABLE', None, None, (), None),\n",
       " SchemaField('district', 'INTEGER', 'NULLABLE', None, None, (), None),\n",
       " SchemaField('ward', 'INTEGER', 'NULLABLE', None, None, (), None),\n",
       " SchemaField('community_area', 'INTEGER', 'NULLABLE', None, None, (), None),\n",
       " SchemaField('fbi_code', 'STRING', 'NULLABLE', None, None, (), None),\n",
       " SchemaField('x_coordinate', 'FLOAT', 'NULLABLE', None, None, (), None),\n",
       " SchemaField('y_coordinate', 'FLOAT', 'NULLABLE', None, None, (), None),\n",
       " SchemaField('year', 'INTEGER', 'NULLABLE', None, None, (), None),\n",
       " SchemaField('updated_on', 'TIMESTAMP', 'NULLABLE', None, None, (), None),\n",
       " SchemaField('latitude', 'FLOAT', 'NULLABLE', None, None, (), None),\n",
       " SchemaField('longitude', 'FLOAT', 'NULLABLE', None, None, (), None),\n",
       " SchemaField('location', 'STRING', 'NULLABLE', None, None, (), None)]"
      ]
     },
     "execution_count": 6,
     "metadata": {},
     "output_type": "execute_result"
    }
   ],
   "source": [
    "# Write the code to figure out the answer\n",
    "table_ref = dataset_ref.table(\"crime\")\n",
    "\n",
    "table = client.get_table(table_ref)\n",
    "\n",
    "table.schema"
   ]
  },
  {
   "cell_type": "code",
   "execution_count": 7,
   "id": "8bbf1d7e",
   "metadata": {
    "execution": {
     "iopub.execute_input": "2025-08-04T12:18:10.026154Z",
     "iopub.status.busy": "2025-08-04T12:18:10.025828Z",
     "iopub.status.idle": "2025-08-04T12:18:10.033452Z",
     "shell.execute_reply": "2025-08-04T12:18:10.032287Z"
    },
    "papermill": {
     "duration": 0.015707,
     "end_time": "2025-08-04T12:18:10.035567",
     "exception": false,
     "start_time": "2025-08-04T12:18:10.019860",
     "status": "completed"
    },
    "tags": []
   },
   "outputs": [
    {
     "data": {
      "application/javascript": [
       "parent.postMessage({\"jupyterEvent\": \"custom.exercise_interaction\", \"data\": {\"outcomeType\": 1, \"valueTowardsCompletion\": 0.3333333333333333, \"interactionType\": 1, \"questionType\": 1, \"questionId\": \"2_CountTimestampFields\", \"learnToolsVersion\": \"0.3.5\", \"failureMessage\": \"\", \"exceptionClass\": \"\", \"trace\": \"\"}}, \"*\")"
      ],
      "text/plain": [
       "<IPython.core.display.Javascript object>"
      ]
     },
     "metadata": {},
     "output_type": "display_data"
    },
    {
     "data": {
      "text/markdown": [
       "<span style=\"color:#33cc33\">Correct</span>"
      ],
      "text/plain": [
       "Correct"
      ]
     },
     "metadata": {},
     "output_type": "display_data"
    }
   ],
   "source": [
    "num_timestamp_fields = 2 # Put your answer here\n",
    "\n",
    "# Check your answer\n",
    "q_2.check()"
   ]
  },
  {
   "cell_type": "markdown",
   "id": "f74d9c17",
   "metadata": {
    "papermill": {
     "duration": 0.004685,
     "end_time": "2025-08-04T12:18:10.045776",
     "exception": false,
     "start_time": "2025-08-04T12:18:10.041091",
     "status": "completed"
    },
    "tags": []
   },
   "source": [
    "For a hint or the solution, uncomment the appropriate line below."
   ]
  },
  {
   "cell_type": "code",
   "execution_count": 8,
   "id": "e632b3a2",
   "metadata": {
    "execution": {
     "iopub.execute_input": "2025-08-04T12:18:10.058196Z",
     "iopub.status.busy": "2025-08-04T12:18:10.057877Z",
     "iopub.status.idle": "2025-08-04T12:18:10.069135Z",
     "shell.execute_reply": "2025-08-04T12:18:10.067440Z"
    },
    "papermill": {
     "duration": 0.02024,
     "end_time": "2025-08-04T12:18:10.071251",
     "exception": false,
     "start_time": "2025-08-04T12:18:10.051011",
     "status": "completed"
    },
    "tags": []
   },
   "outputs": [
    {
     "data": {
      "application/javascript": [
       "parent.postMessage({\"jupyterEvent\": \"custom.exercise_interaction\", \"data\": {\"interactionType\": 2, \"questionType\": 1, \"questionId\": \"2_CountTimestampFields\", \"learnToolsVersion\": \"0.3.5\", \"valueTowardsCompletion\": 0.0, \"failureMessage\": \"\", \"exceptionClass\": \"\", \"trace\": \"\", \"outcomeType\": 4}}, \"*\")"
      ],
      "text/plain": [
       "<IPython.core.display.Javascript object>"
      ]
     },
     "metadata": {},
     "output_type": "display_data"
    },
    {
     "data": {
      "text/markdown": [
       "<span style=\"color:#3366cc\">Hint:</span> Begin by fetching the `crime` table. Then take a look at the table schema, and check the field type of each column.  How many times does `'TIMESTAMP'` appear?"
      ],
      "text/plain": [
       "Hint: Begin by fetching the `crime` table. Then take a look at the table schema, and check the field type of each column.  How many times does `'TIMESTAMP'` appear?"
      ]
     },
     "metadata": {},
     "output_type": "display_data"
    },
    {
     "data": {
      "application/javascript": [
       "parent.postMessage({\"jupyterEvent\": \"custom.exercise_interaction\", \"data\": {\"interactionType\": 3, \"questionType\": 1, \"questionId\": \"2_CountTimestampFields\", \"learnToolsVersion\": \"0.3.5\", \"valueTowardsCompletion\": 0.0, \"failureMessage\": \"\", \"exceptionClass\": \"\", \"trace\": \"\", \"outcomeType\": 4}}, \"*\")"
      ],
      "text/plain": [
       "<IPython.core.display.Javascript object>"
      ]
     },
     "metadata": {},
     "output_type": "display_data"
    },
    {
     "data": {
      "text/markdown": [
       "<span style=\"color:#33cc99\">Solution:</span> \n",
       "```python\n",
       "\n",
       "# Construct a reference to the \"crime\" table\n",
       "table_ref = dataset_ref.table(\"crime\")\n",
       "\n",
       "# API request - fetch the table\n",
       "table = client.get_table(table_ref)\n",
       "\n",
       "# Print information on all the columns in the \"crime\" table in the \"chicago_crime\" dataset\n",
       "print(table.schema)\n",
       "\n",
       "num_timestamp_fields = 2\n",
       "\n",
       "```"
      ],
      "text/plain": [
       "Solution: \n",
       "```python\n",
       "\n",
       "# Construct a reference to the \"crime\" table\n",
       "table_ref = dataset_ref.table(\"crime\")\n",
       "\n",
       "# API request - fetch the table\n",
       "table = client.get_table(table_ref)\n",
       "\n",
       "# Print information on all the columns in the \"crime\" table in the \"chicago_crime\" dataset\n",
       "print(table.schema)\n",
       "\n",
       "num_timestamp_fields = 2\n",
       "\n",
       "```"
      ]
     },
     "metadata": {},
     "output_type": "display_data"
    }
   ],
   "source": [
    "q_2.hint()\n",
    "q_2.solution()"
   ]
  },
  {
   "cell_type": "markdown",
   "id": "fabb593d",
   "metadata": {
    "papermill": {
     "duration": 0.005131,
     "end_time": "2025-08-04T12:18:10.083142",
     "exception": false,
     "start_time": "2025-08-04T12:18:10.078011",
     "status": "completed"
    },
    "tags": []
   },
   "source": [
    "### 3) Create a crime map\n",
    "\n",
    "If you wanted to create a map with a dot at the location of each crime, what are the names of the two fields you likely need to pull out of the `crime` table to plot the crimes on a map?"
   ]
  },
  {
   "cell_type": "code",
   "execution_count": 9,
   "id": "18987c5a",
   "metadata": {
    "execution": {
     "iopub.execute_input": "2025-08-04T12:18:10.096116Z",
     "iopub.status.busy": "2025-08-04T12:18:10.095785Z",
     "iopub.status.idle": "2025-08-04T12:18:10.589969Z",
     "shell.execute_reply": "2025-08-04T12:18:10.588505Z"
    },
    "papermill": {
     "duration": 0.503505,
     "end_time": "2025-08-04T12:18:10.591864",
     "exception": false,
     "start_time": "2025-08-04T12:18:10.088359",
     "status": "completed"
    },
    "tags": []
   },
   "outputs": [
    {
     "data": {
      "text/html": [
       "<div>\n",
       "<style scoped>\n",
       "    .dataframe tbody tr th:only-of-type {\n",
       "        vertical-align: middle;\n",
       "    }\n",
       "\n",
       "    .dataframe tbody tr th {\n",
       "        vertical-align: top;\n",
       "    }\n",
       "\n",
       "    .dataframe thead th {\n",
       "        text-align: right;\n",
       "    }\n",
       "</style>\n",
       "<table border=\"1\" class=\"dataframe\">\n",
       "  <thead>\n",
       "    <tr style=\"text-align: right;\">\n",
       "      <th></th>\n",
       "      <th>unique_key</th>\n",
       "      <th>case_number</th>\n",
       "      <th>date</th>\n",
       "      <th>block</th>\n",
       "      <th>iucr</th>\n",
       "      <th>primary_type</th>\n",
       "      <th>description</th>\n",
       "      <th>location_description</th>\n",
       "      <th>arrest</th>\n",
       "      <th>domestic</th>\n",
       "      <th>...</th>\n",
       "      <th>ward</th>\n",
       "      <th>community_area</th>\n",
       "      <th>fbi_code</th>\n",
       "      <th>x_coordinate</th>\n",
       "      <th>y_coordinate</th>\n",
       "      <th>year</th>\n",
       "      <th>updated_on</th>\n",
       "      <th>latitude</th>\n",
       "      <th>longitude</th>\n",
       "      <th>location</th>\n",
       "    </tr>\n",
       "  </thead>\n",
       "  <tbody>\n",
       "    <tr>\n",
       "      <th>0</th>\n",
       "      <td>11060331</td>\n",
       "      <td>JA397659</td>\n",
       "      <td>2017-08-13 12:27:00+00:00</td>\n",
       "      <td>0000X W RANDOLPH ST</td>\n",
       "      <td>0281</td>\n",
       "      <td>CRIM SEXUAL ASSAULT</td>\n",
       "      <td>NON-AGGRAVATED</td>\n",
       "      <td>HOTEL/MOTEL</td>\n",
       "      <td>False</td>\n",
       "      <td>False</td>\n",
       "      <td>...</td>\n",
       "      <td>42</td>\n",
       "      <td>32</td>\n",
       "      <td>02</td>\n",
       "      <td>1176068.0</td>\n",
       "      <td>1901284.0</td>\n",
       "      <td>2017</td>\n",
       "      <td>2018-02-10 15:50:01+00:00</td>\n",
       "      <td>41.884486</td>\n",
       "      <td>-87.628909</td>\n",
       "      <td>(41.884486217, -87.628908795)</td>\n",
       "    </tr>\n",
       "    <tr>\n",
       "      <th>1</th>\n",
       "      <td>7263938</td>\n",
       "      <td>HR678180</td>\n",
       "      <td>2009-12-06 03:00:00+00:00</td>\n",
       "      <td>006XX W WASHINGTON BLVD</td>\n",
       "      <td>0313</td>\n",
       "      <td>ROBBERY</td>\n",
       "      <td>ARMED: OTHER DANGEROUS WEAPON</td>\n",
       "      <td>PARKING LOT/GARAGE(NON.RESID.)</td>\n",
       "      <td>False</td>\n",
       "      <td>False</td>\n",
       "      <td>...</td>\n",
       "      <td>27</td>\n",
       "      <td>28</td>\n",
       "      <td>03</td>\n",
       "      <td>1171769.0</td>\n",
       "      <td>1900767.0</td>\n",
       "      <td>2009</td>\n",
       "      <td>2018-02-28 15:56:25+00:00</td>\n",
       "      <td>41.883163</td>\n",
       "      <td>-87.644710</td>\n",
       "      <td>(41.883163285, -87.644710386)</td>\n",
       "    </tr>\n",
       "    <tr>\n",
       "      <th>2</th>\n",
       "      <td>2431199</td>\n",
       "      <td>HH749112</td>\n",
       "      <td>2002-10-30 21:59:19+00:00</td>\n",
       "      <td>005XX W MADISON ST</td>\n",
       "      <td>031A</td>\n",
       "      <td>ROBBERY</td>\n",
       "      <td>ARMED: HANDGUN</td>\n",
       "      <td>SIDEWALK</td>\n",
       "      <td>False</td>\n",
       "      <td>False</td>\n",
       "      <td>...</td>\n",
       "      <td>42</td>\n",
       "      <td>28</td>\n",
       "      <td>03</td>\n",
       "      <td>1173039.0</td>\n",
       "      <td>1900311.0</td>\n",
       "      <td>2002</td>\n",
       "      <td>2018-02-28 15:56:25+00:00</td>\n",
       "      <td>41.881884</td>\n",
       "      <td>-87.640060</td>\n",
       "      <td>(41.881883933, -87.640060441)</td>\n",
       "    </tr>\n",
       "    <tr>\n",
       "      <th>3</th>\n",
       "      <td>13141030</td>\n",
       "      <td>JG340094</td>\n",
       "      <td>2023-07-13 22:00:00+00:00</td>\n",
       "      <td>002XX N STATE ST</td>\n",
       "      <td>0320</td>\n",
       "      <td>ROBBERY</td>\n",
       "      <td>STRONG ARM - NO WEAPON</td>\n",
       "      <td>CTA PLATFORM</td>\n",
       "      <td>False</td>\n",
       "      <td>False</td>\n",
       "      <td>...</td>\n",
       "      <td>42</td>\n",
       "      <td>32</td>\n",
       "      <td>03</td>\n",
       "      <td>1176327.0</td>\n",
       "      <td>1901797.0</td>\n",
       "      <td>2023</td>\n",
       "      <td>2023-08-19 15:40:26+00:00</td>\n",
       "      <td>41.885888</td>\n",
       "      <td>-87.627942</td>\n",
       "      <td>(41.885888079, -87.627942238)</td>\n",
       "    </tr>\n",
       "    <tr>\n",
       "      <th>4</th>\n",
       "      <td>2314598</td>\n",
       "      <td>HH602912</td>\n",
       "      <td>2002-08-24 22:45:00+00:00</td>\n",
       "      <td>003XX W WASHINGTON ST</td>\n",
       "      <td>0320</td>\n",
       "      <td>ROBBERY</td>\n",
       "      <td>STRONGARM - NO WEAPON</td>\n",
       "      <td>STREET</td>\n",
       "      <td>False</td>\n",
       "      <td>False</td>\n",
       "      <td>...</td>\n",
       "      <td>42</td>\n",
       "      <td>32</td>\n",
       "      <td>03</td>\n",
       "      <td>1174205.0</td>\n",
       "      <td>1900802.0</td>\n",
       "      <td>2002</td>\n",
       "      <td>2018-02-28 15:56:25+00:00</td>\n",
       "      <td>41.883205</td>\n",
       "      <td>-87.635764</td>\n",
       "      <td>(41.88320534, -87.635764295)</td>\n",
       "    </tr>\n",
       "  </tbody>\n",
       "</table>\n",
       "<p>5 rows × 22 columns</p>\n",
       "</div>"
      ],
      "text/plain": [
       "   unique_key case_number                      date                    block  \\\n",
       "0    11060331    JA397659 2017-08-13 12:27:00+00:00      0000X W RANDOLPH ST   \n",
       "1     7263938    HR678180 2009-12-06 03:00:00+00:00  006XX W WASHINGTON BLVD   \n",
       "2     2431199    HH749112 2002-10-30 21:59:19+00:00       005XX W MADISON ST   \n",
       "3    13141030    JG340094 2023-07-13 22:00:00+00:00         002XX N STATE ST   \n",
       "4     2314598    HH602912 2002-08-24 22:45:00+00:00    003XX W WASHINGTON ST   \n",
       "\n",
       "   iucr         primary_type                    description  \\\n",
       "0  0281  CRIM SEXUAL ASSAULT                 NON-AGGRAVATED   \n",
       "1  0313              ROBBERY  ARMED: OTHER DANGEROUS WEAPON   \n",
       "2  031A              ROBBERY                 ARMED: HANDGUN   \n",
       "3  0320              ROBBERY         STRONG ARM - NO WEAPON   \n",
       "4  0320              ROBBERY          STRONGARM - NO WEAPON   \n",
       "\n",
       "             location_description  arrest  domestic  ...  ward  \\\n",
       "0                     HOTEL/MOTEL   False     False  ...    42   \n",
       "1  PARKING LOT/GARAGE(NON.RESID.)   False     False  ...    27   \n",
       "2                        SIDEWALK   False     False  ...    42   \n",
       "3                    CTA PLATFORM   False     False  ...    42   \n",
       "4                          STREET   False     False  ...    42   \n",
       "\n",
       "   community_area  fbi_code  x_coordinate y_coordinate  year  \\\n",
       "0              32        02     1176068.0    1901284.0  2017   \n",
       "1              28        03     1171769.0    1900767.0  2009   \n",
       "2              28        03     1173039.0    1900311.0  2002   \n",
       "3              32        03     1176327.0    1901797.0  2023   \n",
       "4              32        03     1174205.0    1900802.0  2002   \n",
       "\n",
       "                 updated_on   latitude  longitude  \\\n",
       "0 2018-02-10 15:50:01+00:00  41.884486 -87.628909   \n",
       "1 2018-02-28 15:56:25+00:00  41.883163 -87.644710   \n",
       "2 2018-02-28 15:56:25+00:00  41.881884 -87.640060   \n",
       "3 2023-08-19 15:40:26+00:00  41.885888 -87.627942   \n",
       "4 2018-02-28 15:56:25+00:00  41.883205 -87.635764   \n",
       "\n",
       "                        location  \n",
       "0  (41.884486217, -87.628908795)  \n",
       "1  (41.883163285, -87.644710386)  \n",
       "2  (41.881883933, -87.640060441)  \n",
       "3  (41.885888079, -87.627942238)  \n",
       "4   (41.88320534, -87.635764295)  \n",
       "\n",
       "[5 rows x 22 columns]"
      ]
     },
     "execution_count": 9,
     "metadata": {},
     "output_type": "execute_result"
    }
   ],
   "source": [
    "# Write the code here to explore the data so you can find the answer\n",
    "client.list_rows(table, max_results=5).to_dataframe()"
   ]
  },
  {
   "cell_type": "code",
   "execution_count": 10,
   "id": "5b7f647f",
   "metadata": {
    "execution": {
     "iopub.execute_input": "2025-08-04T12:18:10.604863Z",
     "iopub.status.busy": "2025-08-04T12:18:10.604501Z",
     "iopub.status.idle": "2025-08-04T12:18:10.613309Z",
     "shell.execute_reply": "2025-08-04T12:18:10.612144Z"
    },
    "papermill": {
     "duration": 0.017217,
     "end_time": "2025-08-04T12:18:10.615089",
     "exception": false,
     "start_time": "2025-08-04T12:18:10.597872",
     "status": "completed"
    },
    "tags": []
   },
   "outputs": [
    {
     "data": {
      "application/javascript": [
       "parent.postMessage({\"jupyterEvent\": \"custom.exercise_interaction\", \"data\": {\"outcomeType\": 1, \"valueTowardsCompletion\": 0.3333333333333333, \"interactionType\": 1, \"questionType\": 2, \"questionId\": \"3_IdentifyFieldsForPlotting\", \"learnToolsVersion\": \"0.3.5\", \"failureMessage\": \"\", \"exceptionClass\": \"\", \"trace\": \"\"}}, \"*\")"
      ],
      "text/plain": [
       "<IPython.core.display.Javascript object>"
      ]
     },
     "metadata": {},
     "output_type": "display_data"
    },
    {
     "data": {
      "text/markdown": [
       "<span style=\"color:#33cc33\">Correct</span>"
      ],
      "text/plain": [
       "Correct"
      ]
     },
     "metadata": {},
     "output_type": "display_data"
    }
   ],
   "source": [
    "fields_for_plotting = [\"latitude\", \"longitude\"] # Put your answers here\n",
    "\n",
    "# Check your answer\n",
    "q_3.check()"
   ]
  },
  {
   "cell_type": "markdown",
   "id": "d699cd7b",
   "metadata": {
    "papermill": {
     "duration": 0.005524,
     "end_time": "2025-08-04T12:18:10.626649",
     "exception": false,
     "start_time": "2025-08-04T12:18:10.621125",
     "status": "completed"
    },
    "tags": []
   },
   "source": [
    "For a hint or the solution, uncomment the appropriate line below."
   ]
  },
  {
   "cell_type": "code",
   "execution_count": 11,
   "id": "2cd761fe",
   "metadata": {
    "execution": {
     "iopub.execute_input": "2025-08-04T12:18:10.639470Z",
     "iopub.status.busy": "2025-08-04T12:18:10.639147Z",
     "iopub.status.idle": "2025-08-04T12:18:10.650753Z",
     "shell.execute_reply": "2025-08-04T12:18:10.649541Z"
    },
    "papermill": {
     "duration": 0.020094,
     "end_time": "2025-08-04T12:18:10.652447",
     "exception": false,
     "start_time": "2025-08-04T12:18:10.632353",
     "status": "completed"
    },
    "tags": []
   },
   "outputs": [
    {
     "data": {
      "application/javascript": [
       "parent.postMessage({\"jupyterEvent\": \"custom.exercise_interaction\", \"data\": {\"interactionType\": 2, \"questionType\": 2, \"questionId\": \"3_IdentifyFieldsForPlotting\", \"learnToolsVersion\": \"0.3.5\", \"valueTowardsCompletion\": 0.0, \"failureMessage\": \"\", \"exceptionClass\": \"\", \"trace\": \"\", \"outcomeType\": 4}}, \"*\")"
      ],
      "text/plain": [
       "<IPython.core.display.Javascript object>"
      ]
     },
     "metadata": {},
     "output_type": "display_data"
    },
    {
     "data": {
      "text/markdown": [
       "<span style=\"color:#3366cc\">Hint:</span> Look at the table schema.  There are a couple options, but two of the fields are things commonly used to plot on maps. Both are `'FLOAT'` types. Use quotes around the field names in your answer."
      ],
      "text/plain": [
       "Hint: Look at the table schema.  There are a couple options, but two of the fields are things commonly used to plot on maps. Both are `'FLOAT'` types. Use quotes around the field names in your answer."
      ]
     },
     "metadata": {},
     "output_type": "display_data"
    },
    {
     "data": {
      "application/javascript": [
       "parent.postMessage({\"jupyterEvent\": \"custom.exercise_interaction\", \"data\": {\"interactionType\": 3, \"questionType\": 2, \"questionId\": \"3_IdentifyFieldsForPlotting\", \"learnToolsVersion\": \"0.3.5\", \"valueTowardsCompletion\": 0.0, \"failureMessage\": \"\", \"exceptionClass\": \"\", \"trace\": \"\", \"outcomeType\": 4}}, \"*\")"
      ],
      "text/plain": [
       "<IPython.core.display.Javascript object>"
      ]
     },
     "metadata": {},
     "output_type": "display_data"
    },
    {
     "data": {
      "text/markdown": [
       "<span style=\"color:#33cc99\">Solution:</span> \n",
       "```python\n",
       "fields_for_plotting = ['latitude', 'longitude']\n",
       "```"
      ],
      "text/plain": [
       "Solution: \n",
       "```python\n",
       "fields_for_plotting = ['latitude', 'longitude']\n",
       "```"
      ]
     },
     "metadata": {},
     "output_type": "display_data"
    }
   ],
   "source": [
    "q_3.hint()\n",
    "q_3.solution()"
   ]
  },
  {
   "cell_type": "markdown",
   "id": "8aa28d43",
   "metadata": {
    "papermill": {
     "duration": 0.005929,
     "end_time": "2025-08-04T12:18:10.665980",
     "exception": false,
     "start_time": "2025-08-04T12:18:10.660051",
     "status": "completed"
    },
    "tags": []
   },
   "source": [
    "Thinking about the question above, there are a few columns that appear to have geographic data. Look at a few values (with the `list_rows()` command) to see if you can determine their relationship.  Two columns will still be hard to interpret. But it should be obvious how the `location` column relates to `latitude` and `longitude`."
   ]
  },
  {
   "cell_type": "code",
   "execution_count": 12,
   "id": "43dc2095",
   "metadata": {
    "execution": {
     "iopub.execute_input": "2025-08-04T12:18:10.680599Z",
     "iopub.status.busy": "2025-08-04T12:18:10.680277Z",
     "iopub.status.idle": "2025-08-04T12:18:10.976072Z",
     "shell.execute_reply": "2025-08-04T12:18:10.975117Z"
    },
    "papermill": {
     "duration": 0.305351,
     "end_time": "2025-08-04T12:18:10.977608",
     "exception": false,
     "start_time": "2025-08-04T12:18:10.672257",
     "status": "completed"
    },
    "tags": []
   },
   "outputs": [
    {
     "data": {
      "text/html": [
       "<div>\n",
       "<style scoped>\n",
       "    .dataframe tbody tr th:only-of-type {\n",
       "        vertical-align: middle;\n",
       "    }\n",
       "\n",
       "    .dataframe tbody tr th {\n",
       "        vertical-align: top;\n",
       "    }\n",
       "\n",
       "    .dataframe thead th {\n",
       "        text-align: right;\n",
       "    }\n",
       "</style>\n",
       "<table border=\"1\" class=\"dataframe\">\n",
       "  <thead>\n",
       "    <tr style=\"text-align: right;\">\n",
       "      <th></th>\n",
       "      <th>unique_key</th>\n",
       "      <th>case_number</th>\n",
       "      <th>date</th>\n",
       "      <th>block</th>\n",
       "      <th>iucr</th>\n",
       "      <th>primary_type</th>\n",
       "      <th>description</th>\n",
       "      <th>location_description</th>\n",
       "      <th>arrest</th>\n",
       "      <th>domestic</th>\n",
       "      <th>...</th>\n",
       "      <th>ward</th>\n",
       "      <th>community_area</th>\n",
       "      <th>fbi_code</th>\n",
       "      <th>x_coordinate</th>\n",
       "      <th>y_coordinate</th>\n",
       "      <th>year</th>\n",
       "      <th>updated_on</th>\n",
       "      <th>latitude</th>\n",
       "      <th>longitude</th>\n",
       "      <th>location</th>\n",
       "    </tr>\n",
       "  </thead>\n",
       "  <tbody>\n",
       "    <tr>\n",
       "      <th>0</th>\n",
       "      <td>11060331</td>\n",
       "      <td>JA397659</td>\n",
       "      <td>2017-08-13 12:27:00+00:00</td>\n",
       "      <td>0000X W RANDOLPH ST</td>\n",
       "      <td>0281</td>\n",
       "      <td>CRIM SEXUAL ASSAULT</td>\n",
       "      <td>NON-AGGRAVATED</td>\n",
       "      <td>HOTEL/MOTEL</td>\n",
       "      <td>False</td>\n",
       "      <td>False</td>\n",
       "      <td>...</td>\n",
       "      <td>42</td>\n",
       "      <td>32</td>\n",
       "      <td>02</td>\n",
       "      <td>1176068.0</td>\n",
       "      <td>1901284.0</td>\n",
       "      <td>2017</td>\n",
       "      <td>2018-02-10 15:50:01+00:00</td>\n",
       "      <td>41.884486</td>\n",
       "      <td>-87.628909</td>\n",
       "      <td>(41.884486217, -87.628908795)</td>\n",
       "    </tr>\n",
       "    <tr>\n",
       "      <th>1</th>\n",
       "      <td>7263938</td>\n",
       "      <td>HR678180</td>\n",
       "      <td>2009-12-06 03:00:00+00:00</td>\n",
       "      <td>006XX W WASHINGTON BLVD</td>\n",
       "      <td>0313</td>\n",
       "      <td>ROBBERY</td>\n",
       "      <td>ARMED: OTHER DANGEROUS WEAPON</td>\n",
       "      <td>PARKING LOT/GARAGE(NON.RESID.)</td>\n",
       "      <td>False</td>\n",
       "      <td>False</td>\n",
       "      <td>...</td>\n",
       "      <td>27</td>\n",
       "      <td>28</td>\n",
       "      <td>03</td>\n",
       "      <td>1171769.0</td>\n",
       "      <td>1900767.0</td>\n",
       "      <td>2009</td>\n",
       "      <td>2018-02-28 15:56:25+00:00</td>\n",
       "      <td>41.883163</td>\n",
       "      <td>-87.644710</td>\n",
       "      <td>(41.883163285, -87.644710386)</td>\n",
       "    </tr>\n",
       "    <tr>\n",
       "      <th>2</th>\n",
       "      <td>2431199</td>\n",
       "      <td>HH749112</td>\n",
       "      <td>2002-10-30 21:59:19+00:00</td>\n",
       "      <td>005XX W MADISON ST</td>\n",
       "      <td>031A</td>\n",
       "      <td>ROBBERY</td>\n",
       "      <td>ARMED: HANDGUN</td>\n",
       "      <td>SIDEWALK</td>\n",
       "      <td>False</td>\n",
       "      <td>False</td>\n",
       "      <td>...</td>\n",
       "      <td>42</td>\n",
       "      <td>28</td>\n",
       "      <td>03</td>\n",
       "      <td>1173039.0</td>\n",
       "      <td>1900311.0</td>\n",
       "      <td>2002</td>\n",
       "      <td>2018-02-28 15:56:25+00:00</td>\n",
       "      <td>41.881884</td>\n",
       "      <td>-87.640060</td>\n",
       "      <td>(41.881883933, -87.640060441)</td>\n",
       "    </tr>\n",
       "    <tr>\n",
       "      <th>3</th>\n",
       "      <td>13141030</td>\n",
       "      <td>JG340094</td>\n",
       "      <td>2023-07-13 22:00:00+00:00</td>\n",
       "      <td>002XX N STATE ST</td>\n",
       "      <td>0320</td>\n",
       "      <td>ROBBERY</td>\n",
       "      <td>STRONG ARM - NO WEAPON</td>\n",
       "      <td>CTA PLATFORM</td>\n",
       "      <td>False</td>\n",
       "      <td>False</td>\n",
       "      <td>...</td>\n",
       "      <td>42</td>\n",
       "      <td>32</td>\n",
       "      <td>03</td>\n",
       "      <td>1176327.0</td>\n",
       "      <td>1901797.0</td>\n",
       "      <td>2023</td>\n",
       "      <td>2023-08-19 15:40:26+00:00</td>\n",
       "      <td>41.885888</td>\n",
       "      <td>-87.627942</td>\n",
       "      <td>(41.885888079, -87.627942238)</td>\n",
       "    </tr>\n",
       "    <tr>\n",
       "      <th>4</th>\n",
       "      <td>2314598</td>\n",
       "      <td>HH602912</td>\n",
       "      <td>2002-08-24 22:45:00+00:00</td>\n",
       "      <td>003XX W WASHINGTON ST</td>\n",
       "      <td>0320</td>\n",
       "      <td>ROBBERY</td>\n",
       "      <td>STRONGARM - NO WEAPON</td>\n",
       "      <td>STREET</td>\n",
       "      <td>False</td>\n",
       "      <td>False</td>\n",
       "      <td>...</td>\n",
       "      <td>42</td>\n",
       "      <td>32</td>\n",
       "      <td>03</td>\n",
       "      <td>1174205.0</td>\n",
       "      <td>1900802.0</td>\n",
       "      <td>2002</td>\n",
       "      <td>2018-02-28 15:56:25+00:00</td>\n",
       "      <td>41.883205</td>\n",
       "      <td>-87.635764</td>\n",
       "      <td>(41.88320534, -87.635764295)</td>\n",
       "    </tr>\n",
       "  </tbody>\n",
       "</table>\n",
       "<p>5 rows × 22 columns</p>\n",
       "</div>"
      ],
      "text/plain": [
       "   unique_key case_number                      date                    block  \\\n",
       "0    11060331    JA397659 2017-08-13 12:27:00+00:00      0000X W RANDOLPH ST   \n",
       "1     7263938    HR678180 2009-12-06 03:00:00+00:00  006XX W WASHINGTON BLVD   \n",
       "2     2431199    HH749112 2002-10-30 21:59:19+00:00       005XX W MADISON ST   \n",
       "3    13141030    JG340094 2023-07-13 22:00:00+00:00         002XX N STATE ST   \n",
       "4     2314598    HH602912 2002-08-24 22:45:00+00:00    003XX W WASHINGTON ST   \n",
       "\n",
       "   iucr         primary_type                    description  \\\n",
       "0  0281  CRIM SEXUAL ASSAULT                 NON-AGGRAVATED   \n",
       "1  0313              ROBBERY  ARMED: OTHER DANGEROUS WEAPON   \n",
       "2  031A              ROBBERY                 ARMED: HANDGUN   \n",
       "3  0320              ROBBERY         STRONG ARM - NO WEAPON   \n",
       "4  0320              ROBBERY          STRONGARM - NO WEAPON   \n",
       "\n",
       "             location_description  arrest  domestic  ...  ward  \\\n",
       "0                     HOTEL/MOTEL   False     False  ...    42   \n",
       "1  PARKING LOT/GARAGE(NON.RESID.)   False     False  ...    27   \n",
       "2                        SIDEWALK   False     False  ...    42   \n",
       "3                    CTA PLATFORM   False     False  ...    42   \n",
       "4                          STREET   False     False  ...    42   \n",
       "\n",
       "   community_area  fbi_code  x_coordinate y_coordinate  year  \\\n",
       "0              32        02     1176068.0    1901284.0  2017   \n",
       "1              28        03     1171769.0    1900767.0  2009   \n",
       "2              28        03     1173039.0    1900311.0  2002   \n",
       "3              32        03     1176327.0    1901797.0  2023   \n",
       "4              32        03     1174205.0    1900802.0  2002   \n",
       "\n",
       "                 updated_on   latitude  longitude  \\\n",
       "0 2018-02-10 15:50:01+00:00  41.884486 -87.628909   \n",
       "1 2018-02-28 15:56:25+00:00  41.883163 -87.644710   \n",
       "2 2018-02-28 15:56:25+00:00  41.881884 -87.640060   \n",
       "3 2023-08-19 15:40:26+00:00  41.885888 -87.627942   \n",
       "4 2018-02-28 15:56:25+00:00  41.883205 -87.635764   \n",
       "\n",
       "                        location  \n",
       "0  (41.884486217, -87.628908795)  \n",
       "1  (41.883163285, -87.644710386)  \n",
       "2  (41.881883933, -87.640060441)  \n",
       "3  (41.885888079, -87.627942238)  \n",
       "4   (41.88320534, -87.635764295)  \n",
       "\n",
       "[5 rows x 22 columns]"
      ]
     },
     "execution_count": 12,
     "metadata": {},
     "output_type": "execute_result"
    }
   ],
   "source": [
    "# Scratch space for your code\n",
    "client.list_rows(table, max_results=5).to_dataframe()"
   ]
  },
  {
   "cell_type": "markdown",
   "id": "0dca2076",
   "metadata": {
    "papermill": {
     "duration": 0.006781,
     "end_time": "2025-08-04T12:18:10.990924",
     "exception": false,
     "start_time": "2025-08-04T12:18:10.984143",
     "status": "completed"
    },
    "tags": []
   },
   "source": [
    "# Keep going\n",
    "\n",
    "You've looked at the schema, but you haven't yet done anything exciting with the data itself. Things get more interesting when you get to the data, so keep going to **[write your first SQL query](https://www.kaggle.com/dansbecker/select-from-where).**"
   ]
  },
  {
   "cell_type": "markdown",
   "id": "8da7428b",
   "metadata": {
    "papermill": {
     "duration": 0.006052,
     "end_time": "2025-08-04T12:18:11.004355",
     "exception": false,
     "start_time": "2025-08-04T12:18:10.998303",
     "status": "completed"
    },
    "tags": []
   },
   "source": [
    "---\n",
    "\n",
    "\n",
    "\n",
    "\n",
    "*Have questions or comments? Visit the [course discussion forum](https://www.kaggle.com/learn/intro-to-sql/discussion) to chat with other learners.*"
   ]
  }
 ],
 "metadata": {
  "kaggle": {
   "accelerator": "none",
   "dataSources": [
    {
     "datasetId": 22090,
     "sourceId": 28376,
     "sourceType": "datasetVersion"
    },
    {
     "datasetId": 6057,
     "sourceId": 285982,
     "sourceType": "datasetVersion"
    }
   ],
   "isGpuEnabled": false,
   "isInternetEnabled": false,
   "language": "python",
   "sourceType": "notebook"
  },
  "kernelspec": {
   "display_name": "Python 3",
   "language": "python",
   "name": "python3"
  },
  "language_info": {
   "codemirror_mode": {
    "name": "ipython",
    "version": 3
   },
   "file_extension": ".py",
   "mimetype": "text/x-python",
   "name": "python",
   "nbconvert_exporter": "python",
   "pygments_lexer": "ipython3",
   "version": "3.11.13"
  },
  "papermill": {
   "default_parameters": {},
   "duration": 33.32684,
   "end_time": "2025-08-04T12:18:13.834324",
   "environment_variables": {},
   "exception": null,
   "input_path": "__notebook__.ipynb",
   "output_path": "__notebook__.ipynb",
   "parameters": {},
   "start_time": "2025-08-04T12:17:40.507484",
   "version": "2.6.0"
  }
 },
 "nbformat": 4,
 "nbformat_minor": 5
}
