{
 "cells": [
  {
   "cell_type": "markdown",
   "id": "ffc88b51",
   "metadata": {
    "papermill": {
     "duration": 0.003613,
     "end_time": "2025-08-06T09:19:15.106665",
     "exception": false,
     "start_time": "2025-08-06T09:19:15.103052",
     "status": "completed"
    },
    "tags": []
   },
   "source": [
    "**This notebook is an exercise in the [SQL](https://www.kaggle.com/learn/intro-to-sql) course.  You can reference the tutorial at [this link](https://www.kaggle.com/dansbecker/group-by-having-count).**\n",
    "\n",
    "---\n"
   ]
  },
  {
   "cell_type": "markdown",
   "id": "012af46d",
   "metadata": {
    "papermill": {
     "duration": 0.003081,
     "end_time": "2025-08-06T09:19:15.113179",
     "exception": false,
     "start_time": "2025-08-06T09:19:15.110098",
     "status": "completed"
    },
    "tags": []
   },
   "source": [
    "# Introduction\n",
    "\n",
    "Queries with **GROUP BY** can be powerful. There are many small things that can trip you up (like the order of the clauses), but it will start to feel natural once you've done it a few times. Here, you'll write queries using **GROUP BY** to answer questions from the Hacker News dataset.\n",
    "\n",
    "Before you get started, run the following cell to set everything up:"
   ]
  },
  {
   "cell_type": "code",
   "execution_count": 1,
   "id": "0117329a",
   "metadata": {
    "execution": {
     "iopub.execute_input": "2025-08-06T09:19:15.120658Z",
     "iopub.status.busy": "2025-08-06T09:19:15.120349Z",
     "iopub.status.idle": "2025-08-06T09:19:38.694259Z",
     "shell.execute_reply": "2025-08-06T09:19:38.692676Z"
    },
    "papermill": {
     "duration": 23.58027,
     "end_time": "2025-08-06T09:19:38.696725",
     "exception": false,
     "start_time": "2025-08-06T09:19:15.116455",
     "status": "completed"
    },
    "tags": []
   },
   "outputs": [
    {
     "name": "stdout",
     "output_type": "stream",
     "text": [
      "Using Kaggle's public dataset BigQuery integration.\n"
     ]
    },
    {
     "name": "stderr",
     "output_type": "stream",
     "text": [
      "/usr/local/lib/python3.11/dist-packages/google/cloud/bigquery/table.py:1727: UserWarning: BigQuery Storage module not found, fetch data with the REST endpoint instead.\n",
      "  warnings.warn(\n"
     ]
    },
    {
     "name": "stdout",
     "output_type": "stream",
     "text": [
      "Setup Complete\n"
     ]
    }
   ],
   "source": [
    "# Set up feedback system\n",
    "from learntools.core import binder\n",
    "binder.bind(globals())\n",
    "from learntools.sql.ex3 import *\n",
    "print(\"Setup Complete\")"
   ]
  },
  {
   "cell_type": "markdown",
   "id": "f0316e57",
   "metadata": {
    "papermill": {
     "duration": 0.003631,
     "end_time": "2025-08-06T09:19:38.704283",
     "exception": false,
     "start_time": "2025-08-06T09:19:38.700652",
     "status": "completed"
    },
    "tags": []
   },
   "source": [
    "The code cell below fetches the `full` table from the `hacker_news` dataset.  We also preview the first five rows of the table."
   ]
  },
  {
   "cell_type": "code",
   "execution_count": 2,
   "id": "ce7d3a40",
   "metadata": {
    "execution": {
     "iopub.execute_input": "2025-08-06T09:19:38.713193Z",
     "iopub.status.busy": "2025-08-06T09:19:38.712658Z",
     "iopub.status.idle": "2025-08-06T09:19:39.951555Z",
     "shell.execute_reply": "2025-08-06T09:19:39.950524Z"
    },
    "papermill": {
     "duration": 1.245337,
     "end_time": "2025-08-06T09:19:39.953269",
     "exception": false,
     "start_time": "2025-08-06T09:19:38.707932",
     "status": "completed"
    },
    "tags": []
   },
   "outputs": [
    {
     "name": "stdout",
     "output_type": "stream",
     "text": [
      "Using Kaggle's public dataset BigQuery integration.\n"
     ]
    },
    {
     "data": {
      "text/html": [
       "<div>\n",
       "<style scoped>\n",
       "    .dataframe tbody tr th:only-of-type {\n",
       "        vertical-align: middle;\n",
       "    }\n",
       "\n",
       "    .dataframe tbody tr th {\n",
       "        vertical-align: top;\n",
       "    }\n",
       "\n",
       "    .dataframe thead th {\n",
       "        text-align: right;\n",
       "    }\n",
       "</style>\n",
       "<table border=\"1\" class=\"dataframe\">\n",
       "  <thead>\n",
       "    <tr style=\"text-align: right;\">\n",
       "      <th></th>\n",
       "      <th>title</th>\n",
       "      <th>url</th>\n",
       "      <th>text</th>\n",
       "      <th>dead</th>\n",
       "      <th>by</th>\n",
       "      <th>score</th>\n",
       "      <th>time</th>\n",
       "      <th>timestamp</th>\n",
       "      <th>type</th>\n",
       "      <th>id</th>\n",
       "      <th>parent</th>\n",
       "      <th>descendants</th>\n",
       "      <th>ranking</th>\n",
       "      <th>deleted</th>\n",
       "    </tr>\n",
       "  </thead>\n",
       "  <tbody>\n",
       "    <tr>\n",
       "      <th>0</th>\n",
       "      <td>None</td>\n",
       "      <td>None</td>\n",
       "      <td>None</td>\n",
       "      <td>&lt;NA&gt;</td>\n",
       "      <td>None</td>\n",
       "      <td>&lt;NA&gt;</td>\n",
       "      <td>1437506084</td>\n",
       "      <td>2015-07-21 19:14:44+00:00</td>\n",
       "      <td>story</td>\n",
       "      <td>9924946</td>\n",
       "      <td>&lt;NA&gt;</td>\n",
       "      <td>&lt;NA&gt;</td>\n",
       "      <td>&lt;NA&gt;</td>\n",
       "      <td>&lt;NA&gt;</td>\n",
       "    </tr>\n",
       "    <tr>\n",
       "      <th>1</th>\n",
       "      <td>None</td>\n",
       "      <td>None</td>\n",
       "      <td>None</td>\n",
       "      <td>&lt;NA&gt;</td>\n",
       "      <td>None</td>\n",
       "      <td>&lt;NA&gt;</td>\n",
       "      <td>1437506637</td>\n",
       "      <td>2015-07-21 19:23:57+00:00</td>\n",
       "      <td>story</td>\n",
       "      <td>9925022</td>\n",
       "      <td>&lt;NA&gt;</td>\n",
       "      <td>&lt;NA&gt;</td>\n",
       "      <td>&lt;NA&gt;</td>\n",
       "      <td>&lt;NA&gt;</td>\n",
       "    </tr>\n",
       "    <tr>\n",
       "      <th>2</th>\n",
       "      <td>None</td>\n",
       "      <td>None</td>\n",
       "      <td>None</td>\n",
       "      <td>&lt;NA&gt;</td>\n",
       "      <td>None</td>\n",
       "      <td>&lt;NA&gt;</td>\n",
       "      <td>1437507230</td>\n",
       "      <td>2015-07-21 19:33:50+00:00</td>\n",
       "      <td>story</td>\n",
       "      <td>9925091</td>\n",
       "      <td>&lt;NA&gt;</td>\n",
       "      <td>&lt;NA&gt;</td>\n",
       "      <td>&lt;NA&gt;</td>\n",
       "      <td>&lt;NA&gt;</td>\n",
       "    </tr>\n",
       "    <tr>\n",
       "      <th>3</th>\n",
       "      <td>None</td>\n",
       "      <td>None</td>\n",
       "      <td>None</td>\n",
       "      <td>&lt;NA&gt;</td>\n",
       "      <td>None</td>\n",
       "      <td>&lt;NA&gt;</td>\n",
       "      <td>&lt;NA&gt;</td>\n",
       "      <td>NaT</td>\n",
       "      <td>story</td>\n",
       "      <td>9925174</td>\n",
       "      <td>&lt;NA&gt;</td>\n",
       "      <td>&lt;NA&gt;</td>\n",
       "      <td>&lt;NA&gt;</td>\n",
       "      <td>&lt;NA&gt;</td>\n",
       "    </tr>\n",
       "    <tr>\n",
       "      <th>4</th>\n",
       "      <td>None</td>\n",
       "      <td>None</td>\n",
       "      <td>None</td>\n",
       "      <td>&lt;NA&gt;</td>\n",
       "      <td>None</td>\n",
       "      <td>&lt;NA&gt;</td>\n",
       "      <td>&lt;NA&gt;</td>\n",
       "      <td>NaT</td>\n",
       "      <td>story</td>\n",
       "      <td>9925179</td>\n",
       "      <td>&lt;NA&gt;</td>\n",
       "      <td>&lt;NA&gt;</td>\n",
       "      <td>&lt;NA&gt;</td>\n",
       "      <td>&lt;NA&gt;</td>\n",
       "    </tr>\n",
       "  </tbody>\n",
       "</table>\n",
       "</div>"
      ],
      "text/plain": [
       "  title   url  text  dead    by  score        time                 timestamp  \\\n",
       "0  None  None  None  <NA>  None   <NA>  1437506084 2015-07-21 19:14:44+00:00   \n",
       "1  None  None  None  <NA>  None   <NA>  1437506637 2015-07-21 19:23:57+00:00   \n",
       "2  None  None  None  <NA>  None   <NA>  1437507230 2015-07-21 19:33:50+00:00   \n",
       "3  None  None  None  <NA>  None   <NA>        <NA>                       NaT   \n",
       "4  None  None  None  <NA>  None   <NA>        <NA>                       NaT   \n",
       "\n",
       "    type       id  parent  descendants  ranking  deleted  \n",
       "0  story  9924946    <NA>         <NA>     <NA>     <NA>  \n",
       "1  story  9925022    <NA>         <NA>     <NA>     <NA>  \n",
       "2  story  9925091    <NA>         <NA>     <NA>     <NA>  \n",
       "3  story  9925174    <NA>         <NA>     <NA>     <NA>  \n",
       "4  story  9925179    <NA>         <NA>     <NA>     <NA>  "
      ]
     },
     "execution_count": 2,
     "metadata": {},
     "output_type": "execute_result"
    }
   ],
   "source": [
    "from google.cloud import bigquery\n",
    "\n",
    "# Create a \"Client\" object\n",
    "client = bigquery.Client()\n",
    "\n",
    "# Construct a reference to the \"hacker_news\" dataset\n",
    "dataset_ref = client.dataset(\"hacker_news\", project=\"bigquery-public-data\")\n",
    "\n",
    "# API request - fetch the dataset\n",
    "dataset = client.get_dataset(dataset_ref)\n",
    "\n",
    "# Construct a reference to the \"full\" table\n",
    "table_ref = dataset_ref.table(\"full\")\n",
    "\n",
    "# API request - fetch the table\n",
    "table = client.get_table(table_ref)\n",
    "\n",
    "# Preview the first five lines of the table\n",
    "client.list_rows(table, max_results=5).to_dataframe()"
   ]
  },
  {
   "cell_type": "markdown",
   "id": "5ded0c1e",
   "metadata": {
    "papermill": {
     "duration": 0.003171,
     "end_time": "2025-08-06T09:19:39.960134",
     "exception": false,
     "start_time": "2025-08-06T09:19:39.956963",
     "status": "completed"
    },
    "tags": []
   },
   "source": [
    "# Exercises\n",
    "\n",
    "### 1) Prolific commenters\n",
    "\n",
    "Hacker News would like to send awards to everyone who has written more than 10,000 posts. Write a query that returns all authors with more than 10,000 posts as well as their post counts. Call the column with post counts `NumPosts`.\n",
    "\n",
    "In case sample query is helpful, here is a query you saw in the tutorial to answer a similar question:\n",
    "```\n",
    "query = \"\"\"\n",
    "        SELECT parent, COUNT(1) AS NumPosts\n",
    "        FROM `bigquery-public-data.hacker_news.full`\n",
    "        GROUP BY parent\n",
    "        HAVING COUNT(1) > 10\n",
    "        \"\"\"\n",
    "```"
   ]
  },
  {
   "cell_type": "code",
   "execution_count": 3,
   "id": "4fcb33dc",
   "metadata": {
    "execution": {
     "iopub.execute_input": "2025-08-06T09:19:39.968572Z",
     "iopub.status.busy": "2025-08-06T09:19:39.968291Z",
     "iopub.status.idle": "2025-08-06T09:19:41.344649Z",
     "shell.execute_reply": "2025-08-06T09:19:41.343755Z"
    },
    "papermill": {
     "duration": 1.3824,
     "end_time": "2025-08-06T09:19:41.346283",
     "exception": false,
     "start_time": "2025-08-06T09:19:39.963883",
     "status": "completed"
    },
    "tags": []
   },
   "outputs": [
    {
     "name": "stderr",
     "output_type": "stream",
     "text": [
      "/usr/local/lib/python3.11/dist-packages/google/cloud/bigquery/table.py:1727: UserWarning: BigQuery Storage module not found, fetch data with the REST endpoint instead.\n",
      "  warnings.warn(\n"
     ]
    },
    {
     "name": "stdout",
     "output_type": "stream",
     "text": [
      "       author  NumPosts\n",
      "0  tokenadult     10995\n",
      "1     Someone     13445\n",
      "2    IshKebab     12010\n",
      "3       ghaff     28801\n",
      "4       pjmlp     67073\n"
     ]
    },
    {
     "data": {
      "application/javascript": [
       "parent.postMessage({\"jupyterEvent\": \"custom.exercise_interaction\", \"data\": {\"outcomeType\": 1, \"valueTowardsCompletion\": 0.5, \"interactionType\": 1, \"questionType\": 2, \"questionId\": \"1_ProlificCommenters\", \"learnToolsVersion\": \"0.3.5\", \"failureMessage\": \"\", \"exceptionClass\": \"\", \"trace\": \"\"}}, \"*\")"
      ],
      "text/plain": [
       "<IPython.core.display.Javascript object>"
      ]
     },
     "metadata": {},
     "output_type": "display_data"
    },
    {
     "data": {
      "text/markdown": [
       "<span style=\"color:#33cc33\">Correct</span>"
      ],
      "text/plain": [
       "Correct"
      ]
     },
     "metadata": {},
     "output_type": "display_data"
    }
   ],
   "source": [
    "# Query to select prolific commenters and post counts\n",
    "prolific_commenters_query = \"\"\"\n",
    "                            SELECT `by` AS author, COUNT(id) AS NumPosts\n",
    "                            FROM `bigquery-public-data.hacker_news.full`\n",
    "                            GROUP BY `by`\n",
    "                            HAVING COUNT(id) > 10000\n",
    "                            \"\"\" # Your code goes here\n",
    "\n",
    "# Set up the query (cancel the query if it would use too much of \n",
    "# your quota, with the limit set to 1 GB)\n",
    "safe_config = bigquery.QueryJobConfig(maximum_bytes_billed=10**10)\n",
    "query_job = client.query(prolific_commenters_query, job_config=safe_config)\n",
    "\n",
    "# API request - run the query, and return a pandas DataFrame\n",
    "prolific_commenters = query_job.to_dataframe()\n",
    "\n",
    "# View top few rows of results\n",
    "print(prolific_commenters.head())\n",
    "\n",
    "# Check your answer\n",
    "q_1.check()"
   ]
  },
  {
   "cell_type": "markdown",
   "id": "8511b9e0",
   "metadata": {
    "papermill": {
     "duration": 0.003414,
     "end_time": "2025-08-06T09:19:41.354019",
     "exception": false,
     "start_time": "2025-08-06T09:19:41.350605",
     "status": "completed"
    },
    "tags": []
   },
   "source": [
    "For the solution, uncomment the line below."
   ]
  },
  {
   "cell_type": "code",
   "execution_count": 4,
   "id": "b27b58e1",
   "metadata": {
    "execution": {
     "iopub.execute_input": "2025-08-06T09:19:41.362667Z",
     "iopub.status.busy": "2025-08-06T09:19:41.362367Z",
     "iopub.status.idle": "2025-08-06T09:19:41.370364Z",
     "shell.execute_reply": "2025-08-06T09:19:41.369274Z"
    },
    "papermill": {
     "duration": 0.014267,
     "end_time": "2025-08-06T09:19:41.371978",
     "exception": false,
     "start_time": "2025-08-06T09:19:41.357711",
     "status": "completed"
    },
    "tags": []
   },
   "outputs": [
    {
     "data": {
      "application/javascript": [
       "parent.postMessage({\"jupyterEvent\": \"custom.exercise_interaction\", \"data\": {\"interactionType\": 3, \"questionType\": 2, \"questionId\": \"1_ProlificCommenters\", \"learnToolsVersion\": \"0.3.5\", \"valueTowardsCompletion\": 0.0, \"failureMessage\": \"\", \"exceptionClass\": \"\", \"trace\": \"\", \"outcomeType\": 4}}, \"*\")"
      ],
      "text/plain": [
       "<IPython.core.display.Javascript object>"
      ]
     },
     "metadata": {},
     "output_type": "display_data"
    },
    {
     "data": {
      "text/markdown": [
       "<span style=\"color:#33cc99\">Solution:</span> \n",
       "```python\n",
       "\n",
       "prolific_commenters_query = \"\"\"\n",
       "                            SELECT `by` AS author, COUNT(1) AS NumPosts\n",
       "                            FROM `bigquery-public-data.hacker_news.full`\n",
       "                            GROUP BY author\n",
       "                            HAVING COUNT(1) > 10000\n",
       "                            \"\"\"\n",
       "\n",
       "```"
      ],
      "text/plain": [
       "Solution: \n",
       "```python\n",
       "\n",
       "prolific_commenters_query = \"\"\"\n",
       "                            SELECT `by` AS author, COUNT(1) AS NumPosts\n",
       "                            FROM `bigquery-public-data.hacker_news.full`\n",
       "                            GROUP BY author\n",
       "                            HAVING COUNT(1) > 10000\n",
       "                            \"\"\"\n",
       "\n",
       "```"
      ]
     },
     "metadata": {},
     "output_type": "display_data"
    }
   ],
   "source": [
    "q_1.solution()"
   ]
  },
  {
   "cell_type": "markdown",
   "id": "efcdd0ff",
   "metadata": {
    "papermill": {
     "duration": 0.003789,
     "end_time": "2025-08-06T09:19:41.380654",
     "exception": false,
     "start_time": "2025-08-06T09:19:41.376865",
     "status": "completed"
    },
    "tags": []
   },
   "source": [
    "### 2) Deleted comments\n",
    "\n",
    "How many comments have been deleted? (If a comment was deleted, the `deleted` column in the table will have the value `True`.)"
   ]
  },
  {
   "cell_type": "code",
   "execution_count": 5,
   "id": "9eb03f89",
   "metadata": {
    "execution": {
     "iopub.execute_input": "2025-08-06T09:19:41.390619Z",
     "iopub.status.busy": "2025-08-06T09:19:41.390281Z",
     "iopub.status.idle": "2025-08-06T09:19:42.769779Z",
     "shell.execute_reply": "2025-08-06T09:19:42.768794Z"
    },
    "papermill": {
     "duration": 1.387116,
     "end_time": "2025-08-06T09:19:42.771727",
     "exception": false,
     "start_time": "2025-08-06T09:19:41.384611",
     "status": "completed"
    },
    "tags": []
   },
   "outputs": [
    {
     "name": "stderr",
     "output_type": "stream",
     "text": [
      "/usr/local/lib/python3.11/dist-packages/google/cloud/bigquery/table.py:1727: UserWarning: BigQuery Storage module not found, fetch data with the REST endpoint instead.\n",
      "  warnings.warn(\n"
     ]
    },
    {
     "name": "stdout",
     "output_type": "stream",
     "text": [
      "   num_deleted_posts\n",
      "0                  0\n"
     ]
    }
   ],
   "source": [
    "# Write your query here and figure out the answer\n",
    "\n",
    "delete_query = \"\"\"\n",
    "               SELECT COUNT(1) AS num_deleted_posts\n",
    "               FROM `bigquery-public-data.hacker_news.full`\n",
    "               WHERE deleted = True\n",
    "               \"\"\" # Your code goes here\n",
    "\n",
    "# Set up the query (cancel the query if it would use too much of \n",
    "# your quota, with the limit set to 1 GB)\n",
    "safe_config = bigquery.QueryJobConfig(maximum_bytes_billed=10**10)\n",
    "query_job = client.query(delete_query, job_config=safe_config)\n",
    "\n",
    "# API request - run the query, and return a pandas DataFrame\n",
    "delete_comments = query_job.to_dataframe()\n",
    "\n",
    "# View results\n",
    "print(delete_comments)"
   ]
  },
  {
   "cell_type": "code",
   "execution_count": 6,
   "id": "5766c9b4",
   "metadata": {
    "execution": {
     "iopub.execute_input": "2025-08-06T09:19:42.782159Z",
     "iopub.status.busy": "2025-08-06T09:19:42.781863Z",
     "iopub.status.idle": "2025-08-06T09:19:42.789495Z",
     "shell.execute_reply": "2025-08-06T09:19:42.788778Z"
    },
    "papermill": {
     "duration": 0.013998,
     "end_time": "2025-08-06T09:19:42.790878",
     "exception": false,
     "start_time": "2025-08-06T09:19:42.776880",
     "status": "completed"
    },
    "tags": []
   },
   "outputs": [
    {
     "data": {
      "application/javascript": [
       "parent.postMessage({\"jupyterEvent\": \"custom.exercise_interaction\", \"data\": {\"outcomeType\": 1, \"valueTowardsCompletion\": 0.5, \"interactionType\": 1, \"questionType\": 1, \"questionId\": \"2_NumDeletedPosts\", \"learnToolsVersion\": \"0.3.5\", \"failureMessage\": \"\", \"exceptionClass\": \"\", \"trace\": \"\"}}, \"*\")"
      ],
      "text/plain": [
       "<IPython.core.display.Javascript object>"
      ]
     },
     "metadata": {},
     "output_type": "display_data"
    },
    {
     "data": {
      "text/markdown": [
       "<span style=\"color:#33cc33\">Correct</span>"
      ],
      "text/plain": [
       "Correct"
      ]
     },
     "metadata": {},
     "output_type": "display_data"
    }
   ],
   "source": [
    "num_deleted_posts = 0 # Put your answer here\n",
    "\n",
    "# Check your answer\n",
    "q_2.check()"
   ]
  },
  {
   "cell_type": "markdown",
   "id": "67f00eec",
   "metadata": {
    "papermill": {
     "duration": 0.00385,
     "end_time": "2025-08-06T09:19:42.799010",
     "exception": false,
     "start_time": "2025-08-06T09:19:42.795160",
     "status": "completed"
    },
    "tags": []
   },
   "source": [
    "For the solution, uncomment the line below."
   ]
  },
  {
   "cell_type": "code",
   "execution_count": 7,
   "id": "431209ea",
   "metadata": {
    "execution": {
     "iopub.execute_input": "2025-08-06T09:19:42.808578Z",
     "iopub.status.busy": "2025-08-06T09:19:42.808254Z",
     "iopub.status.idle": "2025-08-06T09:19:42.815262Z",
     "shell.execute_reply": "2025-08-06T09:19:42.814423Z"
    },
    "papermill": {
     "duration": 0.013576,
     "end_time": "2025-08-06T09:19:42.816799",
     "exception": false,
     "start_time": "2025-08-06T09:19:42.803223",
     "status": "completed"
    },
    "tags": []
   },
   "outputs": [
    {
     "data": {
      "application/javascript": [
       "parent.postMessage({\"jupyterEvent\": \"custom.exercise_interaction\", \"data\": {\"interactionType\": 3, \"questionType\": 1, \"questionId\": \"2_NumDeletedPosts\", \"learnToolsVersion\": \"0.3.5\", \"valueTowardsCompletion\": 0.0, \"failureMessage\": \"\", \"exceptionClass\": \"\", \"trace\": \"\", \"outcomeType\": 4}}, \"*\")"
      ],
      "text/plain": [
       "<IPython.core.display.Javascript object>"
      ]
     },
     "metadata": {},
     "output_type": "display_data"
    },
    {
     "data": {
      "text/markdown": [
       "<span style=\"color:#33cc99\">Solution:</span> \n",
       "```python\n",
       "\n",
       "# Query to determine how many posts were deleted\n",
       "deleted_posts_query = \"\"\"\n",
       "                      SELECT COUNT(1) AS num_deleted_posts\n",
       "                      FROM `bigquery-public-data.hacker_news.full`\n",
       "                      WHERE deleted = True\n",
       "                      \"\"\"\n",
       "                      \n",
       "# Set up the query\n",
       "query_job = client.query(deleted_posts_query)\n",
       "\n",
       "# API request - run the query, and return a pandas DataFrame\n",
       "deleted_posts = query_job.to_dataframe()\n",
       "\n",
       "# View results\n",
       "print(deleted_posts)\n",
       "\n",
       "num_deleted_posts = 0\n",
       "\n",
       "```"
      ],
      "text/plain": [
       "Solution: \n",
       "```python\n",
       "\n",
       "# Query to determine how many posts were deleted\n",
       "deleted_posts_query = \"\"\"\n",
       "                      SELECT COUNT(1) AS num_deleted_posts\n",
       "                      FROM `bigquery-public-data.hacker_news.full`\n",
       "                      WHERE deleted = True\n",
       "                      \"\"\"\n",
       "                      \n",
       "# Set up the query\n",
       "query_job = client.query(deleted_posts_query)\n",
       "\n",
       "# API request - run the query, and return a pandas DataFrame\n",
       "deleted_posts = query_job.to_dataframe()\n",
       "\n",
       "# View results\n",
       "print(deleted_posts)\n",
       "\n",
       "num_deleted_posts = 0\n",
       "\n",
       "```"
      ]
     },
     "metadata": {},
     "output_type": "display_data"
    }
   ],
   "source": [
    "q_2.solution()"
   ]
  },
  {
   "cell_type": "markdown",
   "id": "192132bc",
   "metadata": {
    "papermill": {
     "duration": 0.004566,
     "end_time": "2025-08-06T09:19:42.825916",
     "exception": false,
     "start_time": "2025-08-06T09:19:42.821350",
     "status": "completed"
    },
    "tags": []
   },
   "source": [
    "# Keep Going\n",
    "**[Click here](https://www.kaggle.com/dansbecker/order-by)** to move on and learn about the **ORDER BY** clause."
   ]
  },
  {
   "cell_type": "markdown",
   "id": "5a204836",
   "metadata": {
    "papermill": {
     "duration": 0.004532,
     "end_time": "2025-08-06T09:19:42.834891",
     "exception": false,
     "start_time": "2025-08-06T09:19:42.830359",
     "status": "completed"
    },
    "tags": []
   },
   "source": [
    "---\n",
    "\n",
    "\n",
    "\n",
    "\n",
    "*Have questions or comments? Visit the [course discussion forum](https://www.kaggle.com/learn/intro-to-sql/discussion) to chat with other learners.*"
   ]
  }
 ],
 "metadata": {
  "kaggle": {
   "accelerator": "none",
   "dataSources": [
    {
     "datasetId": 6057,
     "sourceId": 285982,
     "sourceType": "datasetVersion"
    }
   ],
   "isGpuEnabled": false,
   "isInternetEnabled": false,
   "language": "python",
   "sourceType": "notebook"
  },
  "kernelspec": {
   "display_name": "Python 3",
   "language": "python",
   "name": "python3"
  },
  "language_info": {
   "codemirror_mode": {
    "name": "ipython",
    "version": 3
   },
   "file_extension": ".py",
   "mimetype": "text/x-python",
   "name": "python",
   "nbconvert_exporter": "python",
   "pygments_lexer": "ipython3",
   "version": "3.11.13"
  },
  "papermill": {
   "default_parameters": {},
   "duration": 36.228999,
   "end_time": "2025-08-06T09:19:46.128868",
   "environment_variables": {},
   "exception": null,
   "input_path": "__notebook__.ipynb",
   "output_path": "__notebook__.ipynb",
   "parameters": {},
   "start_time": "2025-08-06T09:19:09.899869",
   "version": "2.6.0"
  }
 },
 "nbformat": 4,
 "nbformat_minor": 5
}
