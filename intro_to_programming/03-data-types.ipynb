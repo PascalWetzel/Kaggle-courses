{
 "cells": [
  {
   "cell_type": "markdown",
   "id": "462ed20f",
   "metadata": {
    "papermill": {
     "duration": 0.005383,
     "end_time": "2025-05-27T09:22:03.894025",
     "exception": false,
     "start_time": "2025-05-27T09:22:03.888642",
     "status": "completed"
    },
    "tags": []
   },
   "source": [
    "**This notebook is an exercise in the [Intro to Programming](https://www.kaggle.com/learn/intro-to-programming) course.  You can reference the tutorial at [this link](https://www.kaggle.com/alexisbcook/data-types).**\n",
    "\n",
    "---\n"
   ]
  },
  {
   "cell_type": "markdown",
   "id": "0aab3d63",
   "metadata": {
    "papermill": {
     "duration": 0.004198,
     "end_time": "2025-05-27T09:22:03.902814",
     "exception": false,
     "start_time": "2025-05-27T09:22:03.898616",
     "status": "completed"
    },
    "tags": []
   },
   "source": [
    "In the tutorial, you learned about four different data types: floats, integers, strings, and booleans.  In this exercise, you'll experiment with them.\n",
    "\n",
    "# Set up the notebook\n",
    "\n",
    "Run the next code cell without changes to set up the notebook."
   ]
  },
  {
   "cell_type": "code",
   "execution_count": 1,
   "id": "43f3f65c",
   "metadata": {
    "execution": {
     "iopub.execute_input": "2025-05-27T09:22:03.912846Z",
     "iopub.status.busy": "2025-05-27T09:22:03.912520Z",
     "iopub.status.idle": "2025-05-27T09:22:05.991299Z",
     "shell.execute_reply": "2025-05-27T09:22:05.990156Z"
    },
    "papermill": {
     "duration": 2.085768,
     "end_time": "2025-05-27T09:22:05.992956",
     "exception": false,
     "start_time": "2025-05-27T09:22:03.907188",
     "status": "completed"
    },
    "tags": []
   },
   "outputs": [
    {
     "name": "stdout",
     "output_type": "stream",
     "text": [
      "Setup complete.\n"
     ]
    }
   ],
   "source": [
    "# Set up the exercise\n",
    "from learntools.core import binder\n",
    "binder.bind(globals())\n",
    "from learntools.intro_to_programming.ex3 import *\n",
    "print('Setup complete.')"
   ]
  },
  {
   "cell_type": "markdown",
   "id": "4144419d",
   "metadata": {
    "papermill": {
     "duration": 0.004385,
     "end_time": "2025-05-27T09:22:06.002380",
     "exception": false,
     "start_time": "2025-05-27T09:22:05.997995",
     "status": "completed"
    },
    "tags": []
   },
   "source": [
    "# Question 1\n",
    "\n",
    "You have seen how to convert a float to an integer with the `int` function.  Try this out yourself by running the code cell below."
   ]
  },
  {
   "cell_type": "code",
   "execution_count": 2,
   "id": "d8b7b6d6",
   "metadata": {
    "execution": {
     "iopub.execute_input": "2025-05-27T09:22:06.013562Z",
     "iopub.status.busy": "2025-05-27T09:22:06.013091Z",
     "iopub.status.idle": "2025-05-27T09:22:06.019099Z",
     "shell.execute_reply": "2025-05-27T09:22:06.017921Z"
    },
    "papermill": {
     "duration": 0.013679,
     "end_time": "2025-05-27T09:22:06.020750",
     "exception": false,
     "start_time": "2025-05-27T09:22:06.007071",
     "status": "completed"
    },
    "tags": []
   },
   "outputs": [
    {
     "name": "stdout",
     "output_type": "stream",
     "text": [
      "1.0\n",
      "<class 'float'>\n",
      "1\n",
      "<class 'int'>\n"
     ]
    }
   ],
   "source": [
    "# Define a float\n",
    "y = 1.\n",
    "print(y)\n",
    "print(type(y))\n",
    "\n",
    "# Convert float to integer with the int function\n",
    "z = int(y)\n",
    "print(z)\n",
    "print(type(z))"
   ]
  },
  {
   "cell_type": "markdown",
   "id": "27abfceb",
   "metadata": {
    "papermill": {
     "duration": 0.004706,
     "end_time": "2025-05-27T09:22:06.030492",
     "exception": false,
     "start_time": "2025-05-27T09:22:06.025786",
     "status": "completed"
    },
    "tags": []
   },
   "source": [
    "In this case, the float you are using has no numbers after the decimal.  \n",
    "- But what happens when you try to convert a float with a fractional part to an integer?  \n",
    "- How does the outcome of the `int` function change for positive and negative numbers?\n",
    "\n",
    "Use the next code cell to investigate and answer these questions.  Feel free to add or remove any lines of code -- it is your workspace!"
   ]
  },
  {
   "cell_type": "code",
   "execution_count": 3,
   "id": "5fa9cd61",
   "metadata": {
    "execution": {
     "iopub.execute_input": "2025-05-27T09:22:06.041706Z",
     "iopub.status.busy": "2025-05-27T09:22:06.041164Z",
     "iopub.status.idle": "2025-05-27T09:22:06.046702Z",
     "shell.execute_reply": "2025-05-27T09:22:06.045670Z"
    },
    "papermill": {
     "duration": 0.013084,
     "end_time": "2025-05-27T09:22:06.048303",
     "exception": false,
     "start_time": "2025-05-27T09:22:06.035219",
     "status": "completed"
    },
    "tags": []
   },
   "outputs": [
    {
     "name": "stdout",
     "output_type": "stream",
     "text": [
      "1\n",
      "1\n",
      "-3\n",
      "-2\n"
     ]
    }
   ],
   "source": [
    "# Uncomment and run this code to get started!\n",
    "print(int(1.2321))\n",
    "print(int(1.747))\n",
    "print(int(-3.94535))\n",
    "print(int(-2.19774))"
   ]
  },
  {
   "cell_type": "markdown",
   "id": "a71a499c",
   "metadata": {
    "papermill": {
     "duration": 0.004499,
     "end_time": "2025-05-27T09:22:06.058299",
     "exception": false,
     "start_time": "2025-05-27T09:22:06.053800",
     "status": "completed"
    },
    "tags": []
   },
   "source": [
    "Once you have an answer, run the code cell below to see the solution.  Viewing the solution will give you credit for answering the problem."
   ]
  },
  {
   "cell_type": "code",
   "execution_count": 4,
   "id": "e1dc4038",
   "metadata": {
    "execution": {
     "iopub.execute_input": "2025-05-27T09:22:06.069320Z",
     "iopub.status.busy": "2025-05-27T09:22:06.068983Z",
     "iopub.status.idle": "2025-05-27T09:22:06.078635Z",
     "shell.execute_reply": "2025-05-27T09:22:06.077426Z"
    },
    "papermill": {
     "duration": 0.017403,
     "end_time": "2025-05-27T09:22:06.080431",
     "exception": false,
     "start_time": "2025-05-27T09:22:06.063028",
     "status": "completed"
    },
    "tags": []
   },
   "outputs": [
    {
     "data": {
      "application/javascript": [
       "parent.postMessage({\"jupyterEvent\": \"custom.exercise_interaction\", \"data\": {\"outcomeType\": 1, \"valueTowardsCompletion\": 0.2, \"interactionType\": 1, \"questionType\": 4, \"questionId\": \"1_FloatToInt\", \"learnToolsVersion\": \"0.3.5\", \"failureMessage\": \"\", \"exceptionClass\": \"\", \"trace\": \"\"}}, \"*\")"
      ],
      "text/plain": [
       "<IPython.core.display.Javascript object>"
      ]
     },
     "metadata": {},
     "output_type": "display_data"
    },
    {
     "data": {
      "text/markdown": [
       "<span style=\"color:#33cc33\">Correct:</span> \n",
       "\n",
       "Negative floats are always rounded UP to the closest integer (for instance, both -1.1 and -1.9 are rounded up to -1). Positive floats are always rounded DOWN to the closest integer (for instance, 2.1 and 2.9 are rounded down to 2)."
      ],
      "text/plain": [
       "Correct: \n",
       "\n",
       "Negative floats are always rounded UP to the closest integer (for instance, both -1.1 and -1.9 are rounded up to -1). Positive floats are always rounded DOWN to the closest integer (for instance, 2.1 and 2.9 are rounded down to 2)."
      ]
     },
     "metadata": {},
     "output_type": "display_data"
    }
   ],
   "source": [
    "# Check your answer (Run this code cell to receive credit!)\n",
    "q1.check()"
   ]
  },
  {
   "cell_type": "markdown",
   "id": "4304c2a4",
   "metadata": {
    "papermill": {
     "duration": 0.004707,
     "end_time": "2025-05-27T09:22:06.090377",
     "exception": false,
     "start_time": "2025-05-27T09:22:06.085670",
     "status": "completed"
    },
    "tags": []
   },
   "source": [
    "# Question 2\n",
    "\n",
    "In the tutorial, you learned about booleans (which can take a value of `True` or `False`), in addition to integers, floats, and strings.  For this question, your goal is to determine what happens when you multiply a boolean by any of these data types.  Specifically, \n",
    "- What happens when you multiply an integer or float by `True`?  What happens when you multiply them by `False`?  How does the answer change if the numbers are positive or negative?\n",
    "- What happens when you multiply a string by `True`?  By `False`?\n",
    "\n",
    "Use the next code cell for your investigation. "
   ]
  },
  {
   "cell_type": "code",
   "execution_count": 5,
   "id": "74b2bd83",
   "metadata": {
    "execution": {
     "iopub.execute_input": "2025-05-27T09:22:06.101328Z",
     "iopub.status.busy": "2025-05-27T09:22:06.101017Z",
     "iopub.status.idle": "2025-05-27T09:22:06.106815Z",
     "shell.execute_reply": "2025-05-27T09:22:06.105814Z"
    },
    "papermill": {
     "duration": 0.01353,
     "end_time": "2025-05-27T09:22:06.108727",
     "exception": false,
     "start_time": "2025-05-27T09:22:06.095197",
     "status": "completed"
    },
    "tags": []
   },
   "outputs": [
    {
     "name": "stdout",
     "output_type": "stream",
     "text": [
      "3\n",
      "0\n",
      "-3.1\n",
      "-0.0\n",
      "<class 'str'>\n",
      "0\n"
     ]
    }
   ],
   "source": [
    "# Uncomment and run this code to get started!\n",
    "print(3 * True)\n",
    "print(3 * False)\n",
    "print(-3.1 * True)\n",
    "print(-3.1 * False)\n",
    "print(type(\"abc\" * False))\n",
    "print(len(\"abc\" * False))"
   ]
  },
  {
   "cell_type": "markdown",
   "id": "833b1028",
   "metadata": {
    "papermill": {
     "duration": 0.00472,
     "end_time": "2025-05-27T09:22:06.119457",
     "exception": false,
     "start_time": "2025-05-27T09:22:06.114737",
     "status": "completed"
    },
    "tags": []
   },
   "source": [
    "Once you have an answer, run the code cell below to see the solution.  Viewing the solution will give you credit for answering the problem."
   ]
  },
  {
   "cell_type": "code",
   "execution_count": 6,
   "id": "cbac8d72",
   "metadata": {
    "execution": {
     "iopub.execute_input": "2025-05-27T09:22:06.130588Z",
     "iopub.status.busy": "2025-05-27T09:22:06.130306Z",
     "iopub.status.idle": "2025-05-27T09:22:06.137720Z",
     "shell.execute_reply": "2025-05-27T09:22:06.136989Z"
    },
    "papermill": {
     "duration": 0.014569,
     "end_time": "2025-05-27T09:22:06.139139",
     "exception": false,
     "start_time": "2025-05-27T09:22:06.124570",
     "status": "completed"
    },
    "tags": []
   },
   "outputs": [
    {
     "data": {
      "application/javascript": [
       "parent.postMessage({\"jupyterEvent\": \"custom.exercise_interaction\", \"data\": {\"outcomeType\": 1, \"valueTowardsCompletion\": 0.2, \"interactionType\": 1, \"questionType\": 4, \"questionId\": \"2_MultiplyBooleans\", \"learnToolsVersion\": \"0.3.5\", \"failureMessage\": \"\", \"exceptionClass\": \"\", \"trace\": \"\"}}, \"*\")"
      ],
      "text/plain": [
       "<IPython.core.display.Javascript object>"
      ]
     },
     "metadata": {},
     "output_type": "display_data"
    },
    {
     "data": {
      "text/markdown": [
       "<span style=\"color:#33cc33\">Correct:</span> \n",
       "\n",
       "When you multiple an integer or float by a boolean with value `True`, it just returns that same integer or float (and is equivalent to multiplying by 1).  If you multiply an integer or float by a boolean with value `False`, it always returns 0.  This is true for both positive and negative numbers.  If you multiply a string by a boolean with value `True`, it just returns that same string.  And if you multiply a string by a boolean with value `False`, it returns an empty string (or a string with length zero)."
      ],
      "text/plain": [
       "Correct: \n",
       "\n",
       "When you multiple an integer or float by a boolean with value `True`, it just returns that same integer or float (and is equivalent to multiplying by 1).  If you multiply an integer or float by a boolean with value `False`, it always returns 0.  This is true for both positive and negative numbers.  If you multiply a string by a boolean with value `True`, it just returns that same string.  And if you multiply a string by a boolean with value `False`, it returns an empty string (or a string with length zero)."
      ]
     },
     "metadata": {},
     "output_type": "display_data"
    }
   ],
   "source": [
    "# Check your answer (Run this code cell to receive credit!)\n",
    "q2.check()"
   ]
  },
  {
   "cell_type": "markdown",
   "id": "493899d1",
   "metadata": {
    "papermill": {
     "duration": 0.004852,
     "end_time": "2025-05-27T09:22:06.149709",
     "exception": false,
     "start_time": "2025-05-27T09:22:06.144857",
     "status": "completed"
    },
    "tags": []
   },
   "source": [
    "# Question 3\n",
    "\n",
    "In this question, you will build off your work from the previous exercise to write a function that estimates the value of a house.\n",
    "\n",
    "Use the next code cell to create a function `get_expected_cost` that takes as input three variables:\n",
    "- `beds` - number of bedrooms (data type float)\n",
    "- `baths` - number of bathrooms (data type float)\n",
    "- `has_basement` - whether or not the house has a basement (data type boolean)\n",
    "\n",
    "It should return the expected cost of a house with those characteristics. Assume that:\n",
    "- the expected cost for a house with 0 bedrooms and 0 bathrooms, and no basement is 80000, \n",
    "- each bedroom adds 30000 to the expected cost,\n",
    "- each bathroom adds 10000 to the expected cost, and\n",
    "- a basement adds 40000 to the expected cost.\n",
    "\n",
    "For instance,\n",
    "- a house with 1 bedroom, 1 bathroom, and no basement has an expected cost of 80000 + 30000 + 10000 = 120000.  This value will be calculated with `get_expected_cost(1, 1, False)`.\n",
    "- a house with 2 bedrooms, 1 bathroom, and a basement has an expected cost of 80000 + 2*30000 + 10000 + 40000 = 190000.  This value will be calculated with `get_expected_cost(2, 1, True)`.\n",
    "\n",
    "Remember you can always get a hint by uncommenting `q3.hint()` in the code cell following the next!"
   ]
  },
  {
   "cell_type": "code",
   "execution_count": 7,
   "id": "bbaad77f",
   "metadata": {
    "execution": {
     "iopub.execute_input": "2025-05-27T09:22:06.161028Z",
     "iopub.status.busy": "2025-05-27T09:22:06.160708Z",
     "iopub.status.idle": "2025-05-27T09:22:06.168466Z",
     "shell.execute_reply": "2025-05-27T09:22:06.167556Z"
    },
    "papermill": {
     "duration": 0.015301,
     "end_time": "2025-05-27T09:22:06.170077",
     "exception": false,
     "start_time": "2025-05-27T09:22:06.154776",
     "status": "completed"
    },
    "tags": []
   },
   "outputs": [
    {
     "data": {
      "application/javascript": [
       "parent.postMessage({\"jupyterEvent\": \"custom.exercise_interaction\", \"data\": {\"outcomeType\": 1, \"valueTowardsCompletion\": 0.2, \"interactionType\": 1, \"questionType\": 2, \"questionId\": \"3_EstimateHouseValueBool\", \"learnToolsVersion\": \"0.3.5\", \"failureMessage\": \"\", \"exceptionClass\": \"\", \"trace\": \"\"}}, \"*\")"
      ],
      "text/plain": [
       "<IPython.core.display.Javascript object>"
      ]
     },
     "metadata": {},
     "output_type": "display_data"
    },
    {
     "data": {
      "text/markdown": [
       "<span style=\"color:#33cc33\">Correct</span>"
      ],
      "text/plain": [
       "Correct"
      ]
     },
     "metadata": {},
     "output_type": "display_data"
    }
   ],
   "source": [
    "# TODO: Complete the function\n",
    "def get_expected_cost(beds, baths, has_basement):\n",
    "    value = 80000 + beds * 30000 + baths * 10000 + 40000 * has_basement\n",
    "    return value\n",
    "\n",
    "# Check your answer \n",
    "q3.check()"
   ]
  },
  {
   "cell_type": "code",
   "execution_count": 8,
   "id": "4a19418a",
   "metadata": {
    "execution": {
     "iopub.execute_input": "2025-05-27T09:22:06.182254Z",
     "iopub.status.busy": "2025-05-27T09:22:06.181951Z",
     "iopub.status.idle": "2025-05-27T09:22:06.186638Z",
     "shell.execute_reply": "2025-05-27T09:22:06.185437Z"
    },
    "papermill": {
     "duration": 0.012593,
     "end_time": "2025-05-27T09:22:06.188295",
     "exception": false,
     "start_time": "2025-05-27T09:22:06.175702",
     "status": "completed"
    },
    "tags": []
   },
   "outputs": [],
   "source": [
    "# Uncomment to see a hint\n",
    "#q3.hint()\n",
    "\n",
    "# Uncomment to view the solution\n",
    "#q3.solution()"
   ]
  },
  {
   "cell_type": "markdown",
   "id": "2322092c",
   "metadata": {
    "papermill": {
     "duration": 0.005119,
     "end_time": "2025-05-27T09:22:06.199127",
     "exception": false,
     "start_time": "2025-05-27T09:22:06.194008",
     "status": "completed"
    },
    "tags": []
   },
   "source": [
    "# Question 4\n",
    "\n",
    "We'll continue our study of boolean arithmetic.  For this question, your task is to provide a description of what happpens when you add booleans. \n",
    "\n",
    "Use the next code cell for your investigation.  Feel free to add or remove any lines of code - use it as your workspace!"
   ]
  },
  {
   "cell_type": "code",
   "execution_count": 9,
   "id": "3a67ad76",
   "metadata": {
    "execution": {
     "iopub.execute_input": "2025-05-27T09:22:06.210956Z",
     "iopub.status.busy": "2025-05-27T09:22:06.210581Z",
     "iopub.status.idle": "2025-05-27T09:22:06.215954Z",
     "shell.execute_reply": "2025-05-27T09:22:06.214940Z"
    },
    "papermill": {
     "duration": 0.013387,
     "end_time": "2025-05-27T09:22:06.217852",
     "exception": false,
     "start_time": "2025-05-27T09:22:06.204465",
     "status": "completed"
    },
    "tags": []
   },
   "outputs": [
    {
     "name": "stdout",
     "output_type": "stream",
     "text": [
      "0\n",
      "1\n",
      "1\n",
      "2\n",
      "3\n"
     ]
    }
   ],
   "source": [
    "print(False + False)\n",
    "print(True + False)\n",
    "print(False + True)\n",
    "print(True + True)\n",
    "print(False + True + True + True)"
   ]
  },
  {
   "cell_type": "markdown",
   "id": "ce16e916",
   "metadata": {
    "papermill": {
     "duration": 0.005041,
     "end_time": "2025-05-27T09:22:06.228353",
     "exception": false,
     "start_time": "2025-05-27T09:22:06.223312",
     "status": "completed"
    },
    "tags": []
   },
   "source": [
    "Once you have an answer, run the code cell below to see the solution.  Viewing the solution will give you credit for answering the problem."
   ]
  },
  {
   "cell_type": "code",
   "execution_count": 10,
   "id": "4f5692e5",
   "metadata": {
    "execution": {
     "iopub.execute_input": "2025-05-27T09:22:06.240236Z",
     "iopub.status.busy": "2025-05-27T09:22:06.239948Z",
     "iopub.status.idle": "2025-05-27T09:22:06.247268Z",
     "shell.execute_reply": "2025-05-27T09:22:06.246416Z"
    },
    "papermill": {
     "duration": 0.015066,
     "end_time": "2025-05-27T09:22:06.248829",
     "exception": false,
     "start_time": "2025-05-27T09:22:06.233763",
     "status": "completed"
    },
    "tags": []
   },
   "outputs": [
    {
     "data": {
      "application/javascript": [
       "parent.postMessage({\"jupyterEvent\": \"custom.exercise_interaction\", \"data\": {\"outcomeType\": 1, \"valueTowardsCompletion\": 0.2, \"interactionType\": 1, \"questionType\": 4, \"questionId\": \"4_AddingBooleans\", \"learnToolsVersion\": \"0.3.5\", \"failureMessage\": \"\", \"exceptionClass\": \"\", \"trace\": \"\"}}, \"*\")"
      ],
      "text/plain": [
       "<IPython.core.display.Javascript object>"
      ]
     },
     "metadata": {},
     "output_type": "display_data"
    },
    {
     "data": {
      "text/markdown": [
       "<span style=\"color:#33cc33\">Correct:</span> \n",
       "\n",
       "When you add booleans, adding `False` is equivalent to adding 0, and adding `True` is equivalent to adding 1."
      ],
      "text/plain": [
       "Correct: \n",
       "\n",
       "When you add booleans, adding `False` is equivalent to adding 0, and adding `True` is equivalent to adding 1."
      ]
     },
     "metadata": {},
     "output_type": "display_data"
    }
   ],
   "source": [
    "# Check your answer (Run this code cell to receive credit!)\n",
    "q4.check()"
   ]
  },
  {
   "cell_type": "markdown",
   "id": "9c66330c",
   "metadata": {
    "papermill": {
     "duration": 0.005225,
     "end_time": "2025-05-27T09:22:06.259725",
     "exception": false,
     "start_time": "2025-05-27T09:22:06.254500",
     "status": "completed"
    },
    "tags": []
   },
   "source": [
    "# 🌶️ Question 5\n",
    "\n",
    "You own an online shop where you sell rings with custom engravings.  You offer both gold plated and solid gold rings.\n",
    "- Gold plated rings have a base cost of \\\\$50, and you charge \\\\$7 per engraved unit.  \n",
    "- Solid gold rings have a base cost of \\\\$100, and you charge \\\\$10 per engraved unit.\n",
    "- Spaces and punctuation are counted as engraved units.\n",
    "\n",
    "Write a function `cost_of_project()` that takes two arguments:\n",
    "- `engraving` - a Python string with the text of the engraving\n",
    "- `solid_gold` - a Boolean that indicates whether the ring is solid gold\n",
    "\n",
    "It should return the cost of the project.  This question should be fairly challenging, and you may need a hint."
   ]
  },
  {
   "cell_type": "code",
   "execution_count": 11,
   "id": "e645a04e",
   "metadata": {
    "execution": {
     "iopub.execute_input": "2025-05-27T09:22:06.271907Z",
     "iopub.status.busy": "2025-05-27T09:22:06.271576Z",
     "iopub.status.idle": "2025-05-27T09:22:06.280539Z",
     "shell.execute_reply": "2025-05-27T09:22:06.279630Z"
    },
    "papermill": {
     "duration": 0.017085,
     "end_time": "2025-05-27T09:22:06.282204",
     "exception": false,
     "start_time": "2025-05-27T09:22:06.265119",
     "status": "completed"
    },
    "tags": []
   },
   "outputs": [
    {
     "data": {
      "application/javascript": [
       "parent.postMessage({\"jupyterEvent\": \"custom.exercise_interaction\", \"data\": {\"outcomeType\": 1, \"valueTowardsCompletion\": 0.2, \"interactionType\": 1, \"questionType\": 2, \"questionId\": \"5_CustomEngravings\", \"learnToolsVersion\": \"0.3.5\", \"failureMessage\": \"\", \"exceptionClass\": \"\", \"trace\": \"\"}}, \"*\")"
      ],
      "text/plain": [
       "<IPython.core.display.Javascript object>"
      ]
     },
     "metadata": {},
     "output_type": "display_data"
    },
    {
     "data": {
      "text/markdown": [
       "<span style=\"color:#33cc33\">Correct</span>"
      ],
      "text/plain": [
       "Correct"
      ]
     },
     "metadata": {},
     "output_type": "display_data"
    }
   ],
   "source": [
    "def cost_of_project(engraving, solid_gold):\n",
    "    cost = 50 + 50 * solid_gold + len(engraving) * 7 * (not solid_gold) + len(engraving) * 10 * solid_gold \n",
    "    return cost\n",
    "\n",
    "# Check your answer\n",
    "q5.check()"
   ]
  },
  {
   "cell_type": "code",
   "execution_count": 12,
   "id": "e267e139",
   "metadata": {
    "execution": {
     "iopub.execute_input": "2025-05-27T09:22:06.295371Z",
     "iopub.status.busy": "2025-05-27T09:22:06.295079Z",
     "iopub.status.idle": "2025-05-27T09:22:06.299600Z",
     "shell.execute_reply": "2025-05-27T09:22:06.298509Z"
    },
    "papermill": {
     "duration": 0.01319,
     "end_time": "2025-05-27T09:22:06.301543",
     "exception": false,
     "start_time": "2025-05-27T09:22:06.288353",
     "status": "completed"
    },
    "tags": []
   },
   "outputs": [],
   "source": [
    "# Uncomment to see a hint\n",
    "#q5.hint()\n",
    "\n",
    "# Uncomment to view the solution\n",
    "#q5.solution()"
   ]
  },
  {
   "cell_type": "markdown",
   "id": "52fa04ee",
   "metadata": {
    "papermill": {
     "duration": 0.005685,
     "end_time": "2025-05-27T09:22:06.313666",
     "exception": false,
     "start_time": "2025-05-27T09:22:06.307981",
     "status": "completed"
    },
    "tags": []
   },
   "source": [
    "Run the next code cell to calculate the cost of engraving `Charlie+Denver` on a solid gold ring."
   ]
  },
  {
   "cell_type": "code",
   "execution_count": 13,
   "id": "74f7b476",
   "metadata": {
    "execution": {
     "iopub.execute_input": "2025-05-27T09:22:06.326524Z",
     "iopub.status.busy": "2025-05-27T09:22:06.326256Z",
     "iopub.status.idle": "2025-05-27T09:22:06.331440Z",
     "shell.execute_reply": "2025-05-27T09:22:06.330187Z"
    },
    "papermill": {
     "duration": 0.013653,
     "end_time": "2025-05-27T09:22:06.333089",
     "exception": false,
     "start_time": "2025-05-27T09:22:06.319436",
     "status": "completed"
    },
    "tags": []
   },
   "outputs": [
    {
     "name": "stdout",
     "output_type": "stream",
     "text": [
      "240\n"
     ]
    }
   ],
   "source": [
    "project_one = cost_of_project(\"Charlie+Denver\", True)\n",
    "print(project_one)"
   ]
  },
  {
   "cell_type": "markdown",
   "id": "c6827683",
   "metadata": {
    "papermill": {
     "duration": 0.005471,
     "end_time": "2025-05-27T09:22:06.344572",
     "exception": false,
     "start_time": "2025-05-27T09:22:06.339101",
     "status": "completed"
    },
    "tags": []
   },
   "source": [
    "Use the next code cell to calculate the cost of engraving `08/10/2000` on a gold plated ring."
   ]
  },
  {
   "cell_type": "code",
   "execution_count": 14,
   "id": "0e03987e",
   "metadata": {
    "execution": {
     "iopub.execute_input": "2025-05-27T09:22:06.364029Z",
     "iopub.status.busy": "2025-05-27T09:22:06.363190Z",
     "iopub.status.idle": "2025-05-27T09:22:06.368539Z",
     "shell.execute_reply": "2025-05-27T09:22:06.367597Z"
    },
    "papermill": {
     "duration": 0.019223,
     "end_time": "2025-05-27T09:22:06.370318",
     "exception": false,
     "start_time": "2025-05-27T09:22:06.351095",
     "status": "completed"
    },
    "tags": []
   },
   "outputs": [
    {
     "name": "stdout",
     "output_type": "stream",
     "text": [
      "120\n"
     ]
    }
   ],
   "source": [
    "project_two = cost_of_project(\"08/10/2000\", False)\n",
    "print(project_two)"
   ]
  },
  {
   "cell_type": "markdown",
   "id": "76856a8e",
   "metadata": {
    "papermill": {
     "duration": 0.00762,
     "end_time": "2025-05-27T09:22:06.384558",
     "exception": false,
     "start_time": "2025-05-27T09:22:06.376938",
     "status": "completed"
    },
    "tags": []
   },
   "source": [
    "# Keep going\n",
    "\n",
    "Continue to the next lesson to **[learn about conditions and conditional statements](https://www.kaggle.com/alexisbcook/conditions-and-conditional-statements)**."
   ]
  },
  {
   "cell_type": "markdown",
   "id": "02534de2",
   "metadata": {
    "papermill": {
     "duration": 0.005849,
     "end_time": "2025-05-27T09:22:06.397854",
     "exception": false,
     "start_time": "2025-05-27T09:22:06.392005",
     "status": "completed"
    },
    "tags": []
   },
   "source": [
    "---\n",
    "\n",
    "\n",
    "\n",
    "\n",
    "*Have questions or comments? Visit the [course discussion forum](https://www.kaggle.com/learn/intro-to-programming/discussion) to chat with other learners.*"
   ]
  }
 ],
 "metadata": {
  "kaggle": {
   "accelerator": "none",
   "dataSources": [],
   "isGpuEnabled": false,
   "isInternetEnabled": false,
   "language": "python",
   "sourceType": "notebook"
  },
  "kernelspec": {
   "display_name": "Python 3",
   "language": "python",
   "name": "python3"
  },
  "language_info": {
   "codemirror_mode": {
    "name": "ipython",
    "version": 3
   },
   "file_extension": ".py",
   "mimetype": "text/x-python",
   "name": "python",
   "nbconvert_exporter": "python",
   "pygments_lexer": "ipython3",
   "version": "3.11.11"
  },
  "papermill": {
   "default_parameters": {},
   "duration": 8.213788,
   "end_time": "2025-05-27T09:22:06.924510",
   "environment_variables": {},
   "exception": null,
   "input_path": "__notebook__.ipynb",
   "output_path": "__notebook__.ipynb",
   "parameters": {},
   "start_time": "2025-05-27T09:21:58.710722",
   "version": "2.3.3"
  }
 },
 "nbformat": 4,
 "nbformat_minor": 5
}
