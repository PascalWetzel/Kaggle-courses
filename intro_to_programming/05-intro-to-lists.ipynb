{
 "cells": [
  {
   "cell_type": "markdown",
   "id": "350ef714",
   "metadata": {
    "papermill": {
     "duration": 0.00425,
     "end_time": "2025-05-30T10:38:54.699614",
     "exception": false,
     "start_time": "2025-05-30T10:38:54.695364",
     "status": "completed"
    },
    "tags": []
   },
   "source": [
    "**This notebook is an exercise in the [Intro to Programming](https://www.kaggle.com/learn/intro-to-programming) course.  You can reference the tutorial at [this link](https://www.kaggle.com/alexisbcook/intro-to-lists).**\n",
    "\n",
    "---\n"
   ]
  },
  {
   "cell_type": "markdown",
   "id": "9fc2a3c6",
   "metadata": {
    "papermill": {
     "duration": 0.002991,
     "end_time": "2025-05-30T10:38:54.705964",
     "exception": false,
     "start_time": "2025-05-30T10:38:54.702973",
     "status": "completed"
    },
    "tags": []
   },
   "source": [
    "In the tutorial, you learned how to define and modify Python lists.  In this exercise, you will use your new knowledge to solve several problems.\n",
    "\n",
    "# Set up the notebook\n",
    "\n",
    "Run the next code cell without changes to set up the notebook."
   ]
  },
  {
   "cell_type": "code",
   "execution_count": 1,
   "id": "3c421ffc",
   "metadata": {
    "execution": {
     "iopub.execute_input": "2025-05-30T10:38:54.714413Z",
     "iopub.status.busy": "2025-05-30T10:38:54.713280Z",
     "iopub.status.idle": "2025-05-30T10:38:56.646196Z",
     "shell.execute_reply": "2025-05-30T10:38:56.644912Z"
    },
    "papermill": {
     "duration": 1.938848,
     "end_time": "2025-05-30T10:38:56.647936",
     "exception": false,
     "start_time": "2025-05-30T10:38:54.709088",
     "status": "completed"
    },
    "tags": []
   },
   "outputs": [
    {
     "name": "stdout",
     "output_type": "stream",
     "text": [
      "Setup complete.\n"
     ]
    }
   ],
   "source": [
    "from learntools.core import binder\n",
    "binder.bind(globals())\n",
    "from learntools.intro_to_programming.ex5 import *\n",
    "print('Setup complete.')"
   ]
  },
  {
   "cell_type": "markdown",
   "id": "28ef87ee",
   "metadata": {
    "papermill": {
     "duration": 0.00302,
     "end_time": "2025-05-30T10:38:56.654715",
     "exception": false,
     "start_time": "2025-05-30T10:38:56.651695",
     "status": "completed"
    },
    "tags": []
   },
   "source": [
    "# Question 1\n",
    "\n",
    "You own a restaurant with five food dishes, organized in the Python list `menu` below.  One day, you decide to:\n",
    "- remove bean soup (`'bean soup'`) from the menu, and\n",
    "- add roasted beet salad (`'roasted beet salad'`) to the menu.\n",
    "\n",
    "Implement this change to the list below.  While completing this task, \n",
    "- do not change the line that creates the `menu` list.  \n",
    "- your answer should use `.remove()` and `.append()`.  "
   ]
  },
  {
   "cell_type": "code",
   "execution_count": 2,
   "id": "a0f6e677",
   "metadata": {
    "execution": {
     "iopub.execute_input": "2025-05-30T10:38:56.662627Z",
     "iopub.status.busy": "2025-05-30T10:38:56.662249Z",
     "iopub.status.idle": "2025-05-30T10:38:56.671006Z",
     "shell.execute_reply": "2025-05-30T10:38:56.670009Z"
    },
    "papermill": {
     "duration": 0.014753,
     "end_time": "2025-05-30T10:38:56.672653",
     "exception": false,
     "start_time": "2025-05-30T10:38:56.657900",
     "status": "completed"
    },
    "tags": []
   },
   "outputs": [
    {
     "data": {
      "application/javascript": [
       "parent.postMessage({\"jupyterEvent\": \"custom.exercise_interaction\", \"data\": {\"outcomeType\": 1, \"valueTowardsCompletion\": 0.2, \"interactionType\": 1, \"questionType\": 2, \"questionId\": \"1_FoodMenu\", \"learnToolsVersion\": \"0.3.5\", \"failureMessage\": \"\", \"exceptionClass\": \"\", \"trace\": \"\"}}, \"*\")"
      ],
      "text/plain": [
       "<IPython.core.display.Javascript object>"
      ]
     },
     "metadata": {},
     "output_type": "display_data"
    },
    {
     "data": {
      "text/markdown": [
       "<span style=\"color:#33cc33\">Correct</span>"
      ],
      "text/plain": [
       "Correct"
      ]
     },
     "metadata": {},
     "output_type": "display_data"
    }
   ],
   "source": [
    "# Do not change: Initial menu for your restaurant\n",
    "menu = ['stewed meat with onions', 'bean soup', 'risotto with trout and shrimp',\n",
    "       'fish soup with cream and onion', 'gyro']\n",
    "\n",
    "# TODO: remove 'bean soup', and add 'roasted beet salad' to the end of the menu\n",
    "menu.remove(\"bean soup\")\n",
    "menu.append(\"roasted beet salad\")\n",
    "\n",
    "# Do not change: Check your answer\n",
    "q1.check()"
   ]
  },
  {
   "cell_type": "code",
   "execution_count": 3,
   "id": "9627da1e",
   "metadata": {
    "execution": {
     "iopub.execute_input": "2025-05-30T10:38:56.682192Z",
     "iopub.status.busy": "2025-05-30T10:38:56.681906Z",
     "iopub.status.idle": "2025-05-30T10:38:56.685578Z",
     "shell.execute_reply": "2025-05-30T10:38:56.684723Z"
    },
    "papermill": {
     "duration": 0.010318,
     "end_time": "2025-05-30T10:38:56.687094",
     "exception": false,
     "start_time": "2025-05-30T10:38:56.676776",
     "status": "completed"
    },
    "tags": []
   },
   "outputs": [],
   "source": [
    "# Uncomment to see a hint\n",
    "#q1.hint()\n",
    "\n",
    "# Uncomment to see the solution\n",
    "#q1.solution()"
   ]
  },
  {
   "cell_type": "markdown",
   "id": "f9fe7ff2",
   "metadata": {
    "papermill": {
     "duration": 0.003226,
     "end_time": "2025-05-30T10:38:56.694341",
     "exception": false,
     "start_time": "2025-05-30T10:38:56.691115",
     "status": "completed"
    },
    "tags": []
   },
   "source": [
    "# Question 2\n",
    "\n",
    "The list `num_customers` contains the number of customers who came into your restaurant every day over the last month (which lasted thirty days).  Fill in values for each of the following:\n",
    "- `avg_first_seven` - average number of customers who visited in the first seven days\n",
    "- `avg_last_seven` - average number of customers who visited in the last seven days\n",
    "- `max_month` - number of customers on the day that got the most customers in the last month\n",
    "- `min_month` - number of customers on the day that got the least customers in the last month\n",
    "\n",
    "Answer this question by writing code.  For instance, if you have to find the minimum value in a list, use `min()` instead of scanning for the smallest value and directly filling in a number."
   ]
  },
  {
   "cell_type": "code",
   "execution_count": 4,
   "id": "22ea3795",
   "metadata": {
    "execution": {
     "iopub.execute_input": "2025-05-30T10:38:56.702292Z",
     "iopub.status.busy": "2025-05-30T10:38:56.702015Z",
     "iopub.status.idle": "2025-05-30T10:38:56.711496Z",
     "shell.execute_reply": "2025-05-30T10:38:56.710249Z"
    },
    "papermill": {
     "duration": 0.015142,
     "end_time": "2025-05-30T10:38:56.712954",
     "exception": false,
     "start_time": "2025-05-30T10:38:56.697812",
     "status": "completed"
    },
    "tags": []
   },
   "outputs": [
    {
     "data": {
      "application/javascript": [
       "parent.postMessage({\"jupyterEvent\": \"custom.exercise_interaction\", \"data\": {\"outcomeType\": 1, \"valueTowardsCompletion\": 0.2, \"interactionType\": 1, \"questionType\": 1, \"questionId\": \"2_NumCustomers\", \"learnToolsVersion\": \"0.3.5\", \"failureMessage\": \"\", \"exceptionClass\": \"\", \"trace\": \"\"}}, \"*\")"
      ],
      "text/plain": [
       "<IPython.core.display.Javascript object>"
      ]
     },
     "metadata": {},
     "output_type": "display_data"
    },
    {
     "data": {
      "text/markdown": [
       "<span style=\"color:#33cc33\">Correct</span>"
      ],
      "text/plain": [
       "Correct"
      ]
     },
     "metadata": {},
     "output_type": "display_data"
    }
   ],
   "source": [
    "# Do not change: Number of customers each day for the last month\n",
    "num_customers = [137, 147, 135, 128, 170, 174, 165, 146, 126, 159,\n",
    "                 141, 148, 132, 147, 168, 153, 170, 161, 148, 152,\n",
    "                 141, 151, 131, 149, 164, 163, 143, 143, 166, 171]\n",
    "\n",
    "# TODO: Fill in values for the variables below\n",
    "avg_first_seven = sum(num_customers[:7]) / 7 \n",
    "avg_last_seven = sum(num_customers[-7:]) / 7\n",
    "max_month = max(num_customers)\n",
    "min_month = min(num_customers)\n",
    "\n",
    "# Do not change: Check your answer\n",
    "q2.check()"
   ]
  },
  {
   "cell_type": "code",
   "execution_count": 5,
   "id": "0cd4d9fb",
   "metadata": {
    "execution": {
     "iopub.execute_input": "2025-05-30T10:38:56.721788Z",
     "iopub.status.busy": "2025-05-30T10:38:56.721529Z",
     "iopub.status.idle": "2025-05-30T10:38:56.725252Z",
     "shell.execute_reply": "2025-05-30T10:38:56.724209Z"
    },
    "papermill": {
     "duration": 0.010188,
     "end_time": "2025-05-30T10:38:56.727291",
     "exception": false,
     "start_time": "2025-05-30T10:38:56.717103",
     "status": "completed"
    },
    "tags": []
   },
   "outputs": [],
   "source": [
    "# Uncomment to see a hint\n",
    "#q2.hint()\n",
    "\n",
    "# Uncomment to see the solution\n",
    "#q2.solution()"
   ]
  },
  {
   "cell_type": "markdown",
   "id": "a25d54e2",
   "metadata": {
    "papermill": {
     "duration": 0.00355,
     "end_time": "2025-05-30T10:38:56.735160",
     "exception": false,
     "start_time": "2025-05-30T10:38:56.731610",
     "status": "completed"
    },
    "tags": []
   },
   "source": [
    "# Question 3\n",
    "\n",
    "In the tutorial, we gave an example of a Python string with information that was better as a list."
   ]
  },
  {
   "cell_type": "code",
   "execution_count": 6,
   "id": "b45f15f2",
   "metadata": {
    "execution": {
     "iopub.execute_input": "2025-05-30T10:38:56.743536Z",
     "iopub.status.busy": "2025-05-30T10:38:56.742923Z",
     "iopub.status.idle": "2025-05-30T10:38:56.747331Z",
     "shell.execute_reply": "2025-05-30T10:38:56.746355Z"
    },
    "papermill": {
     "duration": 0.010443,
     "end_time": "2025-05-30T10:38:56.749013",
     "exception": false,
     "start_time": "2025-05-30T10:38:56.738570",
     "status": "completed"
    },
    "tags": []
   },
   "outputs": [],
   "source": [
    "flowers = \"pink primrose,hard-leaved pocket orchid,canterbury bells,sweet pea,english marigold,tiger lily,moon orchid,bird of paradise,monkshood,globe thistle\""
   ]
  },
  {
   "cell_type": "markdown",
   "id": "aba9648b",
   "metadata": {
    "papermill": {
     "duration": 0.004033,
     "end_time": "2025-05-30T10:38:56.757148",
     "exception": false,
     "start_time": "2025-05-30T10:38:56.753115",
     "status": "completed"
    },
    "tags": []
   },
   "source": [
    "You can actually use Python to quickly turn this string into a list with `.split()`.  In the parentheses, we need to provide the character should be used to mark the end of one list item and the beginning of another, and enclose it in quotation marks.  In this case, that character is a comma."
   ]
  },
  {
   "cell_type": "code",
   "execution_count": 7,
   "id": "b9c489fc",
   "metadata": {
    "execution": {
     "iopub.execute_input": "2025-05-30T10:38:56.765500Z",
     "iopub.status.busy": "2025-05-30T10:38:56.765208Z",
     "iopub.status.idle": "2025-05-30T10:38:56.769916Z",
     "shell.execute_reply": "2025-05-30T10:38:56.768898Z"
    },
    "papermill": {
     "duration": 0.010347,
     "end_time": "2025-05-30T10:38:56.771099",
     "exception": false,
     "start_time": "2025-05-30T10:38:56.760752",
     "status": "completed"
    },
    "tags": []
   },
   "outputs": [
    {
     "name": "stdout",
     "output_type": "stream",
     "text": [
      "['pink primrose', 'hard-leaved pocket orchid', 'canterbury bells', 'sweet pea', 'english marigold', 'tiger lily', 'moon orchid', 'bird of paradise', 'monkshood', 'globe thistle']\n"
     ]
    }
   ],
   "source": [
    " print(flowers.split(\",\"))"
   ]
  },
  {
   "cell_type": "markdown",
   "id": "186ae41f",
   "metadata": {
    "papermill": {
     "duration": 0.003395,
     "end_time": "2025-05-30T10:38:56.778267",
     "exception": false,
     "start_time": "2025-05-30T10:38:56.774872",
     "status": "completed"
    },
    "tags": []
   },
   "source": [
    "Now it is your turn to try this out!  Create two Python lists:\n",
    "- `letters` should be a Python list where each entry is an uppercase letter of the English alphabet.  For instance, the first two entries should be `\"A\"` and `\"B\"`, and the final two entries should be `\"Y\"` and `\"Z\"`.  Use the string `alphabet` to create this list.\n",
    "- `address` should be a Python list where each row in `address` is a different item in the list.  Currently, each row in `address` is separated by a comma. "
   ]
  },
  {
   "cell_type": "code",
   "execution_count": 8,
   "id": "45b9b073",
   "metadata": {
    "execution": {
     "iopub.execute_input": "2025-05-30T10:38:56.786298Z",
     "iopub.status.busy": "2025-05-30T10:38:56.786011Z",
     "iopub.status.idle": "2025-05-30T10:38:56.793699Z",
     "shell.execute_reply": "2025-05-30T10:38:56.792883Z"
    },
    "papermill": {
     "duration": 0.013492,
     "end_time": "2025-05-30T10:38:56.795249",
     "exception": false,
     "start_time": "2025-05-30T10:38:56.781757",
     "status": "completed"
    },
    "tags": []
   },
   "outputs": [
    {
     "data": {
      "application/javascript": [
       "parent.postMessage({\"jupyterEvent\": \"custom.exercise_interaction\", \"data\": {\"outcomeType\": 1, \"valueTowardsCompletion\": 0.2, \"interactionType\": 1, \"questionType\": 1, \"questionId\": \"3_SplitString\", \"learnToolsVersion\": \"0.3.5\", \"failureMessage\": \"\", \"exceptionClass\": \"\", \"trace\": \"\"}}, \"*\")"
      ],
      "text/plain": [
       "<IPython.core.display.Javascript object>"
      ]
     },
     "metadata": {},
     "output_type": "display_data"
    },
    {
     "data": {
      "text/markdown": [
       "<span style=\"color:#33cc33\">Correct</span>"
      ],
      "text/plain": [
       "Correct"
      ]
     },
     "metadata": {},
     "output_type": "display_data"
    }
   ],
   "source": [
    "# DO not change: Define two Python strings\n",
    "alphabet = \"A.B.C.D.E.F.G.H.I.J.K.L.M.N.O.P.Q.R.S.T.U.V.W.X.Y.Z\"\n",
    "address = \"Mr. H. Potter,The cupboard under the Stairs,4 Privet Drive,Little Whinging,Surrey\"\n",
    "\n",
    "# TODO: Convert strings into Python lists\n",
    "letters = alphabet.split(\".\")\n",
    "formatted_address = address.split(\",\")\n",
    "\n",
    "# Do not change: Check your answer\n",
    "q3.check()"
   ]
  },
  {
   "cell_type": "code",
   "execution_count": 9,
   "id": "93d01c76",
   "metadata": {
    "execution": {
     "iopub.execute_input": "2025-05-30T10:38:56.804441Z",
     "iopub.status.busy": "2025-05-30T10:38:56.804191Z",
     "iopub.status.idle": "2025-05-30T10:38:56.807811Z",
     "shell.execute_reply": "2025-05-30T10:38:56.806971Z"
    },
    "papermill": {
     "duration": 0.009755,
     "end_time": "2025-05-30T10:38:56.809218",
     "exception": false,
     "start_time": "2025-05-30T10:38:56.799463",
     "status": "completed"
    },
    "tags": []
   },
   "outputs": [],
   "source": [
    "# Uncomment to see a hint\n",
    "#q3.hint()\n",
    "\n",
    "# Uncomment to see the solution\n",
    "#q3.solution()"
   ]
  },
  {
   "cell_type": "markdown",
   "id": "48fd0176",
   "metadata": {
    "papermill": {
     "duration": 0.003465,
     "end_time": "2025-05-30T10:38:56.816779",
     "exception": false,
     "start_time": "2025-05-30T10:38:56.813314",
     "status": "completed"
    },
    "tags": []
   },
   "source": [
    "# Question 4\n",
    "\n",
    "In the Python course, you'll learn all about **list comprehensions**, which allow you to create a list based on the values in another list.  In this question, you'll get a brief preview of how they work.\n",
    "\n",
    "Say we're working with the list below."
   ]
  },
  {
   "cell_type": "code",
   "execution_count": 10,
   "id": "bd695ddf",
   "metadata": {
    "execution": {
     "iopub.execute_input": "2025-05-30T10:38:56.825093Z",
     "iopub.status.busy": "2025-05-30T10:38:56.824834Z",
     "iopub.status.idle": "2025-05-30T10:38:56.828757Z",
     "shell.execute_reply": "2025-05-30T10:38:56.827889Z"
    },
    "papermill": {
     "duration": 0.009854,
     "end_time": "2025-05-30T10:38:56.830201",
     "exception": false,
     "start_time": "2025-05-30T10:38:56.820347",
     "status": "completed"
    },
    "tags": []
   },
   "outputs": [],
   "source": [
    "test_ratings = [1, 2, 3, 4, 5]"
   ]
  },
  {
   "cell_type": "markdown",
   "id": "dd752123",
   "metadata": {
    "papermill": {
     "duration": 0.003503,
     "end_time": "2025-05-30T10:38:56.837910",
     "exception": false,
     "start_time": "2025-05-30T10:38:56.834407",
     "status": "completed"
    },
    "tags": []
   },
   "source": [
    "Then we can use this list (`test_ratings`) to create a new list (`test_liked`) where each item has been turned into a boolean, depending on whether or not the item is greater than or equal to four."
   ]
  },
  {
   "cell_type": "code",
   "execution_count": 11,
   "id": "304797f4",
   "metadata": {
    "execution": {
     "iopub.execute_input": "2025-05-30T10:38:56.846586Z",
     "iopub.status.busy": "2025-05-30T10:38:56.846294Z",
     "iopub.status.idle": "2025-05-30T10:38:56.850945Z",
     "shell.execute_reply": "2025-05-30T10:38:56.850110Z"
    },
    "papermill": {
     "duration": 0.010942,
     "end_time": "2025-05-30T10:38:56.852410",
     "exception": false,
     "start_time": "2025-05-30T10:38:56.841468",
     "status": "completed"
    },
    "tags": []
   },
   "outputs": [
    {
     "name": "stdout",
     "output_type": "stream",
     "text": [
      "[False, False, False, True, True]\n"
     ]
    }
   ],
   "source": [
    "test_liked = [i>=4 for i in test_ratings]\n",
    "print(test_liked)"
   ]
  },
  {
   "cell_type": "markdown",
   "id": "9dd0cf08",
   "metadata": {
    "papermill": {
     "duration": 0.00377,
     "end_time": "2025-05-30T10:38:56.860499",
     "exception": false,
     "start_time": "2025-05-30T10:38:56.856729",
     "status": "completed"
    },
    "tags": []
   },
   "source": [
    "In this question, you'll use this list comprehension to define a function `percentage_liked()` that takes one argument as input:\n",
    "- `ratings`: list of ratings that people gave to a movie, where each rating is a number between 1-5, inclusive\n",
    "\n",
    "We say someone liked the movie, if they gave a rating of either 4 or 5.  Your function should return the percentage of people who liked the movie.\n",
    "\n",
    "For instance, if we supply a value of `[1, 2, 3, 4, 5, 4, 5, 1]`, then 50% (4/8) of the people liked the movie, and the function should return `0.5`.\n",
    "\n",
    "Part of the function has already been completed for you.  You need only use `list_liked` to calculate `percentage_liked`."
   ]
  },
  {
   "cell_type": "code",
   "execution_count": 12,
   "id": "c0c571e7",
   "metadata": {
    "execution": {
     "iopub.execute_input": "2025-05-30T10:38:56.869317Z",
     "iopub.status.busy": "2025-05-30T10:38:56.869067Z",
     "iopub.status.idle": "2025-05-30T10:38:56.876038Z",
     "shell.execute_reply": "2025-05-30T10:38:56.875429Z"
    },
    "papermill": {
     "duration": 0.012799,
     "end_time": "2025-05-30T10:38:56.877073",
     "exception": false,
     "start_time": "2025-05-30T10:38:56.864274",
     "status": "completed"
    },
    "tags": []
   },
   "outputs": [
    {
     "data": {
      "application/javascript": [
       "parent.postMessage({\"jupyterEvent\": \"custom.exercise_interaction\", \"data\": {\"outcomeType\": 1, \"valueTowardsCompletion\": 0.2, \"interactionType\": 1, \"questionType\": 2, \"questionId\": \"4_PercentageLiked\", \"learnToolsVersion\": \"0.3.5\", \"failureMessage\": \"\", \"exceptionClass\": \"\", \"trace\": \"\"}}, \"*\")"
      ],
      "text/plain": [
       "<IPython.core.display.Javascript object>"
      ]
     },
     "metadata": {},
     "output_type": "display_data"
    },
    {
     "data": {
      "text/markdown": [
       "<span style=\"color:#33cc33\">Correct</span>"
      ],
      "text/plain": [
       "Correct"
      ]
     },
     "metadata": {},
     "output_type": "display_data"
    }
   ],
   "source": [
    "def percentage_liked(ratings):\n",
    "    list_liked = [i>=4 for i in ratings]\n",
    "    # TODO: Complete the function\n",
    "    percentage_liked = sum(list_liked) / len(list_liked)\n",
    "    return percentage_liked\n",
    "\n",
    "# Do not change: should return 0.5\n",
    "percentage_liked([1, 2, 3, 4, 5, 4, 5, 1])\n",
    "\n",
    "# Do not change: Check your answer\n",
    "q4.check()"
   ]
  },
  {
   "cell_type": "code",
   "execution_count": 13,
   "id": "05409a09",
   "metadata": {
    "execution": {
     "iopub.execute_input": "2025-05-30T10:38:56.886610Z",
     "iopub.status.busy": "2025-05-30T10:38:56.886354Z",
     "iopub.status.idle": "2025-05-30T10:38:56.890941Z",
     "shell.execute_reply": "2025-05-30T10:38:56.889891Z"
    },
    "papermill": {
     "duration": 0.011263,
     "end_time": "2025-05-30T10:38:56.892640",
     "exception": false,
     "start_time": "2025-05-30T10:38:56.881377",
     "status": "completed"
    },
    "tags": []
   },
   "outputs": [],
   "source": [
    "# Uncomment to see a hint\n",
    "#q4.hint()\n",
    "\n",
    "# Uncomment to see the solution\n",
    "#q4.solution()"
   ]
  },
  {
   "cell_type": "markdown",
   "id": "133d37e9",
   "metadata": {
    "papermill": {
     "duration": 0.003656,
     "end_time": "2025-05-30T10:38:56.900737",
     "exception": false,
     "start_time": "2025-05-30T10:38:56.897081",
     "status": "completed"
    },
    "tags": []
   },
   "source": [
    "# 🌶️ Question 5\n",
    " \n",
    "Say you're doing analytics for a website.  You need to write a function that returns the percentage growth in the total number of users relative to a specified number of years ago.\n",
    "\n",
    "Your function `percentage_growth()` should take two arguments as input:\n",
    "- `num_users` = Python list with the total number of users each year.  So `num_users[0]` is the total number of users in the first year, `num_users[1]` is the total number of users in the second year, and so on.  The final entry in the list gives the total number of users in the most recently completed year.\n",
    "- `yrs_ago` = number of years to go back in time when calculating the growth percentage\n",
    "\n",
    "For instance, say `num_users = [920344, 1043553, 1204334, 1458996, 1503323, 1593432, 1623463, 1843064, 1930992, 2001078]`.\n",
    "- if `yrs_ago = 1`, we want the function to return a value of about `0.036`. This corresponds to a percentage growth of approximately 3.6%, calculated as (2001078 - 1930992)/1930992.\n",
    "- if `years_ago = 7`, we would want to return approximately `0.66`.  This corresponds to a percentage growth of approximately 66%, calculated as (2001078 - 1204334)/1204334.\n",
    "\n",
    "Your coworker sent you a draft of a function, but it doesn't seem to be doing the correct calculation.  Can you figure out what has gone wrong and make the needed changes?"
   ]
  },
  {
   "cell_type": "code",
   "execution_count": 14,
   "id": "238c48a9",
   "metadata": {
    "execution": {
     "iopub.execute_input": "2025-05-30T10:38:56.911843Z",
     "iopub.status.busy": "2025-05-30T10:38:56.911600Z",
     "iopub.status.idle": "2025-05-30T10:38:56.919959Z",
     "shell.execute_reply": "2025-05-30T10:38:56.919185Z"
    },
    "papermill": {
     "duration": 0.015684,
     "end_time": "2025-05-30T10:38:56.921458",
     "exception": false,
     "start_time": "2025-05-30T10:38:56.905774",
     "status": "completed"
    },
    "tags": []
   },
   "outputs": [
    {
     "name": "stdout",
     "output_type": "stream",
     "text": [
      "0.03629533421163837\n",
      "0.6615639847417742\n"
     ]
    },
    {
     "data": {
      "application/javascript": [
       "parent.postMessage({\"jupyterEvent\": \"custom.exercise_interaction\", \"data\": {\"outcomeType\": 1, \"valueTowardsCompletion\": 0.2, \"interactionType\": 1, \"questionType\": 2, \"questionId\": \"5_WebsiteAnalytics\", \"learnToolsVersion\": \"0.3.5\", \"failureMessage\": \"\", \"exceptionClass\": \"\", \"trace\": \"\"}}, \"*\")"
      ],
      "text/plain": [
       "<IPython.core.display.Javascript object>"
      ]
     },
     "metadata": {},
     "output_type": "display_data"
    },
    {
     "data": {
      "text/markdown": [
       "<span style=\"color:#33cc33\">Correct</span>"
      ],
      "text/plain": [
       "Correct"
      ]
     },
     "metadata": {},
     "output_type": "display_data"
    }
   ],
   "source": [
    "# TODO: Edit the function\n",
    "def percentage_growth(num_users, yrs_ago):\n",
    "    growth = (num_users[len(num_users)-1] - num_users[len(num_users)-yrs_ago-1])/num_users[len(num_users)-yrs_ago-1]\n",
    "    \n",
    "    # Alternative solution\n",
    "    # growth = (num_users[-1] - num_users[-yrs_ago-1])/num_users[-1-yrs_ago]\n",
    "    \n",
    "    return growth\n",
    "\n",
    "# Do not change: Variable for calculating some test examples\n",
    "num_users_test = [920344, 1043553, 1204334, 1458996, 1503323, 1593432, 1623463, 1843064, 1930992, 2001078]\n",
    "\n",
    "# Do not change: Should return .036\n",
    "print(percentage_growth(num_users_test, 1))\n",
    "\n",
    "# Do not change: Should return 0.66\n",
    "print(percentage_growth(num_users_test, 7))\n",
    "\n",
    "# Do not change: Check your answer\n",
    "q5.check()"
   ]
  },
  {
   "cell_type": "code",
   "execution_count": 15,
   "id": "83c434ff",
   "metadata": {
    "execution": {
     "iopub.execute_input": "2025-05-30T10:38:56.931105Z",
     "iopub.status.busy": "2025-05-30T10:38:56.930817Z",
     "iopub.status.idle": "2025-05-30T10:38:56.934533Z",
     "shell.execute_reply": "2025-05-30T10:38:56.933767Z"
    },
    "papermill": {
     "duration": 0.009581,
     "end_time": "2025-05-30T10:38:56.935559",
     "exception": false,
     "start_time": "2025-05-30T10:38:56.925978",
     "status": "completed"
    },
    "tags": []
   },
   "outputs": [],
   "source": [
    "# Uncomment to see a hint\n",
    "#q5.hint()\n",
    "\n",
    "# Uncomment to see the solution\n",
    "#q5.solution()"
   ]
  },
  {
   "cell_type": "markdown",
   "id": "bce18798",
   "metadata": {
    "papermill": {
     "duration": 0.003799,
     "end_time": "2025-05-30T10:38:56.943530",
     "exception": false,
     "start_time": "2025-05-30T10:38:56.939731",
     "status": "completed"
    },
    "tags": []
   },
   "source": [
    "# Congratulations!\n",
    "\n",
    "Congratulations for finishing the Intro to Programming course!  You should be proud of your very first steps with learning programming.  As next steps, we recommend taking:\n",
    "- the **[Python course](http://www.kaggle.com/learn/python)**, and \n",
    "- the **[Intro to Machine Learning course](https://www.kaggle.com/learn/intro-to-machine-learning)**."
   ]
  },
  {
   "cell_type": "markdown",
   "id": "6e4ac262",
   "metadata": {
    "papermill": {
     "duration": 0.003814,
     "end_time": "2025-05-30T10:38:56.951294",
     "exception": false,
     "start_time": "2025-05-30T10:38:56.947480",
     "status": "completed"
    },
    "tags": []
   },
   "source": [
    "---\n",
    "\n",
    "\n",
    "\n",
    "\n",
    "*Have questions or comments? Visit the [course discussion forum](https://www.kaggle.com/learn/intro-to-programming/discussion) to chat with other learners.*"
   ]
  }
 ],
 "metadata": {
  "kaggle": {
   "accelerator": "none",
   "dataSources": [],
   "isGpuEnabled": false,
   "isInternetEnabled": false,
   "language": "python",
   "sourceType": "notebook"
  },
  "kernelspec": {
   "display_name": "Python 3",
   "language": "python",
   "name": "python3"
  },
  "language_info": {
   "codemirror_mode": {
    "name": "ipython",
    "version": 3
   },
   "file_extension": ".py",
   "mimetype": "text/x-python",
   "name": "python",
   "nbconvert_exporter": "python",
   "pygments_lexer": "ipython3",
   "version": "3.11.11"
  },
  "papermill": {
   "default_parameters": {},
   "duration": 7.116701,
   "end_time": "2025-05-30T10:38:57.475623",
   "environment_variables": {},
   "exception": null,
   "input_path": "__notebook__.ipynb",
   "output_path": "__notebook__.ipynb",
   "parameters": {},
   "start_time": "2025-05-30T10:38:50.358922",
   "version": "2.6.0"
  }
 },
 "nbformat": 4,
 "nbformat_minor": 5
}
